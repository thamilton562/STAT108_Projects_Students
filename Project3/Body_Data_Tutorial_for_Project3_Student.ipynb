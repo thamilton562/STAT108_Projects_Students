{
  "nbformat": 4,
  "nbformat_minor": 0,
  "metadata": {
    "colab": {
      "provenance": []
    },
    "kernelspec": {
      "name": "python3",
      "display_name": "Python 3"
    },
    "language_info": {
      "name": "python"
    }
  },
  "cells": [
    {
      "cell_type": "markdown",
      "source": [
        "# **Body Data**"
      ],
      "metadata": {
        "id": "WOWuLyetinsJ"
      }
    },
    {
      "cell_type": "markdown",
      "source": [
        "# **Inference for the Population Proportion**\n"
      ],
      "metadata": {
        "id": "U7JAQ1iOyzty"
      }
    },
    {
      "cell_type": "markdown",
      "source": [
        "#### This tutorial is designed to help you complete Project 3, in which you will create a confidence interval and conduct a hypothesis test using the PMACC process.\n"
      ],
      "metadata": {
        "id": "qrUyro_WFH7v"
      }
    },
    {
      "cell_type": "markdown",
      "source": [
        "# **Importing Necessary Python Modules**\n",
        "\n",
        "Python incorporates a variety of open source add-ins called **modules** that add extra features to the basic setup. The name of the modules is after the `import` statement, and the purpose is in a non-code comment after the hashtag (#).\n",
        "\n"
      ],
      "metadata": {
        "id": "AxPB-FE5lQIX"
      }
    },
    {
      "cell_type": "code",
      "source": [
        "import pandas as pd                 #Data analysis\n",
        "import numpy as np                  #Calculations\n",
        "from IPython.display import Image   #Display images\n",
        "from scipy.stats import norm        #Confidence Interval"
      ],
      "metadata": {
        "id": "DIbfBAiwmTlf"
      },
      "execution_count": 1,
      "outputs": []
    },
    {
      "cell_type": "code",
      "source": [
        "# Replace 'image_url' with the URL of the image you want to display\n",
        "image_url = 'https://media.istockphoto.com/id/456054995/photo/dna-molecules-and-virtuvian-man.jpg?s=612x612&w=0&k=20&c=v5qZJ5Ty4RwDbyGRx_v-tYd1-LfTZwTi-Aend5Q_sqA='\n",
        "\n",
        "# Display the image\n",
        "Image(url=image_url)"
      ],
      "metadata": {
        "colab": {
          "base_uri": "https://localhost:8080/",
          "height": 429
        },
        "id": "zEZJc7AED4wy",
        "outputId": "493a90c4-2fd4-4b6c-8367-3f4363c91c70"
      },
      "execution_count": 2,
      "outputs": [
        {
          "output_type": "execute_result",
          "data": {
            "text/html": [
              "<img src=\"https://media.istockphoto.com/id/456054995/photo/dna-molecules-and-virtuvian-man.jpg?s=612x612&w=0&k=20&c=v5qZJ5Ty4RwDbyGRx_v-tYd1-LfTZwTi-Aend5Q_sqA=\"/>"
            ],
            "text/plain": [
              "<IPython.core.display.Image object>"
            ]
          },
          "metadata": {},
          "execution_count": 2
        }
      ]
    },
    {
      "cell_type": "markdown",
      "source": [
        "# **Context**\n",
        "\n",
        "The National Center for Health Statistics (NCHS) offers downloadable public-use data files through the Centers for Disease Control and Prevention's (CDC) FTP file server. Users of this service have access to data sets, documentation, and questionnaires from NCHS surveys and data collection systems.\n",
        "\n",
        "Public-use data files are prepared and disseminated to provide access to the full scope of the data. This allows researchers to manipulate the data in a format appropriate for their analyses. NCHS makes every effort to release data collected through its surveys and data systems in a timely manner.\n",
        "\n",
        "More information can be found at https://www.cdc.gov/nchs/data_access/ftp_data.htm.\n"
      ],
      "metadata": {
        "id": "XJjnfq1hitm8"
      }
    },
    {
      "cell_type": "markdown",
      "source": [
        "# **About the Dataset**\n",
        "\n",
        "This dataset contains 301 rows corresponding to a sample of Americans. A total of 16 variables are provided as listed below:"
      ],
      "metadata": {
        "id": "bQfu7EYxi7Md"
      }
    },
    {
      "cell_type": "markdown",
      "metadata": {
        "id": "XusIoTTPjC87"
      },
      "source": [
        "**Variables**\n",
        "\n",
        "| Column     | Description                                                                 |\n",
        "|------------|-----------------------------------------------------------------------------|\n",
        "| AGE        | Age in years|\n",
        "| GENDER     | Gender: 0=female, 1=male|\n",
        "| PULSE      | Pulse rate in beats per minute (bpm)|\n",
        "| SYSTOLIC   | Systolic blood pressure (mm Hg)|\n",
        "| DIASTOLIC  | Diastolic blood pressure (mm Hg)|\n",
        "| CATEGORY   | Blood Pressure Category based on the table below from the American Heart Association|\n",
        "| HDL        | HDL cholesterol (mg/dL)|\n",
        "| LDL        | LDL cholesterol (mg/dL)|\n",
        "| WHITE      | White blood cell count (1000 cells/µL) |\n",
        "| RED        | Red blood cell count (million cells/µL)|\n",
        "| PLATE      | Platelet count (1000 cells/µL)|\n",
        "| WEIGHT     | Weight (kg)|\n",
        "| HEIGHT     | Height (cm)|\n",
        "| WAIST      | Waist circumference (cm)|\n",
        "| ARM CIRC   | Arm circumference (cm)|\n",
        "| BMI        | Body mass index (kg/m²)|"
      ]
    },
    {
      "cell_type": "markdown",
      "source": [
        "# **Blood Pressure Category Table**\n",
        "\n",
        "The table below from the American Heart Association classifies blood pressure into five (5) categories based on a combination of the individual's systolic and diastolic blood pressure."
      ],
      "metadata": {
        "id": "K6Ec7iTdr-ry"
      }
    },
    {
      "cell_type": "code",
      "execution_count": 3,
      "metadata": {
        "colab": {
          "base_uri": "https://localhost:8080/",
          "height": 391
        },
        "outputId": "9db38a4b-714d-4ddb-937b-f258fc52e22d",
        "id": "M58NT0yaoQxP"
      },
      "outputs": [
        {
          "output_type": "execute_result",
          "data": {
            "text/html": [
              "<img src=\"https://www.heart.org/-/media/Images/Health-Topics/High-Blood-Pressure/Rainbow-Chart/blood-pressure-readings-chart.jpg?h=294&iar=0&mw=440&w=440&sc_lang=en\"/>"
            ],
            "text/plain": [
              "<IPython.core.display.Image object>"
            ]
          },
          "metadata": {},
          "execution_count": 3
        }
      ],
      "source": [
        "# Replace 'image_url' with the URL of the image you want to display\n",
        "image_url = 'https://www.heart.org/-/media/Images/Health-Topics/High-Blood-Pressure/Rainbow-Chart/blood-pressure-readings-chart.jpg?h=294&iar=0&mw=440&w=440&sc_lang=en'\n",
        "\n",
        "# Display the image\n",
        "Image(url=image_url)\n"
      ]
    },
    {
      "cell_type": "markdown",
      "metadata": {
        "id": "DbJUgXG2EzTd"
      },
      "source": [
        "# **A Snippet of the Data**\n",
        "\n",
        "We can view a snippet of the data by first importing it directly from the url below.\n"
      ]
    },
    {
      "cell_type": "code",
      "source": [
        "# Assign the name of the web address to 'url'\n",
        "url=\"https://raw.githubusercontent.com/thamilton562/STAT108_Projects_Students/main/Project1/Body%20Data.csv\"\n",
        "\n",
        "# df stands for data frame, which is what the raw data is referred as.\n",
        "# This code reads in the data file from the address specified in 'url'\n",
        "df=pd.read_csv(url)"
      ],
      "metadata": {
        "id": "TH9hHi05Rlxt"
      },
      "execution_count": 4,
      "outputs": []
    },
    {
      "cell_type": "markdown",
      "source": [
        "Next, we can display the data by *typing the name* of the DataFrame. To ensure we can see all columns, we'll use the *pd.set_option* method."
      ],
      "metadata": {
        "id": "cj8T9vdrimYo"
      }
    },
    {
      "cell_type": "code",
      "source": [
        "# Set display options to show all columns\n",
        "pd.set_option('display.max_columns', None)\n",
        "df"
      ],
      "metadata": {
        "colab": {
          "base_uri": "https://localhost:8080/",
          "height": 510
        },
        "id": "YT5tP1d8pQli",
        "outputId": "45f38c0a-9869-474a-f968-4990f9c36db0"
      },
      "execution_count": 5,
      "outputs": [
        {
          "output_type": "execute_result",
          "data": {
            "text/plain": [
              "     AGE  GENDER (1=M)  PULSE  SYSTOLIC  DIASTOLIC              CATEGORY  HDL  \\\n",
              "0     43             0     80       100         70                NORMAL   73   \n",
              "1     38             0     94       134         94  HYPERTENSION STAGE 2   36   \n",
              "2     69             0     58       138         80  HYPERTENSION STAGE 1   40   \n",
              "3     44             0     66       114         66                NORMAL   45   \n",
              "4     72             0     56       110         72                NORMAL   53   \n",
              "..   ...           ...    ...       ...        ...                   ...  ...   \n",
              "295   18             1     72       106         44                NORMAL   40   \n",
              "296   67             1     62       136         82  HYPERTENSION STAGE 1   39   \n",
              "297   24             1     94        96         62                NORMAL   43   \n",
              "298   53             1     86       132         74  HYPERTENSION STAGE 1   42   \n",
              "299   31             1     90       104         70                NORMAL   64   \n",
              "\n",
              "     LDL  WHITE   RED  PLATE  WEIGHT  HEIGHT  WAIST  ARM CIRC   BMI  \n",
              "0     68    8.7  4.80    319    98.6   172.0  120.4      40.7  33.3  \n",
              "1    223    6.9  4.47    297   108.2   154.4  120.3      44.3  45.4  \n",
              "2    140    8.1  4.60    286    79.2   155.7  103.5      34.2  32.7  \n",
              "3    136    8.0  4.09    263    64.2   157.6   89.7      32.5  25.8  \n",
              "4    102    6.9  4.15    215    98.2   168.6  115.3      38.5  34.5  \n",
              "..   ...    ...   ...    ...     ...     ...    ...       ...   ...  \n",
              "295  124    4.0  5.17    221    71.6   172.8   78.1      31.0  24.0  \n",
              "296   62    7.7  3.90    305   110.2   169.1  125.5      39.0  38.5  \n",
              "297  102    7.0  5.29    260    56.3   162.7   78.4      27.9  21.3  \n",
              "298  112    8.4  4.07     75   102.6   181.0  117.7      36.5  31.3  \n",
              "299  112    6.0  5.07    197    56.4   165.4   74.0      26.5  20.6  \n",
              "\n",
              "[300 rows x 16 columns]"
            ],
            "text/html": [
              "\n",
              "  <div id=\"df-67d3cce0-1794-44ab-8e72-45595eedda59\" class=\"colab-df-container\">\n",
              "    <div>\n",
              "<style scoped>\n",
              "    .dataframe tbody tr th:only-of-type {\n",
              "        vertical-align: middle;\n",
              "    }\n",
              "\n",
              "    .dataframe tbody tr th {\n",
              "        vertical-align: top;\n",
              "    }\n",
              "\n",
              "    .dataframe thead th {\n",
              "        text-align: right;\n",
              "    }\n",
              "</style>\n",
              "<table border=\"1\" class=\"dataframe\">\n",
              "  <thead>\n",
              "    <tr style=\"text-align: right;\">\n",
              "      <th></th>\n",
              "      <th>AGE</th>\n",
              "      <th>GENDER (1=M)</th>\n",
              "      <th>PULSE</th>\n",
              "      <th>SYSTOLIC</th>\n",
              "      <th>DIASTOLIC</th>\n",
              "      <th>CATEGORY</th>\n",
              "      <th>HDL</th>\n",
              "      <th>LDL</th>\n",
              "      <th>WHITE</th>\n",
              "      <th>RED</th>\n",
              "      <th>PLATE</th>\n",
              "      <th>WEIGHT</th>\n",
              "      <th>HEIGHT</th>\n",
              "      <th>WAIST</th>\n",
              "      <th>ARM CIRC</th>\n",
              "      <th>BMI</th>\n",
              "    </tr>\n",
              "  </thead>\n",
              "  <tbody>\n",
              "    <tr>\n",
              "      <th>0</th>\n",
              "      <td>43</td>\n",
              "      <td>0</td>\n",
              "      <td>80</td>\n",
              "      <td>100</td>\n",
              "      <td>70</td>\n",
              "      <td>NORMAL</td>\n",
              "      <td>73</td>\n",
              "      <td>68</td>\n",
              "      <td>8.7</td>\n",
              "      <td>4.80</td>\n",
              "      <td>319</td>\n",
              "      <td>98.6</td>\n",
              "      <td>172.0</td>\n",
              "      <td>120.4</td>\n",
              "      <td>40.7</td>\n",
              "      <td>33.3</td>\n",
              "    </tr>\n",
              "    <tr>\n",
              "      <th>1</th>\n",
              "      <td>38</td>\n",
              "      <td>0</td>\n",
              "      <td>94</td>\n",
              "      <td>134</td>\n",
              "      <td>94</td>\n",
              "      <td>HYPERTENSION STAGE 2</td>\n",
              "      <td>36</td>\n",
              "      <td>223</td>\n",
              "      <td>6.9</td>\n",
              "      <td>4.47</td>\n",
              "      <td>297</td>\n",
              "      <td>108.2</td>\n",
              "      <td>154.4</td>\n",
              "      <td>120.3</td>\n",
              "      <td>44.3</td>\n",
              "      <td>45.4</td>\n",
              "    </tr>\n",
              "    <tr>\n",
              "      <th>2</th>\n",
              "      <td>69</td>\n",
              "      <td>0</td>\n",
              "      <td>58</td>\n",
              "      <td>138</td>\n",
              "      <td>80</td>\n",
              "      <td>HYPERTENSION STAGE 1</td>\n",
              "      <td>40</td>\n",
              "      <td>140</td>\n",
              "      <td>8.1</td>\n",
              "      <td>4.60</td>\n",
              "      <td>286</td>\n",
              "      <td>79.2</td>\n",
              "      <td>155.7</td>\n",
              "      <td>103.5</td>\n",
              "      <td>34.2</td>\n",
              "      <td>32.7</td>\n",
              "    </tr>\n",
              "    <tr>\n",
              "      <th>3</th>\n",
              "      <td>44</td>\n",
              "      <td>0</td>\n",
              "      <td>66</td>\n",
              "      <td>114</td>\n",
              "      <td>66</td>\n",
              "      <td>NORMAL</td>\n",
              "      <td>45</td>\n",
              "      <td>136</td>\n",
              "      <td>8.0</td>\n",
              "      <td>4.09</td>\n",
              "      <td>263</td>\n",
              "      <td>64.2</td>\n",
              "      <td>157.6</td>\n",
              "      <td>89.7</td>\n",
              "      <td>32.5</td>\n",
              "      <td>25.8</td>\n",
              "    </tr>\n",
              "    <tr>\n",
              "      <th>4</th>\n",
              "      <td>72</td>\n",
              "      <td>0</td>\n",
              "      <td>56</td>\n",
              "      <td>110</td>\n",
              "      <td>72</td>\n",
              "      <td>NORMAL</td>\n",
              "      <td>53</td>\n",
              "      <td>102</td>\n",
              "      <td>6.9</td>\n",
              "      <td>4.15</td>\n",
              "      <td>215</td>\n",
              "      <td>98.2</td>\n",
              "      <td>168.6</td>\n",
              "      <td>115.3</td>\n",
              "      <td>38.5</td>\n",
              "      <td>34.5</td>\n",
              "    </tr>\n",
              "    <tr>\n",
              "      <th>...</th>\n",
              "      <td>...</td>\n",
              "      <td>...</td>\n",
              "      <td>...</td>\n",
              "      <td>...</td>\n",
              "      <td>...</td>\n",
              "      <td>...</td>\n",
              "      <td>...</td>\n",
              "      <td>...</td>\n",
              "      <td>...</td>\n",
              "      <td>...</td>\n",
              "      <td>...</td>\n",
              "      <td>...</td>\n",
              "      <td>...</td>\n",
              "      <td>...</td>\n",
              "      <td>...</td>\n",
              "      <td>...</td>\n",
              "    </tr>\n",
              "    <tr>\n",
              "      <th>295</th>\n",
              "      <td>18</td>\n",
              "      <td>1</td>\n",
              "      <td>72</td>\n",
              "      <td>106</td>\n",
              "      <td>44</td>\n",
              "      <td>NORMAL</td>\n",
              "      <td>40</td>\n",
              "      <td>124</td>\n",
              "      <td>4.0</td>\n",
              "      <td>5.17</td>\n",
              "      <td>221</td>\n",
              "      <td>71.6</td>\n",
              "      <td>172.8</td>\n",
              "      <td>78.1</td>\n",
              "      <td>31.0</td>\n",
              "      <td>24.0</td>\n",
              "    </tr>\n",
              "    <tr>\n",
              "      <th>296</th>\n",
              "      <td>67</td>\n",
              "      <td>1</td>\n",
              "      <td>62</td>\n",
              "      <td>136</td>\n",
              "      <td>82</td>\n",
              "      <td>HYPERTENSION STAGE 1</td>\n",
              "      <td>39</td>\n",
              "      <td>62</td>\n",
              "      <td>7.7</td>\n",
              "      <td>3.90</td>\n",
              "      <td>305</td>\n",
              "      <td>110.2</td>\n",
              "      <td>169.1</td>\n",
              "      <td>125.5</td>\n",
              "      <td>39.0</td>\n",
              "      <td>38.5</td>\n",
              "    </tr>\n",
              "    <tr>\n",
              "      <th>297</th>\n",
              "      <td>24</td>\n",
              "      <td>1</td>\n",
              "      <td>94</td>\n",
              "      <td>96</td>\n",
              "      <td>62</td>\n",
              "      <td>NORMAL</td>\n",
              "      <td>43</td>\n",
              "      <td>102</td>\n",
              "      <td>7.0</td>\n",
              "      <td>5.29</td>\n",
              "      <td>260</td>\n",
              "      <td>56.3</td>\n",
              "      <td>162.7</td>\n",
              "      <td>78.4</td>\n",
              "      <td>27.9</td>\n",
              "      <td>21.3</td>\n",
              "    </tr>\n",
              "    <tr>\n",
              "      <th>298</th>\n",
              "      <td>53</td>\n",
              "      <td>1</td>\n",
              "      <td>86</td>\n",
              "      <td>132</td>\n",
              "      <td>74</td>\n",
              "      <td>HYPERTENSION STAGE 1</td>\n",
              "      <td>42</td>\n",
              "      <td>112</td>\n",
              "      <td>8.4</td>\n",
              "      <td>4.07</td>\n",
              "      <td>75</td>\n",
              "      <td>102.6</td>\n",
              "      <td>181.0</td>\n",
              "      <td>117.7</td>\n",
              "      <td>36.5</td>\n",
              "      <td>31.3</td>\n",
              "    </tr>\n",
              "    <tr>\n",
              "      <th>299</th>\n",
              "      <td>31</td>\n",
              "      <td>1</td>\n",
              "      <td>90</td>\n",
              "      <td>104</td>\n",
              "      <td>70</td>\n",
              "      <td>NORMAL</td>\n",
              "      <td>64</td>\n",
              "      <td>112</td>\n",
              "      <td>6.0</td>\n",
              "      <td>5.07</td>\n",
              "      <td>197</td>\n",
              "      <td>56.4</td>\n",
              "      <td>165.4</td>\n",
              "      <td>74.0</td>\n",
              "      <td>26.5</td>\n",
              "      <td>20.6</td>\n",
              "    </tr>\n",
              "  </tbody>\n",
              "</table>\n",
              "<p>300 rows × 16 columns</p>\n",
              "</div>\n",
              "    <div class=\"colab-df-buttons\">\n",
              "\n",
              "  <div class=\"colab-df-container\">\n",
              "    <button class=\"colab-df-convert\" onclick=\"convertToInteractive('df-67d3cce0-1794-44ab-8e72-45595eedda59')\"\n",
              "            title=\"Convert this dataframe to an interactive table.\"\n",
              "            style=\"display:none;\">\n",
              "\n",
              "  <svg xmlns=\"http://www.w3.org/2000/svg\" height=\"24px\" viewBox=\"0 -960 960 960\">\n",
              "    <path d=\"M120-120v-720h720v720H120Zm60-500h600v-160H180v160Zm220 220h160v-160H400v160Zm0 220h160v-160H400v160ZM180-400h160v-160H180v160Zm440 0h160v-160H620v160ZM180-180h160v-160H180v160Zm440 0h160v-160H620v160Z\"/>\n",
              "  </svg>\n",
              "    </button>\n",
              "\n",
              "  <style>\n",
              "    .colab-df-container {\n",
              "      display:flex;\n",
              "      gap: 12px;\n",
              "    }\n",
              "\n",
              "    .colab-df-convert {\n",
              "      background-color: #E8F0FE;\n",
              "      border: none;\n",
              "      border-radius: 50%;\n",
              "      cursor: pointer;\n",
              "      display: none;\n",
              "      fill: #1967D2;\n",
              "      height: 32px;\n",
              "      padding: 0 0 0 0;\n",
              "      width: 32px;\n",
              "    }\n",
              "\n",
              "    .colab-df-convert:hover {\n",
              "      background-color: #E2EBFA;\n",
              "      box-shadow: 0px 1px 2px rgba(60, 64, 67, 0.3), 0px 1px 3px 1px rgba(60, 64, 67, 0.15);\n",
              "      fill: #174EA6;\n",
              "    }\n",
              "\n",
              "    .colab-df-buttons div {\n",
              "      margin-bottom: 4px;\n",
              "    }\n",
              "\n",
              "    [theme=dark] .colab-df-convert {\n",
              "      background-color: #3B4455;\n",
              "      fill: #D2E3FC;\n",
              "    }\n",
              "\n",
              "    [theme=dark] .colab-df-convert:hover {\n",
              "      background-color: #434B5C;\n",
              "      box-shadow: 0px 1px 3px 1px rgba(0, 0, 0, 0.15);\n",
              "      filter: drop-shadow(0px 1px 2px rgba(0, 0, 0, 0.3));\n",
              "      fill: #FFFFFF;\n",
              "    }\n",
              "  </style>\n",
              "\n",
              "    <script>\n",
              "      const buttonEl =\n",
              "        document.querySelector('#df-67d3cce0-1794-44ab-8e72-45595eedda59 button.colab-df-convert');\n",
              "      buttonEl.style.display =\n",
              "        google.colab.kernel.accessAllowed ? 'block' : 'none';\n",
              "\n",
              "      async function convertToInteractive(key) {\n",
              "        const element = document.querySelector('#df-67d3cce0-1794-44ab-8e72-45595eedda59');\n",
              "        const dataTable =\n",
              "          await google.colab.kernel.invokeFunction('convertToInteractive',\n",
              "                                                    [key], {});\n",
              "        if (!dataTable) return;\n",
              "\n",
              "        const docLinkHtml = 'Like what you see? Visit the ' +\n",
              "          '<a target=\"_blank\" href=https://colab.research.google.com/notebooks/data_table.ipynb>data table notebook</a>'\n",
              "          + ' to learn more about interactive tables.';\n",
              "        element.innerHTML = '';\n",
              "        dataTable['output_type'] = 'display_data';\n",
              "        await google.colab.output.renderOutput(dataTable, element);\n",
              "        const docLink = document.createElement('div');\n",
              "        docLink.innerHTML = docLinkHtml;\n",
              "        element.appendChild(docLink);\n",
              "      }\n",
              "    </script>\n",
              "  </div>\n",
              "\n",
              "\n",
              "<div id=\"df-2c6a8637-94b6-457d-947e-674390163d2c\">\n",
              "  <button class=\"colab-df-quickchart\" onclick=\"quickchart('df-2c6a8637-94b6-457d-947e-674390163d2c')\"\n",
              "            title=\"Suggest charts\"\n",
              "            style=\"display:none;\">\n",
              "\n",
              "<svg xmlns=\"http://www.w3.org/2000/svg\" height=\"24px\"viewBox=\"0 0 24 24\"\n",
              "     width=\"24px\">\n",
              "    <g>\n",
              "        <path d=\"M19 3H5c-1.1 0-2 .9-2 2v14c0 1.1.9 2 2 2h14c1.1 0 2-.9 2-2V5c0-1.1-.9-2-2-2zM9 17H7v-7h2v7zm4 0h-2V7h2v10zm4 0h-2v-4h2v4z\"/>\n",
              "    </g>\n",
              "</svg>\n",
              "  </button>\n",
              "\n",
              "<style>\n",
              "  .colab-df-quickchart {\n",
              "      --bg-color: #E8F0FE;\n",
              "      --fill-color: #1967D2;\n",
              "      --hover-bg-color: #E2EBFA;\n",
              "      --hover-fill-color: #174EA6;\n",
              "      --disabled-fill-color: #AAA;\n",
              "      --disabled-bg-color: #DDD;\n",
              "  }\n",
              "\n",
              "  [theme=dark] .colab-df-quickchart {\n",
              "      --bg-color: #3B4455;\n",
              "      --fill-color: #D2E3FC;\n",
              "      --hover-bg-color: #434B5C;\n",
              "      --hover-fill-color: #FFFFFF;\n",
              "      --disabled-bg-color: #3B4455;\n",
              "      --disabled-fill-color: #666;\n",
              "  }\n",
              "\n",
              "  .colab-df-quickchart {\n",
              "    background-color: var(--bg-color);\n",
              "    border: none;\n",
              "    border-radius: 50%;\n",
              "    cursor: pointer;\n",
              "    display: none;\n",
              "    fill: var(--fill-color);\n",
              "    height: 32px;\n",
              "    padding: 0;\n",
              "    width: 32px;\n",
              "  }\n",
              "\n",
              "  .colab-df-quickchart:hover {\n",
              "    background-color: var(--hover-bg-color);\n",
              "    box-shadow: 0 1px 2px rgba(60, 64, 67, 0.3), 0 1px 3px 1px rgba(60, 64, 67, 0.15);\n",
              "    fill: var(--button-hover-fill-color);\n",
              "  }\n",
              "\n",
              "  .colab-df-quickchart-complete:disabled,\n",
              "  .colab-df-quickchart-complete:disabled:hover {\n",
              "    background-color: var(--disabled-bg-color);\n",
              "    fill: var(--disabled-fill-color);\n",
              "    box-shadow: none;\n",
              "  }\n",
              "\n",
              "  .colab-df-spinner {\n",
              "    border: 2px solid var(--fill-color);\n",
              "    border-color: transparent;\n",
              "    border-bottom-color: var(--fill-color);\n",
              "    animation:\n",
              "      spin 1s steps(1) infinite;\n",
              "  }\n",
              "\n",
              "  @keyframes spin {\n",
              "    0% {\n",
              "      border-color: transparent;\n",
              "      border-bottom-color: var(--fill-color);\n",
              "      border-left-color: var(--fill-color);\n",
              "    }\n",
              "    20% {\n",
              "      border-color: transparent;\n",
              "      border-left-color: var(--fill-color);\n",
              "      border-top-color: var(--fill-color);\n",
              "    }\n",
              "    30% {\n",
              "      border-color: transparent;\n",
              "      border-left-color: var(--fill-color);\n",
              "      border-top-color: var(--fill-color);\n",
              "      border-right-color: var(--fill-color);\n",
              "    }\n",
              "    40% {\n",
              "      border-color: transparent;\n",
              "      border-right-color: var(--fill-color);\n",
              "      border-top-color: var(--fill-color);\n",
              "    }\n",
              "    60% {\n",
              "      border-color: transparent;\n",
              "      border-right-color: var(--fill-color);\n",
              "    }\n",
              "    80% {\n",
              "      border-color: transparent;\n",
              "      border-right-color: var(--fill-color);\n",
              "      border-bottom-color: var(--fill-color);\n",
              "    }\n",
              "    90% {\n",
              "      border-color: transparent;\n",
              "      border-bottom-color: var(--fill-color);\n",
              "    }\n",
              "  }\n",
              "</style>\n",
              "\n",
              "  <script>\n",
              "    async function quickchart(key) {\n",
              "      const quickchartButtonEl =\n",
              "        document.querySelector('#' + key + ' button');\n",
              "      quickchartButtonEl.disabled = true;  // To prevent multiple clicks.\n",
              "      quickchartButtonEl.classList.add('colab-df-spinner');\n",
              "      try {\n",
              "        const charts = await google.colab.kernel.invokeFunction(\n",
              "            'suggestCharts', [key], {});\n",
              "      } catch (error) {\n",
              "        console.error('Error during call to suggestCharts:', error);\n",
              "      }\n",
              "      quickchartButtonEl.classList.remove('colab-df-spinner');\n",
              "      quickchartButtonEl.classList.add('colab-df-quickchart-complete');\n",
              "    }\n",
              "    (() => {\n",
              "      let quickchartButtonEl =\n",
              "        document.querySelector('#df-2c6a8637-94b6-457d-947e-674390163d2c button');\n",
              "      quickchartButtonEl.style.display =\n",
              "        google.colab.kernel.accessAllowed ? 'block' : 'none';\n",
              "    })();\n",
              "  </script>\n",
              "</div>\n",
              "\n",
              "  <div id=\"id_53311298-abd6-4ae3-9176-dcecaaa94bee\">\n",
              "    <style>\n",
              "      .colab-df-generate {\n",
              "        background-color: #E8F0FE;\n",
              "        border: none;\n",
              "        border-radius: 50%;\n",
              "        cursor: pointer;\n",
              "        display: none;\n",
              "        fill: #1967D2;\n",
              "        height: 32px;\n",
              "        padding: 0 0 0 0;\n",
              "        width: 32px;\n",
              "      }\n",
              "\n",
              "      .colab-df-generate:hover {\n",
              "        background-color: #E2EBFA;\n",
              "        box-shadow: 0px 1px 2px rgba(60, 64, 67, 0.3), 0px 1px 3px 1px rgba(60, 64, 67, 0.15);\n",
              "        fill: #174EA6;\n",
              "      }\n",
              "\n",
              "      [theme=dark] .colab-df-generate {\n",
              "        background-color: #3B4455;\n",
              "        fill: #D2E3FC;\n",
              "      }\n",
              "\n",
              "      [theme=dark] .colab-df-generate:hover {\n",
              "        background-color: #434B5C;\n",
              "        box-shadow: 0px 1px 3px 1px rgba(0, 0, 0, 0.15);\n",
              "        filter: drop-shadow(0px 1px 2px rgba(0, 0, 0, 0.3));\n",
              "        fill: #FFFFFF;\n",
              "      }\n",
              "    </style>\n",
              "    <button class=\"colab-df-generate\" onclick=\"generateWithVariable('df')\"\n",
              "            title=\"Generate code using this dataframe.\"\n",
              "            style=\"display:none;\">\n",
              "\n",
              "  <svg xmlns=\"http://www.w3.org/2000/svg\" height=\"24px\"viewBox=\"0 0 24 24\"\n",
              "       width=\"24px\">\n",
              "    <path d=\"M7,19H8.4L18.45,9,17,7.55,7,17.6ZM5,21V16.75L18.45,3.32a2,2,0,0,1,2.83,0l1.4,1.43a1.91,1.91,0,0,1,.58,1.4,1.91,1.91,0,0,1-.58,1.4L9.25,21ZM18.45,9,17,7.55Zm-12,3A5.31,5.31,0,0,0,4.9,8.1,5.31,5.31,0,0,0,1,6.5,5.31,5.31,0,0,0,4.9,4.9,5.31,5.31,0,0,0,6.5,1,5.31,5.31,0,0,0,8.1,4.9,5.31,5.31,0,0,0,12,6.5,5.46,5.46,0,0,0,6.5,12Z\"/>\n",
              "  </svg>\n",
              "    </button>\n",
              "    <script>\n",
              "      (() => {\n",
              "      const buttonEl =\n",
              "        document.querySelector('#id_53311298-abd6-4ae3-9176-dcecaaa94bee button.colab-df-generate');\n",
              "      buttonEl.style.display =\n",
              "        google.colab.kernel.accessAllowed ? 'block' : 'none';\n",
              "\n",
              "      buttonEl.onclick = () => {\n",
              "        google.colab.notebook.generateWithVariable('df');\n",
              "      }\n",
              "      })();\n",
              "    </script>\n",
              "  </div>\n",
              "\n",
              "    </div>\n",
              "  </div>\n"
            ],
            "application/vnd.google.colaboratory.intrinsic+json": {
              "type": "dataframe",
              "variable_name": "df",
              "summary": "{\n  \"name\": \"df\",\n  \"rows\": 300,\n  \"fields\": [\n    {\n      \"column\": \"AGE\",\n      \"properties\": {\n        \"dtype\": \"number\",\n        \"std\": 18,\n        \"min\": 18,\n        \"max\": 80,\n        \"num_unique_values\": 61,\n        \"samples\": [\n          43,\n          37,\n          27\n        ],\n        \"semantic_type\": \"\",\n        \"description\": \"\"\n      }\n    },\n    {\n      \"column\": \"GENDER (1=M)\",\n      \"properties\": {\n        \"dtype\": \"number\",\n        \"std\": 0,\n        \"min\": 0,\n        \"max\": 1,\n        \"num_unique_values\": 2,\n        \"samples\": [\n          1,\n          0\n        ],\n        \"semantic_type\": \"\",\n        \"description\": \"\"\n      }\n    },\n    {\n      \"column\": \"PULSE\",\n      \"properties\": {\n        \"dtype\": \"number\",\n        \"std\": 12,\n        \"min\": 36,\n        \"max\": 104,\n        \"num_unique_values\": 32,\n        \"samples\": [\n          40,\n          74\n        ],\n        \"semantic_type\": \"\",\n        \"description\": \"\"\n      }\n    },\n    {\n      \"column\": \"SYSTOLIC\",\n      \"properties\": {\n        \"dtype\": \"number\",\n        \"std\": 15,\n        \"min\": 88,\n        \"max\": 186,\n        \"num_unique_values\": 39,\n        \"samples\": [\n          150,\n          162\n        ],\n        \"semantic_type\": \"\",\n        \"description\": \"\"\n      }\n    },\n    {\n      \"column\": \"DIASTOLIC\",\n      \"properties\": {\n        \"dtype\": \"number\",\n        \"std\": 11,\n        \"min\": 40,\n        \"max\": 102,\n        \"num_unique_values\": 31,\n        \"samples\": [\n          96,\n          90\n        ],\n        \"semantic_type\": \"\",\n        \"description\": \"\"\n      }\n    },\n    {\n      \"column\": \"CATEGORY\",\n      \"properties\": {\n        \"dtype\": \"category\",\n        \"num_unique_values\": 5,\n        \"samples\": [\n          \"HYPERTENSION STAGE 2\",\n          \"HYPERTENSIVE CRISIS\"\n        ],\n        \"semantic_type\": \"\",\n        \"description\": \"\"\n      }\n    },\n    {\n      \"column\": \"HDL\",\n      \"properties\": {\n        \"dtype\": \"number\",\n        \"std\": 15,\n        \"min\": 26,\n        \"max\": 138,\n        \"num_unique_values\": 65,\n        \"samples\": [\n          34,\n          113\n        ],\n        \"semantic_type\": \"\",\n        \"description\": \"\"\n      }\n    },\n    {\n      \"column\": \"LDL\",\n      \"properties\": {\n        \"dtype\": \"number\",\n        \"std\": 35,\n        \"min\": 39,\n        \"max\": 251,\n        \"num_unique_values\": 128,\n        \"samples\": [\n          162,\n          137\n        ],\n        \"semantic_type\": \"\",\n        \"description\": \"\"\n      }\n    },\n    {\n      \"column\": \"WHITE\",\n      \"properties\": {\n        \"dtype\": \"number\",\n        \"std\": 1.9100091637408803,\n        \"min\": 2.7,\n        \"max\": 14.3,\n        \"num_unique_values\": 82,\n        \"samples\": [\n          8.4,\n          8.7\n        ],\n        \"semantic_type\": \"\",\n        \"description\": \"\"\n      }\n    },\n    {\n      \"column\": \"RED\",\n      \"properties\": {\n        \"dtype\": \"number\",\n        \"std\": 0.48460998236269764,\n        \"min\": 3.39,\n        \"max\": 6.34,\n        \"num_unique_values\": 146,\n        \"samples\": [\n          4.18,\n          5.08\n        ],\n        \"semantic_type\": \"\",\n        \"description\": \"\"\n      }\n    },\n    {\n      \"column\": \"PLATE\",\n      \"properties\": {\n        \"dtype\": \"number\",\n        \"std\": 64,\n        \"min\": 75,\n        \"max\": 646,\n        \"num_unique_values\": 166,\n        \"samples\": [\n          306,\n          256\n        ],\n        \"semantic_type\": \"\",\n        \"description\": \"\"\n      }\n    },\n    {\n      \"column\": \"WEIGHT\",\n      \"properties\": {\n        \"dtype\": \"number\",\n        \"std\": 19.675181552384373,\n        \"min\": 39.0,\n        \"max\": 150.4,\n        \"num_unique_values\": 249,\n        \"samples\": [\n          83.1,\n          76.1\n        ],\n        \"semantic_type\": \"\",\n        \"description\": \"\"\n      }\n    },\n    {\n      \"column\": \"HEIGHT\",\n      \"properties\": {\n        \"dtype\": \"number\",\n        \"std\": 9.579338476169722,\n        \"min\": 134.5,\n        \"max\": 193.3,\n        \"num_unique_values\": 204,\n        \"samples\": [\n          154.9,\n          155.6\n        ],\n        \"semantic_type\": \"\",\n        \"description\": \"\"\n      }\n    },\n    {\n      \"column\": \"WAIST\",\n      \"properties\": {\n        \"dtype\": \"number\",\n        \"std\": 16.477337143889482,\n        \"min\": 64.4,\n        \"max\": 170.5,\n        \"num_unique_values\": 224,\n        \"samples\": [\n          110.0,\n          80.4\n        ],\n        \"semantic_type\": \"\",\n        \"description\": \"\"\n      }\n    },\n    {\n      \"column\": \"ARM CIRC\",\n      \"properties\": {\n        \"dtype\": \"number\",\n        \"std\": 4.81503677584412,\n        \"min\": 20.5,\n        \"max\": 46.6,\n        \"num_unique_values\": 145,\n        \"samples\": [\n          24.0,\n          40.3\n        ],\n        \"semantic_type\": \"\",\n        \"description\": \"\"\n      }\n    },\n    {\n      \"column\": \"BMI\",\n      \"properties\": {\n        \"dtype\": \"number\",\n        \"std\": 6.74670348505647,\n        \"min\": 15.9,\n        \"max\": 59.0,\n        \"num_unique_values\": 169,\n        \"samples\": [\n          31.5,\n          34.2\n        ],\n        \"semantic_type\": \"\",\n        \"description\": \"\"\n      }\n    }\n  ]\n}"
            }
          },
          "metadata": {},
          "execution_count": 5
        }
      ]
    },
    {
      "cell_type": "markdown",
      "source": [
        "# **INSTRUCTIONS**\n",
        "\n",
        "* Use Python to analyze the data set and complete each of the following.\n",
        "* **Replace ellipsis (...)** with the relavent names or code.  \n",
        "* For problems that require a written response, **double click** the text box to start typing."
      ],
      "metadata": {
        "id": "VEm2KmlyzJGY"
      }
    },
    {
      "cell_type": "markdown",
      "source": [
        "# **Question 1**\n",
        "\n",
        "## **Confidence Interval**\n",
        "\n",
        "Construct and interpret the 90% confidence interval for the population proportion of people who have normal blood pressure. Write up the solution using the PMACC procedure."
      ],
      "metadata": {
        "id": "Juj3EjUnOtJm"
      }
    },
    {
      "cell_type": "markdown",
      "source": [
        "**1.1) Parameter: Define the parameter, using correct notation.**\n",
        "\n",
        "..."
      ],
      "metadata": {
        "id": "bIpoT0p6JdEb"
      }
    },
    {
      "cell_type": "markdown",
      "source": [
        "**1.2) Method: Name the method you will use.**\n",
        "\n",
        "..."
      ],
      "metadata": {
        "id": "G7uPLMIlJt2Z"
      }
    },
    {
      "cell_type": "markdown",
      "source": [
        "**1.3) Assumptions:**\n",
        "\n",
        "Complete the code below to find out how many patients have normal blood pressure."
      ],
      "metadata": {
        "id": "BQS1aneYKJew"
      }
    },
    {
      "cell_type": "code",
      "source": [
        "# Count total observations\n",
        "n = len(df)\n",
        "\n",
        "# Count total successes\n",
        "# Replace the 1st ... with the variable name\n",
        "# Replace the 2nd ... with the name of the blood pressure category to be analyzed.\n",
        "obs_count = df['...'].value_counts().get('...')     #obs_count = df['...'].value_counts().get('...', 0)\n",
        "\n",
        "print(f\"{obs_count} out of {n} patients have normal blood pressure.\")"
      ],
      "metadata": {
        "colab": {
          "base_uri": "https://localhost:8080/",
          "height": 547
        },
        "id": "zImrVJ_XN-LB",
        "outputId": "c10efea4-1531-430e-b859-b096a941e49a"
      },
      "execution_count": 6,
      "outputs": [
        {
          "output_type": "error",
          "ename": "KeyError",
          "evalue": "'...'",
          "traceback": [
            "\u001b[0;31m---------------------------------------------------------------------------\u001b[0m",
            "\u001b[0;31mKeyError\u001b[0m                                  Traceback (most recent call last)",
            "\u001b[0;32m/usr/local/lib/python3.10/dist-packages/pandas/core/indexes/base.py\u001b[0m in \u001b[0;36mget_loc\u001b[0;34m(self, key)\u001b[0m\n\u001b[1;32m   3804\u001b[0m         \u001b[0;32mtry\u001b[0m\u001b[0;34m:\u001b[0m\u001b[0;34m\u001b[0m\u001b[0;34m\u001b[0m\u001b[0m\n\u001b[0;32m-> 3805\u001b[0;31m             \u001b[0;32mreturn\u001b[0m \u001b[0mself\u001b[0m\u001b[0;34m.\u001b[0m\u001b[0m_engine\u001b[0m\u001b[0;34m.\u001b[0m\u001b[0mget_loc\u001b[0m\u001b[0;34m(\u001b[0m\u001b[0mcasted_key\u001b[0m\u001b[0;34m)\u001b[0m\u001b[0;34m\u001b[0m\u001b[0;34m\u001b[0m\u001b[0m\n\u001b[0m\u001b[1;32m   3806\u001b[0m         \u001b[0;32mexcept\u001b[0m \u001b[0mKeyError\u001b[0m \u001b[0;32mas\u001b[0m \u001b[0merr\u001b[0m\u001b[0;34m:\u001b[0m\u001b[0;34m\u001b[0m\u001b[0;34m\u001b[0m\u001b[0m\n",
            "\u001b[0;32mindex.pyx\u001b[0m in \u001b[0;36mpandas._libs.index.IndexEngine.get_loc\u001b[0;34m()\u001b[0m\n",
            "\u001b[0;32mindex.pyx\u001b[0m in \u001b[0;36mpandas._libs.index.IndexEngine.get_loc\u001b[0;34m()\u001b[0m\n",
            "\u001b[0;32mpandas/_libs/hashtable_class_helper.pxi\u001b[0m in \u001b[0;36mpandas._libs.hashtable.PyObjectHashTable.get_item\u001b[0;34m()\u001b[0m\n",
            "\u001b[0;32mpandas/_libs/hashtable_class_helper.pxi\u001b[0m in \u001b[0;36mpandas._libs.hashtable.PyObjectHashTable.get_item\u001b[0;34m()\u001b[0m\n",
            "\u001b[0;31mKeyError\u001b[0m: '...'",
            "\nThe above exception was the direct cause of the following exception:\n",
            "\u001b[0;31mKeyError\u001b[0m                                  Traceback (most recent call last)",
            "\u001b[0;32m<ipython-input-6-60fcfda769d5>\u001b[0m in \u001b[0;36m<cell line: 7>\u001b[0;34m()\u001b[0m\n\u001b[1;32m      5\u001b[0m \u001b[0;31m# Replace the 1st ... with the variable name\u001b[0m\u001b[0;34m\u001b[0m\u001b[0;34m\u001b[0m\u001b[0m\n\u001b[1;32m      6\u001b[0m \u001b[0;31m# Replace the 2nd ... with the name of the blood pressure category to be analyzed.\u001b[0m\u001b[0;34m\u001b[0m\u001b[0;34m\u001b[0m\u001b[0m\n\u001b[0;32m----> 7\u001b[0;31m \u001b[0mobs_count\u001b[0m \u001b[0;34m=\u001b[0m \u001b[0mdf\u001b[0m\u001b[0;34m[\u001b[0m\u001b[0;34m'...'\u001b[0m\u001b[0;34m]\u001b[0m\u001b[0;34m.\u001b[0m\u001b[0mvalue_counts\u001b[0m\u001b[0;34m(\u001b[0m\u001b[0;34m)\u001b[0m\u001b[0;34m.\u001b[0m\u001b[0mget\u001b[0m\u001b[0;34m(\u001b[0m\u001b[0;34m'...'\u001b[0m\u001b[0;34m)\u001b[0m     \u001b[0;31m#obs_count = df['...'].value_counts().get('...', 0)\u001b[0m\u001b[0;34m\u001b[0m\u001b[0;34m\u001b[0m\u001b[0m\n\u001b[0m\u001b[1;32m      8\u001b[0m \u001b[0;34m\u001b[0m\u001b[0m\n\u001b[1;32m      9\u001b[0m \u001b[0mprint\u001b[0m\u001b[0;34m(\u001b[0m\u001b[0;34mf\"{obs_count} out of {n} patients have normal blood pressure.\"\u001b[0m\u001b[0;34m)\u001b[0m\u001b[0;34m\u001b[0m\u001b[0;34m\u001b[0m\u001b[0m\n",
            "\u001b[0;32m/usr/local/lib/python3.10/dist-packages/pandas/core/frame.py\u001b[0m in \u001b[0;36m__getitem__\u001b[0;34m(self, key)\u001b[0m\n\u001b[1;32m   4100\u001b[0m             \u001b[0;32mif\u001b[0m \u001b[0mself\u001b[0m\u001b[0;34m.\u001b[0m\u001b[0mcolumns\u001b[0m\u001b[0;34m.\u001b[0m\u001b[0mnlevels\u001b[0m \u001b[0;34m>\u001b[0m \u001b[0;36m1\u001b[0m\u001b[0;34m:\u001b[0m\u001b[0;34m\u001b[0m\u001b[0;34m\u001b[0m\u001b[0m\n\u001b[1;32m   4101\u001b[0m                 \u001b[0;32mreturn\u001b[0m \u001b[0mself\u001b[0m\u001b[0;34m.\u001b[0m\u001b[0m_getitem_multilevel\u001b[0m\u001b[0;34m(\u001b[0m\u001b[0mkey\u001b[0m\u001b[0;34m)\u001b[0m\u001b[0;34m\u001b[0m\u001b[0;34m\u001b[0m\u001b[0m\n\u001b[0;32m-> 4102\u001b[0;31m             \u001b[0mindexer\u001b[0m \u001b[0;34m=\u001b[0m \u001b[0mself\u001b[0m\u001b[0;34m.\u001b[0m\u001b[0mcolumns\u001b[0m\u001b[0;34m.\u001b[0m\u001b[0mget_loc\u001b[0m\u001b[0;34m(\u001b[0m\u001b[0mkey\u001b[0m\u001b[0;34m)\u001b[0m\u001b[0;34m\u001b[0m\u001b[0;34m\u001b[0m\u001b[0m\n\u001b[0m\u001b[1;32m   4103\u001b[0m             \u001b[0;32mif\u001b[0m \u001b[0mis_integer\u001b[0m\u001b[0;34m(\u001b[0m\u001b[0mindexer\u001b[0m\u001b[0;34m)\u001b[0m\u001b[0;34m:\u001b[0m\u001b[0;34m\u001b[0m\u001b[0;34m\u001b[0m\u001b[0m\n\u001b[1;32m   4104\u001b[0m                 \u001b[0mindexer\u001b[0m \u001b[0;34m=\u001b[0m \u001b[0;34m[\u001b[0m\u001b[0mindexer\u001b[0m\u001b[0;34m]\u001b[0m\u001b[0;34m\u001b[0m\u001b[0;34m\u001b[0m\u001b[0m\n",
            "\u001b[0;32m/usr/local/lib/python3.10/dist-packages/pandas/core/indexes/base.py\u001b[0m in \u001b[0;36mget_loc\u001b[0;34m(self, key)\u001b[0m\n\u001b[1;32m   3810\u001b[0m             ):\n\u001b[1;32m   3811\u001b[0m                 \u001b[0;32mraise\u001b[0m \u001b[0mInvalidIndexError\u001b[0m\u001b[0;34m(\u001b[0m\u001b[0mkey\u001b[0m\u001b[0;34m)\u001b[0m\u001b[0;34m\u001b[0m\u001b[0;34m\u001b[0m\u001b[0m\n\u001b[0;32m-> 3812\u001b[0;31m             \u001b[0;32mraise\u001b[0m \u001b[0mKeyError\u001b[0m\u001b[0;34m(\u001b[0m\u001b[0mkey\u001b[0m\u001b[0;34m)\u001b[0m \u001b[0;32mfrom\u001b[0m \u001b[0merr\u001b[0m\u001b[0;34m\u001b[0m\u001b[0;34m\u001b[0m\u001b[0m\n\u001b[0m\u001b[1;32m   3813\u001b[0m         \u001b[0;32mexcept\u001b[0m \u001b[0mTypeError\u001b[0m\u001b[0;34m:\u001b[0m\u001b[0;34m\u001b[0m\u001b[0;34m\u001b[0m\u001b[0m\n\u001b[1;32m   3814\u001b[0m             \u001b[0;31m# If we have a listlike key, _check_indexing_error will raise\u001b[0m\u001b[0;34m\u001b[0m\u001b[0;34m\u001b[0m\u001b[0m\n",
            "\u001b[0;31mKeyError\u001b[0m: '...'"
          ]
        }
      ]
    },
    {
      "cell_type": "markdown",
      "source": [
        "**Show that both assumptions are met.**\n",
        "\n",
        "..."
      ],
      "metadata": {
        "id": "E-r2PPtVRSZ9"
      }
    },
    {
      "cell_type": "markdown",
      "source": [
        "**1.4) Calculate: Complete the code below to calculate the sample proportion of people who have normal blood pressure, and the confidence interval.**"
      ],
      "metadata": {
        "id": "EE0D9ba8KXO5"
      }
    },
    {
      "cell_type": "code",
      "source": [
        "# Define the confidence level\n",
        "# Replace the ... with the stated confidence level,\n",
        "#   as a decimal (ex: 0.83, not 83%)\n",
        "CL = ...\n",
        "\n",
        "#Calculate the values needed; p-hat, critical value (CV), and standard error (se).\n",
        "p_hat = obs_count / n\n",
        "cv = norm.ppf((1+CL)/2)\n",
        "se = np.sqrt(p_hat * (1-p_hat) / n)\n",
        "\n",
        "#Calculate the bounds of the interval\n",
        "ci_lower = (p_hat - cv * se)\n",
        "ci_upper = (...) #Replace ... with the formula for the upper bound.\n",
        "\n",
        "print(f\"p-hat = {obs_count}/{n} = {p_hat.round(5)}\")\n",
        "print(f\"The {CL*100}% CI is ({ci_lower.round(5)}, {ci_upper.round(5)})\")"
      ],
      "metadata": {
        "id": "P4qIa7po3Sms"
      },
      "execution_count": null,
      "outputs": []
    },
    {
      "cell_type": "markdown",
      "source": [
        "**1.5) Communicate Results: Interpret the confidence interval calculated in 1.4 above. Round to 3 decimal places.**\n",
        "\n",
        "..."
      ],
      "metadata": {
        "id": "xZuraSxHLLMV"
      }
    },
    {
      "cell_type": "markdown",
      "source": [
        "**1.6) Use the confidence interval and show work to calculate the margin of error. Then, interpret the margin of error.**\n",
        "\n",
        "**Calculation**\n",
        "\n",
        "...\n",
        "\n",
        "\n",
        "**Interpretation**\n",
        "\n",
        "..."
      ],
      "metadata": {
        "id": "KzkMLURiUqWS"
      }
    },
    {
      "cell_type": "markdown",
      "source": [
        "# **Question 2**\n",
        "\n",
        "## **Hypothesis Test**\n",
        "\n",
        "Is there convincing evidence that the true proportion of individuals who have normal blood pressure is different from 50%? Use α=0.10. Write up the solution using the PMACC procedure."
      ],
      "metadata": {
        "id": "0sgRaln9V2yR"
      }
    },
    {
      "cell_type": "markdown",
      "source": [
        "**2.1) Parameter: Define the parameter, using correct notation.**\n",
        "\n",
        "..."
      ],
      "metadata": {
        "id": "vyW2oV8NXTMl"
      }
    },
    {
      "cell_type": "markdown",
      "source": [
        "**2.2) Method: Name the method you will use, and write the hypotheses.**\n",
        "\n",
        "**Name:**\n",
        "\n",
        "...\n",
        "\n",
        "\n",
        "**Hypotheses:**\n",
        "\n",
        "..."
      ],
      "metadata": {
        "id": "0e1MD45JXTMm"
      }
    },
    {
      "cell_type": "markdown",
      "source": [
        "**2.3) Assumptions: Show that both assumptions are met.**\n"
      ],
      "metadata": {
        "id": "IfpbjvE4XTMm"
      }
    },
    {
      "cell_type": "markdown",
      "source": [
        "**1.**  ...\n",
        "\n",
        "**2.**  ..."
      ],
      "metadata": {
        "id": "IUMREYtKXTMn"
      }
    },
    {
      "cell_type": "markdown",
      "source": [
        "**2.4) Calculate: Complete the code below to calculate the values required.**"
      ],
      "metadata": {
        "id": "G6PVsDXiXTMn"
      }
    },
    {
      "cell_type": "code",
      "source": [
        "#Define P0, the value in H0.\n",
        "p_0 = ...     #Replace ... with p0, the value in the null hypothesis.\n",
        "\n",
        "#Calculate the values needed; p-hat, and standard error (se).\n",
        "p_hat = obs_count / n\n",
        "se = np.sqrt(p_hat * (1-p_hat) / n)\n",
        "\n",
        "#Calculate the z-score of our p-hat, under the assumption H0 is true.\n",
        "z_score = (p_hat - p_0) / se\n",
        "\n",
        "#Calculate the p-value for 1- and 2-sided tests\n",
        "p_value1 = (1 - norm.cdf(abs(z_score)))\n",
        "p_value2 = 2 * p_value1\n",
        "\n",
        "print(f\"p-hat = {p_hat.round(7)}\")\n",
        "print(f\"z-score = {z_score.round(7)}\")\n",
        "print(f\"1 sided p-value = {p_value1.round(7)}\")\n",
        "print(f\"2 sided p-value = {p_value2.round(7)}\")"
      ],
      "metadata": {
        "id": "O3ImyhXvXTMn"
      },
      "execution_count": null,
      "outputs": []
    },
    {
      "cell_type": "markdown",
      "source": [
        "**2.5) Communicate Results: What conclusion is made about the null hypothesis? And what does that mean about the alternate hypothesis?**\n",
        "\n",
        "..."
      ],
      "metadata": {
        "id": "uFJgP0tiXTMn"
      }
    },
    {
      "cell_type": "markdown",
      "source": [
        "# **Question 3**\n",
        "\n",
        "## **Do you make the same conclusion if you use the confidence interval?**\n",
        "\n",
        "In question 2 you concluded that we either do have or do not have convincing evidence for the alternate hypothesis. Using your confidence interval from question 1, do you reach the same conclusion?\n",
        "\n",
        "..."
      ],
      "metadata": {
        "id": "E0PJFv1ac8m6"
      }
    },
    {
      "cell_type": "markdown",
      "source": [
        "<br><br>\n",
        "\n",
        "\n",
        "# Keep this for your reference for Project 3. You are now ready to complete Project 3 on your own. You may choose to work on the same data set that you did for Project 1 and/or Project 2, or you may choose to do analyze a different data set. Pick just one (1) data set to analyze."
      ],
      "metadata": {
        "id": "X6e2ZZI8xakl"
      }
    }
  ]
}