{
  "nbformat": 4,
  "nbformat_minor": 0,
  "metadata": {
    "colab": {
      "provenance": [],
      "authorship_tag": "ABX9TyPys/q8ZHkrq5nfWvWmWmjR"
    },
    "kernelspec": {
      "name": "python3",
      "display_name": "Python 3"
    },
    "language_info": {
      "name": "python"
    }
  },
  "cells": [
    {
      "cell_type": "markdown",
      "metadata": {
        "id": "8t9m29KtoK2q"
      },
      "source": [
        "# **2022 NFL Combine - Project 3**\n",
        "## Inference for the Population Proportion"
      ]
    },
    {
      "cell_type": "markdown",
      "metadata": {
        "id": "y3rfDZf7oK21"
      },
      "source": [
        "# **Importing Necessary Python Modules**\n",
        "\n",
        "Python incorporates a variety of open source add-ins called modules that add extra features to the basic setup. The name of the modules is after the import or from statement, and the purpose is in a non-code comment after the hashtag (#).\n",
        "\n",
        "\n"
      ]
    },
    {
      "cell_type": "code",
      "source": [
        "import pandas as pd                 #Data analysis\n",
        "import numpy as np                  #Calculations\n",
        "from IPython.display import Image   #Display images\n",
        "from scipy.stats import norm        #Confidence Interval"
      ],
      "metadata": {
        "id": "DIbfBAiwmTlf"
      },
      "execution_count": 10,
      "outputs": []
    },
    {
      "cell_type": "code",
      "source": [
        "# Assigns the URL of the image to display to the name 'image_url'.\n",
        "image_url = 'https://as2.ftcdn.net/v2/jpg/04/31/74/37/1000_F_431743763_in9BVVzCI36X304StR89pnxyUYzj1dwa.jpg'\n",
        "\n",
        "# Display the image\n",
        "Image(url=image_url, width = 575)"
      ],
      "metadata": {
        "colab": {
          "base_uri": "https://localhost:8080/",
          "height": 596
        },
        "id": "TL6T9o9NyP_J",
        "outputId": "2a501b5b-57fb-4369-ffce-ad017448cc16"
      },
      "execution_count": 11,
      "outputs": [
        {
          "output_type": "execute_result",
          "data": {
            "text/html": [
              "<img src=\"https://as2.ftcdn.net/v2/jpg/04/31/74/37/1000_F_431743763_in9BVVzCI36X304StR89pnxyUYzj1dwa.jpg\" width=\"575\"/>"
            ],
            "text/plain": [
              "<IPython.core.display.Image object>"
            ]
          },
          "metadata": {},
          "execution_count": 11
        }
      ]
    },
    {
      "cell_type": "markdown",
      "source": [
        "# **Context**\n",
        "\n",
        "National Invitational Camp (NIC), more commonly known as the NFL Scouting Combine, began in 1982 when National Football Scouting, Inc. first conducted a camp for its member NFL clubs in Tampa, Florida. The key purpose then, same as it is today, was to ascertain medical information on the top draft eligible prospects in college football. The inaugural NIC was attended by a total of 163 players and established a foundation for future expansion.\n",
        "\n",
        "As football and the art of evaluating players has evolved, so has the NFL Scouting Combine. While medical examinations remain the number one priority of the event, athletes will also participate in a variety of psychological and physical tests, as well as, formal and informal interviews with top executives, coaches and scouts from all 32 NFL teams. NIC is the ultimate four day job interview for the top college football players eligible for the upcoming NFL Draft.\n",
        "\n",
        "Attribution: NFLCombine.net\n"
      ],
      "metadata": {
        "id": "XJjnfq1hitm8"
      }
    },
    {
      "cell_type": "markdown",
      "source": [
        "# **About the Dataset**\n",
        "\n",
        "This dataset contains 133 rows corresponding to a random sample of drafted players. A total of 9 variables are provided as listed below:"
      ],
      "metadata": {
        "id": "bQfu7EYxi7Md"
      }
    },
    {
      "cell_type": "markdown",
      "source": [
        "| Variable Name(s)      | Description                            |\n",
        "|:----------------------|:--------------------------------------|\n",
        "| Player                | Player ID, which is the player's name  |\n",
        "| Pos                   | Position the player plays              |\n",
        "| School                | College the player attended            |\n",
        "| Ht                    | Player height (inches)                 |\n",
        "| Wt                    | Player weight (lbs)                    |\n",
        "| 40yd                  | Time to run the 40-yard dash (seconds) |\n",
        "| Vertical              | Vertical jump height (inches)          |\n",
        "| Broad Jump            | Horizontal distance covered (inches) (aka long jump) |\n",
        "| Drafted (tm/rnd/yr)   | Team, round, and year the player was drafted |\n",
        "\n"
      ],
      "metadata": {
        "id": "XusIoTTPjC87"
      }
    },
    {
      "cell_type": "markdown",
      "source": [
        "Let's take a look at the data. To do this, first we import it directly from the url below.\n",
        "\n"
      ],
      "metadata": {
        "id": "E5p5eijdPyej"
      }
    },
    {
      "cell_type": "markdown",
      "source": [
        "# **A Snippet of the Data**"
      ],
      "metadata": {
        "id": "dzjbhJhzktKp"
      }
    },
    {
      "cell_type": "code",
      "source": [
        "# Assigns the URL where the data file is stored to 'file_path'.\n",
        "url='https://raw.githubusercontent.com/thamilton562/STAT108_Projects_Students/main/DataSets/NFLCombine.csv'\n",
        "\n",
        "# Reads in the CSV data file and assigns it to the DataFrame 'df'.\n",
        "df=pd.read_csv(url)"
      ],
      "metadata": {
        "id": "TH9hHi05Rlxt"
      },
      "execution_count": 12,
      "outputs": []
    },
    {
      "cell_type": "markdown",
      "source": [
        "Next, we can display the data by *typing the name* of the DataFrame. To ensure we can see all columns, we'll use the *pd.set_option* method."
      ],
      "metadata": {
        "id": "cj8T9vdrimYo"
      }
    },
    {
      "cell_type": "code",
      "source": [
        "# Set display options to show all columns\n",
        "pd.set_option('display.max_columns', None)\n",
        "\n",
        "# When you type the object name, the object gets printed.\n",
        "df"
      ],
      "metadata": {
        "colab": {
          "base_uri": "https://localhost:8080/",
          "height": 424
        },
        "id": "YT5tP1d8pQli",
        "outputId": "f8a42f9e-4666-405c-de4c-9c5847ebbae9"
      },
      "execution_count": 13,
      "outputs": [
        {
          "output_type": "execute_result",
          "data": {
            "text/plain": [
              "              Player   Pos       School  Ht   Wt  40yd  Vertical  Broad Jump  \\\n",
              "0      Myjai Sanders  EDGE   Cincinnati  77  228  4.67      33.0         120   \n",
              "1    Keaontay Ingram    RB          USC  73  221  4.53      34.5         122   \n",
              "2       Jesse Luketa    LB     Penn St.  75  253  4.89      37.5         114   \n",
              "3      Marquis Hayes    OG     Oklahoma  77  318  5.30      23.5         102   \n",
              "4      Troy Andersen    LB  Montana St.  76  243  4.42      36.0         128   \n",
              "..               ...   ...          ...  ..  ...   ...       ...         ...   \n",
              "128     Jahan Dotson    WR     Penn St.  71  178  4.43      36.0         121   \n",
              "129   Brian Robinson    RB      Alabama  74  225  4.53      30.0         119   \n",
              "130     Percy Butler     S    Louisiana  73  194  4.36      31.5         123   \n",
              "131      Cole Turner    TE       Nevada  78  246  4.76      27.0         120   \n",
              "132       Chris Paul    OG        Tulsa  76  323  4.89      27.0         109   \n",
              "\n",
              "                                 Drafted (tm/rnd/yr)  \n",
              "0        Arizona Cardinals / 3rd / 100th pick / 2022  \n",
              "1        Arizona Cardinals / 6th / 201st pick / 2022  \n",
              "2        Arizona Cardinals / 7th / 256th pick / 2022  \n",
              "3        Arizona Cardinals / 7th / 257th pick / 2022  \n",
              "4           Atlanta Falcons / 2nd / 58th pick / 2022  \n",
              "..                                               ...  \n",
              "128   Washington Commanders / 1st / 16th pick / 2022  \n",
              "129   Washington Commanders / 3rd / 98th pick / 2022  \n",
              "130  Washington Commanders / 4th / 113th pick / 2022  \n",
              "131  Washington Commanders / 5th / 149th pick / 2022  \n",
              "132  Washington Commanders / 7th / 230th pick / 2022  \n",
              "\n",
              "[133 rows x 9 columns]"
            ],
            "text/html": [
              "\n",
              "  <div id=\"df-04bdc9e9-68ec-4ce2-ada3-d8aa774a2265\" class=\"colab-df-container\">\n",
              "    <div>\n",
              "<style scoped>\n",
              "    .dataframe tbody tr th:only-of-type {\n",
              "        vertical-align: middle;\n",
              "    }\n",
              "\n",
              "    .dataframe tbody tr th {\n",
              "        vertical-align: top;\n",
              "    }\n",
              "\n",
              "    .dataframe thead th {\n",
              "        text-align: right;\n",
              "    }\n",
              "</style>\n",
              "<table border=\"1\" class=\"dataframe\">\n",
              "  <thead>\n",
              "    <tr style=\"text-align: right;\">\n",
              "      <th></th>\n",
              "      <th>Player</th>\n",
              "      <th>Pos</th>\n",
              "      <th>School</th>\n",
              "      <th>Ht</th>\n",
              "      <th>Wt</th>\n",
              "      <th>40yd</th>\n",
              "      <th>Vertical</th>\n",
              "      <th>Broad Jump</th>\n",
              "      <th>Drafted (tm/rnd/yr)</th>\n",
              "    </tr>\n",
              "  </thead>\n",
              "  <tbody>\n",
              "    <tr>\n",
              "      <th>0</th>\n",
              "      <td>Myjai Sanders</td>\n",
              "      <td>EDGE</td>\n",
              "      <td>Cincinnati</td>\n",
              "      <td>77</td>\n",
              "      <td>228</td>\n",
              "      <td>4.67</td>\n",
              "      <td>33.0</td>\n",
              "      <td>120</td>\n",
              "      <td>Arizona Cardinals / 3rd / 100th pick / 2022</td>\n",
              "    </tr>\n",
              "    <tr>\n",
              "      <th>1</th>\n",
              "      <td>Keaontay Ingram</td>\n",
              "      <td>RB</td>\n",
              "      <td>USC</td>\n",
              "      <td>73</td>\n",
              "      <td>221</td>\n",
              "      <td>4.53</td>\n",
              "      <td>34.5</td>\n",
              "      <td>122</td>\n",
              "      <td>Arizona Cardinals / 6th / 201st pick / 2022</td>\n",
              "    </tr>\n",
              "    <tr>\n",
              "      <th>2</th>\n",
              "      <td>Jesse Luketa</td>\n",
              "      <td>LB</td>\n",
              "      <td>Penn St.</td>\n",
              "      <td>75</td>\n",
              "      <td>253</td>\n",
              "      <td>4.89</td>\n",
              "      <td>37.5</td>\n",
              "      <td>114</td>\n",
              "      <td>Arizona Cardinals / 7th / 256th pick / 2022</td>\n",
              "    </tr>\n",
              "    <tr>\n",
              "      <th>3</th>\n",
              "      <td>Marquis Hayes</td>\n",
              "      <td>OG</td>\n",
              "      <td>Oklahoma</td>\n",
              "      <td>77</td>\n",
              "      <td>318</td>\n",
              "      <td>5.30</td>\n",
              "      <td>23.5</td>\n",
              "      <td>102</td>\n",
              "      <td>Arizona Cardinals / 7th / 257th pick / 2022</td>\n",
              "    </tr>\n",
              "    <tr>\n",
              "      <th>4</th>\n",
              "      <td>Troy Andersen</td>\n",
              "      <td>LB</td>\n",
              "      <td>Montana St.</td>\n",
              "      <td>76</td>\n",
              "      <td>243</td>\n",
              "      <td>4.42</td>\n",
              "      <td>36.0</td>\n",
              "      <td>128</td>\n",
              "      <td>Atlanta Falcons / 2nd / 58th pick / 2022</td>\n",
              "    </tr>\n",
              "    <tr>\n",
              "      <th>...</th>\n",
              "      <td>...</td>\n",
              "      <td>...</td>\n",
              "      <td>...</td>\n",
              "      <td>...</td>\n",
              "      <td>...</td>\n",
              "      <td>...</td>\n",
              "      <td>...</td>\n",
              "      <td>...</td>\n",
              "      <td>...</td>\n",
              "    </tr>\n",
              "    <tr>\n",
              "      <th>128</th>\n",
              "      <td>Jahan Dotson</td>\n",
              "      <td>WR</td>\n",
              "      <td>Penn St.</td>\n",
              "      <td>71</td>\n",
              "      <td>178</td>\n",
              "      <td>4.43</td>\n",
              "      <td>36.0</td>\n",
              "      <td>121</td>\n",
              "      <td>Washington Commanders / 1st / 16th pick / 2022</td>\n",
              "    </tr>\n",
              "    <tr>\n",
              "      <th>129</th>\n",
              "      <td>Brian Robinson</td>\n",
              "      <td>RB</td>\n",
              "      <td>Alabama</td>\n",
              "      <td>74</td>\n",
              "      <td>225</td>\n",
              "      <td>4.53</td>\n",
              "      <td>30.0</td>\n",
              "      <td>119</td>\n",
              "      <td>Washington Commanders / 3rd / 98th pick / 2022</td>\n",
              "    </tr>\n",
              "    <tr>\n",
              "      <th>130</th>\n",
              "      <td>Percy Butler</td>\n",
              "      <td>S</td>\n",
              "      <td>Louisiana</td>\n",
              "      <td>73</td>\n",
              "      <td>194</td>\n",
              "      <td>4.36</td>\n",
              "      <td>31.5</td>\n",
              "      <td>123</td>\n",
              "      <td>Washington Commanders / 4th / 113th pick / 2022</td>\n",
              "    </tr>\n",
              "    <tr>\n",
              "      <th>131</th>\n",
              "      <td>Cole Turner</td>\n",
              "      <td>TE</td>\n",
              "      <td>Nevada</td>\n",
              "      <td>78</td>\n",
              "      <td>246</td>\n",
              "      <td>4.76</td>\n",
              "      <td>27.0</td>\n",
              "      <td>120</td>\n",
              "      <td>Washington Commanders / 5th / 149th pick / 2022</td>\n",
              "    </tr>\n",
              "    <tr>\n",
              "      <th>132</th>\n",
              "      <td>Chris Paul</td>\n",
              "      <td>OG</td>\n",
              "      <td>Tulsa</td>\n",
              "      <td>76</td>\n",
              "      <td>323</td>\n",
              "      <td>4.89</td>\n",
              "      <td>27.0</td>\n",
              "      <td>109</td>\n",
              "      <td>Washington Commanders / 7th / 230th pick / 2022</td>\n",
              "    </tr>\n",
              "  </tbody>\n",
              "</table>\n",
              "<p>133 rows × 9 columns</p>\n",
              "</div>\n",
              "    <div class=\"colab-df-buttons\">\n",
              "\n",
              "  <div class=\"colab-df-container\">\n",
              "    <button class=\"colab-df-convert\" onclick=\"convertToInteractive('df-04bdc9e9-68ec-4ce2-ada3-d8aa774a2265')\"\n",
              "            title=\"Convert this dataframe to an interactive table.\"\n",
              "            style=\"display:none;\">\n",
              "\n",
              "  <svg xmlns=\"http://www.w3.org/2000/svg\" height=\"24px\" viewBox=\"0 -960 960 960\">\n",
              "    <path d=\"M120-120v-720h720v720H120Zm60-500h600v-160H180v160Zm220 220h160v-160H400v160Zm0 220h160v-160H400v160ZM180-400h160v-160H180v160Zm440 0h160v-160H620v160ZM180-180h160v-160H180v160Zm440 0h160v-160H620v160Z\"/>\n",
              "  </svg>\n",
              "    </button>\n",
              "\n",
              "  <style>\n",
              "    .colab-df-container {\n",
              "      display:flex;\n",
              "      gap: 12px;\n",
              "    }\n",
              "\n",
              "    .colab-df-convert {\n",
              "      background-color: #E8F0FE;\n",
              "      border: none;\n",
              "      border-radius: 50%;\n",
              "      cursor: pointer;\n",
              "      display: none;\n",
              "      fill: #1967D2;\n",
              "      height: 32px;\n",
              "      padding: 0 0 0 0;\n",
              "      width: 32px;\n",
              "    }\n",
              "\n",
              "    .colab-df-convert:hover {\n",
              "      background-color: #E2EBFA;\n",
              "      box-shadow: 0px 1px 2px rgba(60, 64, 67, 0.3), 0px 1px 3px 1px rgba(60, 64, 67, 0.15);\n",
              "      fill: #174EA6;\n",
              "    }\n",
              "\n",
              "    .colab-df-buttons div {\n",
              "      margin-bottom: 4px;\n",
              "    }\n",
              "\n",
              "    [theme=dark] .colab-df-convert {\n",
              "      background-color: #3B4455;\n",
              "      fill: #D2E3FC;\n",
              "    }\n",
              "\n",
              "    [theme=dark] .colab-df-convert:hover {\n",
              "      background-color: #434B5C;\n",
              "      box-shadow: 0px 1px 3px 1px rgba(0, 0, 0, 0.15);\n",
              "      filter: drop-shadow(0px 1px 2px rgba(0, 0, 0, 0.3));\n",
              "      fill: #FFFFFF;\n",
              "    }\n",
              "  </style>\n",
              "\n",
              "    <script>\n",
              "      const buttonEl =\n",
              "        document.querySelector('#df-04bdc9e9-68ec-4ce2-ada3-d8aa774a2265 button.colab-df-convert');\n",
              "      buttonEl.style.display =\n",
              "        google.colab.kernel.accessAllowed ? 'block' : 'none';\n",
              "\n",
              "      async function convertToInteractive(key) {\n",
              "        const element = document.querySelector('#df-04bdc9e9-68ec-4ce2-ada3-d8aa774a2265');\n",
              "        const dataTable =\n",
              "          await google.colab.kernel.invokeFunction('convertToInteractive',\n",
              "                                                    [key], {});\n",
              "        if (!dataTable) return;\n",
              "\n",
              "        const docLinkHtml = 'Like what you see? Visit the ' +\n",
              "          '<a target=\"_blank\" href=https://colab.research.google.com/notebooks/data_table.ipynb>data table notebook</a>'\n",
              "          + ' to learn more about interactive tables.';\n",
              "        element.innerHTML = '';\n",
              "        dataTable['output_type'] = 'display_data';\n",
              "        await google.colab.output.renderOutput(dataTable, element);\n",
              "        const docLink = document.createElement('div');\n",
              "        docLink.innerHTML = docLinkHtml;\n",
              "        element.appendChild(docLink);\n",
              "      }\n",
              "    </script>\n",
              "  </div>\n",
              "\n",
              "\n",
              "<div id=\"df-bd40f5d0-3a46-446c-8504-8e15b311dd55\">\n",
              "  <button class=\"colab-df-quickchart\" onclick=\"quickchart('df-bd40f5d0-3a46-446c-8504-8e15b311dd55')\"\n",
              "            title=\"Suggest charts\"\n",
              "            style=\"display:none;\">\n",
              "\n",
              "<svg xmlns=\"http://www.w3.org/2000/svg\" height=\"24px\"viewBox=\"0 0 24 24\"\n",
              "     width=\"24px\">\n",
              "    <g>\n",
              "        <path d=\"M19 3H5c-1.1 0-2 .9-2 2v14c0 1.1.9 2 2 2h14c1.1 0 2-.9 2-2V5c0-1.1-.9-2-2-2zM9 17H7v-7h2v7zm4 0h-2V7h2v10zm4 0h-2v-4h2v4z\"/>\n",
              "    </g>\n",
              "</svg>\n",
              "  </button>\n",
              "\n",
              "<style>\n",
              "  .colab-df-quickchart {\n",
              "      --bg-color: #E8F0FE;\n",
              "      --fill-color: #1967D2;\n",
              "      --hover-bg-color: #E2EBFA;\n",
              "      --hover-fill-color: #174EA6;\n",
              "      --disabled-fill-color: #AAA;\n",
              "      --disabled-bg-color: #DDD;\n",
              "  }\n",
              "\n",
              "  [theme=dark] .colab-df-quickchart {\n",
              "      --bg-color: #3B4455;\n",
              "      --fill-color: #D2E3FC;\n",
              "      --hover-bg-color: #434B5C;\n",
              "      --hover-fill-color: #FFFFFF;\n",
              "      --disabled-bg-color: #3B4455;\n",
              "      --disabled-fill-color: #666;\n",
              "  }\n",
              "\n",
              "  .colab-df-quickchart {\n",
              "    background-color: var(--bg-color);\n",
              "    border: none;\n",
              "    border-radius: 50%;\n",
              "    cursor: pointer;\n",
              "    display: none;\n",
              "    fill: var(--fill-color);\n",
              "    height: 32px;\n",
              "    padding: 0;\n",
              "    width: 32px;\n",
              "  }\n",
              "\n",
              "  .colab-df-quickchart:hover {\n",
              "    background-color: var(--hover-bg-color);\n",
              "    box-shadow: 0 1px 2px rgba(60, 64, 67, 0.3), 0 1px 3px 1px rgba(60, 64, 67, 0.15);\n",
              "    fill: var(--button-hover-fill-color);\n",
              "  }\n",
              "\n",
              "  .colab-df-quickchart-complete:disabled,\n",
              "  .colab-df-quickchart-complete:disabled:hover {\n",
              "    background-color: var(--disabled-bg-color);\n",
              "    fill: var(--disabled-fill-color);\n",
              "    box-shadow: none;\n",
              "  }\n",
              "\n",
              "  .colab-df-spinner {\n",
              "    border: 2px solid var(--fill-color);\n",
              "    border-color: transparent;\n",
              "    border-bottom-color: var(--fill-color);\n",
              "    animation:\n",
              "      spin 1s steps(1) infinite;\n",
              "  }\n",
              "\n",
              "  @keyframes spin {\n",
              "    0% {\n",
              "      border-color: transparent;\n",
              "      border-bottom-color: var(--fill-color);\n",
              "      border-left-color: var(--fill-color);\n",
              "    }\n",
              "    20% {\n",
              "      border-color: transparent;\n",
              "      border-left-color: var(--fill-color);\n",
              "      border-top-color: var(--fill-color);\n",
              "    }\n",
              "    30% {\n",
              "      border-color: transparent;\n",
              "      border-left-color: var(--fill-color);\n",
              "      border-top-color: var(--fill-color);\n",
              "      border-right-color: var(--fill-color);\n",
              "    }\n",
              "    40% {\n",
              "      border-color: transparent;\n",
              "      border-right-color: var(--fill-color);\n",
              "      border-top-color: var(--fill-color);\n",
              "    }\n",
              "    60% {\n",
              "      border-color: transparent;\n",
              "      border-right-color: var(--fill-color);\n",
              "    }\n",
              "    80% {\n",
              "      border-color: transparent;\n",
              "      border-right-color: var(--fill-color);\n",
              "      border-bottom-color: var(--fill-color);\n",
              "    }\n",
              "    90% {\n",
              "      border-color: transparent;\n",
              "      border-bottom-color: var(--fill-color);\n",
              "    }\n",
              "  }\n",
              "</style>\n",
              "\n",
              "  <script>\n",
              "    async function quickchart(key) {\n",
              "      const quickchartButtonEl =\n",
              "        document.querySelector('#' + key + ' button');\n",
              "      quickchartButtonEl.disabled = true;  // To prevent multiple clicks.\n",
              "      quickchartButtonEl.classList.add('colab-df-spinner');\n",
              "      try {\n",
              "        const charts = await google.colab.kernel.invokeFunction(\n",
              "            'suggestCharts', [key], {});\n",
              "      } catch (error) {\n",
              "        console.error('Error during call to suggestCharts:', error);\n",
              "      }\n",
              "      quickchartButtonEl.classList.remove('colab-df-spinner');\n",
              "      quickchartButtonEl.classList.add('colab-df-quickchart-complete');\n",
              "    }\n",
              "    (() => {\n",
              "      let quickchartButtonEl =\n",
              "        document.querySelector('#df-bd40f5d0-3a46-446c-8504-8e15b311dd55 button');\n",
              "      quickchartButtonEl.style.display =\n",
              "        google.colab.kernel.accessAllowed ? 'block' : 'none';\n",
              "    })();\n",
              "  </script>\n",
              "</div>\n",
              "\n",
              "  <div id=\"id_31a580d5-8292-4deb-8da9-071e1c322f05\">\n",
              "    <style>\n",
              "      .colab-df-generate {\n",
              "        background-color: #E8F0FE;\n",
              "        border: none;\n",
              "        border-radius: 50%;\n",
              "        cursor: pointer;\n",
              "        display: none;\n",
              "        fill: #1967D2;\n",
              "        height: 32px;\n",
              "        padding: 0 0 0 0;\n",
              "        width: 32px;\n",
              "      }\n",
              "\n",
              "      .colab-df-generate:hover {\n",
              "        background-color: #E2EBFA;\n",
              "        box-shadow: 0px 1px 2px rgba(60, 64, 67, 0.3), 0px 1px 3px 1px rgba(60, 64, 67, 0.15);\n",
              "        fill: #174EA6;\n",
              "      }\n",
              "\n",
              "      [theme=dark] .colab-df-generate {\n",
              "        background-color: #3B4455;\n",
              "        fill: #D2E3FC;\n",
              "      }\n",
              "\n",
              "      [theme=dark] .colab-df-generate:hover {\n",
              "        background-color: #434B5C;\n",
              "        box-shadow: 0px 1px 3px 1px rgba(0, 0, 0, 0.15);\n",
              "        filter: drop-shadow(0px 1px 2px rgba(0, 0, 0, 0.3));\n",
              "        fill: #FFFFFF;\n",
              "      }\n",
              "    </style>\n",
              "    <button class=\"colab-df-generate\" onclick=\"generateWithVariable('df')\"\n",
              "            title=\"Generate code using this dataframe.\"\n",
              "            style=\"display:none;\">\n",
              "\n",
              "  <svg xmlns=\"http://www.w3.org/2000/svg\" height=\"24px\"viewBox=\"0 0 24 24\"\n",
              "       width=\"24px\">\n",
              "    <path d=\"M7,19H8.4L18.45,9,17,7.55,7,17.6ZM5,21V16.75L18.45,3.32a2,2,0,0,1,2.83,0l1.4,1.43a1.91,1.91,0,0,1,.58,1.4,1.91,1.91,0,0,1-.58,1.4L9.25,21ZM18.45,9,17,7.55Zm-12,3A5.31,5.31,0,0,0,4.9,8.1,5.31,5.31,0,0,0,1,6.5,5.31,5.31,0,0,0,4.9,4.9,5.31,5.31,0,0,0,6.5,1,5.31,5.31,0,0,0,8.1,4.9,5.31,5.31,0,0,0,12,6.5,5.46,5.46,0,0,0,6.5,12Z\"/>\n",
              "  </svg>\n",
              "    </button>\n",
              "    <script>\n",
              "      (() => {\n",
              "      const buttonEl =\n",
              "        document.querySelector('#id_31a580d5-8292-4deb-8da9-071e1c322f05 button.colab-df-generate');\n",
              "      buttonEl.style.display =\n",
              "        google.colab.kernel.accessAllowed ? 'block' : 'none';\n",
              "\n",
              "      buttonEl.onclick = () => {\n",
              "        google.colab.notebook.generateWithVariable('df');\n",
              "      }\n",
              "      })();\n",
              "    </script>\n",
              "  </div>\n",
              "\n",
              "    </div>\n",
              "  </div>\n"
            ],
            "application/vnd.google.colaboratory.intrinsic+json": {
              "type": "dataframe",
              "variable_name": "df",
              "summary": "{\n  \"name\": \"df\",\n  \"rows\": 133,\n  \"fields\": [\n    {\n      \"column\": \"Player\",\n      \"properties\": {\n        \"dtype\": \"string\",\n        \"num_unique_values\": 133,\n        \"samples\": [\n          \"Christian Watson\",\n          \"Joshua Williams\",\n          \"David Bell\"\n        ],\n        \"semantic_type\": \"\",\n        \"description\": \"\"\n      }\n    },\n    {\n      \"column\": \"Pos\",\n      \"properties\": {\n        \"dtype\": \"category\",\n        \"num_unique_values\": 14,\n        \"samples\": [\n          \"OT\",\n          \"C\",\n          \"EDGE\"\n        ],\n        \"semantic_type\": \"\",\n        \"description\": \"\"\n      }\n    },\n    {\n      \"column\": \"School\",\n      \"properties\": {\n        \"dtype\": \"string\",\n        \"num_unique_values\": 75,\n        \"samples\": [\n          \"Montana St.\",\n          \"Iowa St.\",\n          \"Missouri\"\n        ],\n        \"semantic_type\": \"\",\n        \"description\": \"\"\n      }\n    },\n    {\n      \"column\": \"Ht\",\n      \"properties\": {\n        \"dtype\": \"number\",\n        \"std\": 2,\n        \"min\": 68,\n        \"max\": 80,\n        \"num_unique_values\": 12,\n        \"samples\": [\n          70,\n          79,\n          77\n        ],\n        \"semantic_type\": \"\",\n        \"description\": \"\"\n      }\n    },\n    {\n      \"column\": \"Wt\",\n      \"properties\": {\n        \"dtype\": \"number\",\n        \"std\": 49,\n        \"min\": 170,\n        \"max\": 341,\n        \"num_unique_values\": 80,\n        \"samples\": [\n          324,\n          228,\n          282\n        ],\n        \"semantic_type\": \"\",\n        \"description\": \"\"\n      }\n    },\n    {\n      \"column\": \"40yd\",\n      \"properties\": {\n        \"dtype\": \"number\",\n        \"std\": 0.313297367326413,\n        \"min\": 4.28,\n        \"max\": 5.41,\n        \"num_unique_values\": 76,\n        \"samples\": [\n          4.42,\n          4.69,\n          4.92\n        ],\n        \"semantic_type\": \"\",\n        \"description\": \"\"\n      }\n    },\n    {\n      \"column\": \"Vertical\",\n      \"properties\": {\n        \"dtype\": \"number\",\n        \"std\": 4.545007952542684,\n        \"min\": 20.5,\n        \"max\": 42.0,\n        \"num_unique_values\": 39,\n        \"samples\": [\n          22.0,\n          28.0,\n          36.0\n        ],\n        \"semantic_type\": \"\",\n        \"description\": \"\"\n      }\n    },\n    {\n      \"column\": \"Broad Jump\",\n      \"properties\": {\n        \"dtype\": \"number\",\n        \"std\": 8,\n        \"min\": 99,\n        \"max\": 136,\n        \"num_unique_values\": 34,\n        \"samples\": [\n          125,\n          111,\n          99\n        ],\n        \"semantic_type\": \"\",\n        \"description\": \"\"\n      }\n    },\n    {\n      \"column\": \"Drafted (tm/rnd/yr)\",\n      \"properties\": {\n        \"dtype\": \"string\",\n        \"num_unique_values\": 133,\n        \"samples\": [\n          \"Green Bay Packers / 2nd / 34th pick / 2022\",\n          \"Kansas City Chiefs / 4th / 135th pick / 2022\",\n          \"Cleveland Browns / 3rd / 99th pick / 2022\"\n        ],\n        \"semantic_type\": \"\",\n        \"description\": \"\"\n      }\n    }\n  ]\n}"
            }
          },
          "metadata": {},
          "execution_count": 13
        }
      ]
    },
    {
      "cell_type": "markdown",
      "metadata": {
        "id": "tx98lQoCoDkO"
      },
      "source": [
        "# **INSTRUCTIONS**\n",
        "\n",
        "* Use Python to analyze the data set and complete each of the following.\n",
        "* Replace ellipsis (...) with the relavent names or code.  \n",
        "* For problems that require a written response, replace the ellipsis (...) by double clicking the text box to start typing.\n",
        "* Reference the tutorial from activity for assistance.\n",
        "* If you still need help:\n",
        " * Watch the video.\n",
        " * Attend office hours."
      ]
    },
    {
      "cell_type": "markdown",
      "metadata": {
        "id": "WZAwPtWdJtjB"
      },
      "source": [
        "# **The variable to analyze**\n",
        "You will analyze a category of a qualitative variable. Based on the first initial of your LAST name, analyze the category of the variable listed in the table. Use this category for the entire project.\n",
        "\n",
        "| Last Name | Variable = Category |\n",
        "|-----------|-------------------------------|\n",
        "| A-L       | Position = Linebacker (LB)  |\n",
        "| M-Z       | Position = Wide Receiver (WR)  |"
      ]
    },
    {
      "cell_type": "code",
      "source": [
        "# Print all the category names.\n",
        "# Use this list to ensure correct spelling of your category.\n",
        "\n",
        "# Use the following code for students.\n",
        "print(\"... category names\")                #Replace ... with the variable name written out\n",
        "print(\"--------------------------------\")\n",
        "freq_table = pd.Series(df['...']).value_counts()        #Replace ... with the variable name\n",
        "print(freq_table)\n",
        "\n"
      ],
      "metadata": {
        "id": "IROToDNfZVFw",
        "colab": {
          "base_uri": "https://localhost:8080/",
          "height": 582
        },
        "outputId": "da5bd2c8-ac11-4b4f-c066-11d563ddec34"
      },
      "execution_count": 14,
      "outputs": [
        {
          "output_type": "stream",
          "name": "stdout",
          "text": [
            "... category names\n",
            "--------------------------------\n"
          ]
        },
        {
          "output_type": "error",
          "ename": "KeyError",
          "evalue": "'...'",
          "traceback": [
            "\u001b[0;31m---------------------------------------------------------------------------\u001b[0m",
            "\u001b[0;31mKeyError\u001b[0m                                  Traceback (most recent call last)",
            "\u001b[0;32m/usr/local/lib/python3.10/dist-packages/pandas/core/indexes/base.py\u001b[0m in \u001b[0;36mget_loc\u001b[0;34m(self, key)\u001b[0m\n\u001b[1;32m   3804\u001b[0m         \u001b[0;32mtry\u001b[0m\u001b[0;34m:\u001b[0m\u001b[0;34m\u001b[0m\u001b[0;34m\u001b[0m\u001b[0m\n\u001b[0;32m-> 3805\u001b[0;31m             \u001b[0;32mreturn\u001b[0m \u001b[0mself\u001b[0m\u001b[0;34m.\u001b[0m\u001b[0m_engine\u001b[0m\u001b[0;34m.\u001b[0m\u001b[0mget_loc\u001b[0m\u001b[0;34m(\u001b[0m\u001b[0mcasted_key\u001b[0m\u001b[0;34m)\u001b[0m\u001b[0;34m\u001b[0m\u001b[0;34m\u001b[0m\u001b[0m\n\u001b[0m\u001b[1;32m   3806\u001b[0m         \u001b[0;32mexcept\u001b[0m \u001b[0mKeyError\u001b[0m \u001b[0;32mas\u001b[0m \u001b[0merr\u001b[0m\u001b[0;34m:\u001b[0m\u001b[0;34m\u001b[0m\u001b[0;34m\u001b[0m\u001b[0m\n",
            "\u001b[0;32mindex.pyx\u001b[0m in \u001b[0;36mpandas._libs.index.IndexEngine.get_loc\u001b[0;34m()\u001b[0m\n",
            "\u001b[0;32mindex.pyx\u001b[0m in \u001b[0;36mpandas._libs.index.IndexEngine.get_loc\u001b[0;34m()\u001b[0m\n",
            "\u001b[0;32mpandas/_libs/hashtable_class_helper.pxi\u001b[0m in \u001b[0;36mpandas._libs.hashtable.PyObjectHashTable.get_item\u001b[0;34m()\u001b[0m\n",
            "\u001b[0;32mpandas/_libs/hashtable_class_helper.pxi\u001b[0m in \u001b[0;36mpandas._libs.hashtable.PyObjectHashTable.get_item\u001b[0;34m()\u001b[0m\n",
            "\u001b[0;31mKeyError\u001b[0m: '...'",
            "\nThe above exception was the direct cause of the following exception:\n",
            "\u001b[0;31mKeyError\u001b[0m                                  Traceback (most recent call last)",
            "\u001b[0;32m<ipython-input-14-47327ad9c867>\u001b[0m in \u001b[0;36m<cell line: 7>\u001b[0;34m()\u001b[0m\n\u001b[1;32m      5\u001b[0m \u001b[0mprint\u001b[0m\u001b[0;34m(\u001b[0m\u001b[0;34m\"... category names\"\u001b[0m\u001b[0;34m)\u001b[0m                \u001b[0;31m#Replace ... with the variable name written out\u001b[0m\u001b[0;34m\u001b[0m\u001b[0;34m\u001b[0m\u001b[0m\n\u001b[1;32m      6\u001b[0m \u001b[0mprint\u001b[0m\u001b[0;34m(\u001b[0m\u001b[0;34m\"--------------------------------\"\u001b[0m\u001b[0;34m)\u001b[0m\u001b[0;34m\u001b[0m\u001b[0;34m\u001b[0m\u001b[0m\n\u001b[0;32m----> 7\u001b[0;31m \u001b[0mfreq_table\u001b[0m \u001b[0;34m=\u001b[0m \u001b[0mpd\u001b[0m\u001b[0;34m.\u001b[0m\u001b[0mSeries\u001b[0m\u001b[0;34m(\u001b[0m\u001b[0mdf\u001b[0m\u001b[0;34m[\u001b[0m\u001b[0;34m'...'\u001b[0m\u001b[0;34m]\u001b[0m\u001b[0;34m)\u001b[0m\u001b[0;34m.\u001b[0m\u001b[0mvalue_counts\u001b[0m\u001b[0;34m(\u001b[0m\u001b[0;34m)\u001b[0m        \u001b[0;31m#Replace ... with the variable name\u001b[0m\u001b[0;34m\u001b[0m\u001b[0;34m\u001b[0m\u001b[0m\n\u001b[0m\u001b[1;32m      8\u001b[0m \u001b[0mprint\u001b[0m\u001b[0;34m(\u001b[0m\u001b[0mfreq_table\u001b[0m\u001b[0;34m)\u001b[0m\u001b[0;34m\u001b[0m\u001b[0;34m\u001b[0m\u001b[0m\n\u001b[1;32m      9\u001b[0m \u001b[0;34m\u001b[0m\u001b[0m\n",
            "\u001b[0;32m/usr/local/lib/python3.10/dist-packages/pandas/core/frame.py\u001b[0m in \u001b[0;36m__getitem__\u001b[0;34m(self, key)\u001b[0m\n\u001b[1;32m   4100\u001b[0m             \u001b[0;32mif\u001b[0m \u001b[0mself\u001b[0m\u001b[0;34m.\u001b[0m\u001b[0mcolumns\u001b[0m\u001b[0;34m.\u001b[0m\u001b[0mnlevels\u001b[0m \u001b[0;34m>\u001b[0m \u001b[0;36m1\u001b[0m\u001b[0;34m:\u001b[0m\u001b[0;34m\u001b[0m\u001b[0;34m\u001b[0m\u001b[0m\n\u001b[1;32m   4101\u001b[0m                 \u001b[0;32mreturn\u001b[0m \u001b[0mself\u001b[0m\u001b[0;34m.\u001b[0m\u001b[0m_getitem_multilevel\u001b[0m\u001b[0;34m(\u001b[0m\u001b[0mkey\u001b[0m\u001b[0;34m)\u001b[0m\u001b[0;34m\u001b[0m\u001b[0;34m\u001b[0m\u001b[0m\n\u001b[0;32m-> 4102\u001b[0;31m             \u001b[0mindexer\u001b[0m \u001b[0;34m=\u001b[0m \u001b[0mself\u001b[0m\u001b[0;34m.\u001b[0m\u001b[0mcolumns\u001b[0m\u001b[0;34m.\u001b[0m\u001b[0mget_loc\u001b[0m\u001b[0;34m(\u001b[0m\u001b[0mkey\u001b[0m\u001b[0;34m)\u001b[0m\u001b[0;34m\u001b[0m\u001b[0;34m\u001b[0m\u001b[0m\n\u001b[0m\u001b[1;32m   4103\u001b[0m             \u001b[0;32mif\u001b[0m \u001b[0mis_integer\u001b[0m\u001b[0;34m(\u001b[0m\u001b[0mindexer\u001b[0m\u001b[0;34m)\u001b[0m\u001b[0;34m:\u001b[0m\u001b[0;34m\u001b[0m\u001b[0;34m\u001b[0m\u001b[0m\n\u001b[1;32m   4104\u001b[0m                 \u001b[0mindexer\u001b[0m \u001b[0;34m=\u001b[0m \u001b[0;34m[\u001b[0m\u001b[0mindexer\u001b[0m\u001b[0;34m]\u001b[0m\u001b[0;34m\u001b[0m\u001b[0;34m\u001b[0m\u001b[0m\n",
            "\u001b[0;32m/usr/local/lib/python3.10/dist-packages/pandas/core/indexes/base.py\u001b[0m in \u001b[0;36mget_loc\u001b[0;34m(self, key)\u001b[0m\n\u001b[1;32m   3810\u001b[0m             ):\n\u001b[1;32m   3811\u001b[0m                 \u001b[0;32mraise\u001b[0m \u001b[0mInvalidIndexError\u001b[0m\u001b[0;34m(\u001b[0m\u001b[0mkey\u001b[0m\u001b[0;34m)\u001b[0m\u001b[0;34m\u001b[0m\u001b[0;34m\u001b[0m\u001b[0m\n\u001b[0;32m-> 3812\u001b[0;31m             \u001b[0;32mraise\u001b[0m \u001b[0mKeyError\u001b[0m\u001b[0;34m(\u001b[0m\u001b[0mkey\u001b[0m\u001b[0;34m)\u001b[0m \u001b[0;32mfrom\u001b[0m \u001b[0merr\u001b[0m\u001b[0;34m\u001b[0m\u001b[0;34m\u001b[0m\u001b[0m\n\u001b[0m\u001b[1;32m   3813\u001b[0m         \u001b[0;32mexcept\u001b[0m \u001b[0mTypeError\u001b[0m\u001b[0;34m:\u001b[0m\u001b[0;34m\u001b[0m\u001b[0;34m\u001b[0m\u001b[0m\n\u001b[1;32m   3814\u001b[0m             \u001b[0;31m# If we have a listlike key, _check_indexing_error will raise\u001b[0m\u001b[0;34m\u001b[0m\u001b[0;34m\u001b[0m\u001b[0m\n",
            "\u001b[0;31mKeyError\u001b[0m: '...'"
          ]
        }
      ]
    },
    {
      "cell_type": "markdown",
      "metadata": {
        "id": "xkEtDHs70CzZ"
      },
      "source": [
        "# **QUESTION 1**\n",
        "## Confidence Interval\n",
        "\n",
        "**Last Names A-L:** Construct and interpret the 89% confidence interval for the population proportion of players at the combine who are linebackers.\n",
        "\n",
        "**Last Names M-Z:** Construct and interpret the 89% confidence interval for the population proportion of players at the combine who are wide receivers.\n",
        "\n"
      ]
    },
    {
      "cell_type": "markdown",
      "source": [
        "**1.1) Parameter: Define the parameter, using correct notation.**\n",
        "\n",
        "..."
      ],
      "metadata": {
        "id": "bIpoT0p6JdEb"
      }
    },
    {
      "cell_type": "markdown",
      "source": [
        "**1.2) Method: Name the method you will use.**\n",
        "\n",
        "..."
      ],
      "metadata": {
        "id": "G7uPLMIlJt2Z"
      }
    },
    {
      "cell_type": "markdown",
      "source": [
        "**1.3) Assumptions:**\n",
        "\n",
        "Complete the code below to find out how many majors fall under the category assigned to you."
      ],
      "metadata": {
        "id": "BQS1aneYKJew"
      }
    },
    {
      "cell_type": "code",
      "source": [
        "# Count total observations\n",
        "n = len(df)\n",
        "\n",
        "#Use this code for students\n",
        "# Count total successes\n",
        "# Replace the 1st ... with the variable name\n",
        "# Replace the 2nd ... with the name of the major category to be analyzed\n",
        "obs_count = df['...'].value_counts().get('...')\n",
        "\n",
        "print(f\"{obs_count} out of {n} players at the combine are ...\") #Replace ... with the position you are analyzing.\n",
        "\n"
      ],
      "metadata": {
        "id": "zImrVJ_XN-LB",
        "colab": {
          "base_uri": "https://localhost:8080/",
          "height": 547
        },
        "outputId": "e5c3cf99-3628-4958-a1a0-fbc933d4f8b4"
      },
      "execution_count": 15,
      "outputs": [
        {
          "output_type": "error",
          "ename": "KeyError",
          "evalue": "'...'",
          "traceback": [
            "\u001b[0;31m---------------------------------------------------------------------------\u001b[0m",
            "\u001b[0;31mKeyError\u001b[0m                                  Traceback (most recent call last)",
            "\u001b[0;32m/usr/local/lib/python3.10/dist-packages/pandas/core/indexes/base.py\u001b[0m in \u001b[0;36mget_loc\u001b[0;34m(self, key)\u001b[0m\n\u001b[1;32m   3804\u001b[0m         \u001b[0;32mtry\u001b[0m\u001b[0;34m:\u001b[0m\u001b[0;34m\u001b[0m\u001b[0;34m\u001b[0m\u001b[0m\n\u001b[0;32m-> 3805\u001b[0;31m             \u001b[0;32mreturn\u001b[0m \u001b[0mself\u001b[0m\u001b[0;34m.\u001b[0m\u001b[0m_engine\u001b[0m\u001b[0;34m.\u001b[0m\u001b[0mget_loc\u001b[0m\u001b[0;34m(\u001b[0m\u001b[0mcasted_key\u001b[0m\u001b[0;34m)\u001b[0m\u001b[0;34m\u001b[0m\u001b[0;34m\u001b[0m\u001b[0m\n\u001b[0m\u001b[1;32m   3806\u001b[0m         \u001b[0;32mexcept\u001b[0m \u001b[0mKeyError\u001b[0m \u001b[0;32mas\u001b[0m \u001b[0merr\u001b[0m\u001b[0;34m:\u001b[0m\u001b[0;34m\u001b[0m\u001b[0;34m\u001b[0m\u001b[0m\n",
            "\u001b[0;32mindex.pyx\u001b[0m in \u001b[0;36mpandas._libs.index.IndexEngine.get_loc\u001b[0;34m()\u001b[0m\n",
            "\u001b[0;32mindex.pyx\u001b[0m in \u001b[0;36mpandas._libs.index.IndexEngine.get_loc\u001b[0;34m()\u001b[0m\n",
            "\u001b[0;32mpandas/_libs/hashtable_class_helper.pxi\u001b[0m in \u001b[0;36mpandas._libs.hashtable.PyObjectHashTable.get_item\u001b[0;34m()\u001b[0m\n",
            "\u001b[0;32mpandas/_libs/hashtable_class_helper.pxi\u001b[0m in \u001b[0;36mpandas._libs.hashtable.PyObjectHashTable.get_item\u001b[0;34m()\u001b[0m\n",
            "\u001b[0;31mKeyError\u001b[0m: '...'",
            "\nThe above exception was the direct cause of the following exception:\n",
            "\u001b[0;31mKeyError\u001b[0m                                  Traceback (most recent call last)",
            "\u001b[0;32m<ipython-input-15-9ece5a176c58>\u001b[0m in \u001b[0;36m<cell line: 8>\u001b[0;34m()\u001b[0m\n\u001b[1;32m      6\u001b[0m \u001b[0;31m# Replace the 1st ... with the variable name\u001b[0m\u001b[0;34m\u001b[0m\u001b[0;34m\u001b[0m\u001b[0m\n\u001b[1;32m      7\u001b[0m \u001b[0;31m# Replace the 2nd ... with the name of the major category to be analyzed\u001b[0m\u001b[0;34m\u001b[0m\u001b[0;34m\u001b[0m\u001b[0m\n\u001b[0;32m----> 8\u001b[0;31m \u001b[0mobs_count\u001b[0m \u001b[0;34m=\u001b[0m \u001b[0mdf\u001b[0m\u001b[0;34m[\u001b[0m\u001b[0;34m'...'\u001b[0m\u001b[0;34m]\u001b[0m\u001b[0;34m.\u001b[0m\u001b[0mvalue_counts\u001b[0m\u001b[0;34m(\u001b[0m\u001b[0;34m)\u001b[0m\u001b[0;34m.\u001b[0m\u001b[0mget\u001b[0m\u001b[0;34m(\u001b[0m\u001b[0;34m'...'\u001b[0m\u001b[0;34m)\u001b[0m\u001b[0;34m\u001b[0m\u001b[0;34m\u001b[0m\u001b[0m\n\u001b[0m\u001b[1;32m      9\u001b[0m \u001b[0;34m\u001b[0m\u001b[0m\n\u001b[1;32m     10\u001b[0m \u001b[0mprint\u001b[0m\u001b[0;34m(\u001b[0m\u001b[0;34mf\"{obs_count} out of {n} players at the combine are ...\"\u001b[0m\u001b[0;34m)\u001b[0m \u001b[0;31m#Replace ... with the position you are analyzing.\u001b[0m\u001b[0;34m\u001b[0m\u001b[0;34m\u001b[0m\u001b[0m\n",
            "\u001b[0;32m/usr/local/lib/python3.10/dist-packages/pandas/core/frame.py\u001b[0m in \u001b[0;36m__getitem__\u001b[0;34m(self, key)\u001b[0m\n\u001b[1;32m   4100\u001b[0m             \u001b[0;32mif\u001b[0m \u001b[0mself\u001b[0m\u001b[0;34m.\u001b[0m\u001b[0mcolumns\u001b[0m\u001b[0;34m.\u001b[0m\u001b[0mnlevels\u001b[0m \u001b[0;34m>\u001b[0m \u001b[0;36m1\u001b[0m\u001b[0;34m:\u001b[0m\u001b[0;34m\u001b[0m\u001b[0;34m\u001b[0m\u001b[0m\n\u001b[1;32m   4101\u001b[0m                 \u001b[0;32mreturn\u001b[0m \u001b[0mself\u001b[0m\u001b[0;34m.\u001b[0m\u001b[0m_getitem_multilevel\u001b[0m\u001b[0;34m(\u001b[0m\u001b[0mkey\u001b[0m\u001b[0;34m)\u001b[0m\u001b[0;34m\u001b[0m\u001b[0;34m\u001b[0m\u001b[0m\n\u001b[0;32m-> 4102\u001b[0;31m             \u001b[0mindexer\u001b[0m \u001b[0;34m=\u001b[0m \u001b[0mself\u001b[0m\u001b[0;34m.\u001b[0m\u001b[0mcolumns\u001b[0m\u001b[0;34m.\u001b[0m\u001b[0mget_loc\u001b[0m\u001b[0;34m(\u001b[0m\u001b[0mkey\u001b[0m\u001b[0;34m)\u001b[0m\u001b[0;34m\u001b[0m\u001b[0;34m\u001b[0m\u001b[0m\n\u001b[0m\u001b[1;32m   4103\u001b[0m             \u001b[0;32mif\u001b[0m \u001b[0mis_integer\u001b[0m\u001b[0;34m(\u001b[0m\u001b[0mindexer\u001b[0m\u001b[0;34m)\u001b[0m\u001b[0;34m:\u001b[0m\u001b[0;34m\u001b[0m\u001b[0;34m\u001b[0m\u001b[0m\n\u001b[1;32m   4104\u001b[0m                 \u001b[0mindexer\u001b[0m \u001b[0;34m=\u001b[0m \u001b[0;34m[\u001b[0m\u001b[0mindexer\u001b[0m\u001b[0;34m]\u001b[0m\u001b[0;34m\u001b[0m\u001b[0;34m\u001b[0m\u001b[0m\n",
            "\u001b[0;32m/usr/local/lib/python3.10/dist-packages/pandas/core/indexes/base.py\u001b[0m in \u001b[0;36mget_loc\u001b[0;34m(self, key)\u001b[0m\n\u001b[1;32m   3810\u001b[0m             ):\n\u001b[1;32m   3811\u001b[0m                 \u001b[0;32mraise\u001b[0m \u001b[0mInvalidIndexError\u001b[0m\u001b[0;34m(\u001b[0m\u001b[0mkey\u001b[0m\u001b[0;34m)\u001b[0m\u001b[0;34m\u001b[0m\u001b[0;34m\u001b[0m\u001b[0m\n\u001b[0;32m-> 3812\u001b[0;31m             \u001b[0;32mraise\u001b[0m \u001b[0mKeyError\u001b[0m\u001b[0;34m(\u001b[0m\u001b[0mkey\u001b[0m\u001b[0;34m)\u001b[0m \u001b[0;32mfrom\u001b[0m \u001b[0merr\u001b[0m\u001b[0;34m\u001b[0m\u001b[0;34m\u001b[0m\u001b[0m\n\u001b[0m\u001b[1;32m   3813\u001b[0m         \u001b[0;32mexcept\u001b[0m \u001b[0mTypeError\u001b[0m\u001b[0;34m:\u001b[0m\u001b[0;34m\u001b[0m\u001b[0;34m\u001b[0m\u001b[0m\n\u001b[1;32m   3814\u001b[0m             \u001b[0;31m# If we have a listlike key, _check_indexing_error will raise\u001b[0m\u001b[0;34m\u001b[0m\u001b[0;34m\u001b[0m\u001b[0m\n",
            "\u001b[0;31mKeyError\u001b[0m: '...'"
          ]
        }
      ]
    },
    {
      "cell_type": "markdown",
      "source": [
        "**Show that both assumptions are met.**\n",
        "\n",
        "..."
      ],
      "metadata": {
        "id": "E-r2PPtVRSZ9"
      }
    },
    {
      "cell_type": "markdown",
      "source": [
        "**1.4) Calculate: Complete the code below to calculate the sample proportion of majors that fall under the engineering category, and the confidence interval.**"
      ],
      "metadata": {
        "id": "EE0D9ba8KXO5"
      }
    },
    {
      "cell_type": "code",
      "source": [
        "# Define the confidence level\n",
        "# Replace the ... with the stated confidence level, as a decimal (ex: 0.83, not 83%)\n",
        "CL = ...\n",
        "\n",
        "#Use this code for students\n",
        "#Calculate the values needed; p-hat, critical value (CV), and standard error (se).\n",
        "p_hat = obs_count / n\n",
        "cv = norm.ppf((1+CL)/2)\n",
        "se = np.sqrt(p_hat * (1-p_hat) / n)\n",
        "\n",
        "#Calculate the bounds of the interval\n",
        "ci_lower = (p_hat - cv * se)\n",
        "ci_upper = (p_hat + cv * se)\n",
        "\n",
        "print(f\"p-hat = {obs_count}/{n} = {p_hat.round(5)}\")\n",
        "print(f\"The {CL*100}% CI is ({ci_lower.round(5)}, {ci_upper.round(5)})\")\n"
      ],
      "metadata": {
        "id": "P4qIa7po3Sms",
        "colab": {
          "base_uri": "https://localhost:8080/",
          "height": 211
        },
        "outputId": "21ccc887-764c-4451-854e-96eda16a9ea0"
      },
      "execution_count": 16,
      "outputs": [
        {
          "output_type": "error",
          "ename": "TypeError",
          "evalue": "unsupported operand type(s) for +: 'int' and 'ellipsis'",
          "traceback": [
            "\u001b[0;31m---------------------------------------------------------------------------\u001b[0m",
            "\u001b[0;31mTypeError\u001b[0m                                 Traceback (most recent call last)",
            "\u001b[0;32m<ipython-input-16-9ffef7ada27c>\u001b[0m in \u001b[0;36m<cell line: 8>\u001b[0;34m()\u001b[0m\n\u001b[1;32m      6\u001b[0m \u001b[0;31m#Calculate the values needed; p-hat, critical value (CV), and standard error (se).\u001b[0m\u001b[0;34m\u001b[0m\u001b[0;34m\u001b[0m\u001b[0m\n\u001b[1;32m      7\u001b[0m \u001b[0mp_hat\u001b[0m \u001b[0;34m=\u001b[0m \u001b[0mobs_count\u001b[0m \u001b[0;34m/\u001b[0m \u001b[0mn\u001b[0m\u001b[0;34m\u001b[0m\u001b[0;34m\u001b[0m\u001b[0m\n\u001b[0;32m----> 8\u001b[0;31m \u001b[0mcv\u001b[0m \u001b[0;34m=\u001b[0m \u001b[0mnorm\u001b[0m\u001b[0;34m.\u001b[0m\u001b[0mppf\u001b[0m\u001b[0;34m(\u001b[0m\u001b[0;34m(\u001b[0m\u001b[0;36m1\u001b[0m\u001b[0;34m+\u001b[0m\u001b[0mCL\u001b[0m\u001b[0;34m)\u001b[0m\u001b[0;34m/\u001b[0m\u001b[0;36m2\u001b[0m\u001b[0;34m)\u001b[0m\u001b[0;34m\u001b[0m\u001b[0;34m\u001b[0m\u001b[0m\n\u001b[0m\u001b[1;32m      9\u001b[0m \u001b[0mse\u001b[0m \u001b[0;34m=\u001b[0m \u001b[0mnp\u001b[0m\u001b[0;34m.\u001b[0m\u001b[0msqrt\u001b[0m\u001b[0;34m(\u001b[0m\u001b[0mp_hat\u001b[0m \u001b[0;34m*\u001b[0m \u001b[0;34m(\u001b[0m\u001b[0;36m1\u001b[0m\u001b[0;34m-\u001b[0m\u001b[0mp_hat\u001b[0m\u001b[0;34m)\u001b[0m \u001b[0;34m/\u001b[0m \u001b[0mn\u001b[0m\u001b[0;34m)\u001b[0m\u001b[0;34m\u001b[0m\u001b[0;34m\u001b[0m\u001b[0m\n\u001b[1;32m     10\u001b[0m \u001b[0;34m\u001b[0m\u001b[0m\n",
            "\u001b[0;31mTypeError\u001b[0m: unsupported operand type(s) for +: 'int' and 'ellipsis'"
          ]
        }
      ]
    },
    {
      "cell_type": "markdown",
      "source": [
        "**1.5) Communicate Results: Interpret the confidence interval calculated in 1.4 above. Round to three (3) decimal places.**\n",
        "\n",
        "..."
      ],
      "metadata": {
        "id": "xZuraSxHLLMV"
      }
    },
    {
      "cell_type": "markdown",
      "source": [
        "**1.6) Show work to calculate the margin of error. Then interpret the margin of error.**\n",
        "\n",
        "**Calculation:**\n",
        "\n",
        "...\n",
        "\n",
        "**Interpretation:**\n",
        "\n",
        "...\n",
        "\n",
        "\n"
      ],
      "metadata": {
        "id": "KzkMLURiUqWS"
      }
    },
    {
      "cell_type": "markdown",
      "source": [
        "# **Question 2**\n",
        "\n",
        "## **Hypothesis Test**\n",
        "\n",
        "**A-L:** Is there convincing evidence that the population proportion of players at the combined who are linebackers is different from 10% (0.10)? Use α=0.11. Write up the solution using the PMACC procedure.\n",
        "\n",
        "**M-Z:** Is there convincing evidence that the population proportion of players at the combined who are wide receivers is different from 25% (0.25)? Use α=0.11. Write up the solution using the PMACC procedure."
      ],
      "metadata": {
        "id": "0sgRaln9V2yR"
      }
    },
    {
      "cell_type": "markdown",
      "source": [
        "**2.1) Parameter: Define the parameter, using correct notation.**\n",
        "\n",
        "..."
      ],
      "metadata": {
        "id": "4N-xzGtyLO9i"
      }
    },
    {
      "cell_type": "markdown",
      "source": [
        "**2.2) Method: Name the method you will use, and write the hypotheses.**\n",
        "\n",
        "**Method name:**\n",
        "\n",
        "...\n",
        "\n",
        "**Hypotheses:**\n",
        "\n",
        "..."
      ],
      "metadata": {
        "id": "0e1MD45JXTMm"
      }
    },
    {
      "cell_type": "markdown",
      "source": [
        "**2.3) Assumptions: Show that both assumptions are met. Round to 1 decimal place.**\n",
        "\n",
        "..."
      ],
      "metadata": {
        "id": "IfpbjvE4XTMm"
      }
    },
    {
      "cell_type": "markdown",
      "source": [
        "**2.4) Calculate: Complete the code below to calculate the values required.**"
      ],
      "metadata": {
        "id": "G6PVsDXiXTMn"
      }
    },
    {
      "cell_type": "code",
      "source": [
        "#Use this code for students\n",
        "#Define p0, the value in H0.\n",
        "p_0 = ...    #Replace ... with p0.\n",
        "\n",
        "#Calculate the values needed; p-hat, and standard error (se).\n",
        "p_hat = obs_count / n\n",
        "se = np.sqrt(p_0 * (1-p_0) / n)\n",
        "\n",
        "#Calculate the z-score of our p-hat, under the assumption H0 is true.\n",
        "z_score = (p_hat - p_0) / se\n",
        "\n",
        "#Calculate the p-value for 1- and 2-sided tests\n",
        "p_value1 = (1 - norm.cdf(abs(z_score)))\n",
        "p_value2 = 2 * p_value1\n",
        "\n",
        "print(f\"p-hat = {obs_count}/{n} = {p_hat.round(7)}\")\n",
        "print(f\"z-score = {z_score.round(7)}\")\n",
        "print(f\"1 sided p-value = {p_value1:.11f}\")\n",
        "print(f\"2 sided p-value = {p_value2:.11f}\")"
      ],
      "metadata": {
        "id": "O3ImyhXvXTMn"
      },
      "execution_count": null,
      "outputs": []
    },
    {
      "cell_type": "markdown",
      "source": [
        "**2.5) Communicate Results: What conclusion is made about the null hypothesis? And what does that mean about the alternate hypothesis?**\n",
        "\n",
        "..."
      ],
      "metadata": {
        "id": "uFJgP0tiXTMn"
      }
    },
    {
      "cell_type": "markdown",
      "source": [
        "# **Question 3**\n",
        "\n",
        "## **Do you make the same conclusion if you use the confidence interval?**\n",
        "\n",
        "**In question 2 you concluded that we either do have or do not have convincing evidence for the alternate hypothesis. Using your confidence interval from question 1, do you reach the same conclusion?**\n",
        "\n",
        "..."
      ],
      "metadata": {
        "id": "E0PJFv1ac8m6"
      }
    },
    {
      "cell_type": "markdown",
      "source": [
        "# **QUESTION 4**\n",
        "\n",
        "Generate a paragraph of at least 100 words to address one of the following questions. That is, answer only 4a or 4b, but not both.\n",
        "\n",
        "**4a)** Discuss how analyzing your chosen data set using statistical methods could help you become better prepared for future courses in your major?\n",
        "\n",
        "...\n",
        "\n",
        "--OR--\n",
        "\n",
        "**4b)** Discuss how analyzing your chosen data set using statistical methods could be instrumental in becoming better prepared for your future career?\n",
        "\n",
        "...\n"
      ],
      "metadata": {
        "id": "A4rsfgbp6r6H"
      }
    },
    {
      "cell_type": "markdown",
      "source": [
        "<br><br>\n",
        "### Once you are done and ready to submit, follow the instructions below to save as a PDF and submit to GradeScope.\n",
        "\n",
        "### Save as PDF\n",
        "Note 1: You do not have to select Print Preview. You can print directly from the notebook.\n",
        "Note 2: Image and graph sizes have been set so you should be able to see them correctly without making any changes to the browser width or the layout (portrait vs landscape).\n",
        "1. Run all code one last time and make sure your graphs can be seen.\n",
        "2. File -> Print (or ctrl-p/cmnd-p)\n",
        "3. Change the \"Desination\" to PDF.\n",
        "4. Save the PDF, taking note of where it is saved.\n",
        "\n",
        "### Submit to GradeScope\n",
        "**Watch the \"GradeScope Submission\" video for help.**\n",
        "1. Login to the Canvas course\n",
        "2. Click on GradeScope in the course navigation.\n",
        "3. If you see multiple courses in GradeScope, click on the STAT 108 course\n",
        "4. Click on the name of the assignment that matches your data set\n",
        "5. Click on \"Submit Work\", select PDF\n",
        "6. Select the PDF you just created\n",
        "7. You need to tell GradeScope which page each problem answer/output is on. You should see a list of problems on the left, and a display of pages (thumbnails) on the right. Assign pages to questions by clicking on the question number on the left, then clicking on all pages that question is on.\n",
        "8. After ALL questions have been assigned to their respective page(s), click \"Submit\"\n",
        "\n",
        "#### **Still need help? Your STAT 108 team is here to help. Take your laptop to office hours.**\n"
      ],
      "metadata": {
        "id": "KHSYrvqh66V6"
      }
    }
  ]
}