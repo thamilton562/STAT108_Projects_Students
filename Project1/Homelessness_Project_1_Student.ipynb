{
  "nbformat": 4,
  "nbformat_minor": 0,
  "metadata": {
    "colab": {
      "provenance": []
    },
    "kernelspec": {
      "name": "python3",
      "display_name": "Python 3"
    },
    "language_info": {
      "name": "python"
    }
  },
  "cells": [
    {
      "cell_type": "markdown",
      "metadata": {
        "id": "8t9m29KtoK2q"
      },
      "source": [
        "# **Homelessness - Project 1**\n",
        "### Analyzing qualitative and quantitative variables."
      ]
    },
    {
      "cell_type": "markdown",
      "metadata": {
        "id": "y3rfDZf7oK21"
      },
      "source": [
        "# **Importing Necessary Python Modules**\n",
        "\n",
        "Python incorporates a variety of open source add-ins called **modules** that add extra features to the basic setup. The name of the modules is after the `import` statement, and the purpose is in a non-code comment after thew hashtag (#).\n",
        "\n"
      ]
    },
    {
      "cell_type": "code",
      "execution_count": 1,
      "metadata": {
        "id": "C6AjYFB6oK21"
      },
      "outputs": [],
      "source": [
        "import pandas as pd                 #Data analysis\n",
        "import numpy as np                  #Calculations\n",
        "import plotly.express as px         #Graphing\n",
        "import matplotlib.pyplot as plt     #Graphing\n",
        "from IPython.display import Image   #Display images\n",
        "import warnings                     #Ignore version warnings\n",
        "warnings.simplefilter('ignore', FutureWarning)\n"
      ]
    },
    {
      "cell_type": "code",
      "execution_count": 2,
      "metadata": {
        "colab": {
          "base_uri": "https://localhost:8080/",
          "height": 651
        },
        "outputId": "14cf384e-492e-41cb-c8ea-f0bae3534762",
        "id": "x8eG3KAloDkL"
      },
      "outputs": [
        {
          "output_type": "execute_result",
          "data": {
            "text/html": [
              "<img src=\"https://endhomelessness.org/wp-content/uploads/2019/03/homelessness-statistics.jpg\"/>"
            ],
            "text/plain": [
              "<IPython.core.display.Image object>"
            ]
          },
          "metadata": {},
          "execution_count": 2
        }
      ],
      "source": [
        "# Replace 'image_url' with the URL of the image you want to display\n",
        "image_url = 'https://endhomelessness.org/wp-content/uploads/2019/03/homelessness-statistics.jpg'\n",
        "\n",
        "# Display the image\n",
        "Image(url=image_url)"
      ]
    },
    {
      "cell_type": "markdown",
      "metadata": {
        "id": "IzheJhAUoDkM"
      },
      "source": [
        "# **Context**\n",
        "\n",
        "The Continuum of Care (CoC) Program is designed to promote communitywide commitment to the goal of ending homelessness; provide funding for efforts by nonprofit providers, and State and local governments to quickly rehouse homeless individuals and families while minimizing the trauma and dislocation caused to homeless individuals, families, and communities by homelessness; promote access to and effect utilization of mainstream programs by homeless individuals and families; and optimize self-sufficiency among individuals and families experiencing homelessness. For more information on the Program, please visit https://www.hudexchange.info/programs/coc/\n",
        "\n",
        "The U.S. Department of Housing and Urban Development (HUD) provides Point-in-Time (PIT) count reports of sheltered and unsheltered persons experiencing homelessness, by household type and subpopulation. This data is available at the national and state level, and for each CoC. HUD also provides Housing Inventory Count (HIC) reports, which provide a snapshot of a CoC’s inventory of beds and units available on the night designated for the count by program type, and include beds dedicated to serve persons who are homeless as well as persons in Permanent Supportive Housing. This raw data set contains PIT estimates of homelessness, and the corresponding accompanying HIC data from 2021.\n",
        "\n",
        "Attribution: Adapted from U.S. Department of Housing and Urban Development\n"
      ]
    },
    {
      "cell_type": "markdown",
      "metadata": {
        "id": "kKarTZ9boDkN"
      },
      "source": [
        "# **About the Dataset**\n",
        "\n",
        "This dataset contains 100 rows corresponding to a random sample of localities (typically counties or similar large regions) that received Continuum of Care funding from HUD. A total of 21 variables are provided as listed in the table below."
      ]
    },
    {
      "cell_type": "markdown",
      "metadata": {
        "id": "uVZZLV3EoDkN"
      },
      "source": [
        "| Variable Name(s)         | Description |\n",
        "|:-------------------------|:--- |\n",
        "| CoC Number<br>CoC Name | CoC locality identifier |\n",
        "| CoC Category             | Community setting designation: Rural, Urban, etc |\n",
        "| Type of Count            | Description of whether fully or partially sheltered individuals (or both) are included |\n",
        "| Overall Homeless, 2021   | Total homeless count in all facilities indicated by the “Type of Count” variable |\n",
        "| HMIS Participation Rate for Year-Round Beds (ES,TH,SH) | Proportion of facilities in the locality that participate in the Homeless Management Information System (HMIS) |\n",
        "| Total Year-Round Beds (ES, TH, SH)<br>Total Year-Round Beds (ES)<br>Total Year-Round Beds (TH)<br>Total Year-Round Beds (SH) | (all types combined)<br>ES = Emergency Shelter<br>TH = Transitional Housing<br>SH = Safe Haven |\n",
        "| Total Units for Households with Children (ES, TH, SH)<br>Total Beds for Households with Children (ES, TH, SH) | Number of units and beds designated for households with children |\n",
        "| Sheltered ES Homeless 2021 | Estimate of the number of individuals sheltered in an Emergency Facility at the time of the study |\n",
        "| Sheltered ES Homeless - Age 18 to 24, 2021 | Estimate of the number of individuals sheltered in an Emergency Facility by age |\n",
        "| Sheltered ES Homeless - Female, 2021<br>Sheltered ES Homeless - Male, 2021<br>Sheltered ES Homeless - Trans+, 2021 | Estimate of the number of individuals sheltered in an Emergency Facility by gender |\n",
        "| Sheltered ES Homeless - Hispanic/Latino, 2021<br>Sheltered ES Homeless - White, 2021<br>Sheltered ES Homeless - Black or African American, 2021<br>Sheltered ES Homeless - Asian or Pacific Islander<br>Sheltered ES Homeless - American Indian or Alaska Native, 2021<br>Sheltered ES Homeless - Multiple Races, 2021 | Estimate of the number of individuals sheltered in an Emergency Facility by race/ethnicity |\n",
        "\n"
      ]
    },
    {
      "cell_type": "markdown",
      "metadata": {
        "id": "2La43aJ7oDkN"
      },
      "source": [
        "Let's take a look at the data. To do this, first we import it directly from the url below.\n",
        "\n"
      ]
    },
    {
      "cell_type": "markdown",
      "metadata": {
        "id": "QjHxSJDsoDkN"
      },
      "source": [
        "# **A Snippet of the Data**"
      ]
    },
    {
      "cell_type": "code",
      "execution_count": 3,
      "metadata": {
        "id": "IdmZLxbroDkN"
      },
      "outputs": [],
      "source": [
        "url='https://raw.githubusercontent.com/thamilton562/STAT108_Projects_Students/main/DataSets/Homelessness.csv'\n",
        "df=pd.read_csv(url)"
      ]
    },
    {
      "cell_type": "markdown",
      "metadata": {
        "id": "YYfjOebGoDkN"
      },
      "source": [
        "Next, we can display the data by *typing the name* of the DataFrame. To ensure we can see all columns, we'll use the *pd.set_option* method."
      ]
    },
    {
      "cell_type": "code",
      "execution_count": 4,
      "metadata": {
        "colab": {
          "base_uri": "https://localhost:8080/",
          "height": 878
        },
        "outputId": "bec5feaf-80dd-4a87-81c6-188ad7930697",
        "id": "INm8ZLJooDkO"
      },
      "outputs": [
        {
          "output_type": "execute_result",
          "data": {
            "text/plain": [
              "   CoC Number                                           CoC Name  \\\n",
              "0      LA-505                     Monroe/Northeast Louisiana CoC   \n",
              "1      MN-502                  Rochester/Southeast Minnesota CoC   \n",
              "2      PA-508                     Scranton/Lackawanna County CoC   \n",
              "3      OK-503                      Oklahoma Balance of State CoC   \n",
              "4      OH-504                     Youngstown/Mahoning County CoC   \n",
              "..        ...                                                ...   \n",
              "95     KS-507                        Kansas Balance of State CoC   \n",
              "96     CA-507                                   Marin County CoC   \n",
              "97     TN-512  Morristown/Blount, Sevier, Campbell, Cocke Cou...   \n",
              "98     MA-515                                     Fall River CoC   \n",
              "99     CA-526  Amador, Calaveras, Mariposa, Tuolumne Counties...   \n",
              "\n",
              "               CoC Category                   Type of Count  \\\n",
              "0         Largely Rural CoC            Sheltered-Only Count   \n",
              "1         Largely Rural CoC            Sheltered-Only Count   \n",
              "2      Largely Suburban CoC  Sheltered and full unsheltered   \n",
              "3         Largely Rural CoC            Sheltered-Only Count   \n",
              "4   Other Largely Urban CoC            Sheltered-Only Count   \n",
              "..                      ...                             ...   \n",
              "95        Largely Rural CoC            Sheltered-Only Count   \n",
              "96     Largely Suburban CoC            Sheltered-Only Count   \n",
              "97        Largely Rural CoC  Sheltered and full unsheltered   \n",
              "98     Largely Suburban CoC  Sheltered and full unsheltered   \n",
              "99        Largely Rural CoC            Sheltered-Only Count   \n",
              "\n",
              "    Overall Homeless, 2021  \\\n",
              "0                       78   \n",
              "1                      419   \n",
              "2                      165   \n",
              "3                      125   \n",
              "4                       62   \n",
              "..                     ...   \n",
              "95                     783   \n",
              "96                     225   \n",
              "97                     472   \n",
              "98                     324   \n",
              "99                     151   \n",
              "\n",
              "    HMIS Participation Rate for Year-Round Beds (ES, TH, SH)  \\\n",
              "0                                               0.233          \n",
              "1                                               0.604          \n",
              "2                                               0.839          \n",
              "3                                               0.295          \n",
              "4                                               0.192          \n",
              "..                                                ...          \n",
              "95                                              0.162          \n",
              "96                                              0.727          \n",
              "97                                              0.316          \n",
              "98                                              0.877          \n",
              "99                                              0.598          \n",
              "\n",
              "    Total Year-Round Beds (ES, TH, SH)  Total Year-Round Beds (ES)  \\\n",
              "0                                  133                          69   \n",
              "1                                  599                         378   \n",
              "2                                  155                          64   \n",
              "3                                  149                         135   \n",
              "4                                  198                         187   \n",
              "..                                 ...                         ...   \n",
              "95                                1170                         703   \n",
              "96                                 293                         163   \n",
              "97                                 133                         117   \n",
              "98                                 236                         212   \n",
              "99                                 214                         156   \n",
              "\n",
              "    Total Year-Round Beds (TH)  Total Year-Round Beds (SH)  \\\n",
              "0                           64                           0   \n",
              "1                          221                           0   \n",
              "2                           80                          11   \n",
              "3                           14                           0   \n",
              "4                           11                           0   \n",
              "..                         ...                         ...   \n",
              "95                         452                          15   \n",
              "96                         130                           0   \n",
              "97                          16                           0   \n",
              "98                          24                           0   \n",
              "99                          58                           0   \n",
              "\n",
              "    Total Units for Households with Children (ES, TH, SH)  \\\n",
              "0                                                  18       \n",
              "1                                                 114       \n",
              "2                                                  25       \n",
              "3                                                   5       \n",
              "4                                                  39       \n",
              "..                                                ...       \n",
              "95                                                170       \n",
              "96                                                 46       \n",
              "97                                                 28       \n",
              "98                                                 67       \n",
              "99                                                 39       \n",
              "\n",
              "    Total Beds for Households with Children (ES, TH, SH)  \\\n",
              "0                                                  52      \n",
              "1                                                 372      \n",
              "2                                                  71      \n",
              "3                                                  34      \n",
              "4                                                 115      \n",
              "..                                                ...      \n",
              "95                                                572      \n",
              "96                                                142      \n",
              "97                                                 65      \n",
              "98                                                215      \n",
              "99                                                135      \n",
              "\n",
              "    Sheltered ES Homeless, 2021  Sheltered ES Homeless - Age 18 to 24, 2021  \\\n",
              "0                            40                                           4   \n",
              "1                           261                                          18   \n",
              "2                            81                                           5   \n",
              "3                           125                                          24   \n",
              "4                            56                                           6   \n",
              "..                          ...                                         ...   \n",
              "95                          430                                          41   \n",
              "96                          105                                           6   \n",
              "97                          104                                           5   \n",
              "98                          223                                          15   \n",
              "99                          119                                           2   \n",
              "\n",
              "    Sheltered ES Homeless - Female, 2021  Sheltered ES Homeless - Male, 2021  \\\n",
              "0                                     21                                  19   \n",
              "1                                    110                                 150   \n",
              "2                                     34                                  46   \n",
              "3                                     49                                  75   \n",
              "4                                     41                                  13   \n",
              "..                                   ...                                 ...   \n",
              "95                                   153                                 276   \n",
              "96                                    41                                  63   \n",
              "97                                    61                                  43   \n",
              "98                                   122                                 101   \n",
              "99                                    66                                  52   \n",
              "\n",
              "    Sheltered ES Homeless - Trans+, 2021  \\\n",
              "0                                      0   \n",
              "1                                      1   \n",
              "2                                      1   \n",
              "3                                      1   \n",
              "4                                      2   \n",
              "..                                   ...   \n",
              "95                                     1   \n",
              "96                                     1   \n",
              "97                                     0   \n",
              "98                                     0   \n",
              "99                                     1   \n",
              "\n",
              "    Sheltered ES Homeless - Hispanic/Latino, 2021  \\\n",
              "0                                               0   \n",
              "1                                              42   \n",
              "2                                               7   \n",
              "3                                              52   \n",
              "4                                              21   \n",
              "..                                            ...   \n",
              "95                                             48   \n",
              "96                                             28   \n",
              "97                                              5   \n",
              "98                                             72   \n",
              "99                                             21   \n",
              "\n",
              "    Sheltered ES Homeless - White, 2021  \\\n",
              "0                                    17   \n",
              "1                                   186   \n",
              "2                                    61   \n",
              "3                                    88   \n",
              "4                                    25   \n",
              "..                                  ...   \n",
              "95                                  307   \n",
              "96                                   83   \n",
              "97                                   99   \n",
              "98                                  135   \n",
              "99                                  100   \n",
              "\n",
              "    Sheltered ES Homeless - Black or African American, 2021  \\\n",
              "0                                                  19         \n",
              "1                                                  51         \n",
              "2                                                  17         \n",
              "3                                                  25         \n",
              "4                                                  19         \n",
              "..                                                ...         \n",
              "95                                                 60         \n",
              "96                                                 16         \n",
              "97                                                  1         \n",
              "98                                                 80         \n",
              "99                                                  2         \n",
              "\n",
              "    Sheltered ES Homeless - Asian or Pacific Islander  \\\n",
              "0                                                   0   \n",
              "1                                                   9   \n",
              "2                                                   2   \n",
              "3                                                   1   \n",
              "4                                                   1   \n",
              "..                                                ...   \n",
              "95                                                  7   \n",
              "96                                                  1   \n",
              "97                                                  1   \n",
              "98                                                  1   \n",
              "99                                                  1   \n",
              "\n",
              "    Sheltered ES Homeless - American Indian or Alaska Native, 2021  \\\n",
              "0                                                   4                \n",
              "1                                                   3                \n",
              "2                                                   0                \n",
              "3                                                   8                \n",
              "4                                                   0                \n",
              "..                                                ...                \n",
              "95                                                 23                \n",
              "96                                                  1                \n",
              "97                                                  1                \n",
              "98                                                  2                \n",
              "99                                                  5                \n",
              "\n",
              "    Sheltered ES Homeless - Multiple Races, 2021  \n",
              "0                                              0  \n",
              "1                                             12  \n",
              "2                                              1  \n",
              "3                                              3  \n",
              "4                                             11  \n",
              "..                                           ...  \n",
              "95                                            33  \n",
              "96                                             4  \n",
              "97                                             2  \n",
              "98                                             5  \n",
              "99                                            11  \n",
              "\n",
              "[100 rows x 23 columns]"
            ],
            "text/html": [
              "\n",
              "  <div id=\"df-dc75391d-ede8-48eb-8257-4ac587f4a99d\" class=\"colab-df-container\">\n",
              "    <div>\n",
              "<style scoped>\n",
              "    .dataframe tbody tr th:only-of-type {\n",
              "        vertical-align: middle;\n",
              "    }\n",
              "\n",
              "    .dataframe tbody tr th {\n",
              "        vertical-align: top;\n",
              "    }\n",
              "\n",
              "    .dataframe thead th {\n",
              "        text-align: right;\n",
              "    }\n",
              "</style>\n",
              "<table border=\"1\" class=\"dataframe\">\n",
              "  <thead>\n",
              "    <tr style=\"text-align: right;\">\n",
              "      <th></th>\n",
              "      <th>CoC Number</th>\n",
              "      <th>CoC Name</th>\n",
              "      <th>CoC Category</th>\n",
              "      <th>Type of Count</th>\n",
              "      <th>Overall Homeless, 2021</th>\n",
              "      <th>HMIS Participation Rate for Year-Round Beds (ES, TH, SH)</th>\n",
              "      <th>Total Year-Round Beds (ES, TH, SH)</th>\n",
              "      <th>Total Year-Round Beds (ES)</th>\n",
              "      <th>Total Year-Round Beds (TH)</th>\n",
              "      <th>Total Year-Round Beds (SH)</th>\n",
              "      <th>Total Units for Households with Children (ES, TH, SH)</th>\n",
              "      <th>Total Beds for Households with Children (ES, TH, SH)</th>\n",
              "      <th>Sheltered ES Homeless, 2021</th>\n",
              "      <th>Sheltered ES Homeless - Age 18 to 24, 2021</th>\n",
              "      <th>Sheltered ES Homeless - Female, 2021</th>\n",
              "      <th>Sheltered ES Homeless - Male, 2021</th>\n",
              "      <th>Sheltered ES Homeless - Trans+, 2021</th>\n",
              "      <th>Sheltered ES Homeless - Hispanic/Latino, 2021</th>\n",
              "      <th>Sheltered ES Homeless - White, 2021</th>\n",
              "      <th>Sheltered ES Homeless - Black or African American, 2021</th>\n",
              "      <th>Sheltered ES Homeless - Asian or Pacific Islander</th>\n",
              "      <th>Sheltered ES Homeless - American Indian or Alaska Native, 2021</th>\n",
              "      <th>Sheltered ES Homeless - Multiple Races, 2021</th>\n",
              "    </tr>\n",
              "  </thead>\n",
              "  <tbody>\n",
              "    <tr>\n",
              "      <th>0</th>\n",
              "      <td>LA-505</td>\n",
              "      <td>Monroe/Northeast Louisiana CoC</td>\n",
              "      <td>Largely Rural CoC</td>\n",
              "      <td>Sheltered-Only Count</td>\n",
              "      <td>78</td>\n",
              "      <td>0.233</td>\n",
              "      <td>133</td>\n",
              "      <td>69</td>\n",
              "      <td>64</td>\n",
              "      <td>0</td>\n",
              "      <td>18</td>\n",
              "      <td>52</td>\n",
              "      <td>40</td>\n",
              "      <td>4</td>\n",
              "      <td>21</td>\n",
              "      <td>19</td>\n",
              "      <td>0</td>\n",
              "      <td>0</td>\n",
              "      <td>17</td>\n",
              "      <td>19</td>\n",
              "      <td>0</td>\n",
              "      <td>4</td>\n",
              "      <td>0</td>\n",
              "    </tr>\n",
              "    <tr>\n",
              "      <th>1</th>\n",
              "      <td>MN-502</td>\n",
              "      <td>Rochester/Southeast Minnesota CoC</td>\n",
              "      <td>Largely Rural CoC</td>\n",
              "      <td>Sheltered-Only Count</td>\n",
              "      <td>419</td>\n",
              "      <td>0.604</td>\n",
              "      <td>599</td>\n",
              "      <td>378</td>\n",
              "      <td>221</td>\n",
              "      <td>0</td>\n",
              "      <td>114</td>\n",
              "      <td>372</td>\n",
              "      <td>261</td>\n",
              "      <td>18</td>\n",
              "      <td>110</td>\n",
              "      <td>150</td>\n",
              "      <td>1</td>\n",
              "      <td>42</td>\n",
              "      <td>186</td>\n",
              "      <td>51</td>\n",
              "      <td>9</td>\n",
              "      <td>3</td>\n",
              "      <td>12</td>\n",
              "    </tr>\n",
              "    <tr>\n",
              "      <th>2</th>\n",
              "      <td>PA-508</td>\n",
              "      <td>Scranton/Lackawanna County CoC</td>\n",
              "      <td>Largely Suburban CoC</td>\n",
              "      <td>Sheltered and full unsheltered</td>\n",
              "      <td>165</td>\n",
              "      <td>0.839</td>\n",
              "      <td>155</td>\n",
              "      <td>64</td>\n",
              "      <td>80</td>\n",
              "      <td>11</td>\n",
              "      <td>25</td>\n",
              "      <td>71</td>\n",
              "      <td>81</td>\n",
              "      <td>5</td>\n",
              "      <td>34</td>\n",
              "      <td>46</td>\n",
              "      <td>1</td>\n",
              "      <td>7</td>\n",
              "      <td>61</td>\n",
              "      <td>17</td>\n",
              "      <td>2</td>\n",
              "      <td>0</td>\n",
              "      <td>1</td>\n",
              "    </tr>\n",
              "    <tr>\n",
              "      <th>3</th>\n",
              "      <td>OK-503</td>\n",
              "      <td>Oklahoma Balance of State CoC</td>\n",
              "      <td>Largely Rural CoC</td>\n",
              "      <td>Sheltered-Only Count</td>\n",
              "      <td>125</td>\n",
              "      <td>0.295</td>\n",
              "      <td>149</td>\n",
              "      <td>135</td>\n",
              "      <td>14</td>\n",
              "      <td>0</td>\n",
              "      <td>5</td>\n",
              "      <td>34</td>\n",
              "      <td>125</td>\n",
              "      <td>24</td>\n",
              "      <td>49</td>\n",
              "      <td>75</td>\n",
              "      <td>1</td>\n",
              "      <td>52</td>\n",
              "      <td>88</td>\n",
              "      <td>25</td>\n",
              "      <td>1</td>\n",
              "      <td>8</td>\n",
              "      <td>3</td>\n",
              "    </tr>\n",
              "    <tr>\n",
              "      <th>4</th>\n",
              "      <td>OH-504</td>\n",
              "      <td>Youngstown/Mahoning County CoC</td>\n",
              "      <td>Other Largely Urban CoC</td>\n",
              "      <td>Sheltered-Only Count</td>\n",
              "      <td>62</td>\n",
              "      <td>0.192</td>\n",
              "      <td>198</td>\n",
              "      <td>187</td>\n",
              "      <td>11</td>\n",
              "      <td>0</td>\n",
              "      <td>39</td>\n",
              "      <td>115</td>\n",
              "      <td>56</td>\n",
              "      <td>6</td>\n",
              "      <td>41</td>\n",
              "      <td>13</td>\n",
              "      <td>2</td>\n",
              "      <td>21</td>\n",
              "      <td>25</td>\n",
              "      <td>19</td>\n",
              "      <td>1</td>\n",
              "      <td>0</td>\n",
              "      <td>11</td>\n",
              "    </tr>\n",
              "    <tr>\n",
              "      <th>...</th>\n",
              "      <td>...</td>\n",
              "      <td>...</td>\n",
              "      <td>...</td>\n",
              "      <td>...</td>\n",
              "      <td>...</td>\n",
              "      <td>...</td>\n",
              "      <td>...</td>\n",
              "      <td>...</td>\n",
              "      <td>...</td>\n",
              "      <td>...</td>\n",
              "      <td>...</td>\n",
              "      <td>...</td>\n",
              "      <td>...</td>\n",
              "      <td>...</td>\n",
              "      <td>...</td>\n",
              "      <td>...</td>\n",
              "      <td>...</td>\n",
              "      <td>...</td>\n",
              "      <td>...</td>\n",
              "      <td>...</td>\n",
              "      <td>...</td>\n",
              "      <td>...</td>\n",
              "      <td>...</td>\n",
              "    </tr>\n",
              "    <tr>\n",
              "      <th>95</th>\n",
              "      <td>KS-507</td>\n",
              "      <td>Kansas Balance of State CoC</td>\n",
              "      <td>Largely Rural CoC</td>\n",
              "      <td>Sheltered-Only Count</td>\n",
              "      <td>783</td>\n",
              "      <td>0.162</td>\n",
              "      <td>1170</td>\n",
              "      <td>703</td>\n",
              "      <td>452</td>\n",
              "      <td>15</td>\n",
              "      <td>170</td>\n",
              "      <td>572</td>\n",
              "      <td>430</td>\n",
              "      <td>41</td>\n",
              "      <td>153</td>\n",
              "      <td>276</td>\n",
              "      <td>1</td>\n",
              "      <td>48</td>\n",
              "      <td>307</td>\n",
              "      <td>60</td>\n",
              "      <td>7</td>\n",
              "      <td>23</td>\n",
              "      <td>33</td>\n",
              "    </tr>\n",
              "    <tr>\n",
              "      <th>96</th>\n",
              "      <td>CA-507</td>\n",
              "      <td>Marin County CoC</td>\n",
              "      <td>Largely Suburban CoC</td>\n",
              "      <td>Sheltered-Only Count</td>\n",
              "      <td>225</td>\n",
              "      <td>0.727</td>\n",
              "      <td>293</td>\n",
              "      <td>163</td>\n",
              "      <td>130</td>\n",
              "      <td>0</td>\n",
              "      <td>46</td>\n",
              "      <td>142</td>\n",
              "      <td>105</td>\n",
              "      <td>6</td>\n",
              "      <td>41</td>\n",
              "      <td>63</td>\n",
              "      <td>1</td>\n",
              "      <td>28</td>\n",
              "      <td>83</td>\n",
              "      <td>16</td>\n",
              "      <td>1</td>\n",
              "      <td>1</td>\n",
              "      <td>4</td>\n",
              "    </tr>\n",
              "    <tr>\n",
              "      <th>97</th>\n",
              "      <td>TN-512</td>\n",
              "      <td>Morristown/Blount, Sevier, Campbell, Cocke Cou...</td>\n",
              "      <td>Largely Rural CoC</td>\n",
              "      <td>Sheltered and full unsheltered</td>\n",
              "      <td>472</td>\n",
              "      <td>0.316</td>\n",
              "      <td>133</td>\n",
              "      <td>117</td>\n",
              "      <td>16</td>\n",
              "      <td>0</td>\n",
              "      <td>28</td>\n",
              "      <td>65</td>\n",
              "      <td>104</td>\n",
              "      <td>5</td>\n",
              "      <td>61</td>\n",
              "      <td>43</td>\n",
              "      <td>0</td>\n",
              "      <td>5</td>\n",
              "      <td>99</td>\n",
              "      <td>1</td>\n",
              "      <td>1</td>\n",
              "      <td>1</td>\n",
              "      <td>2</td>\n",
              "    </tr>\n",
              "    <tr>\n",
              "      <th>98</th>\n",
              "      <td>MA-515</td>\n",
              "      <td>Fall River CoC</td>\n",
              "      <td>Largely Suburban CoC</td>\n",
              "      <td>Sheltered and full unsheltered</td>\n",
              "      <td>324</td>\n",
              "      <td>0.877</td>\n",
              "      <td>236</td>\n",
              "      <td>212</td>\n",
              "      <td>24</td>\n",
              "      <td>0</td>\n",
              "      <td>67</td>\n",
              "      <td>215</td>\n",
              "      <td>223</td>\n",
              "      <td>15</td>\n",
              "      <td>122</td>\n",
              "      <td>101</td>\n",
              "      <td>0</td>\n",
              "      <td>72</td>\n",
              "      <td>135</td>\n",
              "      <td>80</td>\n",
              "      <td>1</td>\n",
              "      <td>2</td>\n",
              "      <td>5</td>\n",
              "    </tr>\n",
              "    <tr>\n",
              "      <th>99</th>\n",
              "      <td>CA-526</td>\n",
              "      <td>Amador, Calaveras, Mariposa, Tuolumne Counties...</td>\n",
              "      <td>Largely Rural CoC</td>\n",
              "      <td>Sheltered-Only Count</td>\n",
              "      <td>151</td>\n",
              "      <td>0.598</td>\n",
              "      <td>214</td>\n",
              "      <td>156</td>\n",
              "      <td>58</td>\n",
              "      <td>0</td>\n",
              "      <td>39</td>\n",
              "      <td>135</td>\n",
              "      <td>119</td>\n",
              "      <td>2</td>\n",
              "      <td>66</td>\n",
              "      <td>52</td>\n",
              "      <td>1</td>\n",
              "      <td>21</td>\n",
              "      <td>100</td>\n",
              "      <td>2</td>\n",
              "      <td>1</td>\n",
              "      <td>5</td>\n",
              "      <td>11</td>\n",
              "    </tr>\n",
              "  </tbody>\n",
              "</table>\n",
              "<p>100 rows × 23 columns</p>\n",
              "</div>\n",
              "    <div class=\"colab-df-buttons\">\n",
              "\n",
              "  <div class=\"colab-df-container\">\n",
              "    <button class=\"colab-df-convert\" onclick=\"convertToInteractive('df-dc75391d-ede8-48eb-8257-4ac587f4a99d')\"\n",
              "            title=\"Convert this dataframe to an interactive table.\"\n",
              "            style=\"display:none;\">\n",
              "\n",
              "  <svg xmlns=\"http://www.w3.org/2000/svg\" height=\"24px\" viewBox=\"0 -960 960 960\">\n",
              "    <path d=\"M120-120v-720h720v720H120Zm60-500h600v-160H180v160Zm220 220h160v-160H400v160Zm0 220h160v-160H400v160ZM180-400h160v-160H180v160Zm440 0h160v-160H620v160ZM180-180h160v-160H180v160Zm440 0h160v-160H620v160Z\"/>\n",
              "  </svg>\n",
              "    </button>\n",
              "\n",
              "  <style>\n",
              "    .colab-df-container {\n",
              "      display:flex;\n",
              "      gap: 12px;\n",
              "    }\n",
              "\n",
              "    .colab-df-convert {\n",
              "      background-color: #E8F0FE;\n",
              "      border: none;\n",
              "      border-radius: 50%;\n",
              "      cursor: pointer;\n",
              "      display: none;\n",
              "      fill: #1967D2;\n",
              "      height: 32px;\n",
              "      padding: 0 0 0 0;\n",
              "      width: 32px;\n",
              "    }\n",
              "\n",
              "    .colab-df-convert:hover {\n",
              "      background-color: #E2EBFA;\n",
              "      box-shadow: 0px 1px 2px rgba(60, 64, 67, 0.3), 0px 1px 3px 1px rgba(60, 64, 67, 0.15);\n",
              "      fill: #174EA6;\n",
              "    }\n",
              "\n",
              "    .colab-df-buttons div {\n",
              "      margin-bottom: 4px;\n",
              "    }\n",
              "\n",
              "    [theme=dark] .colab-df-convert {\n",
              "      background-color: #3B4455;\n",
              "      fill: #D2E3FC;\n",
              "    }\n",
              "\n",
              "    [theme=dark] .colab-df-convert:hover {\n",
              "      background-color: #434B5C;\n",
              "      box-shadow: 0px 1px 3px 1px rgba(0, 0, 0, 0.15);\n",
              "      filter: drop-shadow(0px 1px 2px rgba(0, 0, 0, 0.3));\n",
              "      fill: #FFFFFF;\n",
              "    }\n",
              "  </style>\n",
              "\n",
              "    <script>\n",
              "      const buttonEl =\n",
              "        document.querySelector('#df-dc75391d-ede8-48eb-8257-4ac587f4a99d button.colab-df-convert');\n",
              "      buttonEl.style.display =\n",
              "        google.colab.kernel.accessAllowed ? 'block' : 'none';\n",
              "\n",
              "      async function convertToInteractive(key) {\n",
              "        const element = document.querySelector('#df-dc75391d-ede8-48eb-8257-4ac587f4a99d');\n",
              "        const dataTable =\n",
              "          await google.colab.kernel.invokeFunction('convertToInteractive',\n",
              "                                                    [key], {});\n",
              "        if (!dataTable) return;\n",
              "\n",
              "        const docLinkHtml = 'Like what you see? Visit the ' +\n",
              "          '<a target=\"_blank\" href=https://colab.research.google.com/notebooks/data_table.ipynb>data table notebook</a>'\n",
              "          + ' to learn more about interactive tables.';\n",
              "        element.innerHTML = '';\n",
              "        dataTable['output_type'] = 'display_data';\n",
              "        await google.colab.output.renderOutput(dataTable, element);\n",
              "        const docLink = document.createElement('div');\n",
              "        docLink.innerHTML = docLinkHtml;\n",
              "        element.appendChild(docLink);\n",
              "      }\n",
              "    </script>\n",
              "  </div>\n",
              "\n",
              "\n",
              "<div id=\"df-cd73c29a-abad-4383-b2f5-989603e629e5\">\n",
              "  <button class=\"colab-df-quickchart\" onclick=\"quickchart('df-cd73c29a-abad-4383-b2f5-989603e629e5')\"\n",
              "            title=\"Suggest charts\"\n",
              "            style=\"display:none;\">\n",
              "\n",
              "<svg xmlns=\"http://www.w3.org/2000/svg\" height=\"24px\"viewBox=\"0 0 24 24\"\n",
              "     width=\"24px\">\n",
              "    <g>\n",
              "        <path d=\"M19 3H5c-1.1 0-2 .9-2 2v14c0 1.1.9 2 2 2h14c1.1 0 2-.9 2-2V5c0-1.1-.9-2-2-2zM9 17H7v-7h2v7zm4 0h-2V7h2v10zm4 0h-2v-4h2v4z\"/>\n",
              "    </g>\n",
              "</svg>\n",
              "  </button>\n",
              "\n",
              "<style>\n",
              "  .colab-df-quickchart {\n",
              "      --bg-color: #E8F0FE;\n",
              "      --fill-color: #1967D2;\n",
              "      --hover-bg-color: #E2EBFA;\n",
              "      --hover-fill-color: #174EA6;\n",
              "      --disabled-fill-color: #AAA;\n",
              "      --disabled-bg-color: #DDD;\n",
              "  }\n",
              "\n",
              "  [theme=dark] .colab-df-quickchart {\n",
              "      --bg-color: #3B4455;\n",
              "      --fill-color: #D2E3FC;\n",
              "      --hover-bg-color: #434B5C;\n",
              "      --hover-fill-color: #FFFFFF;\n",
              "      --disabled-bg-color: #3B4455;\n",
              "      --disabled-fill-color: #666;\n",
              "  }\n",
              "\n",
              "  .colab-df-quickchart {\n",
              "    background-color: var(--bg-color);\n",
              "    border: none;\n",
              "    border-radius: 50%;\n",
              "    cursor: pointer;\n",
              "    display: none;\n",
              "    fill: var(--fill-color);\n",
              "    height: 32px;\n",
              "    padding: 0;\n",
              "    width: 32px;\n",
              "  }\n",
              "\n",
              "  .colab-df-quickchart:hover {\n",
              "    background-color: var(--hover-bg-color);\n",
              "    box-shadow: 0 1px 2px rgba(60, 64, 67, 0.3), 0 1px 3px 1px rgba(60, 64, 67, 0.15);\n",
              "    fill: var(--button-hover-fill-color);\n",
              "  }\n",
              "\n",
              "  .colab-df-quickchart-complete:disabled,\n",
              "  .colab-df-quickchart-complete:disabled:hover {\n",
              "    background-color: var(--disabled-bg-color);\n",
              "    fill: var(--disabled-fill-color);\n",
              "    box-shadow: none;\n",
              "  }\n",
              "\n",
              "  .colab-df-spinner {\n",
              "    border: 2px solid var(--fill-color);\n",
              "    border-color: transparent;\n",
              "    border-bottom-color: var(--fill-color);\n",
              "    animation:\n",
              "      spin 1s steps(1) infinite;\n",
              "  }\n",
              "\n",
              "  @keyframes spin {\n",
              "    0% {\n",
              "      border-color: transparent;\n",
              "      border-bottom-color: var(--fill-color);\n",
              "      border-left-color: var(--fill-color);\n",
              "    }\n",
              "    20% {\n",
              "      border-color: transparent;\n",
              "      border-left-color: var(--fill-color);\n",
              "      border-top-color: var(--fill-color);\n",
              "    }\n",
              "    30% {\n",
              "      border-color: transparent;\n",
              "      border-left-color: var(--fill-color);\n",
              "      border-top-color: var(--fill-color);\n",
              "      border-right-color: var(--fill-color);\n",
              "    }\n",
              "    40% {\n",
              "      border-color: transparent;\n",
              "      border-right-color: var(--fill-color);\n",
              "      border-top-color: var(--fill-color);\n",
              "    }\n",
              "    60% {\n",
              "      border-color: transparent;\n",
              "      border-right-color: var(--fill-color);\n",
              "    }\n",
              "    80% {\n",
              "      border-color: transparent;\n",
              "      border-right-color: var(--fill-color);\n",
              "      border-bottom-color: var(--fill-color);\n",
              "    }\n",
              "    90% {\n",
              "      border-color: transparent;\n",
              "      border-bottom-color: var(--fill-color);\n",
              "    }\n",
              "  }\n",
              "</style>\n",
              "\n",
              "  <script>\n",
              "    async function quickchart(key) {\n",
              "      const quickchartButtonEl =\n",
              "        document.querySelector('#' + key + ' button');\n",
              "      quickchartButtonEl.disabled = true;  // To prevent multiple clicks.\n",
              "      quickchartButtonEl.classList.add('colab-df-spinner');\n",
              "      try {\n",
              "        const charts = await google.colab.kernel.invokeFunction(\n",
              "            'suggestCharts', [key], {});\n",
              "      } catch (error) {\n",
              "        console.error('Error during call to suggestCharts:', error);\n",
              "      }\n",
              "      quickchartButtonEl.classList.remove('colab-df-spinner');\n",
              "      quickchartButtonEl.classList.add('colab-df-quickchart-complete');\n",
              "    }\n",
              "    (() => {\n",
              "      let quickchartButtonEl =\n",
              "        document.querySelector('#df-cd73c29a-abad-4383-b2f5-989603e629e5 button');\n",
              "      quickchartButtonEl.style.display =\n",
              "        google.colab.kernel.accessAllowed ? 'block' : 'none';\n",
              "    })();\n",
              "  </script>\n",
              "</div>\n",
              "\n",
              "  <div id=\"id_086eb4f7-24d4-461f-a1dc-ea3d63474208\">\n",
              "    <style>\n",
              "      .colab-df-generate {\n",
              "        background-color: #E8F0FE;\n",
              "        border: none;\n",
              "        border-radius: 50%;\n",
              "        cursor: pointer;\n",
              "        display: none;\n",
              "        fill: #1967D2;\n",
              "        height: 32px;\n",
              "        padding: 0 0 0 0;\n",
              "        width: 32px;\n",
              "      }\n",
              "\n",
              "      .colab-df-generate:hover {\n",
              "        background-color: #E2EBFA;\n",
              "        box-shadow: 0px 1px 2px rgba(60, 64, 67, 0.3), 0px 1px 3px 1px rgba(60, 64, 67, 0.15);\n",
              "        fill: #174EA6;\n",
              "      }\n",
              "\n",
              "      [theme=dark] .colab-df-generate {\n",
              "        background-color: #3B4455;\n",
              "        fill: #D2E3FC;\n",
              "      }\n",
              "\n",
              "      [theme=dark] .colab-df-generate:hover {\n",
              "        background-color: #434B5C;\n",
              "        box-shadow: 0px 1px 3px 1px rgba(0, 0, 0, 0.15);\n",
              "        filter: drop-shadow(0px 1px 2px rgba(0, 0, 0, 0.3));\n",
              "        fill: #FFFFFF;\n",
              "      }\n",
              "    </style>\n",
              "    <button class=\"colab-df-generate\" onclick=\"generateWithVariable('df')\"\n",
              "            title=\"Generate code using this dataframe.\"\n",
              "            style=\"display:none;\">\n",
              "\n",
              "  <svg xmlns=\"http://www.w3.org/2000/svg\" height=\"24px\"viewBox=\"0 0 24 24\"\n",
              "       width=\"24px\">\n",
              "    <path d=\"M7,19H8.4L18.45,9,17,7.55,7,17.6ZM5,21V16.75L18.45,3.32a2,2,0,0,1,2.83,0l1.4,1.43a1.91,1.91,0,0,1,.58,1.4,1.91,1.91,0,0,1-.58,1.4L9.25,21ZM18.45,9,17,7.55Zm-12,3A5.31,5.31,0,0,0,4.9,8.1,5.31,5.31,0,0,0,1,6.5,5.31,5.31,0,0,0,4.9,4.9,5.31,5.31,0,0,0,6.5,1,5.31,5.31,0,0,0,8.1,4.9,5.31,5.31,0,0,0,12,6.5,5.46,5.46,0,0,0,6.5,12Z\"/>\n",
              "  </svg>\n",
              "    </button>\n",
              "    <script>\n",
              "      (() => {\n",
              "      const buttonEl =\n",
              "        document.querySelector('#id_086eb4f7-24d4-461f-a1dc-ea3d63474208 button.colab-df-generate');\n",
              "      buttonEl.style.display =\n",
              "        google.colab.kernel.accessAllowed ? 'block' : 'none';\n",
              "\n",
              "      buttonEl.onclick = () => {\n",
              "        google.colab.notebook.generateWithVariable('df');\n",
              "      }\n",
              "      })();\n",
              "    </script>\n",
              "  </div>\n",
              "\n",
              "    </div>\n",
              "  </div>\n"
            ],
            "application/vnd.google.colaboratory.intrinsic+json": {
              "type": "dataframe",
              "variable_name": "df"
            }
          },
          "metadata": {},
          "execution_count": 4
        }
      ],
      "source": [
        "# Set display options to show all columns\n",
        "pd.set_option('display.max_columns', None)\n",
        "df"
      ]
    },
    {
      "cell_type": "markdown",
      "metadata": {
        "id": "tx98lQoCoDkO"
      },
      "source": [
        "# **INSTRUCTIONS**\n",
        "\n",
        "* Use Python to analyze the data set and complete each of the following.\n",
        "* Replace ellipsis (...) with the relavent names or code.  \n",
        "* For problems that require a written response, double click the text box to start typing.\n",
        "* Reference the 3 tutorials from activity for assistance.\n",
        "* Attend office hours if you still need help."
      ]
    },
    {
      "cell_type": "markdown",
      "metadata": {
        "id": "9eylUIjNoDkO"
      },
      "source": [
        "## **QUESTION 1**\n",
        "Determine whether the four variables below are qualitative or quantitative. If they are quantitative, specify whether they are continuous or discrete."
      ]
    },
    {
      "cell_type": "markdown",
      "metadata": {
        "id": "4HG98WaloDkO"
      },
      "source": [
        "| Variable                   | Classification            |\n",
        "|:---------------------------|:--------------------------|\n",
        "| CoC Category               | ...  |\n",
        "| Type of Count              | ...  |\n",
        "| HMIS Participation Rate    | ...  |\n",
        "| Sheltered ES Homeless 2021 | ...  |"
      ]
    },
    {
      "cell_type": "markdown",
      "metadata": {
        "id": "waGCnfeOoDkO"
      },
      "source": [
        "## **QUESTION 2**\n",
        "\n",
        "For question 2 you will analyze a qualitative variable. Find your variable based on your last name and use that variable when answering all parts of question 2.\n",
        "\n",
        "Once you find your variable description, scroll up to \"About the Dataset\" to find the variable name. Then look at the \"Snippet of Data\" to get the exact variable name, especially since variable names are case sensitive. You can scroll to the right, if needed.\n",
        "\n",
        "Construct a frequency table, relative frequency table, and relative frequency bar chart to describe the distribution of your variable. State any fact that jumps out to you."
      ]
    },
    {
      "cell_type": "markdown",
      "metadata": {
        "id": "YftljO4ZfsRH"
      },
      "source": [
        "| **Last Name** | **Variable Description** |\n",
        "|:--------------|:-------------------------|\n",
        "| A-L           | CoC Category             |\n",
        "| M-Z           | Type of Count            |\n",
        "\n"
      ]
    },
    {
      "cell_type": "markdown",
      "metadata": {
        "id": "DgWrtMLZoDkO"
      },
      "source": [
        "**2a)** Construct a table that contains the frequency and relative frequency distribution for your variable. Round relative frequency to 3 decimal places."
      ]
    },
    {
      "cell_type": "code",
      "execution_count": 15,
      "metadata": {
        "colab": {
          "base_uri": "https://localhost:8080/",
          "height": 547
        },
        "outputId": "d5e3b426-8ae1-48c1-c85a-423a55916961",
        "id": "k_sKDXAvoDkO"
      },
      "outputs": [
        {
          "output_type": "error",
          "ename": "KeyError",
          "evalue": "'...'",
          "traceback": [
            "\u001b[0;31m---------------------------------------------------------------------------\u001b[0m",
            "\u001b[0;31mKeyError\u001b[0m                                  Traceback (most recent call last)",
            "\u001b[0;32m/usr/local/lib/python3.10/dist-packages/pandas/core/indexes/base.py\u001b[0m in \u001b[0;36mget_loc\u001b[0;34m(self, key)\u001b[0m\n\u001b[1;32m   3790\u001b[0m         \u001b[0;32mtry\u001b[0m\u001b[0;34m:\u001b[0m\u001b[0;34m\u001b[0m\u001b[0;34m\u001b[0m\u001b[0m\n\u001b[0;32m-> 3791\u001b[0;31m             \u001b[0;32mreturn\u001b[0m \u001b[0mself\u001b[0m\u001b[0;34m.\u001b[0m\u001b[0m_engine\u001b[0m\u001b[0;34m.\u001b[0m\u001b[0mget_loc\u001b[0m\u001b[0;34m(\u001b[0m\u001b[0mcasted_key\u001b[0m\u001b[0;34m)\u001b[0m\u001b[0;34m\u001b[0m\u001b[0;34m\u001b[0m\u001b[0m\n\u001b[0m\u001b[1;32m   3792\u001b[0m         \u001b[0;32mexcept\u001b[0m \u001b[0mKeyError\u001b[0m \u001b[0;32mas\u001b[0m \u001b[0merr\u001b[0m\u001b[0;34m:\u001b[0m\u001b[0;34m\u001b[0m\u001b[0;34m\u001b[0m\u001b[0m\n",
            "\u001b[0;32mindex.pyx\u001b[0m in \u001b[0;36mpandas._libs.index.IndexEngine.get_loc\u001b[0;34m()\u001b[0m\n",
            "\u001b[0;32mindex.pyx\u001b[0m in \u001b[0;36mpandas._libs.index.IndexEngine.get_loc\u001b[0;34m()\u001b[0m\n",
            "\u001b[0;32mpandas/_libs/hashtable_class_helper.pxi\u001b[0m in \u001b[0;36mpandas._libs.hashtable.PyObjectHashTable.get_item\u001b[0;34m()\u001b[0m\n",
            "\u001b[0;32mpandas/_libs/hashtable_class_helper.pxi\u001b[0m in \u001b[0;36mpandas._libs.hashtable.PyObjectHashTable.get_item\u001b[0;34m()\u001b[0m\n",
            "\u001b[0;31mKeyError\u001b[0m: '...'",
            "\nThe above exception was the direct cause of the following exception:\n",
            "\u001b[0;31mKeyError\u001b[0m                                  Traceback (most recent call last)",
            "\u001b[0;32m<ipython-input-15-39a60d77034f>\u001b[0m in \u001b[0;36m<cell line: 2>\u001b[0;34m()\u001b[0m\n\u001b[1;32m      1\u001b[0m \u001b[0;31m# Define the name of the variable to be analyzed\u001b[0m\u001b[0;34m\u001b[0m\u001b[0;34m\u001b[0m\u001b[0m\n\u001b[0;32m----> 2\u001b[0;31m \u001b[0mvariable\u001b[0m \u001b[0;34m=\u001b[0m \u001b[0mdf\u001b[0m\u001b[0;34m[\u001b[0m\u001b[0;34m'...'\u001b[0m\u001b[0;34m]\u001b[0m\u001b[0;34m\u001b[0m\u001b[0;34m\u001b[0m\u001b[0m\n\u001b[0m\u001b[1;32m      3\u001b[0m \u001b[0;34m\u001b[0m\u001b[0m\n\u001b[1;32m      4\u001b[0m \u001b[0;31m# Create the frequency table and sort the categories in numerical order.\u001b[0m\u001b[0;34m\u001b[0m\u001b[0;34m\u001b[0m\u001b[0m\n\u001b[1;32m      5\u001b[0m \u001b[0;31m# .sort_index works here because the category names are numerical.\u001b[0m\u001b[0;34m\u001b[0m\u001b[0;34m\u001b[0m\u001b[0m\n",
            "\u001b[0;32m/usr/local/lib/python3.10/dist-packages/pandas/core/frame.py\u001b[0m in \u001b[0;36m__getitem__\u001b[0;34m(self, key)\u001b[0m\n\u001b[1;32m   3891\u001b[0m             \u001b[0;32mif\u001b[0m \u001b[0mself\u001b[0m\u001b[0;34m.\u001b[0m\u001b[0mcolumns\u001b[0m\u001b[0;34m.\u001b[0m\u001b[0mnlevels\u001b[0m \u001b[0;34m>\u001b[0m \u001b[0;36m1\u001b[0m\u001b[0;34m:\u001b[0m\u001b[0;34m\u001b[0m\u001b[0;34m\u001b[0m\u001b[0m\n\u001b[1;32m   3892\u001b[0m                 \u001b[0;32mreturn\u001b[0m \u001b[0mself\u001b[0m\u001b[0;34m.\u001b[0m\u001b[0m_getitem_multilevel\u001b[0m\u001b[0;34m(\u001b[0m\u001b[0mkey\u001b[0m\u001b[0;34m)\u001b[0m\u001b[0;34m\u001b[0m\u001b[0;34m\u001b[0m\u001b[0m\n\u001b[0;32m-> 3893\u001b[0;31m             \u001b[0mindexer\u001b[0m \u001b[0;34m=\u001b[0m \u001b[0mself\u001b[0m\u001b[0;34m.\u001b[0m\u001b[0mcolumns\u001b[0m\u001b[0;34m.\u001b[0m\u001b[0mget_loc\u001b[0m\u001b[0;34m(\u001b[0m\u001b[0mkey\u001b[0m\u001b[0;34m)\u001b[0m\u001b[0;34m\u001b[0m\u001b[0;34m\u001b[0m\u001b[0m\n\u001b[0m\u001b[1;32m   3894\u001b[0m             \u001b[0;32mif\u001b[0m \u001b[0mis_integer\u001b[0m\u001b[0;34m(\u001b[0m\u001b[0mindexer\u001b[0m\u001b[0;34m)\u001b[0m\u001b[0;34m:\u001b[0m\u001b[0;34m\u001b[0m\u001b[0;34m\u001b[0m\u001b[0m\n\u001b[1;32m   3895\u001b[0m                 \u001b[0mindexer\u001b[0m \u001b[0;34m=\u001b[0m \u001b[0;34m[\u001b[0m\u001b[0mindexer\u001b[0m\u001b[0;34m]\u001b[0m\u001b[0;34m\u001b[0m\u001b[0;34m\u001b[0m\u001b[0m\n",
            "\u001b[0;32m/usr/local/lib/python3.10/dist-packages/pandas/core/indexes/base.py\u001b[0m in \u001b[0;36mget_loc\u001b[0;34m(self, key)\u001b[0m\n\u001b[1;32m   3796\u001b[0m             ):\n\u001b[1;32m   3797\u001b[0m                 \u001b[0;32mraise\u001b[0m \u001b[0mInvalidIndexError\u001b[0m\u001b[0;34m(\u001b[0m\u001b[0mkey\u001b[0m\u001b[0;34m)\u001b[0m\u001b[0;34m\u001b[0m\u001b[0;34m\u001b[0m\u001b[0m\n\u001b[0;32m-> 3798\u001b[0;31m             \u001b[0;32mraise\u001b[0m \u001b[0mKeyError\u001b[0m\u001b[0;34m(\u001b[0m\u001b[0mkey\u001b[0m\u001b[0;34m)\u001b[0m \u001b[0;32mfrom\u001b[0m \u001b[0merr\u001b[0m\u001b[0;34m\u001b[0m\u001b[0;34m\u001b[0m\u001b[0m\n\u001b[0m\u001b[1;32m   3799\u001b[0m         \u001b[0;32mexcept\u001b[0m \u001b[0mTypeError\u001b[0m\u001b[0;34m:\u001b[0m\u001b[0;34m\u001b[0m\u001b[0;34m\u001b[0m\u001b[0m\n\u001b[1;32m   3800\u001b[0m             \u001b[0;31m# If we have a listlike key, _check_indexing_error will raise\u001b[0m\u001b[0;34m\u001b[0m\u001b[0;34m\u001b[0m\u001b[0m\n",
            "\u001b[0;31mKeyError\u001b[0m: '...'"
          ]
        }
      ],
      "source": [
        "# Define the name of the variable to be analyzed\n",
        "variable = df['...']\n",
        "\n",
        "# Create the frequency table and sort the categories in numerical order.\n",
        "# .sort_index works here because the category names are numerical.\n",
        "# rename \"count\" to \"frequency\"\n",
        "freq_table = pd.value_counts(variable)\n",
        "freq_table = freq_table.rename('Frequency')\n",
        "\n",
        "# Create the relative frequency table, and rename the counts column to\n",
        "#   Relative Frequency.\n",
        "relative_freq_table = freq_table/...           #HINT: look back at Project 0 or Tutorial 1.\n",
        "relative_freq_table = relative_freq_table.rename('...').round(3)\n",
        "\n",
        "# Combine both tables\n",
        "# axis=1 says to put the tables together as columns\n",
        "combined_table=pd.concat([..., ...], axis=1)\n",
        "\n",
        "# Print the combined table.\n",
        "...\n"
      ]
    },
    {
      "cell_type": "markdown",
      "metadata": {
        "id": "6fG0bhdGoDkO"
      },
      "source": [
        "**2b)** Construct a relative frequency bar chart to describe the distribution of chest pain type."
      ]
    },
    {
      "cell_type": "code",
      "execution_count": 16,
      "metadata": {
        "colab": {
          "base_uri": "https://localhost:8080/",
          "height": 332
        },
        "outputId": "bf8ed0d3-c94e-4d01-8fc7-6b3279e5bcad",
        "id": "7N9R5ir4oDkO"
      },
      "outputs": [
        {
          "output_type": "error",
          "ename": "ValueError",
          "evalue": "DataFrame constructor not properly called!",
          "traceback": [
            "\u001b[0;31m---------------------------------------------------------------------------\u001b[0m",
            "\u001b[0;31mValueError\u001b[0m                                Traceback (most recent call last)",
            "\u001b[0;32m<ipython-input-16-5747a097df8e>\u001b[0m in \u001b[0;36m<cell line: 4>\u001b[0;34m()\u001b[0m\n\u001b[1;32m      2\u001b[0m \u001b[0;31m#      bar graph. Since we want a relative freqency bar chart, which is the\u001b[0m\u001b[0;34m\u001b[0m\u001b[0;34m\u001b[0m\u001b[0m\n\u001b[1;32m      3\u001b[0m \u001b[0;31m#      correct label to replace the ellipsis (...) in this code?\u001b[0m\u001b[0;34m\u001b[0m\u001b[0;34m\u001b[0m\u001b[0m\n\u001b[0;32m----> 4\u001b[0;31m \u001b[0mdfrf\u001b[0m \u001b[0;34m=\u001b[0m \u001b[0mpd\u001b[0m\u001b[0;34m.\u001b[0m\u001b[0mDataFrame\u001b[0m\u001b[0;34m(\u001b[0m\u001b[0;34m...\u001b[0m\u001b[0;34m)\u001b[0m\u001b[0;34m\u001b[0m\u001b[0;34m\u001b[0m\u001b[0m\n\u001b[0m\u001b[1;32m      5\u001b[0m \u001b[0;34m\u001b[0m\u001b[0m\n\u001b[1;32m      6\u001b[0m \u001b[0;31m# Create the bar graph\u001b[0m\u001b[0;34m\u001b[0m\u001b[0;34m\u001b[0m\u001b[0m\n",
            "\u001b[0;32m/usr/local/lib/python3.10/dist-packages/pandas/core/frame.py\u001b[0m in \u001b[0;36m__init__\u001b[0;34m(self, data, index, columns, dtype, copy)\u001b[0m\n\u001b[1;32m    839\u001b[0m         \u001b[0;32melse\u001b[0m\u001b[0;34m:\u001b[0m\u001b[0;34m\u001b[0m\u001b[0;34m\u001b[0m\u001b[0m\n\u001b[1;32m    840\u001b[0m             \u001b[0;32mif\u001b[0m \u001b[0mindex\u001b[0m \u001b[0;32mis\u001b[0m \u001b[0;32mNone\u001b[0m \u001b[0;32mor\u001b[0m \u001b[0mcolumns\u001b[0m \u001b[0;32mis\u001b[0m \u001b[0;32mNone\u001b[0m\u001b[0;34m:\u001b[0m\u001b[0;34m\u001b[0m\u001b[0;34m\u001b[0m\u001b[0m\n\u001b[0;32m--> 841\u001b[0;31m                 \u001b[0;32mraise\u001b[0m \u001b[0mValueError\u001b[0m\u001b[0;34m(\u001b[0m\u001b[0;34m\"DataFrame constructor not properly called!\"\u001b[0m\u001b[0;34m)\u001b[0m\u001b[0;34m\u001b[0m\u001b[0;34m\u001b[0m\u001b[0m\n\u001b[0m\u001b[1;32m    842\u001b[0m \u001b[0;34m\u001b[0m\u001b[0m\n\u001b[1;32m    843\u001b[0m             \u001b[0mindex\u001b[0m \u001b[0;34m=\u001b[0m \u001b[0mensure_index\u001b[0m\u001b[0;34m(\u001b[0m\u001b[0mindex\u001b[0m\u001b[0;34m)\u001b[0m\u001b[0;34m\u001b[0m\u001b[0;34m\u001b[0m\u001b[0m\n",
            "\u001b[0;31mValueError\u001b[0m: DataFrame constructor not properly called!"
          ]
        }
      ],
      "source": [
        "# The argument in (...) tells the system which table to use to make the\n",
        "#      bar graph. Since we want a relative freqency bar chart, which is the\n",
        "#      correct label to replace the ellipsis (...) in this code?\n",
        "dfrf = pd.DataFrame(...)\n",
        "\n",
        "# Create the bar graph\n",
        "fig = px.bar(x=dfrf.index,y=dfrf['Relative Frequency'],\n",
        "             title='...')\n",
        "\n",
        "# Update axis labels\n",
        "fig.update_layout(xaxis_title='...')\n",
        "fig.update_layout(yaxis_title='...')\n",
        "\n",
        "# Show the bar graph\n",
        "fig.show()"
      ]
    },
    {
      "cell_type": "markdown",
      "metadata": {
        "id": "n-Xhz45loDkP"
      },
      "source": [
        "**2c)** Describe the distribution of your variable.\n",
        "\n",
        "..."
      ]
    },
    {
      "cell_type": "markdown",
      "metadata": {
        "id": "FLeNrbKaoDkP"
      },
      "source": [
        "## **Question 3**\n",
        "\n",
        "For question 3 you will analyze a quantitative variable. Find your variable based on your last name and use that variable when answering all parts of question 3.  \n",
        "\n",
        "Once you find your variable description, scroll up to \"About the Dataset\" to find the variable name. Then look at the \"Snippet of Data\" to get the exact variable name, especially since variable names are case sensitive."
      ]
    },
    {
      "cell_type": "markdown",
      "metadata": {
        "id": "gDoTWqTRoDkP"
      },
      "source": [
        "| **Last Name** | **Variable Description**               |\n",
        "|---------------|----------------------------------------|\n",
        "| A-L           | HMIS Participation Rate for Year-Round Beds (ES, TH, SH) |\n",
        "| M-Z           | Sheltered ES Homeless, 2021   |\n",
        "\n"
      ]
    },
    {
      "cell_type": "markdown",
      "metadata": {
        "id": "lQqO6o2toDkP"
      },
      "source": [
        "**3a)** Construct a histogram for your variable. Use number of bins = 18."
      ]
    },
    {
      "cell_type": "code",
      "execution_count": 17,
      "metadata": {
        "colab": {
          "base_uri": "https://localhost:8080/",
          "height": 547
        },
        "id": "e64x77PhTaW4",
        "outputId": "3245e3c6-4774-4e05-c68e-2f4cb714f41e"
      },
      "outputs": [
        {
          "output_type": "error",
          "ename": "KeyError",
          "evalue": "'...'",
          "traceback": [
            "\u001b[0;31m---------------------------------------------------------------------------\u001b[0m",
            "\u001b[0;31mKeyError\u001b[0m                                  Traceback (most recent call last)",
            "\u001b[0;32m/usr/local/lib/python3.10/dist-packages/pandas/core/indexes/base.py\u001b[0m in \u001b[0;36mget_loc\u001b[0;34m(self, key)\u001b[0m\n\u001b[1;32m   3790\u001b[0m         \u001b[0;32mtry\u001b[0m\u001b[0;34m:\u001b[0m\u001b[0;34m\u001b[0m\u001b[0;34m\u001b[0m\u001b[0m\n\u001b[0;32m-> 3791\u001b[0;31m             \u001b[0;32mreturn\u001b[0m \u001b[0mself\u001b[0m\u001b[0;34m.\u001b[0m\u001b[0m_engine\u001b[0m\u001b[0;34m.\u001b[0m\u001b[0mget_loc\u001b[0m\u001b[0;34m(\u001b[0m\u001b[0mcasted_key\u001b[0m\u001b[0;34m)\u001b[0m\u001b[0;34m\u001b[0m\u001b[0;34m\u001b[0m\u001b[0m\n\u001b[0m\u001b[1;32m   3792\u001b[0m         \u001b[0;32mexcept\u001b[0m \u001b[0mKeyError\u001b[0m \u001b[0;32mas\u001b[0m \u001b[0merr\u001b[0m\u001b[0;34m:\u001b[0m\u001b[0;34m\u001b[0m\u001b[0;34m\u001b[0m\u001b[0m\n",
            "\u001b[0;32mindex.pyx\u001b[0m in \u001b[0;36mpandas._libs.index.IndexEngine.get_loc\u001b[0;34m()\u001b[0m\n",
            "\u001b[0;32mindex.pyx\u001b[0m in \u001b[0;36mpandas._libs.index.IndexEngine.get_loc\u001b[0;34m()\u001b[0m\n",
            "\u001b[0;32mpandas/_libs/hashtable_class_helper.pxi\u001b[0m in \u001b[0;36mpandas._libs.hashtable.PyObjectHashTable.get_item\u001b[0;34m()\u001b[0m\n",
            "\u001b[0;32mpandas/_libs/hashtable_class_helper.pxi\u001b[0m in \u001b[0;36mpandas._libs.hashtable.PyObjectHashTable.get_item\u001b[0;34m()\u001b[0m\n",
            "\u001b[0;31mKeyError\u001b[0m: '...'",
            "\nThe above exception was the direct cause of the following exception:\n",
            "\u001b[0;31mKeyError\u001b[0m                                  Traceback (most recent call last)",
            "\u001b[0;32m<ipython-input-17-31e13ad1b136>\u001b[0m in \u001b[0;36m<cell line: 3>\u001b[0;34m()\u001b[0m\n\u001b[1;32m      1\u001b[0m \u001b[0;31m# Create the histogram, with the x-axis being the variable specified in the\u001b[0m\u001b[0;34m\u001b[0m\u001b[0;34m\u001b[0m\u001b[0m\n\u001b[1;32m      2\u001b[0m \u001b[0;31m#   table based on your last name.\u001b[0m\u001b[0;34m\u001b[0m\u001b[0;34m\u001b[0m\u001b[0m\n\u001b[0;32m----> 3\u001b[0;31m fig = px.histogram(x=df['...'],nbins = ...,\n\u001b[0m\u001b[1;32m      4\u001b[0m              \u001b[0mtitle\u001b[0m\u001b[0;34m=\u001b[0m\u001b[0;34m'...'\u001b[0m\u001b[0;34m,\u001b[0m\u001b[0;34m\u001b[0m\u001b[0;34m\u001b[0m\u001b[0m\n\u001b[1;32m      5\u001b[0m              labels={'x':'...'})  \n",
            "\u001b[0;32m/usr/local/lib/python3.10/dist-packages/pandas/core/frame.py\u001b[0m in \u001b[0;36m__getitem__\u001b[0;34m(self, key)\u001b[0m\n\u001b[1;32m   3891\u001b[0m             \u001b[0;32mif\u001b[0m \u001b[0mself\u001b[0m\u001b[0;34m.\u001b[0m\u001b[0mcolumns\u001b[0m\u001b[0;34m.\u001b[0m\u001b[0mnlevels\u001b[0m \u001b[0;34m>\u001b[0m \u001b[0;36m1\u001b[0m\u001b[0;34m:\u001b[0m\u001b[0;34m\u001b[0m\u001b[0;34m\u001b[0m\u001b[0m\n\u001b[1;32m   3892\u001b[0m                 \u001b[0;32mreturn\u001b[0m \u001b[0mself\u001b[0m\u001b[0;34m.\u001b[0m\u001b[0m_getitem_multilevel\u001b[0m\u001b[0;34m(\u001b[0m\u001b[0mkey\u001b[0m\u001b[0;34m)\u001b[0m\u001b[0;34m\u001b[0m\u001b[0;34m\u001b[0m\u001b[0m\n\u001b[0;32m-> 3893\u001b[0;31m             \u001b[0mindexer\u001b[0m \u001b[0;34m=\u001b[0m \u001b[0mself\u001b[0m\u001b[0;34m.\u001b[0m\u001b[0mcolumns\u001b[0m\u001b[0;34m.\u001b[0m\u001b[0mget_loc\u001b[0m\u001b[0;34m(\u001b[0m\u001b[0mkey\u001b[0m\u001b[0;34m)\u001b[0m\u001b[0;34m\u001b[0m\u001b[0;34m\u001b[0m\u001b[0m\n\u001b[0m\u001b[1;32m   3894\u001b[0m             \u001b[0;32mif\u001b[0m \u001b[0mis_integer\u001b[0m\u001b[0;34m(\u001b[0m\u001b[0mindexer\u001b[0m\u001b[0;34m)\u001b[0m\u001b[0;34m:\u001b[0m\u001b[0;34m\u001b[0m\u001b[0;34m\u001b[0m\u001b[0m\n\u001b[1;32m   3895\u001b[0m                 \u001b[0mindexer\u001b[0m \u001b[0;34m=\u001b[0m \u001b[0;34m[\u001b[0m\u001b[0mindexer\u001b[0m\u001b[0;34m]\u001b[0m\u001b[0;34m\u001b[0m\u001b[0;34m\u001b[0m\u001b[0m\n",
            "\u001b[0;32m/usr/local/lib/python3.10/dist-packages/pandas/core/indexes/base.py\u001b[0m in \u001b[0;36mget_loc\u001b[0;34m(self, key)\u001b[0m\n\u001b[1;32m   3796\u001b[0m             ):\n\u001b[1;32m   3797\u001b[0m                 \u001b[0;32mraise\u001b[0m \u001b[0mInvalidIndexError\u001b[0m\u001b[0;34m(\u001b[0m\u001b[0mkey\u001b[0m\u001b[0;34m)\u001b[0m\u001b[0;34m\u001b[0m\u001b[0;34m\u001b[0m\u001b[0m\n\u001b[0;32m-> 3798\u001b[0;31m             \u001b[0;32mraise\u001b[0m \u001b[0mKeyError\u001b[0m\u001b[0;34m(\u001b[0m\u001b[0mkey\u001b[0m\u001b[0;34m)\u001b[0m \u001b[0;32mfrom\u001b[0m \u001b[0merr\u001b[0m\u001b[0;34m\u001b[0m\u001b[0;34m\u001b[0m\u001b[0m\n\u001b[0m\u001b[1;32m   3799\u001b[0m         \u001b[0;32mexcept\u001b[0m \u001b[0mTypeError\u001b[0m\u001b[0;34m:\u001b[0m\u001b[0;34m\u001b[0m\u001b[0;34m\u001b[0m\u001b[0m\n\u001b[1;32m   3800\u001b[0m             \u001b[0;31m# If we have a listlike key, _check_indexing_error will raise\u001b[0m\u001b[0;34m\u001b[0m\u001b[0;34m\u001b[0m\u001b[0m\n",
            "\u001b[0;31mKeyError\u001b[0m: '...'"
          ]
        }
      ],
      "source": [
        "# Create the histogram, with the x-axis being the variable specified in the\n",
        "#   table based on your last name.\n",
        "fig = px.histogram(x=df['...'],nbins = ...,\n",
        "             title='...',\n",
        "             labels={'x':'...'})\n",
        "\n",
        "# Update the vertical axis title.\n",
        "fig.update_layout(yaxis_title='...')\n",
        "\n",
        "# Print the histogram\n",
        "fig.show()"
      ]
    },
    {
      "cell_type": "markdown",
      "metadata": {
        "id": "Ks7CG_AJ0bOf"
      },
      "source": [
        "**3b)** Construct a boxplot for your variable.  "
      ]
    },
    {
      "cell_type": "code",
      "execution_count": 18,
      "metadata": {
        "colab": {
          "base_uri": "https://localhost:8080/",
          "height": 547
        },
        "id": "F2JqrTPATg_s",
        "outputId": "d727e046-fd31-4101-875b-39097fa1338a"
      },
      "outputs": [
        {
          "output_type": "error",
          "ename": "KeyError",
          "evalue": "'...'",
          "traceback": [
            "\u001b[0;31m---------------------------------------------------------------------------\u001b[0m",
            "\u001b[0;31mKeyError\u001b[0m                                  Traceback (most recent call last)",
            "\u001b[0;32m/usr/local/lib/python3.10/dist-packages/pandas/core/indexes/base.py\u001b[0m in \u001b[0;36mget_loc\u001b[0;34m(self, key)\u001b[0m\n\u001b[1;32m   3790\u001b[0m         \u001b[0;32mtry\u001b[0m\u001b[0;34m:\u001b[0m\u001b[0;34m\u001b[0m\u001b[0;34m\u001b[0m\u001b[0m\n\u001b[0;32m-> 3791\u001b[0;31m             \u001b[0;32mreturn\u001b[0m \u001b[0mself\u001b[0m\u001b[0;34m.\u001b[0m\u001b[0m_engine\u001b[0m\u001b[0;34m.\u001b[0m\u001b[0mget_loc\u001b[0m\u001b[0;34m(\u001b[0m\u001b[0mcasted_key\u001b[0m\u001b[0;34m)\u001b[0m\u001b[0;34m\u001b[0m\u001b[0;34m\u001b[0m\u001b[0m\n\u001b[0m\u001b[1;32m   3792\u001b[0m         \u001b[0;32mexcept\u001b[0m \u001b[0mKeyError\u001b[0m \u001b[0;32mas\u001b[0m \u001b[0merr\u001b[0m\u001b[0;34m:\u001b[0m\u001b[0;34m\u001b[0m\u001b[0;34m\u001b[0m\u001b[0m\n",
            "\u001b[0;32mindex.pyx\u001b[0m in \u001b[0;36mpandas._libs.index.IndexEngine.get_loc\u001b[0;34m()\u001b[0m\n",
            "\u001b[0;32mindex.pyx\u001b[0m in \u001b[0;36mpandas._libs.index.IndexEngine.get_loc\u001b[0;34m()\u001b[0m\n",
            "\u001b[0;32mpandas/_libs/hashtable_class_helper.pxi\u001b[0m in \u001b[0;36mpandas._libs.hashtable.PyObjectHashTable.get_item\u001b[0;34m()\u001b[0m\n",
            "\u001b[0;32mpandas/_libs/hashtable_class_helper.pxi\u001b[0m in \u001b[0;36mpandas._libs.hashtable.PyObjectHashTable.get_item\u001b[0;34m()\u001b[0m\n",
            "\u001b[0;31mKeyError\u001b[0m: '...'",
            "\nThe above exception was the direct cause of the following exception:\n",
            "\u001b[0;31mKeyError\u001b[0m                                  Traceback (most recent call last)",
            "\u001b[0;32m<ipython-input-18-8b99c944fa73>\u001b[0m in \u001b[0;36m<cell line: 2>\u001b[0;34m()\u001b[0m\n\u001b[1;32m      1\u001b[0m \u001b[0;31m# Create the boxplot, with a title, and specify horizontal axis label.\u001b[0m\u001b[0;34m\u001b[0m\u001b[0;34m\u001b[0m\u001b[0m\n\u001b[0;32m----> 2\u001b[0;31m px.box(x=df['...'],\n\u001b[0m\u001b[1;32m      3\u001b[0m        \u001b[0mtitle\u001b[0m\u001b[0;34m=\u001b[0m\u001b[0;34m...\u001b[0m\u001b[0;34m,\u001b[0m\u001b[0;34m\u001b[0m\u001b[0;34m\u001b[0m\u001b[0m\n\u001b[1;32m      4\u001b[0m        labels={'x':...})\n",
            "\u001b[0;32m/usr/local/lib/python3.10/dist-packages/pandas/core/frame.py\u001b[0m in \u001b[0;36m__getitem__\u001b[0;34m(self, key)\u001b[0m\n\u001b[1;32m   3891\u001b[0m             \u001b[0;32mif\u001b[0m \u001b[0mself\u001b[0m\u001b[0;34m.\u001b[0m\u001b[0mcolumns\u001b[0m\u001b[0;34m.\u001b[0m\u001b[0mnlevels\u001b[0m \u001b[0;34m>\u001b[0m \u001b[0;36m1\u001b[0m\u001b[0;34m:\u001b[0m\u001b[0;34m\u001b[0m\u001b[0;34m\u001b[0m\u001b[0m\n\u001b[1;32m   3892\u001b[0m                 \u001b[0;32mreturn\u001b[0m \u001b[0mself\u001b[0m\u001b[0;34m.\u001b[0m\u001b[0m_getitem_multilevel\u001b[0m\u001b[0;34m(\u001b[0m\u001b[0mkey\u001b[0m\u001b[0;34m)\u001b[0m\u001b[0;34m\u001b[0m\u001b[0;34m\u001b[0m\u001b[0m\n\u001b[0;32m-> 3893\u001b[0;31m             \u001b[0mindexer\u001b[0m \u001b[0;34m=\u001b[0m \u001b[0mself\u001b[0m\u001b[0;34m.\u001b[0m\u001b[0mcolumns\u001b[0m\u001b[0;34m.\u001b[0m\u001b[0mget_loc\u001b[0m\u001b[0;34m(\u001b[0m\u001b[0mkey\u001b[0m\u001b[0;34m)\u001b[0m\u001b[0;34m\u001b[0m\u001b[0;34m\u001b[0m\u001b[0m\n\u001b[0m\u001b[1;32m   3894\u001b[0m             \u001b[0;32mif\u001b[0m \u001b[0mis_integer\u001b[0m\u001b[0;34m(\u001b[0m\u001b[0mindexer\u001b[0m\u001b[0;34m)\u001b[0m\u001b[0;34m:\u001b[0m\u001b[0;34m\u001b[0m\u001b[0;34m\u001b[0m\u001b[0m\n\u001b[1;32m   3895\u001b[0m                 \u001b[0mindexer\u001b[0m \u001b[0;34m=\u001b[0m \u001b[0;34m[\u001b[0m\u001b[0mindexer\u001b[0m\u001b[0;34m]\u001b[0m\u001b[0;34m\u001b[0m\u001b[0;34m\u001b[0m\u001b[0m\n",
            "\u001b[0;32m/usr/local/lib/python3.10/dist-packages/pandas/core/indexes/base.py\u001b[0m in \u001b[0;36mget_loc\u001b[0;34m(self, key)\u001b[0m\n\u001b[1;32m   3796\u001b[0m             ):\n\u001b[1;32m   3797\u001b[0m                 \u001b[0;32mraise\u001b[0m \u001b[0mInvalidIndexError\u001b[0m\u001b[0;34m(\u001b[0m\u001b[0mkey\u001b[0m\u001b[0;34m)\u001b[0m\u001b[0;34m\u001b[0m\u001b[0;34m\u001b[0m\u001b[0m\n\u001b[0;32m-> 3798\u001b[0;31m             \u001b[0;32mraise\u001b[0m \u001b[0mKeyError\u001b[0m\u001b[0;34m(\u001b[0m\u001b[0mkey\u001b[0m\u001b[0;34m)\u001b[0m \u001b[0;32mfrom\u001b[0m \u001b[0merr\u001b[0m\u001b[0;34m\u001b[0m\u001b[0;34m\u001b[0m\u001b[0m\n\u001b[0m\u001b[1;32m   3799\u001b[0m         \u001b[0;32mexcept\u001b[0m \u001b[0mTypeError\u001b[0m\u001b[0;34m:\u001b[0m\u001b[0;34m\u001b[0m\u001b[0;34m\u001b[0m\u001b[0m\n\u001b[1;32m   3800\u001b[0m             \u001b[0;31m# If we have a listlike key, _check_indexing_error will raise\u001b[0m\u001b[0;34m\u001b[0m\u001b[0;34m\u001b[0m\u001b[0m\n",
            "\u001b[0;31mKeyError\u001b[0m: '...'"
          ]
        }
      ],
      "source": [
        "# Create the boxplot, with a title, and specify horizontal axis label.\n",
        "px.box(x=df['...'],\n",
        "       title=...,\n",
        "       labels={'x':...})"
      ]
    },
    {
      "cell_type": "markdown",
      "source": [
        "**3c)** Calculate the following summary statistics for your variable: 5 number summary, mean, and standard deviation. Round to three decimal places."
      ],
      "metadata": {
        "id": "9BCskrHU0blp"
      }
    },
    {
      "cell_type": "code",
      "source": [
        "# Calculate the numerical summaries\n",
        "# Indicate your variable.\n",
        "descriptive_stats = df[[...]].describe().round(...)\n",
        "\n",
        "# Print the results.\n",
        "...\n"
      ],
      "metadata": {
        "colab": {
          "base_uri": "https://localhost:8080/",
          "height": 356
        },
        "id": "44TVRz9LTsML",
        "outputId": "51576d70-327e-4629-991a-c17679e1b0eb"
      },
      "execution_count": 19,
      "outputs": [
        {
          "output_type": "error",
          "ename": "KeyError",
          "evalue": "\"None of [Index([Ellipsis], dtype='object')] are in the [columns]\"",
          "traceback": [
            "\u001b[0;31m---------------------------------------------------------------------------\u001b[0m",
            "\u001b[0;31mKeyError\u001b[0m                                  Traceback (most recent call last)",
            "\u001b[0;32m<ipython-input-19-f2a423e51d57>\u001b[0m in \u001b[0;36m<cell line: 3>\u001b[0;34m()\u001b[0m\n\u001b[1;32m      1\u001b[0m \u001b[0;31m# Calculate the numerical summaries\u001b[0m\u001b[0;34m\u001b[0m\u001b[0;34m\u001b[0m\u001b[0m\n\u001b[1;32m      2\u001b[0m \u001b[0;31m# Indicate your variable.\u001b[0m\u001b[0;34m\u001b[0m\u001b[0;34m\u001b[0m\u001b[0m\n\u001b[0;32m----> 3\u001b[0;31m \u001b[0mdescriptive_stats\u001b[0m \u001b[0;34m=\u001b[0m \u001b[0mdf\u001b[0m\u001b[0;34m[\u001b[0m\u001b[0;34m[\u001b[0m\u001b[0;34m...\u001b[0m\u001b[0;34m]\u001b[0m\u001b[0;34m]\u001b[0m\u001b[0;34m.\u001b[0m\u001b[0mdescribe\u001b[0m\u001b[0;34m(\u001b[0m\u001b[0;34m)\u001b[0m\u001b[0;34m.\u001b[0m\u001b[0mround\u001b[0m\u001b[0;34m(\u001b[0m\u001b[0;34m...\u001b[0m\u001b[0;34m)\u001b[0m\u001b[0;34m\u001b[0m\u001b[0;34m\u001b[0m\u001b[0m\n\u001b[0m\u001b[1;32m      4\u001b[0m \u001b[0;34m\u001b[0m\u001b[0m\n\u001b[1;32m      5\u001b[0m \u001b[0;31m# Print the results.\u001b[0m\u001b[0;34m\u001b[0m\u001b[0;34m\u001b[0m\u001b[0m\n",
            "\u001b[0;32m/usr/local/lib/python3.10/dist-packages/pandas/core/frame.py\u001b[0m in \u001b[0;36m__getitem__\u001b[0;34m(self, key)\u001b[0m\n\u001b[1;32m   3897\u001b[0m             \u001b[0;32mif\u001b[0m \u001b[0mis_iterator\u001b[0m\u001b[0;34m(\u001b[0m\u001b[0mkey\u001b[0m\u001b[0;34m)\u001b[0m\u001b[0;34m:\u001b[0m\u001b[0;34m\u001b[0m\u001b[0;34m\u001b[0m\u001b[0m\n\u001b[1;32m   3898\u001b[0m                 \u001b[0mkey\u001b[0m \u001b[0;34m=\u001b[0m \u001b[0mlist\u001b[0m\u001b[0;34m(\u001b[0m\u001b[0mkey\u001b[0m\u001b[0;34m)\u001b[0m\u001b[0;34m\u001b[0m\u001b[0;34m\u001b[0m\u001b[0m\n\u001b[0;32m-> 3899\u001b[0;31m             \u001b[0mindexer\u001b[0m \u001b[0;34m=\u001b[0m \u001b[0mself\u001b[0m\u001b[0;34m.\u001b[0m\u001b[0mcolumns\u001b[0m\u001b[0;34m.\u001b[0m\u001b[0m_get_indexer_strict\u001b[0m\u001b[0;34m(\u001b[0m\u001b[0mkey\u001b[0m\u001b[0;34m,\u001b[0m \u001b[0;34m\"columns\"\u001b[0m\u001b[0;34m)\u001b[0m\u001b[0;34m[\u001b[0m\u001b[0;36m1\u001b[0m\u001b[0;34m]\u001b[0m\u001b[0;34m\u001b[0m\u001b[0;34m\u001b[0m\u001b[0m\n\u001b[0m\u001b[1;32m   3900\u001b[0m \u001b[0;34m\u001b[0m\u001b[0m\n\u001b[1;32m   3901\u001b[0m         \u001b[0;31m# take() does not accept boolean indexers\u001b[0m\u001b[0;34m\u001b[0m\u001b[0;34m\u001b[0m\u001b[0m\n",
            "\u001b[0;32m/usr/local/lib/python3.10/dist-packages/pandas/core/indexes/base.py\u001b[0m in \u001b[0;36m_get_indexer_strict\u001b[0;34m(self, key, axis_name)\u001b[0m\n\u001b[1;32m   6113\u001b[0m             \u001b[0mkeyarr\u001b[0m\u001b[0;34m,\u001b[0m \u001b[0mindexer\u001b[0m\u001b[0;34m,\u001b[0m \u001b[0mnew_indexer\u001b[0m \u001b[0;34m=\u001b[0m \u001b[0mself\u001b[0m\u001b[0;34m.\u001b[0m\u001b[0m_reindex_non_unique\u001b[0m\u001b[0;34m(\u001b[0m\u001b[0mkeyarr\u001b[0m\u001b[0;34m)\u001b[0m\u001b[0;34m\u001b[0m\u001b[0;34m\u001b[0m\u001b[0m\n\u001b[1;32m   6114\u001b[0m \u001b[0;34m\u001b[0m\u001b[0m\n\u001b[0;32m-> 6115\u001b[0;31m         \u001b[0mself\u001b[0m\u001b[0;34m.\u001b[0m\u001b[0m_raise_if_missing\u001b[0m\u001b[0;34m(\u001b[0m\u001b[0mkeyarr\u001b[0m\u001b[0;34m,\u001b[0m \u001b[0mindexer\u001b[0m\u001b[0;34m,\u001b[0m \u001b[0maxis_name\u001b[0m\u001b[0;34m)\u001b[0m\u001b[0;34m\u001b[0m\u001b[0;34m\u001b[0m\u001b[0m\n\u001b[0m\u001b[1;32m   6116\u001b[0m \u001b[0;34m\u001b[0m\u001b[0m\n\u001b[1;32m   6117\u001b[0m         \u001b[0mkeyarr\u001b[0m \u001b[0;34m=\u001b[0m \u001b[0mself\u001b[0m\u001b[0;34m.\u001b[0m\u001b[0mtake\u001b[0m\u001b[0;34m(\u001b[0m\u001b[0mindexer\u001b[0m\u001b[0;34m)\u001b[0m\u001b[0;34m\u001b[0m\u001b[0;34m\u001b[0m\u001b[0m\n",
            "\u001b[0;32m/usr/local/lib/python3.10/dist-packages/pandas/core/indexes/base.py\u001b[0m in \u001b[0;36m_raise_if_missing\u001b[0;34m(self, key, indexer, axis_name)\u001b[0m\n\u001b[1;32m   6174\u001b[0m                 \u001b[0;32mif\u001b[0m \u001b[0muse_interval_msg\u001b[0m\u001b[0;34m:\u001b[0m\u001b[0;34m\u001b[0m\u001b[0;34m\u001b[0m\u001b[0m\n\u001b[1;32m   6175\u001b[0m                     \u001b[0mkey\u001b[0m \u001b[0;34m=\u001b[0m \u001b[0mlist\u001b[0m\u001b[0;34m(\u001b[0m\u001b[0mkey\u001b[0m\u001b[0;34m)\u001b[0m\u001b[0;34m\u001b[0m\u001b[0;34m\u001b[0m\u001b[0m\n\u001b[0;32m-> 6176\u001b[0;31m                 \u001b[0;32mraise\u001b[0m \u001b[0mKeyError\u001b[0m\u001b[0;34m(\u001b[0m\u001b[0;34mf\"None of [{key}] are in the [{axis_name}]\"\u001b[0m\u001b[0;34m)\u001b[0m\u001b[0;34m\u001b[0m\u001b[0;34m\u001b[0m\u001b[0m\n\u001b[0m\u001b[1;32m   6177\u001b[0m \u001b[0;34m\u001b[0m\u001b[0m\n\u001b[1;32m   6178\u001b[0m             \u001b[0mnot_found\u001b[0m \u001b[0;34m=\u001b[0m \u001b[0mlist\u001b[0m\u001b[0;34m(\u001b[0m\u001b[0mensure_index\u001b[0m\u001b[0;34m(\u001b[0m\u001b[0mkey\u001b[0m\u001b[0;34m)\u001b[0m\u001b[0;34m[\u001b[0m\u001b[0mmissing_mask\u001b[0m\u001b[0;34m.\u001b[0m\u001b[0mnonzero\u001b[0m\u001b[0;34m(\u001b[0m\u001b[0;34m)\u001b[0m\u001b[0;34m[\u001b[0m\u001b[0;36m0\u001b[0m\u001b[0;34m]\u001b[0m\u001b[0;34m]\u001b[0m\u001b[0;34m.\u001b[0m\u001b[0munique\u001b[0m\u001b[0;34m(\u001b[0m\u001b[0;34m)\u001b[0m\u001b[0;34m)\u001b[0m\u001b[0;34m\u001b[0m\u001b[0;34m\u001b[0m\u001b[0m\n",
            "\u001b[0;31mKeyError\u001b[0m: \"None of [Index([Ellipsis], dtype='object')] are in the [columns]\""
          ]
        }
      ]
    },
    {
      "cell_type": "markdown",
      "source": [
        "**3d)** Use information from (3a), (3b) and 3(c) to describe your variable in terms of shape, center, spread, and outliers.\n",
        "* Use the correct center and the correct spread based on the shape of the distribution.\n",
        "* Specify which center and which spread you are using. For ex: Say \"The mean is ...\" or \"The median is ...\", rather than \"The center is ...\"\n",
        "* When addressing outliers, if any, list the values of **all** outliers.\n",
        "* Include units, if any, for all numbers.\n",
        "\n",
        "..."
      ],
      "metadata": {
        "id": "kSnkHZWO0cti"
      }
    },
    {
      "cell_type": "markdown",
      "source": [
        "**3e)** Interpret the standard deviation in context.\n",
        "\n",
        "..."
      ],
      "metadata": {
        "id": "Sfzbaa6u1rr8"
      }
    },
    {
      "cell_type": "markdown",
      "source": [
        "**3f)** Interpret the IQR in context.\n",
        "\n",
        "..."
      ],
      "metadata": {
        "id": "wsv_sCI71w5w"
      }
    },
    {
      "cell_type": "markdown",
      "source": [
        "## **QUESTION 4**\n",
        "\n",
        "How do major city CoC's and largely rural CoC's compare with respect to whites and blacks/African Americans in emergency shelters?\n",
        "\n",
        "Calculate the mean number of sheltered ES whites and sheltered ES blacks for major city CoC's and largely rural CoC's. Round to 2 decimal places. Compre the results. Then answer a question about the code."
      ],
      "metadata": {
        "id": "nul2GHpi0chf"
      }
    },
    {
      "cell_type": "markdown",
      "source": [
        "**4a)** Calculate and state the number of sheltered ES whites and sheltered ES blacks for major city CoC's and largely rural CoC's.  Round to two decimal places."
      ],
      "metadata": {
        "id": "fZRnALiPOs-A"
      }
    },
    {
      "cell_type": "code",
      "source": [
        "# major_city_means = df[df['CoC Category'] == '...'][['quant1', 'quant']].mean().round(...)\n",
        "major_city_means = df[df['CoC Category'] == '...'][['...', '...']].mean().round(...)\n",
        "largely_rural_means = df[df['...'] == 'Largely Rural CoC'][['...', '...']].mean().round(...))\n",
        "\n",
        "# Combine the two table and specify labels.\n",
        "combined_means = pd.DataFrame({'White': [major_city_means['Sheltered ES Homeless - White, 2021'], largely_rural_means['Sheltered ES Homeless - White, 2021']],\n",
        "                               'Black': [major_city_means['Sheltered ES Homeless - Black or African American, 2021'], largely_rural_means['Sheltered ES Homeless - Black or African American, 2021']]},\n",
        "                        index=['Major City Coc', 'Largely Rural CoC'])\n",
        "\n",
        "# Print the table\n",
        "..."
      ],
      "metadata": {
        "colab": {
          "base_uri": "https://localhost:8080/",
          "height": 106
        },
        "id": "BTWr7kHPVszB",
        "outputId": "0d45694f-a159-4739-b4c8-f3f824dc2748"
      },
      "execution_count": 20,
      "outputs": [
        {
          "output_type": "error",
          "ename": "SyntaxError",
          "evalue": "unmatched ')' (<ipython-input-20-d42303040fc2>, line 3)",
          "traceback": [
            "\u001b[0;36m  File \u001b[0;32m\"<ipython-input-20-d42303040fc2>\"\u001b[0;36m, line \u001b[0;32m3\u001b[0m\n\u001b[0;31m    largely_rural_means = df[df['...'] == 'Largely Rural CoC'][['...', '...']].mean().round(...))\u001b[0m\n\u001b[0m                                                                                                ^\u001b[0m\n\u001b[0;31mSyntaxError\u001b[0m\u001b[0;31m:\u001b[0m unmatched ')'\n"
          ]
        }
      ]
    },
    {
      "cell_type": "markdown",
      "source": [
        "**4b)** Compare the results for people with and without heart disease."
      ],
      "metadata": {
        "id": "sM5Llq_JWQy_"
      }
    },
    {
      "cell_type": "markdown",
      "source": [
        "..."
      ],
      "metadata": {
        "id": "BPOZq-bM-DHq"
      }
    },
    {
      "cell_type": "markdown",
      "source": [
        "**4c)** In the table below are some snippets of code."
      ],
      "metadata": {
        "id": "mvrVDE_rQ7sB"
      }
    },
    {
      "cell_type": "markdown",
      "source": [
        "| **Last Name Initial** | **Code**                    |\n",
        "|:-----------------------|:----------------------------------|\n",
        "| A-L                    | df['CoC Category'] == 'Major City CoC'  |\n",
        "| M-Z                    | df[df['CoC Category'] == 'Major City CoC']|\n"
      ],
      "metadata": {
        "id": "ytNNo_tdo3z2"
      }
    },
    {
      "cell_type": "markdown",
      "source": [
        "Based on your last name, interpret the snippet of code.\n",
        "\n",
        "...\n"
      ],
      "metadata": {
        "id": "-_yzJbqfSAs0"
      }
    },
    {
      "cell_type": "markdown",
      "source": [
        "## **QUESTION 5**\n",
        "\n",
        "Generate a paragraph of at least 100 words to address one of the following questions. That is, answer only 5a or 5b, but not both.\n",
        "\n",
        "**5a)** Discuss how analyzing your chosen data set using statistical methods could help you become better prepared for future courses in your major?\n",
        "\n",
        "...\n",
        "\n",
        "--OR--\n",
        "\n",
        "**5b)** Discuss how analyzing your chosen data set using statistical methods could be instrumental in becoming better prepared for your future career?\n",
        "\n",
        "...\n"
      ],
      "metadata": {
        "id": "vtlNs1kL0cAr"
      }
    },
    {
      "cell_type": "markdown",
      "source": [
        "<br><br>\n",
        "### Once you are done and ready to submit, follow the instructions below to save as a PDF and submit to GradeScope.\n",
        "\n",
        "### Save as PDF\n",
        "1. Run all code one last time\n",
        "2. File-> Print Preview opens in a new browser window\n",
        "3. Verify you can see all graphs. If not, go back to step 1.\n",
        "4. File -> Print (or ctrl-p/cmnd-p)\n",
        "5. Change destination to PDF (don't save, yet)\n",
        "6. Scroll through preview to make sure you can see your graphs entirely. If not, click Cancel. Make the browser window narrower. Go back to step 4.\n",
        "7. Repeat steps 4-6 until you can see your graphs completely. But do not make them too narrow.\n",
        "8. Save the PDF, taking note of where it is saved.\n",
        "\n",
        "### Submit to GradeScope\n",
        "1. Login to the Canvas course\n",
        "2. Click on GradeScope in the course navigation.\n",
        "3. If you see multiple courses in GradeScope, click on the STAT 108 course\n",
        "4. Click on the \"Tutorial 2 Practice Upload\" assignment\n",
        "5. Click on \"Submit Work\", select PDF\n",
        "6. Select the PDF you just created\n",
        "7. You need to tell GradeScope which page each problem answer/output is on. You should see a list of problems on the right, and a display of pages (thumbnails) on the right.\n",
        "Assign pages to questions by clicking on the question number on the left, then clicking on all pages that question is on.\n",
        "8. After ALL questions have been assigned to their respective page(s), click \"Submit\"\n"
      ],
      "metadata": {
        "id": "KHSYrvqh66V6"
      }
    }
  ]
}