{
  "nbformat": 4,
  "nbformat_minor": 0,
  "metadata": {
    "colab": {
      "provenance": []
    },
    "kernelspec": {
      "name": "python3",
      "display_name": "Python 3"
    },
    "language_info": {
      "name": "python"
    }
  },
  "cells": [
    {
      "cell_type": "markdown",
      "source": [
        "# **COVID Tracker - Project 1**\n",
        "### Analyzing qualitative and quantitative variables."
      ],
      "metadata": {
        "id": "WOWuLyetinsJ"
      }
    },
    {
      "cell_type": "markdown",
      "source": [
        "# **Importing Necessary Python Modules**\n",
        "\n",
        "Python incorporates a variety of open source add-ins called **modules** that add extra features to the basic setup. The name of the modules is after the `import` statement, and the purpose is in a non-code comment after thew hashtag (#).\n",
        "\n"
      ],
      "metadata": {
        "id": "AxPB-FE5lQIX"
      }
    },
    {
      "cell_type": "code",
      "source": [
        "import pandas as pd                 #Data analysis\n",
        "import numpy as np                  #Calculations\n",
        "import plotly.express as px         #Graphing\n",
        "import matplotlib.pyplot as plt     #Graphing\n",
        "from IPython.display import Image   #Display images\n",
        "import warnings                     #Ignore version warnings\n",
        "warnings.simplefilter('ignore', FutureWarning)\n"
      ],
      "metadata": {
        "id": "DIbfBAiwmTlf"
      },
      "execution_count": 1,
      "outputs": []
    },
    {
      "cell_type": "code",
      "source": [
        "# Replace 'image_url' with the URL of the image you want to display\n",
        "image_url = 'https://cdn.who.int/media/images/default-source/mca/mca-covid-19/coronavirus-2.tmb-1920v.jpg?sfvrsn=4dba955c_19'\n",
        "\n",
        "# Display the image\n",
        "Image(url=image_url)"
      ],
      "metadata": {
        "colab": {
          "base_uri": "https://localhost:8080/",
          "height": 553
        },
        "id": "TL6T9o9NyP_J",
        "outputId": "a1982ee4-1a7e-4a20-989f-c322b20984ed"
      },
      "execution_count": 2,
      "outputs": [
        {
          "output_type": "execute_result",
          "data": {
            "text/html": [
              "<img src=\"https://cdn.who.int/media/images/default-source/mca/mca-covid-19/coronavirus-2.tmb-1920v.jpg?sfvrsn=4dba955c_19\"/>"
            ],
            "text/plain": [
              "<IPython.core.display.Image object>"
            ]
          },
          "metadata": {},
          "execution_count": 2
        }
      ]
    },
    {
      "cell_type": "markdown",
      "source": [
        "# **Context**\n",
        "\n",
        "When reporting about COVID-19, the Associated Press (AP) used data collected by the Johns Hopkins University Center for Systems Science and Engineering as a source for outbreak caseloads and death counts for the United States and globally.\n",
        "\n",
        "The Johns Hopkins data is available at the county level in the United States. The AP has paired this data with population figures and county rural/urban designations, and has calculated caseload and death rates per 100,000 people. Be aware that caseloads may reflect the availability of tests - and the ability to turn around test results quickly -- rather than actual disease spread or true infection rates.\n",
        "\n",
        "The data you will be analyzing is from the Johns Hopkins dashboard (link below) that is updated throughout the day. Like all organizations dealing with data, Johns Hopkins is constantly refining and cleaning up their data feed, so there may be brief moments where data does not appear correctly. You can find the Johns Hopkins daily data reports at https://github.com/CSSEGISandData/COVID-19/tree/master/csse_covid_19_data.\n",
        "\n",
        "The AP updates their dataset hourly at 45 minutes past the hour.\n",
        "To learn more about AP's data journalism capabilities for publishers, corporations and financial institutions, visit https://www.ap.org/content/formats/data/.\n",
        "\n",
        "Attribution: Johns Hopkins University COVID-19 tracking project\n",
        "* Dashboard: https://www.arcgis.com/apps/dashboards/bda7594740fd40299423467b48e9ecf6\n",
        "\n",
        "\n",
        "\n"
      ],
      "metadata": {
        "id": "XJjnfq1hitm8"
      }
    },
    {
      "cell_type": "markdown",
      "source": [
        "# **About the Dataset**\n",
        "\n",
        "This dataset contains 133 rows corresponding to a random sample of drafted players. A total of 9 variables are provided as listed below:"
      ],
      "metadata": {
        "id": "bQfu7EYxi7Md"
      }
    },
    {
      "cell_type": "markdown",
      "source": [
        "| Variable Name(s)      | Description                             |\n",
        "|:----------------------|:----------------------------------------|\n",
        "| county_name           | Name of the county                      |\n",
        "| state                 | State in which the count is located     |\n",
        "| nchs_urbanization     | Urban-Rural category                    |\n",
        "| total_population      | County population size                  |\n",
        "| confirmed             | Number of confirmed cases in the county |\n",
        "| confirmed_per_100000  | Population adjusted confirmed COVID-19 cases per 100000 people |\n",
        "| deaths                | Number of deaths in county due to COVID-19 |\n",
        "| deaths_per_100000     | Population adjusted COVID-19 deaths per 100000 people |\n",
        "\n",
        "* For more information about nchs_urbanization, visit https://www.cdc.gov/nchs/data/series/sr_02/sr02_166.pdf\n",
        "* Note on \"population adjusted\": Is 1500 a lot of cases? It is certainly more significant in a population of 1500 people than in a population of 10 million people. One way to compare populations of different sizes is to calculate the rate \"as if\" there were only 100,000 people. Do that adjustment for all populations you want to compare. In class we learned to use relative frequency when comparing groups of different sizes. The population adjusted method is another way to do that.\n",
        "\n"
      ],
      "metadata": {
        "id": "XusIoTTPjC87"
      }
    },
    {
      "cell_type": "markdown",
      "source": [
        "Let's take a look at the data. To do this, first we import it directly from the url below.\n",
        "\n"
      ],
      "metadata": {
        "id": "E5p5eijdPyej"
      }
    },
    {
      "cell_type": "markdown",
      "source": [
        "# **A Snippet of the Data**"
      ],
      "metadata": {
        "id": "dzjbhJhzktKp"
      }
    },
    {
      "cell_type": "code",
      "source": [
        "url='https://raw.githubusercontent.com/thamilton562/STAT108_Projects_Students/main/DataSets/COVID%20Cases.csv'\n",
        "df=pd.read_csv(url)"
      ],
      "metadata": {
        "id": "TH9hHi05Rlxt"
      },
      "execution_count": 3,
      "outputs": []
    },
    {
      "cell_type": "markdown",
      "source": [
        "Next, we can display the data by *typing the name* of the DataFrame. To ensure we can see all columns, we'll use the *pd.set_option* method."
      ],
      "metadata": {
        "id": "cj8T9vdrimYo"
      }
    },
    {
      "cell_type": "code",
      "source": [
        "# Set display options to show all columns\n",
        "pd.set_option('display.max_columns', None)\n",
        "df"
      ],
      "metadata": {
        "colab": {
          "base_uri": "https://localhost:8080/",
          "height": 424
        },
        "id": "YT5tP1d8pQli",
        "outputId": "0a338712-16be-45a7-a70c-b73cf6e7a64a"
      },
      "execution_count": 4,
      "outputs": [
        {
          "output_type": "execute_result",
          "data": {
            "text/plain": [
              "    county_name          state   nchs_urbanization  total_population  \\\n",
              "0       Lowndes        Alabama        Medium metro             10236   \n",
              "1       Ontario       New York  Large fringe metro            109472   \n",
              "2      Waukesha      Wisconsin  Large fringe metro            398879   \n",
              "3      Escambia        Florida        Medium metro            311522   \n",
              "4    Greenbrier  West Virginia            Non-core             35347   \n",
              "..          ...            ...                 ...               ...   \n",
              "137     Bourbon       Kentucky        Medium metro             20144   \n",
              "138      Schley        Georgia        Micropolitan              5211   \n",
              "139     Neshoba    Mississippi            Non-core             29376   \n",
              "140        Wise       Virginia        Micropolitan             39025   \n",
              "141  Cottonwood      Minnesota            Non-core             11372   \n",
              "\n",
              "     confirmed  confirmed_per_100000  deaths  deaths_per_100000  \n",
              "0         3251              31760.45      80             781.56  \n",
              "1        25821              23586.85     212             193.66  \n",
              "2       137985              34593.20    1216             304.85  \n",
              "3        96194              30878.72    1452             466.10  \n",
              "4        12633              35739.95     182             514.90  \n",
              "..         ...                   ...     ...                ...  \n",
              "137       7688              38165.21      73             362.39  \n",
              "138       1387              26616.77      11             211.09  \n",
              "139      12475              42466.64     247             840.82  \n",
              "140      13596              34839.21     225             576.55  \n",
              "141       3714              32659.16      42             369.33  \n",
              "\n",
              "[142 rows x 8 columns]"
            ],
            "text/html": [
              "\n",
              "  <div id=\"df-d3ba89a9-b76c-42d8-af25-0c9adb92709d\" class=\"colab-df-container\">\n",
              "    <div>\n",
              "<style scoped>\n",
              "    .dataframe tbody tr th:only-of-type {\n",
              "        vertical-align: middle;\n",
              "    }\n",
              "\n",
              "    .dataframe tbody tr th {\n",
              "        vertical-align: top;\n",
              "    }\n",
              "\n",
              "    .dataframe thead th {\n",
              "        text-align: right;\n",
              "    }\n",
              "</style>\n",
              "<table border=\"1\" class=\"dataframe\">\n",
              "  <thead>\n",
              "    <tr style=\"text-align: right;\">\n",
              "      <th></th>\n",
              "      <th>county_name</th>\n",
              "      <th>state</th>\n",
              "      <th>nchs_urbanization</th>\n",
              "      <th>total_population</th>\n",
              "      <th>confirmed</th>\n",
              "      <th>confirmed_per_100000</th>\n",
              "      <th>deaths</th>\n",
              "      <th>deaths_per_100000</th>\n",
              "    </tr>\n",
              "  </thead>\n",
              "  <tbody>\n",
              "    <tr>\n",
              "      <th>0</th>\n",
              "      <td>Lowndes</td>\n",
              "      <td>Alabama</td>\n",
              "      <td>Medium metro</td>\n",
              "      <td>10236</td>\n",
              "      <td>3251</td>\n",
              "      <td>31760.45</td>\n",
              "      <td>80</td>\n",
              "      <td>781.56</td>\n",
              "    </tr>\n",
              "    <tr>\n",
              "      <th>1</th>\n",
              "      <td>Ontario</td>\n",
              "      <td>New York</td>\n",
              "      <td>Large fringe metro</td>\n",
              "      <td>109472</td>\n",
              "      <td>25821</td>\n",
              "      <td>23586.85</td>\n",
              "      <td>212</td>\n",
              "      <td>193.66</td>\n",
              "    </tr>\n",
              "    <tr>\n",
              "      <th>2</th>\n",
              "      <td>Waukesha</td>\n",
              "      <td>Wisconsin</td>\n",
              "      <td>Large fringe metro</td>\n",
              "      <td>398879</td>\n",
              "      <td>137985</td>\n",
              "      <td>34593.20</td>\n",
              "      <td>1216</td>\n",
              "      <td>304.85</td>\n",
              "    </tr>\n",
              "    <tr>\n",
              "      <th>3</th>\n",
              "      <td>Escambia</td>\n",
              "      <td>Florida</td>\n",
              "      <td>Medium metro</td>\n",
              "      <td>311522</td>\n",
              "      <td>96194</td>\n",
              "      <td>30878.72</td>\n",
              "      <td>1452</td>\n",
              "      <td>466.10</td>\n",
              "    </tr>\n",
              "    <tr>\n",
              "      <th>4</th>\n",
              "      <td>Greenbrier</td>\n",
              "      <td>West Virginia</td>\n",
              "      <td>Non-core</td>\n",
              "      <td>35347</td>\n",
              "      <td>12633</td>\n",
              "      <td>35739.95</td>\n",
              "      <td>182</td>\n",
              "      <td>514.90</td>\n",
              "    </tr>\n",
              "    <tr>\n",
              "      <th>...</th>\n",
              "      <td>...</td>\n",
              "      <td>...</td>\n",
              "      <td>...</td>\n",
              "      <td>...</td>\n",
              "      <td>...</td>\n",
              "      <td>...</td>\n",
              "      <td>...</td>\n",
              "      <td>...</td>\n",
              "    </tr>\n",
              "    <tr>\n",
              "      <th>137</th>\n",
              "      <td>Bourbon</td>\n",
              "      <td>Kentucky</td>\n",
              "      <td>Medium metro</td>\n",
              "      <td>20144</td>\n",
              "      <td>7688</td>\n",
              "      <td>38165.21</td>\n",
              "      <td>73</td>\n",
              "      <td>362.39</td>\n",
              "    </tr>\n",
              "    <tr>\n",
              "      <th>138</th>\n",
              "      <td>Schley</td>\n",
              "      <td>Georgia</td>\n",
              "      <td>Micropolitan</td>\n",
              "      <td>5211</td>\n",
              "      <td>1387</td>\n",
              "      <td>26616.77</td>\n",
              "      <td>11</td>\n",
              "      <td>211.09</td>\n",
              "    </tr>\n",
              "    <tr>\n",
              "      <th>139</th>\n",
              "      <td>Neshoba</td>\n",
              "      <td>Mississippi</td>\n",
              "      <td>Non-core</td>\n",
              "      <td>29376</td>\n",
              "      <td>12475</td>\n",
              "      <td>42466.64</td>\n",
              "      <td>247</td>\n",
              "      <td>840.82</td>\n",
              "    </tr>\n",
              "    <tr>\n",
              "      <th>140</th>\n",
              "      <td>Wise</td>\n",
              "      <td>Virginia</td>\n",
              "      <td>Micropolitan</td>\n",
              "      <td>39025</td>\n",
              "      <td>13596</td>\n",
              "      <td>34839.21</td>\n",
              "      <td>225</td>\n",
              "      <td>576.55</td>\n",
              "    </tr>\n",
              "    <tr>\n",
              "      <th>141</th>\n",
              "      <td>Cottonwood</td>\n",
              "      <td>Minnesota</td>\n",
              "      <td>Non-core</td>\n",
              "      <td>11372</td>\n",
              "      <td>3714</td>\n",
              "      <td>32659.16</td>\n",
              "      <td>42</td>\n",
              "      <td>369.33</td>\n",
              "    </tr>\n",
              "  </tbody>\n",
              "</table>\n",
              "<p>142 rows × 8 columns</p>\n",
              "</div>\n",
              "    <div class=\"colab-df-buttons\">\n",
              "\n",
              "  <div class=\"colab-df-container\">\n",
              "    <button class=\"colab-df-convert\" onclick=\"convertToInteractive('df-d3ba89a9-b76c-42d8-af25-0c9adb92709d')\"\n",
              "            title=\"Convert this dataframe to an interactive table.\"\n",
              "            style=\"display:none;\">\n",
              "\n",
              "  <svg xmlns=\"http://www.w3.org/2000/svg\" height=\"24px\" viewBox=\"0 -960 960 960\">\n",
              "    <path d=\"M120-120v-720h720v720H120Zm60-500h600v-160H180v160Zm220 220h160v-160H400v160Zm0 220h160v-160H400v160ZM180-400h160v-160H180v160Zm440 0h160v-160H620v160ZM180-180h160v-160H180v160Zm440 0h160v-160H620v160Z\"/>\n",
              "  </svg>\n",
              "    </button>\n",
              "\n",
              "  <style>\n",
              "    .colab-df-container {\n",
              "      display:flex;\n",
              "      gap: 12px;\n",
              "    }\n",
              "\n",
              "    .colab-df-convert {\n",
              "      background-color: #E8F0FE;\n",
              "      border: none;\n",
              "      border-radius: 50%;\n",
              "      cursor: pointer;\n",
              "      display: none;\n",
              "      fill: #1967D2;\n",
              "      height: 32px;\n",
              "      padding: 0 0 0 0;\n",
              "      width: 32px;\n",
              "    }\n",
              "\n",
              "    .colab-df-convert:hover {\n",
              "      background-color: #E2EBFA;\n",
              "      box-shadow: 0px 1px 2px rgba(60, 64, 67, 0.3), 0px 1px 3px 1px rgba(60, 64, 67, 0.15);\n",
              "      fill: #174EA6;\n",
              "    }\n",
              "\n",
              "    .colab-df-buttons div {\n",
              "      margin-bottom: 4px;\n",
              "    }\n",
              "\n",
              "    [theme=dark] .colab-df-convert {\n",
              "      background-color: #3B4455;\n",
              "      fill: #D2E3FC;\n",
              "    }\n",
              "\n",
              "    [theme=dark] .colab-df-convert:hover {\n",
              "      background-color: #434B5C;\n",
              "      box-shadow: 0px 1px 3px 1px rgba(0, 0, 0, 0.15);\n",
              "      filter: drop-shadow(0px 1px 2px rgba(0, 0, 0, 0.3));\n",
              "      fill: #FFFFFF;\n",
              "    }\n",
              "  </style>\n",
              "\n",
              "    <script>\n",
              "      const buttonEl =\n",
              "        document.querySelector('#df-d3ba89a9-b76c-42d8-af25-0c9adb92709d button.colab-df-convert');\n",
              "      buttonEl.style.display =\n",
              "        google.colab.kernel.accessAllowed ? 'block' : 'none';\n",
              "\n",
              "      async function convertToInteractive(key) {\n",
              "        const element = document.querySelector('#df-d3ba89a9-b76c-42d8-af25-0c9adb92709d');\n",
              "        const dataTable =\n",
              "          await google.colab.kernel.invokeFunction('convertToInteractive',\n",
              "                                                    [key], {});\n",
              "        if (!dataTable) return;\n",
              "\n",
              "        const docLinkHtml = 'Like what you see? Visit the ' +\n",
              "          '<a target=\"_blank\" href=https://colab.research.google.com/notebooks/data_table.ipynb>data table notebook</a>'\n",
              "          + ' to learn more about interactive tables.';\n",
              "        element.innerHTML = '';\n",
              "        dataTable['output_type'] = 'display_data';\n",
              "        await google.colab.output.renderOutput(dataTable, element);\n",
              "        const docLink = document.createElement('div');\n",
              "        docLink.innerHTML = docLinkHtml;\n",
              "        element.appendChild(docLink);\n",
              "      }\n",
              "    </script>\n",
              "  </div>\n",
              "\n",
              "\n",
              "<div id=\"df-786346b6-8524-4615-aa18-74946823f6e9\">\n",
              "  <button class=\"colab-df-quickchart\" onclick=\"quickchart('df-786346b6-8524-4615-aa18-74946823f6e9')\"\n",
              "            title=\"Suggest charts\"\n",
              "            style=\"display:none;\">\n",
              "\n",
              "<svg xmlns=\"http://www.w3.org/2000/svg\" height=\"24px\"viewBox=\"0 0 24 24\"\n",
              "     width=\"24px\">\n",
              "    <g>\n",
              "        <path d=\"M19 3H5c-1.1 0-2 .9-2 2v14c0 1.1.9 2 2 2h14c1.1 0 2-.9 2-2V5c0-1.1-.9-2-2-2zM9 17H7v-7h2v7zm4 0h-2V7h2v10zm4 0h-2v-4h2v4z\"/>\n",
              "    </g>\n",
              "</svg>\n",
              "  </button>\n",
              "\n",
              "<style>\n",
              "  .colab-df-quickchart {\n",
              "      --bg-color: #E8F0FE;\n",
              "      --fill-color: #1967D2;\n",
              "      --hover-bg-color: #E2EBFA;\n",
              "      --hover-fill-color: #174EA6;\n",
              "      --disabled-fill-color: #AAA;\n",
              "      --disabled-bg-color: #DDD;\n",
              "  }\n",
              "\n",
              "  [theme=dark] .colab-df-quickchart {\n",
              "      --bg-color: #3B4455;\n",
              "      --fill-color: #D2E3FC;\n",
              "      --hover-bg-color: #434B5C;\n",
              "      --hover-fill-color: #FFFFFF;\n",
              "      --disabled-bg-color: #3B4455;\n",
              "      --disabled-fill-color: #666;\n",
              "  }\n",
              "\n",
              "  .colab-df-quickchart {\n",
              "    background-color: var(--bg-color);\n",
              "    border: none;\n",
              "    border-radius: 50%;\n",
              "    cursor: pointer;\n",
              "    display: none;\n",
              "    fill: var(--fill-color);\n",
              "    height: 32px;\n",
              "    padding: 0;\n",
              "    width: 32px;\n",
              "  }\n",
              "\n",
              "  .colab-df-quickchart:hover {\n",
              "    background-color: var(--hover-bg-color);\n",
              "    box-shadow: 0 1px 2px rgba(60, 64, 67, 0.3), 0 1px 3px 1px rgba(60, 64, 67, 0.15);\n",
              "    fill: var(--button-hover-fill-color);\n",
              "  }\n",
              "\n",
              "  .colab-df-quickchart-complete:disabled,\n",
              "  .colab-df-quickchart-complete:disabled:hover {\n",
              "    background-color: var(--disabled-bg-color);\n",
              "    fill: var(--disabled-fill-color);\n",
              "    box-shadow: none;\n",
              "  }\n",
              "\n",
              "  .colab-df-spinner {\n",
              "    border: 2px solid var(--fill-color);\n",
              "    border-color: transparent;\n",
              "    border-bottom-color: var(--fill-color);\n",
              "    animation:\n",
              "      spin 1s steps(1) infinite;\n",
              "  }\n",
              "\n",
              "  @keyframes spin {\n",
              "    0% {\n",
              "      border-color: transparent;\n",
              "      border-bottom-color: var(--fill-color);\n",
              "      border-left-color: var(--fill-color);\n",
              "    }\n",
              "    20% {\n",
              "      border-color: transparent;\n",
              "      border-left-color: var(--fill-color);\n",
              "      border-top-color: var(--fill-color);\n",
              "    }\n",
              "    30% {\n",
              "      border-color: transparent;\n",
              "      border-left-color: var(--fill-color);\n",
              "      border-top-color: var(--fill-color);\n",
              "      border-right-color: var(--fill-color);\n",
              "    }\n",
              "    40% {\n",
              "      border-color: transparent;\n",
              "      border-right-color: var(--fill-color);\n",
              "      border-top-color: var(--fill-color);\n",
              "    }\n",
              "    60% {\n",
              "      border-color: transparent;\n",
              "      border-right-color: var(--fill-color);\n",
              "    }\n",
              "    80% {\n",
              "      border-color: transparent;\n",
              "      border-right-color: var(--fill-color);\n",
              "      border-bottom-color: var(--fill-color);\n",
              "    }\n",
              "    90% {\n",
              "      border-color: transparent;\n",
              "      border-bottom-color: var(--fill-color);\n",
              "    }\n",
              "  }\n",
              "</style>\n",
              "\n",
              "  <script>\n",
              "    async function quickchart(key) {\n",
              "      const quickchartButtonEl =\n",
              "        document.querySelector('#' + key + ' button');\n",
              "      quickchartButtonEl.disabled = true;  // To prevent multiple clicks.\n",
              "      quickchartButtonEl.classList.add('colab-df-spinner');\n",
              "      try {\n",
              "        const charts = await google.colab.kernel.invokeFunction(\n",
              "            'suggestCharts', [key], {});\n",
              "      } catch (error) {\n",
              "        console.error('Error during call to suggestCharts:', error);\n",
              "      }\n",
              "      quickchartButtonEl.classList.remove('colab-df-spinner');\n",
              "      quickchartButtonEl.classList.add('colab-df-quickchart-complete');\n",
              "    }\n",
              "    (() => {\n",
              "      let quickchartButtonEl =\n",
              "        document.querySelector('#df-786346b6-8524-4615-aa18-74946823f6e9 button');\n",
              "      quickchartButtonEl.style.display =\n",
              "        google.colab.kernel.accessAllowed ? 'block' : 'none';\n",
              "    })();\n",
              "  </script>\n",
              "</div>\n",
              "\n",
              "  <div id=\"id_7df174db-486b-4579-953d-23955c35465c\">\n",
              "    <style>\n",
              "      .colab-df-generate {\n",
              "        background-color: #E8F0FE;\n",
              "        border: none;\n",
              "        border-radius: 50%;\n",
              "        cursor: pointer;\n",
              "        display: none;\n",
              "        fill: #1967D2;\n",
              "        height: 32px;\n",
              "        padding: 0 0 0 0;\n",
              "        width: 32px;\n",
              "      }\n",
              "\n",
              "      .colab-df-generate:hover {\n",
              "        background-color: #E2EBFA;\n",
              "        box-shadow: 0px 1px 2px rgba(60, 64, 67, 0.3), 0px 1px 3px 1px rgba(60, 64, 67, 0.15);\n",
              "        fill: #174EA6;\n",
              "      }\n",
              "\n",
              "      [theme=dark] .colab-df-generate {\n",
              "        background-color: #3B4455;\n",
              "        fill: #D2E3FC;\n",
              "      }\n",
              "\n",
              "      [theme=dark] .colab-df-generate:hover {\n",
              "        background-color: #434B5C;\n",
              "        box-shadow: 0px 1px 3px 1px rgba(0, 0, 0, 0.15);\n",
              "        filter: drop-shadow(0px 1px 2px rgba(0, 0, 0, 0.3));\n",
              "        fill: #FFFFFF;\n",
              "      }\n",
              "    </style>\n",
              "    <button class=\"colab-df-generate\" onclick=\"generateWithVariable('df')\"\n",
              "            title=\"Generate code using this dataframe.\"\n",
              "            style=\"display:none;\">\n",
              "\n",
              "  <svg xmlns=\"http://www.w3.org/2000/svg\" height=\"24px\"viewBox=\"0 0 24 24\"\n",
              "       width=\"24px\">\n",
              "    <path d=\"M7,19H8.4L18.45,9,17,7.55,7,17.6ZM5,21V16.75L18.45,3.32a2,2,0,0,1,2.83,0l1.4,1.43a1.91,1.91,0,0,1,.58,1.4,1.91,1.91,0,0,1-.58,1.4L9.25,21ZM18.45,9,17,7.55Zm-12,3A5.31,5.31,0,0,0,4.9,8.1,5.31,5.31,0,0,0,1,6.5,5.31,5.31,0,0,0,4.9,4.9,5.31,5.31,0,0,0,6.5,1,5.31,5.31,0,0,0,8.1,4.9,5.31,5.31,0,0,0,12,6.5,5.46,5.46,0,0,0,6.5,12Z\"/>\n",
              "  </svg>\n",
              "    </button>\n",
              "    <script>\n",
              "      (() => {\n",
              "      const buttonEl =\n",
              "        document.querySelector('#id_7df174db-486b-4579-953d-23955c35465c button.colab-df-generate');\n",
              "      buttonEl.style.display =\n",
              "        google.colab.kernel.accessAllowed ? 'block' : 'none';\n",
              "\n",
              "      buttonEl.onclick = () => {\n",
              "        google.colab.notebook.generateWithVariable('df');\n",
              "      }\n",
              "      })();\n",
              "    </script>\n",
              "  </div>\n",
              "\n",
              "    </div>\n",
              "  </div>\n"
            ],
            "application/vnd.google.colaboratory.intrinsic+json": {
              "type": "dataframe",
              "variable_name": "df",
              "summary": "{\n  \"name\": \"df\",\n  \"rows\": 142,\n  \"fields\": [\n    {\n      \"column\": \"county_name\",\n      \"properties\": {\n        \"dtype\": \"string\",\n        \"num_unique_values\": 135,\n        \"samples\": [\n          \"Cotton\",\n          \"Pike\",\n          \"Gilmer\"\n        ],\n        \"semantic_type\": \"\",\n        \"description\": \"\"\n      }\n    },\n    {\n      \"column\": \"state\",\n      \"properties\": {\n        \"dtype\": \"category\",\n        \"num_unique_values\": 40,\n        \"samples\": [\n          \"Oklahoma\",\n          \"Kentucky\",\n          \"Kansas\"\n        ],\n        \"semantic_type\": \"\",\n        \"description\": \"\"\n      }\n    },\n    {\n      \"column\": \"nchs_urbanization\",\n      \"properties\": {\n        \"dtype\": \"category\",\n        \"num_unique_values\": 6,\n        \"samples\": [\n          \"Medium metro\",\n          \"Large fringe metro\",\n          \"Large central metro\"\n        ],\n        \"semantic_type\": \"\",\n        \"description\": \"\"\n      }\n    },\n    {\n      \"column\": \"total_population\",\n      \"properties\": {\n        \"dtype\": \"number\",\n        \"std\": 196929,\n        \"min\": 696,\n        \"max\": 1133247,\n        \"num_unique_values\": 142,\n        \"samples\": [\n          418201,\n          15500,\n          89811\n        ],\n        \"semantic_type\": \"\",\n        \"description\": \"\"\n      }\n    },\n    {\n      \"column\": \"confirmed\",\n      \"properties\": {\n        \"dtype\": \"number\",\n        \"std\": 57764,\n        \"min\": 102,\n        \"max\": 289187,\n        \"num_unique_values\": 142,\n        \"samples\": [\n          134556,\n          5581,\n          22857\n        ],\n        \"semantic_type\": \"\",\n        \"description\": \"\"\n      }\n    },\n    {\n      \"column\": \"confirmed_per_100000\",\n      \"properties\": {\n        \"dtype\": \"number\",\n        \"std\": 6134.23874130046,\n        \"min\": 13065.33,\n        \"max\": 43987.6,\n        \"num_unique_values\": 142,\n        \"samples\": [\n          32174.96,\n          36006.45,\n          25450.11\n        ],\n        \"semantic_type\": \"\",\n        \"description\": \"\"\n      }\n    },\n    {\n      \"column\": \"deaths\",\n      \"properties\": {\n        \"dtype\": \"number\",\n        \"std\": 631,\n        \"min\": 1,\n        \"max\": 4032,\n        \"num_unique_values\": 123,\n        \"samples\": [\n          61,\n          125,\n          612\n        ],\n        \"semantic_type\": \"\",\n        \"description\": \"\"\n      }\n    },\n    {\n      \"column\": \"deaths_per_100000\",\n      \"properties\": {\n        \"dtype\": \"number\",\n        \"std\": 187.28287427334166,\n        \"min\": 39.71,\n        \"max\": 1094.86,\n        \"num_unique_values\": 140,\n        \"samples\": [\n          362.39,\n          424.58,\n          537.44\n        ],\n        \"semantic_type\": \"\",\n        \"description\": \"\"\n      }\n    }\n  ]\n}"
            }
          },
          "metadata": {},
          "execution_count": 4
        }
      ]
    },
    {
      "cell_type": "markdown",
      "source": [
        "# **INSTRUCTIONS**\n",
        "\n",
        "* Use Python to analyze the data set and complete each of the following.\n",
        "* Replace ellipsis (...) with the relavent names or code.  \n",
        "* For problems that require a written response, double click the text box to start typing.\n",
        "* Reference the 3 tutorials from activity for assistance.\n",
        "* Attend office hours if you still need help."
      ],
      "metadata": {
        "id": "VEm2KmlyzJGY"
      }
    },
    {
      "cell_type": "markdown",
      "source": [
        "## **QUESTION 1**\n",
        "Determine whether the four variables below are qualitative or quantitative. If they are quantitative, specify whether they are continuous or discrete."
      ],
      "metadata": {
        "id": "xkEtDHs70CzZ"
      }
    },
    {
      "cell_type": "markdown",
      "source": [
        "| Variable          | Classification |\n",
        "|:------------------|:-------------------------------|\n",
        "| confirmed         |  ...      |\n",
        "| nchs_urbanization |  ...      |\n",
        "| deaths_per_100000 |  ...      |\n",
        "| total_population  |  ...      |"
      ],
      "metadata": {
        "id": "c_N4nnLD3O_Y"
      }
    },
    {
      "cell_type": "markdown",
      "source": [
        "## **QUESTION 2**\n",
        "\n",
        "Construct a frequency table, relative frequency table, and relative frequency bar chart to describe the distribution of urban-rural category. State any fact that jumps out to you."
      ],
      "metadata": {
        "id": "Hjz7Oc8N0acy"
      }
    },
    {
      "cell_type": "markdown",
      "source": [
        "**2a)** Construct a table that contains the frequency and relative frequency distribution for the urban-rural category. Round relative frequency to 3 decimal places."
      ],
      "metadata": {
        "id": "cKYuhC-IS5NP"
      }
    },
    {
      "cell_type": "code",
      "source": [
        "# Define the name of the variable to be analyzed\n",
        "variable = df['...']\n",
        "\n",
        "# Sort the urban-rural categories from least to most populated.\n",
        "cat_order = ['Non-core', 'Micropolitan', 'Small metro', 'Medium metro',\n",
        "                'Large fringe metro', 'Large central metro']\n",
        "\n",
        "# Create the frequency table and sort the categories in numerical order.\n",
        "# .sort_index works here because the category names are numerical.\n",
        "freq_table = pd.value_counts(variable).reindex(cat_order)\n",
        "\n",
        "# Rename \"count\" to \"Frequency\", and \"cp\" to \"Chest Pain Type\"\n",
        "freq_table = freq_table.rename('Frequency')\n",
        "freq_table = freq_table.rename_axis('Urban-Rural Category')\n",
        "\n",
        "# Create the relative frequency table, and rename the counts column to\n",
        "#   Relative Frequency.\n",
        "relative_freq_table=freq_table/...             #HINT: look back at Project 0 or Tutorial 1.\n",
        "relative_freq_table = relative_freq_table.rename('...').round(...)\n",
        "\n",
        "# Combine both tables\n",
        "combined_table=pd.concat([..., ...], axis=1)\n",
        "\n",
        "# Print the combined table.\n",
        "...\n"
      ],
      "metadata": {
        "id": "P4qIa7po3Sms",
        "colab": {
          "base_uri": "https://localhost:8080/",
          "height": 547
        },
        "outputId": "00181383-591c-4c1a-f619-5ae67e1b887b"
      },
      "execution_count": 5,
      "outputs": [
        {
          "output_type": "error",
          "ename": "KeyError",
          "evalue": "'...'",
          "traceback": [
            "\u001b[0;31m---------------------------------------------------------------------------\u001b[0m",
            "\u001b[0;31mKeyError\u001b[0m                                  Traceback (most recent call last)",
            "\u001b[0;32m/usr/local/lib/python3.10/dist-packages/pandas/core/indexes/base.py\u001b[0m in \u001b[0;36mget_loc\u001b[0;34m(self, key)\u001b[0m\n\u001b[1;32m   3790\u001b[0m         \u001b[0;32mtry\u001b[0m\u001b[0;34m:\u001b[0m\u001b[0;34m\u001b[0m\u001b[0;34m\u001b[0m\u001b[0m\n\u001b[0;32m-> 3791\u001b[0;31m             \u001b[0;32mreturn\u001b[0m \u001b[0mself\u001b[0m\u001b[0;34m.\u001b[0m\u001b[0m_engine\u001b[0m\u001b[0;34m.\u001b[0m\u001b[0mget_loc\u001b[0m\u001b[0;34m(\u001b[0m\u001b[0mcasted_key\u001b[0m\u001b[0;34m)\u001b[0m\u001b[0;34m\u001b[0m\u001b[0;34m\u001b[0m\u001b[0m\n\u001b[0m\u001b[1;32m   3792\u001b[0m         \u001b[0;32mexcept\u001b[0m \u001b[0mKeyError\u001b[0m \u001b[0;32mas\u001b[0m \u001b[0merr\u001b[0m\u001b[0;34m:\u001b[0m\u001b[0;34m\u001b[0m\u001b[0;34m\u001b[0m\u001b[0m\n",
            "\u001b[0;32mindex.pyx\u001b[0m in \u001b[0;36mpandas._libs.index.IndexEngine.get_loc\u001b[0;34m()\u001b[0m\n",
            "\u001b[0;32mindex.pyx\u001b[0m in \u001b[0;36mpandas._libs.index.IndexEngine.get_loc\u001b[0;34m()\u001b[0m\n",
            "\u001b[0;32mpandas/_libs/hashtable_class_helper.pxi\u001b[0m in \u001b[0;36mpandas._libs.hashtable.PyObjectHashTable.get_item\u001b[0;34m()\u001b[0m\n",
            "\u001b[0;32mpandas/_libs/hashtable_class_helper.pxi\u001b[0m in \u001b[0;36mpandas._libs.hashtable.PyObjectHashTable.get_item\u001b[0;34m()\u001b[0m\n",
            "\u001b[0;31mKeyError\u001b[0m: '...'",
            "\nThe above exception was the direct cause of the following exception:\n",
            "\u001b[0;31mKeyError\u001b[0m                                  Traceback (most recent call last)",
            "\u001b[0;32m<ipython-input-5-13d0b6b88d16>\u001b[0m in \u001b[0;36m<cell line: 2>\u001b[0;34m()\u001b[0m\n\u001b[1;32m      1\u001b[0m \u001b[0;31m# Define the name of the variable to be analyzed\u001b[0m\u001b[0;34m\u001b[0m\u001b[0;34m\u001b[0m\u001b[0m\n\u001b[0;32m----> 2\u001b[0;31m \u001b[0mvariable\u001b[0m \u001b[0;34m=\u001b[0m \u001b[0mdf\u001b[0m\u001b[0;34m[\u001b[0m\u001b[0;34m'...'\u001b[0m\u001b[0;34m]\u001b[0m\u001b[0;34m\u001b[0m\u001b[0;34m\u001b[0m\u001b[0m\n\u001b[0m\u001b[1;32m      3\u001b[0m \u001b[0;34m\u001b[0m\u001b[0m\n\u001b[1;32m      4\u001b[0m \u001b[0;31m# Sort the urban-rural categories from least to most populated.\u001b[0m\u001b[0;34m\u001b[0m\u001b[0;34m\u001b[0m\u001b[0m\n\u001b[1;32m      5\u001b[0m cat_order = ['Non-core', 'Micropolitan', 'Small metro', 'Medium metro',\n",
            "\u001b[0;32m/usr/local/lib/python3.10/dist-packages/pandas/core/frame.py\u001b[0m in \u001b[0;36m__getitem__\u001b[0;34m(self, key)\u001b[0m\n\u001b[1;32m   3891\u001b[0m             \u001b[0;32mif\u001b[0m \u001b[0mself\u001b[0m\u001b[0;34m.\u001b[0m\u001b[0mcolumns\u001b[0m\u001b[0;34m.\u001b[0m\u001b[0mnlevels\u001b[0m \u001b[0;34m>\u001b[0m \u001b[0;36m1\u001b[0m\u001b[0;34m:\u001b[0m\u001b[0;34m\u001b[0m\u001b[0;34m\u001b[0m\u001b[0m\n\u001b[1;32m   3892\u001b[0m                 \u001b[0;32mreturn\u001b[0m \u001b[0mself\u001b[0m\u001b[0;34m.\u001b[0m\u001b[0m_getitem_multilevel\u001b[0m\u001b[0;34m(\u001b[0m\u001b[0mkey\u001b[0m\u001b[0;34m)\u001b[0m\u001b[0;34m\u001b[0m\u001b[0;34m\u001b[0m\u001b[0m\n\u001b[0;32m-> 3893\u001b[0;31m             \u001b[0mindexer\u001b[0m \u001b[0;34m=\u001b[0m \u001b[0mself\u001b[0m\u001b[0;34m.\u001b[0m\u001b[0mcolumns\u001b[0m\u001b[0;34m.\u001b[0m\u001b[0mget_loc\u001b[0m\u001b[0;34m(\u001b[0m\u001b[0mkey\u001b[0m\u001b[0;34m)\u001b[0m\u001b[0;34m\u001b[0m\u001b[0;34m\u001b[0m\u001b[0m\n\u001b[0m\u001b[1;32m   3894\u001b[0m             \u001b[0;32mif\u001b[0m \u001b[0mis_integer\u001b[0m\u001b[0;34m(\u001b[0m\u001b[0mindexer\u001b[0m\u001b[0;34m)\u001b[0m\u001b[0;34m:\u001b[0m\u001b[0;34m\u001b[0m\u001b[0;34m\u001b[0m\u001b[0m\n\u001b[1;32m   3895\u001b[0m                 \u001b[0mindexer\u001b[0m \u001b[0;34m=\u001b[0m \u001b[0;34m[\u001b[0m\u001b[0mindexer\u001b[0m\u001b[0;34m]\u001b[0m\u001b[0;34m\u001b[0m\u001b[0;34m\u001b[0m\u001b[0m\n",
            "\u001b[0;32m/usr/local/lib/python3.10/dist-packages/pandas/core/indexes/base.py\u001b[0m in \u001b[0;36mget_loc\u001b[0;34m(self, key)\u001b[0m\n\u001b[1;32m   3796\u001b[0m             ):\n\u001b[1;32m   3797\u001b[0m                 \u001b[0;32mraise\u001b[0m \u001b[0mInvalidIndexError\u001b[0m\u001b[0;34m(\u001b[0m\u001b[0mkey\u001b[0m\u001b[0;34m)\u001b[0m\u001b[0;34m\u001b[0m\u001b[0;34m\u001b[0m\u001b[0m\n\u001b[0;32m-> 3798\u001b[0;31m             \u001b[0;32mraise\u001b[0m \u001b[0mKeyError\u001b[0m\u001b[0;34m(\u001b[0m\u001b[0mkey\u001b[0m\u001b[0;34m)\u001b[0m \u001b[0;32mfrom\u001b[0m \u001b[0merr\u001b[0m\u001b[0;34m\u001b[0m\u001b[0;34m\u001b[0m\u001b[0m\n\u001b[0m\u001b[1;32m   3799\u001b[0m         \u001b[0;32mexcept\u001b[0m \u001b[0mTypeError\u001b[0m\u001b[0;34m:\u001b[0m\u001b[0;34m\u001b[0m\u001b[0;34m\u001b[0m\u001b[0m\n\u001b[1;32m   3800\u001b[0m             \u001b[0;31m# If we have a listlike key, _check_indexing_error will raise\u001b[0m\u001b[0;34m\u001b[0m\u001b[0;34m\u001b[0m\u001b[0m\n",
            "\u001b[0;31mKeyError\u001b[0m: '...'"
          ]
        }
      ]
    },
    {
      "cell_type": "markdown",
      "source": [
        "**2b)** Construct a relative frequency bar chart to describe the distribution of the urban-rural category."
      ],
      "metadata": {
        "id": "lnautzDMUe-k"
      }
    },
    {
      "cell_type": "code",
      "source": [
        "# Create a DataFrame\n",
        "dfrf = relative_freq_table.reset_index()\n",
        "\n",
        "# Create the bar graph#\n",
        "fig = px.bar(x=dfrf['Urban-Rural Category'],y=dfrf['Relative Frequency'],\n",
        "             title='...')\n",
        "\n",
        "fig.update_layout(xaxis_title='...')\n",
        "fig.update_layout(yaxis_title='...')\n",
        "fig.show()\n"
      ],
      "metadata": {
        "id": "ackWX-GcX4a9"
      },
      "execution_count": null,
      "outputs": []
    },
    {
      "cell_type": "markdown",
      "source": [
        "**2c)** Describe the distribution of urban-rural category.\n",
        "\n",
        "..."
      ],
      "metadata": {
        "id": "GRWHYZT_Wtzp"
      }
    },
    {
      "cell_type": "markdown",
      "source": [
        "## **Question 3**\n",
        "\n",
        "For question 3 you will analyze a quantitative variable. Find your variable based on your last name and use that variable when answering all parts of question 3.  \n",
        "\n",
        "Once you find your variable description, scroll up to \"About the Dataset\" to find the variable name. Then look at the \"Snippet of Data\" to get the exact variable name, especially since variable names are case sensitive."
      ],
      "metadata": {
        "id": "BdkQcF691E74"
      }
    },
    {
      "cell_type": "markdown",
      "source": [
        "| **Last Name** | **Variable Description**    |\n",
        "|:--------------|:----------------------------|\n",
        "| A-L           | confirmed                   |\n",
        "| M-Z           | deaths                      |\n",
        "\n",
        "\n",
        "\n"
      ],
      "metadata": {
        "id": "wHgAcPgyt_8N"
      }
    },
    {
      "cell_type": "markdown",
      "source": [
        "**3a)** Construct a histogram for your variable. Use number of bins = 12."
      ],
      "metadata": {
        "id": "A2uHwoKa0a1Y"
      }
    },
    {
      "cell_type": "code",
      "source": [
        "# Create the histogram, with the x-axis being the variable specified in the\n",
        "#   table based on your last name.\n",
        "\n",
        "fig = px.histogram(x=df['...'], nbins = ...,\n",
        "             title='...',\n",
        "             labels = {'x':'...'})\n",
        "\n",
        "# Update the vertical axis title.\n",
        "fig.update_layout(yaxis_title='...')\n",
        "\n",
        "# Print the histogram.\n",
        "fig.show()\n"
      ],
      "metadata": {
        "id": "GOOXz_eQAmcE"
      },
      "execution_count": null,
      "outputs": []
    },
    {
      "cell_type": "markdown",
      "source": [
        "**3b)** Construct a boxplot for your variable.  "
      ],
      "metadata": {
        "id": "Ks7CG_AJ0bOf"
      }
    },
    {
      "cell_type": "code",
      "execution_count": null,
      "metadata": {
        "id": "06ZF8nozsLvx"
      },
      "outputs": [],
      "source": [
        "# Create the boxplot, with a title, and specify horizontal axis label.\n",
        "px.box(x=df['...'],\n",
        "       title='...',\n",
        "       labels={'x':'...'})"
      ]
    },
    {
      "cell_type": "markdown",
      "source": [
        "**3c)** Calculate the following summary statistics for your variable: 5 number summary, mean, and standard deviation. Round to three decimal places."
      ],
      "metadata": {
        "id": "9BCskrHU0blp"
      }
    },
    {
      "cell_type": "code",
      "source": [
        "# Calculate the numerical summaries\n",
        "# Indicate your variable.\n",
        "descriptive_stats = df[['...']].describe().round(...)\n",
        "\n",
        "# Print the results.\n",
        "...\n"
      ],
      "metadata": {
        "id": "44TVRz9LTsML"
      },
      "execution_count": null,
      "outputs": []
    },
    {
      "cell_type": "markdown",
      "source": [
        "**3d)** Use information from (3a), (3b) and 3(c) to describe your variable in terms of shape, center, spread, and outliers.\n",
        "* Use the correct center and the correct spread based on the shape of the distribution.\n",
        "* Specify which center and which spread you are using. For ex: Say \"The mean is ...\" or \"The median is ...\", rather than \"The center is ...\"\n",
        "* When addressing outliers, if any, list the values of all outliers.\n",
        "* Include units, if any, for all numbers.\n",
        "\n",
        "..."
      ],
      "metadata": {
        "id": "kSnkHZWO0cti"
      }
    },
    {
      "cell_type": "markdown",
      "source": [
        "**3e)** Interpret the standard deviation in context.\n",
        "\n",
        "..."
      ],
      "metadata": {
        "id": "Sfzbaa6u1rr8"
      }
    },
    {
      "cell_type": "markdown",
      "source": [
        "**3f)** Interpret the IQR in context.\n",
        "\n",
        "..."
      ],
      "metadata": {
        "id": "wsv_sCI71w5w"
      }
    },
    {
      "cell_type": "markdown",
      "source": [
        "## **QUESTION 4**\n",
        "\n",
        "How does the *median* (not mean) confirmed number of cases per 100000, and the *median* number of deaths per 100000 com\n",
        "\n",
        "How do *large fringe metro* and *small metro* counties compare with respect to the number of confirmed cases per 100,000 and the number of deaths per 100,000."
      ],
      "metadata": {
        "id": "nul2GHpi0chf"
      }
    },
    {
      "cell_type": "markdown",
      "source": [
        "**4a)** Calculate the mean number of confirmed cases per 100000 and the mean number of deaths per 100000 for *large fringe metro* and *small metro* counties. Round to two decimal places. Hint: See the table you created in (1a) for the exact spelling of the categories."
      ],
      "metadata": {
        "id": "fZRnALiPOs-A"
      }
    },
    {
      "cell_type": "code",
      "source": [
        "# LB_means = df[df['Qual var'] == 'LB'][['Quant1', 'Quant2', 'Quant3']]\n",
        "large_fringe_means = df[df['...'] == 'Large fringe metro'][['...', '...']].mean().round(...)\n",
        "small_metro_means = df[df['nchs_urbanization'] == '...'][['...', '...']].mean().round(...)\n",
        "\n",
        "# Combine the two table and specify labels.\n",
        "combined_means = pd.DataFrame({'Confirmed per 100,000': [large_fringe_means['confirmed_per_100000'], small_metro_means['confirmed_per_100000']],\n",
        "                               'Deaths per 100,000': [large_fringe_means['deaths_per_100000'], small_metro_means['deaths_per_100000']]},\n",
        "                               index=['Large Fringe Metro', 'Small Metro'])\n",
        "\n",
        "#Print the table\n",
        "..."
      ],
      "metadata": {
        "id": "BTWr7kHPVszB"
      },
      "execution_count": null,
      "outputs": []
    },
    {
      "cell_type": "markdown",
      "source": [
        "**4b)** Compare the results for these two type of counties."
      ],
      "metadata": {
        "id": "sM5Llq_JWQy_"
      }
    },
    {
      "cell_type": "markdown",
      "source": [
        "..."
      ],
      "metadata": {
        "id": "BPOZq-bM-DHq"
      }
    },
    {
      "cell_type": "markdown",
      "source": [
        "**4c)** In the table below are some snippets of code."
      ],
      "metadata": {
        "id": "mvrVDE_rQ7sB"
      }
    },
    {
      "cell_type": "markdown",
      "source": [
        "| **Last Name Initial** | **Code**                               |\n",
        "|:----------------------|:---------------------------------------|\n",
        "| A-L                   | df[df['nchs_urbanization'] == 'Small metro'] |\n",
        "| M-Z                   | df['nchs_urbanization'] == 'Large fringe metro' |"
      ],
      "metadata": {
        "id": "ytNNo_tdo3z2"
      }
    },
    {
      "cell_type": "markdown",
      "source": [
        "Based on your last name, interpret the snippet of code.\n",
        "\n"
      ],
      "metadata": {
        "id": "-_yzJbqfSAs0"
      }
    },
    {
      "cell_type": "markdown",
      "source": [
        "## **QUESTION 5**\n",
        "\n",
        "Generate a paragraph of at least 100 words to address one of the following questions. That is, answer only 5a or 5b, but not both.\n",
        "\n",
        "**5a)** Discuss how analyzing your chosen data set using statistical methods could help you become better prepared for future courses in your major?\n",
        "\n",
        "...\n",
        "\n",
        "--OR--\n",
        "\n",
        "**5b)** Discuss how analyzing your chosen data set using statistical methods could be instrumental in becoming better prepared for your future career?\n",
        "\n",
        "...\n"
      ],
      "metadata": {
        "id": "vtlNs1kL0cAr"
      }
    },
    {
      "cell_type": "markdown",
      "source": [
        "<br><br>\n",
        "### Once you are done and ready to submit, follow the instructions below to save as a PDF and submit to GradeScope.\n",
        "\n",
        "### Save as PDF\n",
        "1. Run all code one last time\n",
        "2. File-> Print Preview opens in a new browser window\n",
        "3. Verify you can see all graphs. If not, go back to step 1.\n",
        "4. File -> Print (or ctrl-p/cmnd-p)\n",
        "5. Change destination to PDF (don't save, yet)\n",
        "6. Scroll through preview to make sure you can see your graphs entirely. If not, click Cancel. Make the browser window narrower. Go back to step 4.\n",
        "7. Repeat steps 4-6 until you can see your graphs completely. But do not make them too narrow.\n",
        "8. Save the PDF, taking note of where it is saved.\n",
        "\n",
        "### Submit to GradeScope\n",
        "1. Login to the Canvas course\n",
        "2. Click on GradeScope in the course navigation.\n",
        "3. If you see multiple courses in GradeScope, click on the STAT 108 course\n",
        "4. Click on the \"Tutorial 2 Practice Upload\" assignment\n",
        "5. Click on \"Submit Work\", select PDF\n",
        "6. Select the PDF you just created\n",
        "7. You need to tell GradeScope which page each problem answer/output is on. You should see a list of problems on the right, and a display of pages (thumbnails) on the right.\n",
        "Assign pages to questions by clicking on the question number on the left, then clicking on all pages that question is on.\n",
        "8. After ALL questions have been assigned to their respective page(s), click \"Submit\"\n"
      ],
      "metadata": {
        "id": "KHSYrvqh66V6"
      }
    }
  ]
}