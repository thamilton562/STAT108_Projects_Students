{
  "nbformat": 4,
  "nbformat_minor": 0,
  "metadata": {
    "colab": {
      "provenance": []
    },
    "kernelspec": {
      "name": "python3",
      "display_name": "Python 3"
    },
    "language_info": {
      "name": "python"
    }
  },
  "cells": [
    {
      "cell_type": "markdown",
      "source": [
        "# **Body Data**"
      ],
      "metadata": {
        "id": "WOWuLyetinsJ"
      }
    },
    {
      "cell_type": "markdown",
      "source": [
        "#### In this tutorial you will anaylze a qualitative variable by:\n",
        "\n",
        "  * ordering the categories of a variable.\n",
        "  * creating a frequency distribution and relative frequency distribution as one table, with the categories ordered.\n",
        "  * creating a bar graph for a single variable, with the categories ordered.\n",
        "  * creating a two-way table for analyzing two variables.\n",
        "  * creating a side-by-side (comparative, grouped) bar graph.\n"
      ],
      "metadata": {
        "id": "qrUyro_WFH7v"
      }
    },
    {
      "cell_type": "markdown",
      "source": [
        "# **Importing Necessary Python Modules**\n",
        "\n",
        "Python incorporates a variety of open source add-ins called **modules** that add extra features to the basic setup. The name of the modules is after the `import` statement, and the purpose is in a non-code comment after the hashtag (#).\n",
        "\n"
      ],
      "metadata": {
        "id": "AxPB-FE5lQIX"
      }
    },
    {
      "cell_type": "code",
      "source": [
        "import pandas as pd                 #Data analysis\n",
        "import numpy as np                  #Calculations\n",
        "import plotly.express as px         #Graphing\n",
        "import matplotlib.pyplot as plt     #Graphing\n",
        "from IPython.display import Image   #Display images\n",
        "import warnings                     #Ignore version warnings\n",
        "warnings.simplefilter('ignore', FutureWarning)\n"
      ],
      "metadata": {
        "id": "DIbfBAiwmTlf"
      },
      "execution_count": null,
      "outputs": []
    },
    {
      "cell_type": "code",
      "source": [
        "# Replace 'image_url' with the URL of the image you want to display\n",
        "image_url = 'https://media.istockphoto.com/id/456054995/photo/dna-molecules-and-virtuvian-man.jpg?s=612x612&w=0&k=20&c=v5qZJ5Ty4RwDbyGRx_v-tYd1-LfTZwTi-Aend5Q_sqA='\n",
        "\n",
        "# Display the image\n",
        "Image(url=image_url)"
      ],
      "metadata": {
        "colab": {
          "base_uri": "https://localhost:8080/",
          "height": 429
        },
        "id": "zEZJc7AED4wy",
        "outputId": "13ce4745-8f96-43c8-bbdd-5b289fc144cc"
      },
      "execution_count": null,
      "outputs": [
        {
          "output_type": "execute_result",
          "data": {
            "text/html": [
              "<img src=\"https://media.istockphoto.com/id/456054995/photo/dna-molecules-and-virtuvian-man.jpg?s=612x612&w=0&k=20&c=v5qZJ5Ty4RwDbyGRx_v-tYd1-LfTZwTi-Aend5Q_sqA=\"/>"
            ],
            "text/plain": [
              "<IPython.core.display.Image object>"
            ]
          },
          "metadata": {},
          "execution_count": 14
        }
      ]
    },
    {
      "cell_type": "markdown",
      "source": [
        "# **Context**\n",
        "\n",
        "The National Center for Health Statistics (NCHS) offers downloadable public-use data files through the Centers for Disease Control and Prevention's (CDC) FTP file server. Users of this service have access to data sets, documentation, and questionnaires from NCHS surveys and data collection systems.\n",
        "\n",
        "Public-use data files are prepared and disseminated to provide access to the full scope of the data. This allows researchers to manipulate the data in a format appropriate for their analyses. NCHS makes every effort to release data collected through its surveys and data systems in a timely manner.\n",
        "\n",
        "More information can be found at https://www.cdc.gov/nchs/data_access/ftp_data.htm.\n"
      ],
      "metadata": {
        "id": "XJjnfq1hitm8"
      }
    },
    {
      "cell_type": "markdown",
      "source": [
        "# **About the Dataset**\n",
        "\n",
        "This dataset contains 301 rows corresponding to a sample of Americans. A total of 16 variables are provided as listed below:"
      ],
      "metadata": {
        "id": "bQfu7EYxi7Md"
      }
    },
    {
      "cell_type": "markdown",
      "metadata": {
        "id": "XusIoTTPjC87"
      },
      "source": [
        "**Variables**\n",
        "\n",
        "| Column     | Description                                                                 |\n",
        "|------------|-----------------------------------------------------------------------------|\n",
        "| AGE        | Age in years|\n",
        "| GENDER     | Gender: 0=female, 1=male|\n",
        "| PULSE      | Pulse rate in beats per minute (bpm)|\n",
        "| SYSTOLIC   | Systolic blood pressure (mm Hg)|\n",
        "| DIASTOLIC  | Diastolic blood pressure (mm Hg)|\n",
        "| CATEGORY   | Blood Pressure Category based on the table below from the American Heart Association|\n",
        "| HDL        | HDL cholesterol (mg/dL)|\n",
        "| LDL        | LDL cholesterol (mg/dL)|\n",
        "| WHITE      | White blood cell count (1000 cells/µL) |\n",
        "| RED        | Red blood cell count (million cells/µL)|\n",
        "| PLATE      | Platelet count (1000 cells/µL)|\n",
        "| WEIGHT     | Weight (kg)|\n",
        "| HEIGHT     | Height (cm)|\n",
        "| WAIST      | Waist circumference (cm)|\n",
        "| ARM CIRC   | Arm circumference (cm)|\n",
        "| BMI        | Body mass index (kg/m²)|"
      ]
    },
    {
      "cell_type": "markdown",
      "source": [
        "# **Blood Pressure Category Table**\n",
        "\n",
        "The table below from the American Heart Association classifies blood pressure into five (5) categories based on a combination of the individual's systolic and diastolic blood pressure."
      ],
      "metadata": {
        "id": "K6Ec7iTdr-ry"
      }
    },
    {
      "cell_type": "code",
      "execution_count": null,
      "metadata": {
        "colab": {
          "base_uri": "https://localhost:8080/",
          "height": 391
        },
        "outputId": "ea293f3f-c72f-42dc-9dd9-6a8a1f24178d",
        "id": "M58NT0yaoQxP"
      },
      "outputs": [
        {
          "output_type": "execute_result",
          "data": {
            "text/html": [
              "<img src=\"https://www.heart.org/-/media/Images/Health-Topics/High-Blood-Pressure/Rainbow-Chart/blood-pressure-readings-chart.jpg?h=294&iar=0&mw=440&w=440&sc_lang=en\"/>"
            ],
            "text/plain": [
              "<IPython.core.display.Image object>"
            ]
          },
          "metadata": {},
          "execution_count": 15
        }
      ],
      "source": [
        "# Replace 'image_url' with the URL of the image you want to display\n",
        "image_url = 'https://www.heart.org/-/media/Images/Health-Topics/High-Blood-Pressure/Rainbow-Chart/blood-pressure-readings-chart.jpg?h=294&iar=0&mw=440&w=440&sc_lang=en'\n",
        "# Display the image\n",
        "Image(url=image_url)\n"
      ]
    },
    {
      "cell_type": "markdown",
      "metadata": {
        "id": "DbJUgXG2EzTd"
      },
      "source": [
        "# **A Snippet of the Data**\n",
        "\n",
        "We can view a snippet of the data by first importing it directly from the url below.\n"
      ]
    },
    {
      "cell_type": "code",
      "source": [
        "# Assign the name of the web address to 'url'\n",
        "url=\"https://raw.githubusercontent.com/ksuaray/STAT108F24_Projects_Jupyter/main/Project0/Body%20Data.csv\"\n",
        "\n",
        "# df stands for data frame, which is what the raw data is referred as.\n",
        "# This code reads in the data file from the address specified in 'url'\n",
        "df=pd.read_csv(url)"
      ],
      "metadata": {
        "id": "TH9hHi05Rlxt"
      },
      "execution_count": null,
      "outputs": []
    },
    {
      "cell_type": "markdown",
      "source": [
        "Next, we can display the data by *typing the name* of the DataFrame. To ensure we can see all columns, we'll use the *pd.set_option* method."
      ],
      "metadata": {
        "id": "cj8T9vdrimYo"
      }
    },
    {
      "cell_type": "code",
      "source": [
        "# Set display options to show all columns\n",
        "pd.set_option('display.max_columns', None)\n",
        "df"
      ],
      "metadata": {
        "colab": {
          "base_uri": "https://localhost:8080/",
          "height": 510
        },
        "id": "YT5tP1d8pQli",
        "outputId": "47a8e8a1-8c23-4510-8788-b89b28bc0eb4"
      },
      "execution_count": null,
      "outputs": [
        {
          "output_type": "execute_result",
          "data": {
            "text/plain": [
              "     AGE  GENDER (1=M)  PULSE  SYSTOLIC  DIASTOLIC              CATEGORY  HDL  \\\n",
              "0     43             0     80       100         70                NORMAL   73   \n",
              "1     38             0     94       134         94  HYPERTENSION STAGE 2   36   \n",
              "2     69             0     58       138         80  HYPERTENSION STAGE 1   40   \n",
              "3     44             0     66       114         66                NORMAL   45   \n",
              "4     72             0     56       110         72                NORMAL   53   \n",
              "..   ...           ...    ...       ...        ...                   ...  ...   \n",
              "295   18             1     72       106         44                NORMAL   40   \n",
              "296   67             1     62       136         82  HYPERTENSION STAGE 1   39   \n",
              "297   24             1     94        96         62                NORMAL   43   \n",
              "298   53             1     86       132         74  HYPERTENSION STAGE 1   42   \n",
              "299   31             1     90       104         70                NORMAL   64   \n",
              "\n",
              "     LDL  WHITE   RED  PLATE  WEIGHT  HEIGHT  WAIST  ARM CIRC   BMI  \n",
              "0     68    8.7  4.80    319    98.6   172.0  120.4      40.7  33.3  \n",
              "1    223    6.9  4.47    297   108.2   154.4  120.3      44.3  45.4  \n",
              "2    140    8.1  4.60    286    79.2   155.7  103.5      34.2  32.7  \n",
              "3    136    8.0  4.09    263    64.2   157.6   89.7      32.5  25.8  \n",
              "4    102    6.9  4.15    215    98.2   168.6  115.3      38.5  34.5  \n",
              "..   ...    ...   ...    ...     ...     ...    ...       ...   ...  \n",
              "295  124    4.0  5.17    221    71.6   172.8   78.1      31.0  24.0  \n",
              "296   62    7.7  3.90    305   110.2   169.1  125.5      39.0  38.5  \n",
              "297  102    7.0  5.29    260    56.3   162.7   78.4      27.9  21.3  \n",
              "298  112    8.4  4.07     75   102.6   181.0  117.7      36.5  31.3  \n",
              "299  112    6.0  5.07    197    56.4   165.4   74.0      26.5  20.6  \n",
              "\n",
              "[300 rows x 16 columns]"
            ],
            "text/html": [
              "\n",
              "  <div id=\"df-59918229-4f36-40da-9f3e-7d884aa31947\" class=\"colab-df-container\">\n",
              "    <div>\n",
              "<style scoped>\n",
              "    .dataframe tbody tr th:only-of-type {\n",
              "        vertical-align: middle;\n",
              "    }\n",
              "\n",
              "    .dataframe tbody tr th {\n",
              "        vertical-align: top;\n",
              "    }\n",
              "\n",
              "    .dataframe thead th {\n",
              "        text-align: right;\n",
              "    }\n",
              "</style>\n",
              "<table border=\"1\" class=\"dataframe\">\n",
              "  <thead>\n",
              "    <tr style=\"text-align: right;\">\n",
              "      <th></th>\n",
              "      <th>AGE</th>\n",
              "      <th>GENDER (1=M)</th>\n",
              "      <th>PULSE</th>\n",
              "      <th>SYSTOLIC</th>\n",
              "      <th>DIASTOLIC</th>\n",
              "      <th>CATEGORY</th>\n",
              "      <th>HDL</th>\n",
              "      <th>LDL</th>\n",
              "      <th>WHITE</th>\n",
              "      <th>RED</th>\n",
              "      <th>PLATE</th>\n",
              "      <th>WEIGHT</th>\n",
              "      <th>HEIGHT</th>\n",
              "      <th>WAIST</th>\n",
              "      <th>ARM CIRC</th>\n",
              "      <th>BMI</th>\n",
              "    </tr>\n",
              "  </thead>\n",
              "  <tbody>\n",
              "    <tr>\n",
              "      <th>0</th>\n",
              "      <td>43</td>\n",
              "      <td>0</td>\n",
              "      <td>80</td>\n",
              "      <td>100</td>\n",
              "      <td>70</td>\n",
              "      <td>NORMAL</td>\n",
              "      <td>73</td>\n",
              "      <td>68</td>\n",
              "      <td>8.7</td>\n",
              "      <td>4.80</td>\n",
              "      <td>319</td>\n",
              "      <td>98.6</td>\n",
              "      <td>172.0</td>\n",
              "      <td>120.4</td>\n",
              "      <td>40.7</td>\n",
              "      <td>33.3</td>\n",
              "    </tr>\n",
              "    <tr>\n",
              "      <th>1</th>\n",
              "      <td>38</td>\n",
              "      <td>0</td>\n",
              "      <td>94</td>\n",
              "      <td>134</td>\n",
              "      <td>94</td>\n",
              "      <td>HYPERTENSION STAGE 2</td>\n",
              "      <td>36</td>\n",
              "      <td>223</td>\n",
              "      <td>6.9</td>\n",
              "      <td>4.47</td>\n",
              "      <td>297</td>\n",
              "      <td>108.2</td>\n",
              "      <td>154.4</td>\n",
              "      <td>120.3</td>\n",
              "      <td>44.3</td>\n",
              "      <td>45.4</td>\n",
              "    </tr>\n",
              "    <tr>\n",
              "      <th>2</th>\n",
              "      <td>69</td>\n",
              "      <td>0</td>\n",
              "      <td>58</td>\n",
              "      <td>138</td>\n",
              "      <td>80</td>\n",
              "      <td>HYPERTENSION STAGE 1</td>\n",
              "      <td>40</td>\n",
              "      <td>140</td>\n",
              "      <td>8.1</td>\n",
              "      <td>4.60</td>\n",
              "      <td>286</td>\n",
              "      <td>79.2</td>\n",
              "      <td>155.7</td>\n",
              "      <td>103.5</td>\n",
              "      <td>34.2</td>\n",
              "      <td>32.7</td>\n",
              "    </tr>\n",
              "    <tr>\n",
              "      <th>3</th>\n",
              "      <td>44</td>\n",
              "      <td>0</td>\n",
              "      <td>66</td>\n",
              "      <td>114</td>\n",
              "      <td>66</td>\n",
              "      <td>NORMAL</td>\n",
              "      <td>45</td>\n",
              "      <td>136</td>\n",
              "      <td>8.0</td>\n",
              "      <td>4.09</td>\n",
              "      <td>263</td>\n",
              "      <td>64.2</td>\n",
              "      <td>157.6</td>\n",
              "      <td>89.7</td>\n",
              "      <td>32.5</td>\n",
              "      <td>25.8</td>\n",
              "    </tr>\n",
              "    <tr>\n",
              "      <th>4</th>\n",
              "      <td>72</td>\n",
              "      <td>0</td>\n",
              "      <td>56</td>\n",
              "      <td>110</td>\n",
              "      <td>72</td>\n",
              "      <td>NORMAL</td>\n",
              "      <td>53</td>\n",
              "      <td>102</td>\n",
              "      <td>6.9</td>\n",
              "      <td>4.15</td>\n",
              "      <td>215</td>\n",
              "      <td>98.2</td>\n",
              "      <td>168.6</td>\n",
              "      <td>115.3</td>\n",
              "      <td>38.5</td>\n",
              "      <td>34.5</td>\n",
              "    </tr>\n",
              "    <tr>\n",
              "      <th>...</th>\n",
              "      <td>...</td>\n",
              "      <td>...</td>\n",
              "      <td>...</td>\n",
              "      <td>...</td>\n",
              "      <td>...</td>\n",
              "      <td>...</td>\n",
              "      <td>...</td>\n",
              "      <td>...</td>\n",
              "      <td>...</td>\n",
              "      <td>...</td>\n",
              "      <td>...</td>\n",
              "      <td>...</td>\n",
              "      <td>...</td>\n",
              "      <td>...</td>\n",
              "      <td>...</td>\n",
              "      <td>...</td>\n",
              "    </tr>\n",
              "    <tr>\n",
              "      <th>295</th>\n",
              "      <td>18</td>\n",
              "      <td>1</td>\n",
              "      <td>72</td>\n",
              "      <td>106</td>\n",
              "      <td>44</td>\n",
              "      <td>NORMAL</td>\n",
              "      <td>40</td>\n",
              "      <td>124</td>\n",
              "      <td>4.0</td>\n",
              "      <td>5.17</td>\n",
              "      <td>221</td>\n",
              "      <td>71.6</td>\n",
              "      <td>172.8</td>\n",
              "      <td>78.1</td>\n",
              "      <td>31.0</td>\n",
              "      <td>24.0</td>\n",
              "    </tr>\n",
              "    <tr>\n",
              "      <th>296</th>\n",
              "      <td>67</td>\n",
              "      <td>1</td>\n",
              "      <td>62</td>\n",
              "      <td>136</td>\n",
              "      <td>82</td>\n",
              "      <td>HYPERTENSION STAGE 1</td>\n",
              "      <td>39</td>\n",
              "      <td>62</td>\n",
              "      <td>7.7</td>\n",
              "      <td>3.90</td>\n",
              "      <td>305</td>\n",
              "      <td>110.2</td>\n",
              "      <td>169.1</td>\n",
              "      <td>125.5</td>\n",
              "      <td>39.0</td>\n",
              "      <td>38.5</td>\n",
              "    </tr>\n",
              "    <tr>\n",
              "      <th>297</th>\n",
              "      <td>24</td>\n",
              "      <td>1</td>\n",
              "      <td>94</td>\n",
              "      <td>96</td>\n",
              "      <td>62</td>\n",
              "      <td>NORMAL</td>\n",
              "      <td>43</td>\n",
              "      <td>102</td>\n",
              "      <td>7.0</td>\n",
              "      <td>5.29</td>\n",
              "      <td>260</td>\n",
              "      <td>56.3</td>\n",
              "      <td>162.7</td>\n",
              "      <td>78.4</td>\n",
              "      <td>27.9</td>\n",
              "      <td>21.3</td>\n",
              "    </tr>\n",
              "    <tr>\n",
              "      <th>298</th>\n",
              "      <td>53</td>\n",
              "      <td>1</td>\n",
              "      <td>86</td>\n",
              "      <td>132</td>\n",
              "      <td>74</td>\n",
              "      <td>HYPERTENSION STAGE 1</td>\n",
              "      <td>42</td>\n",
              "      <td>112</td>\n",
              "      <td>8.4</td>\n",
              "      <td>4.07</td>\n",
              "      <td>75</td>\n",
              "      <td>102.6</td>\n",
              "      <td>181.0</td>\n",
              "      <td>117.7</td>\n",
              "      <td>36.5</td>\n",
              "      <td>31.3</td>\n",
              "    </tr>\n",
              "    <tr>\n",
              "      <th>299</th>\n",
              "      <td>31</td>\n",
              "      <td>1</td>\n",
              "      <td>90</td>\n",
              "      <td>104</td>\n",
              "      <td>70</td>\n",
              "      <td>NORMAL</td>\n",
              "      <td>64</td>\n",
              "      <td>112</td>\n",
              "      <td>6.0</td>\n",
              "      <td>5.07</td>\n",
              "      <td>197</td>\n",
              "      <td>56.4</td>\n",
              "      <td>165.4</td>\n",
              "      <td>74.0</td>\n",
              "      <td>26.5</td>\n",
              "      <td>20.6</td>\n",
              "    </tr>\n",
              "  </tbody>\n",
              "</table>\n",
              "<p>300 rows × 16 columns</p>\n",
              "</div>\n",
              "    <div class=\"colab-df-buttons\">\n",
              "\n",
              "  <div class=\"colab-df-container\">\n",
              "    <button class=\"colab-df-convert\" onclick=\"convertToInteractive('df-59918229-4f36-40da-9f3e-7d884aa31947')\"\n",
              "            title=\"Convert this dataframe to an interactive table.\"\n",
              "            style=\"display:none;\">\n",
              "\n",
              "  <svg xmlns=\"http://www.w3.org/2000/svg\" height=\"24px\" viewBox=\"0 -960 960 960\">\n",
              "    <path d=\"M120-120v-720h720v720H120Zm60-500h600v-160H180v160Zm220 220h160v-160H400v160Zm0 220h160v-160H400v160ZM180-400h160v-160H180v160Zm440 0h160v-160H620v160ZM180-180h160v-160H180v160Zm440 0h160v-160H620v160Z\"/>\n",
              "  </svg>\n",
              "    </button>\n",
              "\n",
              "  <style>\n",
              "    .colab-df-container {\n",
              "      display:flex;\n",
              "      gap: 12px;\n",
              "    }\n",
              "\n",
              "    .colab-df-convert {\n",
              "      background-color: #E8F0FE;\n",
              "      border: none;\n",
              "      border-radius: 50%;\n",
              "      cursor: pointer;\n",
              "      display: none;\n",
              "      fill: #1967D2;\n",
              "      height: 32px;\n",
              "      padding: 0 0 0 0;\n",
              "      width: 32px;\n",
              "    }\n",
              "\n",
              "    .colab-df-convert:hover {\n",
              "      background-color: #E2EBFA;\n",
              "      box-shadow: 0px 1px 2px rgba(60, 64, 67, 0.3), 0px 1px 3px 1px rgba(60, 64, 67, 0.15);\n",
              "      fill: #174EA6;\n",
              "    }\n",
              "\n",
              "    .colab-df-buttons div {\n",
              "      margin-bottom: 4px;\n",
              "    }\n",
              "\n",
              "    [theme=dark] .colab-df-convert {\n",
              "      background-color: #3B4455;\n",
              "      fill: #D2E3FC;\n",
              "    }\n",
              "\n",
              "    [theme=dark] .colab-df-convert:hover {\n",
              "      background-color: #434B5C;\n",
              "      box-shadow: 0px 1px 3px 1px rgba(0, 0, 0, 0.15);\n",
              "      filter: drop-shadow(0px 1px 2px rgba(0, 0, 0, 0.3));\n",
              "      fill: #FFFFFF;\n",
              "    }\n",
              "  </style>\n",
              "\n",
              "    <script>\n",
              "      const buttonEl =\n",
              "        document.querySelector('#df-59918229-4f36-40da-9f3e-7d884aa31947 button.colab-df-convert');\n",
              "      buttonEl.style.display =\n",
              "        google.colab.kernel.accessAllowed ? 'block' : 'none';\n",
              "\n",
              "      async function convertToInteractive(key) {\n",
              "        const element = document.querySelector('#df-59918229-4f36-40da-9f3e-7d884aa31947');\n",
              "        const dataTable =\n",
              "          await google.colab.kernel.invokeFunction('convertToInteractive',\n",
              "                                                    [key], {});\n",
              "        if (!dataTable) return;\n",
              "\n",
              "        const docLinkHtml = 'Like what you see? Visit the ' +\n",
              "          '<a target=\"_blank\" href=https://colab.research.google.com/notebooks/data_table.ipynb>data table notebook</a>'\n",
              "          + ' to learn more about interactive tables.';\n",
              "        element.innerHTML = '';\n",
              "        dataTable['output_type'] = 'display_data';\n",
              "        await google.colab.output.renderOutput(dataTable, element);\n",
              "        const docLink = document.createElement('div');\n",
              "        docLink.innerHTML = docLinkHtml;\n",
              "        element.appendChild(docLink);\n",
              "      }\n",
              "    </script>\n",
              "  </div>\n",
              "\n",
              "\n",
              "<div id=\"df-6de9c7f9-fcae-42ca-8850-bfe932ced1cd\">\n",
              "  <button class=\"colab-df-quickchart\" onclick=\"quickchart('df-6de9c7f9-fcae-42ca-8850-bfe932ced1cd')\"\n",
              "            title=\"Suggest charts\"\n",
              "            style=\"display:none;\">\n",
              "\n",
              "<svg xmlns=\"http://www.w3.org/2000/svg\" height=\"24px\"viewBox=\"0 0 24 24\"\n",
              "     width=\"24px\">\n",
              "    <g>\n",
              "        <path d=\"M19 3H5c-1.1 0-2 .9-2 2v14c0 1.1.9 2 2 2h14c1.1 0 2-.9 2-2V5c0-1.1-.9-2-2-2zM9 17H7v-7h2v7zm4 0h-2V7h2v10zm4 0h-2v-4h2v4z\"/>\n",
              "    </g>\n",
              "</svg>\n",
              "  </button>\n",
              "\n",
              "<style>\n",
              "  .colab-df-quickchart {\n",
              "      --bg-color: #E8F0FE;\n",
              "      --fill-color: #1967D2;\n",
              "      --hover-bg-color: #E2EBFA;\n",
              "      --hover-fill-color: #174EA6;\n",
              "      --disabled-fill-color: #AAA;\n",
              "      --disabled-bg-color: #DDD;\n",
              "  }\n",
              "\n",
              "  [theme=dark] .colab-df-quickchart {\n",
              "      --bg-color: #3B4455;\n",
              "      --fill-color: #D2E3FC;\n",
              "      --hover-bg-color: #434B5C;\n",
              "      --hover-fill-color: #FFFFFF;\n",
              "      --disabled-bg-color: #3B4455;\n",
              "      --disabled-fill-color: #666;\n",
              "  }\n",
              "\n",
              "  .colab-df-quickchart {\n",
              "    background-color: var(--bg-color);\n",
              "    border: none;\n",
              "    border-radius: 50%;\n",
              "    cursor: pointer;\n",
              "    display: none;\n",
              "    fill: var(--fill-color);\n",
              "    height: 32px;\n",
              "    padding: 0;\n",
              "    width: 32px;\n",
              "  }\n",
              "\n",
              "  .colab-df-quickchart:hover {\n",
              "    background-color: var(--hover-bg-color);\n",
              "    box-shadow: 0 1px 2px rgba(60, 64, 67, 0.3), 0 1px 3px 1px rgba(60, 64, 67, 0.15);\n",
              "    fill: var(--button-hover-fill-color);\n",
              "  }\n",
              "\n",
              "  .colab-df-quickchart-complete:disabled,\n",
              "  .colab-df-quickchart-complete:disabled:hover {\n",
              "    background-color: var(--disabled-bg-color);\n",
              "    fill: var(--disabled-fill-color);\n",
              "    box-shadow: none;\n",
              "  }\n",
              "\n",
              "  .colab-df-spinner {\n",
              "    border: 2px solid var(--fill-color);\n",
              "    border-color: transparent;\n",
              "    border-bottom-color: var(--fill-color);\n",
              "    animation:\n",
              "      spin 1s steps(1) infinite;\n",
              "  }\n",
              "\n",
              "  @keyframes spin {\n",
              "    0% {\n",
              "      border-color: transparent;\n",
              "      border-bottom-color: var(--fill-color);\n",
              "      border-left-color: var(--fill-color);\n",
              "    }\n",
              "    20% {\n",
              "      border-color: transparent;\n",
              "      border-left-color: var(--fill-color);\n",
              "      border-top-color: var(--fill-color);\n",
              "    }\n",
              "    30% {\n",
              "      border-color: transparent;\n",
              "      border-left-color: var(--fill-color);\n",
              "      border-top-color: var(--fill-color);\n",
              "      border-right-color: var(--fill-color);\n",
              "    }\n",
              "    40% {\n",
              "      border-color: transparent;\n",
              "      border-right-color: var(--fill-color);\n",
              "      border-top-color: var(--fill-color);\n",
              "    }\n",
              "    60% {\n",
              "      border-color: transparent;\n",
              "      border-right-color: var(--fill-color);\n",
              "    }\n",
              "    80% {\n",
              "      border-color: transparent;\n",
              "      border-right-color: var(--fill-color);\n",
              "      border-bottom-color: var(--fill-color);\n",
              "    }\n",
              "    90% {\n",
              "      border-color: transparent;\n",
              "      border-bottom-color: var(--fill-color);\n",
              "    }\n",
              "  }\n",
              "</style>\n",
              "\n",
              "  <script>\n",
              "    async function quickchart(key) {\n",
              "      const quickchartButtonEl =\n",
              "        document.querySelector('#' + key + ' button');\n",
              "      quickchartButtonEl.disabled = true;  // To prevent multiple clicks.\n",
              "      quickchartButtonEl.classList.add('colab-df-spinner');\n",
              "      try {\n",
              "        const charts = await google.colab.kernel.invokeFunction(\n",
              "            'suggestCharts', [key], {});\n",
              "      } catch (error) {\n",
              "        console.error('Error during call to suggestCharts:', error);\n",
              "      }\n",
              "      quickchartButtonEl.classList.remove('colab-df-spinner');\n",
              "      quickchartButtonEl.classList.add('colab-df-quickchart-complete');\n",
              "    }\n",
              "    (() => {\n",
              "      let quickchartButtonEl =\n",
              "        document.querySelector('#df-6de9c7f9-fcae-42ca-8850-bfe932ced1cd button');\n",
              "      quickchartButtonEl.style.display =\n",
              "        google.colab.kernel.accessAllowed ? 'block' : 'none';\n",
              "    })();\n",
              "  </script>\n",
              "</div>\n",
              "\n",
              "  <div id=\"id_a43ceecb-b6a5-4eb5-b058-e4c0194423d7\">\n",
              "    <style>\n",
              "      .colab-df-generate {\n",
              "        background-color: #E8F0FE;\n",
              "        border: none;\n",
              "        border-radius: 50%;\n",
              "        cursor: pointer;\n",
              "        display: none;\n",
              "        fill: #1967D2;\n",
              "        height: 32px;\n",
              "        padding: 0 0 0 0;\n",
              "        width: 32px;\n",
              "      }\n",
              "\n",
              "      .colab-df-generate:hover {\n",
              "        background-color: #E2EBFA;\n",
              "        box-shadow: 0px 1px 2px rgba(60, 64, 67, 0.3), 0px 1px 3px 1px rgba(60, 64, 67, 0.15);\n",
              "        fill: #174EA6;\n",
              "      }\n",
              "\n",
              "      [theme=dark] .colab-df-generate {\n",
              "        background-color: #3B4455;\n",
              "        fill: #D2E3FC;\n",
              "      }\n",
              "\n",
              "      [theme=dark] .colab-df-generate:hover {\n",
              "        background-color: #434B5C;\n",
              "        box-shadow: 0px 1px 3px 1px rgba(0, 0, 0, 0.15);\n",
              "        filter: drop-shadow(0px 1px 2px rgba(0, 0, 0, 0.3));\n",
              "        fill: #FFFFFF;\n",
              "      }\n",
              "    </style>\n",
              "    <button class=\"colab-df-generate\" onclick=\"generateWithVariable('df')\"\n",
              "            title=\"Generate code using this dataframe.\"\n",
              "            style=\"display:none;\">\n",
              "\n",
              "  <svg xmlns=\"http://www.w3.org/2000/svg\" height=\"24px\"viewBox=\"0 0 24 24\"\n",
              "       width=\"24px\">\n",
              "    <path d=\"M7,19H8.4L18.45,9,17,7.55,7,17.6ZM5,21V16.75L18.45,3.32a2,2,0,0,1,2.83,0l1.4,1.43a1.91,1.91,0,0,1,.58,1.4,1.91,1.91,0,0,1-.58,1.4L9.25,21ZM18.45,9,17,7.55Zm-12,3A5.31,5.31,0,0,0,4.9,8.1,5.31,5.31,0,0,0,1,6.5,5.31,5.31,0,0,0,4.9,4.9,5.31,5.31,0,0,0,6.5,1,5.31,5.31,0,0,0,8.1,4.9,5.31,5.31,0,0,0,12,6.5,5.46,5.46,0,0,0,6.5,12Z\"/>\n",
              "  </svg>\n",
              "    </button>\n",
              "    <script>\n",
              "      (() => {\n",
              "      const buttonEl =\n",
              "        document.querySelector('#id_a43ceecb-b6a5-4eb5-b058-e4c0194423d7 button.colab-df-generate');\n",
              "      buttonEl.style.display =\n",
              "        google.colab.kernel.accessAllowed ? 'block' : 'none';\n",
              "\n",
              "      buttonEl.onclick = () => {\n",
              "        google.colab.notebook.generateWithVariable('df');\n",
              "      }\n",
              "      })();\n",
              "    </script>\n",
              "  </div>\n",
              "\n",
              "    </div>\n",
              "  </div>\n"
            ],
            "application/vnd.google.colaboratory.intrinsic+json": {
              "type": "dataframe",
              "variable_name": "df",
              "summary": "{\n  \"name\": \"df\",\n  \"rows\": 300,\n  \"fields\": [\n    {\n      \"column\": \"AGE\",\n      \"properties\": {\n        \"dtype\": \"number\",\n        \"std\": 18,\n        \"min\": 18,\n        \"max\": 80,\n        \"num_unique_values\": 61,\n        \"samples\": [\n          43,\n          37,\n          27\n        ],\n        \"semantic_type\": \"\",\n        \"description\": \"\"\n      }\n    },\n    {\n      \"column\": \"GENDER (1=M)\",\n      \"properties\": {\n        \"dtype\": \"number\",\n        \"std\": 0,\n        \"min\": 0,\n        \"max\": 1,\n        \"num_unique_values\": 2,\n        \"samples\": [\n          1,\n          0\n        ],\n        \"semantic_type\": \"\",\n        \"description\": \"\"\n      }\n    },\n    {\n      \"column\": \"PULSE\",\n      \"properties\": {\n        \"dtype\": \"number\",\n        \"std\": 12,\n        \"min\": 36,\n        \"max\": 104,\n        \"num_unique_values\": 32,\n        \"samples\": [\n          40,\n          74\n        ],\n        \"semantic_type\": \"\",\n        \"description\": \"\"\n      }\n    },\n    {\n      \"column\": \"SYSTOLIC\",\n      \"properties\": {\n        \"dtype\": \"number\",\n        \"std\": 15,\n        \"min\": 88,\n        \"max\": 186,\n        \"num_unique_values\": 39,\n        \"samples\": [\n          150,\n          162\n        ],\n        \"semantic_type\": \"\",\n        \"description\": \"\"\n      }\n    },\n    {\n      \"column\": \"DIASTOLIC\",\n      \"properties\": {\n        \"dtype\": \"number\",\n        \"std\": 11,\n        \"min\": 40,\n        \"max\": 102,\n        \"num_unique_values\": 31,\n        \"samples\": [\n          96,\n          90\n        ],\n        \"semantic_type\": \"\",\n        \"description\": \"\"\n      }\n    },\n    {\n      \"column\": \"CATEGORY\",\n      \"properties\": {\n        \"dtype\": \"category\",\n        \"num_unique_values\": 5,\n        \"samples\": [\n          \"HYPERTENSION STAGE 2\",\n          \"HYPERTENSIVE CRISIS\"\n        ],\n        \"semantic_type\": \"\",\n        \"description\": \"\"\n      }\n    },\n    {\n      \"column\": \"HDL\",\n      \"properties\": {\n        \"dtype\": \"number\",\n        \"std\": 15,\n        \"min\": 26,\n        \"max\": 138,\n        \"num_unique_values\": 65,\n        \"samples\": [\n          34,\n          113\n        ],\n        \"semantic_type\": \"\",\n        \"description\": \"\"\n      }\n    },\n    {\n      \"column\": \"LDL\",\n      \"properties\": {\n        \"dtype\": \"number\",\n        \"std\": 35,\n        \"min\": 39,\n        \"max\": 251,\n        \"num_unique_values\": 128,\n        \"samples\": [\n          162,\n          137\n        ],\n        \"semantic_type\": \"\",\n        \"description\": \"\"\n      }\n    },\n    {\n      \"column\": \"WHITE\",\n      \"properties\": {\n        \"dtype\": \"number\",\n        \"std\": 1.9100091637408803,\n        \"min\": 2.7,\n        \"max\": 14.3,\n        \"num_unique_values\": 82,\n        \"samples\": [\n          8.4,\n          8.7\n        ],\n        \"semantic_type\": \"\",\n        \"description\": \"\"\n      }\n    },\n    {\n      \"column\": \"RED\",\n      \"properties\": {\n        \"dtype\": \"number\",\n        \"std\": 0.48460998236269764,\n        \"min\": 3.39,\n        \"max\": 6.34,\n        \"num_unique_values\": 146,\n        \"samples\": [\n          4.18,\n          5.08\n        ],\n        \"semantic_type\": \"\",\n        \"description\": \"\"\n      }\n    },\n    {\n      \"column\": \"PLATE\",\n      \"properties\": {\n        \"dtype\": \"number\",\n        \"std\": 64,\n        \"min\": 75,\n        \"max\": 646,\n        \"num_unique_values\": 166,\n        \"samples\": [\n          306,\n          256\n        ],\n        \"semantic_type\": \"\",\n        \"description\": \"\"\n      }\n    },\n    {\n      \"column\": \"WEIGHT\",\n      \"properties\": {\n        \"dtype\": \"number\",\n        \"std\": 19.675181552384377,\n        \"min\": 39.0,\n        \"max\": 150.4,\n        \"num_unique_values\": 249,\n        \"samples\": [\n          83.1,\n          76.1\n        ],\n        \"semantic_type\": \"\",\n        \"description\": \"\"\n      }\n    },\n    {\n      \"column\": \"HEIGHT\",\n      \"properties\": {\n        \"dtype\": \"number\",\n        \"std\": 9.57933847616972,\n        \"min\": 134.5,\n        \"max\": 193.3,\n        \"num_unique_values\": 204,\n        \"samples\": [\n          154.9,\n          155.6\n        ],\n        \"semantic_type\": \"\",\n        \"description\": \"\"\n      }\n    },\n    {\n      \"column\": \"WAIST\",\n      \"properties\": {\n        \"dtype\": \"number\",\n        \"std\": 16.477337143889493,\n        \"min\": 64.4,\n        \"max\": 170.5,\n        \"num_unique_values\": 224,\n        \"samples\": [\n          110.0,\n          80.4\n        ],\n        \"semantic_type\": \"\",\n        \"description\": \"\"\n      }\n    },\n    {\n      \"column\": \"ARM CIRC\",\n      \"properties\": {\n        \"dtype\": \"number\",\n        \"std\": 4.815036775844119,\n        \"min\": 20.5,\n        \"max\": 46.6,\n        \"num_unique_values\": 145,\n        \"samples\": [\n          24.0,\n          40.3\n        ],\n        \"semantic_type\": \"\",\n        \"description\": \"\"\n      }\n    },\n    {\n      \"column\": \"BMI\",\n      \"properties\": {\n        \"dtype\": \"number\",\n        \"std\": 6.746703485056471,\n        \"min\": 15.9,\n        \"max\": 59.0,\n        \"num_unique_values\": 169,\n        \"samples\": [\n          31.5,\n          34.2\n        ],\n        \"semantic_type\": \"\",\n        \"description\": \"\"\n      }\n    }\n  ]\n}"
            }
          },
          "metadata": {},
          "execution_count": 17
        }
      ]
    },
    {
      "cell_type": "markdown",
      "source": [
        "# **INSTRUCTIONS**\n",
        "\n",
        "* Use Python to analyze the data set and complete each of the following.\n",
        "* Replace ellipsis (...) with the relavent names or code.  \n",
        "* For problems that require a written response, double click the text box to start typing."
      ],
      "metadata": {
        "id": "VEm2KmlyzJGY"
      }
    },
    {
      "cell_type": "markdown",
      "source": [
        "# **Analyzing a Qualitative Variable**"
      ],
      "metadata": {
        "id": "U7JAQ1iOyzty"
      }
    },
    {
      "cell_type": "markdown",
      "source": [
        "# **Question 1**\n",
        "\n",
        "**1a)** In Project 0 we learned how to create a frequency table and a relative frequency table, and we printed them separately. It is often helpful to have these two pieces of information (frequency and relative frequency) in the same talbe. Today, we will construct a single table that contains the frequency and relative frequency for the variable CATEGORY."
      ],
      "metadata": {
        "id": "xkEtDHs70CzZ"
      }
    },
    {
      "cell_type": "code",
      "source": [
        "# Define the name of the variable to be analyzed\n",
        "variable = df['...']  # Replace ... with the variable name.\n",
        "\n",
        "# Reorder blood pressure categories in CATEGORY.\n",
        "# Note that the category names are case sensitive and match\n",
        "#      the names in the data set.\n",
        "CatOrder = ['NORMAL', '...',\n",
        "            '...', '...',\n",
        "            '...' ]      # Replace all ... with the remaining 4 blood pressure\n",
        "                         #   categories, in order of severity.\n",
        "\n",
        "# Create the frequency table and change the order of the blood pressure\n",
        "#      categories to that specificed in CatOrder above, and rename the counts\n",
        "#      column to Frequency.\n",
        "freq_table = pd.value_counts(variable).reindex(CatOrder)\n",
        "freq_table = freq_table.rename('Frequency')\n",
        "\n",
        "# Create the relative frequency table, and rename the counts column to\n",
        "#      Relative Frequency.\n",
        "relative_freq_table = freq_table/...   #See Project 0 if you don't remember\n",
        "relative_freq_table = relative_freq_table.rename('Relative Frequency')\n",
        "\n",
        "# Combine (concatenate) the two tables.\n",
        "combined_table=pd.concat([freq_table, relative_freq_table], axis=1)\n",
        "\n",
        "# Print the new, combined, table\n",
        "... # What would you replace ... with to print the combined table?"
      ],
      "metadata": {
        "id": "P4qIa7po3Sms",
        "colab": {
          "base_uri": "https://localhost:8080/",
          "height": 547
        },
        "outputId": "d569f159-5221-4dc3-85e5-41aa5d9ad821"
      },
      "execution_count": null,
      "outputs": [
        {
          "output_type": "error",
          "ename": "KeyError",
          "evalue": "'...'",
          "traceback": [
            "\u001b[0;31m---------------------------------------------------------------------------\u001b[0m",
            "\u001b[0;31mKeyError\u001b[0m                                  Traceback (most recent call last)",
            "\u001b[0;32m/usr/local/lib/python3.10/dist-packages/pandas/core/indexes/base.py\u001b[0m in \u001b[0;36mget_loc\u001b[0;34m(self, key)\u001b[0m\n\u001b[1;32m   3790\u001b[0m         \u001b[0;32mtry\u001b[0m\u001b[0;34m:\u001b[0m\u001b[0;34m\u001b[0m\u001b[0;34m\u001b[0m\u001b[0m\n\u001b[0;32m-> 3791\u001b[0;31m             \u001b[0;32mreturn\u001b[0m \u001b[0mself\u001b[0m\u001b[0;34m.\u001b[0m\u001b[0m_engine\u001b[0m\u001b[0;34m.\u001b[0m\u001b[0mget_loc\u001b[0m\u001b[0;34m(\u001b[0m\u001b[0mcasted_key\u001b[0m\u001b[0;34m)\u001b[0m\u001b[0;34m\u001b[0m\u001b[0;34m\u001b[0m\u001b[0m\n\u001b[0m\u001b[1;32m   3792\u001b[0m         \u001b[0;32mexcept\u001b[0m \u001b[0mKeyError\u001b[0m \u001b[0;32mas\u001b[0m \u001b[0merr\u001b[0m\u001b[0;34m:\u001b[0m\u001b[0;34m\u001b[0m\u001b[0;34m\u001b[0m\u001b[0m\n",
            "\u001b[0;32mindex.pyx\u001b[0m in \u001b[0;36mpandas._libs.index.IndexEngine.get_loc\u001b[0;34m()\u001b[0m\n",
            "\u001b[0;32mindex.pyx\u001b[0m in \u001b[0;36mpandas._libs.index.IndexEngine.get_loc\u001b[0;34m()\u001b[0m\n",
            "\u001b[0;32mpandas/_libs/hashtable_class_helper.pxi\u001b[0m in \u001b[0;36mpandas._libs.hashtable.PyObjectHashTable.get_item\u001b[0;34m()\u001b[0m\n",
            "\u001b[0;32mpandas/_libs/hashtable_class_helper.pxi\u001b[0m in \u001b[0;36mpandas._libs.hashtable.PyObjectHashTable.get_item\u001b[0;34m()\u001b[0m\n",
            "\u001b[0;31mKeyError\u001b[0m: '...'",
            "\nThe above exception was the direct cause of the following exception:\n",
            "\u001b[0;31mKeyError\u001b[0m                                  Traceback (most recent call last)",
            "\u001b[0;32m<ipython-input-18-032d004a26cc>\u001b[0m in \u001b[0;36m<cell line: 2>\u001b[0;34m()\u001b[0m\n\u001b[1;32m      1\u001b[0m \u001b[0;31m# Define the name of the variable to be analyzed\u001b[0m\u001b[0;34m\u001b[0m\u001b[0;34m\u001b[0m\u001b[0m\n\u001b[0;32m----> 2\u001b[0;31m \u001b[0mvariable\u001b[0m \u001b[0;34m=\u001b[0m \u001b[0mdf\u001b[0m\u001b[0;34m[\u001b[0m\u001b[0;34m'...'\u001b[0m\u001b[0;34m]\u001b[0m  \u001b[0;31m# Replace ... with the variable name.\u001b[0m\u001b[0;34m\u001b[0m\u001b[0;34m\u001b[0m\u001b[0m\n\u001b[0m\u001b[1;32m      3\u001b[0m \u001b[0;34m\u001b[0m\u001b[0m\n\u001b[1;32m      4\u001b[0m \u001b[0;31m# Reorder blood pressure categories in CATEGORY.\u001b[0m\u001b[0;34m\u001b[0m\u001b[0;34m\u001b[0m\u001b[0m\n\u001b[1;32m      5\u001b[0m \u001b[0;31m# Note that the category names are case sensitive and match\u001b[0m\u001b[0;34m\u001b[0m\u001b[0;34m\u001b[0m\u001b[0m\n",
            "\u001b[0;32m/usr/local/lib/python3.10/dist-packages/pandas/core/frame.py\u001b[0m in \u001b[0;36m__getitem__\u001b[0;34m(self, key)\u001b[0m\n\u001b[1;32m   3891\u001b[0m             \u001b[0;32mif\u001b[0m \u001b[0mself\u001b[0m\u001b[0;34m.\u001b[0m\u001b[0mcolumns\u001b[0m\u001b[0;34m.\u001b[0m\u001b[0mnlevels\u001b[0m \u001b[0;34m>\u001b[0m \u001b[0;36m1\u001b[0m\u001b[0;34m:\u001b[0m\u001b[0;34m\u001b[0m\u001b[0;34m\u001b[0m\u001b[0m\n\u001b[1;32m   3892\u001b[0m                 \u001b[0;32mreturn\u001b[0m \u001b[0mself\u001b[0m\u001b[0;34m.\u001b[0m\u001b[0m_getitem_multilevel\u001b[0m\u001b[0;34m(\u001b[0m\u001b[0mkey\u001b[0m\u001b[0;34m)\u001b[0m\u001b[0;34m\u001b[0m\u001b[0;34m\u001b[0m\u001b[0m\n\u001b[0;32m-> 3893\u001b[0;31m             \u001b[0mindexer\u001b[0m \u001b[0;34m=\u001b[0m \u001b[0mself\u001b[0m\u001b[0;34m.\u001b[0m\u001b[0mcolumns\u001b[0m\u001b[0;34m.\u001b[0m\u001b[0mget_loc\u001b[0m\u001b[0;34m(\u001b[0m\u001b[0mkey\u001b[0m\u001b[0;34m)\u001b[0m\u001b[0;34m\u001b[0m\u001b[0;34m\u001b[0m\u001b[0m\n\u001b[0m\u001b[1;32m   3894\u001b[0m             \u001b[0;32mif\u001b[0m \u001b[0mis_integer\u001b[0m\u001b[0;34m(\u001b[0m\u001b[0mindexer\u001b[0m\u001b[0;34m)\u001b[0m\u001b[0;34m:\u001b[0m\u001b[0;34m\u001b[0m\u001b[0;34m\u001b[0m\u001b[0m\n\u001b[1;32m   3895\u001b[0m                 \u001b[0mindexer\u001b[0m \u001b[0;34m=\u001b[0m \u001b[0;34m[\u001b[0m\u001b[0mindexer\u001b[0m\u001b[0;34m]\u001b[0m\u001b[0;34m\u001b[0m\u001b[0;34m\u001b[0m\u001b[0m\n",
            "\u001b[0;32m/usr/local/lib/python3.10/dist-packages/pandas/core/indexes/base.py\u001b[0m in \u001b[0;36mget_loc\u001b[0;34m(self, key)\u001b[0m\n\u001b[1;32m   3796\u001b[0m             ):\n\u001b[1;32m   3797\u001b[0m                 \u001b[0;32mraise\u001b[0m \u001b[0mInvalidIndexError\u001b[0m\u001b[0;34m(\u001b[0m\u001b[0mkey\u001b[0m\u001b[0;34m)\u001b[0m\u001b[0;34m\u001b[0m\u001b[0;34m\u001b[0m\u001b[0m\n\u001b[0;32m-> 3798\u001b[0;31m             \u001b[0;32mraise\u001b[0m \u001b[0mKeyError\u001b[0m\u001b[0;34m(\u001b[0m\u001b[0mkey\u001b[0m\u001b[0;34m)\u001b[0m \u001b[0;32mfrom\u001b[0m \u001b[0merr\u001b[0m\u001b[0;34m\u001b[0m\u001b[0;34m\u001b[0m\u001b[0m\n\u001b[0m\u001b[1;32m   3799\u001b[0m         \u001b[0;32mexcept\u001b[0m \u001b[0mTypeError\u001b[0m\u001b[0;34m:\u001b[0m\u001b[0;34m\u001b[0m\u001b[0;34m\u001b[0m\u001b[0m\n\u001b[1;32m   3800\u001b[0m             \u001b[0;31m# If we have a listlike key, _check_indexing_error will raise\u001b[0m\u001b[0;34m\u001b[0m\u001b[0;34m\u001b[0m\u001b[0m\n",
            "\u001b[0;31mKeyError\u001b[0m: '...'"
          ]
        }
      ]
    },
    {
      "cell_type": "markdown",
      "source": [
        "**1b)** In Project 0 we constructed a frequency bar graph. Today we will construct a relative frequency bar graph of the variable CATEGORY."
      ],
      "metadata": {
        "id": "lnautzDMUe-k"
      }
    },
    {
      "cell_type": "code",
      "source": [
        "# The argument in (...) tells the system which table to use to make the\n",
        "#      bar graph. Since we want a relative freqency bar chart, which is the\n",
        "#      correct label to replace ... in this code?\n",
        "dfrf = pd.DataFrame(...) # Replace (...) the name of the rel. freq. table\n",
        "\n",
        "# Create the bar graph.\n",
        "fig = px.bar(x=dfrf.index,y=dfrf['Relative Frequency'],\n",
        "             title='...')                   # Main title\n",
        "fig.update_layout(xaxis_title=\"...\")        # xaxis_title\n",
        "fig.update_layout(yaxis_title=\"...\")        # yaxis_title=...\n",
        "fig.show() # Notice that the categories are still in the order specified previously."
      ],
      "metadata": {
        "id": "ackWX-GcX4a9"
      },
      "execution_count": null,
      "outputs": []
    },
    {
      "cell_type": "markdown",
      "source": [
        "**1c)** Notable Fact:\n",
        "\n",
        "..."
      ],
      "metadata": {
        "id": "GRWHYZT_Wtzp"
      }
    },
    {
      "cell_type": "markdown",
      "source": [
        "**1d)** We want to compare blood pressure category for the two genders. Why should be use **relative** frequency counts instead of frequency counts to construct the side-by-side bar chart?\n",
        "\n",
        "..."
      ],
      "metadata": {
        "id": "aL4J9QL7W5Qx"
      }
    },
    {
      "cell_type": "markdown",
      "source": [
        "**1e)** Construct a relative frequency distribution table to compare blood pressure categories for each gender."
      ],
      "metadata": {
        "id": "9e-ge4a5XQBr"
      }
    },
    {
      "cell_type": "code",
      "source": [
        "# Create a two-way table (cross tabulation) of frequency counts of the variables\n",
        "#  gender and category\n",
        "# The first variable listed is the row (left) variable (CATEGORY)\n",
        "# The second variable listed is the column (top) variable (GENDER)\n",
        "# Replace the variables names with the correct names from the data set.\n",
        "crosstab = pd.crosstab(df['...'], df['...'], margins = True)\n",
        "\n",
        "# Reorder the CATEGORY categories and add the column totals\n",
        "crosstab = crosstab.reindex(index=CatOrder+['All'])\n",
        "\n",
        "# print the frequency table. \\n adds a line break (return)\n",
        "print(\"Frequency:\\n\\n\", crosstab, \"\\n\\n\") #Print frequency table. Notice that\n",
        "                                      #row totals match the table in (1a) above.\n",
        "\n",
        "# Create a relative frequency two-way table.\n",
        "# axis = 0 refers to rows, axis = 1 refers to columns\n",
        "# cross_tab.div(..., axis = 1) divides each cell of the table by its\n",
        "#  column total, which is the blood pressure category total.\n",
        "rel_freq_crosstab = crosstab.div(crosstab.loc['All'], axis = 1)\n",
        "\n",
        "# Number of decimal places to round to\n",
        "rel_freq_crosstab = rel_freq_crosstab.round(3)\n",
        "\n",
        "# Put the Category variable categories in the order specified previously.\n",
        "rel_freq_crosstab = rel_freq_crosstab.reindex(index=CatOrder)\n",
        "\n",
        "# Print the table\n",
        "print(\"Relative Frequency for each Gender:\\n\")\n",
        "... # What would you replace ... with to print the relative frequency table?"
      ],
      "metadata": {
        "id": "QNfTO6gonz8K"
      },
      "execution_count": null,
      "outputs": []
    },
    {
      "cell_type": "markdown",
      "source": [
        "**1f)** Construct a side-by-side bar chart to compare blood pressure categories for each gender."
      ],
      "metadata": {
        "id": "tUcimS23lgkc"
      }
    },
    {
      "cell_type": "code",
      "source": [
        "# Adjusts the format of the table as required by Plotly.Express for graphing\n",
        "rel_freq_crosstab_long = rel_freq_crosstab.reset_index().melt(\n",
        "                         id_vars='CATEGORY',\n",
        "                         var_name='GENDER (1=M)',\n",
        "                         value_name='Count')\n",
        "\n",
        "# Filter out the 'All' row and column\n",
        "rel_freq_crosstab_long = rel_freq_crosstab_long[\n",
        "    (rel_freq_crosstab_long['CATEGORY'] != 'All') &\n",
        "    (rel_freq_crosstab_long['GENDER (1=M)'] != 'All')]\n",
        "\n",
        "# Create a side-by-side bar chart\n",
        "# barmode ensures gender bars are grouped by blood pressure category\n",
        "fig = px.bar(rel_freq_crosstab_long,\n",
        "             x='CATEGORY',     # places categories on horizontal axis\n",
        "             y='Count',        # places Relative Frequency on vertical axis\n",
        "             color='GENDER (1=M)',\n",
        "             barmode='group',\n",
        "             title='Relative Frequency of Blood Pressure Categories by Gender',\n",
        "             labels={'Count': 'Relative Frequency',\n",
        "                     'CATEGORY': 'Blood Pressure Category',\n",
        "                     'GENDER (1=M)': 'Gender (1 = Male)'})\n",
        "\n",
        "# Show the bar graph\n",
        "fig.show()"
      ],
      "metadata": {
        "id": "syxICFuZlf6H"
      },
      "execution_count": null,
      "outputs": []
    },
    {
      "cell_type": "markdown",
      "source": [
        "**1g)** Describe the relationship between blood pressure and gender. Be sure to use words that indicate you are referencing relative frequency, not frequency.\n",
        "\n",
        "..."
      ],
      "metadata": {
        "id": "EMU-PhUdw4XK"
      }
    },
    {
      "cell_type": "markdown",
      "source": [
        "# Keep this for your reference for Project 1. There is nothing to turn in after this tutorial.\n",
        "\n",
        "# As soon as the data sets and Project 1 instructions are posted to Canvas, you can choose a data set and begin working on Project 1."
      ],
      "metadata": {
        "id": "X6e2ZZI8xakl"
      }
    }
  ]
}