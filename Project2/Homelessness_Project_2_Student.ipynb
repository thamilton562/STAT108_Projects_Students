{
  "nbformat": 4,
  "nbformat_minor": 0,
  "metadata": {
    "colab": {
      "provenance": []
    },
    "kernelspec": {
      "name": "python3",
      "display_name": "Python 3"
    },
    "language_info": {
      "name": "python"
    }
  },
  "cells": [
    {
      "cell_type": "markdown",
      "metadata": {
        "id": "8t9m29KtoK2q"
      },
      "source": [
        "# **Homelessness - Project 2**\n",
        "### Analyzing the linear relationship between two quantitative variables."
      ]
    },
    {
      "cell_type": "markdown",
      "metadata": {
        "id": "y3rfDZf7oK21"
      },
      "source": [
        "# **Importing Necessary Python Modules**\n",
        "\n",
        "Python incorporates a variety of open source add-ins called **modules** that add extra features to the basic setup. The name of the modules is after the `import` statement, and the purpose is in a non-code comment after thew hashtag (#).\n",
        "\n"
      ]
    },
    {
      "cell_type": "code",
      "execution_count": null,
      "metadata": {
        "id": "C6AjYFB6oK21"
      },
      "outputs": [],
      "source": [
        "import pandas as pd\n",
        "import numpy as np\n",
        "import plotly.express as px\n",
        "from IPython.display import Image\n",
        "import statsmodels.api as sm\n"
      ]
    },
    {
      "cell_type": "code",
      "execution_count": null,
      "metadata": {
        "colab": {
          "base_uri": "https://localhost:8080/",
          "height": 336
        },
        "outputId": "e7e34251-9534-4a90-b52b-9497609446cd",
        "id": "x8eG3KAloDkL"
      },
      "outputs": [
        {
          "output_type": "execute_result",
          "data": {
            "text/html": [
              "<img src=\"https://endhomelessness.org/wp-content/uploads/2019/03/homelessness-statistics.jpg\" width=\"600\"/>"
            ],
            "text/plain": [
              "<IPython.core.display.Image object>"
            ]
          },
          "metadata": {},
          "execution_count": 2
        }
      ],
      "source": [
        "# Replace 'image_url' with the URL of the image you want to display\n",
        "image_url = 'https://endhomelessness.org/wp-content/uploads/2019/03/homelessness-statistics.jpg'\n",
        "\n",
        "# Display the image\n",
        "Image(url=image_url, width = 600)"
      ]
    },
    {
      "cell_type": "markdown",
      "metadata": {
        "id": "IzheJhAUoDkM"
      },
      "source": [
        "# **Context**\n",
        "\n",
        "The Continuum of Care (CoC) Program is designed to promote communitywide commitment to the goal of ending homelessness; provide funding for efforts by nonprofit providers, and State and local governments to quickly rehouse homeless individuals and families while minimizing the trauma and dislocation caused to homeless individuals, families, and communities by homelessness; promote access to and effect utilization of mainstream programs by homeless individuals and families; and optimize self-sufficiency among individuals and families experiencing homelessness. For more information on the Program, please visit https://www.hudexchange.info/programs/coc/\n",
        "\n",
        "The U.S. Department of Housing and Urban Development (HUD) provides Point-in-Time (PIT) count reports of sheltered and unsheltered persons experiencing homelessness, by household type and subpopulation. This data is available at the national and state level, and for each CoC. HUD also provides Housing Inventory Count (HIC) reports, which provide a snapshot of a CoC’s inventory of beds and units available on the night designated for the count by program type, and include beds dedicated to serve persons who are homeless as well as persons in Permanent Supportive Housing. This raw data set contains PIT estimates of homelessness, and the corresponding accompanying HIC data from 2021.\n",
        "\n",
        "Attribution: Adapted from U.S. Department of Housing and Urban Development\n"
      ]
    },
    {
      "cell_type": "markdown",
      "metadata": {
        "id": "kKarTZ9boDkN"
      },
      "source": [
        "# **About the Dataset**\n",
        "\n",
        "This dataset contains 100 rows corresponding to a random sample of localities (typically counties or similar large regions) that received Continuum of Care funding from HUD. A total of 21 variables are provided as listed in the table below."
      ]
    },
    {
      "cell_type": "markdown",
      "metadata": {
        "id": "uVZZLV3EoDkN"
      },
      "source": [
        "| Variable Name(s)         | Description |\n",
        "|:-------------------------|:--- |\n",
        "| CoC Number<br>CoC Name | CoC locality identifier |\n",
        "| CoC Category             | Community setting designation: Rural, Urban, etc |\n",
        "| Type of Count            | Description of whether fully or partially sheltered individuals (or both) are included |\n",
        "| Overall Homeless, 2021   | Total homeless count in all facilities indicated by the “Type of Count” variable |\n",
        "| HMIS Participation Rate for Year-Round Beds (ES,TH,SH) | Proportion of facilities in the locality that participate in the Homeless Management Information System (HMIS) |\n",
        "| Total Year-Round Beds (ES, TH, SH)<br>Total Year-Round Beds (ES)<br>Total Year-Round Beds (TH)<br>Total Year-Round Beds (SH) | (all types combined)<br>ES = Emergency Shelter<br>TH = Transitional Housing<br>SH = Safe Haven |\n",
        "| Total Units for Households with Children (ES, TH, SH)<br>Total Beds for Households with Children (ES, TH, SH) | Number of units and beds designated for households with children |\n",
        "| Sheltered ES Homeless 2021 | Estimate of the number of individuals sheltered in an Emergency Facility at the time of the study |\n",
        "| Sheltered ES Homeless - Age 18 to 24, 2021 | Estimate of the number of individuals sheltered in an Emergency Facility by age |\n",
        "| Sheltered ES Homeless - Female, 2021<br>Sheltered ES Homeless - Male, 2021<br>Sheltered ES Homeless - Trans+, 2021 | Estimate of the number of individuals sheltered in an Emergency Facility by gender |\n",
        "| Sheltered ES Homeless - Hispanic/Latino, 2021<br>Sheltered ES Homeless - White, 2021<br>Sheltered ES Homeless - Black or African American, 2021<br>Sheltered ES Homeless - Asian or Pacific Islander<br>Sheltered ES Homeless - American Indian or Alaska Native, 2021<br>Sheltered ES Homeless - Multiple Races, 2021 | Estimate of the number of individuals sheltered in an Emergency Facility by race/ethnicity |\n",
        "\n"
      ]
    },
    {
      "cell_type": "markdown",
      "metadata": {
        "id": "2La43aJ7oDkN"
      },
      "source": [
        "Let's take a look at the data. To do this, first we import it directly from the url below.\n",
        "\n"
      ]
    },
    {
      "cell_type": "markdown",
      "metadata": {
        "id": "QjHxSJDsoDkN"
      },
      "source": [
        "# **A Snippet of the Data**"
      ]
    },
    {
      "cell_type": "code",
      "execution_count": null,
      "metadata": {
        "id": "IdmZLxbroDkN"
      },
      "outputs": [],
      "source": [
        "# Assigns the URL where the data file is stored to 'file_path'.\n",
        "url='https://raw.githubusercontent.com/thamilton562/STAT108_Projects_Students/main/DataSets/Homelessness.csv'\n",
        "\n",
        "# Reads in the CSV data file and assigns it to the DataFrame 'df'.\n",
        "df=pd.read_csv(url)"
      ]
    },
    {
      "cell_type": "markdown",
      "metadata": {
        "id": "YYfjOebGoDkN"
      },
      "source": [
        "Next, we can display the data by *typing the name* of the DataFrame. To ensure we can see all columns, we'll use the *pd.set_option* method."
      ]
    },
    {
      "cell_type": "code",
      "execution_count": null,
      "metadata": {
        "colab": {
          "base_uri": "https://localhost:8080/",
          "height": 878
        },
        "outputId": "e145c630-9ff2-4338-dd1f-0e24617b32fb",
        "id": "INm8ZLJooDkO"
      },
      "outputs": [
        {
          "output_type": "execute_result",
          "data": {
            "text/plain": [
              "   CoC Number                                           CoC Name  \\\n",
              "0      LA-505                     Monroe/Northeast Louisiana CoC   \n",
              "1      MN-502                  Rochester/Southeast Minnesota CoC   \n",
              "2      PA-508                     Scranton/Lackawanna County CoC   \n",
              "3      OK-503                      Oklahoma Balance of State CoC   \n",
              "4      OH-504                     Youngstown/Mahoning County CoC   \n",
              "..        ...                                                ...   \n",
              "95     KS-507                        Kansas Balance of State CoC   \n",
              "96     CA-507                                   Marin County CoC   \n",
              "97     TN-512  Morristown/Blount, Sevier, Campbell, Cocke Cou...   \n",
              "98     MA-515                                     Fall River CoC   \n",
              "99     CA-526  Amador, Calaveras, Mariposa, Tuolumne Counties...   \n",
              "\n",
              "               CoC Category                   Type of Count  \\\n",
              "0         Largely Rural CoC            Sheltered-Only Count   \n",
              "1         Largely Rural CoC            Sheltered-Only Count   \n",
              "2      Largely Suburban CoC  Sheltered and full unsheltered   \n",
              "3         Largely Rural CoC            Sheltered-Only Count   \n",
              "4   Other Largely Urban CoC            Sheltered-Only Count   \n",
              "..                      ...                             ...   \n",
              "95        Largely Rural CoC            Sheltered-Only Count   \n",
              "96     Largely Suburban CoC            Sheltered-Only Count   \n",
              "97        Largely Rural CoC  Sheltered and full unsheltered   \n",
              "98     Largely Suburban CoC  Sheltered and full unsheltered   \n",
              "99        Largely Rural CoC            Sheltered-Only Count   \n",
              "\n",
              "    Overall Homeless, 2021  \\\n",
              "0                       78   \n",
              "1                      419   \n",
              "2                      165   \n",
              "3                      125   \n",
              "4                       62   \n",
              "..                     ...   \n",
              "95                     783   \n",
              "96                     225   \n",
              "97                     472   \n",
              "98                     324   \n",
              "99                     151   \n",
              "\n",
              "    HMIS Participation Rate for Year-Round Beds (ES, TH, SH)  \\\n",
              "0                                               0.233          \n",
              "1                                               0.604          \n",
              "2                                               0.839          \n",
              "3                                               0.295          \n",
              "4                                               0.192          \n",
              "..                                                ...          \n",
              "95                                              0.162          \n",
              "96                                              0.727          \n",
              "97                                              0.316          \n",
              "98                                              0.877          \n",
              "99                                              0.598          \n",
              "\n",
              "    Total Year-Round Beds (ES, TH, SH)  Total Year-Round Beds (ES)  \\\n",
              "0                                  133                          69   \n",
              "1                                  599                         378   \n",
              "2                                  155                          64   \n",
              "3                                  149                         135   \n",
              "4                                  198                         187   \n",
              "..                                 ...                         ...   \n",
              "95                                1170                         703   \n",
              "96                                 293                         163   \n",
              "97                                 133                         117   \n",
              "98                                 236                         212   \n",
              "99                                 214                         156   \n",
              "\n",
              "    Total Year-Round Beds (TH)  Total Year-Round Beds (SH)  \\\n",
              "0                           64                           0   \n",
              "1                          221                           0   \n",
              "2                           80                          11   \n",
              "3                           14                           0   \n",
              "4                           11                           0   \n",
              "..                         ...                         ...   \n",
              "95                         452                          15   \n",
              "96                         130                           0   \n",
              "97                          16                           0   \n",
              "98                          24                           0   \n",
              "99                          58                           0   \n",
              "\n",
              "    Total Units for Households with Children (ES, TH, SH)  \\\n",
              "0                                                  18       \n",
              "1                                                 114       \n",
              "2                                                  25       \n",
              "3                                                   5       \n",
              "4                                                  39       \n",
              "..                                                ...       \n",
              "95                                                170       \n",
              "96                                                 46       \n",
              "97                                                 28       \n",
              "98                                                 67       \n",
              "99                                                 39       \n",
              "\n",
              "    Total Beds for Households with Children (ES, TH, SH)  \\\n",
              "0                                                  52      \n",
              "1                                                 372      \n",
              "2                                                  71      \n",
              "3                                                  34      \n",
              "4                                                 115      \n",
              "..                                                ...      \n",
              "95                                                572      \n",
              "96                                                142      \n",
              "97                                                 65      \n",
              "98                                                215      \n",
              "99                                                135      \n",
              "\n",
              "    Sheltered ES Homeless, 2021  Sheltered ES Homeless - Age 18 to 24, 2021  \\\n",
              "0                            40                                           4   \n",
              "1                           261                                          18   \n",
              "2                            81                                           5   \n",
              "3                           125                                          24   \n",
              "4                            56                                           6   \n",
              "..                          ...                                         ...   \n",
              "95                          430                                          41   \n",
              "96                          105                                           6   \n",
              "97                          104                                           5   \n",
              "98                          223                                          15   \n",
              "99                          119                                           2   \n",
              "\n",
              "    Sheltered ES Homeless - Female, 2021  Sheltered ES Homeless - Male, 2021  \\\n",
              "0                                     21                                  19   \n",
              "1                                    110                                 150   \n",
              "2                                     34                                  46   \n",
              "3                                     49                                  75   \n",
              "4                                     41                                  13   \n",
              "..                                   ...                                 ...   \n",
              "95                                   153                                 276   \n",
              "96                                    41                                  63   \n",
              "97                                    61                                  43   \n",
              "98                                   122                                 101   \n",
              "99                                    66                                  52   \n",
              "\n",
              "    Sheltered ES Homeless - Trans+, 2021  \\\n",
              "0                                      0   \n",
              "1                                      1   \n",
              "2                                      1   \n",
              "3                                      1   \n",
              "4                                      2   \n",
              "..                                   ...   \n",
              "95                                     1   \n",
              "96                                     1   \n",
              "97                                     0   \n",
              "98                                     0   \n",
              "99                                     1   \n",
              "\n",
              "    Sheltered ES Homeless - Hispanic/Latino, 2021  \\\n",
              "0                                               0   \n",
              "1                                              42   \n",
              "2                                               7   \n",
              "3                                              52   \n",
              "4                                              21   \n",
              "..                                            ...   \n",
              "95                                             48   \n",
              "96                                             28   \n",
              "97                                              5   \n",
              "98                                             72   \n",
              "99                                             21   \n",
              "\n",
              "    Sheltered ES Homeless - White, 2021  \\\n",
              "0                                    17   \n",
              "1                                   186   \n",
              "2                                    61   \n",
              "3                                    88   \n",
              "4                                    25   \n",
              "..                                  ...   \n",
              "95                                  307   \n",
              "96                                   83   \n",
              "97                                   99   \n",
              "98                                  135   \n",
              "99                                  100   \n",
              "\n",
              "    Sheltered ES Homeless - Black or African American, 2021  \\\n",
              "0                                                  19         \n",
              "1                                                  51         \n",
              "2                                                  17         \n",
              "3                                                  25         \n",
              "4                                                  19         \n",
              "..                                                ...         \n",
              "95                                                 60         \n",
              "96                                                 16         \n",
              "97                                                  1         \n",
              "98                                                 80         \n",
              "99                                                  2         \n",
              "\n",
              "    Sheltered ES Homeless - Asian or Pacific Islander  \\\n",
              "0                                                   0   \n",
              "1                                                   9   \n",
              "2                                                   2   \n",
              "3                                                   1   \n",
              "4                                                   1   \n",
              "..                                                ...   \n",
              "95                                                  7   \n",
              "96                                                  1   \n",
              "97                                                  1   \n",
              "98                                                  1   \n",
              "99                                                  1   \n",
              "\n",
              "    Sheltered ES Homeless - American Indian or Alaska Native, 2021  \\\n",
              "0                                                   4                \n",
              "1                                                   3                \n",
              "2                                                   0                \n",
              "3                                                   8                \n",
              "4                                                   0                \n",
              "..                                                ...                \n",
              "95                                                 23                \n",
              "96                                                  1                \n",
              "97                                                  1                \n",
              "98                                                  2                \n",
              "99                                                  5                \n",
              "\n",
              "    Sheltered ES Homeless - Multiple Races, 2021  \n",
              "0                                              0  \n",
              "1                                             12  \n",
              "2                                              1  \n",
              "3                                              3  \n",
              "4                                             11  \n",
              "..                                           ...  \n",
              "95                                            33  \n",
              "96                                             4  \n",
              "97                                             2  \n",
              "98                                             5  \n",
              "99                                            11  \n",
              "\n",
              "[100 rows x 23 columns]"
            ],
            "text/html": [
              "\n",
              "  <div id=\"df-3f6cd5a9-5aa8-4eed-9bf1-1fb0c7d086a4\" class=\"colab-df-container\">\n",
              "    <div>\n",
              "<style scoped>\n",
              "    .dataframe tbody tr th:only-of-type {\n",
              "        vertical-align: middle;\n",
              "    }\n",
              "\n",
              "    .dataframe tbody tr th {\n",
              "        vertical-align: top;\n",
              "    }\n",
              "\n",
              "    .dataframe thead th {\n",
              "        text-align: right;\n",
              "    }\n",
              "</style>\n",
              "<table border=\"1\" class=\"dataframe\">\n",
              "  <thead>\n",
              "    <tr style=\"text-align: right;\">\n",
              "      <th></th>\n",
              "      <th>CoC Number</th>\n",
              "      <th>CoC Name</th>\n",
              "      <th>CoC Category</th>\n",
              "      <th>Type of Count</th>\n",
              "      <th>Overall Homeless, 2021</th>\n",
              "      <th>HMIS Participation Rate for Year-Round Beds (ES, TH, SH)</th>\n",
              "      <th>Total Year-Round Beds (ES, TH, SH)</th>\n",
              "      <th>Total Year-Round Beds (ES)</th>\n",
              "      <th>Total Year-Round Beds (TH)</th>\n",
              "      <th>Total Year-Round Beds (SH)</th>\n",
              "      <th>Total Units for Households with Children (ES, TH, SH)</th>\n",
              "      <th>Total Beds for Households with Children (ES, TH, SH)</th>\n",
              "      <th>Sheltered ES Homeless, 2021</th>\n",
              "      <th>Sheltered ES Homeless - Age 18 to 24, 2021</th>\n",
              "      <th>Sheltered ES Homeless - Female, 2021</th>\n",
              "      <th>Sheltered ES Homeless - Male, 2021</th>\n",
              "      <th>Sheltered ES Homeless - Trans+, 2021</th>\n",
              "      <th>Sheltered ES Homeless - Hispanic/Latino, 2021</th>\n",
              "      <th>Sheltered ES Homeless - White, 2021</th>\n",
              "      <th>Sheltered ES Homeless - Black or African American, 2021</th>\n",
              "      <th>Sheltered ES Homeless - Asian or Pacific Islander</th>\n",
              "      <th>Sheltered ES Homeless - American Indian or Alaska Native, 2021</th>\n",
              "      <th>Sheltered ES Homeless - Multiple Races, 2021</th>\n",
              "    </tr>\n",
              "  </thead>\n",
              "  <tbody>\n",
              "    <tr>\n",
              "      <th>0</th>\n",
              "      <td>LA-505</td>\n",
              "      <td>Monroe/Northeast Louisiana CoC</td>\n",
              "      <td>Largely Rural CoC</td>\n",
              "      <td>Sheltered-Only Count</td>\n",
              "      <td>78</td>\n",
              "      <td>0.233</td>\n",
              "      <td>133</td>\n",
              "      <td>69</td>\n",
              "      <td>64</td>\n",
              "      <td>0</td>\n",
              "      <td>18</td>\n",
              "      <td>52</td>\n",
              "      <td>40</td>\n",
              "      <td>4</td>\n",
              "      <td>21</td>\n",
              "      <td>19</td>\n",
              "      <td>0</td>\n",
              "      <td>0</td>\n",
              "      <td>17</td>\n",
              "      <td>19</td>\n",
              "      <td>0</td>\n",
              "      <td>4</td>\n",
              "      <td>0</td>\n",
              "    </tr>\n",
              "    <tr>\n",
              "      <th>1</th>\n",
              "      <td>MN-502</td>\n",
              "      <td>Rochester/Southeast Minnesota CoC</td>\n",
              "      <td>Largely Rural CoC</td>\n",
              "      <td>Sheltered-Only Count</td>\n",
              "      <td>419</td>\n",
              "      <td>0.604</td>\n",
              "      <td>599</td>\n",
              "      <td>378</td>\n",
              "      <td>221</td>\n",
              "      <td>0</td>\n",
              "      <td>114</td>\n",
              "      <td>372</td>\n",
              "      <td>261</td>\n",
              "      <td>18</td>\n",
              "      <td>110</td>\n",
              "      <td>150</td>\n",
              "      <td>1</td>\n",
              "      <td>42</td>\n",
              "      <td>186</td>\n",
              "      <td>51</td>\n",
              "      <td>9</td>\n",
              "      <td>3</td>\n",
              "      <td>12</td>\n",
              "    </tr>\n",
              "    <tr>\n",
              "      <th>2</th>\n",
              "      <td>PA-508</td>\n",
              "      <td>Scranton/Lackawanna County CoC</td>\n",
              "      <td>Largely Suburban CoC</td>\n",
              "      <td>Sheltered and full unsheltered</td>\n",
              "      <td>165</td>\n",
              "      <td>0.839</td>\n",
              "      <td>155</td>\n",
              "      <td>64</td>\n",
              "      <td>80</td>\n",
              "      <td>11</td>\n",
              "      <td>25</td>\n",
              "      <td>71</td>\n",
              "      <td>81</td>\n",
              "      <td>5</td>\n",
              "      <td>34</td>\n",
              "      <td>46</td>\n",
              "      <td>1</td>\n",
              "      <td>7</td>\n",
              "      <td>61</td>\n",
              "      <td>17</td>\n",
              "      <td>2</td>\n",
              "      <td>0</td>\n",
              "      <td>1</td>\n",
              "    </tr>\n",
              "    <tr>\n",
              "      <th>3</th>\n",
              "      <td>OK-503</td>\n",
              "      <td>Oklahoma Balance of State CoC</td>\n",
              "      <td>Largely Rural CoC</td>\n",
              "      <td>Sheltered-Only Count</td>\n",
              "      <td>125</td>\n",
              "      <td>0.295</td>\n",
              "      <td>149</td>\n",
              "      <td>135</td>\n",
              "      <td>14</td>\n",
              "      <td>0</td>\n",
              "      <td>5</td>\n",
              "      <td>34</td>\n",
              "      <td>125</td>\n",
              "      <td>24</td>\n",
              "      <td>49</td>\n",
              "      <td>75</td>\n",
              "      <td>1</td>\n",
              "      <td>52</td>\n",
              "      <td>88</td>\n",
              "      <td>25</td>\n",
              "      <td>1</td>\n",
              "      <td>8</td>\n",
              "      <td>3</td>\n",
              "    </tr>\n",
              "    <tr>\n",
              "      <th>4</th>\n",
              "      <td>OH-504</td>\n",
              "      <td>Youngstown/Mahoning County CoC</td>\n",
              "      <td>Other Largely Urban CoC</td>\n",
              "      <td>Sheltered-Only Count</td>\n",
              "      <td>62</td>\n",
              "      <td>0.192</td>\n",
              "      <td>198</td>\n",
              "      <td>187</td>\n",
              "      <td>11</td>\n",
              "      <td>0</td>\n",
              "      <td>39</td>\n",
              "      <td>115</td>\n",
              "      <td>56</td>\n",
              "      <td>6</td>\n",
              "      <td>41</td>\n",
              "      <td>13</td>\n",
              "      <td>2</td>\n",
              "      <td>21</td>\n",
              "      <td>25</td>\n",
              "      <td>19</td>\n",
              "      <td>1</td>\n",
              "      <td>0</td>\n",
              "      <td>11</td>\n",
              "    </tr>\n",
              "    <tr>\n",
              "      <th>...</th>\n",
              "      <td>...</td>\n",
              "      <td>...</td>\n",
              "      <td>...</td>\n",
              "      <td>...</td>\n",
              "      <td>...</td>\n",
              "      <td>...</td>\n",
              "      <td>...</td>\n",
              "      <td>...</td>\n",
              "      <td>...</td>\n",
              "      <td>...</td>\n",
              "      <td>...</td>\n",
              "      <td>...</td>\n",
              "      <td>...</td>\n",
              "      <td>...</td>\n",
              "      <td>...</td>\n",
              "      <td>...</td>\n",
              "      <td>...</td>\n",
              "      <td>...</td>\n",
              "      <td>...</td>\n",
              "      <td>...</td>\n",
              "      <td>...</td>\n",
              "      <td>...</td>\n",
              "      <td>...</td>\n",
              "    </tr>\n",
              "    <tr>\n",
              "      <th>95</th>\n",
              "      <td>KS-507</td>\n",
              "      <td>Kansas Balance of State CoC</td>\n",
              "      <td>Largely Rural CoC</td>\n",
              "      <td>Sheltered-Only Count</td>\n",
              "      <td>783</td>\n",
              "      <td>0.162</td>\n",
              "      <td>1170</td>\n",
              "      <td>703</td>\n",
              "      <td>452</td>\n",
              "      <td>15</td>\n",
              "      <td>170</td>\n",
              "      <td>572</td>\n",
              "      <td>430</td>\n",
              "      <td>41</td>\n",
              "      <td>153</td>\n",
              "      <td>276</td>\n",
              "      <td>1</td>\n",
              "      <td>48</td>\n",
              "      <td>307</td>\n",
              "      <td>60</td>\n",
              "      <td>7</td>\n",
              "      <td>23</td>\n",
              "      <td>33</td>\n",
              "    </tr>\n",
              "    <tr>\n",
              "      <th>96</th>\n",
              "      <td>CA-507</td>\n",
              "      <td>Marin County CoC</td>\n",
              "      <td>Largely Suburban CoC</td>\n",
              "      <td>Sheltered-Only Count</td>\n",
              "      <td>225</td>\n",
              "      <td>0.727</td>\n",
              "      <td>293</td>\n",
              "      <td>163</td>\n",
              "      <td>130</td>\n",
              "      <td>0</td>\n",
              "      <td>46</td>\n",
              "      <td>142</td>\n",
              "      <td>105</td>\n",
              "      <td>6</td>\n",
              "      <td>41</td>\n",
              "      <td>63</td>\n",
              "      <td>1</td>\n",
              "      <td>28</td>\n",
              "      <td>83</td>\n",
              "      <td>16</td>\n",
              "      <td>1</td>\n",
              "      <td>1</td>\n",
              "      <td>4</td>\n",
              "    </tr>\n",
              "    <tr>\n",
              "      <th>97</th>\n",
              "      <td>TN-512</td>\n",
              "      <td>Morristown/Blount, Sevier, Campbell, Cocke Cou...</td>\n",
              "      <td>Largely Rural CoC</td>\n",
              "      <td>Sheltered and full unsheltered</td>\n",
              "      <td>472</td>\n",
              "      <td>0.316</td>\n",
              "      <td>133</td>\n",
              "      <td>117</td>\n",
              "      <td>16</td>\n",
              "      <td>0</td>\n",
              "      <td>28</td>\n",
              "      <td>65</td>\n",
              "      <td>104</td>\n",
              "      <td>5</td>\n",
              "      <td>61</td>\n",
              "      <td>43</td>\n",
              "      <td>0</td>\n",
              "      <td>5</td>\n",
              "      <td>99</td>\n",
              "      <td>1</td>\n",
              "      <td>1</td>\n",
              "      <td>1</td>\n",
              "      <td>2</td>\n",
              "    </tr>\n",
              "    <tr>\n",
              "      <th>98</th>\n",
              "      <td>MA-515</td>\n",
              "      <td>Fall River CoC</td>\n",
              "      <td>Largely Suburban CoC</td>\n",
              "      <td>Sheltered and full unsheltered</td>\n",
              "      <td>324</td>\n",
              "      <td>0.877</td>\n",
              "      <td>236</td>\n",
              "      <td>212</td>\n",
              "      <td>24</td>\n",
              "      <td>0</td>\n",
              "      <td>67</td>\n",
              "      <td>215</td>\n",
              "      <td>223</td>\n",
              "      <td>15</td>\n",
              "      <td>122</td>\n",
              "      <td>101</td>\n",
              "      <td>0</td>\n",
              "      <td>72</td>\n",
              "      <td>135</td>\n",
              "      <td>80</td>\n",
              "      <td>1</td>\n",
              "      <td>2</td>\n",
              "      <td>5</td>\n",
              "    </tr>\n",
              "    <tr>\n",
              "      <th>99</th>\n",
              "      <td>CA-526</td>\n",
              "      <td>Amador, Calaveras, Mariposa, Tuolumne Counties...</td>\n",
              "      <td>Largely Rural CoC</td>\n",
              "      <td>Sheltered-Only Count</td>\n",
              "      <td>151</td>\n",
              "      <td>0.598</td>\n",
              "      <td>214</td>\n",
              "      <td>156</td>\n",
              "      <td>58</td>\n",
              "      <td>0</td>\n",
              "      <td>39</td>\n",
              "      <td>135</td>\n",
              "      <td>119</td>\n",
              "      <td>2</td>\n",
              "      <td>66</td>\n",
              "      <td>52</td>\n",
              "      <td>1</td>\n",
              "      <td>21</td>\n",
              "      <td>100</td>\n",
              "      <td>2</td>\n",
              "      <td>1</td>\n",
              "      <td>5</td>\n",
              "      <td>11</td>\n",
              "    </tr>\n",
              "  </tbody>\n",
              "</table>\n",
              "<p>100 rows × 23 columns</p>\n",
              "</div>\n",
              "    <div class=\"colab-df-buttons\">\n",
              "\n",
              "  <div class=\"colab-df-container\">\n",
              "    <button class=\"colab-df-convert\" onclick=\"convertToInteractive('df-3f6cd5a9-5aa8-4eed-9bf1-1fb0c7d086a4')\"\n",
              "            title=\"Convert this dataframe to an interactive table.\"\n",
              "            style=\"display:none;\">\n",
              "\n",
              "  <svg xmlns=\"http://www.w3.org/2000/svg\" height=\"24px\" viewBox=\"0 -960 960 960\">\n",
              "    <path d=\"M120-120v-720h720v720H120Zm60-500h600v-160H180v160Zm220 220h160v-160H400v160Zm0 220h160v-160H400v160ZM180-400h160v-160H180v160Zm440 0h160v-160H620v160ZM180-180h160v-160H180v160Zm440 0h160v-160H620v160Z\"/>\n",
              "  </svg>\n",
              "    </button>\n",
              "\n",
              "  <style>\n",
              "    .colab-df-container {\n",
              "      display:flex;\n",
              "      gap: 12px;\n",
              "    }\n",
              "\n",
              "    .colab-df-convert {\n",
              "      background-color: #E8F0FE;\n",
              "      border: none;\n",
              "      border-radius: 50%;\n",
              "      cursor: pointer;\n",
              "      display: none;\n",
              "      fill: #1967D2;\n",
              "      height: 32px;\n",
              "      padding: 0 0 0 0;\n",
              "      width: 32px;\n",
              "    }\n",
              "\n",
              "    .colab-df-convert:hover {\n",
              "      background-color: #E2EBFA;\n",
              "      box-shadow: 0px 1px 2px rgba(60, 64, 67, 0.3), 0px 1px 3px 1px rgba(60, 64, 67, 0.15);\n",
              "      fill: #174EA6;\n",
              "    }\n",
              "\n",
              "    .colab-df-buttons div {\n",
              "      margin-bottom: 4px;\n",
              "    }\n",
              "\n",
              "    [theme=dark] .colab-df-convert {\n",
              "      background-color: #3B4455;\n",
              "      fill: #D2E3FC;\n",
              "    }\n",
              "\n",
              "    [theme=dark] .colab-df-convert:hover {\n",
              "      background-color: #434B5C;\n",
              "      box-shadow: 0px 1px 3px 1px rgba(0, 0, 0, 0.15);\n",
              "      filter: drop-shadow(0px 1px 2px rgba(0, 0, 0, 0.3));\n",
              "      fill: #FFFFFF;\n",
              "    }\n",
              "  </style>\n",
              "\n",
              "    <script>\n",
              "      const buttonEl =\n",
              "        document.querySelector('#df-3f6cd5a9-5aa8-4eed-9bf1-1fb0c7d086a4 button.colab-df-convert');\n",
              "      buttonEl.style.display =\n",
              "        google.colab.kernel.accessAllowed ? 'block' : 'none';\n",
              "\n",
              "      async function convertToInteractive(key) {\n",
              "        const element = document.querySelector('#df-3f6cd5a9-5aa8-4eed-9bf1-1fb0c7d086a4');\n",
              "        const dataTable =\n",
              "          await google.colab.kernel.invokeFunction('convertToInteractive',\n",
              "                                                    [key], {});\n",
              "        if (!dataTable) return;\n",
              "\n",
              "        const docLinkHtml = 'Like what you see? Visit the ' +\n",
              "          '<a target=\"_blank\" href=https://colab.research.google.com/notebooks/data_table.ipynb>data table notebook</a>'\n",
              "          + ' to learn more about interactive tables.';\n",
              "        element.innerHTML = '';\n",
              "        dataTable['output_type'] = 'display_data';\n",
              "        await google.colab.output.renderOutput(dataTable, element);\n",
              "        const docLink = document.createElement('div');\n",
              "        docLink.innerHTML = docLinkHtml;\n",
              "        element.appendChild(docLink);\n",
              "      }\n",
              "    </script>\n",
              "  </div>\n",
              "\n",
              "\n",
              "<div id=\"df-664d8bf0-a251-4477-b066-2e812b19f36a\">\n",
              "  <button class=\"colab-df-quickchart\" onclick=\"quickchart('df-664d8bf0-a251-4477-b066-2e812b19f36a')\"\n",
              "            title=\"Suggest charts\"\n",
              "            style=\"display:none;\">\n",
              "\n",
              "<svg xmlns=\"http://www.w3.org/2000/svg\" height=\"24px\"viewBox=\"0 0 24 24\"\n",
              "     width=\"24px\">\n",
              "    <g>\n",
              "        <path d=\"M19 3H5c-1.1 0-2 .9-2 2v14c0 1.1.9 2 2 2h14c1.1 0 2-.9 2-2V5c0-1.1-.9-2-2-2zM9 17H7v-7h2v7zm4 0h-2V7h2v10zm4 0h-2v-4h2v4z\"/>\n",
              "    </g>\n",
              "</svg>\n",
              "  </button>\n",
              "\n",
              "<style>\n",
              "  .colab-df-quickchart {\n",
              "      --bg-color: #E8F0FE;\n",
              "      --fill-color: #1967D2;\n",
              "      --hover-bg-color: #E2EBFA;\n",
              "      --hover-fill-color: #174EA6;\n",
              "      --disabled-fill-color: #AAA;\n",
              "      --disabled-bg-color: #DDD;\n",
              "  }\n",
              "\n",
              "  [theme=dark] .colab-df-quickchart {\n",
              "      --bg-color: #3B4455;\n",
              "      --fill-color: #D2E3FC;\n",
              "      --hover-bg-color: #434B5C;\n",
              "      --hover-fill-color: #FFFFFF;\n",
              "      --disabled-bg-color: #3B4455;\n",
              "      --disabled-fill-color: #666;\n",
              "  }\n",
              "\n",
              "  .colab-df-quickchart {\n",
              "    background-color: var(--bg-color);\n",
              "    border: none;\n",
              "    border-radius: 50%;\n",
              "    cursor: pointer;\n",
              "    display: none;\n",
              "    fill: var(--fill-color);\n",
              "    height: 32px;\n",
              "    padding: 0;\n",
              "    width: 32px;\n",
              "  }\n",
              "\n",
              "  .colab-df-quickchart:hover {\n",
              "    background-color: var(--hover-bg-color);\n",
              "    box-shadow: 0 1px 2px rgba(60, 64, 67, 0.3), 0 1px 3px 1px rgba(60, 64, 67, 0.15);\n",
              "    fill: var(--button-hover-fill-color);\n",
              "  }\n",
              "\n",
              "  .colab-df-quickchart-complete:disabled,\n",
              "  .colab-df-quickchart-complete:disabled:hover {\n",
              "    background-color: var(--disabled-bg-color);\n",
              "    fill: var(--disabled-fill-color);\n",
              "    box-shadow: none;\n",
              "  }\n",
              "\n",
              "  .colab-df-spinner {\n",
              "    border: 2px solid var(--fill-color);\n",
              "    border-color: transparent;\n",
              "    border-bottom-color: var(--fill-color);\n",
              "    animation:\n",
              "      spin 1s steps(1) infinite;\n",
              "  }\n",
              "\n",
              "  @keyframes spin {\n",
              "    0% {\n",
              "      border-color: transparent;\n",
              "      border-bottom-color: var(--fill-color);\n",
              "      border-left-color: var(--fill-color);\n",
              "    }\n",
              "    20% {\n",
              "      border-color: transparent;\n",
              "      border-left-color: var(--fill-color);\n",
              "      border-top-color: var(--fill-color);\n",
              "    }\n",
              "    30% {\n",
              "      border-color: transparent;\n",
              "      border-left-color: var(--fill-color);\n",
              "      border-top-color: var(--fill-color);\n",
              "      border-right-color: var(--fill-color);\n",
              "    }\n",
              "    40% {\n",
              "      border-color: transparent;\n",
              "      border-right-color: var(--fill-color);\n",
              "      border-top-color: var(--fill-color);\n",
              "    }\n",
              "    60% {\n",
              "      border-color: transparent;\n",
              "      border-right-color: var(--fill-color);\n",
              "    }\n",
              "    80% {\n",
              "      border-color: transparent;\n",
              "      border-right-color: var(--fill-color);\n",
              "      border-bottom-color: var(--fill-color);\n",
              "    }\n",
              "    90% {\n",
              "      border-color: transparent;\n",
              "      border-bottom-color: var(--fill-color);\n",
              "    }\n",
              "  }\n",
              "</style>\n",
              "\n",
              "  <script>\n",
              "    async function quickchart(key) {\n",
              "      const quickchartButtonEl =\n",
              "        document.querySelector('#' + key + ' button');\n",
              "      quickchartButtonEl.disabled = true;  // To prevent multiple clicks.\n",
              "      quickchartButtonEl.classList.add('colab-df-spinner');\n",
              "      try {\n",
              "        const charts = await google.colab.kernel.invokeFunction(\n",
              "            'suggestCharts', [key], {});\n",
              "      } catch (error) {\n",
              "        console.error('Error during call to suggestCharts:', error);\n",
              "      }\n",
              "      quickchartButtonEl.classList.remove('colab-df-spinner');\n",
              "      quickchartButtonEl.classList.add('colab-df-quickchart-complete');\n",
              "    }\n",
              "    (() => {\n",
              "      let quickchartButtonEl =\n",
              "        document.querySelector('#df-664d8bf0-a251-4477-b066-2e812b19f36a button');\n",
              "      quickchartButtonEl.style.display =\n",
              "        google.colab.kernel.accessAllowed ? 'block' : 'none';\n",
              "    })();\n",
              "  </script>\n",
              "</div>\n",
              "\n",
              "  <div id=\"id_90adaa85-b6e9-45dd-88da-9a0df6286247\">\n",
              "    <style>\n",
              "      .colab-df-generate {\n",
              "        background-color: #E8F0FE;\n",
              "        border: none;\n",
              "        border-radius: 50%;\n",
              "        cursor: pointer;\n",
              "        display: none;\n",
              "        fill: #1967D2;\n",
              "        height: 32px;\n",
              "        padding: 0 0 0 0;\n",
              "        width: 32px;\n",
              "      }\n",
              "\n",
              "      .colab-df-generate:hover {\n",
              "        background-color: #E2EBFA;\n",
              "        box-shadow: 0px 1px 2px rgba(60, 64, 67, 0.3), 0px 1px 3px 1px rgba(60, 64, 67, 0.15);\n",
              "        fill: #174EA6;\n",
              "      }\n",
              "\n",
              "      [theme=dark] .colab-df-generate {\n",
              "        background-color: #3B4455;\n",
              "        fill: #D2E3FC;\n",
              "      }\n",
              "\n",
              "      [theme=dark] .colab-df-generate:hover {\n",
              "        background-color: #434B5C;\n",
              "        box-shadow: 0px 1px 3px 1px rgba(0, 0, 0, 0.15);\n",
              "        filter: drop-shadow(0px 1px 2px rgba(0, 0, 0, 0.3));\n",
              "        fill: #FFFFFF;\n",
              "      }\n",
              "    </style>\n",
              "    <button class=\"colab-df-generate\" onclick=\"generateWithVariable('df')\"\n",
              "            title=\"Generate code using this dataframe.\"\n",
              "            style=\"display:none;\">\n",
              "\n",
              "  <svg xmlns=\"http://www.w3.org/2000/svg\" height=\"24px\"viewBox=\"0 0 24 24\"\n",
              "       width=\"24px\">\n",
              "    <path d=\"M7,19H8.4L18.45,9,17,7.55,7,17.6ZM5,21V16.75L18.45,3.32a2,2,0,0,1,2.83,0l1.4,1.43a1.91,1.91,0,0,1,.58,1.4,1.91,1.91,0,0,1-.58,1.4L9.25,21ZM18.45,9,17,7.55Zm-12,3A5.31,5.31,0,0,0,4.9,8.1,5.31,5.31,0,0,0,1,6.5,5.31,5.31,0,0,0,4.9,4.9,5.31,5.31,0,0,0,6.5,1,5.31,5.31,0,0,0,8.1,4.9,5.31,5.31,0,0,0,12,6.5,5.46,5.46,0,0,0,6.5,12Z\"/>\n",
              "  </svg>\n",
              "    </button>\n",
              "    <script>\n",
              "      (() => {\n",
              "      const buttonEl =\n",
              "        document.querySelector('#id_90adaa85-b6e9-45dd-88da-9a0df6286247 button.colab-df-generate');\n",
              "      buttonEl.style.display =\n",
              "        google.colab.kernel.accessAllowed ? 'block' : 'none';\n",
              "\n",
              "      buttonEl.onclick = () => {\n",
              "        google.colab.notebook.generateWithVariable('df');\n",
              "      }\n",
              "      })();\n",
              "    </script>\n",
              "  </div>\n",
              "\n",
              "    </div>\n",
              "  </div>\n"
            ],
            "application/vnd.google.colaboratory.intrinsic+json": {
              "type": "dataframe",
              "variable_name": "df"
            }
          },
          "metadata": {},
          "execution_count": 4
        }
      ],
      "source": [
        "# Set display options to show all columns\n",
        "pd.set_option('display.max_columns', None)\n",
        "\n",
        "# When you type the object name, the object gets printed.\n",
        "df"
      ]
    },
    {
      "cell_type": "markdown",
      "metadata": {
        "id": "tx98lQoCoDkO"
      },
      "source": [
        "# **INSTRUCTIONS**\n",
        "\n",
        "* Use Python to analyze the data set and complete each of the following.\n",
        "* Replace ellipsis (...) with the relavent names or code.  \n",
        "* For problems that require a written response, replace the ellipsis (...) by double clicking the text box to start typing.\n",
        "* Reference the tutorial from activity for assistance.\n",
        "* Attend office hours if you still need help."
      ]
    },
    {
      "cell_type": "markdown",
      "metadata": {
        "id": "VEm2KmlyzJGY"
      },
      "source": [
        "This assignment is intended to explore the univariate linear relationships between quantitative variables in the data. Choose the dependent and independent variables based on your last name.\n",
        "\n",
        "| Last Name | Dependent Variable (y) | Independent Variable (x) |\n",
        "|-----------|------------------------|--------------------------|\n",
        "| A-L       | Sheltered ES Homeless - Male, 2021 | Sheltered ES Homeless - Female, 2021 |\n",
        "| M-Z       | Overall Homeless, 2021             | Total Year-Round Beds (ES, TH, SH) |\n",
        "\n",
        "\n"
      ]
    },
    {
      "cell_type": "markdown",
      "source": [
        "Based on your last name, which variable is explanatory and which is the response?\n",
        "\n",
        "Explanatory: ...\n",
        "\n",
        "Response: ..."
      ],
      "metadata": {
        "id": "7IJT3XU95gcE"
      }
    },
    {
      "cell_type": "markdown",
      "source": [
        "What do you think the direction (positive/negative) and strength (weak/moderate/strong) will be?"
      ],
      "metadata": {
        "id": "mPrSROvP5gMr"
      }
    },
    {
      "cell_type": "markdown",
      "source": [
        "# ..."
      ],
      "metadata": {
        "id": "VhMDCYnqhUOq"
      }
    },
    {
      "cell_type": "markdown",
      "metadata": {
        "id": "xkEtDHs70CzZ"
      },
      "source": [
        "# **QUESTION 1**\n",
        "\n",
        "## Scatterplot\n",
        "\n",
        "**1.1)** Construct a scatterplot that could be used to show the relationship between the variables stated above."
      ]
    },
    {
      "cell_type": "code",
      "execution_count": null,
      "metadata": {
        "id": "_YFf23s4JZlN",
        "outputId": "ccda5227-dcaa-4808-8f41-49c656ca857e",
        "colab": {
          "base_uri": "https://localhost:8080/",
          "height": 495
        }
      },
      "outputs": [
        {
          "output_type": "error",
          "ename": "ValueError",
          "evalue": "Value of 'x' is not the name of a column in 'data_frame'. Expected one of ['CoC Number', 'CoC Name', 'CoC Category', 'Type of Count', 'Overall Homeless, 2021', 'HMIS Participation Rate for Year-Round Beds (ES, TH, SH)', 'Total Year-Round Beds (ES, TH, SH)', 'Total Year-Round Beds (ES)', 'Total Year-Round Beds (TH)', 'Total Year-Round Beds (SH)', 'Total Units for Households with Children (ES, TH, SH)', 'Total Beds for Households with Children (ES, TH, SH)', 'Sheltered ES Homeless, 2021', 'Sheltered ES Homeless - Age 18 to 24, 2021', 'Sheltered ES Homeless - Female, 2021', 'Sheltered ES Homeless - Male, 2021', 'Sheltered ES Homeless - Trans+, 2021', 'Sheltered ES Homeless - Hispanic/Latino, 2021', 'Sheltered ES Homeless - White, 2021', 'Sheltered ES Homeless - Black or African American, 2021', 'Sheltered ES Homeless - Asian or Pacific Islander', 'Sheltered ES Homeless - American Indian or Alaska Native, 2021', 'Sheltered ES Homeless - Multiple Races, 2021'] but received: ...",
          "traceback": [
            "\u001b[0;31m---------------------------------------------------------------------------\u001b[0m",
            "\u001b[0;31mValueError\u001b[0m                                Traceback (most recent call last)",
            "\u001b[0;32m<ipython-input-11-e3ecb9a9fe5a>\u001b[0m in \u001b[0;36m<cell line: 4>\u001b[0;34m()\u001b[0m\n\u001b[1;32m      2\u001b[0m \u001b[0;34m\u001b[0m\u001b[0m\n\u001b[1;32m      3\u001b[0m \u001b[0;31m# STUDENTS: replace ... as stated\u001b[0m\u001b[0;34m\u001b[0m\u001b[0;34m\u001b[0m\u001b[0m\n\u001b[0;32m----> 4\u001b[0;31m scatter_plot = px.scatter(df,\n\u001b[0m\u001b[1;32m      5\u001b[0m                  \u001b[0;31m# Replace ... with the explanatory variable name\u001b[0m\u001b[0;34m\u001b[0m\u001b[0;34m\u001b[0m\u001b[0m\n\u001b[1;32m      6\u001b[0m                  \u001b[0mx\u001b[0m\u001b[0;34m=\u001b[0m\u001b[0;34m'...'\u001b[0m\u001b[0;34m,\u001b[0m\u001b[0;34m\u001b[0m\u001b[0;34m\u001b[0m\u001b[0m\n",
            "\u001b[0;32m/usr/local/lib/python3.10/dist-packages/plotly/express/_chart_types.py\u001b[0m in \u001b[0;36mscatter\u001b[0;34m(data_frame, x, y, color, symbol, size, hover_name, hover_data, custom_data, text, facet_row, facet_col, facet_col_wrap, facet_row_spacing, facet_col_spacing, error_x, error_x_minus, error_y, error_y_minus, animation_frame, animation_group, category_orders, labels, orientation, color_discrete_sequence, color_discrete_map, color_continuous_scale, range_color, color_continuous_midpoint, symbol_sequence, symbol_map, opacity, size_max, marginal_x, marginal_y, trendline, trendline_options, trendline_color_override, trendline_scope, log_x, log_y, range_x, range_y, render_mode, title, template, width, height)\u001b[0m\n\u001b[1;32m     64\u001b[0m     \u001b[0mmark\u001b[0m \u001b[0;32min\u001b[0m \u001b[0;36m2\u001b[0m\u001b[0mD\u001b[0m \u001b[0mspace\u001b[0m\u001b[0;34m.\u001b[0m\u001b[0;34m\u001b[0m\u001b[0;34m\u001b[0m\u001b[0m\n\u001b[1;32m     65\u001b[0m     \"\"\"\n\u001b[0;32m---> 66\u001b[0;31m     \u001b[0;32mreturn\u001b[0m \u001b[0mmake_figure\u001b[0m\u001b[0;34m(\u001b[0m\u001b[0margs\u001b[0m\u001b[0;34m=\u001b[0m\u001b[0mlocals\u001b[0m\u001b[0;34m(\u001b[0m\u001b[0;34m)\u001b[0m\u001b[0;34m,\u001b[0m \u001b[0mconstructor\u001b[0m\u001b[0;34m=\u001b[0m\u001b[0mgo\u001b[0m\u001b[0;34m.\u001b[0m\u001b[0mScatter\u001b[0m\u001b[0;34m)\u001b[0m\u001b[0;34m\u001b[0m\u001b[0;34m\u001b[0m\u001b[0m\n\u001b[0m\u001b[1;32m     67\u001b[0m \u001b[0;34m\u001b[0m\u001b[0m\n\u001b[1;32m     68\u001b[0m \u001b[0;34m\u001b[0m\u001b[0m\n",
            "\u001b[0;32m/usr/local/lib/python3.10/dist-packages/plotly/express/_core.py\u001b[0m in \u001b[0;36mmake_figure\u001b[0;34m(args, constructor, trace_patch, layout_patch)\u001b[0m\n\u001b[1;32m   2115\u001b[0m     \u001b[0mapply_default_cascade\u001b[0m\u001b[0;34m(\u001b[0m\u001b[0margs\u001b[0m\u001b[0;34m)\u001b[0m\u001b[0;34m\u001b[0m\u001b[0;34m\u001b[0m\u001b[0m\n\u001b[1;32m   2116\u001b[0m \u001b[0;34m\u001b[0m\u001b[0m\n\u001b[0;32m-> 2117\u001b[0;31m     \u001b[0margs\u001b[0m \u001b[0;34m=\u001b[0m \u001b[0mbuild_dataframe\u001b[0m\u001b[0;34m(\u001b[0m\u001b[0margs\u001b[0m\u001b[0;34m,\u001b[0m \u001b[0mconstructor\u001b[0m\u001b[0;34m)\u001b[0m\u001b[0;34m\u001b[0m\u001b[0;34m\u001b[0m\u001b[0m\n\u001b[0m\u001b[1;32m   2118\u001b[0m     \u001b[0;32mif\u001b[0m \u001b[0mconstructor\u001b[0m \u001b[0;32min\u001b[0m \u001b[0;34m[\u001b[0m\u001b[0mgo\u001b[0m\u001b[0;34m.\u001b[0m\u001b[0mTreemap\u001b[0m\u001b[0;34m,\u001b[0m \u001b[0mgo\u001b[0m\u001b[0;34m.\u001b[0m\u001b[0mSunburst\u001b[0m\u001b[0;34m,\u001b[0m \u001b[0mgo\u001b[0m\u001b[0;34m.\u001b[0m\u001b[0mIcicle\u001b[0m\u001b[0;34m]\u001b[0m \u001b[0;32mand\u001b[0m \u001b[0margs\u001b[0m\u001b[0;34m[\u001b[0m\u001b[0;34m\"path\"\u001b[0m\u001b[0;34m]\u001b[0m \u001b[0;32mis\u001b[0m \u001b[0;32mnot\u001b[0m \u001b[0;32mNone\u001b[0m\u001b[0;34m:\u001b[0m\u001b[0;34m\u001b[0m\u001b[0;34m\u001b[0m\u001b[0m\n\u001b[1;32m   2119\u001b[0m         \u001b[0margs\u001b[0m \u001b[0;34m=\u001b[0m \u001b[0mprocess_dataframe_hierarchy\u001b[0m\u001b[0;34m(\u001b[0m\u001b[0margs\u001b[0m\u001b[0;34m)\u001b[0m\u001b[0;34m\u001b[0m\u001b[0;34m\u001b[0m\u001b[0m\n",
            "\u001b[0;32m/usr/local/lib/python3.10/dist-packages/plotly/express/_core.py\u001b[0m in \u001b[0;36mbuild_dataframe\u001b[0;34m(args, constructor)\u001b[0m\n\u001b[1;32m   1511\u001b[0m     \u001b[0;31m# now that things have been prepped, we do the systematic rewriting of `args`\u001b[0m\u001b[0;34m\u001b[0m\u001b[0;34m\u001b[0m\u001b[0m\n\u001b[1;32m   1512\u001b[0m \u001b[0;34m\u001b[0m\u001b[0m\n\u001b[0;32m-> 1513\u001b[0;31m     df_output, wide_id_vars = process_args_into_dataframe(\n\u001b[0m\u001b[1;32m   1514\u001b[0m         \u001b[0margs\u001b[0m\u001b[0;34m,\u001b[0m \u001b[0mwide_mode\u001b[0m\u001b[0;34m,\u001b[0m \u001b[0mvar_name\u001b[0m\u001b[0;34m,\u001b[0m \u001b[0mvalue_name\u001b[0m\u001b[0;34m\u001b[0m\u001b[0;34m\u001b[0m\u001b[0m\n\u001b[1;32m   1515\u001b[0m     )\n",
            "\u001b[0;32m/usr/local/lib/python3.10/dist-packages/plotly/express/_core.py\u001b[0m in \u001b[0;36mprocess_args_into_dataframe\u001b[0;34m(args, wide_mode, var_name, value_name)\u001b[0m\n\u001b[1;32m   1232\u001b[0m                         \u001b[0;32mif\u001b[0m \u001b[0margument\u001b[0m \u001b[0;34m==\u001b[0m \u001b[0;34m\"index\"\u001b[0m\u001b[0;34m:\u001b[0m\u001b[0;34m\u001b[0m\u001b[0;34m\u001b[0m\u001b[0m\n\u001b[1;32m   1233\u001b[0m                             \u001b[0merr_msg\u001b[0m \u001b[0;34m+=\u001b[0m \u001b[0;34m\"\\n To use the index, pass it in directly as `df.index`.\"\u001b[0m\u001b[0;34m\u001b[0m\u001b[0;34m\u001b[0m\u001b[0m\n\u001b[0;32m-> 1234\u001b[0;31m                         \u001b[0;32mraise\u001b[0m \u001b[0mValueError\u001b[0m\u001b[0;34m(\u001b[0m\u001b[0merr_msg\u001b[0m\u001b[0;34m)\u001b[0m\u001b[0;34m\u001b[0m\u001b[0;34m\u001b[0m\u001b[0m\n\u001b[0m\u001b[1;32m   1235\u001b[0m                 \u001b[0;32melif\u001b[0m \u001b[0mlength\u001b[0m \u001b[0;32mand\u001b[0m \u001b[0mlen\u001b[0m\u001b[0;34m(\u001b[0m\u001b[0mdf_input\u001b[0m\u001b[0;34m[\u001b[0m\u001b[0margument\u001b[0m\u001b[0;34m]\u001b[0m\u001b[0;34m)\u001b[0m \u001b[0;34m!=\u001b[0m \u001b[0mlength\u001b[0m\u001b[0;34m:\u001b[0m\u001b[0;34m\u001b[0m\u001b[0;34m\u001b[0m\u001b[0m\n\u001b[1;32m   1236\u001b[0m                     raise ValueError(\n",
            "\u001b[0;31mValueError\u001b[0m: Value of 'x' is not the name of a column in 'data_frame'. Expected one of ['CoC Number', 'CoC Name', 'CoC Category', 'Type of Count', 'Overall Homeless, 2021', 'HMIS Participation Rate for Year-Round Beds (ES, TH, SH)', 'Total Year-Round Beds (ES, TH, SH)', 'Total Year-Round Beds (ES)', 'Total Year-Round Beds (TH)', 'Total Year-Round Beds (SH)', 'Total Units for Households with Children (ES, TH, SH)', 'Total Beds for Households with Children (ES, TH, SH)', 'Sheltered ES Homeless, 2021', 'Sheltered ES Homeless - Age 18 to 24, 2021', 'Sheltered ES Homeless - Female, 2021', 'Sheltered ES Homeless - Male, 2021', 'Sheltered ES Homeless - Trans+, 2021', 'Sheltered ES Homeless - Hispanic/Latino, 2021', 'Sheltered ES Homeless - White, 2021', 'Sheltered ES Homeless - Black or African American, 2021', 'Sheltered ES Homeless - Asian or Pacific Islander', 'Sheltered ES Homeless - American Indian or Alaska Native, 2021', 'Sheltered ES Homeless - Multiple Races, 2021'] but received: ..."
          ]
        }
      ],
      "source": [
        "# Create a scatter plot using Plotly Express\n",
        "\n",
        "                                                                        # STUDENTS: replace ... as stated\n",
        "scatter_plot = px.scatter(df,\n",
        "                 x='...',                                               # Replace ... with the explanatory variable name\n",
        "                 y='...',                                               # Replace ... with the response variable name\n",
        "                 labels={'Sheltered ES Homeless - Female, 2021': '...', # Replace ... with a better x-axis label\n",
        "                         'Sheltered ES Homeless - Male, 2021': '...'})  # Replace ... with a better y-axis label\n",
        "\n",
        "# Updating layout:\n",
        "# STUDENTS: Do not change anything in this block of code.\n",
        "scatter_plot.update_layout(\n",
        "    plot_bgcolor='rgba(255,255,255,1)',        # Sets the background color of the plot area to white with full opacity.\n",
        "    xaxis=dict(\n",
        "        showline=True,                         # Displays a line on the x-axis.\n",
        "        showgrid=False,                        # Hides the grid lines on the x-axis.\n",
        "        linecolor='black'                      # Sets the color of the x-axis line to black.\n",
        "    ),\n",
        "    yaxis=dict(\n",
        "        showline=True,                         # Displays a line on the y-axis.\n",
        "        showgrid=False,                        # Hides the grid lines on the y-axis.\n",
        "        linecolor='black'                      # Sets the color of the y-axis line to black.\n",
        "    ),\n",
        "    title={\n",
        "        'text': 'Scatter Plot',   # Sets the title text.\n",
        "        'y': 0.9,                              # Positions the title 90% of the way up the plot.\n",
        "        'x': 0.5,                              # Centers the title horizontally.\n",
        "        'xanchor': 'center',                   # Anchors the title at its center on the x-axis.\n",
        "        'yanchor': 'top',                      # Anchors the title at the top on the y-axis.\n",
        "        'font': dict(\n",
        "            size=16                            # Sets the title font size to 16 (smaller than default).\n",
        "        ),\n",
        "    },\n",
        "    width=575,                                 # Sets the width of the plot.\n",
        "    height=400                                 # Sets the height of the plot for portrait mode.\n",
        ")\n",
        "\n",
        "# Show the plot:\n",
        "scatter_plot.show()\n"
      ]
    },
    {
      "cell_type": "markdown",
      "source": [
        "**1.2)** Describe the relationship between the two variables and include context, and identify the direction, strength, and form. Since you don't yet know the value of correlation (r), estimate what you think the strength is (weak/moderate/strong).\n"
      ],
      "metadata": {
        "id": "J6CcvV0H4iZC"
      }
    },
    {
      "cell_type": "markdown",
      "source": [
        "# ..."
      ],
      "metadata": {
        "id": "jEnxIc1V8BwI"
      }
    },
    {
      "cell_type": "markdown",
      "source": [
        "**1.3)** Is this what you expected?\n"
      ],
      "metadata": {
        "id": "dYiqZ-N76ytU"
      }
    },
    {
      "cell_type": "markdown",
      "source": [
        "# ..."
      ],
      "metadata": {
        "id": "Umgm-Xgt64ZK"
      }
    },
    {
      "cell_type": "markdown",
      "metadata": {
        "id": "Hjz7Oc8N0acy"
      },
      "source": [
        "# **Question 2**\n",
        "## Correlation Coefficient\n",
        "\n",
        "**2.1)** Calculate the value of the correlation coefficient."
      ]
    },
    {
      "cell_type": "code",
      "execution_count": null,
      "metadata": {
        "id": "jzxH_zSaJZlN",
        "outputId": "483ae714-4f84-4050-ebc2-42eaf955a58f",
        "colab": {
          "base_uri": "https://localhost:8080/",
          "height": 547
        }
      },
      "outputs": [
        {
          "output_type": "error",
          "ename": "KeyError",
          "evalue": "'...'",
          "traceback": [
            "\u001b[0;31m---------------------------------------------------------------------------\u001b[0m",
            "\u001b[0;31mKeyError\u001b[0m                                  Traceback (most recent call last)",
            "\u001b[0;32m/usr/local/lib/python3.10/dist-packages/pandas/core/indexes/base.py\u001b[0m in \u001b[0;36mget_loc\u001b[0;34m(self, key)\u001b[0m\n\u001b[1;32m   3804\u001b[0m         \u001b[0;32mtry\u001b[0m\u001b[0;34m:\u001b[0m\u001b[0;34m\u001b[0m\u001b[0;34m\u001b[0m\u001b[0m\n\u001b[0;32m-> 3805\u001b[0;31m             \u001b[0;32mreturn\u001b[0m \u001b[0mself\u001b[0m\u001b[0;34m.\u001b[0m\u001b[0m_engine\u001b[0m\u001b[0;34m.\u001b[0m\u001b[0mget_loc\u001b[0m\u001b[0;34m(\u001b[0m\u001b[0mcasted_key\u001b[0m\u001b[0;34m)\u001b[0m\u001b[0;34m\u001b[0m\u001b[0;34m\u001b[0m\u001b[0m\n\u001b[0m\u001b[1;32m   3806\u001b[0m         \u001b[0;32mexcept\u001b[0m \u001b[0mKeyError\u001b[0m \u001b[0;32mas\u001b[0m \u001b[0merr\u001b[0m\u001b[0;34m:\u001b[0m\u001b[0;34m\u001b[0m\u001b[0;34m\u001b[0m\u001b[0m\n",
            "\u001b[0;32mindex.pyx\u001b[0m in \u001b[0;36mpandas._libs.index.IndexEngine.get_loc\u001b[0;34m()\u001b[0m\n",
            "\u001b[0;32mindex.pyx\u001b[0m in \u001b[0;36mpandas._libs.index.IndexEngine.get_loc\u001b[0;34m()\u001b[0m\n",
            "\u001b[0;32mpandas/_libs/hashtable_class_helper.pxi\u001b[0m in \u001b[0;36mpandas._libs.hashtable.PyObjectHashTable.get_item\u001b[0;34m()\u001b[0m\n",
            "\u001b[0;32mpandas/_libs/hashtable_class_helper.pxi\u001b[0m in \u001b[0;36mpandas._libs.hashtable.PyObjectHashTable.get_item\u001b[0;34m()\u001b[0m\n",
            "\u001b[0;31mKeyError\u001b[0m: '...'",
            "\nThe above exception was the direct cause of the following exception:\n",
            "\u001b[0;31mKeyError\u001b[0m                                  Traceback (most recent call last)",
            "\u001b[0;32m<ipython-input-12-33ba43963764>\u001b[0m in \u001b[0;36m<cell line: 6>\u001b[0;34m()\u001b[0m\n\u001b[1;32m      4\u001b[0m \u001b[0;31m# Replace the 1st ... with the response variable name.\u001b[0m\u001b[0;34m\u001b[0m\u001b[0;34m\u001b[0m\u001b[0m\n\u001b[1;32m      5\u001b[0m \u001b[0;31m# Replace the 2nd ... with the explanatory variable name\u001b[0m\u001b[0;34m\u001b[0m\u001b[0;34m\u001b[0m\u001b[0m\n\u001b[0;32m----> 6\u001b[0;31m \u001b[0mcorrelation\u001b[0m \u001b[0;34m=\u001b[0m \u001b[0mdf\u001b[0m\u001b[0;34m[\u001b[0m\u001b[0;34m'...'\u001b[0m\u001b[0;34m]\u001b[0m\u001b[0;34m.\u001b[0m\u001b[0mcorr\u001b[0m\u001b[0;34m(\u001b[0m\u001b[0mdf\u001b[0m\u001b[0;34m[\u001b[0m\u001b[0;34m'...'\u001b[0m\u001b[0;34m]\u001b[0m\u001b[0;34m)\u001b[0m\u001b[0;34m\u001b[0m\u001b[0;34m\u001b[0m\u001b[0m\n\u001b[0m\u001b[1;32m      7\u001b[0m \u001b[0;34m\u001b[0m\u001b[0m\n\u001b[1;32m      8\u001b[0m \u001b[0;31m# Print the correlation coefficient\u001b[0m\u001b[0;34m\u001b[0m\u001b[0;34m\u001b[0m\u001b[0m\n",
            "\u001b[0;32m/usr/local/lib/python3.10/dist-packages/pandas/core/frame.py\u001b[0m in \u001b[0;36m__getitem__\u001b[0;34m(self, key)\u001b[0m\n\u001b[1;32m   4100\u001b[0m             \u001b[0;32mif\u001b[0m \u001b[0mself\u001b[0m\u001b[0;34m.\u001b[0m\u001b[0mcolumns\u001b[0m\u001b[0;34m.\u001b[0m\u001b[0mnlevels\u001b[0m \u001b[0;34m>\u001b[0m \u001b[0;36m1\u001b[0m\u001b[0;34m:\u001b[0m\u001b[0;34m\u001b[0m\u001b[0;34m\u001b[0m\u001b[0m\n\u001b[1;32m   4101\u001b[0m                 \u001b[0;32mreturn\u001b[0m \u001b[0mself\u001b[0m\u001b[0;34m.\u001b[0m\u001b[0m_getitem_multilevel\u001b[0m\u001b[0;34m(\u001b[0m\u001b[0mkey\u001b[0m\u001b[0;34m)\u001b[0m\u001b[0;34m\u001b[0m\u001b[0;34m\u001b[0m\u001b[0m\n\u001b[0;32m-> 4102\u001b[0;31m             \u001b[0mindexer\u001b[0m \u001b[0;34m=\u001b[0m \u001b[0mself\u001b[0m\u001b[0;34m.\u001b[0m\u001b[0mcolumns\u001b[0m\u001b[0;34m.\u001b[0m\u001b[0mget_loc\u001b[0m\u001b[0;34m(\u001b[0m\u001b[0mkey\u001b[0m\u001b[0;34m)\u001b[0m\u001b[0;34m\u001b[0m\u001b[0;34m\u001b[0m\u001b[0m\n\u001b[0m\u001b[1;32m   4103\u001b[0m             \u001b[0;32mif\u001b[0m \u001b[0mis_integer\u001b[0m\u001b[0;34m(\u001b[0m\u001b[0mindexer\u001b[0m\u001b[0;34m)\u001b[0m\u001b[0;34m:\u001b[0m\u001b[0;34m\u001b[0m\u001b[0;34m\u001b[0m\u001b[0m\n\u001b[1;32m   4104\u001b[0m                 \u001b[0mindexer\u001b[0m \u001b[0;34m=\u001b[0m \u001b[0;34m[\u001b[0m\u001b[0mindexer\u001b[0m\u001b[0;34m]\u001b[0m\u001b[0;34m\u001b[0m\u001b[0;34m\u001b[0m\u001b[0m\n",
            "\u001b[0;32m/usr/local/lib/python3.10/dist-packages/pandas/core/indexes/base.py\u001b[0m in \u001b[0;36mget_loc\u001b[0;34m(self, key)\u001b[0m\n\u001b[1;32m   3810\u001b[0m             ):\n\u001b[1;32m   3811\u001b[0m                 \u001b[0;32mraise\u001b[0m \u001b[0mInvalidIndexError\u001b[0m\u001b[0;34m(\u001b[0m\u001b[0mkey\u001b[0m\u001b[0;34m)\u001b[0m\u001b[0;34m\u001b[0m\u001b[0;34m\u001b[0m\u001b[0m\n\u001b[0;32m-> 3812\u001b[0;31m             \u001b[0;32mraise\u001b[0m \u001b[0mKeyError\u001b[0m\u001b[0;34m(\u001b[0m\u001b[0mkey\u001b[0m\u001b[0;34m)\u001b[0m \u001b[0;32mfrom\u001b[0m \u001b[0merr\u001b[0m\u001b[0;34m\u001b[0m\u001b[0;34m\u001b[0m\u001b[0m\n\u001b[0m\u001b[1;32m   3813\u001b[0m         \u001b[0;32mexcept\u001b[0m \u001b[0mTypeError\u001b[0m\u001b[0;34m:\u001b[0m\u001b[0;34m\u001b[0m\u001b[0;34m\u001b[0m\u001b[0m\n\u001b[1;32m   3814\u001b[0m             \u001b[0;31m# If we have a listlike key, _check_indexing_error will raise\u001b[0m\u001b[0;34m\u001b[0m\u001b[0;34m\u001b[0m\u001b[0m\n",
            "\u001b[0;31mKeyError\u001b[0m: '...'"
          ]
        }
      ],
      "source": [
        "# Calculate the correlation coefficient\n",
        "\n",
        "# STUDENTS: Replace ... as stated\n",
        "# Replace the 1st ... with the response variable name.\n",
        "# Replace the 2nd ... with the explanatory variable name\n",
        "correlation = df['...'].corr(df['...'])\n",
        "\n",
        "# Print the correlation coefficient\n",
        "print(f\"Correlation coefficient between your two variables: r = {correlation}\")"
      ]
    },
    {
      "cell_type": "markdown",
      "source": [
        "**2.2)** Interpret the correlation coefficient.\n"
      ],
      "metadata": {
        "id": "G94sREeexV_s"
      }
    },
    {
      "cell_type": "markdown",
      "source": [
        "# ..."
      ],
      "metadata": {
        "id": "LQpkF8dN9W4z"
      }
    },
    {
      "cell_type": "markdown",
      "source": [
        "**2.3)** Now that you know the value of correlation, r, did the strength match what you wrote in 1.2?"
      ],
      "metadata": {
        "id": "p-HHBh935uGw"
      }
    },
    {
      "cell_type": "markdown",
      "source": [
        "# ..."
      ],
      "metadata": {
        "id": "_VY68TuH596l"
      }
    },
    {
      "cell_type": "markdown",
      "metadata": {
        "id": "ad-a9eAuJZlN"
      },
      "source": [
        "# **Question 3**\n",
        "\n",
        "## Least Squares Regression\n",
        "\n",
        "**3.1)** Calculate the linear model and add the regression line to the scatterplot.\n"
      ]
    },
    {
      "cell_type": "code",
      "execution_count": null,
      "metadata": {
        "id": "5Cejhxq9JZlN",
        "outputId": "429c0a54-1346-4949-a2dc-ff04a8db7228",
        "colab": {
          "base_uri": "https://localhost:8080/",
          "height": 547
        }
      },
      "outputs": [
        {
          "output_type": "error",
          "ename": "KeyError",
          "evalue": "'...'",
          "traceback": [
            "\u001b[0;31m---------------------------------------------------------------------------\u001b[0m",
            "\u001b[0;31mKeyError\u001b[0m                                  Traceback (most recent call last)",
            "\u001b[0;32m/usr/local/lib/python3.10/dist-packages/pandas/core/indexes/base.py\u001b[0m in \u001b[0;36mget_loc\u001b[0;34m(self, key)\u001b[0m\n\u001b[1;32m   3804\u001b[0m         \u001b[0;32mtry\u001b[0m\u001b[0;34m:\u001b[0m\u001b[0;34m\u001b[0m\u001b[0;34m\u001b[0m\u001b[0m\n\u001b[0;32m-> 3805\u001b[0;31m             \u001b[0;32mreturn\u001b[0m \u001b[0mself\u001b[0m\u001b[0;34m.\u001b[0m\u001b[0m_engine\u001b[0m\u001b[0;34m.\u001b[0m\u001b[0mget_loc\u001b[0m\u001b[0;34m(\u001b[0m\u001b[0mcasted_key\u001b[0m\u001b[0;34m)\u001b[0m\u001b[0;34m\u001b[0m\u001b[0;34m\u001b[0m\u001b[0m\n\u001b[0m\u001b[1;32m   3806\u001b[0m         \u001b[0;32mexcept\u001b[0m \u001b[0mKeyError\u001b[0m \u001b[0;32mas\u001b[0m \u001b[0merr\u001b[0m\u001b[0;34m:\u001b[0m\u001b[0;34m\u001b[0m\u001b[0;34m\u001b[0m\u001b[0m\n",
            "\u001b[0;32mindex.pyx\u001b[0m in \u001b[0;36mpandas._libs.index.IndexEngine.get_loc\u001b[0;34m()\u001b[0m\n",
            "\u001b[0;32mindex.pyx\u001b[0m in \u001b[0;36mpandas._libs.index.IndexEngine.get_loc\u001b[0;34m()\u001b[0m\n",
            "\u001b[0;32mpandas/_libs/hashtable_class_helper.pxi\u001b[0m in \u001b[0;36mpandas._libs.hashtable.PyObjectHashTable.get_item\u001b[0;34m()\u001b[0m\n",
            "\u001b[0;32mpandas/_libs/hashtable_class_helper.pxi\u001b[0m in \u001b[0;36mpandas._libs.hashtable.PyObjectHashTable.get_item\u001b[0;34m()\u001b[0m\n",
            "\u001b[0;31mKeyError\u001b[0m: '...'",
            "\nThe above exception was the direct cause of the following exception:\n",
            "\u001b[0;31mKeyError\u001b[0m                                  Traceback (most recent call last)",
            "\u001b[0;32m<ipython-input-13-028f592c44ac>\u001b[0m in \u001b[0;36m<cell line: 6>\u001b[0;34m()\u001b[0m\n\u001b[1;32m      4\u001b[0m \u001b[0;31m# STUDENTS: Replace ... as stated below.\u001b[0m\u001b[0;34m\u001b[0m\u001b[0;34m\u001b[0m\u001b[0m\n\u001b[1;32m      5\u001b[0m \u001b[0;31m# Replace ... with the explantory variable name\u001b[0m\u001b[0;34m\u001b[0m\u001b[0;34m\u001b[0m\u001b[0m\n\u001b[0;32m----> 6\u001b[0;31m \u001b[0mX\u001b[0m \u001b[0;34m=\u001b[0m \u001b[0mdf\u001b[0m\u001b[0;34m[\u001b[0m\u001b[0;34m'...'\u001b[0m\u001b[0;34m]\u001b[0m\u001b[0;34m\u001b[0m\u001b[0;34m\u001b[0m\u001b[0m\n\u001b[0m\u001b[1;32m      7\u001b[0m \u001b[0;31m# Replace ... with the response variable name\u001b[0m\u001b[0;34m\u001b[0m\u001b[0;34m\u001b[0m\u001b[0m\n\u001b[1;32m      8\u001b[0m \u001b[0mY\u001b[0m \u001b[0;34m=\u001b[0m \u001b[0mdf\u001b[0m\u001b[0;34m[\u001b[0m\u001b[0;34m'...'\u001b[0m\u001b[0;34m]\u001b[0m\u001b[0;34m\u001b[0m\u001b[0;34m\u001b[0m\u001b[0m\n",
            "\u001b[0;32m/usr/local/lib/python3.10/dist-packages/pandas/core/frame.py\u001b[0m in \u001b[0;36m__getitem__\u001b[0;34m(self, key)\u001b[0m\n\u001b[1;32m   4100\u001b[0m             \u001b[0;32mif\u001b[0m \u001b[0mself\u001b[0m\u001b[0;34m.\u001b[0m\u001b[0mcolumns\u001b[0m\u001b[0;34m.\u001b[0m\u001b[0mnlevels\u001b[0m \u001b[0;34m>\u001b[0m \u001b[0;36m1\u001b[0m\u001b[0;34m:\u001b[0m\u001b[0;34m\u001b[0m\u001b[0;34m\u001b[0m\u001b[0m\n\u001b[1;32m   4101\u001b[0m                 \u001b[0;32mreturn\u001b[0m \u001b[0mself\u001b[0m\u001b[0;34m.\u001b[0m\u001b[0m_getitem_multilevel\u001b[0m\u001b[0;34m(\u001b[0m\u001b[0mkey\u001b[0m\u001b[0;34m)\u001b[0m\u001b[0;34m\u001b[0m\u001b[0;34m\u001b[0m\u001b[0m\n\u001b[0;32m-> 4102\u001b[0;31m             \u001b[0mindexer\u001b[0m \u001b[0;34m=\u001b[0m \u001b[0mself\u001b[0m\u001b[0;34m.\u001b[0m\u001b[0mcolumns\u001b[0m\u001b[0;34m.\u001b[0m\u001b[0mget_loc\u001b[0m\u001b[0;34m(\u001b[0m\u001b[0mkey\u001b[0m\u001b[0;34m)\u001b[0m\u001b[0;34m\u001b[0m\u001b[0;34m\u001b[0m\u001b[0m\n\u001b[0m\u001b[1;32m   4103\u001b[0m             \u001b[0;32mif\u001b[0m \u001b[0mis_integer\u001b[0m\u001b[0;34m(\u001b[0m\u001b[0mindexer\u001b[0m\u001b[0;34m)\u001b[0m\u001b[0;34m:\u001b[0m\u001b[0;34m\u001b[0m\u001b[0;34m\u001b[0m\u001b[0m\n\u001b[1;32m   4104\u001b[0m                 \u001b[0mindexer\u001b[0m \u001b[0;34m=\u001b[0m \u001b[0;34m[\u001b[0m\u001b[0mindexer\u001b[0m\u001b[0;34m]\u001b[0m\u001b[0;34m\u001b[0m\u001b[0;34m\u001b[0m\u001b[0m\n",
            "\u001b[0;32m/usr/local/lib/python3.10/dist-packages/pandas/core/indexes/base.py\u001b[0m in \u001b[0;36mget_loc\u001b[0;34m(self, key)\u001b[0m\n\u001b[1;32m   3810\u001b[0m             ):\n\u001b[1;32m   3811\u001b[0m                 \u001b[0;32mraise\u001b[0m \u001b[0mInvalidIndexError\u001b[0m\u001b[0;34m(\u001b[0m\u001b[0mkey\u001b[0m\u001b[0;34m)\u001b[0m\u001b[0;34m\u001b[0m\u001b[0;34m\u001b[0m\u001b[0m\n\u001b[0;32m-> 3812\u001b[0;31m             \u001b[0;32mraise\u001b[0m \u001b[0mKeyError\u001b[0m\u001b[0;34m(\u001b[0m\u001b[0mkey\u001b[0m\u001b[0;34m)\u001b[0m \u001b[0;32mfrom\u001b[0m \u001b[0merr\u001b[0m\u001b[0;34m\u001b[0m\u001b[0;34m\u001b[0m\u001b[0m\n\u001b[0m\u001b[1;32m   3813\u001b[0m         \u001b[0;32mexcept\u001b[0m \u001b[0mTypeError\u001b[0m\u001b[0;34m:\u001b[0m\u001b[0;34m\u001b[0m\u001b[0;34m\u001b[0m\u001b[0m\n\u001b[1;32m   3814\u001b[0m             \u001b[0;31m# If we have a listlike key, _check_indexing_error will raise\u001b[0m\u001b[0;34m\u001b[0m\u001b[0;34m\u001b[0m\u001b[0m\n",
            "\u001b[0;31mKeyError\u001b[0m: '...'"
          ]
        }
      ],
      "source": [
        "# Calculate the LSRL and add the regression line to the scatterplot.\n",
        "\n",
        "# Extract the variables from the dataframe\n",
        "                  # STUDENTS: Replace ... as stated below.\n",
        "X = df['...']     # Replace ... with the explantory variable name\n",
        "Y = df['...']     # Replace ... with the response variable name\n",
        "\n",
        "# Add a constant to the explanatory variable for the regression model.\n",
        "# This forces Statsmodels to calculate the y-intercept.\n",
        "# STUDENTS: Do not change anything in this block of code.\n",
        "X_with_const = sm.add_constant(X)\n",
        "\n",
        "# Fit the linear regression model (calculate slope and y-intercept)\n",
        "# STUDENTS: Do not change anything in this block of code.\n",
        "model = sm.OLS(Y, X_with_const).fit()\n",
        "\n",
        "                                                                           # STUDENTS: Replace ... as stated below.\n",
        "scatter_plot = px.scatter(df,\n",
        "                 x='...',                                                  # Replace ... with the explanatory variable name\n",
        "                 y='...',                                                  # Replace ... with the response variable name\n",
        "                 labels={'Sheltered ES Homeless - Female, 2021': '...',    # Replace ... with a better x-axis label\n",
        "                         'Sheltered ES Homeless - Male, 2021': '...'})     # Replace ... with a better y-axis label\n",
        "\n",
        "# Updating layout\n",
        "# STUDENTS: Do not change anything in this block of code.\n",
        "scatter_plot.update_layout(\n",
        "    plot_bgcolor='rgba(255,255,255,1)',        # Sets the background color of the plot area to white with full opacity.\n",
        "    xaxis=dict(\n",
        "        showline=True,                         # Displays a line on the x-axis.\n",
        "        showgrid=False,                        # Hides the grid lines on the x-axis.\n",
        "        linecolor='black'                      # Sets the color of the x-axis line to black.\n",
        "    ),\n",
        "    yaxis=dict(\n",
        "        showline=True,                         # Displays a line on the y-axis.\n",
        "        showgrid=False,                        # Hides the grid lines on the y-axis.\n",
        "        linecolor='black'                      # Sets the color of the y-axis line to black.\n",
        "    ),\n",
        "    title={\n",
        "        'text': 'Scatter Plot',   # Sets the title text.\n",
        "        'y': 0.9,                              # Positions the title 90% of the way up the plot.\n",
        "        'x': 0.5,                              # Centers the title horizontally.\n",
        "        'xanchor': 'center',                   # Anchors the title at its center on the x-axis.\n",
        "        'yanchor': 'top',                      # Anchors the title at the top on the y-axis.\n",
        "        'font': dict(\n",
        "            size=16                            # Sets the title font size to 16 (smaller than default).\n",
        "        ),\n",
        "    },\n",
        "    width=600,                                 # Sets the width of the plot.\n",
        "    height=400,                                # Sets the height of the plot for portrait mode.\n",
        "    showlegend=False                           # Disables the legend (key) display\n",
        ")\n",
        "\n",
        "# Add the regression line to the scatterplot\n",
        "scatter_plot.add_scatter(x=X, y=model.predict(X_with_const),\n",
        "                         mode='lines', name='Regression Line')\n",
        "\n",
        "# Show the plot\n",
        "scatter_plot.show()\n"
      ]
    },
    {
      "cell_type": "markdown",
      "source": [
        "**3.2)** Print the coefficients (Intercept and Slope)\n",
        "\n"
      ],
      "metadata": {
        "id": "nax0a4z8XMnM"
      }
    },
    {
      "cell_type": "code",
      "execution_count": null,
      "metadata": {
        "id": "R32idO3eJZlO"
      },
      "outputs": [],
      "source": [
        "# Print the coefficients (Intercept and Slope)\n",
        "\n",
        "# STUDENTS: Do not change the code below.\n",
        "# The coefficients were calculated when the regression line was added to the\n",
        "# scatterplot and stored in 'model'. This assigns the values of the y-intercept\n",
        "# and slope to 'coefficients', then prints the values.\n",
        "\n",
        "coefficients = model.params\n",
        "coefficients.name='Coefficients'\n",
        "coefficients\n"
      ]
    },
    {
      "cell_type": "markdown",
      "source": [
        "**3.3)** Write the equation of the line that predicts waist circumference from BMI. To type 𝑦̂ you can type “y-hat” or “predicted y”. Do NOT round.\n",
        "\n"
      ],
      "metadata": {
        "id": "vUqyqdVkpWXh"
      }
    },
    {
      "cell_type": "markdown",
      "source": [
        "# ..."
      ],
      "metadata": {
        "id": "xB3Zd_wgpeCT"
      }
    },
    {
      "cell_type": "markdown",
      "metadata": {
        "id": "BdkQcF691E74"
      },
      "source": [
        "# **Question 4**\n",
        "## Slope\n",
        "Interpret the slope\n"
      ]
    },
    {
      "cell_type": "markdown",
      "source": [
        "# ...\n"
      ],
      "metadata": {
        "id": "Fe3k06NdqCck"
      }
    },
    {
      "cell_type": "markdown",
      "metadata": {
        "id": "A2uHwoKa0a1Y"
      },
      "source": [
        "# **QUESTION 5**\n",
        "## Y-Intercept\n",
        "\n",
        "Interpret the y-intercept of the least squares regression line in the context of this study. State whether the interpretation is reasonable."
      ]
    },
    {
      "cell_type": "markdown",
      "source": [
        "# ..."
      ],
      "metadata": {
        "id": "8DudqX253sIt"
      }
    },
    {
      "cell_type": "markdown",
      "metadata": {
        "id": "rCJ442hvJZlO"
      },
      "source": [
        "# **Question 6**\n",
        "## Prediction\n",
        "\n",
        "Show work to predict the value of your dependent variable Los Angeles City & County CoC using the actual value of the independent variable shown in the table below. Round to two (2) decimal places.\n",
        "\n",
        "| Last Name      | Independent Variable (x)                |\n",
        "|----------------|----------------------------------------|\n",
        "| **A-L**        | Sheltered ES Homeless - Female, 2021 = 6848 |\n",
        "| **M-Z**        | Total Year-Round Beds (ES, TH, SH) = 21,107 |\n"
      ]
    },
    {
      "cell_type": "markdown",
      "source": [
        "# ..."
      ],
      "metadata": {
        "id": "aRdqToAPr2h1"
      }
    },
    {
      "cell_type": "markdown",
      "source": [
        "# **Question 7**\n",
        "## Compare\n",
        "**7.1)** Look up the actual value of your dependent variable for the value of the independent variable above. We know it is for Criminology majors, but be sure to type in the value of the independent variable listed in Question 6 in the code below."
      ],
      "metadata": {
        "id": "iimd7jPr6o_G"
      }
    },
    {
      "cell_type": "code",
      "execution_count": null,
      "metadata": {
        "id": "D9yVbei2JZlO",
        "colab": {
          "base_uri": "https://localhost:8080/",
          "height": 547
        },
        "outputId": "97d8fe77-83e6-47aa-e90c-08d5ae14ca46"
      },
      "outputs": [
        {
          "output_type": "error",
          "ename": "KeyError",
          "evalue": "'...'",
          "traceback": [
            "\u001b[0;31m---------------------------------------------------------------------------\u001b[0m",
            "\u001b[0;31mKeyError\u001b[0m                                  Traceback (most recent call last)",
            "\u001b[0;32m/usr/local/lib/python3.10/dist-packages/pandas/core/indexes/base.py\u001b[0m in \u001b[0;36mget_loc\u001b[0;34m(self, key)\u001b[0m\n\u001b[1;32m   3804\u001b[0m         \u001b[0;32mtry\u001b[0m\u001b[0;34m:\u001b[0m\u001b[0;34m\u001b[0m\u001b[0;34m\u001b[0m\u001b[0m\n\u001b[0;32m-> 3805\u001b[0;31m             \u001b[0;32mreturn\u001b[0m \u001b[0mself\u001b[0m\u001b[0;34m.\u001b[0m\u001b[0m_engine\u001b[0m\u001b[0;34m.\u001b[0m\u001b[0mget_loc\u001b[0m\u001b[0;34m(\u001b[0m\u001b[0mcasted_key\u001b[0m\u001b[0;34m)\u001b[0m\u001b[0;34m\u001b[0m\u001b[0;34m\u001b[0m\u001b[0m\n\u001b[0m\u001b[1;32m   3806\u001b[0m         \u001b[0;32mexcept\u001b[0m \u001b[0mKeyError\u001b[0m \u001b[0;32mas\u001b[0m \u001b[0merr\u001b[0m\u001b[0;34m:\u001b[0m\u001b[0;34m\u001b[0m\u001b[0;34m\u001b[0m\u001b[0m\n",
            "\u001b[0;32mindex.pyx\u001b[0m in \u001b[0;36mpandas._libs.index.IndexEngine.get_loc\u001b[0;34m()\u001b[0m\n",
            "\u001b[0;32mindex.pyx\u001b[0m in \u001b[0;36mpandas._libs.index.IndexEngine.get_loc\u001b[0;34m()\u001b[0m\n",
            "\u001b[0;32mpandas/_libs/hashtable_class_helper.pxi\u001b[0m in \u001b[0;36mpandas._libs.hashtable.PyObjectHashTable.get_item\u001b[0;34m()\u001b[0m\n",
            "\u001b[0;32mpandas/_libs/hashtable_class_helper.pxi\u001b[0m in \u001b[0;36mpandas._libs.hashtable.PyObjectHashTable.get_item\u001b[0;34m()\u001b[0m\n",
            "\u001b[0;31mKeyError\u001b[0m: '...'",
            "\nThe above exception was the direct cause of the following exception:\n",
            "\u001b[0;31mKeyError\u001b[0m                                  Traceback (most recent call last)",
            "\u001b[0;32m<ipython-input-16-0e78d77f4122>\u001b[0m in \u001b[0;36m<cell line: 9>\u001b[0;34m()\u001b[0m\n\u001b[1;32m      7\u001b[0m \u001b[0;31m# Replace the 2nd ... with the value from the table in Question 6\u001b[0m\u001b[0;34m\u001b[0m\u001b[0;34m\u001b[0m\u001b[0m\n\u001b[1;32m      8\u001b[0m \u001b[0;31m# Replace the 3rd ... with the response variable name\u001b[0m\u001b[0;34m\u001b[0m\u001b[0;34m\u001b[0m\u001b[0m\n\u001b[0;32m----> 9\u001b[0;31m \u001b[0mactual_dependent\u001b[0m \u001b[0;34m=\u001b[0m \u001b[0mdf\u001b[0m\u001b[0;34m[\u001b[0m\u001b[0mdf\u001b[0m\u001b[0;34m[\u001b[0m\u001b[0;34m'...'\u001b[0m\u001b[0;34m]\u001b[0m\u001b[0;34m==\u001b[0m \u001b[0;34m...\u001b[0m\u001b[0;34m]\u001b[0m\u001b[0;34m[\u001b[0m\u001b[0;34m'...'\u001b[0m\u001b[0;34m]\u001b[0m\u001b[0;34m\u001b[0m\u001b[0;34m\u001b[0m\u001b[0m\n\u001b[0m\u001b[1;32m     10\u001b[0m \u001b[0mactual\u001b[0m \u001b[0;34m=\u001b[0m \u001b[0mactual_dependent\u001b[0m\u001b[0;34m.\u001b[0m\u001b[0mvalues\u001b[0m\u001b[0;34m[\u001b[0m\u001b[0;36m0\u001b[0m\u001b[0;34m]\u001b[0m\u001b[0;34m\u001b[0m\u001b[0;34m\u001b[0m\u001b[0m\n\u001b[1;32m     11\u001b[0m \u001b[0mprint\u001b[0m\u001b[0;34m(\u001b[0m\u001b[0;34mf\"The actual value of the dependent variable is: {actual}\"\u001b[0m\u001b[0;34m)\u001b[0m\u001b[0;34m\u001b[0m\u001b[0;34m\u001b[0m\u001b[0m\n",
            "\u001b[0;32m/usr/local/lib/python3.10/dist-packages/pandas/core/frame.py\u001b[0m in \u001b[0;36m__getitem__\u001b[0;34m(self, key)\u001b[0m\n\u001b[1;32m   4100\u001b[0m             \u001b[0;32mif\u001b[0m \u001b[0mself\u001b[0m\u001b[0;34m.\u001b[0m\u001b[0mcolumns\u001b[0m\u001b[0;34m.\u001b[0m\u001b[0mnlevels\u001b[0m \u001b[0;34m>\u001b[0m \u001b[0;36m1\u001b[0m\u001b[0;34m:\u001b[0m\u001b[0;34m\u001b[0m\u001b[0;34m\u001b[0m\u001b[0m\n\u001b[1;32m   4101\u001b[0m                 \u001b[0;32mreturn\u001b[0m \u001b[0mself\u001b[0m\u001b[0;34m.\u001b[0m\u001b[0m_getitem_multilevel\u001b[0m\u001b[0;34m(\u001b[0m\u001b[0mkey\u001b[0m\u001b[0;34m)\u001b[0m\u001b[0;34m\u001b[0m\u001b[0;34m\u001b[0m\u001b[0m\n\u001b[0;32m-> 4102\u001b[0;31m             \u001b[0mindexer\u001b[0m \u001b[0;34m=\u001b[0m \u001b[0mself\u001b[0m\u001b[0;34m.\u001b[0m\u001b[0mcolumns\u001b[0m\u001b[0;34m.\u001b[0m\u001b[0mget_loc\u001b[0m\u001b[0;34m(\u001b[0m\u001b[0mkey\u001b[0m\u001b[0;34m)\u001b[0m\u001b[0;34m\u001b[0m\u001b[0;34m\u001b[0m\u001b[0m\n\u001b[0m\u001b[1;32m   4103\u001b[0m             \u001b[0;32mif\u001b[0m \u001b[0mis_integer\u001b[0m\u001b[0;34m(\u001b[0m\u001b[0mindexer\u001b[0m\u001b[0;34m)\u001b[0m\u001b[0;34m:\u001b[0m\u001b[0;34m\u001b[0m\u001b[0;34m\u001b[0m\u001b[0m\n\u001b[1;32m   4104\u001b[0m                 \u001b[0mindexer\u001b[0m \u001b[0;34m=\u001b[0m \u001b[0;34m[\u001b[0m\u001b[0mindexer\u001b[0m\u001b[0;34m]\u001b[0m\u001b[0;34m\u001b[0m\u001b[0;34m\u001b[0m\u001b[0m\n",
            "\u001b[0;32m/usr/local/lib/python3.10/dist-packages/pandas/core/indexes/base.py\u001b[0m in \u001b[0;36mget_loc\u001b[0;34m(self, key)\u001b[0m\n\u001b[1;32m   3810\u001b[0m             ):\n\u001b[1;32m   3811\u001b[0m                 \u001b[0;32mraise\u001b[0m \u001b[0mInvalidIndexError\u001b[0m\u001b[0;34m(\u001b[0m\u001b[0mkey\u001b[0m\u001b[0;34m)\u001b[0m\u001b[0;34m\u001b[0m\u001b[0;34m\u001b[0m\u001b[0m\n\u001b[0;32m-> 3812\u001b[0;31m             \u001b[0;32mraise\u001b[0m \u001b[0mKeyError\u001b[0m\u001b[0;34m(\u001b[0m\u001b[0mkey\u001b[0m\u001b[0;34m)\u001b[0m \u001b[0;32mfrom\u001b[0m \u001b[0merr\u001b[0m\u001b[0;34m\u001b[0m\u001b[0;34m\u001b[0m\u001b[0m\n\u001b[0m\u001b[1;32m   3813\u001b[0m         \u001b[0;32mexcept\u001b[0m \u001b[0mTypeError\u001b[0m\u001b[0;34m:\u001b[0m\u001b[0;34m\u001b[0m\u001b[0;34m\u001b[0m\u001b[0m\n\u001b[1;32m   3814\u001b[0m             \u001b[0;31m# If we have a listlike key, _check_indexing_error will raise\u001b[0m\u001b[0;34m\u001b[0m\u001b[0;34m\u001b[0m\u001b[0m\n",
            "\u001b[0;31mKeyError\u001b[0m: '...'"
          ]
        }
      ],
      "source": [
        "# Filter the datafram to find the row where your independent variable\n",
        "#   equals the value from the table in Question 6.\n",
        "\n",
        "# STUDENTS:\n",
        "# Replace the 1st ... with the explantory variable name\n",
        "# Replace the 2nd ... with the value from the table in Question 6\n",
        "# Replace the 3rd ... with the response variable name\n",
        "actual_dependent = df[df['...']== ...]['...']\n",
        "actual = actual_dependent.values[0]\n",
        "print(f\"The actual value of the dependent variable is: {actual}\")\n"
      ]
    },
    {
      "cell_type": "markdown",
      "source": [
        "**7.2)** Compare the predicted value of your dependent variable from Question 6 to the actual value from 7.1. Use the actual name of your dependent variable, as modeled in activity.\n"
      ],
      "metadata": {
        "id": "kkZ4dF--99LC"
      }
    },
    {
      "cell_type": "markdown",
      "source": [
        "# ..."
      ],
      "metadata": {
        "id": "i7tnZsWwCHul"
      }
    },
    {
      "cell_type": "markdown",
      "source": [
        "# **QUESTION 8**\n",
        "\n",
        "Generate a paragraph of at least 100 words to address one of the following questions. That is, answer only 8a or 8b, but not both.\n",
        "\n",
        "**8a)** Discuss how analyzing your chosen data set using statistical methods could help you become better prepared for future courses in your major?\n",
        "\n",
        "...\n",
        "\n",
        "--OR--\n",
        "\n",
        "**8b)** Discuss how analyzing your chosen data set using statistical methods could be instrumental in becoming better prepared for your future career?\n",
        "\n",
        "...\n"
      ],
      "metadata": {
        "id": "A4rsfgbp6r6H"
      }
    },
    {
      "cell_type": "markdown",
      "source": [
        "<br><br>\n",
        "### Once you are done and ready to submit, follow the instructions below to save as a PDF and submit to GradeScope.\n",
        "\n",
        "### Save as PDF\n",
        "Note 1: You do not have to select Print Preview. You can print directly from the notebook.\n",
        "Note 2: Image and graph sizes have been set so you should be able to see them correctly without making any changes to the browser width or the layout (portrait vs landscape).\n",
        "1. Run all code one last time and make sure your graphs can be seen.\n",
        "2. File -> Print (or ctrl-p/cmnd-p)\n",
        "3. Change the \"Desination\" to PDF.\n",
        "4. Save the PDF, taking note of where it is saved.\n",
        "\n",
        "### Submit to GradeScope\n",
        "**Watch the \"GradeScope Submission\" video for help.**\n",
        "1. Login to the Canvas course\n",
        "2. Click on GradeScope in the course navigation.\n",
        "3. If you see multiple courses in GradeScope, click on the STAT 108 course\n",
        "4. Click on the name of the assignment that matches your data set\n",
        "5. Click on \"Submit Work\", select PDF\n",
        "6. Select the PDF you just created\n",
        "7. You need to tell GradeScope which page each problem answer/output is on. You should see a list of problems on the left, and a display of pages (thumbnails) on the right. Assign pages to questions by clicking on the question number on the left, then clicking on all pages that question is on.\n",
        "8. After ALL questions have been assigned to their respective page(s), click \"Submit\"\n",
        "\n",
        "#### **Still need help? Your STAT 108 team is here to help. Take your laptop to office hours.**\n"
      ],
      "metadata": {
        "id": "KHSYrvqh66V6"
      }
    }
  ]
}