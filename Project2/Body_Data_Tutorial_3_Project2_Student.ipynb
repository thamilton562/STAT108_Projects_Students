{
  "nbformat": 4,
  "nbformat_minor": 0,
  "metadata": {
    "colab": {
      "provenance": []
    },
    "kernelspec": {
      "name": "python3",
      "display_name": "Python 3"
    },
    "language_info": {
      "name": "python"
    }
  },
  "cells": [
    {
      "cell_type": "markdown",
      "source": [
        "# **Body Data**"
      ],
      "metadata": {
        "id": "WOWuLyetinsJ"
      }
    },
    {
      "cell_type": "markdown",
      "source": [
        "# **Analyzing The Linear Relationship Between Two Quantitative Variables**\n"
      ],
      "metadata": {
        "id": "U7JAQ1iOyzty"
      }
    },
    {
      "cell_type": "markdown",
      "source": [
        "#### This tutorial is designed to help you complete Project 2, in which you will be exploring the linear relationship between two quantitative variables. In this tutorial you will learn how to\n",
        "\n",
        "  * construct a scatterplot\n",
        "  * compute and interpret the correlation coefficient;\n",
        "  * add the regression line to the scatterplot;\n",
        "  * calculate the prediction equation;\n",
        "  * interpret the slope and y-intercept;\n",
        "  * predict the value of the response variable for a given value of the explanatory variable; and\n",
        "  * look up a value from the dataset.\n"
      ],
      "metadata": {
        "id": "qrUyro_WFH7v"
      }
    },
    {
      "cell_type": "markdown",
      "source": [
        "# **Importing Necessary Python Modules**\n",
        "\n",
        "Python incorporates a variety of open source add-ins called **modules** that add extra features to the basic setup. The name of the modules is after the `import` statement, and the purpose is in a non-code comment after the hashtag (#).\n",
        "\n"
      ],
      "metadata": {
        "id": "AxPB-FE5lQIX"
      }
    },
    {
      "cell_type": "code",
      "source": [
        "import pandas as pd                 #Data analysis\n",
        "import numpy as np                  #Calculations\n",
        "import plotly.express as px         #Graphing\n",
        "#import matplotlib.pyplot as plt     #Graphing\n",
        "from IPython.display import Image   #Display images\n",
        "import statsmodels.api as sm        #Linear regression\n",
        "#import warnings                     #Ignore version warnings\n",
        "#warnings.simplefilter('ignore', FutureWarning)\n"
      ],
      "metadata": {
        "id": "DIbfBAiwmTlf"
      },
      "execution_count": null,
      "outputs": []
    },
    {
      "cell_type": "code",
      "source": [
        "# Replace 'image_url' with the URL of the image you want to display\n",
        "image_url = 'https://media.istockphoto.com/id/456054995/photo/dna-molecules-and-virtuvian-man.jpg?s=612x612&w=0&k=20&c=v5qZJ5Ty4RwDbyGRx_v-tYd1-LfTZwTi-Aend5Q_sqA='\n",
        "\n",
        "# Display the image\n",
        "Image(url=image_url)"
      ],
      "metadata": {
        "colab": {
          "base_uri": "https://localhost:8080/",
          "height": 429
        },
        "id": "zEZJc7AED4wy",
        "outputId": "2f396f8f-40e4-4810-9e39-bb7d167db756"
      },
      "execution_count": null,
      "outputs": [
        {
          "output_type": "execute_result",
          "data": {
            "text/html": [
              "<img src=\"https://media.istockphoto.com/id/456054995/photo/dna-molecules-and-virtuvian-man.jpg?s=612x612&w=0&k=20&c=v5qZJ5Ty4RwDbyGRx_v-tYd1-LfTZwTi-Aend5Q_sqA=\"/>"
            ],
            "text/plain": [
              "<IPython.core.display.Image object>"
            ]
          },
          "metadata": {},
          "execution_count": 2
        }
      ]
    },
    {
      "cell_type": "markdown",
      "source": [
        "# **Context**\n",
        "\n",
        "The National Center for Health Statistics (NCHS) offers downloadable public-use data files through the Centers for Disease Control and Prevention's (CDC) FTP file server. Users of this service have access to data sets, documentation, and questionnaires from NCHS surveys and data collection systems.\n",
        "\n",
        "Public-use data files are prepared and disseminated to provide access to the full scope of the data. This allows researchers to manipulate the data in a format appropriate for their analyses. NCHS makes every effort to release data collected through its surveys and data systems in a timely manner.\n",
        "\n",
        "More information can be found at https://www.cdc.gov/nchs/data_access/ftp_data.htm.\n"
      ],
      "metadata": {
        "id": "XJjnfq1hitm8"
      }
    },
    {
      "cell_type": "markdown",
      "source": [
        "# **About the Dataset**\n",
        "\n",
        "This dataset contains 301 rows corresponding to a sample of Americans. A total of 16 variables are provided as listed below:"
      ],
      "metadata": {
        "id": "bQfu7EYxi7Md"
      }
    },
    {
      "cell_type": "markdown",
      "metadata": {
        "id": "XusIoTTPjC87"
      },
      "source": [
        "**Variables**\n",
        "\n",
        "| Column     | Description                                                                 |\n",
        "|------------|-----------------------------------------------------------------------------|\n",
        "| AGE        | Age in years|\n",
        "| GENDER     | Gender: 0=female, 1=male|\n",
        "| PULSE      | Pulse rate in beats per minute (bpm)|\n",
        "| SYSTOLIC   | Systolic blood pressure (mm Hg)|\n",
        "| DIASTOLIC  | Diastolic blood pressure (mm Hg)|\n",
        "| CATEGORY   | Blood Pressure Category based on the table below from the American Heart Association|\n",
        "| HDL        | HDL cholesterol (mg/dL)|\n",
        "| LDL        | LDL cholesterol (mg/dL)|\n",
        "| WHITE      | White blood cell count (1000 cells/µL) |\n",
        "| RED        | Red blood cell count (million cells/µL)|\n",
        "| PLATE      | Platelet count (1000 cells/µL)|\n",
        "| WEIGHT     | Weight (kg)|\n",
        "| HEIGHT     | Height (cm)|\n",
        "| WAIST      | Waist circumference (cm)|\n",
        "| ARM CIRC   | Arm circumference (cm)|\n",
        "| BMI        | Body mass index (kg/m²)|"
      ]
    },
    {
      "cell_type": "markdown",
      "source": [
        "# **Blood Pressure Category Table**\n",
        "\n",
        "The table below from the American Heart Association classifies blood pressure into five (5) categories based on a combination of the individual's systolic and diastolic blood pressure."
      ],
      "metadata": {
        "id": "K6Ec7iTdr-ry"
      }
    },
    {
      "cell_type": "code",
      "execution_count": null,
      "metadata": {
        "colab": {
          "base_uri": "https://localhost:8080/",
          "height": 391
        },
        "outputId": "913c3116-fdfa-43d3-cd8c-13665a329bee",
        "id": "M58NT0yaoQxP"
      },
      "outputs": [
        {
          "output_type": "execute_result",
          "data": {
            "text/html": [
              "<img src=\"https://www.heart.org/-/media/Images/Health-Topics/High-Blood-Pressure/Rainbow-Chart/blood-pressure-readings-chart.jpg?h=294&iar=0&mw=440&w=440&sc_lang=en\"/>"
            ],
            "text/plain": [
              "<IPython.core.display.Image object>"
            ]
          },
          "metadata": {},
          "execution_count": 3
        }
      ],
      "source": [
        "# Replace 'image_url' with the URL of the image you want to display\n",
        "image_url = 'https://www.heart.org/-/media/Images/Health-Topics/High-Blood-Pressure/Rainbow-Chart/blood-pressure-readings-chart.jpg?h=294&iar=0&mw=440&w=440&sc_lang=en'\n",
        "\n",
        "# Display the image\n",
        "Image(url=image_url)\n"
      ]
    },
    {
      "cell_type": "markdown",
      "metadata": {
        "id": "DbJUgXG2EzTd"
      },
      "source": [
        "# **A Snippet of the Data**\n",
        "\n",
        "We can view a snippet of the data by first importing it directly from the url below.\n"
      ]
    },
    {
      "cell_type": "code",
      "source": [
        "# Assign the name of the web address to 'url'\n",
        "url=\"https://raw.githubusercontent.com/thamilton562/STAT108_Projects_Students/main/Project1/Body%20Data.csv\"\n",
        "\n",
        "# df stands for data frame, which is what the raw data is referred as.\n",
        "# This code reads in the data file from the address specified in 'url'\n",
        "df=pd.read_csv(url)"
      ],
      "metadata": {
        "id": "TH9hHi05Rlxt"
      },
      "execution_count": null,
      "outputs": []
    },
    {
      "cell_type": "markdown",
      "source": [
        "Next, we can display the data by *typing the name* of the DataFrame. To ensure we can see all columns, we'll use the *pd.set_option* method."
      ],
      "metadata": {
        "id": "cj8T9vdrimYo"
      }
    },
    {
      "cell_type": "code",
      "source": [
        "# Set display options to show all columns\n",
        "pd.set_option('display.max_columns', None)\n",
        "df"
      ],
      "metadata": {
        "colab": {
          "base_uri": "https://localhost:8080/",
          "height": 510
        },
        "id": "YT5tP1d8pQli",
        "outputId": "b3937a55-427e-4b61-b2e3-0fbf6f0f8f6d"
      },
      "execution_count": null,
      "outputs": [
        {
          "output_type": "execute_result",
          "data": {
            "text/plain": [
              "     AGE  GENDER (1=M)  PULSE  SYSTOLIC  DIASTOLIC              CATEGORY  HDL  \\\n",
              "0     43             0     80       100         70                NORMAL   73   \n",
              "1     38             0     94       134         94  HYPERTENSION STAGE 2   36   \n",
              "2     69             0     58       138         80  HYPERTENSION STAGE 1   40   \n",
              "3     44             0     66       114         66                NORMAL   45   \n",
              "4     72             0     56       110         72                NORMAL   53   \n",
              "..   ...           ...    ...       ...        ...                   ...  ...   \n",
              "295   18             1     72       106         44                NORMAL   40   \n",
              "296   67             1     62       136         82  HYPERTENSION STAGE 1   39   \n",
              "297   24             1     94        96         62                NORMAL   43   \n",
              "298   53             1     86       132         74  HYPERTENSION STAGE 1   42   \n",
              "299   31             1     90       104         70                NORMAL   64   \n",
              "\n",
              "     LDL  WHITE   RED  PLATE  WEIGHT  HEIGHT  WAIST  ARM CIRC   BMI  \n",
              "0     68    8.7  4.80    319    98.6   172.0  120.4      40.7  33.3  \n",
              "1    223    6.9  4.47    297   108.2   154.4  120.3      44.3  45.4  \n",
              "2    140    8.1  4.60    286    79.2   155.7  103.5      34.2  32.7  \n",
              "3    136    8.0  4.09    263    64.2   157.6   89.7      32.5  25.8  \n",
              "4    102    6.9  4.15    215    98.2   168.6  115.3      38.5  34.5  \n",
              "..   ...    ...   ...    ...     ...     ...    ...       ...   ...  \n",
              "295  124    4.0  5.17    221    71.6   172.8   78.1      31.0  24.0  \n",
              "296   62    7.7  3.90    305   110.2   169.1  125.5      39.0  38.5  \n",
              "297  102    7.0  5.29    260    56.3   162.7   78.4      27.9  21.3  \n",
              "298  112    8.4  4.07     75   102.6   181.0  117.7      36.5  31.3  \n",
              "299  112    6.0  5.07    197    56.4   165.4   74.0      26.5  20.6  \n",
              "\n",
              "[300 rows x 16 columns]"
            ],
            "text/html": [
              "\n",
              "  <div id=\"df-1ab33d00-c43c-454b-bee2-9a8c13b16c4d\" class=\"colab-df-container\">\n",
              "    <div>\n",
              "<style scoped>\n",
              "    .dataframe tbody tr th:only-of-type {\n",
              "        vertical-align: middle;\n",
              "    }\n",
              "\n",
              "    .dataframe tbody tr th {\n",
              "        vertical-align: top;\n",
              "    }\n",
              "\n",
              "    .dataframe thead th {\n",
              "        text-align: right;\n",
              "    }\n",
              "</style>\n",
              "<table border=\"1\" class=\"dataframe\">\n",
              "  <thead>\n",
              "    <tr style=\"text-align: right;\">\n",
              "      <th></th>\n",
              "      <th>AGE</th>\n",
              "      <th>GENDER (1=M)</th>\n",
              "      <th>PULSE</th>\n",
              "      <th>SYSTOLIC</th>\n",
              "      <th>DIASTOLIC</th>\n",
              "      <th>CATEGORY</th>\n",
              "      <th>HDL</th>\n",
              "      <th>LDL</th>\n",
              "      <th>WHITE</th>\n",
              "      <th>RED</th>\n",
              "      <th>PLATE</th>\n",
              "      <th>WEIGHT</th>\n",
              "      <th>HEIGHT</th>\n",
              "      <th>WAIST</th>\n",
              "      <th>ARM CIRC</th>\n",
              "      <th>BMI</th>\n",
              "    </tr>\n",
              "  </thead>\n",
              "  <tbody>\n",
              "    <tr>\n",
              "      <th>0</th>\n",
              "      <td>43</td>\n",
              "      <td>0</td>\n",
              "      <td>80</td>\n",
              "      <td>100</td>\n",
              "      <td>70</td>\n",
              "      <td>NORMAL</td>\n",
              "      <td>73</td>\n",
              "      <td>68</td>\n",
              "      <td>8.7</td>\n",
              "      <td>4.80</td>\n",
              "      <td>319</td>\n",
              "      <td>98.6</td>\n",
              "      <td>172.0</td>\n",
              "      <td>120.4</td>\n",
              "      <td>40.7</td>\n",
              "      <td>33.3</td>\n",
              "    </tr>\n",
              "    <tr>\n",
              "      <th>1</th>\n",
              "      <td>38</td>\n",
              "      <td>0</td>\n",
              "      <td>94</td>\n",
              "      <td>134</td>\n",
              "      <td>94</td>\n",
              "      <td>HYPERTENSION STAGE 2</td>\n",
              "      <td>36</td>\n",
              "      <td>223</td>\n",
              "      <td>6.9</td>\n",
              "      <td>4.47</td>\n",
              "      <td>297</td>\n",
              "      <td>108.2</td>\n",
              "      <td>154.4</td>\n",
              "      <td>120.3</td>\n",
              "      <td>44.3</td>\n",
              "      <td>45.4</td>\n",
              "    </tr>\n",
              "    <tr>\n",
              "      <th>2</th>\n",
              "      <td>69</td>\n",
              "      <td>0</td>\n",
              "      <td>58</td>\n",
              "      <td>138</td>\n",
              "      <td>80</td>\n",
              "      <td>HYPERTENSION STAGE 1</td>\n",
              "      <td>40</td>\n",
              "      <td>140</td>\n",
              "      <td>8.1</td>\n",
              "      <td>4.60</td>\n",
              "      <td>286</td>\n",
              "      <td>79.2</td>\n",
              "      <td>155.7</td>\n",
              "      <td>103.5</td>\n",
              "      <td>34.2</td>\n",
              "      <td>32.7</td>\n",
              "    </tr>\n",
              "    <tr>\n",
              "      <th>3</th>\n",
              "      <td>44</td>\n",
              "      <td>0</td>\n",
              "      <td>66</td>\n",
              "      <td>114</td>\n",
              "      <td>66</td>\n",
              "      <td>NORMAL</td>\n",
              "      <td>45</td>\n",
              "      <td>136</td>\n",
              "      <td>8.0</td>\n",
              "      <td>4.09</td>\n",
              "      <td>263</td>\n",
              "      <td>64.2</td>\n",
              "      <td>157.6</td>\n",
              "      <td>89.7</td>\n",
              "      <td>32.5</td>\n",
              "      <td>25.8</td>\n",
              "    </tr>\n",
              "    <tr>\n",
              "      <th>4</th>\n",
              "      <td>72</td>\n",
              "      <td>0</td>\n",
              "      <td>56</td>\n",
              "      <td>110</td>\n",
              "      <td>72</td>\n",
              "      <td>NORMAL</td>\n",
              "      <td>53</td>\n",
              "      <td>102</td>\n",
              "      <td>6.9</td>\n",
              "      <td>4.15</td>\n",
              "      <td>215</td>\n",
              "      <td>98.2</td>\n",
              "      <td>168.6</td>\n",
              "      <td>115.3</td>\n",
              "      <td>38.5</td>\n",
              "      <td>34.5</td>\n",
              "    </tr>\n",
              "    <tr>\n",
              "      <th>...</th>\n",
              "      <td>...</td>\n",
              "      <td>...</td>\n",
              "      <td>...</td>\n",
              "      <td>...</td>\n",
              "      <td>...</td>\n",
              "      <td>...</td>\n",
              "      <td>...</td>\n",
              "      <td>...</td>\n",
              "      <td>...</td>\n",
              "      <td>...</td>\n",
              "      <td>...</td>\n",
              "      <td>...</td>\n",
              "      <td>...</td>\n",
              "      <td>...</td>\n",
              "      <td>...</td>\n",
              "      <td>...</td>\n",
              "    </tr>\n",
              "    <tr>\n",
              "      <th>295</th>\n",
              "      <td>18</td>\n",
              "      <td>1</td>\n",
              "      <td>72</td>\n",
              "      <td>106</td>\n",
              "      <td>44</td>\n",
              "      <td>NORMAL</td>\n",
              "      <td>40</td>\n",
              "      <td>124</td>\n",
              "      <td>4.0</td>\n",
              "      <td>5.17</td>\n",
              "      <td>221</td>\n",
              "      <td>71.6</td>\n",
              "      <td>172.8</td>\n",
              "      <td>78.1</td>\n",
              "      <td>31.0</td>\n",
              "      <td>24.0</td>\n",
              "    </tr>\n",
              "    <tr>\n",
              "      <th>296</th>\n",
              "      <td>67</td>\n",
              "      <td>1</td>\n",
              "      <td>62</td>\n",
              "      <td>136</td>\n",
              "      <td>82</td>\n",
              "      <td>HYPERTENSION STAGE 1</td>\n",
              "      <td>39</td>\n",
              "      <td>62</td>\n",
              "      <td>7.7</td>\n",
              "      <td>3.90</td>\n",
              "      <td>305</td>\n",
              "      <td>110.2</td>\n",
              "      <td>169.1</td>\n",
              "      <td>125.5</td>\n",
              "      <td>39.0</td>\n",
              "      <td>38.5</td>\n",
              "    </tr>\n",
              "    <tr>\n",
              "      <th>297</th>\n",
              "      <td>24</td>\n",
              "      <td>1</td>\n",
              "      <td>94</td>\n",
              "      <td>96</td>\n",
              "      <td>62</td>\n",
              "      <td>NORMAL</td>\n",
              "      <td>43</td>\n",
              "      <td>102</td>\n",
              "      <td>7.0</td>\n",
              "      <td>5.29</td>\n",
              "      <td>260</td>\n",
              "      <td>56.3</td>\n",
              "      <td>162.7</td>\n",
              "      <td>78.4</td>\n",
              "      <td>27.9</td>\n",
              "      <td>21.3</td>\n",
              "    </tr>\n",
              "    <tr>\n",
              "      <th>298</th>\n",
              "      <td>53</td>\n",
              "      <td>1</td>\n",
              "      <td>86</td>\n",
              "      <td>132</td>\n",
              "      <td>74</td>\n",
              "      <td>HYPERTENSION STAGE 1</td>\n",
              "      <td>42</td>\n",
              "      <td>112</td>\n",
              "      <td>8.4</td>\n",
              "      <td>4.07</td>\n",
              "      <td>75</td>\n",
              "      <td>102.6</td>\n",
              "      <td>181.0</td>\n",
              "      <td>117.7</td>\n",
              "      <td>36.5</td>\n",
              "      <td>31.3</td>\n",
              "    </tr>\n",
              "    <tr>\n",
              "      <th>299</th>\n",
              "      <td>31</td>\n",
              "      <td>1</td>\n",
              "      <td>90</td>\n",
              "      <td>104</td>\n",
              "      <td>70</td>\n",
              "      <td>NORMAL</td>\n",
              "      <td>64</td>\n",
              "      <td>112</td>\n",
              "      <td>6.0</td>\n",
              "      <td>5.07</td>\n",
              "      <td>197</td>\n",
              "      <td>56.4</td>\n",
              "      <td>165.4</td>\n",
              "      <td>74.0</td>\n",
              "      <td>26.5</td>\n",
              "      <td>20.6</td>\n",
              "    </tr>\n",
              "  </tbody>\n",
              "</table>\n",
              "<p>300 rows × 16 columns</p>\n",
              "</div>\n",
              "    <div class=\"colab-df-buttons\">\n",
              "\n",
              "  <div class=\"colab-df-container\">\n",
              "    <button class=\"colab-df-convert\" onclick=\"convertToInteractive('df-1ab33d00-c43c-454b-bee2-9a8c13b16c4d')\"\n",
              "            title=\"Convert this dataframe to an interactive table.\"\n",
              "            style=\"display:none;\">\n",
              "\n",
              "  <svg xmlns=\"http://www.w3.org/2000/svg\" height=\"24px\" viewBox=\"0 -960 960 960\">\n",
              "    <path d=\"M120-120v-720h720v720H120Zm60-500h600v-160H180v160Zm220 220h160v-160H400v160Zm0 220h160v-160H400v160ZM180-400h160v-160H180v160Zm440 0h160v-160H620v160ZM180-180h160v-160H180v160Zm440 0h160v-160H620v160Z\"/>\n",
              "  </svg>\n",
              "    </button>\n",
              "\n",
              "  <style>\n",
              "    .colab-df-container {\n",
              "      display:flex;\n",
              "      gap: 12px;\n",
              "    }\n",
              "\n",
              "    .colab-df-convert {\n",
              "      background-color: #E8F0FE;\n",
              "      border: none;\n",
              "      border-radius: 50%;\n",
              "      cursor: pointer;\n",
              "      display: none;\n",
              "      fill: #1967D2;\n",
              "      height: 32px;\n",
              "      padding: 0 0 0 0;\n",
              "      width: 32px;\n",
              "    }\n",
              "\n",
              "    .colab-df-convert:hover {\n",
              "      background-color: #E2EBFA;\n",
              "      box-shadow: 0px 1px 2px rgba(60, 64, 67, 0.3), 0px 1px 3px 1px rgba(60, 64, 67, 0.15);\n",
              "      fill: #174EA6;\n",
              "    }\n",
              "\n",
              "    .colab-df-buttons div {\n",
              "      margin-bottom: 4px;\n",
              "    }\n",
              "\n",
              "    [theme=dark] .colab-df-convert {\n",
              "      background-color: #3B4455;\n",
              "      fill: #D2E3FC;\n",
              "    }\n",
              "\n",
              "    [theme=dark] .colab-df-convert:hover {\n",
              "      background-color: #434B5C;\n",
              "      box-shadow: 0px 1px 3px 1px rgba(0, 0, 0, 0.15);\n",
              "      filter: drop-shadow(0px 1px 2px rgba(0, 0, 0, 0.3));\n",
              "      fill: #FFFFFF;\n",
              "    }\n",
              "  </style>\n",
              "\n",
              "    <script>\n",
              "      const buttonEl =\n",
              "        document.querySelector('#df-1ab33d00-c43c-454b-bee2-9a8c13b16c4d button.colab-df-convert');\n",
              "      buttonEl.style.display =\n",
              "        google.colab.kernel.accessAllowed ? 'block' : 'none';\n",
              "\n",
              "      async function convertToInteractive(key) {\n",
              "        const element = document.querySelector('#df-1ab33d00-c43c-454b-bee2-9a8c13b16c4d');\n",
              "        const dataTable =\n",
              "          await google.colab.kernel.invokeFunction('convertToInteractive',\n",
              "                                                    [key], {});\n",
              "        if (!dataTable) return;\n",
              "\n",
              "        const docLinkHtml = 'Like what you see? Visit the ' +\n",
              "          '<a target=\"_blank\" href=https://colab.research.google.com/notebooks/data_table.ipynb>data table notebook</a>'\n",
              "          + ' to learn more about interactive tables.';\n",
              "        element.innerHTML = '';\n",
              "        dataTable['output_type'] = 'display_data';\n",
              "        await google.colab.output.renderOutput(dataTable, element);\n",
              "        const docLink = document.createElement('div');\n",
              "        docLink.innerHTML = docLinkHtml;\n",
              "        element.appendChild(docLink);\n",
              "      }\n",
              "    </script>\n",
              "  </div>\n",
              "\n",
              "\n",
              "<div id=\"df-5370ebb6-b3f3-4887-a9a2-fe8020779ef5\">\n",
              "  <button class=\"colab-df-quickchart\" onclick=\"quickchart('df-5370ebb6-b3f3-4887-a9a2-fe8020779ef5')\"\n",
              "            title=\"Suggest charts\"\n",
              "            style=\"display:none;\">\n",
              "\n",
              "<svg xmlns=\"http://www.w3.org/2000/svg\" height=\"24px\"viewBox=\"0 0 24 24\"\n",
              "     width=\"24px\">\n",
              "    <g>\n",
              "        <path d=\"M19 3H5c-1.1 0-2 .9-2 2v14c0 1.1.9 2 2 2h14c1.1 0 2-.9 2-2V5c0-1.1-.9-2-2-2zM9 17H7v-7h2v7zm4 0h-2V7h2v10zm4 0h-2v-4h2v4z\"/>\n",
              "    </g>\n",
              "</svg>\n",
              "  </button>\n",
              "\n",
              "<style>\n",
              "  .colab-df-quickchart {\n",
              "      --bg-color: #E8F0FE;\n",
              "      --fill-color: #1967D2;\n",
              "      --hover-bg-color: #E2EBFA;\n",
              "      --hover-fill-color: #174EA6;\n",
              "      --disabled-fill-color: #AAA;\n",
              "      --disabled-bg-color: #DDD;\n",
              "  }\n",
              "\n",
              "  [theme=dark] .colab-df-quickchart {\n",
              "      --bg-color: #3B4455;\n",
              "      --fill-color: #D2E3FC;\n",
              "      --hover-bg-color: #434B5C;\n",
              "      --hover-fill-color: #FFFFFF;\n",
              "      --disabled-bg-color: #3B4455;\n",
              "      --disabled-fill-color: #666;\n",
              "  }\n",
              "\n",
              "  .colab-df-quickchart {\n",
              "    background-color: var(--bg-color);\n",
              "    border: none;\n",
              "    border-radius: 50%;\n",
              "    cursor: pointer;\n",
              "    display: none;\n",
              "    fill: var(--fill-color);\n",
              "    height: 32px;\n",
              "    padding: 0;\n",
              "    width: 32px;\n",
              "  }\n",
              "\n",
              "  .colab-df-quickchart:hover {\n",
              "    background-color: var(--hover-bg-color);\n",
              "    box-shadow: 0 1px 2px rgba(60, 64, 67, 0.3), 0 1px 3px 1px rgba(60, 64, 67, 0.15);\n",
              "    fill: var(--button-hover-fill-color);\n",
              "  }\n",
              "\n",
              "  .colab-df-quickchart-complete:disabled,\n",
              "  .colab-df-quickchart-complete:disabled:hover {\n",
              "    background-color: var(--disabled-bg-color);\n",
              "    fill: var(--disabled-fill-color);\n",
              "    box-shadow: none;\n",
              "  }\n",
              "\n",
              "  .colab-df-spinner {\n",
              "    border: 2px solid var(--fill-color);\n",
              "    border-color: transparent;\n",
              "    border-bottom-color: var(--fill-color);\n",
              "    animation:\n",
              "      spin 1s steps(1) infinite;\n",
              "  }\n",
              "\n",
              "  @keyframes spin {\n",
              "    0% {\n",
              "      border-color: transparent;\n",
              "      border-bottom-color: var(--fill-color);\n",
              "      border-left-color: var(--fill-color);\n",
              "    }\n",
              "    20% {\n",
              "      border-color: transparent;\n",
              "      border-left-color: var(--fill-color);\n",
              "      border-top-color: var(--fill-color);\n",
              "    }\n",
              "    30% {\n",
              "      border-color: transparent;\n",
              "      border-left-color: var(--fill-color);\n",
              "      border-top-color: var(--fill-color);\n",
              "      border-right-color: var(--fill-color);\n",
              "    }\n",
              "    40% {\n",
              "      border-color: transparent;\n",
              "      border-right-color: var(--fill-color);\n",
              "      border-top-color: var(--fill-color);\n",
              "    }\n",
              "    60% {\n",
              "      border-color: transparent;\n",
              "      border-right-color: var(--fill-color);\n",
              "    }\n",
              "    80% {\n",
              "      border-color: transparent;\n",
              "      border-right-color: var(--fill-color);\n",
              "      border-bottom-color: var(--fill-color);\n",
              "    }\n",
              "    90% {\n",
              "      border-color: transparent;\n",
              "      border-bottom-color: var(--fill-color);\n",
              "    }\n",
              "  }\n",
              "</style>\n",
              "\n",
              "  <script>\n",
              "    async function quickchart(key) {\n",
              "      const quickchartButtonEl =\n",
              "        document.querySelector('#' + key + ' button');\n",
              "      quickchartButtonEl.disabled = true;  // To prevent multiple clicks.\n",
              "      quickchartButtonEl.classList.add('colab-df-spinner');\n",
              "      try {\n",
              "        const charts = await google.colab.kernel.invokeFunction(\n",
              "            'suggestCharts', [key], {});\n",
              "      } catch (error) {\n",
              "        console.error('Error during call to suggestCharts:', error);\n",
              "      }\n",
              "      quickchartButtonEl.classList.remove('colab-df-spinner');\n",
              "      quickchartButtonEl.classList.add('colab-df-quickchart-complete');\n",
              "    }\n",
              "    (() => {\n",
              "      let quickchartButtonEl =\n",
              "        document.querySelector('#df-5370ebb6-b3f3-4887-a9a2-fe8020779ef5 button');\n",
              "      quickchartButtonEl.style.display =\n",
              "        google.colab.kernel.accessAllowed ? 'block' : 'none';\n",
              "    })();\n",
              "  </script>\n",
              "</div>\n",
              "\n",
              "  <div id=\"id_a6ff1d77-080c-46d0-859c-8b3d41cc2365\">\n",
              "    <style>\n",
              "      .colab-df-generate {\n",
              "        background-color: #E8F0FE;\n",
              "        border: none;\n",
              "        border-radius: 50%;\n",
              "        cursor: pointer;\n",
              "        display: none;\n",
              "        fill: #1967D2;\n",
              "        height: 32px;\n",
              "        padding: 0 0 0 0;\n",
              "        width: 32px;\n",
              "      }\n",
              "\n",
              "      .colab-df-generate:hover {\n",
              "        background-color: #E2EBFA;\n",
              "        box-shadow: 0px 1px 2px rgba(60, 64, 67, 0.3), 0px 1px 3px 1px rgba(60, 64, 67, 0.15);\n",
              "        fill: #174EA6;\n",
              "      }\n",
              "\n",
              "      [theme=dark] .colab-df-generate {\n",
              "        background-color: #3B4455;\n",
              "        fill: #D2E3FC;\n",
              "      }\n",
              "\n",
              "      [theme=dark] .colab-df-generate:hover {\n",
              "        background-color: #434B5C;\n",
              "        box-shadow: 0px 1px 3px 1px rgba(0, 0, 0, 0.15);\n",
              "        filter: drop-shadow(0px 1px 2px rgba(0, 0, 0, 0.3));\n",
              "        fill: #FFFFFF;\n",
              "      }\n",
              "    </style>\n",
              "    <button class=\"colab-df-generate\" onclick=\"generateWithVariable('df')\"\n",
              "            title=\"Generate code using this dataframe.\"\n",
              "            style=\"display:none;\">\n",
              "\n",
              "  <svg xmlns=\"http://www.w3.org/2000/svg\" height=\"24px\"viewBox=\"0 0 24 24\"\n",
              "       width=\"24px\">\n",
              "    <path d=\"M7,19H8.4L18.45,9,17,7.55,7,17.6ZM5,21V16.75L18.45,3.32a2,2,0,0,1,2.83,0l1.4,1.43a1.91,1.91,0,0,1,.58,1.4,1.91,1.91,0,0,1-.58,1.4L9.25,21ZM18.45,9,17,7.55Zm-12,3A5.31,5.31,0,0,0,4.9,8.1,5.31,5.31,0,0,0,1,6.5,5.31,5.31,0,0,0,4.9,4.9,5.31,5.31,0,0,0,6.5,1,5.31,5.31,0,0,0,8.1,4.9,5.31,5.31,0,0,0,12,6.5,5.46,5.46,0,0,0,6.5,12Z\"/>\n",
              "  </svg>\n",
              "    </button>\n",
              "    <script>\n",
              "      (() => {\n",
              "      const buttonEl =\n",
              "        document.querySelector('#id_a6ff1d77-080c-46d0-859c-8b3d41cc2365 button.colab-df-generate');\n",
              "      buttonEl.style.display =\n",
              "        google.colab.kernel.accessAllowed ? 'block' : 'none';\n",
              "\n",
              "      buttonEl.onclick = () => {\n",
              "        google.colab.notebook.generateWithVariable('df');\n",
              "      }\n",
              "      })();\n",
              "    </script>\n",
              "  </div>\n",
              "\n",
              "    </div>\n",
              "  </div>\n"
            ],
            "application/vnd.google.colaboratory.intrinsic+json": {
              "type": "dataframe",
              "variable_name": "df",
              "summary": "{\n  \"name\": \"df\",\n  \"rows\": 300,\n  \"fields\": [\n    {\n      \"column\": \"AGE\",\n      \"properties\": {\n        \"dtype\": \"number\",\n        \"std\": 18,\n        \"min\": 18,\n        \"max\": 80,\n        \"num_unique_values\": 61,\n        \"samples\": [\n          43,\n          37,\n          27\n        ],\n        \"semantic_type\": \"\",\n        \"description\": \"\"\n      }\n    },\n    {\n      \"column\": \"GENDER (1=M)\",\n      \"properties\": {\n        \"dtype\": \"number\",\n        \"std\": 0,\n        \"min\": 0,\n        \"max\": 1,\n        \"num_unique_values\": 2,\n        \"samples\": [\n          1,\n          0\n        ],\n        \"semantic_type\": \"\",\n        \"description\": \"\"\n      }\n    },\n    {\n      \"column\": \"PULSE\",\n      \"properties\": {\n        \"dtype\": \"number\",\n        \"std\": 12,\n        \"min\": 36,\n        \"max\": 104,\n        \"num_unique_values\": 32,\n        \"samples\": [\n          40,\n          74\n        ],\n        \"semantic_type\": \"\",\n        \"description\": \"\"\n      }\n    },\n    {\n      \"column\": \"SYSTOLIC\",\n      \"properties\": {\n        \"dtype\": \"number\",\n        \"std\": 15,\n        \"min\": 88,\n        \"max\": 186,\n        \"num_unique_values\": 39,\n        \"samples\": [\n          150,\n          162\n        ],\n        \"semantic_type\": \"\",\n        \"description\": \"\"\n      }\n    },\n    {\n      \"column\": \"DIASTOLIC\",\n      \"properties\": {\n        \"dtype\": \"number\",\n        \"std\": 11,\n        \"min\": 40,\n        \"max\": 102,\n        \"num_unique_values\": 31,\n        \"samples\": [\n          96,\n          90\n        ],\n        \"semantic_type\": \"\",\n        \"description\": \"\"\n      }\n    },\n    {\n      \"column\": \"CATEGORY\",\n      \"properties\": {\n        \"dtype\": \"category\",\n        \"num_unique_values\": 5,\n        \"samples\": [\n          \"HYPERTENSION STAGE 2\",\n          \"HYPERTENSIVE CRISIS\"\n        ],\n        \"semantic_type\": \"\",\n        \"description\": \"\"\n      }\n    },\n    {\n      \"column\": \"HDL\",\n      \"properties\": {\n        \"dtype\": \"number\",\n        \"std\": 15,\n        \"min\": 26,\n        \"max\": 138,\n        \"num_unique_values\": 65,\n        \"samples\": [\n          34,\n          113\n        ],\n        \"semantic_type\": \"\",\n        \"description\": \"\"\n      }\n    },\n    {\n      \"column\": \"LDL\",\n      \"properties\": {\n        \"dtype\": \"number\",\n        \"std\": 35,\n        \"min\": 39,\n        \"max\": 251,\n        \"num_unique_values\": 128,\n        \"samples\": [\n          162,\n          137\n        ],\n        \"semantic_type\": \"\",\n        \"description\": \"\"\n      }\n    },\n    {\n      \"column\": \"WHITE\",\n      \"properties\": {\n        \"dtype\": \"number\",\n        \"std\": 1.9100091637408803,\n        \"min\": 2.7,\n        \"max\": 14.3,\n        \"num_unique_values\": 82,\n        \"samples\": [\n          8.4,\n          8.7\n        ],\n        \"semantic_type\": \"\",\n        \"description\": \"\"\n      }\n    },\n    {\n      \"column\": \"RED\",\n      \"properties\": {\n        \"dtype\": \"number\",\n        \"std\": 0.48460998236269764,\n        \"min\": 3.39,\n        \"max\": 6.34,\n        \"num_unique_values\": 146,\n        \"samples\": [\n          4.18,\n          5.08\n        ],\n        \"semantic_type\": \"\",\n        \"description\": \"\"\n      }\n    },\n    {\n      \"column\": \"PLATE\",\n      \"properties\": {\n        \"dtype\": \"number\",\n        \"std\": 64,\n        \"min\": 75,\n        \"max\": 646,\n        \"num_unique_values\": 166,\n        \"samples\": [\n          306,\n          256\n        ],\n        \"semantic_type\": \"\",\n        \"description\": \"\"\n      }\n    },\n    {\n      \"column\": \"WEIGHT\",\n      \"properties\": {\n        \"dtype\": \"number\",\n        \"std\": 19.675181552384373,\n        \"min\": 39.0,\n        \"max\": 150.4,\n        \"num_unique_values\": 249,\n        \"samples\": [\n          83.1,\n          76.1\n        ],\n        \"semantic_type\": \"\",\n        \"description\": \"\"\n      }\n    },\n    {\n      \"column\": \"HEIGHT\",\n      \"properties\": {\n        \"dtype\": \"number\",\n        \"std\": 9.579338476169722,\n        \"min\": 134.5,\n        \"max\": 193.3,\n        \"num_unique_values\": 204,\n        \"samples\": [\n          154.9,\n          155.6\n        ],\n        \"semantic_type\": \"\",\n        \"description\": \"\"\n      }\n    },\n    {\n      \"column\": \"WAIST\",\n      \"properties\": {\n        \"dtype\": \"number\",\n        \"std\": 16.477337143889482,\n        \"min\": 64.4,\n        \"max\": 170.5,\n        \"num_unique_values\": 224,\n        \"samples\": [\n          110.0,\n          80.4\n        ],\n        \"semantic_type\": \"\",\n        \"description\": \"\"\n      }\n    },\n    {\n      \"column\": \"ARM CIRC\",\n      \"properties\": {\n        \"dtype\": \"number\",\n        \"std\": 4.81503677584412,\n        \"min\": 20.5,\n        \"max\": 46.6,\n        \"num_unique_values\": 145,\n        \"samples\": [\n          24.0,\n          40.3\n        ],\n        \"semantic_type\": \"\",\n        \"description\": \"\"\n      }\n    },\n    {\n      \"column\": \"BMI\",\n      \"properties\": {\n        \"dtype\": \"number\",\n        \"std\": 6.74670348505647,\n        \"min\": 15.9,\n        \"max\": 59.0,\n        \"num_unique_values\": 169,\n        \"samples\": [\n          31.5,\n          34.2\n        ],\n        \"semantic_type\": \"\",\n        \"description\": \"\"\n      }\n    }\n  ]\n}"
            }
          },
          "metadata": {},
          "execution_count": 5
        }
      ]
    },
    {
      "cell_type": "markdown",
      "source": [
        "# **INSTRUCTIONS**\n",
        "\n",
        "* Use Python to analyze the data set and complete each of the following.\n",
        "* **Replace ellipsis (...)** with the relavent names or code.  \n",
        "* For problems that require a written response, **double click** the text box to start typing."
      ],
      "metadata": {
        "id": "VEm2KmlyzJGY"
      }
    },
    {
      "cell_type": "markdown",
      "source": [
        "# **Determine which variable is explanatory and which is response.**\n",
        "\n",
        "We want to predict a person's waist circumference when given their BMI. Which variable is the explanatory and which is the response variable?\n",
        "\n"
      ],
      "metadata": {
        "id": "xkEtDHs70CzZ"
      }
    },
    {
      "cell_type": "markdown",
      "source": [
        "\n",
        "Explanatory: ...\n",
        "\n",
        "Response: ..."
      ],
      "metadata": {
        "id": "7IJT3XU95gcE"
      }
    },
    {
      "cell_type": "markdown",
      "source": [
        "What do you think the direction (positive/negative) and strength (weak/moderate/strong) will be?"
      ],
      "metadata": {
        "id": "mPrSROvP5gMr"
      }
    },
    {
      "cell_type": "markdown",
      "source": [
        "# ..."
      ],
      "metadata": {
        "id": "aJcNyJAE5gAh"
      }
    },
    {
      "cell_type": "markdown",
      "source": [
        "# **Question 1**\n",
        "\n",
        "## **Scatterplot**\n",
        "\n",
        "**1.1)** Construct a scatterplot that could be used to show the relationship stated in Question 1."
      ],
      "metadata": {
        "id": "Juj3EjUnOtJm"
      }
    },
    {
      "cell_type": "code",
      "source": [
        "# Create a scatter plot using Plotly Express\n",
        "scatter_plot = px.scatter(df,\n",
        "                 x='...', #explanatory variable name\n",
        "                 y='...', #response variable name\n",
        "                 labels={'...': 'Body Mass Index', #updates axis labels\n",
        "                         '...': 'Waist Circumference'},\n",
        "                 title='Scatterplot of BMI vs Waist Circumference')\n",
        "\n",
        "# Updating layout: Students do not change anything in this block of code.\n",
        "scatter_plot.update_layout(\n",
        "    plot_bgcolor='rgba(255,255,255,1)',        # Sets the background color of the plot area to white with full opacity.\n",
        "    xaxis=dict(\n",
        "        showline=True,                         # Displays a line on the x-axis.\n",
        "        showgrid=False,                        # Hides the grid lines on the x-axis.\n",
        "        linecolor='black'                      # Sets the color of the x-axis line to black.\n",
        "    ),\n",
        "    yaxis=dict(\n",
        "        showline=True,                         # Displays a line on the y-axis.\n",
        "        showgrid=False,                        # Hides the grid lines on the y-axis.\n",
        "        linecolor='black'                      # Sets the color of the y-axis line to black.\n",
        "    ),\n",
        "    title={\n",
        "        'text': 'Scatter Plot of BMI vs Waist Circumference',   # Sets the title text.\n",
        "        'y': 0.9,                              # Positions the title 90% of the way up the plot.\n",
        "        'x': 0.5,                              # Centers the title horizontally.\n",
        "        'xanchor': 'center',                   # Anchors the title at its center on the x-axis.\n",
        "        'yanchor': 'top',                      # Anchors the title at the top on the y-axis.\n",
        "        'font': dict(\n",
        "            size=16                            # Sets the title font size to 16 (smaller than default).\n",
        "        ),\n",
        "    }\n",
        ")\n",
        "\n",
        "# Show the plot\n",
        "scatter_plot.show()"
      ],
      "metadata": {
        "id": "P4qIa7po3Sms",
        "colab": {
          "base_uri": "https://localhost:8080/",
          "height": 542
        },
        "outputId": "5a32f049-c3d4-47cf-83bb-49a88711d2d8"
      },
      "execution_count": null,
      "outputs": [
        {
          "output_type": "display_data",
          "data": {
            "text/html": [
              "<html>\n",
              "<head><meta charset=\"utf-8\" /></head>\n",
              "<body>\n",
              "    <div>            <script src=\"https://cdnjs.cloudflare.com/ajax/libs/mathjax/2.7.5/MathJax.js?config=TeX-AMS-MML_SVG\"></script><script type=\"text/javascript\">if (window.MathJax && window.MathJax.Hub && window.MathJax.Hub.Config) {window.MathJax.Hub.Config({SVG: {font: \"STIX-Web\"}});}</script>                <script type=\"text/javascript\">window.PlotlyConfig = {MathJaxConfig: 'local'};</script>\n",
              "        <script charset=\"utf-8\" src=\"https://cdn.plot.ly/plotly-2.35.2.min.js\"></script>                <div id=\"86e6ed68-2314-42c0-b2b0-a97f99aba8ac\" class=\"plotly-graph-div\" style=\"height:525px; width:100%;\"></div>            <script type=\"text/javascript\">                                    window.PLOTLYENV=window.PLOTLYENV || {};                                    if (document.getElementById(\"86e6ed68-2314-42c0-b2b0-a97f99aba8ac\")) {                    Plotly.newPlot(                        \"86e6ed68-2314-42c0-b2b0-a97f99aba8ac\",                        [{\"hovertemplate\":\"Body Mass Index=%{x}\\u003cbr\\u003eWaist Circumference=%{y}\\u003cextra\\u003e\\u003c\\u002fextra\\u003e\",\"legendgroup\":\"\",\"marker\":{\"color\":\"#636efa\",\"symbol\":\"circle\"},\"mode\":\"markers\",\"name\":\"\",\"orientation\":\"v\",\"showlegend\":false,\"x\":[33.3,45.4,32.7,25.8,34.5,19.3,29.9,31.4,21.0,33.6,24.5,29.3,24.6,23.2,19.4,38.9,21.0,33.3,27.3,21.6,27.1,20.0,30.4,26.1,30.8,15.9,36.7,31.8,19.7,59.0,28.5,24.6,25.0,34.2,29.0,45.0,23.9,40.2,34.7,23.5,20.7,32.4,30.2,37.2,29.4,26.5,30.5,20.0,29.4,31.1,28.9,36.9,29.1,31.6,21.9,34.6,27.5,21.6,25.8,25.7,26.2,21.5,29.4,34.6,24.4,24.2,45.9,23.3,25.1,35.2,25.0,28.9,35.4,18.7,32.9,33.4,38.6,24.6,40.2,28.7,24.1,18.7,27.3,37.1,22.9,29.8,21.9,31.1,19.8,36.6,37.3,37.8,33.4,39.2,20.7,30.1,24.8,56.8,33.1,25.9,32.4,47.2,18.9,28.8,24.5,23.3,41.1,26.7,22.3,52.6,33.3,22.5,30.3,31.4,47.0,38.4,31.0,28.0,23.6,19.8,34.8,23.3,23.4,26.0,25.2,43.6,23.3,21.9,40.8,26.1,32.7,25.6,33.1,23.0,30.3,23.8,24.5,21.4,45.5,25.5,26.6,28.9,29.4,27.0,20.1,48.0,36.5,28.0,28.4,25.9,31.1,20.1,36.5,25.8,37.4,26.1,27.4,28.5,30.8,31.2,26.7,21.6,27.4,29.1,31.8,24.8,25.5,28.3,33.5,29.8,43.2,28.1,37.0,36.5,23.1,20.2,29.6,24.9,19.9,25.8,26.0,33.7,23.4,32.7,26.8,18.1,21.3,23.9,25.2,22.8,29.7,31.2,44.2,29.3,31.6,35.0,27.1,29.6,26.8,29.2,27.6,26.2,30.7,33.9,31.5,26.4,37.7,29.1,22.7,28.8,25.2,35.0,26.6,30.9,25.6,24.7,24.8,17.9,43.7,30.8,24.2,24.0,22.0,24.7,32.5,24.5,26.8,30.5,22.9,32.2,25.2,25.3,24.7,31.7,22.6,26.1,30.6,33.3,27.6,25.5,22.8,26.5,29.2,29.2,22.0,33.9,45.9,24.5,35.0,26.6,22.6,28.4,40.0,24.8,25.9,30.1,25.2,28.0,36.2,27.3,39.9,20.3,24.4,24.4,23.4,29.8,27.5,30.2,28.9,31.9,30.3,17.0,31.2,31.9,19.2,31.8,32.4,34.2,30.9,26.4,21.6,24.7,31.0,33.2,21.2,27.4,29.9,31.1,25.6,22.2,27.7,28.8,23.5,19.0,27.6,24.0,38.5,21.3,31.3,20.6],\"xaxis\":\"x\",\"y\":[120.4,120.3,103.5,89.7,115.3,75.5,101.8,100.8,82.8,110.0,80.0,103.0,90.5,78.8,65.8,114.4,78.0,106.8,94.8,90.6,95.2,71.5,104.2,88.7,109.7,64.4,133.5,112.1,70.2,144.4,95.7,87.4,77.7,100.9,93.4,125.9,86.7,129.3,102.8,85.3,79.6,111.6,90.8,108.9,107.7,96.0,111.7,80.6,102.4,96.7,95.4,104.5,97.2,114.5,80.7,95.4,88.6,85.7,90.9,89.0,77.8,77.9,104.0,105.1,84.8,81.9,126.5,83.0,96.4,106.0,83.7,96.2,104.6,77.0,115.0,93.9,127.7,87.9,123.7,107.2,86.4,68.8,99.3,119.7,83.7,96.6,80.4,107.8,76.5,115.3,109.6,114.5,109.6,122.9,78.8,92.0,99.5,170.5,100.3,92.6,105.4,132.3,79.8,89.5,90.1,77.0,112.3,96.6,83.4,144.2,95.7,81.0,99.9,95.3,131.0,110.0,97.0,95.0,80.5,74.0,104.7,82.7,72.1,96.0,87.4,128.3,94.0,81.2,122.2,91.8,111.6,92.6,106.8,93.8,100.8,86.7,91.8,85.2,144.0,90.9,88.5,101.1,90.0,86.2,74.5,142.6,109.0,107.8,97.2,95.1,112.0,78.0,112.0,95.0,118.8,92.6,92.5,92.9,109.0,101.9,102.3,94.3,103.1,88.2,112.4,94.5,95.3,103.5,115.0,102.2,138.1,98.7,121.7,121.2,90.5,82.3,107.3,88.2,78.8,95.0,101.2,108.6,81.9,132.2,87.0,74.5,79.5,83.0,93.0,88.6,97.0,106.3,140.8,90.5,98.6,115.0,98.2,108.9,96.9,100.8,99.1,87.8,105.6,103.4,116.6,89.5,127.7,101.2,86.1,102.2,92.4,110.3,99.1,109.8,95.2,99.0,90.7,68.8,140.6,99.0,88.2,87.5,81.9,97.5,106.6,91.0,95.3,110.8,92.9,114.6,90.0,87.1,93.5,105.8,88.3,110.5,102.7,112.5,104.3,94.8,85.4,96.5,109.6,106.5,84.2,116.8,148.1,93.4,116.7,101.5,81.3,103.7,126.0,89.6,98.0,110.8,104.0,105.0,125.5,80.7,130.8,78.7,88.9,90.7,86.9,104.4,101.3,115.0,95.0,111.7,111.6,74.5,102.9,108.3,75.5,109.4,114.1,124.2,116.9,86.8,86.6,86.2,109.7,117.0,78.4,93.7,113.8,103.9,95.0,78.0,101.1,107.5,97.4,67.4,92.1,78.1,125.5,78.4,117.7,74.0],\"yaxis\":\"y\",\"type\":\"scatter\"}],                        {\"template\":{\"data\":{\"histogram2dcontour\":[{\"type\":\"histogram2dcontour\",\"colorbar\":{\"outlinewidth\":0,\"ticks\":\"\"},\"colorscale\":[[0.0,\"#0d0887\"],[0.1111111111111111,\"#46039f\"],[0.2222222222222222,\"#7201a8\"],[0.3333333333333333,\"#9c179e\"],[0.4444444444444444,\"#bd3786\"],[0.5555555555555556,\"#d8576b\"],[0.6666666666666666,\"#ed7953\"],[0.7777777777777778,\"#fb9f3a\"],[0.8888888888888888,\"#fdca26\"],[1.0,\"#f0f921\"]]}],\"choropleth\":[{\"type\":\"choropleth\",\"colorbar\":{\"outlinewidth\":0,\"ticks\":\"\"}}],\"histogram2d\":[{\"type\":\"histogram2d\",\"colorbar\":{\"outlinewidth\":0,\"ticks\":\"\"},\"colorscale\":[[0.0,\"#0d0887\"],[0.1111111111111111,\"#46039f\"],[0.2222222222222222,\"#7201a8\"],[0.3333333333333333,\"#9c179e\"],[0.4444444444444444,\"#bd3786\"],[0.5555555555555556,\"#d8576b\"],[0.6666666666666666,\"#ed7953\"],[0.7777777777777778,\"#fb9f3a\"],[0.8888888888888888,\"#fdca26\"],[1.0,\"#f0f921\"]]}],\"heatmap\":[{\"type\":\"heatmap\",\"colorbar\":{\"outlinewidth\":0,\"ticks\":\"\"},\"colorscale\":[[0.0,\"#0d0887\"],[0.1111111111111111,\"#46039f\"],[0.2222222222222222,\"#7201a8\"],[0.3333333333333333,\"#9c179e\"],[0.4444444444444444,\"#bd3786\"],[0.5555555555555556,\"#d8576b\"],[0.6666666666666666,\"#ed7953\"],[0.7777777777777778,\"#fb9f3a\"],[0.8888888888888888,\"#fdca26\"],[1.0,\"#f0f921\"]]}],\"heatmapgl\":[{\"type\":\"heatmapgl\",\"colorbar\":{\"outlinewidth\":0,\"ticks\":\"\"},\"colorscale\":[[0.0,\"#0d0887\"],[0.1111111111111111,\"#46039f\"],[0.2222222222222222,\"#7201a8\"],[0.3333333333333333,\"#9c179e\"],[0.4444444444444444,\"#bd3786\"],[0.5555555555555556,\"#d8576b\"],[0.6666666666666666,\"#ed7953\"],[0.7777777777777778,\"#fb9f3a\"],[0.8888888888888888,\"#fdca26\"],[1.0,\"#f0f921\"]]}],\"contourcarpet\":[{\"type\":\"contourcarpet\",\"colorbar\":{\"outlinewidth\":0,\"ticks\":\"\"}}],\"contour\":[{\"type\":\"contour\",\"colorbar\":{\"outlinewidth\":0,\"ticks\":\"\"},\"colorscale\":[[0.0,\"#0d0887\"],[0.1111111111111111,\"#46039f\"],[0.2222222222222222,\"#7201a8\"],[0.3333333333333333,\"#9c179e\"],[0.4444444444444444,\"#bd3786\"],[0.5555555555555556,\"#d8576b\"],[0.6666666666666666,\"#ed7953\"],[0.7777777777777778,\"#fb9f3a\"],[0.8888888888888888,\"#fdca26\"],[1.0,\"#f0f921\"]]}],\"surface\":[{\"type\":\"surface\",\"colorbar\":{\"outlinewidth\":0,\"ticks\":\"\"},\"colorscale\":[[0.0,\"#0d0887\"],[0.1111111111111111,\"#46039f\"],[0.2222222222222222,\"#7201a8\"],[0.3333333333333333,\"#9c179e\"],[0.4444444444444444,\"#bd3786\"],[0.5555555555555556,\"#d8576b\"],[0.6666666666666666,\"#ed7953\"],[0.7777777777777778,\"#fb9f3a\"],[0.8888888888888888,\"#fdca26\"],[1.0,\"#f0f921\"]]}],\"mesh3d\":[{\"type\":\"mesh3d\",\"colorbar\":{\"outlinewidth\":0,\"ticks\":\"\"}}],\"scatter\":[{\"fillpattern\":{\"fillmode\":\"overlay\",\"size\":10,\"solidity\":0.2},\"type\":\"scatter\"}],\"parcoords\":[{\"type\":\"parcoords\",\"line\":{\"colorbar\":{\"outlinewidth\":0,\"ticks\":\"\"}}}],\"scatterpolargl\":[{\"type\":\"scatterpolargl\",\"marker\":{\"colorbar\":{\"outlinewidth\":0,\"ticks\":\"\"}}}],\"bar\":[{\"error_x\":{\"color\":\"#2a3f5f\"},\"error_y\":{\"color\":\"#2a3f5f\"},\"marker\":{\"line\":{\"color\":\"#E5ECF6\",\"width\":0.5},\"pattern\":{\"fillmode\":\"overlay\",\"size\":10,\"solidity\":0.2}},\"type\":\"bar\"}],\"scattergeo\":[{\"type\":\"scattergeo\",\"marker\":{\"colorbar\":{\"outlinewidth\":0,\"ticks\":\"\"}}}],\"scatterpolar\":[{\"type\":\"scatterpolar\",\"marker\":{\"colorbar\":{\"outlinewidth\":0,\"ticks\":\"\"}}}],\"histogram\":[{\"marker\":{\"pattern\":{\"fillmode\":\"overlay\",\"size\":10,\"solidity\":0.2}},\"type\":\"histogram\"}],\"scattergl\":[{\"type\":\"scattergl\",\"marker\":{\"colorbar\":{\"outlinewidth\":0,\"ticks\":\"\"}}}],\"scatter3d\":[{\"type\":\"scatter3d\",\"line\":{\"colorbar\":{\"outlinewidth\":0,\"ticks\":\"\"}},\"marker\":{\"colorbar\":{\"outlinewidth\":0,\"ticks\":\"\"}}}],\"scattermapbox\":[{\"type\":\"scattermapbox\",\"marker\":{\"colorbar\":{\"outlinewidth\":0,\"ticks\":\"\"}}}],\"scatterternary\":[{\"type\":\"scatterternary\",\"marker\":{\"colorbar\":{\"outlinewidth\":0,\"ticks\":\"\"}}}],\"scattercarpet\":[{\"type\":\"scattercarpet\",\"marker\":{\"colorbar\":{\"outlinewidth\":0,\"ticks\":\"\"}}}],\"carpet\":[{\"aaxis\":{\"endlinecolor\":\"#2a3f5f\",\"gridcolor\":\"white\",\"linecolor\":\"white\",\"minorgridcolor\":\"white\",\"startlinecolor\":\"#2a3f5f\"},\"baxis\":{\"endlinecolor\":\"#2a3f5f\",\"gridcolor\":\"white\",\"linecolor\":\"white\",\"minorgridcolor\":\"white\",\"startlinecolor\":\"#2a3f5f\"},\"type\":\"carpet\"}],\"table\":[{\"cells\":{\"fill\":{\"color\":\"#EBF0F8\"},\"line\":{\"color\":\"white\"}},\"header\":{\"fill\":{\"color\":\"#C8D4E3\"},\"line\":{\"color\":\"white\"}},\"type\":\"table\"}],\"barpolar\":[{\"marker\":{\"line\":{\"color\":\"#E5ECF6\",\"width\":0.5},\"pattern\":{\"fillmode\":\"overlay\",\"size\":10,\"solidity\":0.2}},\"type\":\"barpolar\"}],\"pie\":[{\"automargin\":true,\"type\":\"pie\"}]},\"layout\":{\"autotypenumbers\":\"strict\",\"colorway\":[\"#636efa\",\"#EF553B\",\"#00cc96\",\"#ab63fa\",\"#FFA15A\",\"#19d3f3\",\"#FF6692\",\"#B6E880\",\"#FF97FF\",\"#FECB52\"],\"font\":{\"color\":\"#2a3f5f\"},\"hovermode\":\"closest\",\"hoverlabel\":{\"align\":\"left\"},\"paper_bgcolor\":\"white\",\"plot_bgcolor\":\"#E5ECF6\",\"polar\":{\"bgcolor\":\"#E5ECF6\",\"angularaxis\":{\"gridcolor\":\"white\",\"linecolor\":\"white\",\"ticks\":\"\"},\"radialaxis\":{\"gridcolor\":\"white\",\"linecolor\":\"white\",\"ticks\":\"\"}},\"ternary\":{\"bgcolor\":\"#E5ECF6\",\"aaxis\":{\"gridcolor\":\"white\",\"linecolor\":\"white\",\"ticks\":\"\"},\"baxis\":{\"gridcolor\":\"white\",\"linecolor\":\"white\",\"ticks\":\"\"},\"caxis\":{\"gridcolor\":\"white\",\"linecolor\":\"white\",\"ticks\":\"\"}},\"coloraxis\":{\"colorbar\":{\"outlinewidth\":0,\"ticks\":\"\"}},\"colorscale\":{\"sequential\":[[0.0,\"#0d0887\"],[0.1111111111111111,\"#46039f\"],[0.2222222222222222,\"#7201a8\"],[0.3333333333333333,\"#9c179e\"],[0.4444444444444444,\"#bd3786\"],[0.5555555555555556,\"#d8576b\"],[0.6666666666666666,\"#ed7953\"],[0.7777777777777778,\"#fb9f3a\"],[0.8888888888888888,\"#fdca26\"],[1.0,\"#f0f921\"]],\"sequentialminus\":[[0.0,\"#0d0887\"],[0.1111111111111111,\"#46039f\"],[0.2222222222222222,\"#7201a8\"],[0.3333333333333333,\"#9c179e\"],[0.4444444444444444,\"#bd3786\"],[0.5555555555555556,\"#d8576b\"],[0.6666666666666666,\"#ed7953\"],[0.7777777777777778,\"#fb9f3a\"],[0.8888888888888888,\"#fdca26\"],[1.0,\"#f0f921\"]],\"diverging\":[[0,\"#8e0152\"],[0.1,\"#c51b7d\"],[0.2,\"#de77ae\"],[0.3,\"#f1b6da\"],[0.4,\"#fde0ef\"],[0.5,\"#f7f7f7\"],[0.6,\"#e6f5d0\"],[0.7,\"#b8e186\"],[0.8,\"#7fbc41\"],[0.9,\"#4d9221\"],[1,\"#276419\"]]},\"xaxis\":{\"gridcolor\":\"white\",\"linecolor\":\"white\",\"ticks\":\"\",\"title\":{\"standoff\":15},\"zerolinecolor\":\"white\",\"automargin\":true,\"zerolinewidth\":2},\"yaxis\":{\"gridcolor\":\"white\",\"linecolor\":\"white\",\"ticks\":\"\",\"title\":{\"standoff\":15},\"zerolinecolor\":\"white\",\"automargin\":true,\"zerolinewidth\":2},\"scene\":{\"xaxis\":{\"backgroundcolor\":\"#E5ECF6\",\"gridcolor\":\"white\",\"linecolor\":\"white\",\"showbackground\":true,\"ticks\":\"\",\"zerolinecolor\":\"white\",\"gridwidth\":2},\"yaxis\":{\"backgroundcolor\":\"#E5ECF6\",\"gridcolor\":\"white\",\"linecolor\":\"white\",\"showbackground\":true,\"ticks\":\"\",\"zerolinecolor\":\"white\",\"gridwidth\":2},\"zaxis\":{\"backgroundcolor\":\"#E5ECF6\",\"gridcolor\":\"white\",\"linecolor\":\"white\",\"showbackground\":true,\"ticks\":\"\",\"zerolinecolor\":\"white\",\"gridwidth\":2}},\"shapedefaults\":{\"line\":{\"color\":\"#2a3f5f\"}},\"annotationdefaults\":{\"arrowcolor\":\"#2a3f5f\",\"arrowhead\":0,\"arrowwidth\":1},\"geo\":{\"bgcolor\":\"white\",\"landcolor\":\"#E5ECF6\",\"subunitcolor\":\"white\",\"showland\":true,\"showlakes\":true,\"lakecolor\":\"white\"},\"title\":{\"x\":0.05},\"mapbox\":{\"style\":\"light\"}}},\"xaxis\":{\"anchor\":\"y\",\"domain\":[0.0,1.0],\"title\":{\"text\":\"Body Mass Index\"},\"showline\":true,\"showgrid\":false,\"linecolor\":\"black\"},\"yaxis\":{\"anchor\":\"x\",\"domain\":[0.0,1.0],\"title\":{\"text\":\"Waist Circumference\"},\"showline\":true,\"showgrid\":false,\"linecolor\":\"black\"},\"legend\":{\"tracegroupgap\":0},\"title\":{\"text\":\"Scatter Plot of BMI vs Waist Circumference\",\"font\":{\"size\":16},\"y\":0.9,\"x\":0.5,\"xanchor\":\"center\",\"yanchor\":\"top\"},\"plot_bgcolor\":\"rgba(255,255,255,1)\"},                        {\"responsive\": true}                    ).then(function(){\n",
              "                            \n",
              "var gd = document.getElementById('86e6ed68-2314-42c0-b2b0-a97f99aba8ac');\n",
              "var x = new MutationObserver(function (mutations, observer) {{\n",
              "        var display = window.getComputedStyle(gd).display;\n",
              "        if (!display || display === 'none') {{\n",
              "            console.log([gd, 'removed!']);\n",
              "            Plotly.purge(gd);\n",
              "            observer.disconnect();\n",
              "        }}\n",
              "}});\n",
              "\n",
              "// Listen for the removal of the full notebook cells\n",
              "var notebookContainer = gd.closest('#notebook-container');\n",
              "if (notebookContainer) {{\n",
              "    x.observe(notebookContainer, {childList: true});\n",
              "}}\n",
              "\n",
              "// Listen for the clearing of the current output cell\n",
              "var outputEl = gd.closest('.output');\n",
              "if (outputEl) {{\n",
              "    x.observe(outputEl, {childList: true});\n",
              "}}\n",
              "\n",
              "                        })                };                            </script>        </div>\n",
              "</body>\n",
              "</html>"
            ]
          },
          "metadata": {}
        }
      ]
    },
    {
      "cell_type": "markdown",
      "source": [
        "**1.2)** Describe the relationship between BMI and waist circumference. Remember to include context and identify the direction, strength, and form.\n",
        "\n",
        "# ...\n",
        "\n",
        "Is this what you expected?\n",
        "\n",
        "# ..."
      ],
      "metadata": {
        "id": "J6CcvV0H4iZC"
      }
    },
    {
      "cell_type": "markdown",
      "source": [
        "# **Question 2**\n",
        "## Correlation Coefficient ##\n",
        "\n",
        "**2.1)** Calculate the value of the correlation coefficient."
      ],
      "metadata": {
        "id": "43s4LOISwN_R"
      }
    },
    {
      "cell_type": "code",
      "source": [
        "# Calculate the correlation coefficient between WAIST and BMI\n",
        "# Replace the first set of ... with the response variable name\n",
        "# Replace the second set of ... with the explanatory variable name\n",
        "correlation = df['...'].corr(df['...'])\n",
        "\n",
        "# Print the correlation coefficient\n",
        "print(f\"Correlation coefficient between WAIST and BMI: r = {correlation}\")"
      ],
      "metadata": {
        "colab": {
          "base_uri": "https://localhost:8080/"
        },
        "id": "8L_lfKC0wv3W",
        "outputId": "0e821fbf-b5f8-4768-8661-55047f7182ba"
      },
      "execution_count": null,
      "outputs": [
        {
          "output_type": "stream",
          "name": "stdout",
          "text": [
            "Correlation coefficient between WAIST and BMI: r = 0.9128138063137405\n"
          ]
        }
      ]
    },
    {
      "cell_type": "markdown",
      "source": [
        "**2.2)** Interpret the correlation coefficient."
      ],
      "metadata": {
        "id": "G94sREeexV_s"
      }
    },
    {
      "cell_type": "markdown",
      "source": [
        "# ..."
      ],
      "metadata": {
        "id": "85hgf5GL5IF1"
      }
    },
    {
      "cell_type": "markdown",
      "source": [
        "# **Question 3**\n",
        "\n",
        "## Least Squares Regression\n",
        "\n",
        "**3.1)** Calculate the linear model and add the regression line to the scatterplot."
      ],
      "metadata": {
        "id": "BdIbAYhV2Zt9"
      }
    },
    {
      "cell_type": "code",
      "source": [
        "# Calculate the LSRL and add the regression line to the scatterplot.\n",
        "\n",
        "# Extract the variables from the dataframe\n",
        "X = df['...'] #explanatory variable\n",
        "Y = df['...'] #response variable\n",
        "\n",
        "# Add a constant to the explanatory variable for the regression model.\n",
        "# This forces Statsmodels to calculate the y-intercept.\n",
        "X_with_const = sm.add_constant(X)\n",
        "\n",
        "# Fit the linear regression model (calculate slope and y-intercept)\n",
        "model = sm.OLS(Y, X_with_const).fit()\n",
        "\n",
        "# If we repeatedly run this section of code then a new regression line is\n",
        "# added each run, unless we recreate the scatterplot each iteration.\n",
        "scatter_plot = px.scatter(df,\n",
        "                 x='BMI', #explanatory variable name\n",
        "                 y='WAIST', #response variable name\n",
        "                 labels={'BMI': 'Body Mass Index', #updates axis labels\n",
        "                         'WAIST': 'Waist Circumference'},\n",
        "                 title='Scatterplot of BMI vs Waist Circumference')\n",
        "\n",
        "# Updating layout: Students do not change anything in this block of code.\n",
        "scatter_plot.update_layout(\n",
        "    plot_bgcolor='rgba(255,255,255,1)',        # Sets the background color of the plot area to white with full opacity.\n",
        "    xaxis=dict(\n",
        "        showline=True,                         # Displays a line on the x-axis.\n",
        "        showgrid=False,                        # Hides the grid lines on the x-axis.\n",
        "        linecolor='black'                      # Sets the color of the x-axis line to black.\n",
        "    ),\n",
        "    yaxis=dict(\n",
        "        showline=True,                         # Displays a line on the y-axis.\n",
        "        showgrid=False,                        # Hides the grid lines on the y-axis.\n",
        "        linecolor='black'                      # Sets the color of the y-axis line to black.\n",
        "    ),\n",
        "    title={\n",
        "        'text': 'Scatter Plot of BMI vs Waist Circumference',   # Sets the title text.\n",
        "        'y': 0.9,                              # Positions the title 90% of the way up the plot.\n",
        "        'x': 0.5,                              # Centers the title horizontally.\n",
        "        'xanchor': 'center',                   # Anchors the title at its center on the x-axis.\n",
        "        'yanchor': 'top',                      # Anchors the title at the top on the y-axis.\n",
        "        'font': dict(\n",
        "            size=16                            # Sets the title font size to 16 (smaller than default).\n",
        "        ),\n",
        "    }\n",
        ")\n",
        "\n",
        "# Add the regression line to the scatterplot\n",
        "scatter_plot.add_scatter(x=X, y=model.predict(X_with_const),\n",
        "                         mode='lines', name='Regression Line')\n",
        "\n",
        "# Show the plot\n",
        "scatter_plot.show()"
      ],
      "metadata": {
        "id": "ackWX-GcX4a9",
        "colab": {
          "base_uri": "https://localhost:8080/",
          "height": 542
        },
        "outputId": "90b4e3ce-7307-421d-ed58-283e353e2c13"
      },
      "execution_count": null,
      "outputs": [
        {
          "output_type": "display_data",
          "data": {
            "text/html": [
              "<html>\n",
              "<head><meta charset=\"utf-8\" /></head>\n",
              "<body>\n",
              "    <div>            <script src=\"https://cdnjs.cloudflare.com/ajax/libs/mathjax/2.7.5/MathJax.js?config=TeX-AMS-MML_SVG\"></script><script type=\"text/javascript\">if (window.MathJax && window.MathJax.Hub && window.MathJax.Hub.Config) {window.MathJax.Hub.Config({SVG: {font: \"STIX-Web\"}});}</script>                <script type=\"text/javascript\">window.PlotlyConfig = {MathJaxConfig: 'local'};</script>\n",
              "        <script charset=\"utf-8\" src=\"https://cdn.plot.ly/plotly-2.35.2.min.js\"></script>                <div id=\"e4f95fa8-7191-4786-adc4-17366e94855b\" class=\"plotly-graph-div\" style=\"height:525px; width:100%;\"></div>            <script type=\"text/javascript\">                                    window.PLOTLYENV=window.PLOTLYENV || {};                                    if (document.getElementById(\"e4f95fa8-7191-4786-adc4-17366e94855b\")) {                    Plotly.newPlot(                        \"e4f95fa8-7191-4786-adc4-17366e94855b\",                        [{\"hovertemplate\":\"Body Mass Index=%{x}\\u003cbr\\u003eWaist Circumference=%{y}\\u003cextra\\u003e\\u003c\\u002fextra\\u003e\",\"legendgroup\":\"\",\"marker\":{\"color\":\"#636efa\",\"symbol\":\"circle\"},\"mode\":\"markers\",\"name\":\"\",\"orientation\":\"v\",\"showlegend\":false,\"x\":[33.3,45.4,32.7,25.8,34.5,19.3,29.9,31.4,21.0,33.6,24.5,29.3,24.6,23.2,19.4,38.9,21.0,33.3,27.3,21.6,27.1,20.0,30.4,26.1,30.8,15.9,36.7,31.8,19.7,59.0,28.5,24.6,25.0,34.2,29.0,45.0,23.9,40.2,34.7,23.5,20.7,32.4,30.2,37.2,29.4,26.5,30.5,20.0,29.4,31.1,28.9,36.9,29.1,31.6,21.9,34.6,27.5,21.6,25.8,25.7,26.2,21.5,29.4,34.6,24.4,24.2,45.9,23.3,25.1,35.2,25.0,28.9,35.4,18.7,32.9,33.4,38.6,24.6,40.2,28.7,24.1,18.7,27.3,37.1,22.9,29.8,21.9,31.1,19.8,36.6,37.3,37.8,33.4,39.2,20.7,30.1,24.8,56.8,33.1,25.9,32.4,47.2,18.9,28.8,24.5,23.3,41.1,26.7,22.3,52.6,33.3,22.5,30.3,31.4,47.0,38.4,31.0,28.0,23.6,19.8,34.8,23.3,23.4,26.0,25.2,43.6,23.3,21.9,40.8,26.1,32.7,25.6,33.1,23.0,30.3,23.8,24.5,21.4,45.5,25.5,26.6,28.9,29.4,27.0,20.1,48.0,36.5,28.0,28.4,25.9,31.1,20.1,36.5,25.8,37.4,26.1,27.4,28.5,30.8,31.2,26.7,21.6,27.4,29.1,31.8,24.8,25.5,28.3,33.5,29.8,43.2,28.1,37.0,36.5,23.1,20.2,29.6,24.9,19.9,25.8,26.0,33.7,23.4,32.7,26.8,18.1,21.3,23.9,25.2,22.8,29.7,31.2,44.2,29.3,31.6,35.0,27.1,29.6,26.8,29.2,27.6,26.2,30.7,33.9,31.5,26.4,37.7,29.1,22.7,28.8,25.2,35.0,26.6,30.9,25.6,24.7,24.8,17.9,43.7,30.8,24.2,24.0,22.0,24.7,32.5,24.5,26.8,30.5,22.9,32.2,25.2,25.3,24.7,31.7,22.6,26.1,30.6,33.3,27.6,25.5,22.8,26.5,29.2,29.2,22.0,33.9,45.9,24.5,35.0,26.6,22.6,28.4,40.0,24.8,25.9,30.1,25.2,28.0,36.2,27.3,39.9,20.3,24.4,24.4,23.4,29.8,27.5,30.2,28.9,31.9,30.3,17.0,31.2,31.9,19.2,31.8,32.4,34.2,30.9,26.4,21.6,24.7,31.0,33.2,21.2,27.4,29.9,31.1,25.6,22.2,27.7,28.8,23.5,19.0,27.6,24.0,38.5,21.3,31.3,20.6],\"xaxis\":\"x\",\"y\":[120.4,120.3,103.5,89.7,115.3,75.5,101.8,100.8,82.8,110.0,80.0,103.0,90.5,78.8,65.8,114.4,78.0,106.8,94.8,90.6,95.2,71.5,104.2,88.7,109.7,64.4,133.5,112.1,70.2,144.4,95.7,87.4,77.7,100.9,93.4,125.9,86.7,129.3,102.8,85.3,79.6,111.6,90.8,108.9,107.7,96.0,111.7,80.6,102.4,96.7,95.4,104.5,97.2,114.5,80.7,95.4,88.6,85.7,90.9,89.0,77.8,77.9,104.0,105.1,84.8,81.9,126.5,83.0,96.4,106.0,83.7,96.2,104.6,77.0,115.0,93.9,127.7,87.9,123.7,107.2,86.4,68.8,99.3,119.7,83.7,96.6,80.4,107.8,76.5,115.3,109.6,114.5,109.6,122.9,78.8,92.0,99.5,170.5,100.3,92.6,105.4,132.3,79.8,89.5,90.1,77.0,112.3,96.6,83.4,144.2,95.7,81.0,99.9,95.3,131.0,110.0,97.0,95.0,80.5,74.0,104.7,82.7,72.1,96.0,87.4,128.3,94.0,81.2,122.2,91.8,111.6,92.6,106.8,93.8,100.8,86.7,91.8,85.2,144.0,90.9,88.5,101.1,90.0,86.2,74.5,142.6,109.0,107.8,97.2,95.1,112.0,78.0,112.0,95.0,118.8,92.6,92.5,92.9,109.0,101.9,102.3,94.3,103.1,88.2,112.4,94.5,95.3,103.5,115.0,102.2,138.1,98.7,121.7,121.2,90.5,82.3,107.3,88.2,78.8,95.0,101.2,108.6,81.9,132.2,87.0,74.5,79.5,83.0,93.0,88.6,97.0,106.3,140.8,90.5,98.6,115.0,98.2,108.9,96.9,100.8,99.1,87.8,105.6,103.4,116.6,89.5,127.7,101.2,86.1,102.2,92.4,110.3,99.1,109.8,95.2,99.0,90.7,68.8,140.6,99.0,88.2,87.5,81.9,97.5,106.6,91.0,95.3,110.8,92.9,114.6,90.0,87.1,93.5,105.8,88.3,110.5,102.7,112.5,104.3,94.8,85.4,96.5,109.6,106.5,84.2,116.8,148.1,93.4,116.7,101.5,81.3,103.7,126.0,89.6,98.0,110.8,104.0,105.0,125.5,80.7,130.8,78.7,88.9,90.7,86.9,104.4,101.3,115.0,95.0,111.7,111.6,74.5,102.9,108.3,75.5,109.4,114.1,124.2,116.9,86.8,86.6,86.2,109.7,117.0,78.4,93.7,113.8,103.9,95.0,78.0,101.1,107.5,97.4,67.4,92.1,78.1,125.5,78.4,117.7,74.0],\"yaxis\":\"y\",\"type\":\"scatter\"},{\"mode\":\"lines\",\"name\":\"Regression Line\",\"x\":[33.3,45.4,32.7,25.8,34.5,19.3,29.9,31.4,21.0,33.6,24.5,29.3,24.6,23.2,19.4,38.9,21.0,33.3,27.3,21.6,27.1,20.0,30.4,26.1,30.8,15.9,36.7,31.8,19.7,59.0,28.5,24.6,25.0,34.2,29.0,45.0,23.9,40.2,34.7,23.5,20.7,32.4,30.2,37.2,29.4,26.5,30.5,20.0,29.4,31.1,28.9,36.9,29.1,31.6,21.9,34.6,27.5,21.6,25.8,25.7,26.2,21.5,29.4,34.6,24.4,24.2,45.9,23.3,25.1,35.2,25.0,28.9,35.4,18.7,32.9,33.4,38.6,24.6,40.2,28.7,24.1,18.7,27.3,37.1,22.9,29.8,21.9,31.1,19.8,36.6,37.3,37.8,33.4,39.2,20.7,30.1,24.8,56.8,33.1,25.9,32.4,47.2,18.9,28.8,24.5,23.3,41.1,26.7,22.3,52.6,33.3,22.5,30.3,31.4,47.0,38.4,31.0,28.0,23.6,19.8,34.8,23.3,23.4,26.0,25.2,43.6,23.3,21.9,40.8,26.1,32.7,25.6,33.1,23.0,30.3,23.8,24.5,21.4,45.5,25.5,26.6,28.9,29.4,27.0,20.1,48.0,36.5,28.0,28.4,25.9,31.1,20.1,36.5,25.8,37.4,26.1,27.4,28.5,30.8,31.2,26.7,21.6,27.4,29.1,31.8,24.8,25.5,28.3,33.5,29.8,43.2,28.1,37.0,36.5,23.1,20.2,29.6,24.9,19.9,25.8,26.0,33.7,23.4,32.7,26.8,18.1,21.3,23.9,25.2,22.8,29.7,31.2,44.2,29.3,31.6,35.0,27.1,29.6,26.8,29.2,27.6,26.2,30.7,33.9,31.5,26.4,37.7,29.1,22.7,28.8,25.2,35.0,26.6,30.9,25.6,24.7,24.8,17.9,43.7,30.8,24.2,24.0,22.0,24.7,32.5,24.5,26.8,30.5,22.9,32.2,25.2,25.3,24.7,31.7,22.6,26.1,30.6,33.3,27.6,25.5,22.8,26.5,29.2,29.2,22.0,33.9,45.9,24.5,35.0,26.6,22.6,28.4,40.0,24.8,25.9,30.1,25.2,28.0,36.2,27.3,39.9,20.3,24.4,24.4,23.4,29.8,27.5,30.2,28.9,31.9,30.3,17.0,31.2,31.9,19.2,31.8,32.4,34.2,30.9,26.4,21.6,24.7,31.0,33.2,21.2,27.4,29.9,31.1,25.6,22.2,27.7,28.8,23.5,19.0,27.6,24.0,38.5,21.3,31.3,20.6],\"y\":[108.95996333311969,135.93505783986188,107.62235534104984,92.23986343224644,111.63517931725941,77.74911018482294,101.38018471139048,104.72420469156513,81.53899949568756,109.62876732915463,89.34171278276173,100.04257671932062,89.56464744810671,86.44356213327704,77.97204485016792,121.44430459243839,81.53899949568756,108.95996333311969,95.58388341242109,82.87660748775741,95.13801408173114,79.30965284223778,102.49485803811537,92.90866742828138,103.38659669949527,70.16933156309373,116.5397419548489,105.61594335294504,78.64084884620286,166.25417232677873,98.25909939656081,89.56464744810671,90.45638610948663,110.96637532122449,99.3737727232857,135.04331917848197,88.00410479069188,124.3424552419231,112.08104864794937,87.11236612931197,80.87019549965262,106.9535513450149,102.04898870742541,117.65441528157379,100.2655113846656,93.80040608966127,102.71779270346035,79.30965284223778,100.2655113846656,104.05540069553021,99.15083805794072,116.98561128553885,99.59670738863068,105.1700740222551,83.54541148379235,111.8581139826044,96.02975274311103,82.87660748775741,92.23986343224644,92.01692876690146,93.13160209362634,82.65367282241243,100.2655113846656,111.8581139826044,89.11877811741675,88.67290878672681,137.04973116658675,86.66649679862202,90.67932077483161,113.19572197467426,90.45638610948663,99.15083805794072,113.6415913053642,76.41150219275309,108.06822467173978,109.18289799846467,120.77550059640346,89.56464744810671,124.3424552419231,98.70496872725076,88.44997412138184,76.41150219275309,95.58388341242109,117.43148061622881,85.77475813724212,101.1572500460455,83.54541148379235,104.05540069553021,78.86378351154784,116.31680728950393,117.87734994691876,118.99202327364364,109.18289799846467,122.11310858847332,80.87019549965262,101.82605404208044,90.01051677879667,161.34960968918924,108.51409400242974,92.46279809759142,106.9535513450149,139.94788181607146,76.85737152344304,98.92790339259574,89.34171278276173,86.66649679862202,126.34886723002789,94.24627542035122,84.43715014517225,151.9863537447002,108.95996333311969,84.8830194758622,102.27192337277039,104.72420469156513,139.5020124853815,120.3296312657135,103.83246603018523,97.14442606983593,87.33530079465694,78.86378351154784,112.30398331329434,86.66649679862202,86.88943146396699,92.6857327629364,90.90225544017657,131.9222338636523,86.66649679862202,83.54541148379235,125.68006323399295,92.90866742828138,107.62235534104984,91.79399410155648,108.51409400242974,85.9976928025871,102.27192337277039,87.7811701253469,89.34171278276173,82.43073815706745,136.15799250520686,91.5710594362115,94.02334075500625,99.15083805794072,100.2655113846656,94.91507941638616,79.53258750758278,141.7313591388313,116.09387262415895,97.14442606983593,98.03616473121583,92.46279809759142,104.05540069553021,79.53258750758278,116.09387262415895,92.23986343224644,118.10028461226374,92.90866742828138,95.80681807776605,98.25909939656081,103.38659669949527,104.27833536087518,94.24627542035122,82.87660748775741,95.80681807776605,99.59670738863068,105.61594335294504,90.01051677879667,91.5710594362115,97.81323006587087,109.40583266380965,101.1572500460455,131.0304952022724,97.36736073518091,117.20854595088383,116.09387262415895,86.22062746793208,79.75552217292774,100.71138071535556,90.23345144414165,79.0867181768928,92.23986343224644,92.6857327629364,109.8517019944996,86.88943146396699,107.62235534104984,94.4692100856962,75.07389420068323,82.20780349172249,88.00410479069188,90.90225544017657,85.55182347189714,100.93431538070053,104.27833536087518,133.2598418557222,100.04257671932062,105.1700740222551,112.7498526439843,95.13801408173114,100.71138071535556,94.4692100856962,99.81964205397564,96.25268740845601,93.13160209362634,103.16366203415029,110.29757132518955,104.94713935691011,93.57747142431629,118.76908860829867,99.59670738863068,85.32888880655216,98.92790339259574,90.90225544017657,112.7498526439843,94.02334075500625,103.60953136484025,91.79399410155648,89.78758211345169,90.01051677879667,74.62802486999327,132.1451685289973,103.38659669949527,88.67290878672681,88.22703945603686,83.76834614913733,89.78758211345169,107.17648601035988,89.34171278276173,94.4692100856962,102.71779270346035,85.77475813724212,106.50768201432496,90.90225544017657,91.12519010552155,89.78758211345169,105.39300868760006,85.10595414120718,92.90866742828138,102.94072736880533,108.95996333311969,96.25268740845601,91.5710594362115,85.55182347189714,93.80040608966127,99.81964205397564,99.81964205397564,83.76834614913733,110.29757132518955,137.04973116658675,89.34171278276173,112.7498526439843,94.02334075500625,85.10595414120718,98.03616473121583,123.89658591123313,90.01051677879667,92.46279809759142,101.82605404208044,90.90225544017657,97.14442606983593,115.42506862812402,95.58388341242109,123.67365124588815,79.97845683827272,89.11877811741675,89.11877811741675,86.88943146396699,101.1572500460455,96.02975274311103,102.04898870742541,99.15083805794072,105.83887801829002,102.27192337277039,72.62161288188848,104.27833536087518,105.83887801829002,77.52617551947796,105.61594335294504,106.9535513450149,110.96637532122449,103.60953136484025,93.57747142431629,82.87660748775741,89.78758211345169,103.83246603018523,108.73702866777472,81.98486882637751,95.80681807776605,101.38018471139048,104.05540069553021,91.79399410155648,84.21421547982727,96.47562207380099,98.92790339259574,87.11236612931197,77.08030618878801,96.25268740845601,88.22703945603686,120.55256593105848,82.20780349172249,104.50127002622015,80.64726083430764],\"type\":\"scatter\"}],                        {\"template\":{\"data\":{\"histogram2dcontour\":[{\"type\":\"histogram2dcontour\",\"colorbar\":{\"outlinewidth\":0,\"ticks\":\"\"},\"colorscale\":[[0.0,\"#0d0887\"],[0.1111111111111111,\"#46039f\"],[0.2222222222222222,\"#7201a8\"],[0.3333333333333333,\"#9c179e\"],[0.4444444444444444,\"#bd3786\"],[0.5555555555555556,\"#d8576b\"],[0.6666666666666666,\"#ed7953\"],[0.7777777777777778,\"#fb9f3a\"],[0.8888888888888888,\"#fdca26\"],[1.0,\"#f0f921\"]]}],\"choropleth\":[{\"type\":\"choropleth\",\"colorbar\":{\"outlinewidth\":0,\"ticks\":\"\"}}],\"histogram2d\":[{\"type\":\"histogram2d\",\"colorbar\":{\"outlinewidth\":0,\"ticks\":\"\"},\"colorscale\":[[0.0,\"#0d0887\"],[0.1111111111111111,\"#46039f\"],[0.2222222222222222,\"#7201a8\"],[0.3333333333333333,\"#9c179e\"],[0.4444444444444444,\"#bd3786\"],[0.5555555555555556,\"#d8576b\"],[0.6666666666666666,\"#ed7953\"],[0.7777777777777778,\"#fb9f3a\"],[0.8888888888888888,\"#fdca26\"],[1.0,\"#f0f921\"]]}],\"heatmap\":[{\"type\":\"heatmap\",\"colorbar\":{\"outlinewidth\":0,\"ticks\":\"\"},\"colorscale\":[[0.0,\"#0d0887\"],[0.1111111111111111,\"#46039f\"],[0.2222222222222222,\"#7201a8\"],[0.3333333333333333,\"#9c179e\"],[0.4444444444444444,\"#bd3786\"],[0.5555555555555556,\"#d8576b\"],[0.6666666666666666,\"#ed7953\"],[0.7777777777777778,\"#fb9f3a\"],[0.8888888888888888,\"#fdca26\"],[1.0,\"#f0f921\"]]}],\"heatmapgl\":[{\"type\":\"heatmapgl\",\"colorbar\":{\"outlinewidth\":0,\"ticks\":\"\"},\"colorscale\":[[0.0,\"#0d0887\"],[0.1111111111111111,\"#46039f\"],[0.2222222222222222,\"#7201a8\"],[0.3333333333333333,\"#9c179e\"],[0.4444444444444444,\"#bd3786\"],[0.5555555555555556,\"#d8576b\"],[0.6666666666666666,\"#ed7953\"],[0.7777777777777778,\"#fb9f3a\"],[0.8888888888888888,\"#fdca26\"],[1.0,\"#f0f921\"]]}],\"contourcarpet\":[{\"type\":\"contourcarpet\",\"colorbar\":{\"outlinewidth\":0,\"ticks\":\"\"}}],\"contour\":[{\"type\":\"contour\",\"colorbar\":{\"outlinewidth\":0,\"ticks\":\"\"},\"colorscale\":[[0.0,\"#0d0887\"],[0.1111111111111111,\"#46039f\"],[0.2222222222222222,\"#7201a8\"],[0.3333333333333333,\"#9c179e\"],[0.4444444444444444,\"#bd3786\"],[0.5555555555555556,\"#d8576b\"],[0.6666666666666666,\"#ed7953\"],[0.7777777777777778,\"#fb9f3a\"],[0.8888888888888888,\"#fdca26\"],[1.0,\"#f0f921\"]]}],\"surface\":[{\"type\":\"surface\",\"colorbar\":{\"outlinewidth\":0,\"ticks\":\"\"},\"colorscale\":[[0.0,\"#0d0887\"],[0.1111111111111111,\"#46039f\"],[0.2222222222222222,\"#7201a8\"],[0.3333333333333333,\"#9c179e\"],[0.4444444444444444,\"#bd3786\"],[0.5555555555555556,\"#d8576b\"],[0.6666666666666666,\"#ed7953\"],[0.7777777777777778,\"#fb9f3a\"],[0.8888888888888888,\"#fdca26\"],[1.0,\"#f0f921\"]]}],\"mesh3d\":[{\"type\":\"mesh3d\",\"colorbar\":{\"outlinewidth\":0,\"ticks\":\"\"}}],\"scatter\":[{\"fillpattern\":{\"fillmode\":\"overlay\",\"size\":10,\"solidity\":0.2},\"type\":\"scatter\"}],\"parcoords\":[{\"type\":\"parcoords\",\"line\":{\"colorbar\":{\"outlinewidth\":0,\"ticks\":\"\"}}}],\"scatterpolargl\":[{\"type\":\"scatterpolargl\",\"marker\":{\"colorbar\":{\"outlinewidth\":0,\"ticks\":\"\"}}}],\"bar\":[{\"error_x\":{\"color\":\"#2a3f5f\"},\"error_y\":{\"color\":\"#2a3f5f\"},\"marker\":{\"line\":{\"color\":\"#E5ECF6\",\"width\":0.5},\"pattern\":{\"fillmode\":\"overlay\",\"size\":10,\"solidity\":0.2}},\"type\":\"bar\"}],\"scattergeo\":[{\"type\":\"scattergeo\",\"marker\":{\"colorbar\":{\"outlinewidth\":0,\"ticks\":\"\"}}}],\"scatterpolar\":[{\"type\":\"scatterpolar\",\"marker\":{\"colorbar\":{\"outlinewidth\":0,\"ticks\":\"\"}}}],\"histogram\":[{\"marker\":{\"pattern\":{\"fillmode\":\"overlay\",\"size\":10,\"solidity\":0.2}},\"type\":\"histogram\"}],\"scattergl\":[{\"type\":\"scattergl\",\"marker\":{\"colorbar\":{\"outlinewidth\":0,\"ticks\":\"\"}}}],\"scatter3d\":[{\"type\":\"scatter3d\",\"line\":{\"colorbar\":{\"outlinewidth\":0,\"ticks\":\"\"}},\"marker\":{\"colorbar\":{\"outlinewidth\":0,\"ticks\":\"\"}}}],\"scattermapbox\":[{\"type\":\"scattermapbox\",\"marker\":{\"colorbar\":{\"outlinewidth\":0,\"ticks\":\"\"}}}],\"scatterternary\":[{\"type\":\"scatterternary\",\"marker\":{\"colorbar\":{\"outlinewidth\":0,\"ticks\":\"\"}}}],\"scattercarpet\":[{\"type\":\"scattercarpet\",\"marker\":{\"colorbar\":{\"outlinewidth\":0,\"ticks\":\"\"}}}],\"carpet\":[{\"aaxis\":{\"endlinecolor\":\"#2a3f5f\",\"gridcolor\":\"white\",\"linecolor\":\"white\",\"minorgridcolor\":\"white\",\"startlinecolor\":\"#2a3f5f\"},\"baxis\":{\"endlinecolor\":\"#2a3f5f\",\"gridcolor\":\"white\",\"linecolor\":\"white\",\"minorgridcolor\":\"white\",\"startlinecolor\":\"#2a3f5f\"},\"type\":\"carpet\"}],\"table\":[{\"cells\":{\"fill\":{\"color\":\"#EBF0F8\"},\"line\":{\"color\":\"white\"}},\"header\":{\"fill\":{\"color\":\"#C8D4E3\"},\"line\":{\"color\":\"white\"}},\"type\":\"table\"}],\"barpolar\":[{\"marker\":{\"line\":{\"color\":\"#E5ECF6\",\"width\":0.5},\"pattern\":{\"fillmode\":\"overlay\",\"size\":10,\"solidity\":0.2}},\"type\":\"barpolar\"}],\"pie\":[{\"automargin\":true,\"type\":\"pie\"}]},\"layout\":{\"autotypenumbers\":\"strict\",\"colorway\":[\"#636efa\",\"#EF553B\",\"#00cc96\",\"#ab63fa\",\"#FFA15A\",\"#19d3f3\",\"#FF6692\",\"#B6E880\",\"#FF97FF\",\"#FECB52\"],\"font\":{\"color\":\"#2a3f5f\"},\"hovermode\":\"closest\",\"hoverlabel\":{\"align\":\"left\"},\"paper_bgcolor\":\"white\",\"plot_bgcolor\":\"#E5ECF6\",\"polar\":{\"bgcolor\":\"#E5ECF6\",\"angularaxis\":{\"gridcolor\":\"white\",\"linecolor\":\"white\",\"ticks\":\"\"},\"radialaxis\":{\"gridcolor\":\"white\",\"linecolor\":\"white\",\"ticks\":\"\"}},\"ternary\":{\"bgcolor\":\"#E5ECF6\",\"aaxis\":{\"gridcolor\":\"white\",\"linecolor\":\"white\",\"ticks\":\"\"},\"baxis\":{\"gridcolor\":\"white\",\"linecolor\":\"white\",\"ticks\":\"\"},\"caxis\":{\"gridcolor\":\"white\",\"linecolor\":\"white\",\"ticks\":\"\"}},\"coloraxis\":{\"colorbar\":{\"outlinewidth\":0,\"ticks\":\"\"}},\"colorscale\":{\"sequential\":[[0.0,\"#0d0887\"],[0.1111111111111111,\"#46039f\"],[0.2222222222222222,\"#7201a8\"],[0.3333333333333333,\"#9c179e\"],[0.4444444444444444,\"#bd3786\"],[0.5555555555555556,\"#d8576b\"],[0.6666666666666666,\"#ed7953\"],[0.7777777777777778,\"#fb9f3a\"],[0.8888888888888888,\"#fdca26\"],[1.0,\"#f0f921\"]],\"sequentialminus\":[[0.0,\"#0d0887\"],[0.1111111111111111,\"#46039f\"],[0.2222222222222222,\"#7201a8\"],[0.3333333333333333,\"#9c179e\"],[0.4444444444444444,\"#bd3786\"],[0.5555555555555556,\"#d8576b\"],[0.6666666666666666,\"#ed7953\"],[0.7777777777777778,\"#fb9f3a\"],[0.8888888888888888,\"#fdca26\"],[1.0,\"#f0f921\"]],\"diverging\":[[0,\"#8e0152\"],[0.1,\"#c51b7d\"],[0.2,\"#de77ae\"],[0.3,\"#f1b6da\"],[0.4,\"#fde0ef\"],[0.5,\"#f7f7f7\"],[0.6,\"#e6f5d0\"],[0.7,\"#b8e186\"],[0.8,\"#7fbc41\"],[0.9,\"#4d9221\"],[1,\"#276419\"]]},\"xaxis\":{\"gridcolor\":\"white\",\"linecolor\":\"white\",\"ticks\":\"\",\"title\":{\"standoff\":15},\"zerolinecolor\":\"white\",\"automargin\":true,\"zerolinewidth\":2},\"yaxis\":{\"gridcolor\":\"white\",\"linecolor\":\"white\",\"ticks\":\"\",\"title\":{\"standoff\":15},\"zerolinecolor\":\"white\",\"automargin\":true,\"zerolinewidth\":2},\"scene\":{\"xaxis\":{\"backgroundcolor\":\"#E5ECF6\",\"gridcolor\":\"white\",\"linecolor\":\"white\",\"showbackground\":true,\"ticks\":\"\",\"zerolinecolor\":\"white\",\"gridwidth\":2},\"yaxis\":{\"backgroundcolor\":\"#E5ECF6\",\"gridcolor\":\"white\",\"linecolor\":\"white\",\"showbackground\":true,\"ticks\":\"\",\"zerolinecolor\":\"white\",\"gridwidth\":2},\"zaxis\":{\"backgroundcolor\":\"#E5ECF6\",\"gridcolor\":\"white\",\"linecolor\":\"white\",\"showbackground\":true,\"ticks\":\"\",\"zerolinecolor\":\"white\",\"gridwidth\":2}},\"shapedefaults\":{\"line\":{\"color\":\"#2a3f5f\"}},\"annotationdefaults\":{\"arrowcolor\":\"#2a3f5f\",\"arrowhead\":0,\"arrowwidth\":1},\"geo\":{\"bgcolor\":\"white\",\"landcolor\":\"#E5ECF6\",\"subunitcolor\":\"white\",\"showland\":true,\"showlakes\":true,\"lakecolor\":\"white\"},\"title\":{\"x\":0.05},\"mapbox\":{\"style\":\"light\"}}},\"xaxis\":{\"anchor\":\"y\",\"domain\":[0.0,1.0],\"title\":{\"text\":\"Body Mass Index\"},\"showline\":true,\"showgrid\":false,\"linecolor\":\"black\"},\"yaxis\":{\"anchor\":\"x\",\"domain\":[0.0,1.0],\"title\":{\"text\":\"Waist Circumference\"},\"showline\":true,\"showgrid\":false,\"linecolor\":\"black\"},\"legend\":{\"tracegroupgap\":0},\"title\":{\"text\":\"Scatter Plot of BMI vs Waist Circumference\",\"font\":{\"size\":16},\"y\":0.9,\"x\":0.5,\"xanchor\":\"center\",\"yanchor\":\"top\"},\"plot_bgcolor\":\"rgba(255,255,255,1)\"},                        {\"responsive\": true}                    ).then(function(){\n",
              "                            \n",
              "var gd = document.getElementById('e4f95fa8-7191-4786-adc4-17366e94855b');\n",
              "var x = new MutationObserver(function (mutations, observer) {{\n",
              "        var display = window.getComputedStyle(gd).display;\n",
              "        if (!display || display === 'none') {{\n",
              "            console.log([gd, 'removed!']);\n",
              "            Plotly.purge(gd);\n",
              "            observer.disconnect();\n",
              "        }}\n",
              "}});\n",
              "\n",
              "// Listen for the removal of the full notebook cells\n",
              "var notebookContainer = gd.closest('#notebook-container');\n",
              "if (notebookContainer) {{\n",
              "    x.observe(notebookContainer, {childList: true});\n",
              "}}\n",
              "\n",
              "// Listen for the clearing of the current output cell\n",
              "var outputEl = gd.closest('.output');\n",
              "if (outputEl) {{\n",
              "    x.observe(outputEl, {childList: true});\n",
              "}}\n",
              "\n",
              "                        })                };                            </script>        </div>\n",
              "</body>\n",
              "</html>"
            ]
          },
          "metadata": {}
        }
      ]
    },
    {
      "cell_type": "markdown",
      "source": [
        "**3.2)** Print the coefficients (Intercept and Slope)\n",
        "\n"
      ],
      "metadata": {
        "id": "nax0a4z8XMnM"
      }
    },
    {
      "cell_type": "code",
      "source": [
        "# Print the coefficients (Intercept and Slope)\n",
        "\n",
        "# The coefficients were calculated when the regression line was added to the\n",
        "# scatterplot and stored in 'model'. This assigns the values of the y-intercept\n",
        "# and slope to 'coefficients', then prints the values.\n",
        "coefficients = model.params\n",
        "coefficients.name='Coefficients'\n",
        "coefficients"
      ],
      "metadata": {
        "colab": {
          "base_uri": "https://localhost:8080/",
          "height": 147
        },
        "id": "bG2dzTP2zi5r",
        "outputId": "889f5efe-003f-4587-daea-1665a13accdb"
      },
      "execution_count": null,
      "outputs": [
        {
          "output_type": "execute_result",
          "data": {
            "text/plain": [
              "const    34.722720\n",
              "BMI       2.229347\n",
              "Name: Coefficients, dtype: float64"
            ],
            "text/html": [
              "<div>\n",
              "<style scoped>\n",
              "    .dataframe tbody tr th:only-of-type {\n",
              "        vertical-align: middle;\n",
              "    }\n",
              "\n",
              "    .dataframe tbody tr th {\n",
              "        vertical-align: top;\n",
              "    }\n",
              "\n",
              "    .dataframe thead th {\n",
              "        text-align: right;\n",
              "    }\n",
              "</style>\n",
              "<table border=\"1\" class=\"dataframe\">\n",
              "  <thead>\n",
              "    <tr style=\"text-align: right;\">\n",
              "      <th></th>\n",
              "      <th>Coefficients</th>\n",
              "    </tr>\n",
              "  </thead>\n",
              "  <tbody>\n",
              "    <tr>\n",
              "      <th>const</th>\n",
              "      <td>34.722720</td>\n",
              "    </tr>\n",
              "    <tr>\n",
              "      <th>BMI</th>\n",
              "      <td>2.229347</td>\n",
              "    </tr>\n",
              "  </tbody>\n",
              "</table>\n",
              "</div><br><label><b>dtype:</b> float64</label>"
            ]
          },
          "metadata": {},
          "execution_count": 24
        }
      ]
    },
    {
      "cell_type": "markdown",
      "source": [
        "**3.3)** Write the equation of the line that predicts waist circumference from BMI. To type $\\hat{y}$ &nbsp;&nbsp;you can type “y-hat” or “predicted y”.\n",
        "\n",
        "\n"
      ],
      "metadata": {
        "id": "dXH7zFrV30Se"
      }
    },
    {
      "cell_type": "markdown",
      "source": [
        "# ..."
      ],
      "metadata": {
        "id": "72AMxU5V5Yje"
      }
    },
    {
      "cell_type": "markdown",
      "source": [
        "# **Question 4**\n",
        "### Slope\n",
        "Interpret the slope"
      ],
      "metadata": {
        "id": "t2n04khN52sf"
      }
    },
    {
      "cell_type": "markdown",
      "source": [
        "# ..."
      ],
      "metadata": {
        "id": "u64aKxeQ6AJp"
      }
    },
    {
      "cell_type": "markdown",
      "source": [
        "# **Question 5**\n",
        "### Y-intercept\n",
        "Interpret the y-intercept"
      ],
      "metadata": {
        "id": "vJNYjJqK6Ave"
      }
    },
    {
      "cell_type": "markdown",
      "source": [
        "# ..."
      ],
      "metadata": {
        "id": "5ig7AA6l6BLA"
      }
    },
    {
      "cell_type": "markdown",
      "source": [
        "# **Question 6**\n",
        "### Prediction\n",
        "Show work to predict the waist circumference of someone with a BMI of 40.8 kg/m<sup>2</sup>."
      ],
      "metadata": {
        "id": "j8KJ8QYt6NcM"
      }
    },
    {
      "cell_type": "markdown",
      "source": [
        "# ..."
      ],
      "metadata": {
        "id": "fVrqOO5I6NPB"
      }
    },
    {
      "cell_type": "markdown",
      "source": [
        "# **Question 7**\n",
        "### Residual\n",
        "**7.1)** Look up the actual waist circumference of the person with a BMI of 40.8 kg/m<sup>2</sup>."
      ],
      "metadata": {
        "id": "iimd7jPr6o_G"
      }
    },
    {
      "cell_type": "code",
      "source": [
        "# Filter the dataframe to find the row where BMI is 40.8\n",
        "# Replace the first ... with the explanatory variable name\n",
        "# Replace the second ... with the value you want to compare (no' ')\n",
        "# Replace the third ... with the response variable name\n",
        "waist_circ = df[df['...'] == ...]['...']\n",
        "\n",
        "# Extract the value of the waist circumference\n",
        "waist = waist_circ.values[0]\n",
        "\n",
        "# Print the result\n",
        "print(f\"The waist circumference for the person with a BMI of 40.8 is: {waist} inches\")"
      ],
      "metadata": {
        "colab": {
          "base_uri": "https://localhost:8080/"
        },
        "id": "vBtuZsX59Fbs",
        "outputId": "4d8a752a-89b7-42a7-e643-b17cc014912c"
      },
      "execution_count": null,
      "outputs": [
        {
          "output_type": "stream",
          "name": "stdout",
          "text": [
            "The waist circumference for the person with a BMI of 40.8 is: 122.2 inches\n"
          ]
        }
      ]
    },
    {
      "cell_type": "markdown",
      "source": [
        "**7.2)** Compare your answer in question 6 to the actual value.\n"
      ],
      "metadata": {
        "id": "kkZ4dF--99LC"
      }
    },
    {
      "cell_type": "markdown",
      "source": [
        "# ..."
      ],
      "metadata": {
        "id": "I7GwVDXo8reG"
      }
    },
    {
      "cell_type": "markdown",
      "source": [
        "<br><br>\n",
        "\n",
        "\n",
        "# Keep this for your reference for Project 2. You are now ready to complete Project 2 on your own. You may choose to work on the same data set that you did for Project 1, or you may choose to do analyze a different data set. Pick just one (1) data set to analyze."
      ],
      "metadata": {
        "id": "X6e2ZZI8xakl"
      }
    }
  ]
}