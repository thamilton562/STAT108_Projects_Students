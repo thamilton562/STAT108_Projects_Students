{
  "nbformat": 4,
  "nbformat_minor": 0,
  "metadata": {
    "colab": {
      "provenance": []
    },
    "kernelspec": {
      "name": "python3",
      "display_name": "Python 3"
    },
    "language_info": {
      "name": "python"
    }
  },
  "cells": [
    {
      "cell_type": "markdown",
      "metadata": {
        "id": "8t9m29KtoK2q"
      },
      "source": [
        "# **U.S. Health Insurance - Project 2**\n",
        "### Analyzing the linear relationship between two quantitative variables."
      ]
    },
    {
      "cell_type": "markdown",
      "metadata": {
        "id": "y3rfDZf7oK21"
      },
      "source": [
        "# **Importing Necessary Python Modules**\n",
        "\n",
        "Python incorporates a variety of open source add-ins called **modules** that add extra features to the basic setup. The name of the modules is after the `import` statement, and the purpose is in a non-code comment after thew hashtag (#).\n",
        "\n"
      ]
    },
    {
      "cell_type": "code",
      "execution_count": null,
      "metadata": {
        "id": "C6AjYFB6oK21"
      },
      "outputs": [],
      "source": [
        "import pandas as pd\n",
        "import numpy as np\n",
        "import plotly.express as px\n",
        "from IPython.display import Image\n",
        "import statsmodels.api as sm\n"
      ]
    },
    {
      "cell_type": "code",
      "execution_count": null,
      "metadata": {
        "colab": {
          "base_uri": "https://localhost:8080/",
          "height": 335
        },
        "outputId": "d4b145f8-9a58-45b5-f006-723f30aa9df0",
        "id": "x8eG3KAloDkL"
      },
      "outputs": [
        {
          "output_type": "execute_result",
          "data": {
            "text/html": [
              "<img src=\"https://blog.amopportunities.org/wp-content/uploads/2019/07/Health-Insurance.jpg\" width=\"600\"/>"
            ],
            "text/plain": [
              "<IPython.core.display.Image object>"
            ]
          },
          "metadata": {},
          "execution_count": 2
        }
      ],
      "source": [
        "# Assigns the URL of the image to display to the name 'image_url'.\n",
        "image_url = 'https://blog.amopportunities.org/wp-content/uploads/2019/07/Health-Insurance.jpg'\n",
        "\n",
        "# Display the image\n",
        "Image(url=image_url, width = 600)"
      ]
    },
    {
      "cell_type": "markdown",
      "metadata": {
        "id": "IzheJhAUoDkM"
      },
      "source": [
        "# **Context**\n",
        "\n",
        "This dataset can be helpful in a simple, yet illuminating study in understanding the risk underwriting in Health Insurance, the interplay of various attributes of the insured, and how they affect the insurance premium.\n"
      ]
    },
    {
      "cell_type": "markdown",
      "metadata": {
        "id": "kKarTZ9boDkN"
      },
      "source": [
        "# **About the Dataset**\n",
        "\n",
        "This dataset contains 1338 rows of insured data, where the insurance charges are given against the following attributes of the insured: Age, Sex, BMI, Number of Children, Smoker, and Region. There are no missing or undefined values in the dataset.\n",
        "\n",
        "Body mass index (BMI) provides an understanding of body weights that are relatively high or low relative to height. It is considered to be the objective index of body weight using the ratio of height to weight, ideally 18.5 to 24.9."
      ]
    },
    {
      "cell_type": "markdown",
      "metadata": {
        "id": "uVZZLV3EoDkN"
      },
      "source": [
        "| **Variable**| **Description**                                      |\n",
        "|:------------|:-----------------------------------------------------|\n",
        "| AGE         | The age of the primary beneficiary   |\n",
        "| SEX         | Male or Female                       |\n",
        "| BMI         | Body Mass Index (kg/m<sup>2</sup>)    |\n",
        "| Number of children | Number of dependents covered by the insurance |\n",
        "| Smoker      | Yes or No                                    |\n",
        "| Region      | The beneficiary's residential area in the U.S.<br>northeast, southeast, southwest, and northwest                            |\n",
        "| Charges     | Individual medical costs billed by health insurance  |\n",
        "\n"
      ]
    },
    {
      "cell_type": "markdown",
      "metadata": {
        "id": "2La43aJ7oDkN"
      },
      "source": [
        "Let's take a look at the data. To do this, first we import it directly from the url below.\n",
        "\n"
      ]
    },
    {
      "cell_type": "markdown",
      "metadata": {
        "id": "QjHxSJDsoDkN"
      },
      "source": [
        "# **A Snippet of the Data**"
      ]
    },
    {
      "cell_type": "code",
      "execution_count": null,
      "metadata": {
        "id": "IdmZLxbroDkN"
      },
      "outputs": [],
      "source": [
        "# Assigns the URL where the data file is stored to 'file_path'.\n",
        "url='https://raw.githubusercontent.com/thamilton562/STAT108_Projects_Students/main/DataSets/US%20Health%20Insurance.csv'\n",
        "\n",
        "# Reads in the CSV data file and assigns it to the DataFrame 'df'.\n",
        "df=pd.read_csv(url)"
      ]
    },
    {
      "cell_type": "markdown",
      "metadata": {
        "id": "YYfjOebGoDkN"
      },
      "source": [
        "Next, we can display the data by *typing the name* of the DataFrame. To ensure we can see all columns, we'll use the *pd.set_option* method."
      ]
    },
    {
      "cell_type": "code",
      "execution_count": null,
      "metadata": {
        "colab": {
          "base_uri": "https://localhost:8080/",
          "height": 424
        },
        "outputId": "fc467c00-8c70-45b8-d479-60fd6cc42a2d",
        "id": "INm8ZLJooDkO"
      },
      "outputs": [
        {
          "output_type": "execute_result",
          "data": {
            "text/plain": [
              "      age     sex     bmi  children smoker     region      charges\n",
              "0      19  female  27.900         0    yes  southwest  16884.92400\n",
              "1      18    male  33.770         1     no  southeast   1725.55230\n",
              "2      28    male  33.000         3     no  southeast   4449.46200\n",
              "3      33    male  22.705         0     no  northwest  21984.47061\n",
              "4      32    male  28.880         0     no  northwest   3866.85520\n",
              "...   ...     ...     ...       ...    ...        ...          ...\n",
              "1333   50    male  30.970         3     no  northwest  10600.54830\n",
              "1334   18  female  31.920         0     no  northeast   2205.98080\n",
              "1335   18  female  36.850         0     no  southeast   1629.83350\n",
              "1336   21  female  25.800         0     no  southwest   2007.94500\n",
              "1337   61  female  29.070         0    yes  northwest  29141.36030\n",
              "\n",
              "[1338 rows x 7 columns]"
            ],
            "text/html": [
              "\n",
              "  <div id=\"df-868e6bd8-52e9-4e4f-89b6-97cb96d89ec6\" class=\"colab-df-container\">\n",
              "    <div>\n",
              "<style scoped>\n",
              "    .dataframe tbody tr th:only-of-type {\n",
              "        vertical-align: middle;\n",
              "    }\n",
              "\n",
              "    .dataframe tbody tr th {\n",
              "        vertical-align: top;\n",
              "    }\n",
              "\n",
              "    .dataframe thead th {\n",
              "        text-align: right;\n",
              "    }\n",
              "</style>\n",
              "<table border=\"1\" class=\"dataframe\">\n",
              "  <thead>\n",
              "    <tr style=\"text-align: right;\">\n",
              "      <th></th>\n",
              "      <th>age</th>\n",
              "      <th>sex</th>\n",
              "      <th>bmi</th>\n",
              "      <th>children</th>\n",
              "      <th>smoker</th>\n",
              "      <th>region</th>\n",
              "      <th>charges</th>\n",
              "    </tr>\n",
              "  </thead>\n",
              "  <tbody>\n",
              "    <tr>\n",
              "      <th>0</th>\n",
              "      <td>19</td>\n",
              "      <td>female</td>\n",
              "      <td>27.900</td>\n",
              "      <td>0</td>\n",
              "      <td>yes</td>\n",
              "      <td>southwest</td>\n",
              "      <td>16884.92400</td>\n",
              "    </tr>\n",
              "    <tr>\n",
              "      <th>1</th>\n",
              "      <td>18</td>\n",
              "      <td>male</td>\n",
              "      <td>33.770</td>\n",
              "      <td>1</td>\n",
              "      <td>no</td>\n",
              "      <td>southeast</td>\n",
              "      <td>1725.55230</td>\n",
              "    </tr>\n",
              "    <tr>\n",
              "      <th>2</th>\n",
              "      <td>28</td>\n",
              "      <td>male</td>\n",
              "      <td>33.000</td>\n",
              "      <td>3</td>\n",
              "      <td>no</td>\n",
              "      <td>southeast</td>\n",
              "      <td>4449.46200</td>\n",
              "    </tr>\n",
              "    <tr>\n",
              "      <th>3</th>\n",
              "      <td>33</td>\n",
              "      <td>male</td>\n",
              "      <td>22.705</td>\n",
              "      <td>0</td>\n",
              "      <td>no</td>\n",
              "      <td>northwest</td>\n",
              "      <td>21984.47061</td>\n",
              "    </tr>\n",
              "    <tr>\n",
              "      <th>4</th>\n",
              "      <td>32</td>\n",
              "      <td>male</td>\n",
              "      <td>28.880</td>\n",
              "      <td>0</td>\n",
              "      <td>no</td>\n",
              "      <td>northwest</td>\n",
              "      <td>3866.85520</td>\n",
              "    </tr>\n",
              "    <tr>\n",
              "      <th>...</th>\n",
              "      <td>...</td>\n",
              "      <td>...</td>\n",
              "      <td>...</td>\n",
              "      <td>...</td>\n",
              "      <td>...</td>\n",
              "      <td>...</td>\n",
              "      <td>...</td>\n",
              "    </tr>\n",
              "    <tr>\n",
              "      <th>1333</th>\n",
              "      <td>50</td>\n",
              "      <td>male</td>\n",
              "      <td>30.970</td>\n",
              "      <td>3</td>\n",
              "      <td>no</td>\n",
              "      <td>northwest</td>\n",
              "      <td>10600.54830</td>\n",
              "    </tr>\n",
              "    <tr>\n",
              "      <th>1334</th>\n",
              "      <td>18</td>\n",
              "      <td>female</td>\n",
              "      <td>31.920</td>\n",
              "      <td>0</td>\n",
              "      <td>no</td>\n",
              "      <td>northeast</td>\n",
              "      <td>2205.98080</td>\n",
              "    </tr>\n",
              "    <tr>\n",
              "      <th>1335</th>\n",
              "      <td>18</td>\n",
              "      <td>female</td>\n",
              "      <td>36.850</td>\n",
              "      <td>0</td>\n",
              "      <td>no</td>\n",
              "      <td>southeast</td>\n",
              "      <td>1629.83350</td>\n",
              "    </tr>\n",
              "    <tr>\n",
              "      <th>1336</th>\n",
              "      <td>21</td>\n",
              "      <td>female</td>\n",
              "      <td>25.800</td>\n",
              "      <td>0</td>\n",
              "      <td>no</td>\n",
              "      <td>southwest</td>\n",
              "      <td>2007.94500</td>\n",
              "    </tr>\n",
              "    <tr>\n",
              "      <th>1337</th>\n",
              "      <td>61</td>\n",
              "      <td>female</td>\n",
              "      <td>29.070</td>\n",
              "      <td>0</td>\n",
              "      <td>yes</td>\n",
              "      <td>northwest</td>\n",
              "      <td>29141.36030</td>\n",
              "    </tr>\n",
              "  </tbody>\n",
              "</table>\n",
              "<p>1338 rows × 7 columns</p>\n",
              "</div>\n",
              "    <div class=\"colab-df-buttons\">\n",
              "\n",
              "  <div class=\"colab-df-container\">\n",
              "    <button class=\"colab-df-convert\" onclick=\"convertToInteractive('df-868e6bd8-52e9-4e4f-89b6-97cb96d89ec6')\"\n",
              "            title=\"Convert this dataframe to an interactive table.\"\n",
              "            style=\"display:none;\">\n",
              "\n",
              "  <svg xmlns=\"http://www.w3.org/2000/svg\" height=\"24px\" viewBox=\"0 -960 960 960\">\n",
              "    <path d=\"M120-120v-720h720v720H120Zm60-500h600v-160H180v160Zm220 220h160v-160H400v160Zm0 220h160v-160H400v160ZM180-400h160v-160H180v160Zm440 0h160v-160H620v160ZM180-180h160v-160H180v160Zm440 0h160v-160H620v160Z\"/>\n",
              "  </svg>\n",
              "    </button>\n",
              "\n",
              "  <style>\n",
              "    .colab-df-container {\n",
              "      display:flex;\n",
              "      gap: 12px;\n",
              "    }\n",
              "\n",
              "    .colab-df-convert {\n",
              "      background-color: #E8F0FE;\n",
              "      border: none;\n",
              "      border-radius: 50%;\n",
              "      cursor: pointer;\n",
              "      display: none;\n",
              "      fill: #1967D2;\n",
              "      height: 32px;\n",
              "      padding: 0 0 0 0;\n",
              "      width: 32px;\n",
              "    }\n",
              "\n",
              "    .colab-df-convert:hover {\n",
              "      background-color: #E2EBFA;\n",
              "      box-shadow: 0px 1px 2px rgba(60, 64, 67, 0.3), 0px 1px 3px 1px rgba(60, 64, 67, 0.15);\n",
              "      fill: #174EA6;\n",
              "    }\n",
              "\n",
              "    .colab-df-buttons div {\n",
              "      margin-bottom: 4px;\n",
              "    }\n",
              "\n",
              "    [theme=dark] .colab-df-convert {\n",
              "      background-color: #3B4455;\n",
              "      fill: #D2E3FC;\n",
              "    }\n",
              "\n",
              "    [theme=dark] .colab-df-convert:hover {\n",
              "      background-color: #434B5C;\n",
              "      box-shadow: 0px 1px 3px 1px rgba(0, 0, 0, 0.15);\n",
              "      filter: drop-shadow(0px 1px 2px rgba(0, 0, 0, 0.3));\n",
              "      fill: #FFFFFF;\n",
              "    }\n",
              "  </style>\n",
              "\n",
              "    <script>\n",
              "      const buttonEl =\n",
              "        document.querySelector('#df-868e6bd8-52e9-4e4f-89b6-97cb96d89ec6 button.colab-df-convert');\n",
              "      buttonEl.style.display =\n",
              "        google.colab.kernel.accessAllowed ? 'block' : 'none';\n",
              "\n",
              "      async function convertToInteractive(key) {\n",
              "        const element = document.querySelector('#df-868e6bd8-52e9-4e4f-89b6-97cb96d89ec6');\n",
              "        const dataTable =\n",
              "          await google.colab.kernel.invokeFunction('convertToInteractive',\n",
              "                                                    [key], {});\n",
              "        if (!dataTable) return;\n",
              "\n",
              "        const docLinkHtml = 'Like what you see? Visit the ' +\n",
              "          '<a target=\"_blank\" href=https://colab.research.google.com/notebooks/data_table.ipynb>data table notebook</a>'\n",
              "          + ' to learn more about interactive tables.';\n",
              "        element.innerHTML = '';\n",
              "        dataTable['output_type'] = 'display_data';\n",
              "        await google.colab.output.renderOutput(dataTable, element);\n",
              "        const docLink = document.createElement('div');\n",
              "        docLink.innerHTML = docLinkHtml;\n",
              "        element.appendChild(docLink);\n",
              "      }\n",
              "    </script>\n",
              "  </div>\n",
              "\n",
              "\n",
              "<div id=\"df-f5c73a9b-6631-46b5-bf9c-2fcaeefc4cc1\">\n",
              "  <button class=\"colab-df-quickchart\" onclick=\"quickchart('df-f5c73a9b-6631-46b5-bf9c-2fcaeefc4cc1')\"\n",
              "            title=\"Suggest charts\"\n",
              "            style=\"display:none;\">\n",
              "\n",
              "<svg xmlns=\"http://www.w3.org/2000/svg\" height=\"24px\"viewBox=\"0 0 24 24\"\n",
              "     width=\"24px\">\n",
              "    <g>\n",
              "        <path d=\"M19 3H5c-1.1 0-2 .9-2 2v14c0 1.1.9 2 2 2h14c1.1 0 2-.9 2-2V5c0-1.1-.9-2-2-2zM9 17H7v-7h2v7zm4 0h-2V7h2v10zm4 0h-2v-4h2v4z\"/>\n",
              "    </g>\n",
              "</svg>\n",
              "  </button>\n",
              "\n",
              "<style>\n",
              "  .colab-df-quickchart {\n",
              "      --bg-color: #E8F0FE;\n",
              "      --fill-color: #1967D2;\n",
              "      --hover-bg-color: #E2EBFA;\n",
              "      --hover-fill-color: #174EA6;\n",
              "      --disabled-fill-color: #AAA;\n",
              "      --disabled-bg-color: #DDD;\n",
              "  }\n",
              "\n",
              "  [theme=dark] .colab-df-quickchart {\n",
              "      --bg-color: #3B4455;\n",
              "      --fill-color: #D2E3FC;\n",
              "      --hover-bg-color: #434B5C;\n",
              "      --hover-fill-color: #FFFFFF;\n",
              "      --disabled-bg-color: #3B4455;\n",
              "      --disabled-fill-color: #666;\n",
              "  }\n",
              "\n",
              "  .colab-df-quickchart {\n",
              "    background-color: var(--bg-color);\n",
              "    border: none;\n",
              "    border-radius: 50%;\n",
              "    cursor: pointer;\n",
              "    display: none;\n",
              "    fill: var(--fill-color);\n",
              "    height: 32px;\n",
              "    padding: 0;\n",
              "    width: 32px;\n",
              "  }\n",
              "\n",
              "  .colab-df-quickchart:hover {\n",
              "    background-color: var(--hover-bg-color);\n",
              "    box-shadow: 0 1px 2px rgba(60, 64, 67, 0.3), 0 1px 3px 1px rgba(60, 64, 67, 0.15);\n",
              "    fill: var(--button-hover-fill-color);\n",
              "  }\n",
              "\n",
              "  .colab-df-quickchart-complete:disabled,\n",
              "  .colab-df-quickchart-complete:disabled:hover {\n",
              "    background-color: var(--disabled-bg-color);\n",
              "    fill: var(--disabled-fill-color);\n",
              "    box-shadow: none;\n",
              "  }\n",
              "\n",
              "  .colab-df-spinner {\n",
              "    border: 2px solid var(--fill-color);\n",
              "    border-color: transparent;\n",
              "    border-bottom-color: var(--fill-color);\n",
              "    animation:\n",
              "      spin 1s steps(1) infinite;\n",
              "  }\n",
              "\n",
              "  @keyframes spin {\n",
              "    0% {\n",
              "      border-color: transparent;\n",
              "      border-bottom-color: var(--fill-color);\n",
              "      border-left-color: var(--fill-color);\n",
              "    }\n",
              "    20% {\n",
              "      border-color: transparent;\n",
              "      border-left-color: var(--fill-color);\n",
              "      border-top-color: var(--fill-color);\n",
              "    }\n",
              "    30% {\n",
              "      border-color: transparent;\n",
              "      border-left-color: var(--fill-color);\n",
              "      border-top-color: var(--fill-color);\n",
              "      border-right-color: var(--fill-color);\n",
              "    }\n",
              "    40% {\n",
              "      border-color: transparent;\n",
              "      border-right-color: var(--fill-color);\n",
              "      border-top-color: var(--fill-color);\n",
              "    }\n",
              "    60% {\n",
              "      border-color: transparent;\n",
              "      border-right-color: var(--fill-color);\n",
              "    }\n",
              "    80% {\n",
              "      border-color: transparent;\n",
              "      border-right-color: var(--fill-color);\n",
              "      border-bottom-color: var(--fill-color);\n",
              "    }\n",
              "    90% {\n",
              "      border-color: transparent;\n",
              "      border-bottom-color: var(--fill-color);\n",
              "    }\n",
              "  }\n",
              "</style>\n",
              "\n",
              "  <script>\n",
              "    async function quickchart(key) {\n",
              "      const quickchartButtonEl =\n",
              "        document.querySelector('#' + key + ' button');\n",
              "      quickchartButtonEl.disabled = true;  // To prevent multiple clicks.\n",
              "      quickchartButtonEl.classList.add('colab-df-spinner');\n",
              "      try {\n",
              "        const charts = await google.colab.kernel.invokeFunction(\n",
              "            'suggestCharts', [key], {});\n",
              "      } catch (error) {\n",
              "        console.error('Error during call to suggestCharts:', error);\n",
              "      }\n",
              "      quickchartButtonEl.classList.remove('colab-df-spinner');\n",
              "      quickchartButtonEl.classList.add('colab-df-quickchart-complete');\n",
              "    }\n",
              "    (() => {\n",
              "      let quickchartButtonEl =\n",
              "        document.querySelector('#df-f5c73a9b-6631-46b5-bf9c-2fcaeefc4cc1 button');\n",
              "      quickchartButtonEl.style.display =\n",
              "        google.colab.kernel.accessAllowed ? 'block' : 'none';\n",
              "    })();\n",
              "  </script>\n",
              "</div>\n",
              "\n",
              "  <div id=\"id_4ad1757d-bfd1-4152-a511-a609fd72ea5a\">\n",
              "    <style>\n",
              "      .colab-df-generate {\n",
              "        background-color: #E8F0FE;\n",
              "        border: none;\n",
              "        border-radius: 50%;\n",
              "        cursor: pointer;\n",
              "        display: none;\n",
              "        fill: #1967D2;\n",
              "        height: 32px;\n",
              "        padding: 0 0 0 0;\n",
              "        width: 32px;\n",
              "      }\n",
              "\n",
              "      .colab-df-generate:hover {\n",
              "        background-color: #E2EBFA;\n",
              "        box-shadow: 0px 1px 2px rgba(60, 64, 67, 0.3), 0px 1px 3px 1px rgba(60, 64, 67, 0.15);\n",
              "        fill: #174EA6;\n",
              "      }\n",
              "\n",
              "      [theme=dark] .colab-df-generate {\n",
              "        background-color: #3B4455;\n",
              "        fill: #D2E3FC;\n",
              "      }\n",
              "\n",
              "      [theme=dark] .colab-df-generate:hover {\n",
              "        background-color: #434B5C;\n",
              "        box-shadow: 0px 1px 3px 1px rgba(0, 0, 0, 0.15);\n",
              "        filter: drop-shadow(0px 1px 2px rgba(0, 0, 0, 0.3));\n",
              "        fill: #FFFFFF;\n",
              "      }\n",
              "    </style>\n",
              "    <button class=\"colab-df-generate\" onclick=\"generateWithVariable('df')\"\n",
              "            title=\"Generate code using this dataframe.\"\n",
              "            style=\"display:none;\">\n",
              "\n",
              "  <svg xmlns=\"http://www.w3.org/2000/svg\" height=\"24px\"viewBox=\"0 0 24 24\"\n",
              "       width=\"24px\">\n",
              "    <path d=\"M7,19H8.4L18.45,9,17,7.55,7,17.6ZM5,21V16.75L18.45,3.32a2,2,0,0,1,2.83,0l1.4,1.43a1.91,1.91,0,0,1,.58,1.4,1.91,1.91,0,0,1-.58,1.4L9.25,21ZM18.45,9,17,7.55Zm-12,3A5.31,5.31,0,0,0,4.9,8.1,5.31,5.31,0,0,0,1,6.5,5.31,5.31,0,0,0,4.9,4.9,5.31,5.31,0,0,0,6.5,1,5.31,5.31,0,0,0,8.1,4.9,5.31,5.31,0,0,0,12,6.5,5.46,5.46,0,0,0,6.5,12Z\"/>\n",
              "  </svg>\n",
              "    </button>\n",
              "    <script>\n",
              "      (() => {\n",
              "      const buttonEl =\n",
              "        document.querySelector('#id_4ad1757d-bfd1-4152-a511-a609fd72ea5a button.colab-df-generate');\n",
              "      buttonEl.style.display =\n",
              "        google.colab.kernel.accessAllowed ? 'block' : 'none';\n",
              "\n",
              "      buttonEl.onclick = () => {\n",
              "        google.colab.notebook.generateWithVariable('df');\n",
              "      }\n",
              "      })();\n",
              "    </script>\n",
              "  </div>\n",
              "\n",
              "    </div>\n",
              "  </div>\n"
            ],
            "application/vnd.google.colaboratory.intrinsic+json": {
              "type": "dataframe",
              "variable_name": "df",
              "summary": "{\n  \"name\": \"df\",\n  \"rows\": 1338,\n  \"fields\": [\n    {\n      \"column\": \"age\",\n      \"properties\": {\n        \"dtype\": \"number\",\n        \"std\": 14,\n        \"min\": 18,\n        \"max\": 64,\n        \"num_unique_values\": 47,\n        \"samples\": [\n          21,\n          45,\n          36\n        ],\n        \"semantic_type\": \"\",\n        \"description\": \"\"\n      }\n    },\n    {\n      \"column\": \"sex\",\n      \"properties\": {\n        \"dtype\": \"category\",\n        \"num_unique_values\": 2,\n        \"samples\": [\n          \"male\",\n          \"female\"\n        ],\n        \"semantic_type\": \"\",\n        \"description\": \"\"\n      }\n    },\n    {\n      \"column\": \"bmi\",\n      \"properties\": {\n        \"dtype\": \"number\",\n        \"std\": 6.098186911679017,\n        \"min\": 15.96,\n        \"max\": 53.13,\n        \"num_unique_values\": 548,\n        \"samples\": [\n          23.18,\n          26.885\n        ],\n        \"semantic_type\": \"\",\n        \"description\": \"\"\n      }\n    },\n    {\n      \"column\": \"children\",\n      \"properties\": {\n        \"dtype\": \"number\",\n        \"std\": 1,\n        \"min\": 0,\n        \"max\": 5,\n        \"num_unique_values\": 6,\n        \"samples\": [\n          0,\n          1\n        ],\n        \"semantic_type\": \"\",\n        \"description\": \"\"\n      }\n    },\n    {\n      \"column\": \"smoker\",\n      \"properties\": {\n        \"dtype\": \"category\",\n        \"num_unique_values\": 2,\n        \"samples\": [\n          \"no\",\n          \"yes\"\n        ],\n        \"semantic_type\": \"\",\n        \"description\": \"\"\n      }\n    },\n    {\n      \"column\": \"region\",\n      \"properties\": {\n        \"dtype\": \"category\",\n        \"num_unique_values\": 4,\n        \"samples\": [\n          \"southeast\",\n          \"northeast\"\n        ],\n        \"semantic_type\": \"\",\n        \"description\": \"\"\n      }\n    },\n    {\n      \"column\": \"charges\",\n      \"properties\": {\n        \"dtype\": \"number\",\n        \"std\": 12110.011236693994,\n        \"min\": 1121.8739,\n        \"max\": 63770.42801,\n        \"num_unique_values\": 1337,\n        \"samples\": [\n          8688.85885,\n          5708.867\n        ],\n        \"semantic_type\": \"\",\n        \"description\": \"\"\n      }\n    }\n  ]\n}"
            }
          },
          "metadata": {},
          "execution_count": 4
        }
      ],
      "source": [
        "# Set display options to show all columns\n",
        "pd.set_option('display.max_columns', None)\n",
        "\n",
        "# When you type the object name, the object gets printed.\n",
        "df"
      ]
    },
    {
      "cell_type": "markdown",
      "metadata": {
        "id": "tx98lQoCoDkO"
      },
      "source": [
        "# **INSTRUCTIONS**\n",
        "\n",
        "* Use Python to analyze the data set and complete each of the following.\n",
        "* Replace ellipsis (...) with the relavent names or code.  \n",
        "* For problems that require a written response, replace the ellipsis (...) by double clicking the text box to start typing.\n",
        "* Reference the tutorial from activity for assistance.\n",
        "* Attend office hours if you still need help."
      ]
    },
    {
      "cell_type": "markdown",
      "metadata": {
        "id": "zbj3hIkTIbpp"
      },
      "source": [
        "This assignment is intended to explore the univariate linear relationships between quantitative variables in the data. For this data set, we want to predict insurance charges using an individual's BMI.\n",
        "\n",
        "\n",
        "\n"
      ]
    },
    {
      "cell_type": "markdown",
      "source": [
        "Based on your last name, which variable is explanatory and which is the response?\n",
        "\n",
        "Explanatory: ...\n",
        "\n",
        "Response: ..."
      ],
      "metadata": {
        "id": "7IJT3XU95gcE"
      }
    },
    {
      "cell_type": "markdown",
      "source": [
        "What do you think the direction (positive/negative) and strength (weak/moderate/strong) will be?"
      ],
      "metadata": {
        "id": "mPrSROvP5gMr"
      }
    },
    {
      "cell_type": "markdown",
      "source": [
        "# ..."
      ],
      "metadata": {
        "id": "VhMDCYnqhUOq"
      }
    },
    {
      "cell_type": "markdown",
      "metadata": {
        "id": "xkEtDHs70CzZ"
      },
      "source": [
        "# **QUESTION 1**\n",
        "\n",
        "## Scatterplot\n",
        "\n",
        "**1.1)** Construct a scatterplot that could be used to show the relationship between the variables stated above."
      ]
    },
    {
      "cell_type": "code",
      "execution_count": null,
      "metadata": {
        "id": "_YFf23s4JZlN",
        "outputId": "1b2370e7-9254-44d0-cd10-a76b8dc5d453",
        "colab": {
          "base_uri": "https://localhost:8080/",
          "height": 417
        }
      },
      "outputs": [
        {
          "output_type": "display_data",
          "data": {
            "text/html": [
              "<html>\n",
              "<head><meta charset=\"utf-8\" /></head>\n",
              "<body>\n",
              "    <div>            <script src=\"https://cdnjs.cloudflare.com/ajax/libs/mathjax/2.7.5/MathJax.js?config=TeX-AMS-MML_SVG\"></script><script type=\"text/javascript\">if (window.MathJax && window.MathJax.Hub && window.MathJax.Hub.Config) {window.MathJax.Hub.Config({SVG: {font: \"STIX-Web\"}});}</script>                <script type=\"text/javascript\">window.PlotlyConfig = {MathJaxConfig: 'local'};</script>\n",
              "        <script charset=\"utf-8\" src=\"https://cdn.plot.ly/plotly-2.35.2.min.js\"></script>                <div id=\"870b3790-311c-4127-b5b2-47f851e92e62\" class=\"plotly-graph-div\" style=\"height:400px; width:575px;\"></div>            <script type=\"text/javascript\">                                    window.PLOTLYENV=window.PLOTLYENV || {};                                    if (document.getElementById(\"870b3790-311c-4127-b5b2-47f851e92e62\")) {                    Plotly.newPlot(                        \"870b3790-311c-4127-b5b2-47f851e92e62\",                        [{\"hovertemplate\":\"Body Mass Index=%{x}\\u003cbr\\u003eMedical Charges=%{y}\\u003cextra\\u003e\\u003c\\u002fextra\\u003e\",\"legendgroup\":\"\",\"marker\":{\"color\":\"#636efa\",\"symbol\":\"circle\"},\"mode\":\"markers\",\"name\":\"\",\"showlegend\":false,\"x\":[27.9,33.77,33.0,22.705,28.88,25.74,33.44,27.74,29.83,25.84,26.22,26.29,34.4,39.82,42.13,24.6,30.78,23.845,40.3,35.3,36.005,32.4,34.1,31.92,28.025,27.72,23.085,32.775,17.385,36.3,35.6,26.315,28.6,28.31,36.4,20.425,32.965,20.8,36.67,39.9,26.6,36.63,21.78,30.8,37.05,37.3,38.665,34.77,24.53,35.2,35.625,33.63,28.0,34.43,28.69,36.955,31.825,31.68,22.88,37.335,27.36,33.66,24.7,25.935,22.42,28.9,39.1,26.315,36.19,23.98,24.75,28.5,28.1,32.01,27.4,34.01,29.59,35.53,39.805,32.965,26.885,38.285,37.62,41.23,34.8,22.895,31.16,27.2,27.74,26.98,39.49,24.795,29.83,34.77,31.3,37.62,30.8,38.28,19.95,19.3,31.6,25.46,30.115,29.92,27.5,28.025,28.4,30.875,27.94,35.09,33.63,29.7,30.8,35.72,32.205,28.595,49.06,27.94,27.17,23.37,37.1,23.75,28.975,31.35,33.915,28.785,28.3,37.4,17.765,34.7,26.505,22.04,35.9,25.555,28.785,28.05,34.1,25.175,31.9,36.0,22.42,32.49,25.3,29.735,28.69,38.83,30.495,37.73,37.43,28.4,24.13,29.7,37.145,23.37,25.46,39.52,24.42,25.175,35.53,27.83,26.6,36.85,39.6,29.8,29.64,28.215,37.0,33.155,31.825,18.905,41.47,30.3,15.96,34.8,33.345,37.7,27.835,29.2,28.9,33.155,28.595,38.28,19.95,26.41,30.69,41.895,29.92,30.9,32.2,32.11,31.57,26.2,25.74,26.6,34.43,30.59,32.8,28.6,18.05,39.33,32.11,32.23,24.035,36.08,22.3,28.88,26.4,27.74,31.8,41.23,33.0,30.875,28.5,26.73,30.9,37.1,26.6,23.1,29.92,23.21,33.7,33.25,30.8,34.8,24.64,33.88,38.06,41.91,31.635,25.46,36.195,27.83,17.8,27.5,24.51,22.22,26.73,38.39,29.07,38.06,36.67,22.135,26.8,35.3,27.74,30.02,38.06,35.86,20.9,28.975,17.29,32.2,34.21,30.3,31.825,25.365,33.63,40.15,24.415,31.92,25.2,26.84,24.32,36.955,38.06,42.35,19.8,32.395,30.2,25.84,29.37,34.2,37.05,27.455,27.55,26.6,20.615,24.3,31.79,21.56,28.12,40.565,27.645,32.395,31.2,26.62,48.07,26.22,36.765,26.4,33.4,29.64,45.54,28.82,26.8,22.99,27.7,25.41,34.39,28.88,27.55,22.61,37.51,33.0,38.0,33.345,27.5,33.33,34.865,33.06,26.6,24.7,35.97,35.86,31.4,33.25,32.205,32.775,27.645,37.335,25.27,29.64,30.8,40.945,27.2,34.105,23.21,36.48,33.8,36.7,36.385,27.36,31.16,28.785,35.72,34.5,25.74,27.55,32.3,27.72,27.6,30.02,27.55,36.765,41.47,29.26,35.75,33.345,29.92,27.835,23.18,25.6,27.7,35.245,38.28,27.6,43.89,29.83,41.91,20.79,32.3,30.5,21.7,26.4,21.89,30.78,32.3,24.985,32.015,30.4,21.09,22.23,33.155,32.9,33.33,28.31,24.89,40.15,30.115,31.46,17.955,30.685,33.0,43.34,22.135,34.4,39.05,25.365,22.61,30.21,35.625,37.43,31.445,31.35,32.3,19.855,34.4,31.02,25.6,38.17,20.6,47.52,32.965,32.3,20.4,38.38,24.31,23.6,21.12,30.03,17.48,20.235,17.195,23.9,35.15,35.64,34.1,22.6,39.16,26.98,33.88,35.86,32.775,30.59,30.2,24.31,27.265,29.165,16.815,30.4,33.1,20.235,26.9,30.5,28.595,33.11,31.73,28.9,46.75,29.45,32.68,33.5,43.01,36.52,26.695,33.1,29.64,25.65,29.6,38.6,29.6,24.13,23.4,29.735,46.53,37.4,30.14,30.495,39.6,33.0,36.63,30.0,38.095,25.935,25.175,28.38,28.7,33.82,24.32,24.09,32.67,30.115,29.8,33.345,25.1,28.31,28.5,35.625,36.85,32.56,41.325,37.51,31.35,39.5,34.3,31.065,21.47,28.7,38.06,31.16,32.9,25.08,25.08,43.4,25.7,27.93,23.6,28.7,23.98,39.2,34.4,26.03,23.21,30.25,28.93,30.875,31.35,23.75,25.27,28.7,32.11,33.66,22.42,30.4,28.3,35.7,35.31,30.495,31.0,30.875,27.36,44.22,33.915,37.73,26.07,33.88,30.59,25.8,39.425,25.46,42.13,31.73,29.7,36.19,40.48,28.025,38.9,30.2,28.05,31.35,38.0,31.79,36.3,47.41,30.21,25.84,35.435,46.7,28.595,46.2,30.8,28.93,21.4,31.73,41.325,23.8,33.44,34.21,34.105,35.53,19.95,32.68,30.5,44.77,32.12,30.495,40.565,30.59,31.9,40.565,29.1,37.29,43.12,36.86,34.295,27.17,26.84,38.095,30.2,23.465,25.46,30.59,45.43,23.65,20.7,28.27,20.235,30.21,35.91,30.69,29.0,19.57,31.13,21.85,40.26,33.725,29.48,33.25,32.6,37.525,39.16,31.635,25.3,39.05,28.31,34.1,25.175,23.655,26.98,37.8,29.37,34.8,33.155,19.0,33.0,36.63,28.595,25.6,33.11,37.1,31.4,34.1,21.3,33.535,28.785,26.03,28.88,42.46,38.0,38.95,36.1,29.3,35.53,22.705,39.7,38.19,24.51,38.095,26.41,33.66,42.4,28.31,33.915,34.96,35.31,30.78,26.22,23.37,28.5,32.965,42.68,39.6,31.13,36.3,35.2,25.3,42.4,33.155,35.91,28.785,46.53,23.98,31.54,33.66,22.99,38.06,28.7,32.775,32.015,29.81,31.57,31.16,29.7,31.02,43.89,21.375,40.81,31.35,36.1,23.18,17.4,20.3,35.3,24.32,18.5,26.41,26.125,41.69,24.1,31.13,27.36,36.2,32.395,23.655,34.8,40.185,32.3,35.75,33.725,39.27,34.87,44.745,41.47,26.41,29.545,32.9,38.06,28.69,30.495,27.74,35.2,23.54,30.685,40.47,22.6,28.9,22.61,24.32,36.67,33.44,40.66,36.6,37.4,35.4,27.075,39.05,28.405,21.755,40.28,36.08,24.42,21.4,30.1,27.265,32.1,34.77,38.39,23.7,31.73,35.5,24.035,29.15,34.105,26.62,26.41,30.115,27.0,21.755,36.0,30.875,26.4,28.975,37.905,22.77,33.63,27.645,22.8,27.83,37.43,38.17,34.58,35.2,27.1,26.03,25.175,31.825,32.3,29.0,39.7,19.475,36.1,26.7,36.48,28.88,34.2,33.33,32.3,39.805,34.32,28.88,24.4,41.14,35.97,27.6,29.26,27.7,36.955,36.86,22.515,29.92,41.8,27.6,23.18,20.9,31.92,28.5,44.22,22.895,33.1,24.795,26.18,35.97,22.3,42.24,26.51,35.815,41.42,36.575,30.14,25.84,30.8,42.94,21.01,22.515,34.43,31.46,24.225,37.1,26.125,35.53,33.7,17.67,31.13,29.81,24.32,31.825,31.79,28.025,30.78,21.85,33.1,25.84,23.845,34.39,33.82,35.97,31.5,28.31,23.465,31.35,31.1,24.7,32.78,29.81,30.495,32.45,34.2,50.38,24.1,32.775,30.78,32.3,35.53,23.75,23.845,29.6,33.11,24.13,32.23,28.1,47.6,28.0,33.535,19.855,25.4,29.9,37.29,43.7,23.655,24.3,36.2,29.48,24.86,30.1,21.85,28.12,27.1,33.44,28.8,29.5,34.8,27.36,22.135,37.05,26.695,28.93,28.975,30.02,39.5,33.63,26.885,29.04,24.035,38.94,32.11,44.0,20.045,25.555,40.26,22.515,22.515,40.92,27.265,36.85,35.1,29.355,32.585,32.34,39.8,24.6,28.31,31.73,26.695,27.5,24.605,33.99,26.885,22.895,28.2,34.21,25.0,33.2,31.0,35.815,23.2,32.11,23.4,20.1,39.16,34.21,46.53,32.5,25.8,35.3,37.18,27.5,29.735,24.225,26.18,29.48,23.21,46.09,40.185,22.61,39.93,35.8,35.8,34.2,31.255,29.7,18.335,42.9,28.405,30.2,27.835,39.49,30.8,26.79,34.96,36.67,39.615,25.9,35.2,24.795,36.765,27.1,24.795,25.365,25.745,34.32,28.16,23.56,20.235,40.5,35.42,22.895,40.15,29.15,39.995,29.92,25.46,21.375,25.9,30.59,30.115,25.8,30.115,27.645,34.675,20.52,19.8,27.835,31.6,28.27,20.045,23.275,34.1,36.85,36.29,26.885,22.99,32.7,25.8,29.6,19.19,31.73,29.26,28.215,24.985,27.74,22.8,20.13,33.33,32.3,27.6,25.46,24.605,34.2,35.815,32.68,37.0,31.02,36.08,23.32,45.32,34.6,26.03,18.715,31.6,17.29,23.655,35.2,27.93,21.565,38.38,23.0,37.07,30.495,28.88,27.265,28.025,23.085,30.685,25.8,35.245,24.7,25.08,52.58,22.515,30.9,36.955,26.41,29.83,29.8,21.47,27.645,28.9,31.79,39.49,33.82,32.01,27.94,41.14,28.595,25.6,25.3,37.29,42.655,21.66,31.9,37.07,31.445,31.255,28.88,18.335,29.59,32.0,26.03,31.68,33.66,21.78,27.835,19.95,31.5,30.495,18.3,28.975,31.54,47.74,22.1,36.19,29.83,32.7,30.4,33.7,31.35,34.96,33.77,30.875,33.99,19.095,28.6,38.94,36.08,29.8,31.24,29.925,26.22,30.0,20.35,32.3,38.39,25.85,26.315,24.51,32.67,29.64,33.33,35.75,19.95,31.4,38.17,36.86,32.395,42.75,25.08,29.9,35.86,32.8,18.6,23.87,45.9,40.28,18.335,33.82,28.12,25.0,22.23,30.25,32.49,37.07,32.6,24.86,32.34,32.3,32.775,32.8,31.92,21.5,34.1,30.305,36.48,32.56,35.815,27.93,22.135,44.88,23.18,30.59,41.1,34.58,42.13,38.83,28.215,28.31,26.125,40.37,24.6,35.2,34.105,27.36,26.7,41.91,29.26,32.11,27.1,24.13,27.4,34.865,29.81,41.325,29.925,30.3,27.36,28.49,23.56,35.625,32.68,25.27,28.0,32.775,21.755,32.395,36.575,21.755,27.93,30.02,33.55,29.355,25.8,24.32,40.375,32.11,32.3,27.28,17.86,34.8,33.4,25.555,37.1,30.875,34.1,21.47,33.3,31.255,39.14,25.08,37.29,34.6,30.21,21.945,24.97,25.3,24.42,23.94,39.82,16.815,37.18,34.43,30.305,34.485,21.8,24.605,23.3,27.83,31.065,21.66,28.215,22.705,42.13,41.8,36.96,21.28,33.11,33.33,24.3,25.7,29.4,39.82,33.63,29.83,19.8,27.3,29.3,27.72,37.9,36.385,27.645,37.715,23.18,20.52,37.1,28.05,29.9,33.345,23.76,30.5,31.065,33.3,27.5,33.915,34.485,25.52,27.61,27.06,23.7,30.4,29.735,29.925,26.79,33.33,27.645,21.66,30.03,36.3,24.32,17.29,25.9,39.4,34.32,19.95,34.9,23.21,25.745,25.175,22.0,26.125,26.51,27.455,25.745,30.36,30.875,20.8,27.8,24.605,27.72,21.85,28.12,30.2,32.2,26.315,26.695,42.9,34.7,23.655,28.31,20.6,53.13,39.71,26.315,31.065,26.695,38.83,40.37,25.935,33.535,32.87,30.03,24.225,38.6,25.74,33.4,44.7,30.97,31.92,36.85,25.8,29.07],\"xaxis\":\"x\",\"y\":[16884.924,1725.5523,4449.462,21984.47061,3866.8552,3756.6216,8240.5896,7281.5056,6406.4107,28923.13692,2721.3208,27808.7251,1826.843,11090.7178,39611.7577,1837.237,10797.3362,2395.17155,10602.385,36837.467,13228.84695,4149.736,1137.011,37701.8768,6203.90175,14001.1338,14451.83515,12268.63225,2775.19215,38711.0,35585.576,2198.18985,4687.797,13770.0979,51194.55914,1625.43375,15612.19335,2302.3,39774.2763,48173.361,3046.062,4949.7587,6272.4772,6313.759,6079.6715,20630.28351,3393.35635,3556.9223,12629.8967,38709.176,2211.13075,3579.8287,23568.272,37742.5757,8059.6791,47496.49445,13607.36875,34303.1672,23244.7902,5989.52365,8606.2174,4504.6624,30166.61817,4133.64165,14711.7438,1743.214,14235.072,6389.37785,5920.1041,17663.1442,16577.7795,6799.458,11741.726,11946.6259,7726.854,11356.6609,3947.4131,1532.4697,2755.02095,6571.02435,4441.21315,7935.29115,37165.1638,11033.6617,39836.519,21098.55405,43578.9394,11073.176,8026.6666,11082.5772,2026.9741,10942.13205,30184.9367,5729.0053,47291.055,3766.8838,12105.32,10226.2842,22412.6485,15820.699,6186.127,3645.0894,21344.8467,30942.1918,5003.853,17560.37975,2331.519,3877.30425,2867.1196,47055.5321,10825.2537,11881.358,4646.759,2404.7338,11488.31695,30259.99556,11381.3254,19107.7796,8601.3293,6686.4313,7740.337,1705.6245,2257.47525,39556.4945,10115.00885,3385.39915,17081.08,9634.538,32734.1863,6082.405,12815.44495,13616.3586,11163.568,1632.56445,2457.21115,2155.6815,1261.442,2045.68525,27322.73386,2166.732,27375.90478,3490.5491,18972.495,18157.876,20745.9891,5138.2567,40720.55105,9877.6077,10959.6947,1842.519,5125.2157,7789.635,6334.34355,19964.7463,7077.1894,6948.7008,21223.6758,15518.18025,36950.2567,19749.38338,21348.706,36149.4835,10450.552,5152.134,5028.1466,10407.08585,4830.63,6128.79745,2719.27975,4827.90495,13405.3903,8116.68,1694.7964,5246.047,2855.43755,48824.45,6455.86265,10436.096,8823.279,8538.28845,11735.87905,1631.8212,4005.4225,7419.4779,7731.4271,43753.33705,3981.9768,5325.651,6775.961,4922.9159,12557.6053,4883.866,2137.6536,12044.342,1137.4697,1639.5631,5649.715,8516.829,9644.2525,14901.5167,2130.6759,8871.1517,13012.20865,37133.8982,7147.105,4337.7352,11743.299,20984.0936,13880.949,6610.1097,1980.07,8162.71625,3537.703,5002.7827,8520.026,7371.772,10355.641,2483.736,3392.9768,25081.76784,5012.471,10564.8845,5253.524,34779.615,19515.5416,11987.1682,2689.4954,24227.33724,7358.17565,9225.2564,7443.64305,14001.2867,1727.785,12333.828,6710.1919,19444.2658,1615.7667,4463.2051,17352.6803,7152.6714,38511.6283,5354.07465,35160.13457,7196.867,29523.1656,24476.47851,12648.7034,1986.9334,1832.094,4040.55825,12829.4551,47305.305,44260.7499,4260.744,41097.16175,13047.33235,43921.1837,5400.9805,11520.09985,33750.2918,11837.16,17085.2676,24869.8368,36219.40545,20462.99766,46151.1245,17179.522,14590.63205,7441.053,9282.4806,1719.4363,42856.838,7265.7025,9617.66245,2523.1695,9715.841,2803.69785,2150.469,12928.7911,9855.1314,22331.5668,48549.17835,4237.12655,11879.10405,9625.92,7742.1098,9432.9253,14256.1928,47896.79135,25992.82104,3172.018,20277.80751,42112.2356,2156.7518,3906.127,1704.5681,16297.846,21978.6769,38746.3551,9249.4952,6746.7425,24873.3849,12265.5069,4349.462,12646.207,19442.3535,20177.67113,4151.0287,11944.59435,7749.1564,8444.474,1737.376,42124.5153,8124.4084,34838.873,9722.7695,8835.26495,10435.06525,7421.19455,4667.60765,4894.7533,24671.66334,35491.64,11566.30055,2866.091,6600.20595,3561.8889,42760.5022,47928.03,9144.565,48517.56315,24393.6224,13429.0354,11658.37915,19144.57652,13822.803,12142.5786,13937.6665,41919.097,8232.6388,18955.22017,13352.0998,13217.0945,13981.85035,10977.2063,6184.2994,4889.9995,8334.45755,5478.0368,1635.73365,11830.6072,8932.084,3554.203,12404.8791,14133.03775,24603.04837,8944.1151,9620.3307,1837.2819,1607.5101,10043.249,4751.07,13844.506,2597.779,3180.5101,9778.3472,13430.265,8017.06115,8116.26885,3481.868,13415.0381,12029.2867,7639.41745,36085.219,1391.5287,18033.9679,21659.9301,38126.2465,16455.70785,27000.98473,15006.57945,42303.69215,20781.48892,5846.9176,8302.53565,1261.859,11856.4115,30284.64294,3176.8159,4618.0799,10736.87075,2138.0707,8964.06055,9290.1395,9411.005,7526.70645,8522.003,16586.49771,14988.432,1631.6683,9264.797,8083.9198,14692.66935,10269.46,3260.199,11396.9002,4185.0979,8539.671,6652.5288,4074.4537,1621.3402,19594.80965,14455.64405,5080.096,2134.9015,7345.7266,9140.951,18608.262,14418.2804,28950.4692,46889.2612,46599.1084,39125.33225,2727.3951,8968.33,9788.8659,6555.07035,7323.734819,3167.45585,18804.7524,23082.95533,4906.40965,5969.723,12638.195,4243.59005,13919.8229,2254.7967,5926.846,12592.5345,2897.3235,4738.2682,37079.372,1149.3959,28287.89766,26109.32905,7345.084,12730.9996,11454.0215,5910.944,4762.329,7512.267,4032.2407,1969.614,1769.53165,4686.3887,21797.0004,11881.9696,11840.77505,10601.412,7682.67,10381.4787,22144.032,15230.32405,11165.41765,1632.03625,19521.9682,13224.693,12643.3778,23288.9284,2201.0971,2497.0383,2203.47185,1744.465,20878.78443,25382.297,28868.6639,35147.52848,2534.39375,1534.3045,1824.2854,15555.18875,9304.7019,1622.1885,9880.068,9563.029,4347.02335,12475.3513,1253.936,48885.13561,10461.9794,1748.774,24513.09126,2196.4732,12574.049,17942.106,1967.0227,4931.647,8027.968,8211.1002,13470.86,36197.699,6837.3687,22218.1149,32548.3405,5974.3847,6796.86325,2643.2685,3077.0955,3044.2133,11455.28,11763.0009,2498.4144,9361.3268,1256.299,21082.16,11362.755,27724.28875,8413.46305,5240.765,3857.75925,25656.57526,3994.1778,9866.30485,5397.6167,38245.59327,11482.63485,24059.68019,9861.025,8342.90875,1708.0014,48675.5177,14043.4767,12925.886,19214.70553,13831.1152,6067.12675,5972.378,8825.086,8233.0975,27346.04207,6196.448,3056.3881,13887.204,63770.42801,10231.4999,23807.2406,3268.84665,11538.421,3213.62205,45863.205,13390.559,3972.9247,12957.118,11187.6567,17878.90068,3847.674,8334.5896,3935.1799,39983.42595,1646.4297,9193.8385,10923.9332,2494.022,9058.7303,2801.2588,2128.43105,6373.55735,7256.7231,11552.904,45702.02235,3761.292,2219.4451,4753.6368,31620.00106,13224.05705,12222.8983,1664.9996,58571.07448,9724.53,3206.49135,12913.9924,1639.5631,6356.2707,17626.23951,1242.816,4779.6023,3861.20965,43943.8761,13635.6379,5976.8311,11842.442,8428.0693,2566.4707,15359.1045,5709.1644,8823.98575,7640.3092,5594.8455,7441.501,33471.97189,1633.0444,9174.13565,11070.535,16085.1275,17468.9839,9283.562,3558.62025,25678.77845,4435.0942,39241.442,8547.6913,6571.544,2207.69745,6753.038,1880.07,42969.8527,11658.11505,23306.547,34439.8559,10713.644,3659.346,40182.246,9182.17,34617.84065,12129.61415,3736.4647,6748.5912,11326.71487,11365.952,42983.4585,10085.846,1977.815,3366.6697,7173.35995,9391.346,14410.9321,2709.1119,24915.04626,20149.3229,12949.1554,6666.243,32787.45859,13143.86485,4466.6214,18806.14547,10141.1362,6123.5688,8252.2843,1712.227,12430.95335,9800.8882,10579.711,8280.6227,8527.532,12244.531,24667.419,3410.324,4058.71245,26392.26029,14394.39815,6435.6237,22192.43711,5148.5526,1136.3994,27037.9141,42560.4304,8703.456,40003.33225,45710.20785,6500.2359,4837.5823,3943.5954,4399.731,6185.3208,46200.9851,7222.78625,12485.8009,46130.5265,12363.547,10156.7832,2585.269,1242.26,40103.89,9863.4718,4766.022,11244.3769,7729.64575,5438.7491,26236.57997,34806.4677,2104.1134,8068.185,2362.22905,2352.96845,3577.999,3201.24515,29186.48236,40273.6455,10976.24575,3500.6123,2020.5523,9541.69555,9504.3103,5385.3379,8930.93455,5375.038,44400.4064,10264.4421,6113.23105,5469.0066,1727.54,10107.2206,8310.83915,1984.4533,2457.502,12146.971,9566.9909,13112.6048,10848.1343,12231.6136,9875.6804,11264.541,12979.358,1263.249,10106.13425,40932.4295,6664.68595,16657.71745,2217.6012,6781.3542,19361.9988,10065.413,4234.927,9447.25035,14007.222,9583.8933,40419.0191,3484.331,36189.1017,44585.45587,8604.48365,18246.4955,43254.41795,3757.8448,8827.2099,9910.35985,11737.84884,1627.28245,8556.907,3062.50825,19539.243,1906.35825,14210.53595,11833.7823,17128.42608,5031.26955,7985.815,23065.4207,5428.7277,36307.7983,3925.7582,2416.955,19040.876,3070.8087,9095.06825,11842.62375,8062.764,7050.642,14319.031,6933.24225,27941.28758,11150.78,12797.20962,17748.5062,7261.741,10560.4917,6986.697,7448.40395,5934.3798,9869.8102,18259.216,1146.7966,9386.1613,24520.264,4350.5144,6414.178,12741.16745,1917.3184,5209.57885,13457.9608,5662.225,1252.407,2731.9122,21195.818,7209.4918,18310.742,4266.1658,4719.52405,11848.141,17904.52705,7046.7222,14313.8463,2103.08,38792.6856,1815.8759,7731.85785,28476.73499,2136.88225,1131.5066,3309.7926,9414.92,6360.9936,11013.7119,4428.88785,5584.3057,1877.9294,2842.76075,3597.596,23401.30575,55135.40209,7445.918,2680.9493,1621.8827,8219.2039,12523.6048,16069.08475,43813.8661,20773.62775,39597.4072,6117.4945,13393.756,5266.3656,4719.73655,11743.9341,5377.4578,7160.3303,4402.233,11657.7189,6402.29135,12622.1795,1526.312,12323.936,36021.0112,27533.9129,10072.05505,45008.9555,9872.701,2438.0552,2974.126,10601.63225,37270.1512,14119.62,42111.6647,11729.6795,24106.91255,1875.344,40974.1649,15817.9857,18218.16139,10965.446,46113.511,7151.092,12269.68865,5458.04645,8782.469,6600.361,1141.4451,11576.13,13129.60345,4391.652,8457.818,3392.3652,5966.8874,6849.026,8891.1395,2690.1138,26140.3603,6653.7886,6282.235,6311.952,3443.064,2789.0574,2585.85065,46255.1125,4877.98105,19719.6947,27218.43725,5272.1758,1682.597,11945.1327,29330.98315,7243.8136,10422.91665,44202.6536,13555.0049,13063.883,19798.05455,2221.56445,1634.5734,2117.33885,8688.85885,48673.5588,4661.28635,8125.7845,12644.589,4564.19145,4846.92015,7633.7206,15170.069,17496.306,2639.0429,33732.6867,14382.70905,7626.993,5257.50795,2473.3341,21774.32215,35069.37452,13041.921,5245.2269,13451.122,13462.52,5488.262,4320.41085,6250.435,25333.33284,2913.569,12032.326,13470.8044,6289.7549,2927.0647,6238.298,10096.97,7348.142,4673.3922,12233.828,32108.66282,8965.79575,2304.0022,9487.6442,1121.8739,9549.5651,2217.46915,1628.4709,12982.8747,11674.13,7160.094,39047.285,6358.77645,19933.458,11534.87265,47462.894,4527.18295,38998.546,20009.63365,3875.7341,41999.52,12609.88702,41034.2214,28468.91901,2730.10785,3353.284,14474.675,9500.57305,26467.09737,4746.344,23967.38305,7518.02535,3279.86855,8596.8278,10702.6424,4992.3764,2527.81865,1759.338,2322.6218,16138.76205,7804.1605,2902.9065,9704.66805,4889.0368,25517.11363,4500.33925,19199.944,16796.41194,4915.05985,7624.63,8410.04685,28340.18885,4518.82625,14571.8908,3378.91,7144.86265,10118.424,5484.4673,16420.49455,7986.47525,7418.522,13887.9685,6551.7501,5267.81815,17361.7661,34472.841,1972.95,21232.18226,8627.5411,4433.3877,4438.2634,24915.22085,23241.47453,9957.7216,8269.044,18767.7377,36580.28216,8765.249,5383.536,12124.9924,2709.24395,3987.926,12495.29085,26018.95052,8798.593,35595.5898,42211.1382,1711.0268,8569.8618,2020.177,16450.8947,21595.38229,9850.432,6877.9801,21677.28345,44423.803,4137.5227,13747.87235,12950.0712,12094.478,37484.4493,39725.51805,2250.8352,22493.65964,20234.85475,1704.70015,33475.81715,3161.454,11394.06555,21880.82,7325.0482,44501.3982,3594.17085,39727.614,8023.13545,14394.5579,9288.0267,25309.489,3353.4703,10594.50155,8277.523,17929.30337,2480.9791,4462.7218,1981.5819,11554.2236,48970.2476,6548.19505,5708.867,7045.499,8978.1851,5757.41345,14349.8544,10928.849,39871.7043,13974.45555,1909.52745,12096.6512,13204.28565,4562.8421,8551.347,2102.2647,34672.1472,15161.5344,11884.04858,4454.40265,5855.9025,4076.497,15019.76005,19023.26,10796.35025,11353.2276,9748.9106,10577.087,41676.0811,11286.5387,3591.48,33907.548,11299.343,4561.1885,44641.1974,1674.6323,23045.56616,3227.1211,16776.30405,11253.421,3471.4096,11363.2832,20420.60465,10338.9316,8988.15875,10493.9458,2904.088,8605.3615,11512.405,41949.2441,24180.9335,5312.16985,2396.0959,10807.4863,9222.4026,36124.5737,38282.7495,5693.4305,34166.273,8347.1643,46661.4424,18903.49141,40904.1995,14254.6082,10214.636,5836.5204,14358.36437,1728.897,8582.3023,3693.428,20709.02034,9991.03765,19673.33573,11085.5868,7623.518,3176.2877,3704.3545,36898.73308,9048.0273,7954.517,27117.99378,6338.0756,9630.397,11289.10925,52590.82939,2261.5688,10791.96,5979.731,2203.73595,12235.8392,40941.2854,5630.45785,11015.1747,7228.21565,39722.7462,14426.07385,2459.7201,3989.841,7727.2532,5124.1887,18963.17192,2200.83085,7153.5539,5227.98875,10982.5013,4529.477,4670.64,6112.35295,17178.6824,22478.6,11093.6229,6457.8434,4433.9159,2154.361,23887.6627,6496.886,2899.48935,19350.3689,7650.77375,2850.68375,2632.992,9447.3824,18328.2381,8603.8234,37465.34375,13844.7972,21771.3423,13126.67745,5327.40025,13725.47184,13019.16105,8671.19125,4134.08245,18838.70366,33307.5508,5699.8375,6393.60345,4934.705,6198.7518,8733.22925,2055.3249,9964.06,18223.4512,5116.5004,36910.60803,38415.474,20296.86345,12347.172,5373.36425,23563.01618,1702.4553,10806.839,3956.07145,12890.05765,5415.6612,4058.1161,41661.602,7537.1639,4718.20355,6593.5083,8442.667,26125.67477,6858.4796,4795.6568,6640.54485,7162.0122,10594.2257,11938.25595,60021.39897,20167.33603,12479.70895,11345.519,8515.7587,2699.56835,14449.8544,12224.35085,6985.50695,3238.4357,47269.854,49577.6624,4296.2712,3171.6149,1135.9407,5615.369,9101.798,6059.173,1633.9618,37607.5277,18648.4217,1241.565,16232.847,15828.82173,4415.1588,6474.013,11436.73815,11305.93455,30063.58055,10197.7722,4544.2348,3277.161,6770.1925,7337.748,10370.91255,26926.5144,10704.47,34254.05335,1880.487,8615.3,3292.52985,3021.80915,14478.33015,4747.0529,17043.3414,10959.33,2741.948,4357.04365,22462.04375,4189.1131,8283.6807,24535.69855,14283.4594,1720.3537,47403.88,8534.6718,3732.6251,5472.449,38344.566,7147.4728,7133.9025,34828.654,1515.3449,9301.89355,11931.12525,1964.78,1708.92575,4340.4409,5261.46945,2710.82855,62592.87309,46718.16325,3208.787,37829.7242,21259.37795,2464.6188,16115.3045,21472.4788,33900.653,6875.961,6940.90985,4571.41305,4536.259,36397.576,18765.87545,11272.33139,1731.677,1163.4627,19496.71917,7201.70085,5425.02335,28101.33305,12981.3457,43896.3763,4239.89265,13143.33665,7050.0213,9377.9047,22395.74424,10325.206,12629.1656,10795.93733,11411.685,10600.5483,2205.9808,1629.8335,2007.945,29141.3603],\"yaxis\":\"y\",\"type\":\"scattergl\"}],                        {\"template\":{\"data\":{\"histogram2dcontour\":[{\"type\":\"histogram2dcontour\",\"colorbar\":{\"outlinewidth\":0,\"ticks\":\"\"},\"colorscale\":[[0.0,\"#0d0887\"],[0.1111111111111111,\"#46039f\"],[0.2222222222222222,\"#7201a8\"],[0.3333333333333333,\"#9c179e\"],[0.4444444444444444,\"#bd3786\"],[0.5555555555555556,\"#d8576b\"],[0.6666666666666666,\"#ed7953\"],[0.7777777777777778,\"#fb9f3a\"],[0.8888888888888888,\"#fdca26\"],[1.0,\"#f0f921\"]]}],\"choropleth\":[{\"type\":\"choropleth\",\"colorbar\":{\"outlinewidth\":0,\"ticks\":\"\"}}],\"histogram2d\":[{\"type\":\"histogram2d\",\"colorbar\":{\"outlinewidth\":0,\"ticks\":\"\"},\"colorscale\":[[0.0,\"#0d0887\"],[0.1111111111111111,\"#46039f\"],[0.2222222222222222,\"#7201a8\"],[0.3333333333333333,\"#9c179e\"],[0.4444444444444444,\"#bd3786\"],[0.5555555555555556,\"#d8576b\"],[0.6666666666666666,\"#ed7953\"],[0.7777777777777778,\"#fb9f3a\"],[0.8888888888888888,\"#fdca26\"],[1.0,\"#f0f921\"]]}],\"heatmap\":[{\"type\":\"heatmap\",\"colorbar\":{\"outlinewidth\":0,\"ticks\":\"\"},\"colorscale\":[[0.0,\"#0d0887\"],[0.1111111111111111,\"#46039f\"],[0.2222222222222222,\"#7201a8\"],[0.3333333333333333,\"#9c179e\"],[0.4444444444444444,\"#bd3786\"],[0.5555555555555556,\"#d8576b\"],[0.6666666666666666,\"#ed7953\"],[0.7777777777777778,\"#fb9f3a\"],[0.8888888888888888,\"#fdca26\"],[1.0,\"#f0f921\"]]}],\"heatmapgl\":[{\"type\":\"heatmapgl\",\"colorbar\":{\"outlinewidth\":0,\"ticks\":\"\"},\"colorscale\":[[0.0,\"#0d0887\"],[0.1111111111111111,\"#46039f\"],[0.2222222222222222,\"#7201a8\"],[0.3333333333333333,\"#9c179e\"],[0.4444444444444444,\"#bd3786\"],[0.5555555555555556,\"#d8576b\"],[0.6666666666666666,\"#ed7953\"],[0.7777777777777778,\"#fb9f3a\"],[0.8888888888888888,\"#fdca26\"],[1.0,\"#f0f921\"]]}],\"contourcarpet\":[{\"type\":\"contourcarpet\",\"colorbar\":{\"outlinewidth\":0,\"ticks\":\"\"}}],\"contour\":[{\"type\":\"contour\",\"colorbar\":{\"outlinewidth\":0,\"ticks\":\"\"},\"colorscale\":[[0.0,\"#0d0887\"],[0.1111111111111111,\"#46039f\"],[0.2222222222222222,\"#7201a8\"],[0.3333333333333333,\"#9c179e\"],[0.4444444444444444,\"#bd3786\"],[0.5555555555555556,\"#d8576b\"],[0.6666666666666666,\"#ed7953\"],[0.7777777777777778,\"#fb9f3a\"],[0.8888888888888888,\"#fdca26\"],[1.0,\"#f0f921\"]]}],\"surface\":[{\"type\":\"surface\",\"colorbar\":{\"outlinewidth\":0,\"ticks\":\"\"},\"colorscale\":[[0.0,\"#0d0887\"],[0.1111111111111111,\"#46039f\"],[0.2222222222222222,\"#7201a8\"],[0.3333333333333333,\"#9c179e\"],[0.4444444444444444,\"#bd3786\"],[0.5555555555555556,\"#d8576b\"],[0.6666666666666666,\"#ed7953\"],[0.7777777777777778,\"#fb9f3a\"],[0.8888888888888888,\"#fdca26\"],[1.0,\"#f0f921\"]]}],\"mesh3d\":[{\"type\":\"mesh3d\",\"colorbar\":{\"outlinewidth\":0,\"ticks\":\"\"}}],\"scatter\":[{\"fillpattern\":{\"fillmode\":\"overlay\",\"size\":10,\"solidity\":0.2},\"type\":\"scatter\"}],\"parcoords\":[{\"type\":\"parcoords\",\"line\":{\"colorbar\":{\"outlinewidth\":0,\"ticks\":\"\"}}}],\"scatterpolargl\":[{\"type\":\"scatterpolargl\",\"marker\":{\"colorbar\":{\"outlinewidth\":0,\"ticks\":\"\"}}}],\"bar\":[{\"error_x\":{\"color\":\"#2a3f5f\"},\"error_y\":{\"color\":\"#2a3f5f\"},\"marker\":{\"line\":{\"color\":\"#E5ECF6\",\"width\":0.5},\"pattern\":{\"fillmode\":\"overlay\",\"size\":10,\"solidity\":0.2}},\"type\":\"bar\"}],\"scattergeo\":[{\"type\":\"scattergeo\",\"marker\":{\"colorbar\":{\"outlinewidth\":0,\"ticks\":\"\"}}}],\"scatterpolar\":[{\"type\":\"scatterpolar\",\"marker\":{\"colorbar\":{\"outlinewidth\":0,\"ticks\":\"\"}}}],\"histogram\":[{\"marker\":{\"pattern\":{\"fillmode\":\"overlay\",\"size\":10,\"solidity\":0.2}},\"type\":\"histogram\"}],\"scattergl\":[{\"type\":\"scattergl\",\"marker\":{\"colorbar\":{\"outlinewidth\":0,\"ticks\":\"\"}}}],\"scatter3d\":[{\"type\":\"scatter3d\",\"line\":{\"colorbar\":{\"outlinewidth\":0,\"ticks\":\"\"}},\"marker\":{\"colorbar\":{\"outlinewidth\":0,\"ticks\":\"\"}}}],\"scattermapbox\":[{\"type\":\"scattermapbox\",\"marker\":{\"colorbar\":{\"outlinewidth\":0,\"ticks\":\"\"}}}],\"scatterternary\":[{\"type\":\"scatterternary\",\"marker\":{\"colorbar\":{\"outlinewidth\":0,\"ticks\":\"\"}}}],\"scattercarpet\":[{\"type\":\"scattercarpet\",\"marker\":{\"colorbar\":{\"outlinewidth\":0,\"ticks\":\"\"}}}],\"carpet\":[{\"aaxis\":{\"endlinecolor\":\"#2a3f5f\",\"gridcolor\":\"white\",\"linecolor\":\"white\",\"minorgridcolor\":\"white\",\"startlinecolor\":\"#2a3f5f\"},\"baxis\":{\"endlinecolor\":\"#2a3f5f\",\"gridcolor\":\"white\",\"linecolor\":\"white\",\"minorgridcolor\":\"white\",\"startlinecolor\":\"#2a3f5f\"},\"type\":\"carpet\"}],\"table\":[{\"cells\":{\"fill\":{\"color\":\"#EBF0F8\"},\"line\":{\"color\":\"white\"}},\"header\":{\"fill\":{\"color\":\"#C8D4E3\"},\"line\":{\"color\":\"white\"}},\"type\":\"table\"}],\"barpolar\":[{\"marker\":{\"line\":{\"color\":\"#E5ECF6\",\"width\":0.5},\"pattern\":{\"fillmode\":\"overlay\",\"size\":10,\"solidity\":0.2}},\"type\":\"barpolar\"}],\"pie\":[{\"automargin\":true,\"type\":\"pie\"}]},\"layout\":{\"autotypenumbers\":\"strict\",\"colorway\":[\"#636efa\",\"#EF553B\",\"#00cc96\",\"#ab63fa\",\"#FFA15A\",\"#19d3f3\",\"#FF6692\",\"#B6E880\",\"#FF97FF\",\"#FECB52\"],\"font\":{\"color\":\"#2a3f5f\"},\"hovermode\":\"closest\",\"hoverlabel\":{\"align\":\"left\"},\"paper_bgcolor\":\"white\",\"plot_bgcolor\":\"#E5ECF6\",\"polar\":{\"bgcolor\":\"#E5ECF6\",\"angularaxis\":{\"gridcolor\":\"white\",\"linecolor\":\"white\",\"ticks\":\"\"},\"radialaxis\":{\"gridcolor\":\"white\",\"linecolor\":\"white\",\"ticks\":\"\"}},\"ternary\":{\"bgcolor\":\"#E5ECF6\",\"aaxis\":{\"gridcolor\":\"white\",\"linecolor\":\"white\",\"ticks\":\"\"},\"baxis\":{\"gridcolor\":\"white\",\"linecolor\":\"white\",\"ticks\":\"\"},\"caxis\":{\"gridcolor\":\"white\",\"linecolor\":\"white\",\"ticks\":\"\"}},\"coloraxis\":{\"colorbar\":{\"outlinewidth\":0,\"ticks\":\"\"}},\"colorscale\":{\"sequential\":[[0.0,\"#0d0887\"],[0.1111111111111111,\"#46039f\"],[0.2222222222222222,\"#7201a8\"],[0.3333333333333333,\"#9c179e\"],[0.4444444444444444,\"#bd3786\"],[0.5555555555555556,\"#d8576b\"],[0.6666666666666666,\"#ed7953\"],[0.7777777777777778,\"#fb9f3a\"],[0.8888888888888888,\"#fdca26\"],[1.0,\"#f0f921\"]],\"sequentialminus\":[[0.0,\"#0d0887\"],[0.1111111111111111,\"#46039f\"],[0.2222222222222222,\"#7201a8\"],[0.3333333333333333,\"#9c179e\"],[0.4444444444444444,\"#bd3786\"],[0.5555555555555556,\"#d8576b\"],[0.6666666666666666,\"#ed7953\"],[0.7777777777777778,\"#fb9f3a\"],[0.8888888888888888,\"#fdca26\"],[1.0,\"#f0f921\"]],\"diverging\":[[0,\"#8e0152\"],[0.1,\"#c51b7d\"],[0.2,\"#de77ae\"],[0.3,\"#f1b6da\"],[0.4,\"#fde0ef\"],[0.5,\"#f7f7f7\"],[0.6,\"#e6f5d0\"],[0.7,\"#b8e186\"],[0.8,\"#7fbc41\"],[0.9,\"#4d9221\"],[1,\"#276419\"]]},\"xaxis\":{\"gridcolor\":\"white\",\"linecolor\":\"white\",\"ticks\":\"\",\"title\":{\"standoff\":15},\"zerolinecolor\":\"white\",\"automargin\":true,\"zerolinewidth\":2},\"yaxis\":{\"gridcolor\":\"white\",\"linecolor\":\"white\",\"ticks\":\"\",\"title\":{\"standoff\":15},\"zerolinecolor\":\"white\",\"automargin\":true,\"zerolinewidth\":2},\"scene\":{\"xaxis\":{\"backgroundcolor\":\"#E5ECF6\",\"gridcolor\":\"white\",\"linecolor\":\"white\",\"showbackground\":true,\"ticks\":\"\",\"zerolinecolor\":\"white\",\"gridwidth\":2},\"yaxis\":{\"backgroundcolor\":\"#E5ECF6\",\"gridcolor\":\"white\",\"linecolor\":\"white\",\"showbackground\":true,\"ticks\":\"\",\"zerolinecolor\":\"white\",\"gridwidth\":2},\"zaxis\":{\"backgroundcolor\":\"#E5ECF6\",\"gridcolor\":\"white\",\"linecolor\":\"white\",\"showbackground\":true,\"ticks\":\"\",\"zerolinecolor\":\"white\",\"gridwidth\":2}},\"shapedefaults\":{\"line\":{\"color\":\"#2a3f5f\"}},\"annotationdefaults\":{\"arrowcolor\":\"#2a3f5f\",\"arrowhead\":0,\"arrowwidth\":1},\"geo\":{\"bgcolor\":\"white\",\"landcolor\":\"#E5ECF6\",\"subunitcolor\":\"white\",\"showland\":true,\"showlakes\":true,\"lakecolor\":\"white\"},\"title\":{\"x\":0.05},\"mapbox\":{\"style\":\"light\"}}},\"xaxis\":{\"anchor\":\"y\",\"domain\":[0.0,1.0],\"title\":{\"text\":\"Body Mass Index\"},\"showline\":true,\"showgrid\":false,\"linecolor\":\"black\"},\"yaxis\":{\"anchor\":\"x\",\"domain\":[0.0,1.0],\"title\":{\"text\":\"Medical Charges\"},\"showline\":true,\"showgrid\":false,\"linecolor\":\"black\"},\"legend\":{\"tracegroupgap\":0},\"margin\":{\"t\":60},\"title\":{\"font\":{\"size\":16},\"text\":\"Scatter Plot\",\"y\":0.9,\"x\":0.5,\"xanchor\":\"center\",\"yanchor\":\"top\"},\"plot_bgcolor\":\"rgba(255,255,255,1)\",\"width\":575,\"height\":400},                        {\"responsive\": true}                    ).then(function(){\n",
              "                            \n",
              "var gd = document.getElementById('870b3790-311c-4127-b5b2-47f851e92e62');\n",
              "var x = new MutationObserver(function (mutations, observer) {{\n",
              "        var display = window.getComputedStyle(gd).display;\n",
              "        if (!display || display === 'none') {{\n",
              "            console.log([gd, 'removed!']);\n",
              "            Plotly.purge(gd);\n",
              "            observer.disconnect();\n",
              "        }}\n",
              "}});\n",
              "\n",
              "// Listen for the removal of the full notebook cells\n",
              "var notebookContainer = gd.closest('#notebook-container');\n",
              "if (notebookContainer) {{\n",
              "    x.observe(notebookContainer, {childList: true});\n",
              "}}\n",
              "\n",
              "// Listen for the clearing of the current output cell\n",
              "var outputEl = gd.closest('.output');\n",
              "if (outputEl) {{\n",
              "    x.observe(outputEl, {childList: true});\n",
              "}}\n",
              "\n",
              "                        })                };                            </script>        </div>\n",
              "</body>\n",
              "</html>"
            ]
          },
          "metadata": {}
        }
      ],
      "source": [
        "# Create a scatter plot using Plotly Express\n",
        "\n",
        "                                                     # STUDENTS: replace ... as stated\n",
        "scatter_plot = px.scatter(df,\n",
        "                 x='...',                            # Replace ... with the explanatory variable name\n",
        "                 y='...',                            # Replace ... with the response variable name\n",
        "                 labels={'bmi': '...',               # Replace ... with a better x-axis label\n",
        "                         'charges': '...'})          # Replace ... with a better y-axis label\n",
        "\n",
        "# Updating layout:\n",
        "# STUDENTS: Do not change anything in this block of code.\n",
        "scatter_plot.update_layout(\n",
        "    plot_bgcolor='rgba(255,255,255,1)',        # Sets the background color of the plot area to white with full opacity.\n",
        "    xaxis=dict(\n",
        "        showline=True,                         # Displays a line on the x-axis.\n",
        "        showgrid=False,                        # Hides the grid lines on the x-axis.\n",
        "        linecolor='black'                      # Sets the color of the x-axis line to black.\n",
        "    ),\n",
        "    yaxis=dict(\n",
        "        showline=True,                         # Displays a line on the y-axis.\n",
        "        showgrid=False,                        # Hides the grid lines on the y-axis.\n",
        "        linecolor='black'                      # Sets the color of the y-axis line to black.\n",
        "    ),\n",
        "    title={\n",
        "        'text': 'Scatter Plot',            # Sets the title text.\n",
        "        'y': 0.9,                              # Positions the title 90% of the way up the plot.\n",
        "        'x': 0.5,                              # Centers the title horizontally.\n",
        "        'xanchor': 'center',                   # Anchors the title at its center on the x-axis.\n",
        "        'yanchor': 'top',                      # Anchors the title at the top on the y-axis.\n",
        "        'font': dict(\n",
        "            size=16                            # Sets the title font size to 16 (smaller than default).\n",
        "        ),\n",
        "    },\n",
        "    width=575,                                 # Sets the width of the plot.\n",
        "    height=400                                 # Sets the height of the plot for portrait mode.\n",
        ")\n",
        "\n",
        "# Show the plot:\n",
        "scatter_plot.show()\n"
      ]
    },
    {
      "cell_type": "markdown",
      "source": [
        "**1.2)** Describe the relationship between the two variables and include context, and identify the direction, strength, and form. Since you don't yet know the value of correlation (r), estimate what you think the strength is (weak/moderate/strong).\n",
        "\n",
        "\n"
      ],
      "metadata": {
        "id": "J6CcvV0H4iZC"
      }
    },
    {
      "cell_type": "markdown",
      "source": [
        "# ..."
      ],
      "metadata": {
        "id": "tBAwVrFL7dUm"
      }
    },
    {
      "cell_type": "markdown",
      "source": [
        "**1.3)** Is this what you expected?\n"
      ],
      "metadata": {
        "id": "dYiqZ-N76ytU"
      }
    },
    {
      "cell_type": "markdown",
      "source": [
        "# ..."
      ],
      "metadata": {
        "id": "Umgm-Xgt64ZK"
      }
    },
    {
      "cell_type": "markdown",
      "metadata": {
        "id": "Hjz7Oc8N0acy"
      },
      "source": [
        "# **Question 2**\n",
        "## Correlation Coefficient\n",
        "\n",
        "**2.1)** Calculate the value of the correlation coefficient."
      ]
    },
    {
      "cell_type": "code",
      "execution_count": null,
      "metadata": {
        "id": "jzxH_zSaJZlN",
        "outputId": "090f6a2e-3c9b-4b6a-d141-901d67a29729",
        "colab": {
          "base_uri": "https://localhost:8080/"
        }
      },
      "outputs": [
        {
          "output_type": "stream",
          "name": "stdout",
          "text": [
            "A-L: Correlation coefficient between BMI and medical charges: r = 0.19834096883362895\n"
          ]
        }
      ],
      "source": [
        "# Calculate the correlation coefficient\n",
        "\n",
        "# STUDENTS: Replace ... as stated\n",
        "# Replace the 1st ... with the response variable name.\n",
        "# Replace the 2nd ... with the explanatory variable name\n",
        "correlation = df['...'].corr(df['...'])\n",
        "\n",
        "# Print the correlation coefficient\n",
        "print(f\"Correlation coefficient between BMI and medical charges: r = {correlation}\")"
      ]
    },
    {
      "cell_type": "markdown",
      "source": [
        "**2.2)** Interpret the correlation coefficient."
      ],
      "metadata": {
        "id": "G94sREeexV_s"
      }
    },
    {
      "cell_type": "markdown",
      "source": [
        "# ..."
      ],
      "metadata": {
        "id": "HkIB6-3n__qS"
      }
    },
    {
      "cell_type": "markdown",
      "source": [
        "**2.3)** Now that you know the value of correlation, r, did the strength match what you wrote in 1.2?"
      ],
      "metadata": {
        "id": "p-HHBh935uGw"
      }
    },
    {
      "cell_type": "markdown",
      "source": [
        "# ..."
      ],
      "metadata": {
        "id": "_VY68TuH596l"
      }
    },
    {
      "cell_type": "markdown",
      "metadata": {
        "id": "ad-a9eAuJZlN"
      },
      "source": [
        "# **Question 3**\n",
        "\n",
        "## Least Squares Regression\n",
        "\n",
        "**3.1)** Calculate the linear model and add the regression line to the scatterplot.\n"
      ]
    },
    {
      "cell_type": "code",
      "execution_count": null,
      "metadata": {
        "id": "5Cejhxq9JZlN",
        "outputId": "a8de0327-0a5f-48f3-a20d-7ba26ffb4eba",
        "colab": {
          "base_uri": "https://localhost:8080/",
          "height": 417
        }
      },
      "outputs": [
        {
          "output_type": "display_data",
          "data": {
            "text/html": [
              "<html>\n",
              "<head><meta charset=\"utf-8\" /></head>\n",
              "<body>\n",
              "    <div>            <script src=\"https://cdnjs.cloudflare.com/ajax/libs/mathjax/2.7.5/MathJax.js?config=TeX-AMS-MML_SVG\"></script><script type=\"text/javascript\">if (window.MathJax && window.MathJax.Hub && window.MathJax.Hub.Config) {window.MathJax.Hub.Config({SVG: {font: \"STIX-Web\"}});}</script>                <script type=\"text/javascript\">window.PlotlyConfig = {MathJaxConfig: 'local'};</script>\n",
              "        <script charset=\"utf-8\" src=\"https://cdn.plot.ly/plotly-2.35.2.min.js\"></script>                <div id=\"ff5d94c9-d7de-4151-8023-e7f69fb4151c\" class=\"plotly-graph-div\" style=\"height:400px; width:600px;\"></div>            <script type=\"text/javascript\">                                    window.PLOTLYENV=window.PLOTLYENV || {};                                    if (document.getElementById(\"ff5d94c9-d7de-4151-8023-e7f69fb4151c\")) {                    Plotly.newPlot(                        \"ff5d94c9-d7de-4151-8023-e7f69fb4151c\",                        [{\"hovertemplate\":\"Body Mass Index=%{x}\\u003cbr\\u003eMedical Charges=%{y}\\u003cextra\\u003e\\u003c\\u002fextra\\u003e\",\"legendgroup\":\"\",\"marker\":{\"color\":\"#636efa\",\"symbol\":\"circle\"},\"mode\":\"markers\",\"name\":\"\",\"showlegend\":false,\"x\":[27.9,33.77,33.0,22.705,28.88,25.74,33.44,27.74,29.83,25.84,26.22,26.29,34.4,39.82,42.13,24.6,30.78,23.845,40.3,35.3,36.005,32.4,34.1,31.92,28.025,27.72,23.085,32.775,17.385,36.3,35.6,26.315,28.6,28.31,36.4,20.425,32.965,20.8,36.67,39.9,26.6,36.63,21.78,30.8,37.05,37.3,38.665,34.77,24.53,35.2,35.625,33.63,28.0,34.43,28.69,36.955,31.825,31.68,22.88,37.335,27.36,33.66,24.7,25.935,22.42,28.9,39.1,26.315,36.19,23.98,24.75,28.5,28.1,32.01,27.4,34.01,29.59,35.53,39.805,32.965,26.885,38.285,37.62,41.23,34.8,22.895,31.16,27.2,27.74,26.98,39.49,24.795,29.83,34.77,31.3,37.62,30.8,38.28,19.95,19.3,31.6,25.46,30.115,29.92,27.5,28.025,28.4,30.875,27.94,35.09,33.63,29.7,30.8,35.72,32.205,28.595,49.06,27.94,27.17,23.37,37.1,23.75,28.975,31.35,33.915,28.785,28.3,37.4,17.765,34.7,26.505,22.04,35.9,25.555,28.785,28.05,34.1,25.175,31.9,36.0,22.42,32.49,25.3,29.735,28.69,38.83,30.495,37.73,37.43,28.4,24.13,29.7,37.145,23.37,25.46,39.52,24.42,25.175,35.53,27.83,26.6,36.85,39.6,29.8,29.64,28.215,37.0,33.155,31.825,18.905,41.47,30.3,15.96,34.8,33.345,37.7,27.835,29.2,28.9,33.155,28.595,38.28,19.95,26.41,30.69,41.895,29.92,30.9,32.2,32.11,31.57,26.2,25.74,26.6,34.43,30.59,32.8,28.6,18.05,39.33,32.11,32.23,24.035,36.08,22.3,28.88,26.4,27.74,31.8,41.23,33.0,30.875,28.5,26.73,30.9,37.1,26.6,23.1,29.92,23.21,33.7,33.25,30.8,34.8,24.64,33.88,38.06,41.91,31.635,25.46,36.195,27.83,17.8,27.5,24.51,22.22,26.73,38.39,29.07,38.06,36.67,22.135,26.8,35.3,27.74,30.02,38.06,35.86,20.9,28.975,17.29,32.2,34.21,30.3,31.825,25.365,33.63,40.15,24.415,31.92,25.2,26.84,24.32,36.955,38.06,42.35,19.8,32.395,30.2,25.84,29.37,34.2,37.05,27.455,27.55,26.6,20.615,24.3,31.79,21.56,28.12,40.565,27.645,32.395,31.2,26.62,48.07,26.22,36.765,26.4,33.4,29.64,45.54,28.82,26.8,22.99,27.7,25.41,34.39,28.88,27.55,22.61,37.51,33.0,38.0,33.345,27.5,33.33,34.865,33.06,26.6,24.7,35.97,35.86,31.4,33.25,32.205,32.775,27.645,37.335,25.27,29.64,30.8,40.945,27.2,34.105,23.21,36.48,33.8,36.7,36.385,27.36,31.16,28.785,35.72,34.5,25.74,27.55,32.3,27.72,27.6,30.02,27.55,36.765,41.47,29.26,35.75,33.345,29.92,27.835,23.18,25.6,27.7,35.245,38.28,27.6,43.89,29.83,41.91,20.79,32.3,30.5,21.7,26.4,21.89,30.78,32.3,24.985,32.015,30.4,21.09,22.23,33.155,32.9,33.33,28.31,24.89,40.15,30.115,31.46,17.955,30.685,33.0,43.34,22.135,34.4,39.05,25.365,22.61,30.21,35.625,37.43,31.445,31.35,32.3,19.855,34.4,31.02,25.6,38.17,20.6,47.52,32.965,32.3,20.4,38.38,24.31,23.6,21.12,30.03,17.48,20.235,17.195,23.9,35.15,35.64,34.1,22.6,39.16,26.98,33.88,35.86,32.775,30.59,30.2,24.31,27.265,29.165,16.815,30.4,33.1,20.235,26.9,30.5,28.595,33.11,31.73,28.9,46.75,29.45,32.68,33.5,43.01,36.52,26.695,33.1,29.64,25.65,29.6,38.6,29.6,24.13,23.4,29.735,46.53,37.4,30.14,30.495,39.6,33.0,36.63,30.0,38.095,25.935,25.175,28.38,28.7,33.82,24.32,24.09,32.67,30.115,29.8,33.345,25.1,28.31,28.5,35.625,36.85,32.56,41.325,37.51,31.35,39.5,34.3,31.065,21.47,28.7,38.06,31.16,32.9,25.08,25.08,43.4,25.7,27.93,23.6,28.7,23.98,39.2,34.4,26.03,23.21,30.25,28.93,30.875,31.35,23.75,25.27,28.7,32.11,33.66,22.42,30.4,28.3,35.7,35.31,30.495,31.0,30.875,27.36,44.22,33.915,37.73,26.07,33.88,30.59,25.8,39.425,25.46,42.13,31.73,29.7,36.19,40.48,28.025,38.9,30.2,28.05,31.35,38.0,31.79,36.3,47.41,30.21,25.84,35.435,46.7,28.595,46.2,30.8,28.93,21.4,31.73,41.325,23.8,33.44,34.21,34.105,35.53,19.95,32.68,30.5,44.77,32.12,30.495,40.565,30.59,31.9,40.565,29.1,37.29,43.12,36.86,34.295,27.17,26.84,38.095,30.2,23.465,25.46,30.59,45.43,23.65,20.7,28.27,20.235,30.21,35.91,30.69,29.0,19.57,31.13,21.85,40.26,33.725,29.48,33.25,32.6,37.525,39.16,31.635,25.3,39.05,28.31,34.1,25.175,23.655,26.98,37.8,29.37,34.8,33.155,19.0,33.0,36.63,28.595,25.6,33.11,37.1,31.4,34.1,21.3,33.535,28.785,26.03,28.88,42.46,38.0,38.95,36.1,29.3,35.53,22.705,39.7,38.19,24.51,38.095,26.41,33.66,42.4,28.31,33.915,34.96,35.31,30.78,26.22,23.37,28.5,32.965,42.68,39.6,31.13,36.3,35.2,25.3,42.4,33.155,35.91,28.785,46.53,23.98,31.54,33.66,22.99,38.06,28.7,32.775,32.015,29.81,31.57,31.16,29.7,31.02,43.89,21.375,40.81,31.35,36.1,23.18,17.4,20.3,35.3,24.32,18.5,26.41,26.125,41.69,24.1,31.13,27.36,36.2,32.395,23.655,34.8,40.185,32.3,35.75,33.725,39.27,34.87,44.745,41.47,26.41,29.545,32.9,38.06,28.69,30.495,27.74,35.2,23.54,30.685,40.47,22.6,28.9,22.61,24.32,36.67,33.44,40.66,36.6,37.4,35.4,27.075,39.05,28.405,21.755,40.28,36.08,24.42,21.4,30.1,27.265,32.1,34.77,38.39,23.7,31.73,35.5,24.035,29.15,34.105,26.62,26.41,30.115,27.0,21.755,36.0,30.875,26.4,28.975,37.905,22.77,33.63,27.645,22.8,27.83,37.43,38.17,34.58,35.2,27.1,26.03,25.175,31.825,32.3,29.0,39.7,19.475,36.1,26.7,36.48,28.88,34.2,33.33,32.3,39.805,34.32,28.88,24.4,41.14,35.97,27.6,29.26,27.7,36.955,36.86,22.515,29.92,41.8,27.6,23.18,20.9,31.92,28.5,44.22,22.895,33.1,24.795,26.18,35.97,22.3,42.24,26.51,35.815,41.42,36.575,30.14,25.84,30.8,42.94,21.01,22.515,34.43,31.46,24.225,37.1,26.125,35.53,33.7,17.67,31.13,29.81,24.32,31.825,31.79,28.025,30.78,21.85,33.1,25.84,23.845,34.39,33.82,35.97,31.5,28.31,23.465,31.35,31.1,24.7,32.78,29.81,30.495,32.45,34.2,50.38,24.1,32.775,30.78,32.3,35.53,23.75,23.845,29.6,33.11,24.13,32.23,28.1,47.6,28.0,33.535,19.855,25.4,29.9,37.29,43.7,23.655,24.3,36.2,29.48,24.86,30.1,21.85,28.12,27.1,33.44,28.8,29.5,34.8,27.36,22.135,37.05,26.695,28.93,28.975,30.02,39.5,33.63,26.885,29.04,24.035,38.94,32.11,44.0,20.045,25.555,40.26,22.515,22.515,40.92,27.265,36.85,35.1,29.355,32.585,32.34,39.8,24.6,28.31,31.73,26.695,27.5,24.605,33.99,26.885,22.895,28.2,34.21,25.0,33.2,31.0,35.815,23.2,32.11,23.4,20.1,39.16,34.21,46.53,32.5,25.8,35.3,37.18,27.5,29.735,24.225,26.18,29.48,23.21,46.09,40.185,22.61,39.93,35.8,35.8,34.2,31.255,29.7,18.335,42.9,28.405,30.2,27.835,39.49,30.8,26.79,34.96,36.67,39.615,25.9,35.2,24.795,36.765,27.1,24.795,25.365,25.745,34.32,28.16,23.56,20.235,40.5,35.42,22.895,40.15,29.15,39.995,29.92,25.46,21.375,25.9,30.59,30.115,25.8,30.115,27.645,34.675,20.52,19.8,27.835,31.6,28.27,20.045,23.275,34.1,36.85,36.29,26.885,22.99,32.7,25.8,29.6,19.19,31.73,29.26,28.215,24.985,27.74,22.8,20.13,33.33,32.3,27.6,25.46,24.605,34.2,35.815,32.68,37.0,31.02,36.08,23.32,45.32,34.6,26.03,18.715,31.6,17.29,23.655,35.2,27.93,21.565,38.38,23.0,37.07,30.495,28.88,27.265,28.025,23.085,30.685,25.8,35.245,24.7,25.08,52.58,22.515,30.9,36.955,26.41,29.83,29.8,21.47,27.645,28.9,31.79,39.49,33.82,32.01,27.94,41.14,28.595,25.6,25.3,37.29,42.655,21.66,31.9,37.07,31.445,31.255,28.88,18.335,29.59,32.0,26.03,31.68,33.66,21.78,27.835,19.95,31.5,30.495,18.3,28.975,31.54,47.74,22.1,36.19,29.83,32.7,30.4,33.7,31.35,34.96,33.77,30.875,33.99,19.095,28.6,38.94,36.08,29.8,31.24,29.925,26.22,30.0,20.35,32.3,38.39,25.85,26.315,24.51,32.67,29.64,33.33,35.75,19.95,31.4,38.17,36.86,32.395,42.75,25.08,29.9,35.86,32.8,18.6,23.87,45.9,40.28,18.335,33.82,28.12,25.0,22.23,30.25,32.49,37.07,32.6,24.86,32.34,32.3,32.775,32.8,31.92,21.5,34.1,30.305,36.48,32.56,35.815,27.93,22.135,44.88,23.18,30.59,41.1,34.58,42.13,38.83,28.215,28.31,26.125,40.37,24.6,35.2,34.105,27.36,26.7,41.91,29.26,32.11,27.1,24.13,27.4,34.865,29.81,41.325,29.925,30.3,27.36,28.49,23.56,35.625,32.68,25.27,28.0,32.775,21.755,32.395,36.575,21.755,27.93,30.02,33.55,29.355,25.8,24.32,40.375,32.11,32.3,27.28,17.86,34.8,33.4,25.555,37.1,30.875,34.1,21.47,33.3,31.255,39.14,25.08,37.29,34.6,30.21,21.945,24.97,25.3,24.42,23.94,39.82,16.815,37.18,34.43,30.305,34.485,21.8,24.605,23.3,27.83,31.065,21.66,28.215,22.705,42.13,41.8,36.96,21.28,33.11,33.33,24.3,25.7,29.4,39.82,33.63,29.83,19.8,27.3,29.3,27.72,37.9,36.385,27.645,37.715,23.18,20.52,37.1,28.05,29.9,33.345,23.76,30.5,31.065,33.3,27.5,33.915,34.485,25.52,27.61,27.06,23.7,30.4,29.735,29.925,26.79,33.33,27.645,21.66,30.03,36.3,24.32,17.29,25.9,39.4,34.32,19.95,34.9,23.21,25.745,25.175,22.0,26.125,26.51,27.455,25.745,30.36,30.875,20.8,27.8,24.605,27.72,21.85,28.12,30.2,32.2,26.315,26.695,42.9,34.7,23.655,28.31,20.6,53.13,39.71,26.315,31.065,26.695,38.83,40.37,25.935,33.535,32.87,30.03,24.225,38.6,25.74,33.4,44.7,30.97,31.92,36.85,25.8,29.07],\"xaxis\":\"x\",\"y\":[16884.924,1725.5523,4449.462,21984.47061,3866.8552,3756.6216,8240.5896,7281.5056,6406.4107,28923.13692,2721.3208,27808.7251,1826.843,11090.7178,39611.7577,1837.237,10797.3362,2395.17155,10602.385,36837.467,13228.84695,4149.736,1137.011,37701.8768,6203.90175,14001.1338,14451.83515,12268.63225,2775.19215,38711.0,35585.576,2198.18985,4687.797,13770.0979,51194.55914,1625.43375,15612.19335,2302.3,39774.2763,48173.361,3046.062,4949.7587,6272.4772,6313.759,6079.6715,20630.28351,3393.35635,3556.9223,12629.8967,38709.176,2211.13075,3579.8287,23568.272,37742.5757,8059.6791,47496.49445,13607.36875,34303.1672,23244.7902,5989.52365,8606.2174,4504.6624,30166.61817,4133.64165,14711.7438,1743.214,14235.072,6389.37785,5920.1041,17663.1442,16577.7795,6799.458,11741.726,11946.6259,7726.854,11356.6609,3947.4131,1532.4697,2755.02095,6571.02435,4441.21315,7935.29115,37165.1638,11033.6617,39836.519,21098.55405,43578.9394,11073.176,8026.6666,11082.5772,2026.9741,10942.13205,30184.9367,5729.0053,47291.055,3766.8838,12105.32,10226.2842,22412.6485,15820.699,6186.127,3645.0894,21344.8467,30942.1918,5003.853,17560.37975,2331.519,3877.30425,2867.1196,47055.5321,10825.2537,11881.358,4646.759,2404.7338,11488.31695,30259.99556,11381.3254,19107.7796,8601.3293,6686.4313,7740.337,1705.6245,2257.47525,39556.4945,10115.00885,3385.39915,17081.08,9634.538,32734.1863,6082.405,12815.44495,13616.3586,11163.568,1632.56445,2457.21115,2155.6815,1261.442,2045.68525,27322.73386,2166.732,27375.90478,3490.5491,18972.495,18157.876,20745.9891,5138.2567,40720.55105,9877.6077,10959.6947,1842.519,5125.2157,7789.635,6334.34355,19964.7463,7077.1894,6948.7008,21223.6758,15518.18025,36950.2567,19749.38338,21348.706,36149.4835,10450.552,5152.134,5028.1466,10407.08585,4830.63,6128.79745,2719.27975,4827.90495,13405.3903,8116.68,1694.7964,5246.047,2855.43755,48824.45,6455.86265,10436.096,8823.279,8538.28845,11735.87905,1631.8212,4005.4225,7419.4779,7731.4271,43753.33705,3981.9768,5325.651,6775.961,4922.9159,12557.6053,4883.866,2137.6536,12044.342,1137.4697,1639.5631,5649.715,8516.829,9644.2525,14901.5167,2130.6759,8871.1517,13012.20865,37133.8982,7147.105,4337.7352,11743.299,20984.0936,13880.949,6610.1097,1980.07,8162.71625,3537.703,5002.7827,8520.026,7371.772,10355.641,2483.736,3392.9768,25081.76784,5012.471,10564.8845,5253.524,34779.615,19515.5416,11987.1682,2689.4954,24227.33724,7358.17565,9225.2564,7443.64305,14001.2867,1727.785,12333.828,6710.1919,19444.2658,1615.7667,4463.2051,17352.6803,7152.6714,38511.6283,5354.07465,35160.13457,7196.867,29523.1656,24476.47851,12648.7034,1986.9334,1832.094,4040.55825,12829.4551,47305.305,44260.7499,4260.744,41097.16175,13047.33235,43921.1837,5400.9805,11520.09985,33750.2918,11837.16,17085.2676,24869.8368,36219.40545,20462.99766,46151.1245,17179.522,14590.63205,7441.053,9282.4806,1719.4363,42856.838,7265.7025,9617.66245,2523.1695,9715.841,2803.69785,2150.469,12928.7911,9855.1314,22331.5668,48549.17835,4237.12655,11879.10405,9625.92,7742.1098,9432.9253,14256.1928,47896.79135,25992.82104,3172.018,20277.80751,42112.2356,2156.7518,3906.127,1704.5681,16297.846,21978.6769,38746.3551,9249.4952,6746.7425,24873.3849,12265.5069,4349.462,12646.207,19442.3535,20177.67113,4151.0287,11944.59435,7749.1564,8444.474,1737.376,42124.5153,8124.4084,34838.873,9722.7695,8835.26495,10435.06525,7421.19455,4667.60765,4894.7533,24671.66334,35491.64,11566.30055,2866.091,6600.20595,3561.8889,42760.5022,47928.03,9144.565,48517.56315,24393.6224,13429.0354,11658.37915,19144.57652,13822.803,12142.5786,13937.6665,41919.097,8232.6388,18955.22017,13352.0998,13217.0945,13981.85035,10977.2063,6184.2994,4889.9995,8334.45755,5478.0368,1635.73365,11830.6072,8932.084,3554.203,12404.8791,14133.03775,24603.04837,8944.1151,9620.3307,1837.2819,1607.5101,10043.249,4751.07,13844.506,2597.779,3180.5101,9778.3472,13430.265,8017.06115,8116.26885,3481.868,13415.0381,12029.2867,7639.41745,36085.219,1391.5287,18033.9679,21659.9301,38126.2465,16455.70785,27000.98473,15006.57945,42303.69215,20781.48892,5846.9176,8302.53565,1261.859,11856.4115,30284.64294,3176.8159,4618.0799,10736.87075,2138.0707,8964.06055,9290.1395,9411.005,7526.70645,8522.003,16586.49771,14988.432,1631.6683,9264.797,8083.9198,14692.66935,10269.46,3260.199,11396.9002,4185.0979,8539.671,6652.5288,4074.4537,1621.3402,19594.80965,14455.64405,5080.096,2134.9015,7345.7266,9140.951,18608.262,14418.2804,28950.4692,46889.2612,46599.1084,39125.33225,2727.3951,8968.33,9788.8659,6555.07035,7323.734819,3167.45585,18804.7524,23082.95533,4906.40965,5969.723,12638.195,4243.59005,13919.8229,2254.7967,5926.846,12592.5345,2897.3235,4738.2682,37079.372,1149.3959,28287.89766,26109.32905,7345.084,12730.9996,11454.0215,5910.944,4762.329,7512.267,4032.2407,1969.614,1769.53165,4686.3887,21797.0004,11881.9696,11840.77505,10601.412,7682.67,10381.4787,22144.032,15230.32405,11165.41765,1632.03625,19521.9682,13224.693,12643.3778,23288.9284,2201.0971,2497.0383,2203.47185,1744.465,20878.78443,25382.297,28868.6639,35147.52848,2534.39375,1534.3045,1824.2854,15555.18875,9304.7019,1622.1885,9880.068,9563.029,4347.02335,12475.3513,1253.936,48885.13561,10461.9794,1748.774,24513.09126,2196.4732,12574.049,17942.106,1967.0227,4931.647,8027.968,8211.1002,13470.86,36197.699,6837.3687,22218.1149,32548.3405,5974.3847,6796.86325,2643.2685,3077.0955,3044.2133,11455.28,11763.0009,2498.4144,9361.3268,1256.299,21082.16,11362.755,27724.28875,8413.46305,5240.765,3857.75925,25656.57526,3994.1778,9866.30485,5397.6167,38245.59327,11482.63485,24059.68019,9861.025,8342.90875,1708.0014,48675.5177,14043.4767,12925.886,19214.70553,13831.1152,6067.12675,5972.378,8825.086,8233.0975,27346.04207,6196.448,3056.3881,13887.204,63770.42801,10231.4999,23807.2406,3268.84665,11538.421,3213.62205,45863.205,13390.559,3972.9247,12957.118,11187.6567,17878.90068,3847.674,8334.5896,3935.1799,39983.42595,1646.4297,9193.8385,10923.9332,2494.022,9058.7303,2801.2588,2128.43105,6373.55735,7256.7231,11552.904,45702.02235,3761.292,2219.4451,4753.6368,31620.00106,13224.05705,12222.8983,1664.9996,58571.07448,9724.53,3206.49135,12913.9924,1639.5631,6356.2707,17626.23951,1242.816,4779.6023,3861.20965,43943.8761,13635.6379,5976.8311,11842.442,8428.0693,2566.4707,15359.1045,5709.1644,8823.98575,7640.3092,5594.8455,7441.501,33471.97189,1633.0444,9174.13565,11070.535,16085.1275,17468.9839,9283.562,3558.62025,25678.77845,4435.0942,39241.442,8547.6913,6571.544,2207.69745,6753.038,1880.07,42969.8527,11658.11505,23306.547,34439.8559,10713.644,3659.346,40182.246,9182.17,34617.84065,12129.61415,3736.4647,6748.5912,11326.71487,11365.952,42983.4585,10085.846,1977.815,3366.6697,7173.35995,9391.346,14410.9321,2709.1119,24915.04626,20149.3229,12949.1554,6666.243,32787.45859,13143.86485,4466.6214,18806.14547,10141.1362,6123.5688,8252.2843,1712.227,12430.95335,9800.8882,10579.711,8280.6227,8527.532,12244.531,24667.419,3410.324,4058.71245,26392.26029,14394.39815,6435.6237,22192.43711,5148.5526,1136.3994,27037.9141,42560.4304,8703.456,40003.33225,45710.20785,6500.2359,4837.5823,3943.5954,4399.731,6185.3208,46200.9851,7222.78625,12485.8009,46130.5265,12363.547,10156.7832,2585.269,1242.26,40103.89,9863.4718,4766.022,11244.3769,7729.64575,5438.7491,26236.57997,34806.4677,2104.1134,8068.185,2362.22905,2352.96845,3577.999,3201.24515,29186.48236,40273.6455,10976.24575,3500.6123,2020.5523,9541.69555,9504.3103,5385.3379,8930.93455,5375.038,44400.4064,10264.4421,6113.23105,5469.0066,1727.54,10107.2206,8310.83915,1984.4533,2457.502,12146.971,9566.9909,13112.6048,10848.1343,12231.6136,9875.6804,11264.541,12979.358,1263.249,10106.13425,40932.4295,6664.68595,16657.71745,2217.6012,6781.3542,19361.9988,10065.413,4234.927,9447.25035,14007.222,9583.8933,40419.0191,3484.331,36189.1017,44585.45587,8604.48365,18246.4955,43254.41795,3757.8448,8827.2099,9910.35985,11737.84884,1627.28245,8556.907,3062.50825,19539.243,1906.35825,14210.53595,11833.7823,17128.42608,5031.26955,7985.815,23065.4207,5428.7277,36307.7983,3925.7582,2416.955,19040.876,3070.8087,9095.06825,11842.62375,8062.764,7050.642,14319.031,6933.24225,27941.28758,11150.78,12797.20962,17748.5062,7261.741,10560.4917,6986.697,7448.40395,5934.3798,9869.8102,18259.216,1146.7966,9386.1613,24520.264,4350.5144,6414.178,12741.16745,1917.3184,5209.57885,13457.9608,5662.225,1252.407,2731.9122,21195.818,7209.4918,18310.742,4266.1658,4719.52405,11848.141,17904.52705,7046.7222,14313.8463,2103.08,38792.6856,1815.8759,7731.85785,28476.73499,2136.88225,1131.5066,3309.7926,9414.92,6360.9936,11013.7119,4428.88785,5584.3057,1877.9294,2842.76075,3597.596,23401.30575,55135.40209,7445.918,2680.9493,1621.8827,8219.2039,12523.6048,16069.08475,43813.8661,20773.62775,39597.4072,6117.4945,13393.756,5266.3656,4719.73655,11743.9341,5377.4578,7160.3303,4402.233,11657.7189,6402.29135,12622.1795,1526.312,12323.936,36021.0112,27533.9129,10072.05505,45008.9555,9872.701,2438.0552,2974.126,10601.63225,37270.1512,14119.62,42111.6647,11729.6795,24106.91255,1875.344,40974.1649,15817.9857,18218.16139,10965.446,46113.511,7151.092,12269.68865,5458.04645,8782.469,6600.361,1141.4451,11576.13,13129.60345,4391.652,8457.818,3392.3652,5966.8874,6849.026,8891.1395,2690.1138,26140.3603,6653.7886,6282.235,6311.952,3443.064,2789.0574,2585.85065,46255.1125,4877.98105,19719.6947,27218.43725,5272.1758,1682.597,11945.1327,29330.98315,7243.8136,10422.91665,44202.6536,13555.0049,13063.883,19798.05455,2221.56445,1634.5734,2117.33885,8688.85885,48673.5588,4661.28635,8125.7845,12644.589,4564.19145,4846.92015,7633.7206,15170.069,17496.306,2639.0429,33732.6867,14382.70905,7626.993,5257.50795,2473.3341,21774.32215,35069.37452,13041.921,5245.2269,13451.122,13462.52,5488.262,4320.41085,6250.435,25333.33284,2913.569,12032.326,13470.8044,6289.7549,2927.0647,6238.298,10096.97,7348.142,4673.3922,12233.828,32108.66282,8965.79575,2304.0022,9487.6442,1121.8739,9549.5651,2217.46915,1628.4709,12982.8747,11674.13,7160.094,39047.285,6358.77645,19933.458,11534.87265,47462.894,4527.18295,38998.546,20009.63365,3875.7341,41999.52,12609.88702,41034.2214,28468.91901,2730.10785,3353.284,14474.675,9500.57305,26467.09737,4746.344,23967.38305,7518.02535,3279.86855,8596.8278,10702.6424,4992.3764,2527.81865,1759.338,2322.6218,16138.76205,7804.1605,2902.9065,9704.66805,4889.0368,25517.11363,4500.33925,19199.944,16796.41194,4915.05985,7624.63,8410.04685,28340.18885,4518.82625,14571.8908,3378.91,7144.86265,10118.424,5484.4673,16420.49455,7986.47525,7418.522,13887.9685,6551.7501,5267.81815,17361.7661,34472.841,1972.95,21232.18226,8627.5411,4433.3877,4438.2634,24915.22085,23241.47453,9957.7216,8269.044,18767.7377,36580.28216,8765.249,5383.536,12124.9924,2709.24395,3987.926,12495.29085,26018.95052,8798.593,35595.5898,42211.1382,1711.0268,8569.8618,2020.177,16450.8947,21595.38229,9850.432,6877.9801,21677.28345,44423.803,4137.5227,13747.87235,12950.0712,12094.478,37484.4493,39725.51805,2250.8352,22493.65964,20234.85475,1704.70015,33475.81715,3161.454,11394.06555,21880.82,7325.0482,44501.3982,3594.17085,39727.614,8023.13545,14394.5579,9288.0267,25309.489,3353.4703,10594.50155,8277.523,17929.30337,2480.9791,4462.7218,1981.5819,11554.2236,48970.2476,6548.19505,5708.867,7045.499,8978.1851,5757.41345,14349.8544,10928.849,39871.7043,13974.45555,1909.52745,12096.6512,13204.28565,4562.8421,8551.347,2102.2647,34672.1472,15161.5344,11884.04858,4454.40265,5855.9025,4076.497,15019.76005,19023.26,10796.35025,11353.2276,9748.9106,10577.087,41676.0811,11286.5387,3591.48,33907.548,11299.343,4561.1885,44641.1974,1674.6323,23045.56616,3227.1211,16776.30405,11253.421,3471.4096,11363.2832,20420.60465,10338.9316,8988.15875,10493.9458,2904.088,8605.3615,11512.405,41949.2441,24180.9335,5312.16985,2396.0959,10807.4863,9222.4026,36124.5737,38282.7495,5693.4305,34166.273,8347.1643,46661.4424,18903.49141,40904.1995,14254.6082,10214.636,5836.5204,14358.36437,1728.897,8582.3023,3693.428,20709.02034,9991.03765,19673.33573,11085.5868,7623.518,3176.2877,3704.3545,36898.73308,9048.0273,7954.517,27117.99378,6338.0756,9630.397,11289.10925,52590.82939,2261.5688,10791.96,5979.731,2203.73595,12235.8392,40941.2854,5630.45785,11015.1747,7228.21565,39722.7462,14426.07385,2459.7201,3989.841,7727.2532,5124.1887,18963.17192,2200.83085,7153.5539,5227.98875,10982.5013,4529.477,4670.64,6112.35295,17178.6824,22478.6,11093.6229,6457.8434,4433.9159,2154.361,23887.6627,6496.886,2899.48935,19350.3689,7650.77375,2850.68375,2632.992,9447.3824,18328.2381,8603.8234,37465.34375,13844.7972,21771.3423,13126.67745,5327.40025,13725.47184,13019.16105,8671.19125,4134.08245,18838.70366,33307.5508,5699.8375,6393.60345,4934.705,6198.7518,8733.22925,2055.3249,9964.06,18223.4512,5116.5004,36910.60803,38415.474,20296.86345,12347.172,5373.36425,23563.01618,1702.4553,10806.839,3956.07145,12890.05765,5415.6612,4058.1161,41661.602,7537.1639,4718.20355,6593.5083,8442.667,26125.67477,6858.4796,4795.6568,6640.54485,7162.0122,10594.2257,11938.25595,60021.39897,20167.33603,12479.70895,11345.519,8515.7587,2699.56835,14449.8544,12224.35085,6985.50695,3238.4357,47269.854,49577.6624,4296.2712,3171.6149,1135.9407,5615.369,9101.798,6059.173,1633.9618,37607.5277,18648.4217,1241.565,16232.847,15828.82173,4415.1588,6474.013,11436.73815,11305.93455,30063.58055,10197.7722,4544.2348,3277.161,6770.1925,7337.748,10370.91255,26926.5144,10704.47,34254.05335,1880.487,8615.3,3292.52985,3021.80915,14478.33015,4747.0529,17043.3414,10959.33,2741.948,4357.04365,22462.04375,4189.1131,8283.6807,24535.69855,14283.4594,1720.3537,47403.88,8534.6718,3732.6251,5472.449,38344.566,7147.4728,7133.9025,34828.654,1515.3449,9301.89355,11931.12525,1964.78,1708.92575,4340.4409,5261.46945,2710.82855,62592.87309,46718.16325,3208.787,37829.7242,21259.37795,2464.6188,16115.3045,21472.4788,33900.653,6875.961,6940.90985,4571.41305,4536.259,36397.576,18765.87545,11272.33139,1731.677,1163.4627,19496.71917,7201.70085,5425.02335,28101.33305,12981.3457,43896.3763,4239.89265,13143.33665,7050.0213,9377.9047,22395.74424,10325.206,12629.1656,10795.93733,11411.685,10600.5483,2205.9808,1629.8335,2007.945,29141.3603],\"yaxis\":\"y\",\"type\":\"scattergl\"},{\"mode\":\"lines\",\"name\":\"Regression Line\",\"x\":[27.9,33.77,33.0,22.705,28.88,25.74,33.44,27.74,29.83,25.84,26.22,26.29,34.4,39.82,42.13,24.6,30.78,23.845,40.3,35.3,36.005,32.4,34.1,31.92,28.025,27.72,23.085,32.775,17.385,36.3,35.6,26.315,28.6,28.31,36.4,20.425,32.965,20.8,36.67,39.9,26.6,36.63,21.78,30.8,37.05,37.3,38.665,34.77,24.53,35.2,35.625,33.63,28.0,34.43,28.69,36.955,31.825,31.68,22.88,37.335,27.36,33.66,24.7,25.935,22.42,28.9,39.1,26.315,36.19,23.98,24.75,28.5,28.1,32.01,27.4,34.01,29.59,35.53,39.805,32.965,26.885,38.285,37.62,41.23,34.8,22.895,31.16,27.2,27.74,26.98,39.49,24.795,29.83,34.77,31.3,37.62,30.8,38.28,19.95,19.3,31.6,25.46,30.115,29.92,27.5,28.025,28.4,30.875,27.94,35.09,33.63,29.7,30.8,35.72,32.205,28.595,49.06,27.94,27.17,23.37,37.1,23.75,28.975,31.35,33.915,28.785,28.3,37.4,17.765,34.7,26.505,22.04,35.9,25.555,28.785,28.05,34.1,25.175,31.9,36.0,22.42,32.49,25.3,29.735,28.69,38.83,30.495,37.73,37.43,28.4,24.13,29.7,37.145,23.37,25.46,39.52,24.42,25.175,35.53,27.83,26.6,36.85,39.6,29.8,29.64,28.215,37.0,33.155,31.825,18.905,41.47,30.3,15.96,34.8,33.345,37.7,27.835,29.2,28.9,33.155,28.595,38.28,19.95,26.41,30.69,41.895,29.92,30.9,32.2,32.11,31.57,26.2,25.74,26.6,34.43,30.59,32.8,28.6,18.05,39.33,32.11,32.23,24.035,36.08,22.3,28.88,26.4,27.74,31.8,41.23,33.0,30.875,28.5,26.73,30.9,37.1,26.6,23.1,29.92,23.21,33.7,33.25,30.8,34.8,24.64,33.88,38.06,41.91,31.635,25.46,36.195,27.83,17.8,27.5,24.51,22.22,26.73,38.39,29.07,38.06,36.67,22.135,26.8,35.3,27.74,30.02,38.06,35.86,20.9,28.975,17.29,32.2,34.21,30.3,31.825,25.365,33.63,40.15,24.415,31.92,25.2,26.84,24.32,36.955,38.06,42.35,19.8,32.395,30.2,25.84,29.37,34.2,37.05,27.455,27.55,26.6,20.615,24.3,31.79,21.56,28.12,40.565,27.645,32.395,31.2,26.62,48.07,26.22,36.765,26.4,33.4,29.64,45.54,28.82,26.8,22.99,27.7,25.41,34.39,28.88,27.55,22.61,37.51,33.0,38.0,33.345,27.5,33.33,34.865,33.06,26.6,24.7,35.97,35.86,31.4,33.25,32.205,32.775,27.645,37.335,25.27,29.64,30.8,40.945,27.2,34.105,23.21,36.48,33.8,36.7,36.385,27.36,31.16,28.785,35.72,34.5,25.74,27.55,32.3,27.72,27.6,30.02,27.55,36.765,41.47,29.26,35.75,33.345,29.92,27.835,23.18,25.6,27.7,35.245,38.28,27.6,43.89,29.83,41.91,20.79,32.3,30.5,21.7,26.4,21.89,30.78,32.3,24.985,32.015,30.4,21.09,22.23,33.155,32.9,33.33,28.31,24.89,40.15,30.115,31.46,17.955,30.685,33.0,43.34,22.135,34.4,39.05,25.365,22.61,30.21,35.625,37.43,31.445,31.35,32.3,19.855,34.4,31.02,25.6,38.17,20.6,47.52,32.965,32.3,20.4,38.38,24.31,23.6,21.12,30.03,17.48,20.235,17.195,23.9,35.15,35.64,34.1,22.6,39.16,26.98,33.88,35.86,32.775,30.59,30.2,24.31,27.265,29.165,16.815,30.4,33.1,20.235,26.9,30.5,28.595,33.11,31.73,28.9,46.75,29.45,32.68,33.5,43.01,36.52,26.695,33.1,29.64,25.65,29.6,38.6,29.6,24.13,23.4,29.735,46.53,37.4,30.14,30.495,39.6,33.0,36.63,30.0,38.095,25.935,25.175,28.38,28.7,33.82,24.32,24.09,32.67,30.115,29.8,33.345,25.1,28.31,28.5,35.625,36.85,32.56,41.325,37.51,31.35,39.5,34.3,31.065,21.47,28.7,38.06,31.16,32.9,25.08,25.08,43.4,25.7,27.93,23.6,28.7,23.98,39.2,34.4,26.03,23.21,30.25,28.93,30.875,31.35,23.75,25.27,28.7,32.11,33.66,22.42,30.4,28.3,35.7,35.31,30.495,31.0,30.875,27.36,44.22,33.915,37.73,26.07,33.88,30.59,25.8,39.425,25.46,42.13,31.73,29.7,36.19,40.48,28.025,38.9,30.2,28.05,31.35,38.0,31.79,36.3,47.41,30.21,25.84,35.435,46.7,28.595,46.2,30.8,28.93,21.4,31.73,41.325,23.8,33.44,34.21,34.105,35.53,19.95,32.68,30.5,44.77,32.12,30.495,40.565,30.59,31.9,40.565,29.1,37.29,43.12,36.86,34.295,27.17,26.84,38.095,30.2,23.465,25.46,30.59,45.43,23.65,20.7,28.27,20.235,30.21,35.91,30.69,29.0,19.57,31.13,21.85,40.26,33.725,29.48,33.25,32.6,37.525,39.16,31.635,25.3,39.05,28.31,34.1,25.175,23.655,26.98,37.8,29.37,34.8,33.155,19.0,33.0,36.63,28.595,25.6,33.11,37.1,31.4,34.1,21.3,33.535,28.785,26.03,28.88,42.46,38.0,38.95,36.1,29.3,35.53,22.705,39.7,38.19,24.51,38.095,26.41,33.66,42.4,28.31,33.915,34.96,35.31,30.78,26.22,23.37,28.5,32.965,42.68,39.6,31.13,36.3,35.2,25.3,42.4,33.155,35.91,28.785,46.53,23.98,31.54,33.66,22.99,38.06,28.7,32.775,32.015,29.81,31.57,31.16,29.7,31.02,43.89,21.375,40.81,31.35,36.1,23.18,17.4,20.3,35.3,24.32,18.5,26.41,26.125,41.69,24.1,31.13,27.36,36.2,32.395,23.655,34.8,40.185,32.3,35.75,33.725,39.27,34.87,44.745,41.47,26.41,29.545,32.9,38.06,28.69,30.495,27.74,35.2,23.54,30.685,40.47,22.6,28.9,22.61,24.32,36.67,33.44,40.66,36.6,37.4,35.4,27.075,39.05,28.405,21.755,40.28,36.08,24.42,21.4,30.1,27.265,32.1,34.77,38.39,23.7,31.73,35.5,24.035,29.15,34.105,26.62,26.41,30.115,27.0,21.755,36.0,30.875,26.4,28.975,37.905,22.77,33.63,27.645,22.8,27.83,37.43,38.17,34.58,35.2,27.1,26.03,25.175,31.825,32.3,29.0,39.7,19.475,36.1,26.7,36.48,28.88,34.2,33.33,32.3,39.805,34.32,28.88,24.4,41.14,35.97,27.6,29.26,27.7,36.955,36.86,22.515,29.92,41.8,27.6,23.18,20.9,31.92,28.5,44.22,22.895,33.1,24.795,26.18,35.97,22.3,42.24,26.51,35.815,41.42,36.575,30.14,25.84,30.8,42.94,21.01,22.515,34.43,31.46,24.225,37.1,26.125,35.53,33.7,17.67,31.13,29.81,24.32,31.825,31.79,28.025,30.78,21.85,33.1,25.84,23.845,34.39,33.82,35.97,31.5,28.31,23.465,31.35,31.1,24.7,32.78,29.81,30.495,32.45,34.2,50.38,24.1,32.775,30.78,32.3,35.53,23.75,23.845,29.6,33.11,24.13,32.23,28.1,47.6,28.0,33.535,19.855,25.4,29.9,37.29,43.7,23.655,24.3,36.2,29.48,24.86,30.1,21.85,28.12,27.1,33.44,28.8,29.5,34.8,27.36,22.135,37.05,26.695,28.93,28.975,30.02,39.5,33.63,26.885,29.04,24.035,38.94,32.11,44.0,20.045,25.555,40.26,22.515,22.515,40.92,27.265,36.85,35.1,29.355,32.585,32.34,39.8,24.6,28.31,31.73,26.695,27.5,24.605,33.99,26.885,22.895,28.2,34.21,25.0,33.2,31.0,35.815,23.2,32.11,23.4,20.1,39.16,34.21,46.53,32.5,25.8,35.3,37.18,27.5,29.735,24.225,26.18,29.48,23.21,46.09,40.185,22.61,39.93,35.8,35.8,34.2,31.255,29.7,18.335,42.9,28.405,30.2,27.835,39.49,30.8,26.79,34.96,36.67,39.615,25.9,35.2,24.795,36.765,27.1,24.795,25.365,25.745,34.32,28.16,23.56,20.235,40.5,35.42,22.895,40.15,29.15,39.995,29.92,25.46,21.375,25.9,30.59,30.115,25.8,30.115,27.645,34.675,20.52,19.8,27.835,31.6,28.27,20.045,23.275,34.1,36.85,36.29,26.885,22.99,32.7,25.8,29.6,19.19,31.73,29.26,28.215,24.985,27.74,22.8,20.13,33.33,32.3,27.6,25.46,24.605,34.2,35.815,32.68,37.0,31.02,36.08,23.32,45.32,34.6,26.03,18.715,31.6,17.29,23.655,35.2,27.93,21.565,38.38,23.0,37.07,30.495,28.88,27.265,28.025,23.085,30.685,25.8,35.245,24.7,25.08,52.58,22.515,30.9,36.955,26.41,29.83,29.8,21.47,27.645,28.9,31.79,39.49,33.82,32.01,27.94,41.14,28.595,25.6,25.3,37.29,42.655,21.66,31.9,37.07,31.445,31.255,28.88,18.335,29.59,32.0,26.03,31.68,33.66,21.78,27.835,19.95,31.5,30.495,18.3,28.975,31.54,47.74,22.1,36.19,29.83,32.7,30.4,33.7,31.35,34.96,33.77,30.875,33.99,19.095,28.6,38.94,36.08,29.8,31.24,29.925,26.22,30.0,20.35,32.3,38.39,25.85,26.315,24.51,32.67,29.64,33.33,35.75,19.95,31.4,38.17,36.86,32.395,42.75,25.08,29.9,35.86,32.8,18.6,23.87,45.9,40.28,18.335,33.82,28.12,25.0,22.23,30.25,32.49,37.07,32.6,24.86,32.34,32.3,32.775,32.8,31.92,21.5,34.1,30.305,36.48,32.56,35.815,27.93,22.135,44.88,23.18,30.59,41.1,34.58,42.13,38.83,28.215,28.31,26.125,40.37,24.6,35.2,34.105,27.36,26.7,41.91,29.26,32.11,27.1,24.13,27.4,34.865,29.81,41.325,29.925,30.3,27.36,28.49,23.56,35.625,32.68,25.27,28.0,32.775,21.755,32.395,36.575,21.755,27.93,30.02,33.55,29.355,25.8,24.32,40.375,32.11,32.3,27.28,17.86,34.8,33.4,25.555,37.1,30.875,34.1,21.47,33.3,31.255,39.14,25.08,37.29,34.6,30.21,21.945,24.97,25.3,24.42,23.94,39.82,16.815,37.18,34.43,30.305,34.485,21.8,24.605,23.3,27.83,31.065,21.66,28.215,22.705,42.13,41.8,36.96,21.28,33.11,33.33,24.3,25.7,29.4,39.82,33.63,29.83,19.8,27.3,29.3,27.72,37.9,36.385,27.645,37.715,23.18,20.52,37.1,28.05,29.9,33.345,23.76,30.5,31.065,33.3,27.5,33.915,34.485,25.52,27.61,27.06,23.7,30.4,29.735,29.925,26.79,33.33,27.645,21.66,30.03,36.3,24.32,17.29,25.9,39.4,34.32,19.95,34.9,23.21,25.745,25.175,22.0,26.125,26.51,27.455,25.745,30.36,30.875,20.8,27.8,24.605,27.72,21.85,28.12,30.2,32.2,26.315,26.695,42.9,34.7,23.655,28.31,20.6,53.13,39.71,26.315,31.065,26.695,38.83,40.37,25.935,33.535,32.87,30.03,24.225,38.6,25.74,33.4,44.7,30.97,31.92,36.85,25.8,29.07],\"y\":[12181.994768208471,14494.02945898918,14190.747225275185,10135.824373216003,12567.990338389918,11331.229021686097,14364.051358826038,12118.975083280888,12942.169717647443,11370.616324765837,11520.288076468847,11547.859188624665,14742.169468391538,16876.961295313416,17786.8079964554,10882.213766577068,13316.349096904969,10584.839628325033,17066.020350096165,15096.655196109192,15374.335682821358,13954.423406796748,14624.00755915232,13765.364352014,12231.228897058145,12111.09762266494,10285.496124919015,14102.125793345771,8040.419849373862,15490.528226906588,15214.817105348413,11557.7060143946,12457.705889766648,12343.482710835402,15529.915529986327,9237.793862997944,14176.961669197277,9385.496249546966,15636.261248301626,16908.471137777207,11669.959828171857,15620.50632706973,9771.491819728415,13324.226557520917,15785.933000004634,15884.401257703983,16422.037944742427,14887.902489786575,10854.64265442125,15057.267893029455,15224.663931118346,14438.887234677544,12221.38207128821,14753.98565931546,12493.154462538414,15748.51506207888,13727.946414088246,13670.834824622623,10204.752153605548,15898.186813781893,11969.303331577878,14450.703425601465,10921.601069656806,11408.03426269159,10023.570559438747,12575.867799005866,16593.372713139295,11557.7060143946,15447.202193518875,10638.012487482683,10941.294721196677,12418.318586686908,12260.76937436795,13800.812924785763,11985.058252809773,14588.558986380553,12847.640190256068,15187.245993192595,16871.053199851456,14176.961669197277,11782.213641949116,16272.366193039416,16010.440627559148,17432.322268737742,14899.718680710495,10210.660249067509,13466.02084860798,11906.283646650294,12118.975083280888,11819.631579874867,16746.98319515028,10959.01900758256,12942.169717647443,14887.902489786575,13521.163072919615,16010.440627559148,13324.226557520917,16270.396827885432,9050.70417336918,8794.686703350873,13639.324982158832,11220.944573062827,13054.4235314247,12977.61829041921,12024.445555889513,12231.228897058145,12378.931283607168,13353.76703483072,12197.749689440367,15013.941859641742,14438.887234677544,12890.966223643782,13324.226557520917,15262.0818690441,13877.618165791255,12455.73652461266,20516.348099881347,12197.749689440367,11894.467455726373,10397.749938696272,15805.626651544506,10547.421690399282,12605.408276315671,13540.856724459483,14551.141048454801,12530.572400464165,12339.543980527429,15923.788560783723,8190.091601076872,14860.331377630759,11632.541890246104,9873.898807735735,15332.97901458763,11258.36251098858,12530.572400464165,12241.07572282808,14624.00755915232,11108.69075928557,13757.48689139805,15372.36631766737,10023.570559438747,13989.871979568514,11157.924888135245,12904.75177972169,12493.154462538414,16487.026994823995,13204.095283127712,16053.766660946862,15935.604751707644,12378.931283607168,10697.093442102292,12890.966223643782,15823.350937930389,10397.749938696272,11220.944573062827,16758.7993860742,10811.316621033537,11108.69075928557,15187.245993192595,12154.423656052653,11669.959828171857,15707.158393845157,16790.30922853799,12930.353526723522,12867.333841795938,12306.06477290965,15766.239348464765,14251.797545048781,13727.946414088246,8639.106856185903,17526.851796129118,13127.290042122218,7479.150780487575,14899.718680710495,14326.633420900285,16041.950470022943,12156.39302120664,12694.029708245083,12575.867799005866,14251.797545048781,12455.73652461266,16270.396827885432,9050.70417336918,11595.123952320353,13280.900524133203,17694.24783421801,12977.61829041921,13363.613860600655,13875.648800637271,13840.200227865504,13627.50879123491,11512.4106158529,11331.229021686097,11669.959828171857,14753.98565931546,13241.513221053463,14111.972619115706,12457.705889766648,8302.34541485413,16683.963510222693,13840.200227865504,13887.46499156119,10659.67550417654,15403.876160131162,9976.30579574306,12567.990338389918,11591.185222012378,12118.975083280888,13718.099588318311,17432.322268737742,14190.747225275185,13353.76703483072,12418.318586686908,11721.163322175518,13363.613860600655,15805.626651544506,11669.959828171857,10291.404220380975,12977.61829041921,10334.730253768688,14466.458346833362,14289.215482974534,13324.226557520917,14899.718680710495,10897.968687808963,14537.355492376893,16183.744761110005,17700.15592967997,13653.110538236742,11220.944573062827,15449.171558672862,12154.423656052653,8203.877157154782,12024.445555889513,10846.765193805302,9944.795953279267,11721.163322175518,16313.722861273145,12642.826214241422,16183.744761110005,15636.261248301626,9911.31674566149,11748.734434331336,15096.655196109192,12118.975083280888,13017.005593498949,16183.744761110005,15317.224093355735,9424.883552626705,12605.408276315671,8003.001911448109,13875.648800637271,14667.333592540033,13127.290042122218,13727.946414088246,11183.526635137074,14438.887234677544,17006.93939547656,10809.34725587955,13765.364352014,11118.537585055505,11764.489355563232,10771.929317953796,15748.51506207888,16183.744761110005,17873.46006323083,8991.623218749572,13952.454041642763,13087.90273904248,11370.616324765837,12760.988123480642,14663.39486223206,15785.933000004634,12006.721269503629,12044.139207429384,11669.959828171857,9312.629738849448,10764.051857337849,13714.160858010337,9684.839752952987,12268.646834983898,17170.396703257476,12081.557145355135,13952.454041642763,13481.775769839875,11677.837288787805,20126.413799391925,11520.288076468847,15673.679186227377,11591.185222012378,14348.296437594143,12867.333841795938,19129.915031474517,12544.357956542075,11748.734434331336,10248.078186993262,12103.220162048992,11201.250921522958,14738.230738083565,12567.990338389918,12044.139207429384,10098.406435290251,15967.114594171435,14190.747225275185,16160.11237926216,14326.633420900285,12024.445555889513,14320.725325438325,14925.320427712328,14214.37960712303,11669.959828171857,10921.601069656806,15360.550126743448,15317.224093355735,13560.550375999353,14289.215482974534,13877.618165791255,14102.125793345771,12081.557145355135,15898.186813781893,11146.108697211323,12867.333841795938,13324.226557520917,17320.06845496049,11906.283646650294,14625.976924306306,10334.730253768688,15561.425372450118,14505.8456499131,15648.077439225548,15524.007434524367,11969.303331577878,13466.02084860798,12530.572400464165,15262.0818690441,14781.556771471278,11331.229021686097,12044.139207429384,13915.036103717008,12111.09762266494,12063.832858969254,13017.005593498949,12044.139207429384,15673.679186227377,17526.851796129118,12717.662090092928,15273.898059968022,14326.633420900285,12977.61829041921,12156.39302120664,10322.914062844766,11276.086797374463,12103.220162048992,15074.992179415336,16270.396827885432,12063.832858969254,18480.024530658815,12942.169717647443,17700.15592967997,9381.557519238992,13915.036103717008,13206.064648281697,9739.981977264622,11591.185222012378,9814.817853116127,13316.349096904969,13915.036103717008,11033.854883434064,13802.78228993975,13166.677345201957,9499.71942847821,9948.734683587241,14251.797545048781,14151.359922195445,14320.725325438325,12343.482710835402,10996.436945508312,17006.93939547656,13054.4235314247,13584.182757847197,8264.927476928377,13278.931158979216,14190.747225275185,18263.39436372025,9911.31674566149,14742.169468391538,16573.67906159942,11183.526635137074,10098.406435290251,13091.841469350453,15224.663931118346,15935.604751707644,13578.274662385236,13540.856724459483,13915.036103717008,9013.286235443427,14742.169468391538,13410.878624296343,11276.086797374463,16227.070794497718,9306.721643387487,19909.78363245336,14176.961669197277,13915.036103717008,9227.947037228008,16309.78413096517,10767.990587645823,10488.340735779673,9511.535619402133,13020.944323806923,8077.837787299615,9162.957987146438,7965.583973522358,10606.50264501889,15037.574241489583,15230.572026580308,14624.00755915232,10094.467704982279,16617.005094987137,11819.631579874867,14537.355492376893,15317.224093355735,14102.125793345771,13241.513221053463,13087.90273904248,10767.990587645823,11931.885393652125,12680.244152167175,7815.912221819348,13166.677345201957,14230.134528354925,9162.957987146438,11788.121737411075,13206.064648281697,12455.73652461266,14234.073258662898,13690.528476162493,12575.867799005866,19606.501398739365,12792.497965944433,14064.707855420018,14387.683740673883,18133.416263557105,15577.180293682017,11707.37776609761,14230.134528354925,12867.333841795938,11295.780448914331,12851.578920564043,16396.436197740597,12851.578920564043,10697.093442102292,10409.566129620192,12904.75177972169,19519.84933196394,15923.788560783723,13064.270357194637,13204.095283127712,16790.30922853799,14190.747225275185,15620.50632706973,13009.128132883001,16197.530317187911,11408.03426269159,11108.69075928557,12371.05382299122,12497.093192846387,14513.723110529048,10771.929317953796,10681.338520870397,14060.769125112045,13054.4235314247,12930.353526723522,14326.633420900285,11079.150281975766,12343.482710835402,12418.318586686908,15224.663931118346,15707.158393845157,14017.443091724332,17469.740206663497,15967.114594171435,13540.856724459483,16750.921925458253,14702.782165311797,13428.602910682226,9649.391180181221,12497.093192846387,16183.744761110005,13466.02084860798,14151.359922195445,11071.272821359817,11071.272821359817,18287.02674556809,11315.474100454201,12193.810959132392,10488.340735779673,12497.093192846387,10638.012487482683,16632.760016219036,14742.169468391538,11445.452200617343,10334.730253768688,13107.596390582348,12587.683989929788,13353.76703483072,13540.856724459483,10547.421690399282,11146.108697211323,12497.093192846387,13840.200227865504,14450.703425601465,10023.570559438747,13166.677345201957,12339.543980527429,15254.204408428153,15100.593926417168,13204.095283127712,13403.001163680396,13353.76703483072,11969.303331577878,18610.002630821953,14551.141048454801,16053.766660946862,11461.207121849238,14537.355492376893,13241.513221053463,11354.861403533941,16721.381448148444,11220.944573062827,17786.8079964554,13690.528476162493,12890.966223643782,15447.202193518875,17136.917495639696,12231.228897058145,16514.598106979814,13087.90273904248,12241.07572282808,13540.856724459483,16160.11237926216,13714.160858010337,15490.528226906588,19866.457599065645,13091.841469350453,11370.616324765837,15149.828055266842,19586.807747199495,12455.73652461266,19389.871231800797,13324.226557520917,12587.683989929788,9621.820068025403,13690.528476162493,17469.740206663497,10567.115341939152,14364.051358826038,14667.333592540033,14625.976924306306,15187.245993192595,9050.70417336918,14064.707855420018,13206.064648281697,18826.632797760525,13844.138958173477,13204.095283127712,17170.396703257476,13241.513221053463,13757.48689139805,17170.396703257476,12654.642405165345,15880.46252739601,18176.74229694482,15711.09712415313,14700.812800157812,11894.467455726373,11764.489355563232,16197.530317187911,13087.90273904248,10435.167876622025,11220.944573062827,13241.513221053463,19086.5889980868,10508.034387319542,9346.108946467226,12327.727789603507,9162.957987146438,13091.841469350453,15336.917744895603,13280.900524133203,12615.255102085606,8901.03242166617,13454.204657684057,9799.062931884231,17050.26542886427,14476.305172603297,12804.314156868355,14289.215482974534,14033.198012956227,15973.022689633397,16617.005094987137,13653.110538236742,11157.924888135245,16573.67906159942,12343.482710835402,14624.00755915232,11108.69075928557,10510.003752473529,11819.631579874867,16081.33777310268,12760.988123480642,14899.718680710495,14251.797545048781,8676.524794111656,14190.747225275185,15620.50632706973,12455.73652461266,11276.086797374463,14234.073258662898,15805.626651544506,13560.550375999353,14624.00755915232,9582.432764945665,14401.46929675179,12530.572400464165,11445.452200617343,12567.990338389918,17916.78609661854,16160.11237926216,16534.291758519685,15411.75362074711,12733.417011324824,15187.245993192595,10135.824373216003,16829.69653161773,16234.948255113664,10846.765193805302,16197.530317187911,11595.123952320353,14450.703425601465,17893.153714770695,12343.482710835402,14551.141048454801,14962.738365638079,15100.593926417168,13316.349096904969,11520.288076468847,10397.749938696272,12418.318586686908,14176.961669197277,18003.438163393967,16790.30922853799,13454.204657684057,15490.528226906588,15057.267893029455,11157.924888135245,17893.153714770695,14251.797545048781,15336.917744895603,12530.572400464165,19519.84933196394,10638.012487482683,13615.692600310987,14450.703425601465,10248.078186993262,16183.744761110005,12497.093192846387,14102.125793345771,13802.78228993975,12934.292257031495,13627.50879123491,13466.02084860798,12890.966223643782,13410.878624296343,18480.024530658815,9611.973242255468,17266.89559580284,13540.856724459483,15411.75362074711,10322.914062844766,8046.327944835823,9188.55973414827,15096.655196109192,10771.929317953796,8479.588278712958,11595.123952320353,11482.870138543094,17613.503862904545,10685.277251178371,13454.204657684057,11969.303331577878,15451.14092382685,13952.454041642763,10510.003752473529,14899.718680710495,17020.724951554468,13915.036103717008,15273.898059968022,14476.305172603297,16660.33112837485,14927.289792866313,18816.785971990586,17526.851796129118,11595.123952320353,12829.915903870186,14151.359922195445,16183.744761110005,12493.154462538414,13204.095283127712,12118.975083280888,15057.267893029455,10464.708353931828,13278.931158979216,17132.978765331725,10094.467704982279,12575.867799005866,10098.406435290251,10771.929317953796,15636.261248301626,14364.051358826038,17207.814641183228,15608.690136145808,15923.788560783723,15136.042499188932,11857.04951780062,16573.67906159942,12380.900648761155,9761.644993958478,17058.14288948022,15403.876160131162,10811.316621033537,9621.820068025403,13048.515435962741,11931.885393652125,13836.26149755753,14887.902489786575,16313.722861273145,10527.728038859412,13690.528476162493,15175.429802268673,10659.67550417654,12674.336056705213,14625.976924306306,11677.837288787805,11595.123952320353,13054.4235314247,11827.509040490815,9761.644993958478,15372.36631766737,13353.76703483072,11591.185222012378,12605.408276315671,16122.694441336407,10161.426120217835,14438.887234677544,12081.557145355135,10173.242311141757,12154.423656052653,15935.604751707644,16227.070794497718,14813.066613935069,15057.267893029455,11866.896343570555,11445.452200617343,11108.69075928557,13727.946414088246,13915.036103717008,12615.255102085606,16829.69653161773,8863.614483740419,15411.75362074711,11709.347131251598,15561.425372450118,12567.990338389918,14663.39486223206,14320.725325438325,13915.036103717008,16871.053199851456,14710.659625927747,12567.990338389918,10803.439160417589,17396.87369596598,15360.550126743448,12063.832858969254,12717.662090092928,12103.220162048992,15748.51506207888,15711.09712415313,10060.988497364498,12977.61829041921,17656.829896292256,12063.832858969254,10322.914062844766,9424.883552626705,13765.364352014,12418.318586686908,18610.002630821953,10210.660249067509,14230.134528354925,10959.01900758256,11504.533155236952,15360.550126743448,9976.30579574306,17830.134029843113,11634.511255400093,15299.49980696985,17507.15814458925,15598.843310375873,13064.270357194637,11370.616324765837,13324.226557520917,18105.84515140129,9468.20958601442,10060.988497364498,14753.98565931546,13584.182757847197,10734.511380028045,15805.626651544506,11482.870138543094,15187.245993192595,14466.458346833362,8152.673663151121,13454.204657684057,12934.292257031495,10771.929317953796,13727.946414088246,13714.160858010337,12231.228897058145,13316.349096904969,9799.062931884231,14230.134528354925,11370.616324765837,10584.839628325033,14738.230738083565,14513.723110529048,15360.550126743448,13599.937679079092,12343.482710835402,10435.167876622025,13540.856724459483,13442.388466760136,10921.601069656806,14104.095158499758,12934.292257031495,13204.095283127712,13974.117058336618,14663.39486223206,21036.26050053391,10685.277251178371,14102.125793345771,13316.349096904969,13915.036103717008,15187.245993192595,10547.421690399282,10584.839628325033,12851.578920564043,14234.073258662898,10697.093442102292,13887.46499156119,12260.76937436795,19941.29347491715,12221.38207128821,14401.46929675179,9013.286235443427,11197.312191214984,12969.74082980326,15880.46252739601,18405.18865480731,10510.003752473529,10764.051857337849,15451.14092382685,12804.314156868355,10984.62075458439,13048.515435962741,9799.062931884231,12268.646834983898,11866.896343570555,14364.051358826038,12536.480495926127,12812.191617484303,14899.718680710495,11969.303331577878,9911.31674566149,15785.933000004634,11707.37776609761,12587.683989929788,12605.408276315671,13017.005593498949,16750.921925458253,14438.887234677544,11782.213641949116,12631.010023317502,10659.67550417654,16530.35302821171,13840.200227865504,18523.350564046526,9088.122111294933,11258.36251098858,17050.26542886427,10060.988497364498,10060.988497364498,17310.221629190553,11931.885393652125,15707.158393845157,15017.880589949715,12755.080028018681,14027.289917494267,13930.791024948905,16869.08383469747,10882.213766577068,12343.482710835402,13690.528476162493,11707.37776609761,12024.445555889513,10884.183131731055,14580.681525764607,11782.213641949116,10210.660249067509,12300.156677447689,14667.333592540033,11039.762978896026,14269.521831434666,13403.001163680396,15299.49980696985,10330.791523460714,13840.200227865504,10409.566129620192,9109.785127988791,16617.005094987137,14667.333592540033,19519.84933196394,13993.810709876489,11354.861403533941,15096.655196109192,15837.136494008297,12024.445555889513,12904.75177972169,10734.511380028045,11504.533155236952,12804.314156868355,10334.730253768688,19346.545198413085,17020.724951554468,10098.406435290251,16920.28732870113,15293.59171150789,15293.59171150789,14663.39486223206,13503.43878653373,12890.966223643782,8414.599228631389,18090.090230169393,12380.900648761155,13087.90273904248,12156.39302120664,16746.98319515028,13324.226557520917,11744.795704023361,14962.738365638079,15636.261248301626,16796.217323999954,11394.24870661368,15057.267893029455,10959.01900758256,15673.679186227377,11866.896343570555,10959.01900758256,11183.526635137074,11333.198386840086,14710.659625927747,12284.401756215793,10472.585814547776,9162.957987146438,17144.794956255646,15143.919959804882,10210.660249067509,17006.93939547656,12674.336056705213,16945.889075702962,12977.61829041921,11220.944573062827,9611.973242255468,11394.24870661368,13241.513221053463,13054.4235314247,11354.861403533941,13054.4235314247,12081.557145355135,14850.48455186082,9275.211800923695,8991.623218749572,12156.39302120664,13639.324982158832,12327.727789603507,9088.122111294933,10360.332000770519,14624.00755915232,15707.158393845157,15486.589496598614,11782.213641949116,10248.078186993262,14072.585316035967,11354.861403533941,12851.578920564043,8751.36066996316,13690.528476162493,12717.662090092928,12306.06477290965,11033.854883434064,12118.975083280888,10173.242311141757,9121.601318912712,14320.725325438325,13915.036103717008,12063.832858969254,11220.944573062827,10884.183131731055,14663.39486223206,15299.49980696985,14064.707855420018,15766.239348464765,13410.878624296343,15403.876160131162,10378.056287156402,19043.26296469909,14820.944074551018,11445.452200617343,8564.270980334397,13639.324982158832,8003.001911448109,10510.003752473529,15057.267893029455,12193.810959132392,9686.809118106974,16309.78413096517,10252.016917301236,15793.810460620583,13204.095283127712,12567.990338389918,11931.885393652125,12231.228897058145,10285.496124919015,13278.931158979216,11354.861403533941,15074.992179415336,10921.601069656806,11071.272821359817,21902.781168288177,10060.988497364498,13363.613860600655,15748.51506207888,11595.123952320353,12942.169717647443,12930.353526723522,9649.391180181221,12081.557145355135,12575.867799005866,13714.160858010337,16746.98319515028,14513.723110529048,13800.812924785763,12197.749689440367,17396.87369596598,12455.73652461266,11276.086797374463,11157.924888135245,15880.46252739601,17993.59133762403,9724.227056032727,13757.48689139805,15793.810460620583,13578.274662385236,13503.43878653373,12567.990338389918,8414.599228631389,12847.640190256068,13796.87419447779,11445.452200617343,13670.834824622623,14450.703425601465,9771.491819728415,12156.39302120664,9050.70417336918,13599.937679079092,13204.095283127712,8400.813672553479,12605.408276315671,13615.692600310987,19996.435699228787,9897.53118958358,15447.202193518875,12942.169717647443,14072.585316035967,13166.677345201957,14466.458346833362,13540.856724459483,14962.738365638079,14494.02945898918,13353.76703483072,14580.681525764607,8713.942732037407,12457.705889766648,16530.35302821171,15403.876160131162,12930.353526723522,13497.53069107177,12979.587655573196,11520.288076468847,13009.128132883001,9208.253385688138,13915.036103717008,16313.722861273145,11374.555055073812,11557.7060143946,10846.765193805302,14060.769125112045,12867.333841795938,14320.725325438325,15273.898059968022,9050.70417336918,13560.550375999353,16227.070794497718,15711.09712415313,13952.454041642763,18031.009275549783,11071.272821359817,12969.74082980326,15317.224093355735,14111.972619115706,8518.975581792698,10594.68645409497,19271.70932256158,17058.14288948022,8414.599228631389,14513.723110529048,12268.646834983898,11039.762978896026,9948.734683587241,13107.596390582348,13989.871979568514,15793.810460620583,14033.198012956227,10984.62075458439,13930.791024948905,13915.036103717008,14102.125793345771,14111.972619115706,13765.364352014,9661.207371105143,14624.00755915232,13129.259407276206,15561.425372450118,14017.443091724332,15299.49980696985,12193.810959132392,9911.31674566149,18869.958831148237,10322.914062844766,13241.513221053463,17381.118774734085,14813.066613935069,17786.8079964554,16487.026994823995,12306.06477290965,12343.482710835402,11482.870138543094,17093.591462251985,10882.213766577068,15057.267893029455,14625.976924306306,11969.303331577878,11709.347131251598,17700.15592967997,12717.662090092928,13840.200227865504,11866.896343570555,10697.093442102292,11985.058252809773,14925.320427712328,12934.292257031495,17469.740206663497,12979.587655573196,13127.290042122218,11969.303331577878,12414.379856378933,10472.585814547776,15224.663931118346,14064.707855420018,11146.108697211323,12221.38207128821,14102.125793345771,9761.644993958478,13952.454041642763,15598.843310375873,9761.644993958478,12193.810959132392,13017.005593498949,14407.377392213752,12755.080028018681,11354.861403533941,10771.929317953796,17095.56082740597,13840.200227865504,13915.036103717008,11937.793489114087,8227.509539002625,14899.718680710495,14348.296437594143,11258.36251098858,15805.626651544506,13353.76703483072,14624.00755915232,9649.391180181221,14308.909134514402,13503.43878653373,16609.12763437119,11071.272821359817,15880.46252739601,14820.944074551018,13091.841469350453,9836.480869809984,11027.946787972103,11157.924888135245,10811.316621033537,10622.257566250788,16876.961295313416,7815.912221819348,15837.136494008297,14753.98565931546,13129.259407276206,14775.648676009316,9779.369280344363,10884.183131731055,10370.178826540454,12154.423656052653,13428.602910682226,9724.227056032727,12306.06477290965,10135.824373216003,17786.8079964554,17656.829896292256,15750.48442723287,9574.555304329717,14234.073258662898,14320.725325438325,10764.051857337849,11315.474100454201,12772.804314404562,16876.961295313416,14438.887234677544,12942.169717647443,8991.623218749572,11945.670949730034,12733.417011324824,12111.09762266494,16120.72507618242,15524.007434524367,12081.557145355135,16047.858565484903,10322.914062844766,9275.211800923695,15805.626651544506,12241.07572282808,12969.74082980326,14326.633420900285,10551.360420707257,13206.064648281697,13428.602910682226,14308.909134514402,12024.445555889513,14551.141048454801,14775.648676009316,11244.57695491067,12067.771589277227,11851.141422338658,10527.728038859412,13166.677345201957,12904.75177972169,12979.587655573196,11744.795704023361,14320.725325438325,12081.557145355135,9724.227056032727,13020.944323806923,15490.528226906588,10771.929317953796,8003.001911448109,11394.24870661368,16711.534622378513,14710.659625927747,9050.70417336918,14939.105983790236,10334.730253768688,11333.198386840086,11108.69075928557,9858.14388650384,11482.870138543094,11634.511255400093,12006.721269503629,11333.198386840086,13150.922423970062,13353.76703483072,9385.496249546966,12142.60746512873,10884.183131731055,12111.09762266494,9799.062931884231,12268.646834983898,13087.90273904248,13875.648800637271,11557.7060143946,11707.37776609761,18090.090230169393,14860.331377630759,10510.003752473529,12343.482710835402,9306.721643387487,22119.411335226745,16833.635261925705,11557.7060143946,13428.602910682226,11707.37776609761,16487.026994823995,17093.591462251985,11408.03426269159,14401.46929675179,14139.543731271522,13020.944323806923,10734.511380028045,16396.436197740597,11331.229021686097,14348.296437594143,18799.061685604705,13391.184972756473,13765.364352014,15707.158393845157,11354.861403533941,12642.826214241422],\"type\":\"scatter\"}],                        {\"template\":{\"data\":{\"histogram2dcontour\":[{\"type\":\"histogram2dcontour\",\"colorbar\":{\"outlinewidth\":0,\"ticks\":\"\"},\"colorscale\":[[0.0,\"#0d0887\"],[0.1111111111111111,\"#46039f\"],[0.2222222222222222,\"#7201a8\"],[0.3333333333333333,\"#9c179e\"],[0.4444444444444444,\"#bd3786\"],[0.5555555555555556,\"#d8576b\"],[0.6666666666666666,\"#ed7953\"],[0.7777777777777778,\"#fb9f3a\"],[0.8888888888888888,\"#fdca26\"],[1.0,\"#f0f921\"]]}],\"choropleth\":[{\"type\":\"choropleth\",\"colorbar\":{\"outlinewidth\":0,\"ticks\":\"\"}}],\"histogram2d\":[{\"type\":\"histogram2d\",\"colorbar\":{\"outlinewidth\":0,\"ticks\":\"\"},\"colorscale\":[[0.0,\"#0d0887\"],[0.1111111111111111,\"#46039f\"],[0.2222222222222222,\"#7201a8\"],[0.3333333333333333,\"#9c179e\"],[0.4444444444444444,\"#bd3786\"],[0.5555555555555556,\"#d8576b\"],[0.6666666666666666,\"#ed7953\"],[0.7777777777777778,\"#fb9f3a\"],[0.8888888888888888,\"#fdca26\"],[1.0,\"#f0f921\"]]}],\"heatmap\":[{\"type\":\"heatmap\",\"colorbar\":{\"outlinewidth\":0,\"ticks\":\"\"},\"colorscale\":[[0.0,\"#0d0887\"],[0.1111111111111111,\"#46039f\"],[0.2222222222222222,\"#7201a8\"],[0.3333333333333333,\"#9c179e\"],[0.4444444444444444,\"#bd3786\"],[0.5555555555555556,\"#d8576b\"],[0.6666666666666666,\"#ed7953\"],[0.7777777777777778,\"#fb9f3a\"],[0.8888888888888888,\"#fdca26\"],[1.0,\"#f0f921\"]]}],\"heatmapgl\":[{\"type\":\"heatmapgl\",\"colorbar\":{\"outlinewidth\":0,\"ticks\":\"\"},\"colorscale\":[[0.0,\"#0d0887\"],[0.1111111111111111,\"#46039f\"],[0.2222222222222222,\"#7201a8\"],[0.3333333333333333,\"#9c179e\"],[0.4444444444444444,\"#bd3786\"],[0.5555555555555556,\"#d8576b\"],[0.6666666666666666,\"#ed7953\"],[0.7777777777777778,\"#fb9f3a\"],[0.8888888888888888,\"#fdca26\"],[1.0,\"#f0f921\"]]}],\"contourcarpet\":[{\"type\":\"contourcarpet\",\"colorbar\":{\"outlinewidth\":0,\"ticks\":\"\"}}],\"contour\":[{\"type\":\"contour\",\"colorbar\":{\"outlinewidth\":0,\"ticks\":\"\"},\"colorscale\":[[0.0,\"#0d0887\"],[0.1111111111111111,\"#46039f\"],[0.2222222222222222,\"#7201a8\"],[0.3333333333333333,\"#9c179e\"],[0.4444444444444444,\"#bd3786\"],[0.5555555555555556,\"#d8576b\"],[0.6666666666666666,\"#ed7953\"],[0.7777777777777778,\"#fb9f3a\"],[0.8888888888888888,\"#fdca26\"],[1.0,\"#f0f921\"]]}],\"surface\":[{\"type\":\"surface\",\"colorbar\":{\"outlinewidth\":0,\"ticks\":\"\"},\"colorscale\":[[0.0,\"#0d0887\"],[0.1111111111111111,\"#46039f\"],[0.2222222222222222,\"#7201a8\"],[0.3333333333333333,\"#9c179e\"],[0.4444444444444444,\"#bd3786\"],[0.5555555555555556,\"#d8576b\"],[0.6666666666666666,\"#ed7953\"],[0.7777777777777778,\"#fb9f3a\"],[0.8888888888888888,\"#fdca26\"],[1.0,\"#f0f921\"]]}],\"mesh3d\":[{\"type\":\"mesh3d\",\"colorbar\":{\"outlinewidth\":0,\"ticks\":\"\"}}],\"scatter\":[{\"fillpattern\":{\"fillmode\":\"overlay\",\"size\":10,\"solidity\":0.2},\"type\":\"scatter\"}],\"parcoords\":[{\"type\":\"parcoords\",\"line\":{\"colorbar\":{\"outlinewidth\":0,\"ticks\":\"\"}}}],\"scatterpolargl\":[{\"type\":\"scatterpolargl\",\"marker\":{\"colorbar\":{\"outlinewidth\":0,\"ticks\":\"\"}}}],\"bar\":[{\"error_x\":{\"color\":\"#2a3f5f\"},\"error_y\":{\"color\":\"#2a3f5f\"},\"marker\":{\"line\":{\"color\":\"#E5ECF6\",\"width\":0.5},\"pattern\":{\"fillmode\":\"overlay\",\"size\":10,\"solidity\":0.2}},\"type\":\"bar\"}],\"scattergeo\":[{\"type\":\"scattergeo\",\"marker\":{\"colorbar\":{\"outlinewidth\":0,\"ticks\":\"\"}}}],\"scatterpolar\":[{\"type\":\"scatterpolar\",\"marker\":{\"colorbar\":{\"outlinewidth\":0,\"ticks\":\"\"}}}],\"histogram\":[{\"marker\":{\"pattern\":{\"fillmode\":\"overlay\",\"size\":10,\"solidity\":0.2}},\"type\":\"histogram\"}],\"scattergl\":[{\"type\":\"scattergl\",\"marker\":{\"colorbar\":{\"outlinewidth\":0,\"ticks\":\"\"}}}],\"scatter3d\":[{\"type\":\"scatter3d\",\"line\":{\"colorbar\":{\"outlinewidth\":0,\"ticks\":\"\"}},\"marker\":{\"colorbar\":{\"outlinewidth\":0,\"ticks\":\"\"}}}],\"scattermapbox\":[{\"type\":\"scattermapbox\",\"marker\":{\"colorbar\":{\"outlinewidth\":0,\"ticks\":\"\"}}}],\"scatterternary\":[{\"type\":\"scatterternary\",\"marker\":{\"colorbar\":{\"outlinewidth\":0,\"ticks\":\"\"}}}],\"scattercarpet\":[{\"type\":\"scattercarpet\",\"marker\":{\"colorbar\":{\"outlinewidth\":0,\"ticks\":\"\"}}}],\"carpet\":[{\"aaxis\":{\"endlinecolor\":\"#2a3f5f\",\"gridcolor\":\"white\",\"linecolor\":\"white\",\"minorgridcolor\":\"white\",\"startlinecolor\":\"#2a3f5f\"},\"baxis\":{\"endlinecolor\":\"#2a3f5f\",\"gridcolor\":\"white\",\"linecolor\":\"white\",\"minorgridcolor\":\"white\",\"startlinecolor\":\"#2a3f5f\"},\"type\":\"carpet\"}],\"table\":[{\"cells\":{\"fill\":{\"color\":\"#EBF0F8\"},\"line\":{\"color\":\"white\"}},\"header\":{\"fill\":{\"color\":\"#C8D4E3\"},\"line\":{\"color\":\"white\"}},\"type\":\"table\"}],\"barpolar\":[{\"marker\":{\"line\":{\"color\":\"#E5ECF6\",\"width\":0.5},\"pattern\":{\"fillmode\":\"overlay\",\"size\":10,\"solidity\":0.2}},\"type\":\"barpolar\"}],\"pie\":[{\"automargin\":true,\"type\":\"pie\"}]},\"layout\":{\"autotypenumbers\":\"strict\",\"colorway\":[\"#636efa\",\"#EF553B\",\"#00cc96\",\"#ab63fa\",\"#FFA15A\",\"#19d3f3\",\"#FF6692\",\"#B6E880\",\"#FF97FF\",\"#FECB52\"],\"font\":{\"color\":\"#2a3f5f\"},\"hovermode\":\"closest\",\"hoverlabel\":{\"align\":\"left\"},\"paper_bgcolor\":\"white\",\"plot_bgcolor\":\"#E5ECF6\",\"polar\":{\"bgcolor\":\"#E5ECF6\",\"angularaxis\":{\"gridcolor\":\"white\",\"linecolor\":\"white\",\"ticks\":\"\"},\"radialaxis\":{\"gridcolor\":\"white\",\"linecolor\":\"white\",\"ticks\":\"\"}},\"ternary\":{\"bgcolor\":\"#E5ECF6\",\"aaxis\":{\"gridcolor\":\"white\",\"linecolor\":\"white\",\"ticks\":\"\"},\"baxis\":{\"gridcolor\":\"white\",\"linecolor\":\"white\",\"ticks\":\"\"},\"caxis\":{\"gridcolor\":\"white\",\"linecolor\":\"white\",\"ticks\":\"\"}},\"coloraxis\":{\"colorbar\":{\"outlinewidth\":0,\"ticks\":\"\"}},\"colorscale\":{\"sequential\":[[0.0,\"#0d0887\"],[0.1111111111111111,\"#46039f\"],[0.2222222222222222,\"#7201a8\"],[0.3333333333333333,\"#9c179e\"],[0.4444444444444444,\"#bd3786\"],[0.5555555555555556,\"#d8576b\"],[0.6666666666666666,\"#ed7953\"],[0.7777777777777778,\"#fb9f3a\"],[0.8888888888888888,\"#fdca26\"],[1.0,\"#f0f921\"]],\"sequentialminus\":[[0.0,\"#0d0887\"],[0.1111111111111111,\"#46039f\"],[0.2222222222222222,\"#7201a8\"],[0.3333333333333333,\"#9c179e\"],[0.4444444444444444,\"#bd3786\"],[0.5555555555555556,\"#d8576b\"],[0.6666666666666666,\"#ed7953\"],[0.7777777777777778,\"#fb9f3a\"],[0.8888888888888888,\"#fdca26\"],[1.0,\"#f0f921\"]],\"diverging\":[[0,\"#8e0152\"],[0.1,\"#c51b7d\"],[0.2,\"#de77ae\"],[0.3,\"#f1b6da\"],[0.4,\"#fde0ef\"],[0.5,\"#f7f7f7\"],[0.6,\"#e6f5d0\"],[0.7,\"#b8e186\"],[0.8,\"#7fbc41\"],[0.9,\"#4d9221\"],[1,\"#276419\"]]},\"xaxis\":{\"gridcolor\":\"white\",\"linecolor\":\"white\",\"ticks\":\"\",\"title\":{\"standoff\":15},\"zerolinecolor\":\"white\",\"automargin\":true,\"zerolinewidth\":2},\"yaxis\":{\"gridcolor\":\"white\",\"linecolor\":\"white\",\"ticks\":\"\",\"title\":{\"standoff\":15},\"zerolinecolor\":\"white\",\"automargin\":true,\"zerolinewidth\":2},\"scene\":{\"xaxis\":{\"backgroundcolor\":\"#E5ECF6\",\"gridcolor\":\"white\",\"linecolor\":\"white\",\"showbackground\":true,\"ticks\":\"\",\"zerolinecolor\":\"white\",\"gridwidth\":2},\"yaxis\":{\"backgroundcolor\":\"#E5ECF6\",\"gridcolor\":\"white\",\"linecolor\":\"white\",\"showbackground\":true,\"ticks\":\"\",\"zerolinecolor\":\"white\",\"gridwidth\":2},\"zaxis\":{\"backgroundcolor\":\"#E5ECF6\",\"gridcolor\":\"white\",\"linecolor\":\"white\",\"showbackground\":true,\"ticks\":\"\",\"zerolinecolor\":\"white\",\"gridwidth\":2}},\"shapedefaults\":{\"line\":{\"color\":\"#2a3f5f\"}},\"annotationdefaults\":{\"arrowcolor\":\"#2a3f5f\",\"arrowhead\":0,\"arrowwidth\":1},\"geo\":{\"bgcolor\":\"white\",\"landcolor\":\"#E5ECF6\",\"subunitcolor\":\"white\",\"showland\":true,\"showlakes\":true,\"lakecolor\":\"white\"},\"title\":{\"x\":0.05},\"mapbox\":{\"style\":\"light\"}}},\"xaxis\":{\"anchor\":\"y\",\"domain\":[0.0,1.0],\"title\":{\"text\":\"Body Mass Index\"},\"showline\":true,\"showgrid\":false,\"linecolor\":\"black\"},\"yaxis\":{\"anchor\":\"x\",\"domain\":[0.0,1.0],\"title\":{\"text\":\"Medical Charges\"},\"showline\":true,\"showgrid\":false,\"linecolor\":\"black\"},\"legend\":{\"tracegroupgap\":0},\"margin\":{\"t\":60},\"title\":{\"font\":{\"size\":16},\"text\":\"Scatter Plot\",\"y\":0.9,\"x\":0.5,\"xanchor\":\"center\",\"yanchor\":\"top\"},\"plot_bgcolor\":\"rgba(255,255,255,1)\",\"width\":600,\"height\":400,\"showlegend\":false},                        {\"responsive\": true}                    ).then(function(){\n",
              "                            \n",
              "var gd = document.getElementById('ff5d94c9-d7de-4151-8023-e7f69fb4151c');\n",
              "var x = new MutationObserver(function (mutations, observer) {{\n",
              "        var display = window.getComputedStyle(gd).display;\n",
              "        if (!display || display === 'none') {{\n",
              "            console.log([gd, 'removed!']);\n",
              "            Plotly.purge(gd);\n",
              "            observer.disconnect();\n",
              "        }}\n",
              "}});\n",
              "\n",
              "// Listen for the removal of the full notebook cells\n",
              "var notebookContainer = gd.closest('#notebook-container');\n",
              "if (notebookContainer) {{\n",
              "    x.observe(notebookContainer, {childList: true});\n",
              "}}\n",
              "\n",
              "// Listen for the clearing of the current output cell\n",
              "var outputEl = gd.closest('.output');\n",
              "if (outputEl) {{\n",
              "    x.observe(outputEl, {childList: true});\n",
              "}}\n",
              "\n",
              "                        })                };                            </script>        </div>\n",
              "</body>\n",
              "</html>"
            ]
          },
          "metadata": {}
        }
      ],
      "source": [
        "# Calculate the LSRL and add the regression line to the scatterplot.\n",
        "\n",
        "# Extract the variables from the dataframe\n",
        "                      # STUDENTS: Replace ... as stated below.\n",
        "X = df['...']         # Replace ... with the explantory variable name\n",
        "Y = df['...']         # Replace ... with the response variable name\n",
        "\n",
        "# Add a constant to the explanatory variable for the regression model.\n",
        "# This forces Statsmodels to calculate the y-intercept.\n",
        "# STUDENTS: Do not change anything in this block of code.\n",
        "X_with_const = sm.add_constant(X)\n",
        "\n",
        "# Fit the linear regression model (calculate slope and y-intercept)\n",
        "# STUDENTS: Do not change anything in this block of code.\n",
        "model = sm.OLS(Y, X_with_const).fit()\n",
        "\n",
        "                                                            # STUDENTS: Replace ... as stated below.\n",
        "scatter_plot = px.scatter(df,\n",
        "                 x='...',                                   # Replace ... with the explanatory variable name\n",
        "                 y='...',                               # Replace ... with the response variable name\n",
        "                 labels={'bmi': '...',          # Replace ... with a better x-axis label\n",
        "                         'charges': '...'})     # Replace ... with a better y-axis label\n",
        "\n",
        "# Updating layout\n",
        "# STUDENTS: Do not change anything in this block of code.\n",
        "scatter_plot.update_layout(\n",
        "    plot_bgcolor='rgba(255,255,255,1)',        # Sets the background color of the plot area to white with full opacity.\n",
        "    xaxis=dict(\n",
        "        showline=True,                         # Displays a line on the x-axis.\n",
        "        showgrid=False,                        # Hides the grid lines on the x-axis.\n",
        "        linecolor='black'                      # Sets the color of the x-axis line to black.\n",
        "    ),\n",
        "    yaxis=dict(\n",
        "        showline=True,                         # Displays a line on the y-axis.\n",
        "        showgrid=False,                        # Hides the grid lines on the y-axis.\n",
        "        linecolor='black'                      # Sets the color of the y-axis line to black.\n",
        "    ),\n",
        "    title={\n",
        "        'text': 'Scatter Plot',   # Sets the title text.\n",
        "        'y': 0.9,                              # Positions the title 90% of the way up the plot.\n",
        "        'x': 0.5,                              # Centers the title horizontally.\n",
        "        'xanchor': 'center',                   # Anchors the title at its center on the x-axis.\n",
        "        'yanchor': 'top',                      # Anchors the title at the top on the y-axis.\n",
        "        'font': dict(\n",
        "            size=16                            # Sets the title font size to 16 (smaller than default).\n",
        "        ),\n",
        "    },\n",
        "    width=600,                                 # Sets the width of the plot.\n",
        "    height=400,                                # Sets the height of the plot for portrait mode.\n",
        "    showlegend=False                           # Disables the legend (key) display\n",
        ")\n",
        "\n",
        "# Add the regression line to the scatterplot\n",
        "scatter_plot.add_scatter(x=X, y=model.predict(X_with_const),\n",
        "                         mode='lines', name='Regression Line')\n",
        "\n",
        "# Show the plot\n",
        "scatter_plot.show()\n"
      ]
    },
    {
      "cell_type": "markdown",
      "source": [
        "**3.2)** Print the coefficients (Intercept and Slope)\n",
        "\n"
      ],
      "metadata": {
        "id": "nax0a4z8XMnM"
      }
    },
    {
      "cell_type": "code",
      "execution_count": null,
      "metadata": {
        "id": "R32idO3eJZlO",
        "outputId": "1d184f9b-c733-4721-bda5-0a8d2ac6848d",
        "colab": {
          "base_uri": "https://localhost:8080/",
          "height": 147
        }
      },
      "outputs": [
        {
          "output_type": "execute_result",
          "data": {
            "text/plain": [
              "const    1192.937209\n",
              "bmi       393.873031\n",
              "Name: Coefficients, dtype: float64"
            ],
            "text/html": [
              "<div>\n",
              "<style scoped>\n",
              "    .dataframe tbody tr th:only-of-type {\n",
              "        vertical-align: middle;\n",
              "    }\n",
              "\n",
              "    .dataframe tbody tr th {\n",
              "        vertical-align: top;\n",
              "    }\n",
              "\n",
              "    .dataframe thead th {\n",
              "        text-align: right;\n",
              "    }\n",
              "</style>\n",
              "<table border=\"1\" class=\"dataframe\">\n",
              "  <thead>\n",
              "    <tr style=\"text-align: right;\">\n",
              "      <th></th>\n",
              "      <th>Coefficients</th>\n",
              "    </tr>\n",
              "  </thead>\n",
              "  <tbody>\n",
              "    <tr>\n",
              "      <th>const</th>\n",
              "      <td>1192.937209</td>\n",
              "    </tr>\n",
              "    <tr>\n",
              "      <th>bmi</th>\n",
              "      <td>393.873031</td>\n",
              "    </tr>\n",
              "  </tbody>\n",
              "</table>\n",
              "</div><br><label><b>dtype:</b> float64</label>"
            ]
          },
          "metadata": {},
          "execution_count": 8
        }
      ],
      "source": [
        "# Print the coefficients (Intercept and Slope)\n",
        "\n",
        "# STUDENTS: Do not change the code below.\n",
        "# The coefficients were calculated when the regression line was added to the\n",
        "# scatterplot and stored in 'model'. This assigns the values of the y-intercept\n",
        "# and slope to 'coefficients', then prints the values.\n",
        "\n",
        "coefficients = model.params\n",
        "coefficients.name='Coefficients'\n",
        "coefficients\n"
      ]
    },
    {
      "cell_type": "markdown",
      "source": [
        "**3.3)** Write the equation of the line that predicts waist circumference from BMI. To type 𝑦̂ you can type “y-hat” or “predicted y”. Do NOT round.\n",
        "\n"
      ],
      "metadata": {
        "id": "vUqyqdVkpWXh"
      }
    },
    {
      "cell_type": "markdown",
      "source": [
        "# ...\n",
        "\n"
      ],
      "metadata": {
        "id": "xB3Zd_wgpeCT"
      }
    },
    {
      "cell_type": "markdown",
      "metadata": {
        "id": "BdkQcF691E74"
      },
      "source": [
        "# **Question 4**\n",
        "## Slope\n",
        "Interpret the slope\n"
      ]
    },
    {
      "cell_type": "markdown",
      "source": [
        "# ...\n"
      ],
      "metadata": {
        "id": "Fe3k06NdqCck"
      }
    },
    {
      "cell_type": "markdown",
      "metadata": {
        "id": "A2uHwoKa0a1Y"
      },
      "source": [
        "# **QUESTION 5**\n",
        "## Y-Intercept\n",
        "\n",
        "Interpret the y-intercept of the least squares regression line in the context of this study. State whether the interpretation is reasonable."
      ]
    },
    {
      "cell_type": "markdown",
      "source": [
        "# ...\n"
      ],
      "metadata": {
        "id": "8DudqX253sIt"
      }
    },
    {
      "cell_type": "markdown",
      "metadata": {
        "id": "rCJ442hvJZlO"
      },
      "source": [
        "# **Question 6**\n",
        "## Prediction\n",
        "\n",
        "One person was a 54-year-old female with a BMI of 47.41 kg/m<sup>2</sup>\n",
        "\n",
        "Show work to predict the value of your dependent variable for this 54-year-old woman. Round to two (2) decimal places.\n",
        "\n"
      ]
    },
    {
      "cell_type": "markdown",
      "source": [
        "# ..."
      ],
      "metadata": {
        "id": "aRdqToAPr2h1"
      }
    },
    {
      "cell_type": "markdown",
      "source": [
        "# **Question 7**\n",
        "## Compare\n",
        "**7.1)** Look up the actual value of your dependent variable for the value of the independent variable above. We know it is for Criminology majors, but be sure to type in the value of the independent variable listed in Question 6 in the code below."
      ],
      "metadata": {
        "id": "iimd7jPr6o_G"
      }
    },
    {
      "cell_type": "code",
      "execution_count": 2,
      "metadata": {
        "id": "D9yVbei2JZlO",
        "colab": {
          "base_uri": "https://localhost:8080/",
          "height": 211
        },
        "outputId": "98686772-13c6-4f42-d8b0-6e77bc57ef55"
      },
      "outputs": [
        {
          "output_type": "error",
          "ename": "NameError",
          "evalue": "name 'df' is not defined",
          "traceback": [
            "\u001b[0;31m---------------------------------------------------------------------------\u001b[0m",
            "\u001b[0;31mNameError\u001b[0m                                 Traceback (most recent call last)",
            "\u001b[0;32m<ipython-input-2-9cb81ddaba49>\u001b[0m in \u001b[0;36m<cell line: 8>\u001b[0;34m()\u001b[0m\n\u001b[1;32m      6\u001b[0m \u001b[0;31m# Replace the 2nd ... with the value from the table in Question 6\u001b[0m\u001b[0;34m\u001b[0m\u001b[0;34m\u001b[0m\u001b[0m\n\u001b[1;32m      7\u001b[0m \u001b[0;31m# Replace the 3rd ... with the response variable name\u001b[0m\u001b[0;34m\u001b[0m\u001b[0;34m\u001b[0m\u001b[0m\n\u001b[0;32m----> 8\u001b[0;31m \u001b[0mactual_dependent\u001b[0m \u001b[0;34m=\u001b[0m \u001b[0mdf\u001b[0m\u001b[0;34m[\u001b[0m\u001b[0mdf\u001b[0m\u001b[0;34m[\u001b[0m\u001b[0;34m'...'\u001b[0m\u001b[0;34m]\u001b[0m\u001b[0;34m==\u001b[0m \u001b[0;34m...\u001b[0m\u001b[0;34m]\u001b[0m\u001b[0;34m[\u001b[0m\u001b[0;34m'...'\u001b[0m\u001b[0;34m]\u001b[0m\u001b[0;34m\u001b[0m\u001b[0;34m\u001b[0m\u001b[0m\n\u001b[0m\u001b[1;32m      9\u001b[0m \u001b[0mactual\u001b[0m \u001b[0;34m=\u001b[0m \u001b[0mactual_dependent\u001b[0m\u001b[0;34m.\u001b[0m\u001b[0mvalues\u001b[0m\u001b[0;34m[\u001b[0m\u001b[0;36m0\u001b[0m\u001b[0;34m]\u001b[0m\u001b[0;34m\u001b[0m\u001b[0;34m\u001b[0m\u001b[0m\n\u001b[1;32m     10\u001b[0m \u001b[0mprint\u001b[0m\u001b[0;34m(\u001b[0m\u001b[0;34mf\"The actual value of the dependent variable is: ${actual}\"\u001b[0m\u001b[0;34m)\u001b[0m\u001b[0;34m\u001b[0m\u001b[0;34m\u001b[0m\u001b[0m\n",
            "\u001b[0;31mNameError\u001b[0m: name 'df' is not defined"
          ]
        }
      ],
      "source": [
        "# Filter the datafram to find the row where your independent variable\n",
        "#   equals the value from the table in Question 6.\n",
        "\n",
        "# STUDENTS:\n",
        "# Replace the 1st ... with the explantory variable name\n",
        "# Replace the 2nd ... with the value from the table in Question 6\n",
        "# Replace the 3rd ... with the response variable name\n",
        "actual_dependent = df[df['...']== ...]['...']\n",
        "actual = actual_dependent.values[0]\n",
        "print(f\"The actual value of the dependent variable is: ${actual}\")\n"
      ]
    },
    {
      "cell_type": "markdown",
      "source": [
        "**7.2)** Compare the predicted value of your dependent variable from Question 6 to the actual value from 7.1. Use the actual name of your dependent variable, as modeled in activity.\n"
      ],
      "metadata": {
        "id": "kkZ4dF--99LC"
      }
    },
    {
      "cell_type": "markdown",
      "source": [
        "# ...\n"
      ],
      "metadata": {
        "id": "i7tnZsWwCHul"
      }
    },
    {
      "cell_type": "markdown",
      "source": [
        "# **QUESTION 8**\n",
        "\n",
        "Generate a paragraph of at least 100 words to address one of the following questions. That is, answer only 8a or 8b, but not both.\n",
        "\n",
        "**8a)** Discuss how analyzing your chosen data set using statistical methods could help you become better prepared for future courses in your major?\n",
        "\n",
        "...\n",
        "\n",
        "--OR--\n",
        "\n",
        "**8b)** Discuss how analyzing your chosen data set using statistical methods could be instrumental in becoming better prepared for your future career?\n",
        "\n",
        "...\n"
      ],
      "metadata": {
        "id": "A4rsfgbp6r6H"
      }
    },
    {
      "cell_type": "markdown",
      "source": [
        "<br><br>\n",
        "### Once you are done and ready to submit, follow the instructions below to save as a PDF and submit to GradeScope.\n",
        "\n",
        "### Save as PDF\n",
        "Note 1: You do not have to select Print Preview. You can print directly from the notebook.\n",
        "Note 2: Image and graph sizes have been set so you should be able to see them correctly without making any changes to the browser width or the layout (portrait vs landscape).\n",
        "1. Run all code one last time and make sure your graphs can be seen.\n",
        "2. File -> Print (or ctrl-p/cmnd-p)\n",
        "3. Change the \"Desination\" to PDF.\n",
        "4. Save the PDF, taking note of where it is saved.\n",
        "\n",
        "### Submit to GradeScope\n",
        "**Watch the \"GradeScope Submission\" video for help.**\n",
        "1. Login to the Canvas course\n",
        "2. Click on GradeScope in the course navigation.\n",
        "3. If you see multiple courses in GradeScope, click on the STAT 108 course\n",
        "4. Click on the name of the assignment that matches your data set\n",
        "5. Click on \"Submit Work\", select PDF\n",
        "6. Select the PDF you just created\n",
        "7. You need to tell GradeScope which page each problem answer/output is on. You should see a list of problems on the left, and a display of pages (thumbnails) on the right. Assign pages to questions by clicking on the question number on the left, then clicking on all pages that question is on.\n",
        "8. After ALL questions have been assigned to their respective page(s), click \"Submit\"\n",
        "\n",
        "#### **Still need help? Your STAT 108 team is here to help. Take your laptop to office hours.**\n"
      ],
      "metadata": {
        "id": "KHSYrvqh66V6"
      }
    }
  ]
}