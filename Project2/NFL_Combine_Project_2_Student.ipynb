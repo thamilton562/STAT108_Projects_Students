{
  "nbformat": 4,
  "nbformat_minor": 0,
  "metadata": {
    "colab": {
      "provenance": []
    },
    "kernelspec": {
      "name": "python3",
      "display_name": "Python 3"
    },
    "language_info": {
      "name": "python"
    }
  },
  "cells": [
    {
      "cell_type": "markdown",
      "source": [
        "# **2022 NFL Combine - Project 2**\n",
        "### Analyzing the linear relationship between two quantitative variables."
      ],
      "metadata": {
        "id": "WOWuLyetinsJ"
      }
    },
    {
      "cell_type": "markdown",
      "source": [
        "# **Importing Necessary Python Modules**\n",
        "\n",
        "Python incorporates a variety of open source add-ins called **modules** that add extra features to the basic setup. The name of the modules is after the `import` statement, and the purpose is in a non-code comment after thew hashtag (#).\n",
        "\n"
      ],
      "metadata": {
        "id": "AxPB-FE5lQIX"
      }
    },
    {
      "cell_type": "code",
      "source": [
        "import pandas as pd\n",
        "import numpy as np\n",
        "import plotly.express as px\n",
        "from IPython.display import Image\n",
        "import statsmodels.api as sm\n"
      ],
      "metadata": {
        "id": "DIbfBAiwmTlf"
      },
      "execution_count": null,
      "outputs": []
    },
    {
      "cell_type": "code",
      "source": [
        "# Assigns the URL of the image to display to the name 'image_url'.\n",
        "image_url = 'https://as2.ftcdn.net/v2/jpg/04/31/74/37/1000_F_431743763_in9BVVzCI36X304StR89pnxyUYzj1dwa.jpg'\n",
        "\n",
        "# Display the image\n",
        "Image(url=image_url, width = 575)"
      ],
      "metadata": {
        "colab": {
          "base_uri": "https://localhost:8080/",
          "height": 596
        },
        "id": "TL6T9o9NyP_J",
        "outputId": "a73e08b1-ac27-4a27-eedc-a5303af6de09"
      },
      "execution_count": null,
      "outputs": [
        {
          "output_type": "execute_result",
          "data": {
            "text/html": [
              "<img src=\"https://as2.ftcdn.net/v2/jpg/04/31/74/37/1000_F_431743763_in9BVVzCI36X304StR89pnxyUYzj1dwa.jpg\" width=\"575\"/>"
            ],
            "text/plain": [
              "<IPython.core.display.Image object>"
            ]
          },
          "metadata": {},
          "execution_count": 2
        }
      ]
    },
    {
      "cell_type": "markdown",
      "source": [
        "# **Context**\n",
        "\n",
        "National Invitational Camp (NIC), more commonly known as the NFL Scouting Combine, began in 1982 when National Football Scouting, Inc. first conducted a camp for its member NFL clubs in Tampa, Florida. The key purpose then, same as it is today, was to ascertain medical information on the top draft eligible prospects in college football. The inaugural NIC was attended by a total of 163 players and established a foundation for future expansion.\n",
        "\n",
        "As football and the art of evaluating players has evolved, so has the NFL Scouting Combine. While medical examinations remain the number one priority of the event, athletes will also participate in a variety of psychological and physical tests, as well as, formal and informal interviews with top executives, coaches and scouts from all 32 NFL teams. NIC is the ultimate four day job interview for the top college football players eligible for the upcoming NFL Draft.\n",
        "\n",
        "Attribution: NFLCombine.net\n"
      ],
      "metadata": {
        "id": "XJjnfq1hitm8"
      }
    },
    {
      "cell_type": "markdown",
      "source": [
        "# **About the Dataset**\n",
        "\n",
        "This dataset contains 133 rows corresponding to a random sample of drafted players. A total of 9 variables are provided as listed below:"
      ],
      "metadata": {
        "id": "bQfu7EYxi7Md"
      }
    },
    {
      "cell_type": "markdown",
      "source": [
        "| Variable Name(s)      | Description                            |\n",
        "|:----------------------|:--------------------------------------|\n",
        "| Player                | Player ID, which is the player's name  |\n",
        "| Pos                   | Position the player plays              |\n",
        "| School                | College the player attended            |\n",
        "| Ht                    | Player height (inches)                 |\n",
        "| Wt                    | Player weight (lbs)                    |\n",
        "| 40yd                  | Time to run the 40-yard dash (seconds) |\n",
        "| Vertical              | Vertical jump height (inches)          |\n",
        "| Broad Jump            | Horizontal distance covered (inches) (aka long jump) |\n",
        "| Drafted (tm/rnd/yr)   | Team, round, and year the player was drafted |\n",
        "\n"
      ],
      "metadata": {
        "id": "XusIoTTPjC87"
      }
    },
    {
      "cell_type": "markdown",
      "source": [
        "Let's take a look at the data. To do this, first we import it directly from the url below.\n",
        "\n"
      ],
      "metadata": {
        "id": "E5p5eijdPyej"
      }
    },
    {
      "cell_type": "markdown",
      "source": [
        "# **A Snippet of the Data**"
      ],
      "metadata": {
        "id": "dzjbhJhzktKp"
      }
    },
    {
      "cell_type": "code",
      "source": [
        "# Assigns the URL where the data file is stored to 'file_path'.\n",
        "url='https://raw.githubusercontent.com/thamilton562/STAT108_Projects_Students/main/DataSets/NFLCombine.csv'\n",
        "\n",
        "# Reads in the CSV data file and assigns it to the DataFrame 'df'.\n",
        "df=pd.read_csv(url)"
      ],
      "metadata": {
        "id": "TH9hHi05Rlxt"
      },
      "execution_count": null,
      "outputs": []
    },
    {
      "cell_type": "markdown",
      "source": [
        "Next, we can display the data by *typing the name* of the DataFrame. To ensure we can see all columns, we'll use the *pd.set_option* method."
      ],
      "metadata": {
        "id": "cj8T9vdrimYo"
      }
    },
    {
      "cell_type": "code",
      "source": [
        "# Set display options to show all columns\n",
        "pd.set_option('display.max_columns', None)\n",
        "\n",
        "# When you type the object name, the object gets printed.\n",
        "df"
      ],
      "metadata": {
        "colab": {
          "base_uri": "https://localhost:8080/",
          "height": 424
        },
        "id": "YT5tP1d8pQli",
        "outputId": "670d2e55-4289-4439-91a3-c705cc679821"
      },
      "execution_count": null,
      "outputs": [
        {
          "output_type": "execute_result",
          "data": {
            "text/plain": [
              "              Player   Pos       School  Ht   Wt  40yd  Vertical  Broad Jump  \\\n",
              "0      Myjai Sanders  EDGE   Cincinnati  77  228  4.67      33.0         120   \n",
              "1    Keaontay Ingram    RB          USC  73  221  4.53      34.5         122   \n",
              "2       Jesse Luketa    LB     Penn St.  75  253  4.89      37.5         114   \n",
              "3      Marquis Hayes    OG     Oklahoma  77  318  5.30      23.5         102   \n",
              "4      Troy Andersen    LB  Montana St.  76  243  4.42      36.0         128   \n",
              "..               ...   ...          ...  ..  ...   ...       ...         ...   \n",
              "128     Jahan Dotson    WR     Penn St.  71  178  4.43      36.0         121   \n",
              "129   Brian Robinson    RB      Alabama  74  225  4.53      30.0         119   \n",
              "130     Percy Butler     S    Louisiana  73  194  4.36      31.5         123   \n",
              "131      Cole Turner    TE       Nevada  78  246  4.76      27.0         120   \n",
              "132       Chris Paul    OG        Tulsa  76  323  4.89      27.0         109   \n",
              "\n",
              "                                 Drafted (tm/rnd/yr)  \n",
              "0        Arizona Cardinals / 3rd / 100th pick / 2022  \n",
              "1        Arizona Cardinals / 6th / 201st pick / 2022  \n",
              "2        Arizona Cardinals / 7th / 256th pick / 2022  \n",
              "3        Arizona Cardinals / 7th / 257th pick / 2022  \n",
              "4           Atlanta Falcons / 2nd / 58th pick / 2022  \n",
              "..                                               ...  \n",
              "128   Washington Commanders / 1st / 16th pick / 2022  \n",
              "129   Washington Commanders / 3rd / 98th pick / 2022  \n",
              "130  Washington Commanders / 4th / 113th pick / 2022  \n",
              "131  Washington Commanders / 5th / 149th pick / 2022  \n",
              "132  Washington Commanders / 7th / 230th pick / 2022  \n",
              "\n",
              "[133 rows x 9 columns]"
            ],
            "text/html": [
              "\n",
              "  <div id=\"df-492f248b-1ea7-45e7-b009-074876eaceeb\" class=\"colab-df-container\">\n",
              "    <div>\n",
              "<style scoped>\n",
              "    .dataframe tbody tr th:only-of-type {\n",
              "        vertical-align: middle;\n",
              "    }\n",
              "\n",
              "    .dataframe tbody tr th {\n",
              "        vertical-align: top;\n",
              "    }\n",
              "\n",
              "    .dataframe thead th {\n",
              "        text-align: right;\n",
              "    }\n",
              "</style>\n",
              "<table border=\"1\" class=\"dataframe\">\n",
              "  <thead>\n",
              "    <tr style=\"text-align: right;\">\n",
              "      <th></th>\n",
              "      <th>Player</th>\n",
              "      <th>Pos</th>\n",
              "      <th>School</th>\n",
              "      <th>Ht</th>\n",
              "      <th>Wt</th>\n",
              "      <th>40yd</th>\n",
              "      <th>Vertical</th>\n",
              "      <th>Broad Jump</th>\n",
              "      <th>Drafted (tm/rnd/yr)</th>\n",
              "    </tr>\n",
              "  </thead>\n",
              "  <tbody>\n",
              "    <tr>\n",
              "      <th>0</th>\n",
              "      <td>Myjai Sanders</td>\n",
              "      <td>EDGE</td>\n",
              "      <td>Cincinnati</td>\n",
              "      <td>77</td>\n",
              "      <td>228</td>\n",
              "      <td>4.67</td>\n",
              "      <td>33.0</td>\n",
              "      <td>120</td>\n",
              "      <td>Arizona Cardinals / 3rd / 100th pick / 2022</td>\n",
              "    </tr>\n",
              "    <tr>\n",
              "      <th>1</th>\n",
              "      <td>Keaontay Ingram</td>\n",
              "      <td>RB</td>\n",
              "      <td>USC</td>\n",
              "      <td>73</td>\n",
              "      <td>221</td>\n",
              "      <td>4.53</td>\n",
              "      <td>34.5</td>\n",
              "      <td>122</td>\n",
              "      <td>Arizona Cardinals / 6th / 201st pick / 2022</td>\n",
              "    </tr>\n",
              "    <tr>\n",
              "      <th>2</th>\n",
              "      <td>Jesse Luketa</td>\n",
              "      <td>LB</td>\n",
              "      <td>Penn St.</td>\n",
              "      <td>75</td>\n",
              "      <td>253</td>\n",
              "      <td>4.89</td>\n",
              "      <td>37.5</td>\n",
              "      <td>114</td>\n",
              "      <td>Arizona Cardinals / 7th / 256th pick / 2022</td>\n",
              "    </tr>\n",
              "    <tr>\n",
              "      <th>3</th>\n",
              "      <td>Marquis Hayes</td>\n",
              "      <td>OG</td>\n",
              "      <td>Oklahoma</td>\n",
              "      <td>77</td>\n",
              "      <td>318</td>\n",
              "      <td>5.30</td>\n",
              "      <td>23.5</td>\n",
              "      <td>102</td>\n",
              "      <td>Arizona Cardinals / 7th / 257th pick / 2022</td>\n",
              "    </tr>\n",
              "    <tr>\n",
              "      <th>4</th>\n",
              "      <td>Troy Andersen</td>\n",
              "      <td>LB</td>\n",
              "      <td>Montana St.</td>\n",
              "      <td>76</td>\n",
              "      <td>243</td>\n",
              "      <td>4.42</td>\n",
              "      <td>36.0</td>\n",
              "      <td>128</td>\n",
              "      <td>Atlanta Falcons / 2nd / 58th pick / 2022</td>\n",
              "    </tr>\n",
              "    <tr>\n",
              "      <th>...</th>\n",
              "      <td>...</td>\n",
              "      <td>...</td>\n",
              "      <td>...</td>\n",
              "      <td>...</td>\n",
              "      <td>...</td>\n",
              "      <td>...</td>\n",
              "      <td>...</td>\n",
              "      <td>...</td>\n",
              "      <td>...</td>\n",
              "    </tr>\n",
              "    <tr>\n",
              "      <th>128</th>\n",
              "      <td>Jahan Dotson</td>\n",
              "      <td>WR</td>\n",
              "      <td>Penn St.</td>\n",
              "      <td>71</td>\n",
              "      <td>178</td>\n",
              "      <td>4.43</td>\n",
              "      <td>36.0</td>\n",
              "      <td>121</td>\n",
              "      <td>Washington Commanders / 1st / 16th pick / 2022</td>\n",
              "    </tr>\n",
              "    <tr>\n",
              "      <th>129</th>\n",
              "      <td>Brian Robinson</td>\n",
              "      <td>RB</td>\n",
              "      <td>Alabama</td>\n",
              "      <td>74</td>\n",
              "      <td>225</td>\n",
              "      <td>4.53</td>\n",
              "      <td>30.0</td>\n",
              "      <td>119</td>\n",
              "      <td>Washington Commanders / 3rd / 98th pick / 2022</td>\n",
              "    </tr>\n",
              "    <tr>\n",
              "      <th>130</th>\n",
              "      <td>Percy Butler</td>\n",
              "      <td>S</td>\n",
              "      <td>Louisiana</td>\n",
              "      <td>73</td>\n",
              "      <td>194</td>\n",
              "      <td>4.36</td>\n",
              "      <td>31.5</td>\n",
              "      <td>123</td>\n",
              "      <td>Washington Commanders / 4th / 113th pick / 2022</td>\n",
              "    </tr>\n",
              "    <tr>\n",
              "      <th>131</th>\n",
              "      <td>Cole Turner</td>\n",
              "      <td>TE</td>\n",
              "      <td>Nevada</td>\n",
              "      <td>78</td>\n",
              "      <td>246</td>\n",
              "      <td>4.76</td>\n",
              "      <td>27.0</td>\n",
              "      <td>120</td>\n",
              "      <td>Washington Commanders / 5th / 149th pick / 2022</td>\n",
              "    </tr>\n",
              "    <tr>\n",
              "      <th>132</th>\n",
              "      <td>Chris Paul</td>\n",
              "      <td>OG</td>\n",
              "      <td>Tulsa</td>\n",
              "      <td>76</td>\n",
              "      <td>323</td>\n",
              "      <td>4.89</td>\n",
              "      <td>27.0</td>\n",
              "      <td>109</td>\n",
              "      <td>Washington Commanders / 7th / 230th pick / 2022</td>\n",
              "    </tr>\n",
              "  </tbody>\n",
              "</table>\n",
              "<p>133 rows × 9 columns</p>\n",
              "</div>\n",
              "    <div class=\"colab-df-buttons\">\n",
              "\n",
              "  <div class=\"colab-df-container\">\n",
              "    <button class=\"colab-df-convert\" onclick=\"convertToInteractive('df-492f248b-1ea7-45e7-b009-074876eaceeb')\"\n",
              "            title=\"Convert this dataframe to an interactive table.\"\n",
              "            style=\"display:none;\">\n",
              "\n",
              "  <svg xmlns=\"http://www.w3.org/2000/svg\" height=\"24px\" viewBox=\"0 -960 960 960\">\n",
              "    <path d=\"M120-120v-720h720v720H120Zm60-500h600v-160H180v160Zm220 220h160v-160H400v160Zm0 220h160v-160H400v160ZM180-400h160v-160H180v160Zm440 0h160v-160H620v160ZM180-180h160v-160H180v160Zm440 0h160v-160H620v160Z\"/>\n",
              "  </svg>\n",
              "    </button>\n",
              "\n",
              "  <style>\n",
              "    .colab-df-container {\n",
              "      display:flex;\n",
              "      gap: 12px;\n",
              "    }\n",
              "\n",
              "    .colab-df-convert {\n",
              "      background-color: #E8F0FE;\n",
              "      border: none;\n",
              "      border-radius: 50%;\n",
              "      cursor: pointer;\n",
              "      display: none;\n",
              "      fill: #1967D2;\n",
              "      height: 32px;\n",
              "      padding: 0 0 0 0;\n",
              "      width: 32px;\n",
              "    }\n",
              "\n",
              "    .colab-df-convert:hover {\n",
              "      background-color: #E2EBFA;\n",
              "      box-shadow: 0px 1px 2px rgba(60, 64, 67, 0.3), 0px 1px 3px 1px rgba(60, 64, 67, 0.15);\n",
              "      fill: #174EA6;\n",
              "    }\n",
              "\n",
              "    .colab-df-buttons div {\n",
              "      margin-bottom: 4px;\n",
              "    }\n",
              "\n",
              "    [theme=dark] .colab-df-convert {\n",
              "      background-color: #3B4455;\n",
              "      fill: #D2E3FC;\n",
              "    }\n",
              "\n",
              "    [theme=dark] .colab-df-convert:hover {\n",
              "      background-color: #434B5C;\n",
              "      box-shadow: 0px 1px 3px 1px rgba(0, 0, 0, 0.15);\n",
              "      filter: drop-shadow(0px 1px 2px rgba(0, 0, 0, 0.3));\n",
              "      fill: #FFFFFF;\n",
              "    }\n",
              "  </style>\n",
              "\n",
              "    <script>\n",
              "      const buttonEl =\n",
              "        document.querySelector('#df-492f248b-1ea7-45e7-b009-074876eaceeb button.colab-df-convert');\n",
              "      buttonEl.style.display =\n",
              "        google.colab.kernel.accessAllowed ? 'block' : 'none';\n",
              "\n",
              "      async function convertToInteractive(key) {\n",
              "        const element = document.querySelector('#df-492f248b-1ea7-45e7-b009-074876eaceeb');\n",
              "        const dataTable =\n",
              "          await google.colab.kernel.invokeFunction('convertToInteractive',\n",
              "                                                    [key], {});\n",
              "        if (!dataTable) return;\n",
              "\n",
              "        const docLinkHtml = 'Like what you see? Visit the ' +\n",
              "          '<a target=\"_blank\" href=https://colab.research.google.com/notebooks/data_table.ipynb>data table notebook</a>'\n",
              "          + ' to learn more about interactive tables.';\n",
              "        element.innerHTML = '';\n",
              "        dataTable['output_type'] = 'display_data';\n",
              "        await google.colab.output.renderOutput(dataTable, element);\n",
              "        const docLink = document.createElement('div');\n",
              "        docLink.innerHTML = docLinkHtml;\n",
              "        element.appendChild(docLink);\n",
              "      }\n",
              "    </script>\n",
              "  </div>\n",
              "\n",
              "\n",
              "<div id=\"df-6f07ad43-94d7-49e8-9132-a3ed0286667c\">\n",
              "  <button class=\"colab-df-quickchart\" onclick=\"quickchart('df-6f07ad43-94d7-49e8-9132-a3ed0286667c')\"\n",
              "            title=\"Suggest charts\"\n",
              "            style=\"display:none;\">\n",
              "\n",
              "<svg xmlns=\"http://www.w3.org/2000/svg\" height=\"24px\"viewBox=\"0 0 24 24\"\n",
              "     width=\"24px\">\n",
              "    <g>\n",
              "        <path d=\"M19 3H5c-1.1 0-2 .9-2 2v14c0 1.1.9 2 2 2h14c1.1 0 2-.9 2-2V5c0-1.1-.9-2-2-2zM9 17H7v-7h2v7zm4 0h-2V7h2v10zm4 0h-2v-4h2v4z\"/>\n",
              "    </g>\n",
              "</svg>\n",
              "  </button>\n",
              "\n",
              "<style>\n",
              "  .colab-df-quickchart {\n",
              "      --bg-color: #E8F0FE;\n",
              "      --fill-color: #1967D2;\n",
              "      --hover-bg-color: #E2EBFA;\n",
              "      --hover-fill-color: #174EA6;\n",
              "      --disabled-fill-color: #AAA;\n",
              "      --disabled-bg-color: #DDD;\n",
              "  }\n",
              "\n",
              "  [theme=dark] .colab-df-quickchart {\n",
              "      --bg-color: #3B4455;\n",
              "      --fill-color: #D2E3FC;\n",
              "      --hover-bg-color: #434B5C;\n",
              "      --hover-fill-color: #FFFFFF;\n",
              "      --disabled-bg-color: #3B4455;\n",
              "      --disabled-fill-color: #666;\n",
              "  }\n",
              "\n",
              "  .colab-df-quickchart {\n",
              "    background-color: var(--bg-color);\n",
              "    border: none;\n",
              "    border-radius: 50%;\n",
              "    cursor: pointer;\n",
              "    display: none;\n",
              "    fill: var(--fill-color);\n",
              "    height: 32px;\n",
              "    padding: 0;\n",
              "    width: 32px;\n",
              "  }\n",
              "\n",
              "  .colab-df-quickchart:hover {\n",
              "    background-color: var(--hover-bg-color);\n",
              "    box-shadow: 0 1px 2px rgba(60, 64, 67, 0.3), 0 1px 3px 1px rgba(60, 64, 67, 0.15);\n",
              "    fill: var(--button-hover-fill-color);\n",
              "  }\n",
              "\n",
              "  .colab-df-quickchart-complete:disabled,\n",
              "  .colab-df-quickchart-complete:disabled:hover {\n",
              "    background-color: var(--disabled-bg-color);\n",
              "    fill: var(--disabled-fill-color);\n",
              "    box-shadow: none;\n",
              "  }\n",
              "\n",
              "  .colab-df-spinner {\n",
              "    border: 2px solid var(--fill-color);\n",
              "    border-color: transparent;\n",
              "    border-bottom-color: var(--fill-color);\n",
              "    animation:\n",
              "      spin 1s steps(1) infinite;\n",
              "  }\n",
              "\n",
              "  @keyframes spin {\n",
              "    0% {\n",
              "      border-color: transparent;\n",
              "      border-bottom-color: var(--fill-color);\n",
              "      border-left-color: var(--fill-color);\n",
              "    }\n",
              "    20% {\n",
              "      border-color: transparent;\n",
              "      border-left-color: var(--fill-color);\n",
              "      border-top-color: var(--fill-color);\n",
              "    }\n",
              "    30% {\n",
              "      border-color: transparent;\n",
              "      border-left-color: var(--fill-color);\n",
              "      border-top-color: var(--fill-color);\n",
              "      border-right-color: var(--fill-color);\n",
              "    }\n",
              "    40% {\n",
              "      border-color: transparent;\n",
              "      border-right-color: var(--fill-color);\n",
              "      border-top-color: var(--fill-color);\n",
              "    }\n",
              "    60% {\n",
              "      border-color: transparent;\n",
              "      border-right-color: var(--fill-color);\n",
              "    }\n",
              "    80% {\n",
              "      border-color: transparent;\n",
              "      border-right-color: var(--fill-color);\n",
              "      border-bottom-color: var(--fill-color);\n",
              "    }\n",
              "    90% {\n",
              "      border-color: transparent;\n",
              "      border-bottom-color: var(--fill-color);\n",
              "    }\n",
              "  }\n",
              "</style>\n",
              "\n",
              "  <script>\n",
              "    async function quickchart(key) {\n",
              "      const quickchartButtonEl =\n",
              "        document.querySelector('#' + key + ' button');\n",
              "      quickchartButtonEl.disabled = true;  // To prevent multiple clicks.\n",
              "      quickchartButtonEl.classList.add('colab-df-spinner');\n",
              "      try {\n",
              "        const charts = await google.colab.kernel.invokeFunction(\n",
              "            'suggestCharts', [key], {});\n",
              "      } catch (error) {\n",
              "        console.error('Error during call to suggestCharts:', error);\n",
              "      }\n",
              "      quickchartButtonEl.classList.remove('colab-df-spinner');\n",
              "      quickchartButtonEl.classList.add('colab-df-quickchart-complete');\n",
              "    }\n",
              "    (() => {\n",
              "      let quickchartButtonEl =\n",
              "        document.querySelector('#df-6f07ad43-94d7-49e8-9132-a3ed0286667c button');\n",
              "      quickchartButtonEl.style.display =\n",
              "        google.colab.kernel.accessAllowed ? 'block' : 'none';\n",
              "    })();\n",
              "  </script>\n",
              "</div>\n",
              "\n",
              "  <div id=\"id_3a4d2de1-5ba3-4016-9c71-4e60b3ab2f80\">\n",
              "    <style>\n",
              "      .colab-df-generate {\n",
              "        background-color: #E8F0FE;\n",
              "        border: none;\n",
              "        border-radius: 50%;\n",
              "        cursor: pointer;\n",
              "        display: none;\n",
              "        fill: #1967D2;\n",
              "        height: 32px;\n",
              "        padding: 0 0 0 0;\n",
              "        width: 32px;\n",
              "      }\n",
              "\n",
              "      .colab-df-generate:hover {\n",
              "        background-color: #E2EBFA;\n",
              "        box-shadow: 0px 1px 2px rgba(60, 64, 67, 0.3), 0px 1px 3px 1px rgba(60, 64, 67, 0.15);\n",
              "        fill: #174EA6;\n",
              "      }\n",
              "\n",
              "      [theme=dark] .colab-df-generate {\n",
              "        background-color: #3B4455;\n",
              "        fill: #D2E3FC;\n",
              "      }\n",
              "\n",
              "      [theme=dark] .colab-df-generate:hover {\n",
              "        background-color: #434B5C;\n",
              "        box-shadow: 0px 1px 3px 1px rgba(0, 0, 0, 0.15);\n",
              "        filter: drop-shadow(0px 1px 2px rgba(0, 0, 0, 0.3));\n",
              "        fill: #FFFFFF;\n",
              "      }\n",
              "    </style>\n",
              "    <button class=\"colab-df-generate\" onclick=\"generateWithVariable('df')\"\n",
              "            title=\"Generate code using this dataframe.\"\n",
              "            style=\"display:none;\">\n",
              "\n",
              "  <svg xmlns=\"http://www.w3.org/2000/svg\" height=\"24px\"viewBox=\"0 0 24 24\"\n",
              "       width=\"24px\">\n",
              "    <path d=\"M7,19H8.4L18.45,9,17,7.55,7,17.6ZM5,21V16.75L18.45,3.32a2,2,0,0,1,2.83,0l1.4,1.43a1.91,1.91,0,0,1,.58,1.4,1.91,1.91,0,0,1-.58,1.4L9.25,21ZM18.45,9,17,7.55Zm-12,3A5.31,5.31,0,0,0,4.9,8.1,5.31,5.31,0,0,0,1,6.5,5.31,5.31,0,0,0,4.9,4.9,5.31,5.31,0,0,0,6.5,1,5.31,5.31,0,0,0,8.1,4.9,5.31,5.31,0,0,0,12,6.5,5.46,5.46,0,0,0,6.5,12Z\"/>\n",
              "  </svg>\n",
              "    </button>\n",
              "    <script>\n",
              "      (() => {\n",
              "      const buttonEl =\n",
              "        document.querySelector('#id_3a4d2de1-5ba3-4016-9c71-4e60b3ab2f80 button.colab-df-generate');\n",
              "      buttonEl.style.display =\n",
              "        google.colab.kernel.accessAllowed ? 'block' : 'none';\n",
              "\n",
              "      buttonEl.onclick = () => {\n",
              "        google.colab.notebook.generateWithVariable('df');\n",
              "      }\n",
              "      })();\n",
              "    </script>\n",
              "  </div>\n",
              "\n",
              "    </div>\n",
              "  </div>\n"
            ],
            "application/vnd.google.colaboratory.intrinsic+json": {
              "type": "dataframe",
              "variable_name": "df",
              "summary": "{\n  \"name\": \"df\",\n  \"rows\": 133,\n  \"fields\": [\n    {\n      \"column\": \"Player\",\n      \"properties\": {\n        \"dtype\": \"string\",\n        \"num_unique_values\": 133,\n        \"samples\": [\n          \"Christian Watson\",\n          \"Joshua Williams\",\n          \"David Bell\"\n        ],\n        \"semantic_type\": \"\",\n        \"description\": \"\"\n      }\n    },\n    {\n      \"column\": \"Pos\",\n      \"properties\": {\n        \"dtype\": \"category\",\n        \"num_unique_values\": 14,\n        \"samples\": [\n          \"OT\",\n          \"C\",\n          \"EDGE\"\n        ],\n        \"semantic_type\": \"\",\n        \"description\": \"\"\n      }\n    },\n    {\n      \"column\": \"School\",\n      \"properties\": {\n        \"dtype\": \"string\",\n        \"num_unique_values\": 75,\n        \"samples\": [\n          \"Montana St.\",\n          \"Iowa St.\",\n          \"Missouri\"\n        ],\n        \"semantic_type\": \"\",\n        \"description\": \"\"\n      }\n    },\n    {\n      \"column\": \"Ht\",\n      \"properties\": {\n        \"dtype\": \"number\",\n        \"std\": 2,\n        \"min\": 68,\n        \"max\": 80,\n        \"num_unique_values\": 12,\n        \"samples\": [\n          70,\n          79,\n          77\n        ],\n        \"semantic_type\": \"\",\n        \"description\": \"\"\n      }\n    },\n    {\n      \"column\": \"Wt\",\n      \"properties\": {\n        \"dtype\": \"number\",\n        \"std\": 49,\n        \"min\": 170,\n        \"max\": 341,\n        \"num_unique_values\": 80,\n        \"samples\": [\n          324,\n          228,\n          282\n        ],\n        \"semantic_type\": \"\",\n        \"description\": \"\"\n      }\n    },\n    {\n      \"column\": \"40yd\",\n      \"properties\": {\n        \"dtype\": \"number\",\n        \"std\": 0.313297367326413,\n        \"min\": 4.28,\n        \"max\": 5.41,\n        \"num_unique_values\": 76,\n        \"samples\": [\n          4.42,\n          4.69,\n          4.92\n        ],\n        \"semantic_type\": \"\",\n        \"description\": \"\"\n      }\n    },\n    {\n      \"column\": \"Vertical\",\n      \"properties\": {\n        \"dtype\": \"number\",\n        \"std\": 4.545007952542684,\n        \"min\": 20.5,\n        \"max\": 42.0,\n        \"num_unique_values\": 39,\n        \"samples\": [\n          22.0,\n          28.0,\n          36.0\n        ],\n        \"semantic_type\": \"\",\n        \"description\": \"\"\n      }\n    },\n    {\n      \"column\": \"Broad Jump\",\n      \"properties\": {\n        \"dtype\": \"number\",\n        \"std\": 8,\n        \"min\": 99,\n        \"max\": 136,\n        \"num_unique_values\": 34,\n        \"samples\": [\n          125,\n          111,\n          99\n        ],\n        \"semantic_type\": \"\",\n        \"description\": \"\"\n      }\n    },\n    {\n      \"column\": \"Drafted (tm/rnd/yr)\",\n      \"properties\": {\n        \"dtype\": \"string\",\n        \"num_unique_values\": 133,\n        \"samples\": [\n          \"Green Bay Packers / 2nd / 34th pick / 2022\",\n          \"Kansas City Chiefs / 4th / 135th pick / 2022\",\n          \"Cleveland Browns / 3rd / 99th pick / 2022\"\n        ],\n        \"semantic_type\": \"\",\n        \"description\": \"\"\n      }\n    }\n  ]\n}"
            }
          },
          "metadata": {},
          "execution_count": 4
        }
      ]
    },
    {
      "cell_type": "markdown",
      "source": [
        "# **INSTRUCTIONS**\n",
        "\n",
        "* Use Python to analyze the data set and complete each of the following.\n",
        "* Replace ellipsis (...) with the relavent names or code.  \n",
        "* For problems that require a written response, replace the ellipsis (...) by double clicking the text box to start typing.\n",
        "* Reference the tutorial from activity for assistance.\n",
        "* Attend office hours if you still need help."
      ],
      "metadata": {
        "id": "VEm2KmlyzJGY"
      }
    },
    {
      "cell_type": "markdown",
      "metadata": {
        "id": "zbj3hIkTIbpp"
      },
      "source": [
        "This assignment is intended to explore the univariate linear relationships between quantitative variables in the data. Choose the dependent and independent variables based on your last name.\n",
        "\n",
        "| Last Name | Dependent Variable (y) | Independent Variable (x) |\n",
        "|-----------|------------------------|--------------------------|\n",
        "| A-L       | Weight                 | Height                   |\n",
        "| M-Z       | Vertical jump height   | Broad jump distance      |\n",
        "\n",
        "\n"
      ]
    },
    {
      "cell_type": "markdown",
      "source": [
        "Based on your last name, which variable is explanatory and which is the response?\n",
        "\n",
        "Explanatory: ...\n",
        "\n",
        "Response: ..."
      ],
      "metadata": {
        "id": "7IJT3XU95gcE"
      }
    },
    {
      "cell_type": "markdown",
      "source": [
        "What do you think the direction (positive/negative) and strength (weak/moderate/strong) will be?"
      ],
      "metadata": {
        "id": "mPrSROvP5gMr"
      }
    },
    {
      "cell_type": "markdown",
      "source": [
        "# ..."
      ],
      "metadata": {
        "id": "VhMDCYnqhUOq"
      }
    },
    {
      "cell_type": "markdown",
      "metadata": {
        "id": "xkEtDHs70CzZ"
      },
      "source": [
        "# **QUESTION 1**\n",
        "\n",
        "## Scatterplot\n",
        "\n",
        "**1.1)** Construct a scatterplot that could be used to show the relationship between the variables stated above."
      ]
    },
    {
      "cell_type": "code",
      "execution_count": null,
      "metadata": {
        "id": "_YFf23s4JZlN",
        "outputId": "2c2e12c7-359e-45f9-957f-394b8e44a7c3",
        "colab": {
          "base_uri": "https://localhost:8080/",
          "height": 391
        }
      },
      "outputs": [
        {
          "output_type": "error",
          "ename": "ValueError",
          "evalue": "Value of 'x' is not the name of a column in 'data_frame'. Expected one of ['Player', 'Pos', 'School', 'Ht', 'Wt', '40yd', 'Vertical', 'Broad Jump', 'Drafted (tm/rnd/yr)'] but received: ...",
          "traceback": [
            "\u001b[0;31m---------------------------------------------------------------------------\u001b[0m",
            "\u001b[0;31mValueError\u001b[0m                                Traceback (most recent call last)",
            "\u001b[0;32m<ipython-input-5-fba8e09738a9>\u001b[0m in \u001b[0;36m<cell line: 4>\u001b[0;34m()\u001b[0m\n\u001b[1;32m      2\u001b[0m \u001b[0;34m\u001b[0m\u001b[0m\n\u001b[1;32m      3\u001b[0m \u001b[0;31m# STUDENTS: replace ... as stated\u001b[0m\u001b[0;34m\u001b[0m\u001b[0;34m\u001b[0m\u001b[0m\n\u001b[0;32m----> 4\u001b[0;31m scatter_plot = px.scatter(df,\n\u001b[0m\u001b[1;32m      5\u001b[0m                  \u001b[0;31m# Replace ... with the explanatory variable name\u001b[0m\u001b[0;34m\u001b[0m\u001b[0;34m\u001b[0m\u001b[0m\n\u001b[1;32m      6\u001b[0m                  \u001b[0mx\u001b[0m\u001b[0;34m=\u001b[0m\u001b[0;34m'...'\u001b[0m\u001b[0;34m,\u001b[0m\u001b[0;34m\u001b[0m\u001b[0;34m\u001b[0m\u001b[0m\n",
            "\u001b[0;32m/usr/local/lib/python3.10/dist-packages/plotly/express/_chart_types.py\u001b[0m in \u001b[0;36mscatter\u001b[0;34m(data_frame, x, y, color, symbol, size, hover_name, hover_data, custom_data, text, facet_row, facet_col, facet_col_wrap, facet_row_spacing, facet_col_spacing, error_x, error_x_minus, error_y, error_y_minus, animation_frame, animation_group, category_orders, labels, orientation, color_discrete_sequence, color_discrete_map, color_continuous_scale, range_color, color_continuous_midpoint, symbol_sequence, symbol_map, opacity, size_max, marginal_x, marginal_y, trendline, trendline_options, trendline_color_override, trendline_scope, log_x, log_y, range_x, range_y, render_mode, title, template, width, height)\u001b[0m\n\u001b[1;32m     64\u001b[0m     \u001b[0mmark\u001b[0m \u001b[0;32min\u001b[0m \u001b[0;36m2\u001b[0m\u001b[0mD\u001b[0m \u001b[0mspace\u001b[0m\u001b[0;34m.\u001b[0m\u001b[0;34m\u001b[0m\u001b[0;34m\u001b[0m\u001b[0m\n\u001b[1;32m     65\u001b[0m     \"\"\"\n\u001b[0;32m---> 66\u001b[0;31m     \u001b[0;32mreturn\u001b[0m \u001b[0mmake_figure\u001b[0m\u001b[0;34m(\u001b[0m\u001b[0margs\u001b[0m\u001b[0;34m=\u001b[0m\u001b[0mlocals\u001b[0m\u001b[0;34m(\u001b[0m\u001b[0;34m)\u001b[0m\u001b[0;34m,\u001b[0m \u001b[0mconstructor\u001b[0m\u001b[0;34m=\u001b[0m\u001b[0mgo\u001b[0m\u001b[0;34m.\u001b[0m\u001b[0mScatter\u001b[0m\u001b[0;34m)\u001b[0m\u001b[0;34m\u001b[0m\u001b[0;34m\u001b[0m\u001b[0m\n\u001b[0m\u001b[1;32m     67\u001b[0m \u001b[0;34m\u001b[0m\u001b[0m\n\u001b[1;32m     68\u001b[0m \u001b[0;34m\u001b[0m\u001b[0m\n",
            "\u001b[0;32m/usr/local/lib/python3.10/dist-packages/plotly/express/_core.py\u001b[0m in \u001b[0;36mmake_figure\u001b[0;34m(args, constructor, trace_patch, layout_patch)\u001b[0m\n\u001b[1;32m   2115\u001b[0m     \u001b[0mapply_default_cascade\u001b[0m\u001b[0;34m(\u001b[0m\u001b[0margs\u001b[0m\u001b[0;34m)\u001b[0m\u001b[0;34m\u001b[0m\u001b[0;34m\u001b[0m\u001b[0m\n\u001b[1;32m   2116\u001b[0m \u001b[0;34m\u001b[0m\u001b[0m\n\u001b[0;32m-> 2117\u001b[0;31m     \u001b[0margs\u001b[0m \u001b[0;34m=\u001b[0m \u001b[0mbuild_dataframe\u001b[0m\u001b[0;34m(\u001b[0m\u001b[0margs\u001b[0m\u001b[0;34m,\u001b[0m \u001b[0mconstructor\u001b[0m\u001b[0;34m)\u001b[0m\u001b[0;34m\u001b[0m\u001b[0;34m\u001b[0m\u001b[0m\n\u001b[0m\u001b[1;32m   2118\u001b[0m     \u001b[0;32mif\u001b[0m \u001b[0mconstructor\u001b[0m \u001b[0;32min\u001b[0m \u001b[0;34m[\u001b[0m\u001b[0mgo\u001b[0m\u001b[0;34m.\u001b[0m\u001b[0mTreemap\u001b[0m\u001b[0;34m,\u001b[0m \u001b[0mgo\u001b[0m\u001b[0;34m.\u001b[0m\u001b[0mSunburst\u001b[0m\u001b[0;34m,\u001b[0m \u001b[0mgo\u001b[0m\u001b[0;34m.\u001b[0m\u001b[0mIcicle\u001b[0m\u001b[0;34m]\u001b[0m \u001b[0;32mand\u001b[0m \u001b[0margs\u001b[0m\u001b[0;34m[\u001b[0m\u001b[0;34m\"path\"\u001b[0m\u001b[0;34m]\u001b[0m \u001b[0;32mis\u001b[0m \u001b[0;32mnot\u001b[0m \u001b[0;32mNone\u001b[0m\u001b[0;34m:\u001b[0m\u001b[0;34m\u001b[0m\u001b[0;34m\u001b[0m\u001b[0m\n\u001b[1;32m   2119\u001b[0m         \u001b[0margs\u001b[0m \u001b[0;34m=\u001b[0m \u001b[0mprocess_dataframe_hierarchy\u001b[0m\u001b[0;34m(\u001b[0m\u001b[0margs\u001b[0m\u001b[0;34m)\u001b[0m\u001b[0;34m\u001b[0m\u001b[0;34m\u001b[0m\u001b[0m\n",
            "\u001b[0;32m/usr/local/lib/python3.10/dist-packages/plotly/express/_core.py\u001b[0m in \u001b[0;36mbuild_dataframe\u001b[0;34m(args, constructor)\u001b[0m\n\u001b[1;32m   1511\u001b[0m     \u001b[0;31m# now that things have been prepped, we do the systematic rewriting of `args`\u001b[0m\u001b[0;34m\u001b[0m\u001b[0;34m\u001b[0m\u001b[0m\n\u001b[1;32m   1512\u001b[0m \u001b[0;34m\u001b[0m\u001b[0m\n\u001b[0;32m-> 1513\u001b[0;31m     df_output, wide_id_vars = process_args_into_dataframe(\n\u001b[0m\u001b[1;32m   1514\u001b[0m         \u001b[0margs\u001b[0m\u001b[0;34m,\u001b[0m \u001b[0mwide_mode\u001b[0m\u001b[0;34m,\u001b[0m \u001b[0mvar_name\u001b[0m\u001b[0;34m,\u001b[0m \u001b[0mvalue_name\u001b[0m\u001b[0;34m\u001b[0m\u001b[0;34m\u001b[0m\u001b[0m\n\u001b[1;32m   1515\u001b[0m     )\n",
            "\u001b[0;32m/usr/local/lib/python3.10/dist-packages/plotly/express/_core.py\u001b[0m in \u001b[0;36mprocess_args_into_dataframe\u001b[0;34m(args, wide_mode, var_name, value_name)\u001b[0m\n\u001b[1;32m   1232\u001b[0m                         \u001b[0;32mif\u001b[0m \u001b[0margument\u001b[0m \u001b[0;34m==\u001b[0m \u001b[0;34m\"index\"\u001b[0m\u001b[0;34m:\u001b[0m\u001b[0;34m\u001b[0m\u001b[0;34m\u001b[0m\u001b[0m\n\u001b[1;32m   1233\u001b[0m                             \u001b[0merr_msg\u001b[0m \u001b[0;34m+=\u001b[0m \u001b[0;34m\"\\n To use the index, pass it in directly as `df.index`.\"\u001b[0m\u001b[0;34m\u001b[0m\u001b[0;34m\u001b[0m\u001b[0m\n\u001b[0;32m-> 1234\u001b[0;31m                         \u001b[0;32mraise\u001b[0m \u001b[0mValueError\u001b[0m\u001b[0;34m(\u001b[0m\u001b[0merr_msg\u001b[0m\u001b[0;34m)\u001b[0m\u001b[0;34m\u001b[0m\u001b[0;34m\u001b[0m\u001b[0m\n\u001b[0m\u001b[1;32m   1235\u001b[0m                 \u001b[0;32melif\u001b[0m \u001b[0mlength\u001b[0m \u001b[0;32mand\u001b[0m \u001b[0mlen\u001b[0m\u001b[0;34m(\u001b[0m\u001b[0mdf_input\u001b[0m\u001b[0;34m[\u001b[0m\u001b[0margument\u001b[0m\u001b[0;34m]\u001b[0m\u001b[0;34m)\u001b[0m \u001b[0;34m!=\u001b[0m \u001b[0mlength\u001b[0m\u001b[0;34m:\u001b[0m\u001b[0;34m\u001b[0m\u001b[0;34m\u001b[0m\u001b[0m\n\u001b[1;32m   1236\u001b[0m                     raise ValueError(\n",
            "\u001b[0;31mValueError\u001b[0m: Value of 'x' is not the name of a column in 'data_frame'. Expected one of ['Player', 'Pos', 'School', 'Ht', 'Wt', '40yd', 'Vertical', 'Broad Jump', 'Drafted (tm/rnd/yr)'] but received: ..."
          ]
        }
      ],
      "source": [
        "# Create a scatter plot using Plotly Express\n",
        "\n",
        "                                          # STUDENTS: replace ... as stated\n",
        "scatter_plot = px.scatter(df,\n",
        "                 x='...',                 # Replace ... with the explanatory variable name\n",
        "                 y='...',                 # Replace ... with the response variable name\n",
        "                 labels={'...': '...',     # Replace the 1st ... with the x-variable name and the 2nd ... with a better x-axis label\n",
        "                         '...': '...'})    # Replace the 1st ... with the x-variable name and the 2nd ... with a better y-axis label\n",
        "\n",
        "# Updating layout:\n",
        "# STUDENTS: Do not change anything in this block of code.\n",
        "scatter_plot.update_layout(\n",
        "    plot_bgcolor='rgba(255,255,255,1)',        # Sets the background color of the plot area to white with full opacity.\n",
        "    xaxis=dict(\n",
        "        showline=True,                         # Displays a line on the x-axis.\n",
        "        showgrid=False,                        # Hides the grid lines on the x-axis.\n",
        "        linecolor='black'                      # Sets the color of the x-axis line to black.\n",
        "    ),\n",
        "    yaxis=dict(\n",
        "        showline=True,                         # Displays a line on the y-axis.\n",
        "        showgrid=False,                        # Hides the grid lines on the y-axis.\n",
        "        linecolor='black'                      # Sets the color of the y-axis line to black.\n",
        "    ),\n",
        "    title={\n",
        "        'text': 'Scatter Plot',   # Sets the title text.\n",
        "        'y': 0.9,                              # Positions the title 90% of the way up the plot.\n",
        "        'x': 0.5,                              # Centers the title horizontally.\n",
        "        'xanchor': 'center',                   # Anchors the title at its center on the x-axis.\n",
        "        'yanchor': 'top',                      # Anchors the title at the top on the y-axis.\n",
        "        'font': dict(\n",
        "            size=16                            # Sets the title font size to 16 (smaller than default).\n",
        "        ),\n",
        "    },\n",
        "    width=575,                                 # Sets the width of the plot.\n",
        "    height=400                                 # Sets the height of the plot for portrait mode.\n",
        ")\n",
        "\n",
        "# Show the plot:\n",
        "scatter_plot.show()"
      ]
    },
    {
      "cell_type": "markdown",
      "source": [
        "**1.2)** Describe the relationship between the two variables and include context, and identify the direction, strength, and form. Since you don't yet know the value of correlation (r), estimate what you think the strength is (weak/moderate/strong).\n",
        "\n"
      ],
      "metadata": {
        "id": "J6CcvV0H4iZC"
      }
    },
    {
      "cell_type": "markdown",
      "source": [
        "# ..."
      ],
      "metadata": {
        "id": "1xdYGr0k82LD"
      }
    },
    {
      "cell_type": "markdown",
      "source": [
        "**1.3)** Is this what you expected?\n"
      ],
      "metadata": {
        "id": "dYiqZ-N76ytU"
      }
    },
    {
      "cell_type": "markdown",
      "source": [
        "# ..."
      ],
      "metadata": {
        "id": "Umgm-Xgt64ZK"
      }
    },
    {
      "cell_type": "markdown",
      "metadata": {
        "id": "Hjz7Oc8N0acy"
      },
      "source": [
        "# **Question 2**\n",
        "## Correlation Coefficient\n",
        "\n",
        "**2.1)** Calculate the value of the correlation coefficient."
      ]
    },
    {
      "cell_type": "code",
      "execution_count": null,
      "metadata": {
        "id": "jzxH_zSaJZlN",
        "outputId": "0884ff4f-2ae6-4aae-f79f-8bf19e27a73a",
        "colab": {
          "base_uri": "https://localhost:8080/",
          "height": 547
        }
      },
      "outputs": [
        {
          "output_type": "error",
          "ename": "KeyError",
          "evalue": "'...'",
          "traceback": [
            "\u001b[0;31m---------------------------------------------------------------------------\u001b[0m",
            "\u001b[0;31mKeyError\u001b[0m                                  Traceback (most recent call last)",
            "\u001b[0;32m/usr/local/lib/python3.10/dist-packages/pandas/core/indexes/base.py\u001b[0m in \u001b[0;36mget_loc\u001b[0;34m(self, key)\u001b[0m\n\u001b[1;32m   3804\u001b[0m         \u001b[0;32mtry\u001b[0m\u001b[0;34m:\u001b[0m\u001b[0;34m\u001b[0m\u001b[0;34m\u001b[0m\u001b[0m\n\u001b[0;32m-> 3805\u001b[0;31m             \u001b[0;32mreturn\u001b[0m \u001b[0mself\u001b[0m\u001b[0;34m.\u001b[0m\u001b[0m_engine\u001b[0m\u001b[0;34m.\u001b[0m\u001b[0mget_loc\u001b[0m\u001b[0;34m(\u001b[0m\u001b[0mcasted_key\u001b[0m\u001b[0;34m)\u001b[0m\u001b[0;34m\u001b[0m\u001b[0;34m\u001b[0m\u001b[0m\n\u001b[0m\u001b[1;32m   3806\u001b[0m         \u001b[0;32mexcept\u001b[0m \u001b[0mKeyError\u001b[0m \u001b[0;32mas\u001b[0m \u001b[0merr\u001b[0m\u001b[0;34m:\u001b[0m\u001b[0;34m\u001b[0m\u001b[0;34m\u001b[0m\u001b[0m\n",
            "\u001b[0;32mindex.pyx\u001b[0m in \u001b[0;36mpandas._libs.index.IndexEngine.get_loc\u001b[0;34m()\u001b[0m\n",
            "\u001b[0;32mindex.pyx\u001b[0m in \u001b[0;36mpandas._libs.index.IndexEngine.get_loc\u001b[0;34m()\u001b[0m\n",
            "\u001b[0;32mpandas/_libs/hashtable_class_helper.pxi\u001b[0m in \u001b[0;36mpandas._libs.hashtable.PyObjectHashTable.get_item\u001b[0;34m()\u001b[0m\n",
            "\u001b[0;32mpandas/_libs/hashtable_class_helper.pxi\u001b[0m in \u001b[0;36mpandas._libs.hashtable.PyObjectHashTable.get_item\u001b[0;34m()\u001b[0m\n",
            "\u001b[0;31mKeyError\u001b[0m: '...'",
            "\nThe above exception was the direct cause of the following exception:\n",
            "\u001b[0;31mKeyError\u001b[0m                                  Traceback (most recent call last)",
            "\u001b[0;32m<ipython-input-6-146b76f0bc85>\u001b[0m in \u001b[0;36m<cell line: 6>\u001b[0;34m()\u001b[0m\n\u001b[1;32m      4\u001b[0m \u001b[0;31m# Replace the 1st ... with the response variable name.\u001b[0m\u001b[0;34m\u001b[0m\u001b[0;34m\u001b[0m\u001b[0m\n\u001b[1;32m      5\u001b[0m \u001b[0;31m# Replace the 2nd ... with the explanatory variable name\u001b[0m\u001b[0;34m\u001b[0m\u001b[0;34m\u001b[0m\u001b[0m\n\u001b[0;32m----> 6\u001b[0;31m \u001b[0mcorrelation\u001b[0m \u001b[0;34m=\u001b[0m \u001b[0mdf\u001b[0m\u001b[0;34m[\u001b[0m\u001b[0;34m'...'\u001b[0m\u001b[0;34m]\u001b[0m\u001b[0;34m.\u001b[0m\u001b[0mcorr\u001b[0m\u001b[0;34m(\u001b[0m\u001b[0mdf\u001b[0m\u001b[0;34m[\u001b[0m\u001b[0;34m'...'\u001b[0m\u001b[0;34m]\u001b[0m\u001b[0;34m)\u001b[0m\u001b[0;34m\u001b[0m\u001b[0;34m\u001b[0m\u001b[0m\n\u001b[0m\u001b[1;32m      7\u001b[0m \u001b[0;34m\u001b[0m\u001b[0m\n\u001b[1;32m      8\u001b[0m \u001b[0;31m# Print the correlation coefficient\u001b[0m\u001b[0;34m\u001b[0m\u001b[0;34m\u001b[0m\u001b[0m\n",
            "\u001b[0;32m/usr/local/lib/python3.10/dist-packages/pandas/core/frame.py\u001b[0m in \u001b[0;36m__getitem__\u001b[0;34m(self, key)\u001b[0m\n\u001b[1;32m   4100\u001b[0m             \u001b[0;32mif\u001b[0m \u001b[0mself\u001b[0m\u001b[0;34m.\u001b[0m\u001b[0mcolumns\u001b[0m\u001b[0;34m.\u001b[0m\u001b[0mnlevels\u001b[0m \u001b[0;34m>\u001b[0m \u001b[0;36m1\u001b[0m\u001b[0;34m:\u001b[0m\u001b[0;34m\u001b[0m\u001b[0;34m\u001b[0m\u001b[0m\n\u001b[1;32m   4101\u001b[0m                 \u001b[0;32mreturn\u001b[0m \u001b[0mself\u001b[0m\u001b[0;34m.\u001b[0m\u001b[0m_getitem_multilevel\u001b[0m\u001b[0;34m(\u001b[0m\u001b[0mkey\u001b[0m\u001b[0;34m)\u001b[0m\u001b[0;34m\u001b[0m\u001b[0;34m\u001b[0m\u001b[0m\n\u001b[0;32m-> 4102\u001b[0;31m             \u001b[0mindexer\u001b[0m \u001b[0;34m=\u001b[0m \u001b[0mself\u001b[0m\u001b[0;34m.\u001b[0m\u001b[0mcolumns\u001b[0m\u001b[0;34m.\u001b[0m\u001b[0mget_loc\u001b[0m\u001b[0;34m(\u001b[0m\u001b[0mkey\u001b[0m\u001b[0;34m)\u001b[0m\u001b[0;34m\u001b[0m\u001b[0;34m\u001b[0m\u001b[0m\n\u001b[0m\u001b[1;32m   4103\u001b[0m             \u001b[0;32mif\u001b[0m \u001b[0mis_integer\u001b[0m\u001b[0;34m(\u001b[0m\u001b[0mindexer\u001b[0m\u001b[0;34m)\u001b[0m\u001b[0;34m:\u001b[0m\u001b[0;34m\u001b[0m\u001b[0;34m\u001b[0m\u001b[0m\n\u001b[1;32m   4104\u001b[0m                 \u001b[0mindexer\u001b[0m \u001b[0;34m=\u001b[0m \u001b[0;34m[\u001b[0m\u001b[0mindexer\u001b[0m\u001b[0;34m]\u001b[0m\u001b[0;34m\u001b[0m\u001b[0;34m\u001b[0m\u001b[0m\n",
            "\u001b[0;32m/usr/local/lib/python3.10/dist-packages/pandas/core/indexes/base.py\u001b[0m in \u001b[0;36mget_loc\u001b[0;34m(self, key)\u001b[0m\n\u001b[1;32m   3810\u001b[0m             ):\n\u001b[1;32m   3811\u001b[0m                 \u001b[0;32mraise\u001b[0m \u001b[0mInvalidIndexError\u001b[0m\u001b[0;34m(\u001b[0m\u001b[0mkey\u001b[0m\u001b[0;34m)\u001b[0m\u001b[0;34m\u001b[0m\u001b[0;34m\u001b[0m\u001b[0m\n\u001b[0;32m-> 3812\u001b[0;31m             \u001b[0;32mraise\u001b[0m \u001b[0mKeyError\u001b[0m\u001b[0;34m(\u001b[0m\u001b[0mkey\u001b[0m\u001b[0;34m)\u001b[0m \u001b[0;32mfrom\u001b[0m \u001b[0merr\u001b[0m\u001b[0;34m\u001b[0m\u001b[0;34m\u001b[0m\u001b[0m\n\u001b[0m\u001b[1;32m   3813\u001b[0m         \u001b[0;32mexcept\u001b[0m \u001b[0mTypeError\u001b[0m\u001b[0;34m:\u001b[0m\u001b[0;34m\u001b[0m\u001b[0;34m\u001b[0m\u001b[0m\n\u001b[1;32m   3814\u001b[0m             \u001b[0;31m# If we have a listlike key, _check_indexing_error will raise\u001b[0m\u001b[0;34m\u001b[0m\u001b[0;34m\u001b[0m\u001b[0m\n",
            "\u001b[0;31mKeyError\u001b[0m: '...'"
          ]
        }
      ],
      "source": [
        "# Calculate the correlation coefficient\n",
        "\n",
        "# STUDENTS: Replace ... as stated\n",
        "# Replace the 1st ... with the response variable name.\n",
        "# Replace the 2nd ... with the explanatory variable name\n",
        "correlation = df['...'].corr(df['...'])\n",
        "\n",
        "# Print the correlation coefficient\n",
        "print(f\"Correlation coefficient: r = {correlation}\")"
      ]
    },
    {
      "cell_type": "markdown",
      "source": [
        "**2.2)** Interpret the correlation coefficient.\n"
      ],
      "metadata": {
        "id": "G94sREeexV_s"
      }
    },
    {
      "cell_type": "markdown",
      "source": [
        "# ..."
      ],
      "metadata": {
        "id": "zIWK4cyw_GiB"
      }
    },
    {
      "cell_type": "markdown",
      "source": [
        "**2.3)** Now that you know the value of correlation, r, did the strength match what you wrote in 1.2?"
      ],
      "metadata": {
        "id": "p-HHBh935uGw"
      }
    },
    {
      "cell_type": "markdown",
      "source": [
        "# ..."
      ],
      "metadata": {
        "id": "_VY68TuH596l"
      }
    },
    {
      "cell_type": "markdown",
      "metadata": {
        "id": "ad-a9eAuJZlN"
      },
      "source": [
        "# **Question 3**\n",
        "\n",
        "## Least Squares Regression\n",
        "\n",
        "**3.1)** Calculate the linear model and add the regression line to the scatterplot.\n"
      ]
    },
    {
      "cell_type": "code",
      "execution_count": null,
      "metadata": {
        "id": "5Cejhxq9JZlN",
        "outputId": "bb9344c7-27c1-4ed6-9e98-ba5a080aeb6f",
        "colab": {
          "base_uri": "https://localhost:8080/",
          "height": 547
        }
      },
      "outputs": [
        {
          "output_type": "error",
          "ename": "KeyError",
          "evalue": "'...'",
          "traceback": [
            "\u001b[0;31m---------------------------------------------------------------------------\u001b[0m",
            "\u001b[0;31mKeyError\u001b[0m                                  Traceback (most recent call last)",
            "\u001b[0;32m/usr/local/lib/python3.10/dist-packages/pandas/core/indexes/base.py\u001b[0m in \u001b[0;36mget_loc\u001b[0;34m(self, key)\u001b[0m\n\u001b[1;32m   3804\u001b[0m         \u001b[0;32mtry\u001b[0m\u001b[0;34m:\u001b[0m\u001b[0;34m\u001b[0m\u001b[0;34m\u001b[0m\u001b[0m\n\u001b[0;32m-> 3805\u001b[0;31m             \u001b[0;32mreturn\u001b[0m \u001b[0mself\u001b[0m\u001b[0;34m.\u001b[0m\u001b[0m_engine\u001b[0m\u001b[0;34m.\u001b[0m\u001b[0mget_loc\u001b[0m\u001b[0;34m(\u001b[0m\u001b[0mcasted_key\u001b[0m\u001b[0;34m)\u001b[0m\u001b[0;34m\u001b[0m\u001b[0;34m\u001b[0m\u001b[0m\n\u001b[0m\u001b[1;32m   3806\u001b[0m         \u001b[0;32mexcept\u001b[0m \u001b[0mKeyError\u001b[0m \u001b[0;32mas\u001b[0m \u001b[0merr\u001b[0m\u001b[0;34m:\u001b[0m\u001b[0;34m\u001b[0m\u001b[0;34m\u001b[0m\u001b[0m\n",
            "\u001b[0;32mindex.pyx\u001b[0m in \u001b[0;36mpandas._libs.index.IndexEngine.get_loc\u001b[0;34m()\u001b[0m\n",
            "\u001b[0;32mindex.pyx\u001b[0m in \u001b[0;36mpandas._libs.index.IndexEngine.get_loc\u001b[0;34m()\u001b[0m\n",
            "\u001b[0;32mpandas/_libs/hashtable_class_helper.pxi\u001b[0m in \u001b[0;36mpandas._libs.hashtable.PyObjectHashTable.get_item\u001b[0;34m()\u001b[0m\n",
            "\u001b[0;32mpandas/_libs/hashtable_class_helper.pxi\u001b[0m in \u001b[0;36mpandas._libs.hashtable.PyObjectHashTable.get_item\u001b[0;34m()\u001b[0m\n",
            "\u001b[0;31mKeyError\u001b[0m: '...'",
            "\nThe above exception was the direct cause of the following exception:\n",
            "\u001b[0;31mKeyError\u001b[0m                                  Traceback (most recent call last)",
            "\u001b[0;32m<ipython-input-7-d86984fad2d2>\u001b[0m in \u001b[0;36m<cell line: 7>\u001b[0;34m()\u001b[0m\n\u001b[1;32m      5\u001b[0m \u001b[0;31m# STUDENTS: Replace ... as stated below.\u001b[0m\u001b[0;34m\u001b[0m\u001b[0;34m\u001b[0m\u001b[0m\n\u001b[1;32m      6\u001b[0m \u001b[0;31m# Replace ... with the explantory variable name\u001b[0m\u001b[0;34m\u001b[0m\u001b[0;34m\u001b[0m\u001b[0m\n\u001b[0;32m----> 7\u001b[0;31m \u001b[0mX\u001b[0m \u001b[0;34m=\u001b[0m \u001b[0mdf\u001b[0m\u001b[0;34m[\u001b[0m\u001b[0;34m'...'\u001b[0m\u001b[0;34m]\u001b[0m\u001b[0;34m\u001b[0m\u001b[0;34m\u001b[0m\u001b[0m\n\u001b[0m\u001b[1;32m      8\u001b[0m \u001b[0;31m# Replace ... with the response variable name\u001b[0m\u001b[0;34m\u001b[0m\u001b[0;34m\u001b[0m\u001b[0m\n\u001b[1;32m      9\u001b[0m \u001b[0mY\u001b[0m \u001b[0;34m=\u001b[0m \u001b[0mdf\u001b[0m\u001b[0;34m[\u001b[0m\u001b[0;34m'...'\u001b[0m\u001b[0;34m]\u001b[0m\u001b[0;34m\u001b[0m\u001b[0;34m\u001b[0m\u001b[0m\n",
            "\u001b[0;32m/usr/local/lib/python3.10/dist-packages/pandas/core/frame.py\u001b[0m in \u001b[0;36m__getitem__\u001b[0;34m(self, key)\u001b[0m\n\u001b[1;32m   4100\u001b[0m             \u001b[0;32mif\u001b[0m \u001b[0mself\u001b[0m\u001b[0;34m.\u001b[0m\u001b[0mcolumns\u001b[0m\u001b[0;34m.\u001b[0m\u001b[0mnlevels\u001b[0m \u001b[0;34m>\u001b[0m \u001b[0;36m1\u001b[0m\u001b[0;34m:\u001b[0m\u001b[0;34m\u001b[0m\u001b[0;34m\u001b[0m\u001b[0m\n\u001b[1;32m   4101\u001b[0m                 \u001b[0;32mreturn\u001b[0m \u001b[0mself\u001b[0m\u001b[0;34m.\u001b[0m\u001b[0m_getitem_multilevel\u001b[0m\u001b[0;34m(\u001b[0m\u001b[0mkey\u001b[0m\u001b[0;34m)\u001b[0m\u001b[0;34m\u001b[0m\u001b[0;34m\u001b[0m\u001b[0m\n\u001b[0;32m-> 4102\u001b[0;31m             \u001b[0mindexer\u001b[0m \u001b[0;34m=\u001b[0m \u001b[0mself\u001b[0m\u001b[0;34m.\u001b[0m\u001b[0mcolumns\u001b[0m\u001b[0;34m.\u001b[0m\u001b[0mget_loc\u001b[0m\u001b[0;34m(\u001b[0m\u001b[0mkey\u001b[0m\u001b[0;34m)\u001b[0m\u001b[0;34m\u001b[0m\u001b[0;34m\u001b[0m\u001b[0m\n\u001b[0m\u001b[1;32m   4103\u001b[0m             \u001b[0;32mif\u001b[0m \u001b[0mis_integer\u001b[0m\u001b[0;34m(\u001b[0m\u001b[0mindexer\u001b[0m\u001b[0;34m)\u001b[0m\u001b[0;34m:\u001b[0m\u001b[0;34m\u001b[0m\u001b[0;34m\u001b[0m\u001b[0m\n\u001b[1;32m   4104\u001b[0m                 \u001b[0mindexer\u001b[0m \u001b[0;34m=\u001b[0m \u001b[0;34m[\u001b[0m\u001b[0mindexer\u001b[0m\u001b[0;34m]\u001b[0m\u001b[0;34m\u001b[0m\u001b[0;34m\u001b[0m\u001b[0m\n",
            "\u001b[0;32m/usr/local/lib/python3.10/dist-packages/pandas/core/indexes/base.py\u001b[0m in \u001b[0;36mget_loc\u001b[0;34m(self, key)\u001b[0m\n\u001b[1;32m   3810\u001b[0m             ):\n\u001b[1;32m   3811\u001b[0m                 \u001b[0;32mraise\u001b[0m \u001b[0mInvalidIndexError\u001b[0m\u001b[0;34m(\u001b[0m\u001b[0mkey\u001b[0m\u001b[0;34m)\u001b[0m\u001b[0;34m\u001b[0m\u001b[0;34m\u001b[0m\u001b[0m\n\u001b[0;32m-> 3812\u001b[0;31m             \u001b[0;32mraise\u001b[0m \u001b[0mKeyError\u001b[0m\u001b[0;34m(\u001b[0m\u001b[0mkey\u001b[0m\u001b[0;34m)\u001b[0m \u001b[0;32mfrom\u001b[0m \u001b[0merr\u001b[0m\u001b[0;34m\u001b[0m\u001b[0;34m\u001b[0m\u001b[0m\n\u001b[0m\u001b[1;32m   3813\u001b[0m         \u001b[0;32mexcept\u001b[0m \u001b[0mTypeError\u001b[0m\u001b[0;34m:\u001b[0m\u001b[0;34m\u001b[0m\u001b[0;34m\u001b[0m\u001b[0m\n\u001b[1;32m   3814\u001b[0m             \u001b[0;31m# If we have a listlike key, _check_indexing_error will raise\u001b[0m\u001b[0;34m\u001b[0m\u001b[0;34m\u001b[0m\u001b[0m\n",
            "\u001b[0;31mKeyError\u001b[0m: '...'"
          ]
        }
      ],
      "source": [
        "# Calculate the LSRL and add the regression line to the scatterplot.\n",
        "\n",
        "# Extract the variables from the dataframe\n",
        "                  # STUDENTS: Replace ... as stated below.\n",
        "X = df['...']     # Replace ... with the explantory variable name\n",
        "Y = df['...']     # Replace ... with the response variable name\n",
        "\n",
        "# Add a constant to the explanatory variable for the regression model.\n",
        "# This forces Statsmodels to calculate the y-intercept.\n",
        "# STUDENTS: Do not change anything in this block of code.\n",
        "X_with_const = sm.add_constant(X)\n",
        "\n",
        "# Fit the linear regression model (calculate slope and y-intercept)\n",
        "# STUDENTS: Do not change anything in this block of code.\n",
        "model = sm.OLS(Y, X_with_const).fit()\n",
        "\n",
        "                                                        # STUDENTS: Replace ... as stated below.\n",
        "scatter_plot = px.scatter(df,\n",
        "                 x='...',                               # Replace ... with the explanatory variable name\n",
        "                 y='...',                               # Replace ... with the response variable name\n",
        "                 labels={'Ht': '...',                   # Replace ... with a better x-axis label\n",
        "                         'Wt': '...'})                  # Replace ... with a better y-axis label\n",
        "\n",
        "# Updating layout\n",
        "# STUDENTS: Do not change anything in this block of code.\n",
        "scatter_plot.update_layout(\n",
        "    plot_bgcolor='rgba(255,255,255,1)',        # Sets the background color of the plot area to white with full opacity.\n",
        "    xaxis=dict(\n",
        "        showline=True,                         # Displays a line on the x-axis.\n",
        "        showgrid=False,                        # Hides the grid lines on the x-axis.\n",
        "        linecolor='black'                      # Sets the color of the x-axis line to black.\n",
        "    ),\n",
        "    yaxis=dict(\n",
        "        showline=True,                         # Displays a line on the y-axis.\n",
        "        showgrid=False,                        # Hides the grid lines on the y-axis.\n",
        "        linecolor='black'                      # Sets the color of the y-axis line to black.\n",
        "    ),\n",
        "    title={\n",
        "        'text': 'Scatter Plot A-L',   # Sets the title text.\n",
        "        'y': 0.9,                              # Positions the title 90% of the way up the plot.\n",
        "        'x': 0.5,                              # Centers the title horizontally.\n",
        "        'xanchor': 'center',                   # Anchors the title at its center on the x-axis.\n",
        "        'yanchor': 'top',                      # Anchors the title at the top on the y-axis.\n",
        "        'font': dict(\n",
        "            size=16                            # Sets the title font size to 16 (smaller than default).\n",
        "        ),\n",
        "    },\n",
        "    width=600,                                 # Sets the width of the plot.\n",
        "    height=400,                                # Sets the height of the plot for portrait mode.\n",
        "    showlegend=False                           # Disables the legend (key) display\n",
        ")\n",
        "\n",
        "# Add the regression line to the scatterplot\n",
        "scatter_plot.add_scatter(x=X, y=model.predict(X_with_const),\n",
        "                         mode='lines', name='Regression Line')\n",
        "\n",
        "# Show the plot\n",
        "scatter_plot.show()\n"
      ]
    },
    {
      "cell_type": "markdown",
      "source": [
        "**3.2)** Print the coefficients (Intercept and Slope)\n",
        "\n"
      ],
      "metadata": {
        "id": "nax0a4z8XMnM"
      }
    },
    {
      "cell_type": "code",
      "execution_count": null,
      "metadata": {
        "id": "R32idO3eJZlO",
        "outputId": "0005a16f-f9bf-46e3-9d1f-72c5363a6871",
        "colab": {
          "base_uri": "https://localhost:8080/",
          "height": 211
        }
      },
      "outputs": [
        {
          "output_type": "error",
          "ename": "NameError",
          "evalue": "name 'model' is not defined",
          "traceback": [
            "\u001b[0;31m---------------------------------------------------------------------------\u001b[0m",
            "\u001b[0;31mNameError\u001b[0m                                 Traceback (most recent call last)",
            "\u001b[0;32m<ipython-input-8-505462731a5f>\u001b[0m in \u001b[0;36m<cell line: 8>\u001b[0;34m()\u001b[0m\n\u001b[1;32m      6\u001b[0m \u001b[0;31m# and slope to 'coefficients', then prints the values.\u001b[0m\u001b[0;34m\u001b[0m\u001b[0;34m\u001b[0m\u001b[0m\n\u001b[1;32m      7\u001b[0m \u001b[0;34m\u001b[0m\u001b[0m\n\u001b[0;32m----> 8\u001b[0;31m \u001b[0mcoefficients\u001b[0m \u001b[0;34m=\u001b[0m \u001b[0mmodel\u001b[0m\u001b[0;34m.\u001b[0m\u001b[0mparams\u001b[0m\u001b[0;34m\u001b[0m\u001b[0;34m\u001b[0m\u001b[0m\n\u001b[0m\u001b[1;32m      9\u001b[0m \u001b[0mcoefficients\u001b[0m\u001b[0;34m.\u001b[0m\u001b[0mname\u001b[0m\u001b[0;34m=\u001b[0m\u001b[0;34m'Coefficients'\u001b[0m\u001b[0;34m\u001b[0m\u001b[0;34m\u001b[0m\u001b[0m\n\u001b[1;32m     10\u001b[0m \u001b[0mcoefficients\u001b[0m\u001b[0;34m\u001b[0m\u001b[0;34m\u001b[0m\u001b[0m\n",
            "\u001b[0;31mNameError\u001b[0m: name 'model' is not defined"
          ]
        }
      ],
      "source": [
        "# Print the coefficients (Intercept and Slope)\n",
        "\n",
        "# STUDENTS: Do not change the code below.\n",
        "# The coefficients were calculated when the regression line was added to the\n",
        "# scatterplot and stored in 'model'. This assigns the values of the y-intercept\n",
        "# and slope to 'coefficients', then prints the values.\n",
        "\n",
        "coefficients = model.params\n",
        "coefficients.name='Coefficients'\n",
        "coefficients\n"
      ]
    },
    {
      "cell_type": "markdown",
      "source": [
        "**3.3)** Write the equation of the line that predicts your assigned response variable from your assigned explanatory variable. To type 𝑦̂ you can type “y-hat” or “predicted y”. Do NOT round.\n",
        "\n"
      ],
      "metadata": {
        "id": "vUqyqdVkpWXh"
      }
    },
    {
      "cell_type": "markdown",
      "source": [
        "# ..."
      ],
      "metadata": {
        "id": "xB3Zd_wgpeCT"
      }
    },
    {
      "cell_type": "markdown",
      "metadata": {
        "id": "BdkQcF691E74"
      },
      "source": [
        "# **Question 4**\n",
        "## Slope\n",
        "Interpret the slope\n"
      ]
    },
    {
      "cell_type": "markdown",
      "source": [
        "# ..."
      ],
      "metadata": {
        "id": "Fe3k06NdqCck"
      }
    },
    {
      "cell_type": "markdown",
      "metadata": {
        "id": "A2uHwoKa0a1Y"
      },
      "source": [
        "# **QUESTION 5**\n",
        "## Y-Intercept\n",
        "\n",
        "Interpret the y-intercept of the least squares regression line in the context of this study. State whether the interpretation is reasonable."
      ]
    },
    {
      "cell_type": "markdown",
      "source": [
        "# ..."
      ],
      "metadata": {
        "id": "8DudqX253sIt"
      }
    },
    {
      "cell_type": "markdown",
      "metadata": {
        "id": "rCJ442hvJZlO"
      },
      "source": [
        "# **Question 6**\n",
        "## Prediction\n",
        "\n",
        "Rachaad White, a running back from Arizona State University, was at the combine. Predict the value of your dependent variable for Rachaad White using the actual value of the independent variable shown in the table below. Type your work below. Round to two (2) decimal places.\n",
        "\n",
        "| Last Name      | Independent Variable (x)                |\n",
        "|----------------|----------------------------------------|\n",
        "| **A-L**        | Height = 73 inches |\n",
        "| **M-Z**        | Broad Jump = 125 inches |\n"
      ]
    },
    {
      "cell_type": "markdown",
      "source": [
        "# ..."
      ],
      "metadata": {
        "id": "aRdqToAPr2h1"
      }
    },
    {
      "cell_type": "markdown",
      "source": [
        "# **Question 7**\n",
        "## Compare\n",
        "**7.1)** Look up the actual value of your dependent variable for the value of the independent variable above. We know it is for Criminology majors, but be sure to type in the value of the independent variable listed in Question 6 in the code below."
      ],
      "metadata": {
        "id": "iimd7jPr6o_G"
      }
    },
    {
      "cell_type": "code",
      "execution_count": null,
      "metadata": {
        "id": "D9yVbei2JZlO",
        "colab": {
          "base_uri": "https://localhost:8080/",
          "height": 547
        },
        "outputId": "c00531b4-cc4e-4c8d-9623-63ed78e967d9"
      },
      "outputs": [
        {
          "output_type": "error",
          "ename": "KeyError",
          "evalue": "'...'",
          "traceback": [
            "\u001b[0;31m---------------------------------------------------------------------------\u001b[0m",
            "\u001b[0;31mKeyError\u001b[0m                                  Traceback (most recent call last)",
            "\u001b[0;32m/usr/local/lib/python3.10/dist-packages/pandas/core/indexes/base.py\u001b[0m in \u001b[0;36mget_loc\u001b[0;34m(self, key)\u001b[0m\n\u001b[1;32m   3804\u001b[0m         \u001b[0;32mtry\u001b[0m\u001b[0;34m:\u001b[0m\u001b[0;34m\u001b[0m\u001b[0;34m\u001b[0m\u001b[0m\n\u001b[0;32m-> 3805\u001b[0;31m             \u001b[0;32mreturn\u001b[0m \u001b[0mself\u001b[0m\u001b[0;34m.\u001b[0m\u001b[0m_engine\u001b[0m\u001b[0;34m.\u001b[0m\u001b[0mget_loc\u001b[0m\u001b[0;34m(\u001b[0m\u001b[0mcasted_key\u001b[0m\u001b[0;34m)\u001b[0m\u001b[0;34m\u001b[0m\u001b[0;34m\u001b[0m\u001b[0m\n\u001b[0m\u001b[1;32m   3806\u001b[0m         \u001b[0;32mexcept\u001b[0m \u001b[0mKeyError\u001b[0m \u001b[0;32mas\u001b[0m \u001b[0merr\u001b[0m\u001b[0;34m:\u001b[0m\u001b[0;34m\u001b[0m\u001b[0;34m\u001b[0m\u001b[0m\n",
            "\u001b[0;32mindex.pyx\u001b[0m in \u001b[0;36mpandas._libs.index.IndexEngine.get_loc\u001b[0;34m()\u001b[0m\n",
            "\u001b[0;32mindex.pyx\u001b[0m in \u001b[0;36mpandas._libs.index.IndexEngine.get_loc\u001b[0;34m()\u001b[0m\n",
            "\u001b[0;32mpandas/_libs/hashtable_class_helper.pxi\u001b[0m in \u001b[0;36mpandas._libs.hashtable.PyObjectHashTable.get_item\u001b[0;34m()\u001b[0m\n",
            "\u001b[0;32mpandas/_libs/hashtable_class_helper.pxi\u001b[0m in \u001b[0;36mpandas._libs.hashtable.PyObjectHashTable.get_item\u001b[0;34m()\u001b[0m\n",
            "\u001b[0;31mKeyError\u001b[0m: '...'",
            "\nThe above exception was the direct cause of the following exception:\n",
            "\u001b[0;31mKeyError\u001b[0m                                  Traceback (most recent call last)",
            "\u001b[0;32m<ipython-input-9-2f28021be4e4>\u001b[0m in \u001b[0;36m<cell line: 8>\u001b[0;34m()\u001b[0m\n\u001b[1;32m      6\u001b[0m \u001b[0;31m# Replace the 2nd ... with the value from the table in Question 6\u001b[0m\u001b[0;34m\u001b[0m\u001b[0;34m\u001b[0m\u001b[0m\n\u001b[1;32m      7\u001b[0m \u001b[0;31m# Replace the 3rd ... with the response variable name\u001b[0m\u001b[0;34m\u001b[0m\u001b[0;34m\u001b[0m\u001b[0m\n\u001b[0;32m----> 8\u001b[0;31m \u001b[0mactual_dependent\u001b[0m \u001b[0;34m=\u001b[0m \u001b[0mdf\u001b[0m\u001b[0;34m[\u001b[0m\u001b[0mdf\u001b[0m\u001b[0;34m[\u001b[0m\u001b[0;34m'...'\u001b[0m\u001b[0;34m]\u001b[0m\u001b[0;34m==\u001b[0m \u001b[0;34m...\u001b[0m\u001b[0;34m]\u001b[0m\u001b[0;34m[\u001b[0m\u001b[0;34m'...'\u001b[0m\u001b[0;34m]\u001b[0m\u001b[0;34m\u001b[0m\u001b[0;34m\u001b[0m\u001b[0m\n\u001b[0m\u001b[1;32m      9\u001b[0m \u001b[0mactual\u001b[0m \u001b[0;34m=\u001b[0m \u001b[0mint\u001b[0m\u001b[0;34m(\u001b[0m\u001b[0mactual_dependent\u001b[0m\u001b[0;34m.\u001b[0m\u001b[0mvalues\u001b[0m\u001b[0;34m[\u001b[0m\u001b[0;36m0\u001b[0m\u001b[0;34m]\u001b[0m\u001b[0;34m)\u001b[0m\u001b[0;34m\u001b[0m\u001b[0;34m\u001b[0m\u001b[0m\n\u001b[1;32m     10\u001b[0m \u001b[0mprint\u001b[0m\u001b[0;34m(\u001b[0m\u001b[0;34mf\"The actual value of the dependent variable is: {actual}\"\u001b[0m\u001b[0;34m)\u001b[0m\u001b[0;34m\u001b[0m\u001b[0;34m\u001b[0m\u001b[0m\n",
            "\u001b[0;32m/usr/local/lib/python3.10/dist-packages/pandas/core/frame.py\u001b[0m in \u001b[0;36m__getitem__\u001b[0;34m(self, key)\u001b[0m\n\u001b[1;32m   4100\u001b[0m             \u001b[0;32mif\u001b[0m \u001b[0mself\u001b[0m\u001b[0;34m.\u001b[0m\u001b[0mcolumns\u001b[0m\u001b[0;34m.\u001b[0m\u001b[0mnlevels\u001b[0m \u001b[0;34m>\u001b[0m \u001b[0;36m1\u001b[0m\u001b[0;34m:\u001b[0m\u001b[0;34m\u001b[0m\u001b[0;34m\u001b[0m\u001b[0m\n\u001b[1;32m   4101\u001b[0m                 \u001b[0;32mreturn\u001b[0m \u001b[0mself\u001b[0m\u001b[0;34m.\u001b[0m\u001b[0m_getitem_multilevel\u001b[0m\u001b[0;34m(\u001b[0m\u001b[0mkey\u001b[0m\u001b[0;34m)\u001b[0m\u001b[0;34m\u001b[0m\u001b[0;34m\u001b[0m\u001b[0m\n\u001b[0;32m-> 4102\u001b[0;31m             \u001b[0mindexer\u001b[0m \u001b[0;34m=\u001b[0m \u001b[0mself\u001b[0m\u001b[0;34m.\u001b[0m\u001b[0mcolumns\u001b[0m\u001b[0;34m.\u001b[0m\u001b[0mget_loc\u001b[0m\u001b[0;34m(\u001b[0m\u001b[0mkey\u001b[0m\u001b[0;34m)\u001b[0m\u001b[0;34m\u001b[0m\u001b[0;34m\u001b[0m\u001b[0m\n\u001b[0m\u001b[1;32m   4103\u001b[0m             \u001b[0;32mif\u001b[0m \u001b[0mis_integer\u001b[0m\u001b[0;34m(\u001b[0m\u001b[0mindexer\u001b[0m\u001b[0;34m)\u001b[0m\u001b[0;34m:\u001b[0m\u001b[0;34m\u001b[0m\u001b[0;34m\u001b[0m\u001b[0m\n\u001b[1;32m   4104\u001b[0m                 \u001b[0mindexer\u001b[0m \u001b[0;34m=\u001b[0m \u001b[0;34m[\u001b[0m\u001b[0mindexer\u001b[0m\u001b[0;34m]\u001b[0m\u001b[0;34m\u001b[0m\u001b[0;34m\u001b[0m\u001b[0m\n",
            "\u001b[0;32m/usr/local/lib/python3.10/dist-packages/pandas/core/indexes/base.py\u001b[0m in \u001b[0;36mget_loc\u001b[0;34m(self, key)\u001b[0m\n\u001b[1;32m   3810\u001b[0m             ):\n\u001b[1;32m   3811\u001b[0m                 \u001b[0;32mraise\u001b[0m \u001b[0mInvalidIndexError\u001b[0m\u001b[0;34m(\u001b[0m\u001b[0mkey\u001b[0m\u001b[0;34m)\u001b[0m\u001b[0;34m\u001b[0m\u001b[0;34m\u001b[0m\u001b[0m\n\u001b[0;32m-> 3812\u001b[0;31m             \u001b[0;32mraise\u001b[0m \u001b[0mKeyError\u001b[0m\u001b[0;34m(\u001b[0m\u001b[0mkey\u001b[0m\u001b[0;34m)\u001b[0m \u001b[0;32mfrom\u001b[0m \u001b[0merr\u001b[0m\u001b[0;34m\u001b[0m\u001b[0;34m\u001b[0m\u001b[0m\n\u001b[0m\u001b[1;32m   3813\u001b[0m         \u001b[0;32mexcept\u001b[0m \u001b[0mTypeError\u001b[0m\u001b[0;34m:\u001b[0m\u001b[0;34m\u001b[0m\u001b[0;34m\u001b[0m\u001b[0m\n\u001b[1;32m   3814\u001b[0m             \u001b[0;31m# If we have a listlike key, _check_indexing_error will raise\u001b[0m\u001b[0;34m\u001b[0m\u001b[0;34m\u001b[0m\u001b[0m\n",
            "\u001b[0;31mKeyError\u001b[0m: '...'"
          ]
        }
      ],
      "source": [
        "# Filter the datafram to find the row where your independent variable\n",
        "#   equals the value from the table in Question 6.\n",
        "\n",
        "# STUDENTS:\n",
        "# Replace the 1st ... with the explantory variable name\n",
        "# Replace the 2nd ... with the value from the table in Question 6\n",
        "# Replace the 3rd ... with the response variable name\n",
        "actual_dependent = df[df['...']== ...]['...']\n",
        "actual = int(actual_dependent.values[0])\n",
        "print(f\"The actual value of the dependent variable is: {actual}\")\n"
      ]
    },
    {
      "cell_type": "markdown",
      "source": [
        "**7.2)** Compare the predicted value of your dependent variable from Question 6 to the actual value from 7.1. Use the actual name of your dependent variable, as modeled in activity.\n"
      ],
      "metadata": {
        "id": "kkZ4dF--99LC"
      }
    },
    {
      "cell_type": "markdown",
      "source": [
        "# ..."
      ],
      "metadata": {
        "id": "i7tnZsWwCHul"
      }
    },
    {
      "cell_type": "markdown",
      "source": [
        "# **QUESTION 8**\n",
        "\n",
        "Generate a paragraph of at least 100 words to address one of the following questions. That is, answer only 8a or 8b, but not both.\n",
        "\n",
        "**8a)** Discuss how analyzing your chosen data set using statistical methods could help you become better prepared for future courses in your major?\n",
        "\n",
        "...\n",
        "\n",
        "--OR--\n",
        "\n",
        "**8b)** Discuss how analyzing your chosen data set using statistical methods could be instrumental in becoming better prepared for your future career?\n",
        "\n",
        "...\n"
      ],
      "metadata": {
        "id": "A4rsfgbp6r6H"
      }
    },
    {
      "cell_type": "markdown",
      "source": [
        "<br><br>\n",
        "### Once you are done and ready to submit, follow the instructions below to save as a PDF and submit to GradeScope.\n",
        "\n",
        "### Save as PDF\n",
        "Note 1: You do not have to select Print Preview. You can print directly from the notebook.\n",
        "Note 2: Image and graph sizes have been set so you should be able to see them correctly without making any changes to the browser width or the layout (portrait vs landscape).\n",
        "1. Run all code one last time and make sure your graphs can be seen.\n",
        "2. File -> Print (or ctrl-p/cmnd-p)\n",
        "3. Change the \"Desination\" to PDF.\n",
        "4. Save the PDF, taking note of where it is saved.\n",
        "\n",
        "### Submit to GradeScope\n",
        "**Watch the \"GradeScope Submission\" video for help.**\n",
        "1. Login to the Canvas course\n",
        "2. Click on GradeScope in the course navigation.\n",
        "3. If you see multiple courses in GradeScope, click on the STAT 108 course\n",
        "4. Click on the name of the assignment that matches your data set\n",
        "5. Click on \"Submit Work\", select PDF\n",
        "6. Select the PDF you just created\n",
        "7. You need to tell GradeScope which page each problem answer/output is on. You should see a list of problems on the left, and a display of pages (thumbnails) on the right. Assign pages to questions by clicking on the question number on the left, then clicking on all pages that question is on.\n",
        "8. After ALL questions have been assigned to their respective page(s), click \"Submit\"\n",
        "\n",
        "#### **Still need help? Your STAT 108 team is here to help. Take your laptop to office hours.**\n"
      ],
      "metadata": {
        "id": "KHSYrvqh66V6"
      }
    }
  ]
}