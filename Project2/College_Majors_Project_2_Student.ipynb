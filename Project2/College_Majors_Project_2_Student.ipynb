{
  "cells": [
    {
      "cell_type": "markdown",
      "metadata": {
        "id": "WOWuLyetinsJ"
      },
      "source": [
        "# **Guide to Picking a College Major - Project 2**\n",
        "### Analyzing the linear relationship between two quantitative variables."
      ]
    },
    {
      "cell_type": "markdown",
      "metadata": {
        "id": "AxPB-FE5lQIX"
      },
      "source": [
        "# **Importing Necessary Python Modules**\n",
        "\n",
        "Python incorporates a variety of open source add-ins called **modules** that enable us to be able to"
      ]
    },
    {
      "cell_type": "code",
      "execution_count": null,
      "metadata": {
        "id": "DIbfBAiwmTlf"
      },
      "outputs": [],
      "source": [
        "import pandas as pd\n",
        "import numpy as np\n",
        "import plotly.express as px\n",
        "from IPython.display import Image\n",
        "import statsmodels.api as sm"
      ]
    },
    {
      "cell_type": "code",
      "execution_count": null,
      "metadata": {
        "colab": {
          "base_uri": "https://localhost:8080/",
          "height": 176
        },
        "id": "oJft7wQooCFx",
        "outputId": "bdcfb8f6-d7d1-49e2-a2a5-15e449bb0ddd"
      },
      "outputs": [
        {
          "output_type": "error",
          "ename": "NameError",
          "evalue": "name 'Image' is not defined",
          "traceback": [
            "\u001b[0;31m---------------------------------------------------------------------------\u001b[0m",
            "\u001b[0;31mNameError\u001b[0m                                 Traceback (most recent call last)",
            "\u001b[0;32m<ipython-input-1-457b9d924968>\u001b[0m in \u001b[0;36m<cell line: 5>\u001b[0;34m()\u001b[0m\n\u001b[1;32m      3\u001b[0m \u001b[0;34m\u001b[0m\u001b[0m\n\u001b[1;32m      4\u001b[0m \u001b[0;31m# Display the image\u001b[0m\u001b[0;34m\u001b[0m\u001b[0;34m\u001b[0m\u001b[0m\n\u001b[0;32m----> 5\u001b[0;31m \u001b[0mImage\u001b[0m\u001b[0;34m(\u001b[0m\u001b[0murl\u001b[0m\u001b[0;34m=\u001b[0m\u001b[0mimage_url\u001b[0m\u001b[0;34m,\u001b[0m \u001b[0mwidth\u001b[0m\u001b[0;34m=\u001b[0m\u001b[0;36m600\u001b[0m\u001b[0;34m)\u001b[0m\u001b[0;34m\u001b[0m\u001b[0;34m\u001b[0m\u001b[0m\n\u001b[0m",
            "\u001b[0;31mNameError\u001b[0m: name 'Image' is not defined"
          ]
        }
      ],
      "source": [
        "# Assigns the URL where the data file is stored to 'file_path'.\n",
        "image_url = 'https://media.istockphoto.com/id/1470208665/photo/multi-ethnic-group-of-latin-and-african-american-college-students-smiling-diversity-portrait.jpg?s=2048x2048&w=is&k=20&c=zicp2F74iFTRKjJUwFBgs_Mb_Xd5vvkvdmYSVoekb1I='\n",
        "\n",
        "# Display the image\n",
        "Image(url=image_url, width=600)\n"
      ]
    },
    {
      "cell_type": "markdown",
      "metadata": {
        "id": "XJjnfq1hitm8"
      },
      "source": [
        "#**Context**\n",
        "\n",
        "The webiste FiveThirtyEight.com published an article, *The Economic Guide To Picking A College Major*, in 2014 which looked at the earnings of verious college majors. The data analyzed by the author, Ben Casselman, came from the American Community Survey (ACS) 2010-2012 Public Use Microdata Series (PUMS). According to their website, the ACS, part of the U.S. Census Bureau, \"is the premier source for detailed population and housing information in our nation.\"\n",
        "\n",
        "With this dataset, you have the power to explore college programs and their graduates like never before and create stories of your own!\n",
        "\n",
        "https://fivethirtyeight.com/features/the-economic-guide-to-picking-a-college-major/\n",
        "\n",
        "https://www.census.gov/programs-surveys/acs"
      ]
    },
    {
      "cell_type": "markdown",
      "metadata": {
        "id": "bQfu7EYxi7Md"
      },
      "source": [
        "#**About the Dataset**\n",
        "\n",
        "This dataset contains 172 rows corresponding to a random sample of people with at least some college education. The data consists of one identifier variable, index, and 22 other variables associated with 172 college majors. Descriptions of the variables are listed below:"
      ]
    },
    {
      "cell_type": "markdown",
      "metadata": {
        "id": "XusIoTTPjC87"
      },
      "source": [
        "**Variables**\n",
        "\n",
        "| Column name                 | Description                                                |\n",
        "|-----------------------------|------------------------------------------------------------|\n",
        "| Index                       | A number assigned to an individual                         |\n",
        "| Major_code                  | The code associated with the major (Integer)               |\n",
        "| Major                       | The specific major of the field of study (String)          |\n",
        "| Major_category              | The category of the major (String)                         |\n",
        "| Grad_total                  | The total number of graduates from the major (Integer)     |\n",
        "| Grad_sample_size            | The sample size of graduates from the major (Integer)      |\n",
        "| Grad_employed               | The number of graduates employed (Integer)                 |\n",
        "| Grad_full_time_year_round   | The number of graduates employed full-time year-round (Integer) |\n",
        "| Grad_unemployed             | The number of graduates unemployed (Integer)               |\n",
        "| Grad_unemployment_rate      | The unemployment rate of graduates (Float)                 |\n",
        "| Grad_median                 | The median salary of graduates (Integer)                   |\n",
        "| Grad_P25                    | The 25th percentile salary of graduates (Integer)          |\n",
        "| Grad_P75                    | The 75th percentile salary of graduates (Integer)          |\n",
        "| Nongrad_total               | The total number of non-graduates from the major (Integer) |\n",
        "| Nongrad_employed            | The number of non-graduates employed (Integer)             |\n",
        "| Nongrad_full_time_year_round| The number of non-graduates employed full-time year-round (Integer) |\n",
        "| Nongrad_unemployed          | The number of non-graduates unemployed (Integer)           |\n",
        "| Nongrad_unemployment_rate   | The unemployment rate of non-graduates (Float)             |\n",
        "| Nongrad_median              | The median salary of non-graduates (Integer)               |\n",
        "| Nongrad_P25                 | The 25th percentile salary of non-graduates (Integer)      |\n",
        "| Nongrad_P75                 | The 75th percentile salary of non-graduates (Integer)      |\n",
        "| Grad_share                  | The share of graduates in the major (Float)                |\n",
        "| Grad_premium                | The difference between the median salary of graduates and non-graduates (Integer) |\n"
      ]
    },
    {
      "cell_type": "markdown",
      "metadata": {
        "id": "dzjbhJhzktKp"
      },
      "source": [
        "# **A Snippet of the Data**"
      ]
    },
    {
      "cell_type": "markdown",
      "metadata": {
        "id": "C7rwsCbWcrXi"
      },
      "source": [
        "Let's take a look at the data. To do this, first we import it directly from the url."
      ]
    },
    {
      "cell_type": "code",
      "execution_count": null,
      "metadata": {
        "id": "1RtdwLBwidY4"
      },
      "outputs": [],
      "source": [
        "# Assigns the URL containing the data file to 'file_path'.\n",
        "file_path = \"https://raw.githubusercontent.com/fivethirtyeight/data/master/college-majors/grad-students.csv\"\n",
        "\n",
        "# Reads in the CSV data file and assigns it to the DataFrame 'df'.\n",
        "df = pd.read_csv(file_path)\n"
      ]
    },
    {
      "cell_type": "markdown",
      "metadata": {
        "id": "cj8T9vdrimYo"
      },
      "source": [
        "Next, we can display the data by typing the name of the DataFrame. To ensure we can see all columns, we'll use the *pd.set_option* method."
      ]
    },
    {
      "cell_type": "code",
      "execution_count": null,
      "metadata": {
        "colab": {
          "base_uri": "https://localhost:8080/",
          "height": 774
        },
        "id": "YT5tP1d8pQli",
        "outputId": "408e87f7-fe35-4249-aa39-c3b5489a2127"
      },
      "outputs": [
        {
          "output_type": "execute_result",
          "data": {
            "text/plain": [
              "     Major_code                                       Major  \\\n",
              "0          5601                       CONSTRUCTION SERVICES   \n",
              "1          6004           COMMERCIAL ART AND GRAPHIC DESIGN   \n",
              "2          6211                      HOSPITALITY MANAGEMENT   \n",
              "3          2201      COSMETOLOGY SERVICES AND CULINARY ARTS   \n",
              "4          2001                  COMMUNICATION TECHNOLOGIES   \n",
              "..          ...                                         ...   \n",
              "168        5203                       COUNSELING PSYCHOLOGY   \n",
              "169        5202                         CLINICAL PSYCHOLOGY   \n",
              "170        6106     HEALTH AND MEDICAL PREPARATORY PROGRAMS   \n",
              "171        2303                   SCHOOL STUDENT COUNSELING   \n",
              "172        2301  EDUCATIONAL ADMINISTRATION AND SUPERVISION   \n",
              "\n",
              "                          Major_category  Grad_total  Grad_sample_size  \\\n",
              "0    Industrial Arts & Consumer Services        9173               200   \n",
              "1                                   Arts       53864               882   \n",
              "2                               Business       24417               437   \n",
              "3    Industrial Arts & Consumer Services        5411                72   \n",
              "4                Computers & Mathematics        9109               171   \n",
              "..                                   ...         ...               ...   \n",
              "168             Psychology & Social Work       51812               724   \n",
              "169             Psychology & Social Work       22716               355   \n",
              "170                               Health      114971              1766   \n",
              "171                            Education       19841               260   \n",
              "172                            Education       54159               841   \n",
              "\n",
              "     Grad_employed  Grad_full_time_year_round  Grad_unemployed  \\\n",
              "0             7098                       6511              681   \n",
              "1            40492                      29553             2482   \n",
              "2            18368                      14784             1465   \n",
              "3             3590                       2701              316   \n",
              "4             7512                       5622              466   \n",
              "..             ...                        ...              ...   \n",
              "168          38468                      28808             1420   \n",
              "169          16612                      12022              782   \n",
              "170          78132                      58825             1732   \n",
              "171          11313                       8130              613   \n",
              "172          34142                      26850              582   \n",
              "\n",
              "     Grad_unemployment_rate  Grad_median  Grad_P25  Grad_P75  Nongrad_total  \\\n",
              "0                  0.087543      75000.0     53000  110000.0          86062   \n",
              "1                  0.057756      60000.0     40000   89000.0         461977   \n",
              "2                  0.073867      65000.0     45000  100000.0         179335   \n",
              "3                  0.080901      47000.0     24500   85000.0          37575   \n",
              "4                  0.058411      57000.0     40600   83700.0          53819   \n",
              "..                      ...          ...       ...       ...            ...   \n",
              "168                0.035600      50000.0     36000   65000.0          16781   \n",
              "169                0.044958      70000.0     47000   95000.0           6519   \n",
              "170                0.021687     135000.0     70000  294000.0          26320   \n",
              "171                0.051400      56000.0     42000   70000.0           2232   \n",
              "172                0.016761      65000.0     50000   86000.0           4003   \n",
              "\n",
              "     Nongrad_employed  Nongrad_full_time_year_round  Nongrad_unemployed  \\\n",
              "0               73607                         62435                3928   \n",
              "1              347166                        250596               25484   \n",
              "2              145597                        113579                7409   \n",
              "3               29738                         23249                1661   \n",
              "4               43163                         34231                3389   \n",
              "..                ...                           ...                 ...   \n",
              "168             12377                          8502                 835   \n",
              "169              4368                          3033                 357   \n",
              "170             16221                         12185                1012   \n",
              "171              1328                           980                 169   \n",
              "172              3079                          2434                   0   \n",
              "\n",
              "     Nongrad_unemployment_rate  Nongrad_median  Nongrad_P25  Nongrad_P75  \\\n",
              "0                     0.050661         65000.0        47000      98000.0   \n",
              "1                     0.068386         48000.0        34000      71000.0   \n",
              "2                     0.048423         50000.0        35000      75000.0   \n",
              "3                     0.052900         41600.0        29000      60000.0   \n",
              "4                     0.072800         52000.0        36000      78000.0   \n",
              "..                         ...             ...          ...          ...   \n",
              "168                   0.063200         40000.0        25000      50000.0   \n",
              "169                   0.075556         46000.0        30000      70000.0   \n",
              "170                   0.058725         51000.0        35000      87000.0   \n",
              "171                   0.112892         42000.0        27000      51000.0   \n",
              "172                   0.000000         58000.0        45000      79000.0   \n",
              "\n",
              "     Grad_share  Grad_premium  \n",
              "0      0.096320      0.153846  \n",
              "1      0.104420      0.250000  \n",
              "2      0.119837      0.300000  \n",
              "3      0.125878      0.129808  \n",
              "4      0.144753      0.096154  \n",
              "..          ...           ...  \n",
              "168    0.755354      0.250000  \n",
              "169    0.777014      0.521739  \n",
              "170    0.813718      1.647059  \n",
              "171    0.898881      0.333333  \n",
              "172    0.931175      0.120690  \n",
              "\n",
              "[173 rows x 22 columns]"
            ],
            "text/html": [
              "\n",
              "  <div id=\"df-8c80cf0b-bc4d-441b-96d7-4be40713c45a\" class=\"colab-df-container\">\n",
              "    <div>\n",
              "<style scoped>\n",
              "    .dataframe tbody tr th:only-of-type {\n",
              "        vertical-align: middle;\n",
              "    }\n",
              "\n",
              "    .dataframe tbody tr th {\n",
              "        vertical-align: top;\n",
              "    }\n",
              "\n",
              "    .dataframe thead th {\n",
              "        text-align: right;\n",
              "    }\n",
              "</style>\n",
              "<table border=\"1\" class=\"dataframe\">\n",
              "  <thead>\n",
              "    <tr style=\"text-align: right;\">\n",
              "      <th></th>\n",
              "      <th>Major_code</th>\n",
              "      <th>Major</th>\n",
              "      <th>Major_category</th>\n",
              "      <th>Grad_total</th>\n",
              "      <th>Grad_sample_size</th>\n",
              "      <th>Grad_employed</th>\n",
              "      <th>Grad_full_time_year_round</th>\n",
              "      <th>Grad_unemployed</th>\n",
              "      <th>Grad_unemployment_rate</th>\n",
              "      <th>Grad_median</th>\n",
              "      <th>Grad_P25</th>\n",
              "      <th>Grad_P75</th>\n",
              "      <th>Nongrad_total</th>\n",
              "      <th>Nongrad_employed</th>\n",
              "      <th>Nongrad_full_time_year_round</th>\n",
              "      <th>Nongrad_unemployed</th>\n",
              "      <th>Nongrad_unemployment_rate</th>\n",
              "      <th>Nongrad_median</th>\n",
              "      <th>Nongrad_P25</th>\n",
              "      <th>Nongrad_P75</th>\n",
              "      <th>Grad_share</th>\n",
              "      <th>Grad_premium</th>\n",
              "    </tr>\n",
              "  </thead>\n",
              "  <tbody>\n",
              "    <tr>\n",
              "      <th>0</th>\n",
              "      <td>5601</td>\n",
              "      <td>CONSTRUCTION SERVICES</td>\n",
              "      <td>Industrial Arts &amp; Consumer Services</td>\n",
              "      <td>9173</td>\n",
              "      <td>200</td>\n",
              "      <td>7098</td>\n",
              "      <td>6511</td>\n",
              "      <td>681</td>\n",
              "      <td>0.087543</td>\n",
              "      <td>75000.0</td>\n",
              "      <td>53000</td>\n",
              "      <td>110000.0</td>\n",
              "      <td>86062</td>\n",
              "      <td>73607</td>\n",
              "      <td>62435</td>\n",
              "      <td>3928</td>\n",
              "      <td>0.050661</td>\n",
              "      <td>65000.0</td>\n",
              "      <td>47000</td>\n",
              "      <td>98000.0</td>\n",
              "      <td>0.096320</td>\n",
              "      <td>0.153846</td>\n",
              "    </tr>\n",
              "    <tr>\n",
              "      <th>1</th>\n",
              "      <td>6004</td>\n",
              "      <td>COMMERCIAL ART AND GRAPHIC DESIGN</td>\n",
              "      <td>Arts</td>\n",
              "      <td>53864</td>\n",
              "      <td>882</td>\n",
              "      <td>40492</td>\n",
              "      <td>29553</td>\n",
              "      <td>2482</td>\n",
              "      <td>0.057756</td>\n",
              "      <td>60000.0</td>\n",
              "      <td>40000</td>\n",
              "      <td>89000.0</td>\n",
              "      <td>461977</td>\n",
              "      <td>347166</td>\n",
              "      <td>250596</td>\n",
              "      <td>25484</td>\n",
              "      <td>0.068386</td>\n",
              "      <td>48000.0</td>\n",
              "      <td>34000</td>\n",
              "      <td>71000.0</td>\n",
              "      <td>0.104420</td>\n",
              "      <td>0.250000</td>\n",
              "    </tr>\n",
              "    <tr>\n",
              "      <th>2</th>\n",
              "      <td>6211</td>\n",
              "      <td>HOSPITALITY MANAGEMENT</td>\n",
              "      <td>Business</td>\n",
              "      <td>24417</td>\n",
              "      <td>437</td>\n",
              "      <td>18368</td>\n",
              "      <td>14784</td>\n",
              "      <td>1465</td>\n",
              "      <td>0.073867</td>\n",
              "      <td>65000.0</td>\n",
              "      <td>45000</td>\n",
              "      <td>100000.0</td>\n",
              "      <td>179335</td>\n",
              "      <td>145597</td>\n",
              "      <td>113579</td>\n",
              "      <td>7409</td>\n",
              "      <td>0.048423</td>\n",
              "      <td>50000.0</td>\n",
              "      <td>35000</td>\n",
              "      <td>75000.0</td>\n",
              "      <td>0.119837</td>\n",
              "      <td>0.300000</td>\n",
              "    </tr>\n",
              "    <tr>\n",
              "      <th>3</th>\n",
              "      <td>2201</td>\n",
              "      <td>COSMETOLOGY SERVICES AND CULINARY ARTS</td>\n",
              "      <td>Industrial Arts &amp; Consumer Services</td>\n",
              "      <td>5411</td>\n",
              "      <td>72</td>\n",
              "      <td>3590</td>\n",
              "      <td>2701</td>\n",
              "      <td>316</td>\n",
              "      <td>0.080901</td>\n",
              "      <td>47000.0</td>\n",
              "      <td>24500</td>\n",
              "      <td>85000.0</td>\n",
              "      <td>37575</td>\n",
              "      <td>29738</td>\n",
              "      <td>23249</td>\n",
              "      <td>1661</td>\n",
              "      <td>0.052900</td>\n",
              "      <td>41600.0</td>\n",
              "      <td>29000</td>\n",
              "      <td>60000.0</td>\n",
              "      <td>0.125878</td>\n",
              "      <td>0.129808</td>\n",
              "    </tr>\n",
              "    <tr>\n",
              "      <th>4</th>\n",
              "      <td>2001</td>\n",
              "      <td>COMMUNICATION TECHNOLOGIES</td>\n",
              "      <td>Computers &amp; Mathematics</td>\n",
              "      <td>9109</td>\n",
              "      <td>171</td>\n",
              "      <td>7512</td>\n",
              "      <td>5622</td>\n",
              "      <td>466</td>\n",
              "      <td>0.058411</td>\n",
              "      <td>57000.0</td>\n",
              "      <td>40600</td>\n",
              "      <td>83700.0</td>\n",
              "      <td>53819</td>\n",
              "      <td>43163</td>\n",
              "      <td>34231</td>\n",
              "      <td>3389</td>\n",
              "      <td>0.072800</td>\n",
              "      <td>52000.0</td>\n",
              "      <td>36000</td>\n",
              "      <td>78000.0</td>\n",
              "      <td>0.144753</td>\n",
              "      <td>0.096154</td>\n",
              "    </tr>\n",
              "    <tr>\n",
              "      <th>...</th>\n",
              "      <td>...</td>\n",
              "      <td>...</td>\n",
              "      <td>...</td>\n",
              "      <td>...</td>\n",
              "      <td>...</td>\n",
              "      <td>...</td>\n",
              "      <td>...</td>\n",
              "      <td>...</td>\n",
              "      <td>...</td>\n",
              "      <td>...</td>\n",
              "      <td>...</td>\n",
              "      <td>...</td>\n",
              "      <td>...</td>\n",
              "      <td>...</td>\n",
              "      <td>...</td>\n",
              "      <td>...</td>\n",
              "      <td>...</td>\n",
              "      <td>...</td>\n",
              "      <td>...</td>\n",
              "      <td>...</td>\n",
              "      <td>...</td>\n",
              "      <td>...</td>\n",
              "    </tr>\n",
              "    <tr>\n",
              "      <th>168</th>\n",
              "      <td>5203</td>\n",
              "      <td>COUNSELING PSYCHOLOGY</td>\n",
              "      <td>Psychology &amp; Social Work</td>\n",
              "      <td>51812</td>\n",
              "      <td>724</td>\n",
              "      <td>38468</td>\n",
              "      <td>28808</td>\n",
              "      <td>1420</td>\n",
              "      <td>0.035600</td>\n",
              "      <td>50000.0</td>\n",
              "      <td>36000</td>\n",
              "      <td>65000.0</td>\n",
              "      <td>16781</td>\n",
              "      <td>12377</td>\n",
              "      <td>8502</td>\n",
              "      <td>835</td>\n",
              "      <td>0.063200</td>\n",
              "      <td>40000.0</td>\n",
              "      <td>25000</td>\n",
              "      <td>50000.0</td>\n",
              "      <td>0.755354</td>\n",
              "      <td>0.250000</td>\n",
              "    </tr>\n",
              "    <tr>\n",
              "      <th>169</th>\n",
              "      <td>5202</td>\n",
              "      <td>CLINICAL PSYCHOLOGY</td>\n",
              "      <td>Psychology &amp; Social Work</td>\n",
              "      <td>22716</td>\n",
              "      <td>355</td>\n",
              "      <td>16612</td>\n",
              "      <td>12022</td>\n",
              "      <td>782</td>\n",
              "      <td>0.044958</td>\n",
              "      <td>70000.0</td>\n",
              "      <td>47000</td>\n",
              "      <td>95000.0</td>\n",
              "      <td>6519</td>\n",
              "      <td>4368</td>\n",
              "      <td>3033</td>\n",
              "      <td>357</td>\n",
              "      <td>0.075556</td>\n",
              "      <td>46000.0</td>\n",
              "      <td>30000</td>\n",
              "      <td>70000.0</td>\n",
              "      <td>0.777014</td>\n",
              "      <td>0.521739</td>\n",
              "    </tr>\n",
              "    <tr>\n",
              "      <th>170</th>\n",
              "      <td>6106</td>\n",
              "      <td>HEALTH AND MEDICAL PREPARATORY PROGRAMS</td>\n",
              "      <td>Health</td>\n",
              "      <td>114971</td>\n",
              "      <td>1766</td>\n",
              "      <td>78132</td>\n",
              "      <td>58825</td>\n",
              "      <td>1732</td>\n",
              "      <td>0.021687</td>\n",
              "      <td>135000.0</td>\n",
              "      <td>70000</td>\n",
              "      <td>294000.0</td>\n",
              "      <td>26320</td>\n",
              "      <td>16221</td>\n",
              "      <td>12185</td>\n",
              "      <td>1012</td>\n",
              "      <td>0.058725</td>\n",
              "      <td>51000.0</td>\n",
              "      <td>35000</td>\n",
              "      <td>87000.0</td>\n",
              "      <td>0.813718</td>\n",
              "      <td>1.647059</td>\n",
              "    </tr>\n",
              "    <tr>\n",
              "      <th>171</th>\n",
              "      <td>2303</td>\n",
              "      <td>SCHOOL STUDENT COUNSELING</td>\n",
              "      <td>Education</td>\n",
              "      <td>19841</td>\n",
              "      <td>260</td>\n",
              "      <td>11313</td>\n",
              "      <td>8130</td>\n",
              "      <td>613</td>\n",
              "      <td>0.051400</td>\n",
              "      <td>56000.0</td>\n",
              "      <td>42000</td>\n",
              "      <td>70000.0</td>\n",
              "      <td>2232</td>\n",
              "      <td>1328</td>\n",
              "      <td>980</td>\n",
              "      <td>169</td>\n",
              "      <td>0.112892</td>\n",
              "      <td>42000.0</td>\n",
              "      <td>27000</td>\n",
              "      <td>51000.0</td>\n",
              "      <td>0.898881</td>\n",
              "      <td>0.333333</td>\n",
              "    </tr>\n",
              "    <tr>\n",
              "      <th>172</th>\n",
              "      <td>2301</td>\n",
              "      <td>EDUCATIONAL ADMINISTRATION AND SUPERVISION</td>\n",
              "      <td>Education</td>\n",
              "      <td>54159</td>\n",
              "      <td>841</td>\n",
              "      <td>34142</td>\n",
              "      <td>26850</td>\n",
              "      <td>582</td>\n",
              "      <td>0.016761</td>\n",
              "      <td>65000.0</td>\n",
              "      <td>50000</td>\n",
              "      <td>86000.0</td>\n",
              "      <td>4003</td>\n",
              "      <td>3079</td>\n",
              "      <td>2434</td>\n",
              "      <td>0</td>\n",
              "      <td>0.000000</td>\n",
              "      <td>58000.0</td>\n",
              "      <td>45000</td>\n",
              "      <td>79000.0</td>\n",
              "      <td>0.931175</td>\n",
              "      <td>0.120690</td>\n",
              "    </tr>\n",
              "  </tbody>\n",
              "</table>\n",
              "<p>173 rows × 22 columns</p>\n",
              "</div>\n",
              "    <div class=\"colab-df-buttons\">\n",
              "\n",
              "  <div class=\"colab-df-container\">\n",
              "    <button class=\"colab-df-convert\" onclick=\"convertToInteractive('df-8c80cf0b-bc4d-441b-96d7-4be40713c45a')\"\n",
              "            title=\"Convert this dataframe to an interactive table.\"\n",
              "            style=\"display:none;\">\n",
              "\n",
              "  <svg xmlns=\"http://www.w3.org/2000/svg\" height=\"24px\" viewBox=\"0 -960 960 960\">\n",
              "    <path d=\"M120-120v-720h720v720H120Zm60-500h600v-160H180v160Zm220 220h160v-160H400v160Zm0 220h160v-160H400v160ZM180-400h160v-160H180v160Zm440 0h160v-160H620v160ZM180-180h160v-160H180v160Zm440 0h160v-160H620v160Z\"/>\n",
              "  </svg>\n",
              "    </button>\n",
              "\n",
              "  <style>\n",
              "    .colab-df-container {\n",
              "      display:flex;\n",
              "      gap: 12px;\n",
              "    }\n",
              "\n",
              "    .colab-df-convert {\n",
              "      background-color: #E8F0FE;\n",
              "      border: none;\n",
              "      border-radius: 50%;\n",
              "      cursor: pointer;\n",
              "      display: none;\n",
              "      fill: #1967D2;\n",
              "      height: 32px;\n",
              "      padding: 0 0 0 0;\n",
              "      width: 32px;\n",
              "    }\n",
              "\n",
              "    .colab-df-convert:hover {\n",
              "      background-color: #E2EBFA;\n",
              "      box-shadow: 0px 1px 2px rgba(60, 64, 67, 0.3), 0px 1px 3px 1px rgba(60, 64, 67, 0.15);\n",
              "      fill: #174EA6;\n",
              "    }\n",
              "\n",
              "    .colab-df-buttons div {\n",
              "      margin-bottom: 4px;\n",
              "    }\n",
              "\n",
              "    [theme=dark] .colab-df-convert {\n",
              "      background-color: #3B4455;\n",
              "      fill: #D2E3FC;\n",
              "    }\n",
              "\n",
              "    [theme=dark] .colab-df-convert:hover {\n",
              "      background-color: #434B5C;\n",
              "      box-shadow: 0px 1px 3px 1px rgba(0, 0, 0, 0.15);\n",
              "      filter: drop-shadow(0px 1px 2px rgba(0, 0, 0, 0.3));\n",
              "      fill: #FFFFFF;\n",
              "    }\n",
              "  </style>\n",
              "\n",
              "    <script>\n",
              "      const buttonEl =\n",
              "        document.querySelector('#df-8c80cf0b-bc4d-441b-96d7-4be40713c45a button.colab-df-convert');\n",
              "      buttonEl.style.display =\n",
              "        google.colab.kernel.accessAllowed ? 'block' : 'none';\n",
              "\n",
              "      async function convertToInteractive(key) {\n",
              "        const element = document.querySelector('#df-8c80cf0b-bc4d-441b-96d7-4be40713c45a');\n",
              "        const dataTable =\n",
              "          await google.colab.kernel.invokeFunction('convertToInteractive',\n",
              "                                                    [key], {});\n",
              "        if (!dataTable) return;\n",
              "\n",
              "        const docLinkHtml = 'Like what you see? Visit the ' +\n",
              "          '<a target=\"_blank\" href=https://colab.research.google.com/notebooks/data_table.ipynb>data table notebook</a>'\n",
              "          + ' to learn more about interactive tables.';\n",
              "        element.innerHTML = '';\n",
              "        dataTable['output_type'] = 'display_data';\n",
              "        await google.colab.output.renderOutput(dataTable, element);\n",
              "        const docLink = document.createElement('div');\n",
              "        docLink.innerHTML = docLinkHtml;\n",
              "        element.appendChild(docLink);\n",
              "      }\n",
              "    </script>\n",
              "  </div>\n",
              "\n",
              "\n",
              "<div id=\"df-641be2ae-6382-4e33-b018-997653624d3a\">\n",
              "  <button class=\"colab-df-quickchart\" onclick=\"quickchart('df-641be2ae-6382-4e33-b018-997653624d3a')\"\n",
              "            title=\"Suggest charts\"\n",
              "            style=\"display:none;\">\n",
              "\n",
              "<svg xmlns=\"http://www.w3.org/2000/svg\" height=\"24px\"viewBox=\"0 0 24 24\"\n",
              "     width=\"24px\">\n",
              "    <g>\n",
              "        <path d=\"M19 3H5c-1.1 0-2 .9-2 2v14c0 1.1.9 2 2 2h14c1.1 0 2-.9 2-2V5c0-1.1-.9-2-2-2zM9 17H7v-7h2v7zm4 0h-2V7h2v10zm4 0h-2v-4h2v4z\"/>\n",
              "    </g>\n",
              "</svg>\n",
              "  </button>\n",
              "\n",
              "<style>\n",
              "  .colab-df-quickchart {\n",
              "      --bg-color: #E8F0FE;\n",
              "      --fill-color: #1967D2;\n",
              "      --hover-bg-color: #E2EBFA;\n",
              "      --hover-fill-color: #174EA6;\n",
              "      --disabled-fill-color: #AAA;\n",
              "      --disabled-bg-color: #DDD;\n",
              "  }\n",
              "\n",
              "  [theme=dark] .colab-df-quickchart {\n",
              "      --bg-color: #3B4455;\n",
              "      --fill-color: #D2E3FC;\n",
              "      --hover-bg-color: #434B5C;\n",
              "      --hover-fill-color: #FFFFFF;\n",
              "      --disabled-bg-color: #3B4455;\n",
              "      --disabled-fill-color: #666;\n",
              "  }\n",
              "\n",
              "  .colab-df-quickchart {\n",
              "    background-color: var(--bg-color);\n",
              "    border: none;\n",
              "    border-radius: 50%;\n",
              "    cursor: pointer;\n",
              "    display: none;\n",
              "    fill: var(--fill-color);\n",
              "    height: 32px;\n",
              "    padding: 0;\n",
              "    width: 32px;\n",
              "  }\n",
              "\n",
              "  .colab-df-quickchart:hover {\n",
              "    background-color: var(--hover-bg-color);\n",
              "    box-shadow: 0 1px 2px rgba(60, 64, 67, 0.3), 0 1px 3px 1px rgba(60, 64, 67, 0.15);\n",
              "    fill: var(--button-hover-fill-color);\n",
              "  }\n",
              "\n",
              "  .colab-df-quickchart-complete:disabled,\n",
              "  .colab-df-quickchart-complete:disabled:hover {\n",
              "    background-color: var(--disabled-bg-color);\n",
              "    fill: var(--disabled-fill-color);\n",
              "    box-shadow: none;\n",
              "  }\n",
              "\n",
              "  .colab-df-spinner {\n",
              "    border: 2px solid var(--fill-color);\n",
              "    border-color: transparent;\n",
              "    border-bottom-color: var(--fill-color);\n",
              "    animation:\n",
              "      spin 1s steps(1) infinite;\n",
              "  }\n",
              "\n",
              "  @keyframes spin {\n",
              "    0% {\n",
              "      border-color: transparent;\n",
              "      border-bottom-color: var(--fill-color);\n",
              "      border-left-color: var(--fill-color);\n",
              "    }\n",
              "    20% {\n",
              "      border-color: transparent;\n",
              "      border-left-color: var(--fill-color);\n",
              "      border-top-color: var(--fill-color);\n",
              "    }\n",
              "    30% {\n",
              "      border-color: transparent;\n",
              "      border-left-color: var(--fill-color);\n",
              "      border-top-color: var(--fill-color);\n",
              "      border-right-color: var(--fill-color);\n",
              "    }\n",
              "    40% {\n",
              "      border-color: transparent;\n",
              "      border-right-color: var(--fill-color);\n",
              "      border-top-color: var(--fill-color);\n",
              "    }\n",
              "    60% {\n",
              "      border-color: transparent;\n",
              "      border-right-color: var(--fill-color);\n",
              "    }\n",
              "    80% {\n",
              "      border-color: transparent;\n",
              "      border-right-color: var(--fill-color);\n",
              "      border-bottom-color: var(--fill-color);\n",
              "    }\n",
              "    90% {\n",
              "      border-color: transparent;\n",
              "      border-bottom-color: var(--fill-color);\n",
              "    }\n",
              "  }\n",
              "</style>\n",
              "\n",
              "  <script>\n",
              "    async function quickchart(key) {\n",
              "      const quickchartButtonEl =\n",
              "        document.querySelector('#' + key + ' button');\n",
              "      quickchartButtonEl.disabled = true;  // To prevent multiple clicks.\n",
              "      quickchartButtonEl.classList.add('colab-df-spinner');\n",
              "      try {\n",
              "        const charts = await google.colab.kernel.invokeFunction(\n",
              "            'suggestCharts', [key], {});\n",
              "      } catch (error) {\n",
              "        console.error('Error during call to suggestCharts:', error);\n",
              "      }\n",
              "      quickchartButtonEl.classList.remove('colab-df-spinner');\n",
              "      quickchartButtonEl.classList.add('colab-df-quickchart-complete');\n",
              "    }\n",
              "    (() => {\n",
              "      let quickchartButtonEl =\n",
              "        document.querySelector('#df-641be2ae-6382-4e33-b018-997653624d3a button');\n",
              "      quickchartButtonEl.style.display =\n",
              "        google.colab.kernel.accessAllowed ? 'block' : 'none';\n",
              "    })();\n",
              "  </script>\n",
              "</div>\n",
              "\n",
              "  <div id=\"id_516aafef-c242-4329-9df2-cd9aca58f91e\">\n",
              "    <style>\n",
              "      .colab-df-generate {\n",
              "        background-color: #E8F0FE;\n",
              "        border: none;\n",
              "        border-radius: 50%;\n",
              "        cursor: pointer;\n",
              "        display: none;\n",
              "        fill: #1967D2;\n",
              "        height: 32px;\n",
              "        padding: 0 0 0 0;\n",
              "        width: 32px;\n",
              "      }\n",
              "\n",
              "      .colab-df-generate:hover {\n",
              "        background-color: #E2EBFA;\n",
              "        box-shadow: 0px 1px 2px rgba(60, 64, 67, 0.3), 0px 1px 3px 1px rgba(60, 64, 67, 0.15);\n",
              "        fill: #174EA6;\n",
              "      }\n",
              "\n",
              "      [theme=dark] .colab-df-generate {\n",
              "        background-color: #3B4455;\n",
              "        fill: #D2E3FC;\n",
              "      }\n",
              "\n",
              "      [theme=dark] .colab-df-generate:hover {\n",
              "        background-color: #434B5C;\n",
              "        box-shadow: 0px 1px 3px 1px rgba(0, 0, 0, 0.15);\n",
              "        filter: drop-shadow(0px 1px 2px rgba(0, 0, 0, 0.3));\n",
              "        fill: #FFFFFF;\n",
              "      }\n",
              "    </style>\n",
              "    <button class=\"colab-df-generate\" onclick=\"generateWithVariable('df')\"\n",
              "            title=\"Generate code using this dataframe.\"\n",
              "            style=\"display:none;\">\n",
              "\n",
              "  <svg xmlns=\"http://www.w3.org/2000/svg\" height=\"24px\"viewBox=\"0 0 24 24\"\n",
              "       width=\"24px\">\n",
              "    <path d=\"M7,19H8.4L18.45,9,17,7.55,7,17.6ZM5,21V16.75L18.45,3.32a2,2,0,0,1,2.83,0l1.4,1.43a1.91,1.91,0,0,1,.58,1.4,1.91,1.91,0,0,1-.58,1.4L9.25,21ZM18.45,9,17,7.55Zm-12,3A5.31,5.31,0,0,0,4.9,8.1,5.31,5.31,0,0,0,1,6.5,5.31,5.31,0,0,0,4.9,4.9,5.31,5.31,0,0,0,6.5,1,5.31,5.31,0,0,0,8.1,4.9,5.31,5.31,0,0,0,12,6.5,5.46,5.46,0,0,0,6.5,12Z\"/>\n",
              "  </svg>\n",
              "    </button>\n",
              "    <script>\n",
              "      (() => {\n",
              "      const buttonEl =\n",
              "        document.querySelector('#id_516aafef-c242-4329-9df2-cd9aca58f91e button.colab-df-generate');\n",
              "      buttonEl.style.display =\n",
              "        google.colab.kernel.accessAllowed ? 'block' : 'none';\n",
              "\n",
              "      buttonEl.onclick = () => {\n",
              "        google.colab.notebook.generateWithVariable('df');\n",
              "      }\n",
              "      })();\n",
              "    </script>\n",
              "  </div>\n",
              "\n",
              "    </div>\n",
              "  </div>\n"
            ],
            "application/vnd.google.colaboratory.intrinsic+json": {
              "type": "dataframe",
              "variable_name": "df"
            }
          },
          "metadata": {},
          "execution_count": 48
        }
      ],
      "source": [
        "# Set display options to show all columns\n",
        "pd.set_option('display.max_columns', None)\n",
        "\n",
        "# When you type the object name, the object gets printed.\n",
        "df"
      ]
    },
    {
      "cell_type": "markdown",
      "metadata": {
        "id": "tx98lQoCoDkO"
      },
      "source": [
        "# **INSTRUCTIONS**\n",
        "\n",
        "* Use Python to analyze the data set and complete each of the following.\n",
        "* Replace ellipsis (...) with the relavent names or code.  \n",
        "* For problems that require a written response, replace the ellipsis (...) by double clicking the text box to start typing.\n",
        "* Reference the tutorial from activity for assistance.\n",
        "* Attend office hours if you still need help."
      ]
    },
    {
      "cell_type": "markdown",
      "metadata": {
        "id": "VEm2KmlyzJGY"
      },
      "source": [
        "This assignment is intended to explore the univariate linear relationships between quantitative variables in the data. Choose the dependent and independent variables based on your last name.\n",
        "\n",
        "| Last Name | Dependent Variable (y) | Independent Variable (x) |\n",
        "|-----------|------------------------|--------------------------|\n",
        "| A-L       | Grad_median            | Grad_unemployment_rate   |\n",
        "| M-Z       | Nongrad_median         | Nongrad_unemployment_rate|\n",
        "\n",
        "\n"
      ]
    },
    {
      "cell_type": "markdown",
      "source": [
        "Based on your last name, which variable is explanatory and which is the response?\n",
        "\n",
        "Explanatory: ...\n",
        "\n",
        "Response: ..."
      ],
      "metadata": {
        "id": "7IJT3XU95gcE"
      }
    },
    {
      "cell_type": "markdown",
      "source": [
        "What do you think the direction (positive/negative) and strength (weak/moderate/strong) will be?"
      ],
      "metadata": {
        "id": "mPrSROvP5gMr"
      }
    },
    {
      "cell_type": "markdown",
      "source": [
        "# ..."
      ],
      "metadata": {
        "id": "VhMDCYnqhUOq"
      }
    },
    {
      "cell_type": "markdown",
      "metadata": {
        "id": "xkEtDHs70CzZ"
      },
      "source": [
        "# **QUESTION 1**\n",
        "\n",
        "## Scatterplot\n",
        "\n",
        "**1.1)** Construct a scatterplot that could be used to show the relationship between the variables stated above."
      ]
    },
    {
      "cell_type": "code",
      "execution_count": null,
      "metadata": {
        "id": "_YFf23s4JZlN",
        "outputId": "89271449-e523-4413-980a-8724ce05c45b",
        "colab": {
          "base_uri": "https://localhost:8080/",
          "height": 426
        }
      },
      "outputs": [
        {
          "output_type": "error",
          "ename": "ValueError",
          "evalue": "Value of 'x' is not the name of a column in 'data_frame'. Expected one of ['Major_code', 'Major', 'Major_category', 'Grad_total', 'Grad_sample_size', 'Grad_employed', 'Grad_full_time_year_round', 'Grad_unemployed', 'Grad_unemployment_rate', 'Grad_median', 'Grad_P25', 'Grad_P75', 'Nongrad_total', 'Nongrad_employed', 'Nongrad_full_time_year_round', 'Nongrad_unemployed', 'Nongrad_unemployment_rate', 'Nongrad_median', 'Nongrad_P25', 'Nongrad_P75', 'Grad_share', 'Grad_premium'] but received: ...",
          "traceback": [
            "\u001b[0;31m---------------------------------------------------------------------------\u001b[0m",
            "\u001b[0;31mValueError\u001b[0m                                Traceback (most recent call last)",
            "\u001b[0;32m<ipython-input-49-c741883f6d37>\u001b[0m in \u001b[0;36m<cell line: 3>\u001b[0;34m()\u001b[0m\n\u001b[1;32m      1\u001b[0m \u001b[0;31m# Create a scatter plot using Plotly Express\u001b[0m\u001b[0;34m\u001b[0m\u001b[0;34m\u001b[0m\u001b[0m\n\u001b[1;32m      2\u001b[0m \u001b[0;31m# STUDENTS: replace ... as stated\u001b[0m\u001b[0;34m\u001b[0m\u001b[0;34m\u001b[0m\u001b[0m\n\u001b[0;32m----> 3\u001b[0;31m scatter_plot = px.scatter(df,\n\u001b[0m\u001b[1;32m      4\u001b[0m                  \u001b[0;31m# Replace ... with the explanatory variable name\u001b[0m\u001b[0;34m\u001b[0m\u001b[0;34m\u001b[0m\u001b[0m\n\u001b[1;32m      5\u001b[0m                  \u001b[0mx\u001b[0m\u001b[0;34m=\u001b[0m\u001b[0;34m'...'\u001b[0m\u001b[0;34m,\u001b[0m\u001b[0;34m\u001b[0m\u001b[0;34m\u001b[0m\u001b[0m\n",
            "\u001b[0;32m/usr/local/lib/python3.10/dist-packages/plotly/express/_chart_types.py\u001b[0m in \u001b[0;36mscatter\u001b[0;34m(data_frame, x, y, color, symbol, size, hover_name, hover_data, custom_data, text, facet_row, facet_col, facet_col_wrap, facet_row_spacing, facet_col_spacing, error_x, error_x_minus, error_y, error_y_minus, animation_frame, animation_group, category_orders, labels, orientation, color_discrete_sequence, color_discrete_map, color_continuous_scale, range_color, color_continuous_midpoint, symbol_sequence, symbol_map, opacity, size_max, marginal_x, marginal_y, trendline, trendline_options, trendline_color_override, trendline_scope, log_x, log_y, range_x, range_y, render_mode, title, template, width, height)\u001b[0m\n\u001b[1;32m     64\u001b[0m     \u001b[0mmark\u001b[0m \u001b[0;32min\u001b[0m \u001b[0;36m2\u001b[0m\u001b[0mD\u001b[0m \u001b[0mspace\u001b[0m\u001b[0;34m.\u001b[0m\u001b[0;34m\u001b[0m\u001b[0;34m\u001b[0m\u001b[0m\n\u001b[1;32m     65\u001b[0m     \"\"\"\n\u001b[0;32m---> 66\u001b[0;31m     \u001b[0;32mreturn\u001b[0m \u001b[0mmake_figure\u001b[0m\u001b[0;34m(\u001b[0m\u001b[0margs\u001b[0m\u001b[0;34m=\u001b[0m\u001b[0mlocals\u001b[0m\u001b[0;34m(\u001b[0m\u001b[0;34m)\u001b[0m\u001b[0;34m,\u001b[0m \u001b[0mconstructor\u001b[0m\u001b[0;34m=\u001b[0m\u001b[0mgo\u001b[0m\u001b[0;34m.\u001b[0m\u001b[0mScatter\u001b[0m\u001b[0;34m)\u001b[0m\u001b[0;34m\u001b[0m\u001b[0;34m\u001b[0m\u001b[0m\n\u001b[0m\u001b[1;32m     67\u001b[0m \u001b[0;34m\u001b[0m\u001b[0m\n\u001b[1;32m     68\u001b[0m \u001b[0;34m\u001b[0m\u001b[0m\n",
            "\u001b[0;32m/usr/local/lib/python3.10/dist-packages/plotly/express/_core.py\u001b[0m in \u001b[0;36mmake_figure\u001b[0;34m(args, constructor, trace_patch, layout_patch)\u001b[0m\n\u001b[1;32m   2115\u001b[0m     \u001b[0mapply_default_cascade\u001b[0m\u001b[0;34m(\u001b[0m\u001b[0margs\u001b[0m\u001b[0;34m)\u001b[0m\u001b[0;34m\u001b[0m\u001b[0;34m\u001b[0m\u001b[0m\n\u001b[1;32m   2116\u001b[0m \u001b[0;34m\u001b[0m\u001b[0m\n\u001b[0;32m-> 2117\u001b[0;31m     \u001b[0margs\u001b[0m \u001b[0;34m=\u001b[0m \u001b[0mbuild_dataframe\u001b[0m\u001b[0;34m(\u001b[0m\u001b[0margs\u001b[0m\u001b[0;34m,\u001b[0m \u001b[0mconstructor\u001b[0m\u001b[0;34m)\u001b[0m\u001b[0;34m\u001b[0m\u001b[0;34m\u001b[0m\u001b[0m\n\u001b[0m\u001b[1;32m   2118\u001b[0m     \u001b[0;32mif\u001b[0m \u001b[0mconstructor\u001b[0m \u001b[0;32min\u001b[0m \u001b[0;34m[\u001b[0m\u001b[0mgo\u001b[0m\u001b[0;34m.\u001b[0m\u001b[0mTreemap\u001b[0m\u001b[0;34m,\u001b[0m \u001b[0mgo\u001b[0m\u001b[0;34m.\u001b[0m\u001b[0mSunburst\u001b[0m\u001b[0;34m,\u001b[0m \u001b[0mgo\u001b[0m\u001b[0;34m.\u001b[0m\u001b[0mIcicle\u001b[0m\u001b[0;34m]\u001b[0m \u001b[0;32mand\u001b[0m \u001b[0margs\u001b[0m\u001b[0;34m[\u001b[0m\u001b[0;34m\"path\"\u001b[0m\u001b[0;34m]\u001b[0m \u001b[0;32mis\u001b[0m \u001b[0;32mnot\u001b[0m \u001b[0;32mNone\u001b[0m\u001b[0;34m:\u001b[0m\u001b[0;34m\u001b[0m\u001b[0;34m\u001b[0m\u001b[0m\n\u001b[1;32m   2119\u001b[0m         \u001b[0margs\u001b[0m \u001b[0;34m=\u001b[0m \u001b[0mprocess_dataframe_hierarchy\u001b[0m\u001b[0;34m(\u001b[0m\u001b[0margs\u001b[0m\u001b[0;34m)\u001b[0m\u001b[0;34m\u001b[0m\u001b[0;34m\u001b[0m\u001b[0m\n",
            "\u001b[0;32m/usr/local/lib/python3.10/dist-packages/plotly/express/_core.py\u001b[0m in \u001b[0;36mbuild_dataframe\u001b[0;34m(args, constructor)\u001b[0m\n\u001b[1;32m   1511\u001b[0m     \u001b[0;31m# now that things have been prepped, we do the systematic rewriting of `args`\u001b[0m\u001b[0;34m\u001b[0m\u001b[0;34m\u001b[0m\u001b[0m\n\u001b[1;32m   1512\u001b[0m \u001b[0;34m\u001b[0m\u001b[0m\n\u001b[0;32m-> 1513\u001b[0;31m     df_output, wide_id_vars = process_args_into_dataframe(\n\u001b[0m\u001b[1;32m   1514\u001b[0m         \u001b[0margs\u001b[0m\u001b[0;34m,\u001b[0m \u001b[0mwide_mode\u001b[0m\u001b[0;34m,\u001b[0m \u001b[0mvar_name\u001b[0m\u001b[0;34m,\u001b[0m \u001b[0mvalue_name\u001b[0m\u001b[0;34m\u001b[0m\u001b[0;34m\u001b[0m\u001b[0m\n\u001b[1;32m   1515\u001b[0m     )\n",
            "\u001b[0;32m/usr/local/lib/python3.10/dist-packages/plotly/express/_core.py\u001b[0m in \u001b[0;36mprocess_args_into_dataframe\u001b[0;34m(args, wide_mode, var_name, value_name)\u001b[0m\n\u001b[1;32m   1232\u001b[0m                         \u001b[0;32mif\u001b[0m \u001b[0margument\u001b[0m \u001b[0;34m==\u001b[0m \u001b[0;34m\"index\"\u001b[0m\u001b[0;34m:\u001b[0m\u001b[0;34m\u001b[0m\u001b[0;34m\u001b[0m\u001b[0m\n\u001b[1;32m   1233\u001b[0m                             \u001b[0merr_msg\u001b[0m \u001b[0;34m+=\u001b[0m \u001b[0;34m\"\\n To use the index, pass it in directly as `df.index`.\"\u001b[0m\u001b[0;34m\u001b[0m\u001b[0;34m\u001b[0m\u001b[0m\n\u001b[0;32m-> 1234\u001b[0;31m                         \u001b[0;32mraise\u001b[0m \u001b[0mValueError\u001b[0m\u001b[0;34m(\u001b[0m\u001b[0merr_msg\u001b[0m\u001b[0;34m)\u001b[0m\u001b[0;34m\u001b[0m\u001b[0;34m\u001b[0m\u001b[0m\n\u001b[0m\u001b[1;32m   1235\u001b[0m                 \u001b[0;32melif\u001b[0m \u001b[0mlength\u001b[0m \u001b[0;32mand\u001b[0m \u001b[0mlen\u001b[0m\u001b[0;34m(\u001b[0m\u001b[0mdf_input\u001b[0m\u001b[0;34m[\u001b[0m\u001b[0margument\u001b[0m\u001b[0;34m]\u001b[0m\u001b[0;34m)\u001b[0m \u001b[0;34m!=\u001b[0m \u001b[0mlength\u001b[0m\u001b[0;34m:\u001b[0m\u001b[0;34m\u001b[0m\u001b[0;34m\u001b[0m\u001b[0m\n\u001b[1;32m   1236\u001b[0m                     raise ValueError(\n",
            "\u001b[0;31mValueError\u001b[0m: Value of 'x' is not the name of a column in 'data_frame'. Expected one of ['Major_code', 'Major', 'Major_category', 'Grad_total', 'Grad_sample_size', 'Grad_employed', 'Grad_full_time_year_round', 'Grad_unemployed', 'Grad_unemployment_rate', 'Grad_median', 'Grad_P25', 'Grad_P75', 'Nongrad_total', 'Nongrad_employed', 'Nongrad_full_time_year_round', 'Nongrad_unemployed', 'Nongrad_unemployment_rate', 'Nongrad_median', 'Nongrad_P25', 'Nongrad_P75', 'Grad_share', 'Grad_premium'] but received: ..."
          ]
        }
      ],
      "source": [
        "# Create a scatter plot using Plotly Express\n",
        "\n",
        "                                                          # STUDENTS: replace ... as stated\n",
        "scatter_plot = px.scatter(df,\n",
        "                 x='...',                                 # Replace ... with the explanatory variable name\n",
        "                 y='...',                                 # Replace ... with the response variable name\n",
        "                 labels={'Grad_unemployment_rate': '...', # Replace ... with a better x-axis label\n",
        "                         'Grad_median': '...'})           # Replace ... with a better y-axis label\n",
        "\n",
        "# Updating layout\n",
        "# STUDENTS: Do not change anything in this block of code.\n",
        "scatter_plot.update_layout(\n",
        "    plot_bgcolor='rgba(255,255,255,1)',        # Sets the background color of the plot area to white with full opacity.\n",
        "    xaxis=dict(\n",
        "        showline=True,                         # Displays a line on the x-axis.\n",
        "        showgrid=False,                        # Hides the grid lines on the x-axis.\n",
        "        linecolor='black'                      # Sets the color of the x-axis line to black.\n",
        "    ),\n",
        "    yaxis=dict(\n",
        "        showline=True,                         # Displays a line on the y-axis.\n",
        "        showgrid=False,                        # Hides the grid lines on the y-axis.\n",
        "        linecolor='black'                      # Sets the color of the y-axis line to black.\n",
        "    ),\n",
        "    title={\n",
        "        'text': 'Scatter Plot',                # Sets the title text.\n",
        "        'y': 0.9,                              # Positions the title 90% of the way up the plot.\n",
        "        'x': 0.5,                              # Centers the title horizontally.\n",
        "        'xanchor': 'center',                   # Anchors the title at its center on the x-axis.\n",
        "        'yanchor': 'top',                      # Anchors the title at the top on the y-axis.\n",
        "        'font': dict(\n",
        "            size=16                            # Sets the title font size to 16 (smaller than default).\n",
        "        ),\n",
        "    },\n",
        "    width=575,                                 # Sets the width of the plot.\n",
        "    height=400                                 # Sets the height of the plot for portrait mode.\n",
        ")\n",
        "\n",
        "# Show the plot\n",
        "scatter_plot.show()"
      ]
    },
    {
      "cell_type": "markdown",
      "source": [
        "**1.2)** Describe the relationship between the two variables and include context, and identify the direction, strength, and form. Since you don't yet know the value of correlation (r), estimate what you think the strength is (weak/moderate/strong).\n"
      ],
      "metadata": {
        "id": "J6CcvV0H4iZC"
      }
    },
    {
      "cell_type": "markdown",
      "source": [
        "# ..."
      ],
      "metadata": {
        "id": "sLhq_MUy6_f9"
      }
    },
    {
      "cell_type": "markdown",
      "source": [
        "**1.3)** Is this what you expected?\n"
      ],
      "metadata": {
        "id": "dYiqZ-N76ytU"
      }
    },
    {
      "cell_type": "markdown",
      "source": [
        "# ..."
      ],
      "metadata": {
        "id": "Umgm-Xgt64ZK"
      }
    },
    {
      "cell_type": "markdown",
      "metadata": {
        "id": "Hjz7Oc8N0acy"
      },
      "source": [
        "# **Question 2**\n",
        "## Correlation Coefficient\n",
        "\n",
        "**2.1)** Calculate the value of the correlation coefficient."
      ]
    },
    {
      "cell_type": "code",
      "execution_count": null,
      "metadata": {
        "id": "jzxH_zSaJZlN"
      },
      "outputs": [],
      "source": [
        "# Calculate the correlation coefficient\n",
        "\n",
        "# STUDENTS: Replace ... as stated\n",
        "# Replace the 1st ... with the response variable name.\n",
        "# Replace the 2nd ... with the explanatory variable name\n",
        "correlation = df['...'].corr(df['...'])\n",
        "\n",
        "# Print the correlation coefficient\n",
        "print(f\"Correlation coefficient between your two variables is: r = {correlation}\")"
      ]
    },
    {
      "cell_type": "markdown",
      "source": [
        "**2.2)** Interpret the correlation coefficient.\n"
      ],
      "metadata": {
        "id": "G94sREeexV_s"
      }
    },
    {
      "cell_type": "markdown",
      "source": [
        "# ..."
      ],
      "metadata": {
        "id": "2XP_eaypUzYO"
      }
    },
    {
      "cell_type": "markdown",
      "source": [
        "**2.3)** Now that you know the value of correlation, r, did the strength match what you wrote in 1.2?"
      ],
      "metadata": {
        "id": "p-HHBh935uGw"
      }
    },
    {
      "cell_type": "markdown",
      "source": [
        "# ..."
      ],
      "metadata": {
        "id": "_VY68TuH596l"
      }
    },
    {
      "cell_type": "markdown",
      "metadata": {
        "id": "ad-a9eAuJZlN"
      },
      "source": [
        "# **Question 3**\n",
        "\n",
        "## Least Squares Regression\n",
        "\n",
        "**3.1)** Calculate the linear model and add the regression line to the scatterplot.\n"
      ]
    },
    {
      "cell_type": "code",
      "execution_count": null,
      "metadata": {
        "id": "5Cejhxq9JZlN"
      },
      "outputs": [],
      "source": [
        "# Calculate the LSRL and add the regression line to the scatterplot.\n",
        "\n",
        "# Extract the variables from the dataframe\n",
        "                   # STUDENTS: Replace ... as stated below.\n",
        "X = df['...']      # Replace ... with the explantory variable name\n",
        "Y = df['...']      # Replace ... with the response variable name\n",
        "\n",
        "# Add a constant to the explanatory variable for the regression model.\n",
        "# This forces Statsmodels to calculate the y-intercept.\n",
        "# STUDENTS: Do not change anything in this block of code.\n",
        "X_with_const = sm.add_constant(X)\n",
        "\n",
        "# Fit the linear regression model (calculate slope and y-intercept)\n",
        "# STUDENTS: Do not change anything in this block of code.\n",
        "model = sm.OLS(Y, X_with_const).fit()\n",
        "\n",
        "# Recreate the scatterplot\n",
        "                                                          # STUDENTS: Replace ... as stated to the right below.\n",
        "scatter_plot = px.scatter(df,\n",
        "                 x='...',                                 # Replace ... with the explanatory variable name\n",
        "                 y='...',                                 # Replace ... with the response variable name\n",
        "                 labels={'Grad_unemployment_rate': '...', # Replace ... with a better x-axis label\n",
        "                         'Grad_median': '...'})           # Replace ... with a better y-axis label\n",
        "\n",
        "# Updating layout\n",
        "# STUDENTS: Do not change anything in this block of code.\n",
        "scatter_plot.update_layout(\n",
        "    plot_bgcolor='rgba(255,255,255,1)',        # Sets the background color of the plot area to white with full opacity.\n",
        "    xaxis=dict(\n",
        "        showline=True,                         # Displays a line on the x-axis.\n",
        "        showgrid=False,                        # Hides the grid lines on the x-axis.\n",
        "        linecolor='black'                      # Sets the color of the x-axis line to black.\n",
        "    ),\n",
        "    yaxis=dict(\n",
        "        showline=True,                         # Displays a line on the y-axis.\n",
        "        showgrid=False,                        # Hides the grid lines on the y-axis.\n",
        "        linecolor='black'                      # Sets the color of the y-axis line to black.\n",
        "    ),\n",
        "    title={\n",
        "        'text': 'Scatter Plot',                # Sets the title text.\n",
        "        'y': 0.9,                              # Positions the title 90% of the way up the plot.\n",
        "        'x': 0.5,                              # Centers the title horizontally.\n",
        "        'xanchor': 'center',                   # Anchors the title at its center on the x-axis.\n",
        "        'yanchor': 'top',                      # Anchors the title at the top on the y-axis.\n",
        "        'font': dict(\n",
        "            size=16                            # Sets the title font size to 16 (smaller than default).\n",
        "        ),\n",
        "    },\n",
        "    width=600,                                 # Sets the width of the plot.\n",
        "    height=400,                                # Sets the height of the plot for portrait mode.\n",
        "    showlegend=False                           # Disables the legend (key) display\n",
        ")\n",
        "\n",
        "# Add the regression line to the scatterplot\n",
        "scatter_plot.add_scatter(x=X, y=model.predict(X_with_const),\n",
        "                         mode='lines', name='Regression Line')\n",
        "\n",
        "# Show the plot\n",
        "scatter_plot.show()"
      ]
    },
    {
      "cell_type": "markdown",
      "source": [
        "**3.2)** Print the coefficients (Intercept and Slope)\n",
        "\n"
      ],
      "metadata": {
        "id": "nax0a4z8XMnM"
      }
    },
    {
      "cell_type": "code",
      "execution_count": null,
      "metadata": {
        "id": "R32idO3eJZlO"
      },
      "outputs": [],
      "source": [
        "# Print the coefficients (Intercept and Slope)\n",
        "\n",
        "# STUDENTS: Do not change the code below.\n",
        "# The coefficients were calculated when the regression line was added to the\n",
        "# scatterplot and stored in 'model'. This assigns the values of the y-intercept\n",
        "# and slope to 'coefficients', then prints the values.\n",
        "coefficients = model.params\n",
        "coefficients.name='Coefficients'\n",
        "coefficients\n"
      ]
    },
    {
      "cell_type": "markdown",
      "source": [
        "**3.3)** Write the equation of the line that predicts waist circumference from BMI. To type 𝑦̂ you can copy-and-paste the symbol, or type “y-hat” or “predicted y”. Do NOT round.\n",
        "\n"
      ],
      "metadata": {
        "id": "vUqyqdVkpWXh"
      }
    },
    {
      "cell_type": "markdown",
      "source": [
        "# ..."
      ],
      "metadata": {
        "id": "xB3Zd_wgpeCT"
      }
    },
    {
      "cell_type": "markdown",
      "metadata": {
        "id": "BdkQcF691E74"
      },
      "source": [
        "# **Question 4**\n",
        "## Slope\n",
        "Interpret the slope\n"
      ]
    },
    {
      "cell_type": "markdown",
      "source": [
        "# ..."
      ],
      "metadata": {
        "id": "Fe3k06NdqCck"
      }
    },
    {
      "cell_type": "markdown",
      "metadata": {
        "id": "A2uHwoKa0a1Y"
      },
      "source": [
        "# **QUESTION 5**\n",
        "## Y-Intercept\n",
        "\n",
        "Interpret the y-intercept of the least squares regression line in the context of this study. State whether the interpretation is reasonable."
      ]
    },
    {
      "cell_type": "markdown",
      "source": [
        "# ..."
      ],
      "metadata": {
        "id": "8DudqX253sIt"
      }
    },
    {
      "cell_type": "markdown",
      "metadata": {
        "id": "rCJ442hvJZlO"
      },
      "source": [
        "# **Question 6**\n",
        "## Prediction\n",
        "\n",
        "The values in the table below show the median salary for graduates (A-L) and non-graduates (M-Z) for Criminology majors.\n",
        "\n",
        "Show work to predict the value of your dependent variable for Criminology majors using the actual value of the independent variable shown in the table below. Round to two (2) decimal places.\n",
        "\n",
        "| Last Name      | Independent Variable (x)                |\n",
        "|----------------|----------------------------------------|\n",
        "| **A-L**        | `Grad_unemployment_rate` = 0.045299817 |\n",
        "| **M-Z**        | `Nongrad_unemployment_rate` = 0.056334794 |\n"
      ]
    },
    {
      "cell_type": "markdown",
      "source": [
        "# ..."
      ],
      "metadata": {
        "id": "aRdqToAPr2h1"
      }
    },
    {
      "cell_type": "markdown",
      "source": [
        "# **Question 7**\n",
        "## Compare\n",
        "**7.1)** Look up the actual value of your dependent variable for the value of the independent variable above. We know it is for Criminology majors, but be sure to type in the value of the independent variable listed in Question 6 in the code below."
      ],
      "metadata": {
        "id": "iimd7jPr6o_G"
      }
    },
    {
      "cell_type": "code",
      "execution_count": null,
      "metadata": {
        "id": "D9yVbei2JZlO"
      },
      "outputs": [],
      "source": [
        "# Filter the datafram to find the row where your independent variable\n",
        "#   equals the value from the table in Question 6.\n",
        "\n",
        "# STUDENTS:\n",
        "# Replace the 1st ... with the explantory variable name\n",
        "# Replace the 2nd ... with the value from the table in Question 6\n",
        "# Replace the 3rd ... with the response variable name\n",
        "actual_dependent = df[df['...']== ...]['...']\n",
        "\n",
        "actual = int(actual_dependent.values[0])\n",
        "print(f\"The actual value of the dependent variable is: ${actual}\")\n"
      ]
    },
    {
      "cell_type": "markdown",
      "source": [
        "**7.2)** Compare the predicted value of your dependent variable from Question 6 to the actual value from 7.1. Use the actual name of your dependent variable, as modeled in activity.\n"
      ],
      "metadata": {
        "id": "kkZ4dF--99LC"
      }
    },
    {
      "cell_type": "markdown",
      "source": [
        "# ..."
      ],
      "metadata": {
        "id": "i7tnZsWwCHul"
      }
    },
    {
      "cell_type": "markdown",
      "source": [
        "# **QUESTION 8**\n",
        "\n",
        "Generate a paragraph of at least 100 words to address one of the following questions. That is, answer only 8a or 8b, but not both.\n",
        "\n",
        "**8a)** Discuss how analyzing your chosen data set using statistical methods could help you become better prepared for future courses in your major?\n",
        "\n",
        "# ...\n",
        "\n",
        "--OR--\n",
        "\n",
        "**8b)** Discuss how analyzing your chosen data set using statistical methods could be instrumental in becoming better prepared for your future career?\n",
        "\n",
        "# ...\n"
      ],
      "metadata": {
        "id": "A4rsfgbp6r6H"
      }
    },
    {
      "cell_type": "markdown",
      "source": [
        "<br><br>\n",
        "### Once you are done and ready to submit, follow the instructions below to save as a PDF and submit to GradeScope.\n",
        "\n",
        "### Save as PDF\n",
        "Note 1: You do not have to select Print Preview. You can print directly from the notebook.\n",
        "Note 2: Image and graph sizes have been set so you should be able to see them correctly without making any changes to the browser width or the layout (portrait vs landscape).\n",
        "1. Run all code one last time and make sure your graphs can be seen.\n",
        "2. File -> Print (or ctrl-p/cmnd-p)\n",
        "3. Change the \"Desination\" to PDF.\n",
        "4. Save the PDF, taking note of where it is saved.\n",
        "\n",
        "### Submit to GradeScope\n",
        "**Watch the \"GradeScope Submission\" video for help.**\n",
        "1. Login to the Canvas course\n",
        "2. Click on GradeScope in the course navigation.\n",
        "3. If you see multiple courses in GradeScope, click on the STAT 108 course\n",
        "4. Click on the name of the assignment that matches your data set\n",
        "5. Click on \"Submit Work\", select PDF\n",
        "6. Select the PDF you just created\n",
        "7. You need to tell GradeScope which page each problem answer/output is on. You should see a list of problems on the left, and a display of pages (thumbnails) on the right. Assign pages to questions by clicking on the question number on the left, then clicking on all pages that question is on.\n",
        "8. After ALL questions have been assigned to their respective page(s), click \"Submit\"\n",
        "\n",
        "#### **Still need help? Your STAT 108 team is here to help. Take your laptop to office hours.**\n"
      ],
      "metadata": {
        "id": "KHSYrvqh66V6"
      }
    }
  ],
  "metadata": {
    "colab": {
      "provenance": []
    },
    "kernelspec": {
      "display_name": "Python 3",
      "name": "python3"
    },
    "language_info": {
      "codemirror_mode": {
        "name": "ipython",
        "version": 3
      },
      "file_extension": ".py",
      "mimetype": "text/x-python",
      "name": "python",
      "nbconvert_exporter": "python",
      "pygments_lexer": "ipython3",
      "version": "3.11.4"
    }
  },
  "nbformat": 4,
  "nbformat_minor": 0
}