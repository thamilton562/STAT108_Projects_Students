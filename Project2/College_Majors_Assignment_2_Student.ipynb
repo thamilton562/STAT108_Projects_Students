{
  "cells": [
    {
      "cell_type": "markdown",
      "metadata": {
        "id": "WOWuLyetinsJ"
      },
      "source": [
        "# **Guide to Picking a College Major - Project 2**\n",
        "### Analyzing the linear relationship between two quantitative variables."
      ]
    },
    {
      "cell_type": "markdown",
      "metadata": {
        "id": "AxPB-FE5lQIX"
      },
      "source": [
        "#**Importing Necessary Python Modules**\n",
        "\n",
        "Python incorporates a variety of open source add-ins called **modules** that enable us to be able to"
      ]
    },
    {
      "cell_type": "code",
      "execution_count": 30,
      "metadata": {
        "id": "DIbfBAiwmTlf"
      },
      "outputs": [],
      "source": [
        "import pandas as pd\n",
        "import numpy as np\n",
        "import plotly.express as px\n",
        "from IPython.display import Image\n",
        "import statsmodels.api as sm"
      ]
    },
    {
      "cell_type": "code",
      "execution_count": 31,
      "metadata": {
        "colab": {
          "base_uri": "https://localhost:8080/",
          "height": 421
        },
        "id": "oJft7wQooCFx",
        "outputId": "c50567d2-d375-413b-c72c-799206e145c9"
      },
      "outputs": [
        {
          "output_type": "execute_result",
          "data": {
            "text/html": [
              "<img src=\"https://media.istockphoto.com/id/1470208665/photo/multi-ethnic-group-of-latin-and-african-american-college-students-smiling-diversity-portrait.jpg?s=2048x2048&w=is&k=20&c=zicp2F74iFTRKjJUwFBgs_Mb_Xd5vvkvdmYSVoekb1I=\" width=\"600\" height=\"400\"/>"
            ],
            "text/plain": [
              "<IPython.core.display.Image object>"
            ]
          },
          "metadata": {},
          "execution_count": 31
        }
      ],
      "source": [
        "# Assigns the URL of the image to display to the name 'image_url'.\n",
        "image_url = 'https://media.istockphoto.com/id/1470208665/photo/multi-ethnic-group-of-latin-and-african-american-college-students-smiling-diversity-portrait.jpg?s=2048x2048&w=is&k=20&c=zicp2F74iFTRKjJUwFBgs_Mb_Xd5vvkvdmYSVoekb1I='\n",
        "\n",
        "# Display the image\n",
        "Image(url=image_url, width=600, height=400)\n"
      ]
    },
    {
      "cell_type": "markdown",
      "metadata": {
        "id": "XJjnfq1hitm8"
      },
      "source": [
        "#**Context**\n",
        "\n",
        "The webiste FiveThirtyEight.com published an article, *The Economic Guide To Picking A College Major*, in 2014 which looked at the earnings of verious college majors. The data analyzed by the author, Ben Casselman, came from the American Community Survey (ACS) 2010-2012 Public Use Microdata Series (PUMS). According to their website, the ACS, part of the U.S. Census Bureau, \"is the premier source for detailed population and housing information in our nation.\"\n",
        "\n",
        "With this dataset, you have the power to explore college programs and their graduates like never before and create stories of your own!\n",
        "\n",
        "https://fivethirtyeight.com/features/the-economic-guide-to-picking-a-college-major/\n",
        "\n",
        "https://www.census.gov/programs-surveys/acs"
      ]
    },
    {
      "cell_type": "markdown",
      "metadata": {
        "id": "bQfu7EYxi7Md"
      },
      "source": [
        "#**About the Dataset**\n",
        "\n",
        "This dataset contains 172 rows corresponding to a random sample of people with at least some college education. The data consists of one identifier variable, index, and 22 other variables associated with 172 college majors. Descriptions of the variables are listed below:"
      ]
    },
    {
      "cell_type": "markdown",
      "metadata": {
        "id": "XusIoTTPjC87"
      },
      "source": [
        "**Variables**\n",
        "\n",
        "| Column name                 | Description                                                |\n",
        "|-----------------------------|------------------------------------------------------------|\n",
        "| Index                       | A number assigned to an individual                         |\n",
        "| Major_code                  | The code associated with the major (Integer)               |\n",
        "| Major                       | The specific major of the field of study (String)          |\n",
        "| Major_category              | The category of the major (String)                         |\n",
        "| Grad_total                  | The total number of graduates from the major (Integer)     |\n",
        "| Grad_sample_size            | The sample size of graduates from the major (Integer)      |\n",
        "| Grad_employed               | The number of graduates employed (Integer)                 |\n",
        "| Grad_full_time_year_round   | The number of graduates employed full-time year-round (Integer) |\n",
        "| Grad_unemployed             | The number of graduates unemployed (Integer)               |\n",
        "| Grad_unemployment_rate      | The unemployment rate of graduates (Float)                 |\n",
        "| Grad_median                 | The median salary of graduates (Integer)                   |\n",
        "| Grad_P25                    | The 25th percentile salary of graduates (Integer)          |\n",
        "| Grad_P75                    | The 75th percentile salary of graduates (Integer)          |\n",
        "| Nongrad_total               | The total number of non-graduates from the major (Integer) |\n",
        "| Nongrad_employed            | The number of non-graduates employed (Integer)             |\n",
        "| Nongrad_full_time_year_round| The number of non-graduates employed full-time year-round (Integer) |\n",
        "| Nongrad_unemployed          | The number of non-graduates unemployed (Integer)           |\n",
        "| Nongrad_unemployment_rate   | The unemployment rate of non-graduates (Float)             |\n",
        "| Nongrad_median              | The median salary of non-graduates (Integer)               |\n",
        "| Nongrad_P25                 | The 25th percentile salary of non-graduates (Integer)      |\n",
        "| Nongrad_P75                 | The 75th percentile salary of non-graduates (Integer)      |\n",
        "| Grad_share                  | The share of graduates in the major (Float)                |\n",
        "| Grad_premium                | The difference between the median salary of graduates and non-graduates (Integer) |\n"
      ]
    },
    {
      "cell_type": "markdown",
      "metadata": {
        "id": "dzjbhJhzktKp"
      },
      "source": [
        "# **A Snippet of the Data**"
      ]
    },
    {
      "cell_type": "markdown",
      "metadata": {
        "id": "C7rwsCbWcrXi"
      },
      "source": [
        "Let's take a look at the data. To do this, first we import it directly from the url."
      ]
    },
    {
      "cell_type": "code",
      "execution_count": 32,
      "metadata": {
        "id": "1RtdwLBwidY4"
      },
      "outputs": [],
      "source": [
        "# Assigns the URL containing the data file to 'file_path'.\n",
        "file_path = \"https://raw.githubusercontent.com/fivethirtyeight/data/master/college-majors/grad-students.csv\"\n",
        "\n",
        "# Reads in the CSV data file and assigns it to the DataFrame 'df'.\n",
        "df = pd.read_csv(file_path)\n"
      ]
    },
    {
      "cell_type": "markdown",
      "metadata": {
        "id": "cj8T9vdrimYo"
      },
      "source": [
        "Next, we can display the data by typing the name of the DataFrame. To ensure we can see all columns, we'll use the *pd.set_option* method."
      ]
    },
    {
      "cell_type": "code",
      "execution_count": 33,
      "metadata": {
        "colab": {
          "base_uri": "https://localhost:8080/",
          "height": 774
        },
        "id": "YT5tP1d8pQli",
        "outputId": "1524122f-5a98-454b-e6cc-1294a3d3ef6e"
      },
      "outputs": [
        {
          "output_type": "execute_result",
          "data": {
            "text/plain": [
              "     Major_code                                       Major  \\\n",
              "0          5601                       CONSTRUCTION SERVICES   \n",
              "1          6004           COMMERCIAL ART AND GRAPHIC DESIGN   \n",
              "2          6211                      HOSPITALITY MANAGEMENT   \n",
              "3          2201      COSMETOLOGY SERVICES AND CULINARY ARTS   \n",
              "4          2001                  COMMUNICATION TECHNOLOGIES   \n",
              "..          ...                                         ...   \n",
              "168        5203                       COUNSELING PSYCHOLOGY   \n",
              "169        5202                         CLINICAL PSYCHOLOGY   \n",
              "170        6106     HEALTH AND MEDICAL PREPARATORY PROGRAMS   \n",
              "171        2303                   SCHOOL STUDENT COUNSELING   \n",
              "172        2301  EDUCATIONAL ADMINISTRATION AND SUPERVISION   \n",
              "\n",
              "                          Major_category  Grad_total  Grad_sample_size  \\\n",
              "0    Industrial Arts & Consumer Services        9173               200   \n",
              "1                                   Arts       53864               882   \n",
              "2                               Business       24417               437   \n",
              "3    Industrial Arts & Consumer Services        5411                72   \n",
              "4                Computers & Mathematics        9109               171   \n",
              "..                                   ...         ...               ...   \n",
              "168             Psychology & Social Work       51812               724   \n",
              "169             Psychology & Social Work       22716               355   \n",
              "170                               Health      114971              1766   \n",
              "171                            Education       19841               260   \n",
              "172                            Education       54159               841   \n",
              "\n",
              "     Grad_employed  Grad_full_time_year_round  Grad_unemployed  \\\n",
              "0             7098                       6511              681   \n",
              "1            40492                      29553             2482   \n",
              "2            18368                      14784             1465   \n",
              "3             3590                       2701              316   \n",
              "4             7512                       5622              466   \n",
              "..             ...                        ...              ...   \n",
              "168          38468                      28808             1420   \n",
              "169          16612                      12022              782   \n",
              "170          78132                      58825             1732   \n",
              "171          11313                       8130              613   \n",
              "172          34142                      26850              582   \n",
              "\n",
              "     Grad_unemployment_rate  Grad_median  Grad_P25  Grad_P75  Nongrad_total  \\\n",
              "0                  0.087543      75000.0     53000  110000.0          86062   \n",
              "1                  0.057756      60000.0     40000   89000.0         461977   \n",
              "2                  0.073867      65000.0     45000  100000.0         179335   \n",
              "3                  0.080901      47000.0     24500   85000.0          37575   \n",
              "4                  0.058411      57000.0     40600   83700.0          53819   \n",
              "..                      ...          ...       ...       ...            ...   \n",
              "168                0.035600      50000.0     36000   65000.0          16781   \n",
              "169                0.044958      70000.0     47000   95000.0           6519   \n",
              "170                0.021687     135000.0     70000  294000.0          26320   \n",
              "171                0.051400      56000.0     42000   70000.0           2232   \n",
              "172                0.016761      65000.0     50000   86000.0           4003   \n",
              "\n",
              "     Nongrad_employed  Nongrad_full_time_year_round  Nongrad_unemployed  \\\n",
              "0               73607                         62435                3928   \n",
              "1              347166                        250596               25484   \n",
              "2              145597                        113579                7409   \n",
              "3               29738                         23249                1661   \n",
              "4               43163                         34231                3389   \n",
              "..                ...                           ...                 ...   \n",
              "168             12377                          8502                 835   \n",
              "169              4368                          3033                 357   \n",
              "170             16221                         12185                1012   \n",
              "171              1328                           980                 169   \n",
              "172              3079                          2434                   0   \n",
              "\n",
              "     Nongrad_unemployment_rate  Nongrad_median  Nongrad_P25  Nongrad_P75  \\\n",
              "0                     0.050661         65000.0        47000      98000.0   \n",
              "1                     0.068386         48000.0        34000      71000.0   \n",
              "2                     0.048423         50000.0        35000      75000.0   \n",
              "3                     0.052900         41600.0        29000      60000.0   \n",
              "4                     0.072800         52000.0        36000      78000.0   \n",
              "..                         ...             ...          ...          ...   \n",
              "168                   0.063200         40000.0        25000      50000.0   \n",
              "169                   0.075556         46000.0        30000      70000.0   \n",
              "170                   0.058725         51000.0        35000      87000.0   \n",
              "171                   0.112892         42000.0        27000      51000.0   \n",
              "172                   0.000000         58000.0        45000      79000.0   \n",
              "\n",
              "     Grad_share  Grad_premium  \n",
              "0      0.096320      0.153846  \n",
              "1      0.104420      0.250000  \n",
              "2      0.119837      0.300000  \n",
              "3      0.125878      0.129808  \n",
              "4      0.144753      0.096154  \n",
              "..          ...           ...  \n",
              "168    0.755354      0.250000  \n",
              "169    0.777014      0.521739  \n",
              "170    0.813718      1.647059  \n",
              "171    0.898881      0.333333  \n",
              "172    0.931175      0.120690  \n",
              "\n",
              "[173 rows x 22 columns]"
            ],
            "text/html": [
              "\n",
              "  <div id=\"df-6b4645aa-9720-4a5b-b922-865c7e140ea4\" class=\"colab-df-container\">\n",
              "    <div>\n",
              "<style scoped>\n",
              "    .dataframe tbody tr th:only-of-type {\n",
              "        vertical-align: middle;\n",
              "    }\n",
              "\n",
              "    .dataframe tbody tr th {\n",
              "        vertical-align: top;\n",
              "    }\n",
              "\n",
              "    .dataframe thead th {\n",
              "        text-align: right;\n",
              "    }\n",
              "</style>\n",
              "<table border=\"1\" class=\"dataframe\">\n",
              "  <thead>\n",
              "    <tr style=\"text-align: right;\">\n",
              "      <th></th>\n",
              "      <th>Major_code</th>\n",
              "      <th>Major</th>\n",
              "      <th>Major_category</th>\n",
              "      <th>Grad_total</th>\n",
              "      <th>Grad_sample_size</th>\n",
              "      <th>Grad_employed</th>\n",
              "      <th>Grad_full_time_year_round</th>\n",
              "      <th>Grad_unemployed</th>\n",
              "      <th>Grad_unemployment_rate</th>\n",
              "      <th>Grad_median</th>\n",
              "      <th>Grad_P25</th>\n",
              "      <th>Grad_P75</th>\n",
              "      <th>Nongrad_total</th>\n",
              "      <th>Nongrad_employed</th>\n",
              "      <th>Nongrad_full_time_year_round</th>\n",
              "      <th>Nongrad_unemployed</th>\n",
              "      <th>Nongrad_unemployment_rate</th>\n",
              "      <th>Nongrad_median</th>\n",
              "      <th>Nongrad_P25</th>\n",
              "      <th>Nongrad_P75</th>\n",
              "      <th>Grad_share</th>\n",
              "      <th>Grad_premium</th>\n",
              "    </tr>\n",
              "  </thead>\n",
              "  <tbody>\n",
              "    <tr>\n",
              "      <th>0</th>\n",
              "      <td>5601</td>\n",
              "      <td>CONSTRUCTION SERVICES</td>\n",
              "      <td>Industrial Arts &amp; Consumer Services</td>\n",
              "      <td>9173</td>\n",
              "      <td>200</td>\n",
              "      <td>7098</td>\n",
              "      <td>6511</td>\n",
              "      <td>681</td>\n",
              "      <td>0.087543</td>\n",
              "      <td>75000.0</td>\n",
              "      <td>53000</td>\n",
              "      <td>110000.0</td>\n",
              "      <td>86062</td>\n",
              "      <td>73607</td>\n",
              "      <td>62435</td>\n",
              "      <td>3928</td>\n",
              "      <td>0.050661</td>\n",
              "      <td>65000.0</td>\n",
              "      <td>47000</td>\n",
              "      <td>98000.0</td>\n",
              "      <td>0.096320</td>\n",
              "      <td>0.153846</td>\n",
              "    </tr>\n",
              "    <tr>\n",
              "      <th>1</th>\n",
              "      <td>6004</td>\n",
              "      <td>COMMERCIAL ART AND GRAPHIC DESIGN</td>\n",
              "      <td>Arts</td>\n",
              "      <td>53864</td>\n",
              "      <td>882</td>\n",
              "      <td>40492</td>\n",
              "      <td>29553</td>\n",
              "      <td>2482</td>\n",
              "      <td>0.057756</td>\n",
              "      <td>60000.0</td>\n",
              "      <td>40000</td>\n",
              "      <td>89000.0</td>\n",
              "      <td>461977</td>\n",
              "      <td>347166</td>\n",
              "      <td>250596</td>\n",
              "      <td>25484</td>\n",
              "      <td>0.068386</td>\n",
              "      <td>48000.0</td>\n",
              "      <td>34000</td>\n",
              "      <td>71000.0</td>\n",
              "      <td>0.104420</td>\n",
              "      <td>0.250000</td>\n",
              "    </tr>\n",
              "    <tr>\n",
              "      <th>2</th>\n",
              "      <td>6211</td>\n",
              "      <td>HOSPITALITY MANAGEMENT</td>\n",
              "      <td>Business</td>\n",
              "      <td>24417</td>\n",
              "      <td>437</td>\n",
              "      <td>18368</td>\n",
              "      <td>14784</td>\n",
              "      <td>1465</td>\n",
              "      <td>0.073867</td>\n",
              "      <td>65000.0</td>\n",
              "      <td>45000</td>\n",
              "      <td>100000.0</td>\n",
              "      <td>179335</td>\n",
              "      <td>145597</td>\n",
              "      <td>113579</td>\n",
              "      <td>7409</td>\n",
              "      <td>0.048423</td>\n",
              "      <td>50000.0</td>\n",
              "      <td>35000</td>\n",
              "      <td>75000.0</td>\n",
              "      <td>0.119837</td>\n",
              "      <td>0.300000</td>\n",
              "    </tr>\n",
              "    <tr>\n",
              "      <th>3</th>\n",
              "      <td>2201</td>\n",
              "      <td>COSMETOLOGY SERVICES AND CULINARY ARTS</td>\n",
              "      <td>Industrial Arts &amp; Consumer Services</td>\n",
              "      <td>5411</td>\n",
              "      <td>72</td>\n",
              "      <td>3590</td>\n",
              "      <td>2701</td>\n",
              "      <td>316</td>\n",
              "      <td>0.080901</td>\n",
              "      <td>47000.0</td>\n",
              "      <td>24500</td>\n",
              "      <td>85000.0</td>\n",
              "      <td>37575</td>\n",
              "      <td>29738</td>\n",
              "      <td>23249</td>\n",
              "      <td>1661</td>\n",
              "      <td>0.052900</td>\n",
              "      <td>41600.0</td>\n",
              "      <td>29000</td>\n",
              "      <td>60000.0</td>\n",
              "      <td>0.125878</td>\n",
              "      <td>0.129808</td>\n",
              "    </tr>\n",
              "    <tr>\n",
              "      <th>4</th>\n",
              "      <td>2001</td>\n",
              "      <td>COMMUNICATION TECHNOLOGIES</td>\n",
              "      <td>Computers &amp; Mathematics</td>\n",
              "      <td>9109</td>\n",
              "      <td>171</td>\n",
              "      <td>7512</td>\n",
              "      <td>5622</td>\n",
              "      <td>466</td>\n",
              "      <td>0.058411</td>\n",
              "      <td>57000.0</td>\n",
              "      <td>40600</td>\n",
              "      <td>83700.0</td>\n",
              "      <td>53819</td>\n",
              "      <td>43163</td>\n",
              "      <td>34231</td>\n",
              "      <td>3389</td>\n",
              "      <td>0.072800</td>\n",
              "      <td>52000.0</td>\n",
              "      <td>36000</td>\n",
              "      <td>78000.0</td>\n",
              "      <td>0.144753</td>\n",
              "      <td>0.096154</td>\n",
              "    </tr>\n",
              "    <tr>\n",
              "      <th>...</th>\n",
              "      <td>...</td>\n",
              "      <td>...</td>\n",
              "      <td>...</td>\n",
              "      <td>...</td>\n",
              "      <td>...</td>\n",
              "      <td>...</td>\n",
              "      <td>...</td>\n",
              "      <td>...</td>\n",
              "      <td>...</td>\n",
              "      <td>...</td>\n",
              "      <td>...</td>\n",
              "      <td>...</td>\n",
              "      <td>...</td>\n",
              "      <td>...</td>\n",
              "      <td>...</td>\n",
              "      <td>...</td>\n",
              "      <td>...</td>\n",
              "      <td>...</td>\n",
              "      <td>...</td>\n",
              "      <td>...</td>\n",
              "      <td>...</td>\n",
              "      <td>...</td>\n",
              "    </tr>\n",
              "    <tr>\n",
              "      <th>168</th>\n",
              "      <td>5203</td>\n",
              "      <td>COUNSELING PSYCHOLOGY</td>\n",
              "      <td>Psychology &amp; Social Work</td>\n",
              "      <td>51812</td>\n",
              "      <td>724</td>\n",
              "      <td>38468</td>\n",
              "      <td>28808</td>\n",
              "      <td>1420</td>\n",
              "      <td>0.035600</td>\n",
              "      <td>50000.0</td>\n",
              "      <td>36000</td>\n",
              "      <td>65000.0</td>\n",
              "      <td>16781</td>\n",
              "      <td>12377</td>\n",
              "      <td>8502</td>\n",
              "      <td>835</td>\n",
              "      <td>0.063200</td>\n",
              "      <td>40000.0</td>\n",
              "      <td>25000</td>\n",
              "      <td>50000.0</td>\n",
              "      <td>0.755354</td>\n",
              "      <td>0.250000</td>\n",
              "    </tr>\n",
              "    <tr>\n",
              "      <th>169</th>\n",
              "      <td>5202</td>\n",
              "      <td>CLINICAL PSYCHOLOGY</td>\n",
              "      <td>Psychology &amp; Social Work</td>\n",
              "      <td>22716</td>\n",
              "      <td>355</td>\n",
              "      <td>16612</td>\n",
              "      <td>12022</td>\n",
              "      <td>782</td>\n",
              "      <td>0.044958</td>\n",
              "      <td>70000.0</td>\n",
              "      <td>47000</td>\n",
              "      <td>95000.0</td>\n",
              "      <td>6519</td>\n",
              "      <td>4368</td>\n",
              "      <td>3033</td>\n",
              "      <td>357</td>\n",
              "      <td>0.075556</td>\n",
              "      <td>46000.0</td>\n",
              "      <td>30000</td>\n",
              "      <td>70000.0</td>\n",
              "      <td>0.777014</td>\n",
              "      <td>0.521739</td>\n",
              "    </tr>\n",
              "    <tr>\n",
              "      <th>170</th>\n",
              "      <td>6106</td>\n",
              "      <td>HEALTH AND MEDICAL PREPARATORY PROGRAMS</td>\n",
              "      <td>Health</td>\n",
              "      <td>114971</td>\n",
              "      <td>1766</td>\n",
              "      <td>78132</td>\n",
              "      <td>58825</td>\n",
              "      <td>1732</td>\n",
              "      <td>0.021687</td>\n",
              "      <td>135000.0</td>\n",
              "      <td>70000</td>\n",
              "      <td>294000.0</td>\n",
              "      <td>26320</td>\n",
              "      <td>16221</td>\n",
              "      <td>12185</td>\n",
              "      <td>1012</td>\n",
              "      <td>0.058725</td>\n",
              "      <td>51000.0</td>\n",
              "      <td>35000</td>\n",
              "      <td>87000.0</td>\n",
              "      <td>0.813718</td>\n",
              "      <td>1.647059</td>\n",
              "    </tr>\n",
              "    <tr>\n",
              "      <th>171</th>\n",
              "      <td>2303</td>\n",
              "      <td>SCHOOL STUDENT COUNSELING</td>\n",
              "      <td>Education</td>\n",
              "      <td>19841</td>\n",
              "      <td>260</td>\n",
              "      <td>11313</td>\n",
              "      <td>8130</td>\n",
              "      <td>613</td>\n",
              "      <td>0.051400</td>\n",
              "      <td>56000.0</td>\n",
              "      <td>42000</td>\n",
              "      <td>70000.0</td>\n",
              "      <td>2232</td>\n",
              "      <td>1328</td>\n",
              "      <td>980</td>\n",
              "      <td>169</td>\n",
              "      <td>0.112892</td>\n",
              "      <td>42000.0</td>\n",
              "      <td>27000</td>\n",
              "      <td>51000.0</td>\n",
              "      <td>0.898881</td>\n",
              "      <td>0.333333</td>\n",
              "    </tr>\n",
              "    <tr>\n",
              "      <th>172</th>\n",
              "      <td>2301</td>\n",
              "      <td>EDUCATIONAL ADMINISTRATION AND SUPERVISION</td>\n",
              "      <td>Education</td>\n",
              "      <td>54159</td>\n",
              "      <td>841</td>\n",
              "      <td>34142</td>\n",
              "      <td>26850</td>\n",
              "      <td>582</td>\n",
              "      <td>0.016761</td>\n",
              "      <td>65000.0</td>\n",
              "      <td>50000</td>\n",
              "      <td>86000.0</td>\n",
              "      <td>4003</td>\n",
              "      <td>3079</td>\n",
              "      <td>2434</td>\n",
              "      <td>0</td>\n",
              "      <td>0.000000</td>\n",
              "      <td>58000.0</td>\n",
              "      <td>45000</td>\n",
              "      <td>79000.0</td>\n",
              "      <td>0.931175</td>\n",
              "      <td>0.120690</td>\n",
              "    </tr>\n",
              "  </tbody>\n",
              "</table>\n",
              "<p>173 rows × 22 columns</p>\n",
              "</div>\n",
              "    <div class=\"colab-df-buttons\">\n",
              "\n",
              "  <div class=\"colab-df-container\">\n",
              "    <button class=\"colab-df-convert\" onclick=\"convertToInteractive('df-6b4645aa-9720-4a5b-b922-865c7e140ea4')\"\n",
              "            title=\"Convert this dataframe to an interactive table.\"\n",
              "            style=\"display:none;\">\n",
              "\n",
              "  <svg xmlns=\"http://www.w3.org/2000/svg\" height=\"24px\" viewBox=\"0 -960 960 960\">\n",
              "    <path d=\"M120-120v-720h720v720H120Zm60-500h600v-160H180v160Zm220 220h160v-160H400v160Zm0 220h160v-160H400v160ZM180-400h160v-160H180v160Zm440 0h160v-160H620v160ZM180-180h160v-160H180v160Zm440 0h160v-160H620v160Z\"/>\n",
              "  </svg>\n",
              "    </button>\n",
              "\n",
              "  <style>\n",
              "    .colab-df-container {\n",
              "      display:flex;\n",
              "      gap: 12px;\n",
              "    }\n",
              "\n",
              "    .colab-df-convert {\n",
              "      background-color: #E8F0FE;\n",
              "      border: none;\n",
              "      border-radius: 50%;\n",
              "      cursor: pointer;\n",
              "      display: none;\n",
              "      fill: #1967D2;\n",
              "      height: 32px;\n",
              "      padding: 0 0 0 0;\n",
              "      width: 32px;\n",
              "    }\n",
              "\n",
              "    .colab-df-convert:hover {\n",
              "      background-color: #E2EBFA;\n",
              "      box-shadow: 0px 1px 2px rgba(60, 64, 67, 0.3), 0px 1px 3px 1px rgba(60, 64, 67, 0.15);\n",
              "      fill: #174EA6;\n",
              "    }\n",
              "\n",
              "    .colab-df-buttons div {\n",
              "      margin-bottom: 4px;\n",
              "    }\n",
              "\n",
              "    [theme=dark] .colab-df-convert {\n",
              "      background-color: #3B4455;\n",
              "      fill: #D2E3FC;\n",
              "    }\n",
              "\n",
              "    [theme=dark] .colab-df-convert:hover {\n",
              "      background-color: #434B5C;\n",
              "      box-shadow: 0px 1px 3px 1px rgba(0, 0, 0, 0.15);\n",
              "      filter: drop-shadow(0px 1px 2px rgba(0, 0, 0, 0.3));\n",
              "      fill: #FFFFFF;\n",
              "    }\n",
              "  </style>\n",
              "\n",
              "    <script>\n",
              "      const buttonEl =\n",
              "        document.querySelector('#df-6b4645aa-9720-4a5b-b922-865c7e140ea4 button.colab-df-convert');\n",
              "      buttonEl.style.display =\n",
              "        google.colab.kernel.accessAllowed ? 'block' : 'none';\n",
              "\n",
              "      async function convertToInteractive(key) {\n",
              "        const element = document.querySelector('#df-6b4645aa-9720-4a5b-b922-865c7e140ea4');\n",
              "        const dataTable =\n",
              "          await google.colab.kernel.invokeFunction('convertToInteractive',\n",
              "                                                    [key], {});\n",
              "        if (!dataTable) return;\n",
              "\n",
              "        const docLinkHtml = 'Like what you see? Visit the ' +\n",
              "          '<a target=\"_blank\" href=https://colab.research.google.com/notebooks/data_table.ipynb>data table notebook</a>'\n",
              "          + ' to learn more about interactive tables.';\n",
              "        element.innerHTML = '';\n",
              "        dataTable['output_type'] = 'display_data';\n",
              "        await google.colab.output.renderOutput(dataTable, element);\n",
              "        const docLink = document.createElement('div');\n",
              "        docLink.innerHTML = docLinkHtml;\n",
              "        element.appendChild(docLink);\n",
              "      }\n",
              "    </script>\n",
              "  </div>\n",
              "\n",
              "\n",
              "<div id=\"df-76005c1a-7ef3-4a2c-a77c-2f725cd459dc\">\n",
              "  <button class=\"colab-df-quickchart\" onclick=\"quickchart('df-76005c1a-7ef3-4a2c-a77c-2f725cd459dc')\"\n",
              "            title=\"Suggest charts\"\n",
              "            style=\"display:none;\">\n",
              "\n",
              "<svg xmlns=\"http://www.w3.org/2000/svg\" height=\"24px\"viewBox=\"0 0 24 24\"\n",
              "     width=\"24px\">\n",
              "    <g>\n",
              "        <path d=\"M19 3H5c-1.1 0-2 .9-2 2v14c0 1.1.9 2 2 2h14c1.1 0 2-.9 2-2V5c0-1.1-.9-2-2-2zM9 17H7v-7h2v7zm4 0h-2V7h2v10zm4 0h-2v-4h2v4z\"/>\n",
              "    </g>\n",
              "</svg>\n",
              "  </button>\n",
              "\n",
              "<style>\n",
              "  .colab-df-quickchart {\n",
              "      --bg-color: #E8F0FE;\n",
              "      --fill-color: #1967D2;\n",
              "      --hover-bg-color: #E2EBFA;\n",
              "      --hover-fill-color: #174EA6;\n",
              "      --disabled-fill-color: #AAA;\n",
              "      --disabled-bg-color: #DDD;\n",
              "  }\n",
              "\n",
              "  [theme=dark] .colab-df-quickchart {\n",
              "      --bg-color: #3B4455;\n",
              "      --fill-color: #D2E3FC;\n",
              "      --hover-bg-color: #434B5C;\n",
              "      --hover-fill-color: #FFFFFF;\n",
              "      --disabled-bg-color: #3B4455;\n",
              "      --disabled-fill-color: #666;\n",
              "  }\n",
              "\n",
              "  .colab-df-quickchart {\n",
              "    background-color: var(--bg-color);\n",
              "    border: none;\n",
              "    border-radius: 50%;\n",
              "    cursor: pointer;\n",
              "    display: none;\n",
              "    fill: var(--fill-color);\n",
              "    height: 32px;\n",
              "    padding: 0;\n",
              "    width: 32px;\n",
              "  }\n",
              "\n",
              "  .colab-df-quickchart:hover {\n",
              "    background-color: var(--hover-bg-color);\n",
              "    box-shadow: 0 1px 2px rgba(60, 64, 67, 0.3), 0 1px 3px 1px rgba(60, 64, 67, 0.15);\n",
              "    fill: var(--button-hover-fill-color);\n",
              "  }\n",
              "\n",
              "  .colab-df-quickchart-complete:disabled,\n",
              "  .colab-df-quickchart-complete:disabled:hover {\n",
              "    background-color: var(--disabled-bg-color);\n",
              "    fill: var(--disabled-fill-color);\n",
              "    box-shadow: none;\n",
              "  }\n",
              "\n",
              "  .colab-df-spinner {\n",
              "    border: 2px solid var(--fill-color);\n",
              "    border-color: transparent;\n",
              "    border-bottom-color: var(--fill-color);\n",
              "    animation:\n",
              "      spin 1s steps(1) infinite;\n",
              "  }\n",
              "\n",
              "  @keyframes spin {\n",
              "    0% {\n",
              "      border-color: transparent;\n",
              "      border-bottom-color: var(--fill-color);\n",
              "      border-left-color: var(--fill-color);\n",
              "    }\n",
              "    20% {\n",
              "      border-color: transparent;\n",
              "      border-left-color: var(--fill-color);\n",
              "      border-top-color: var(--fill-color);\n",
              "    }\n",
              "    30% {\n",
              "      border-color: transparent;\n",
              "      border-left-color: var(--fill-color);\n",
              "      border-top-color: var(--fill-color);\n",
              "      border-right-color: var(--fill-color);\n",
              "    }\n",
              "    40% {\n",
              "      border-color: transparent;\n",
              "      border-right-color: var(--fill-color);\n",
              "      border-top-color: var(--fill-color);\n",
              "    }\n",
              "    60% {\n",
              "      border-color: transparent;\n",
              "      border-right-color: var(--fill-color);\n",
              "    }\n",
              "    80% {\n",
              "      border-color: transparent;\n",
              "      border-right-color: var(--fill-color);\n",
              "      border-bottom-color: var(--fill-color);\n",
              "    }\n",
              "    90% {\n",
              "      border-color: transparent;\n",
              "      border-bottom-color: var(--fill-color);\n",
              "    }\n",
              "  }\n",
              "</style>\n",
              "\n",
              "  <script>\n",
              "    async function quickchart(key) {\n",
              "      const quickchartButtonEl =\n",
              "        document.querySelector('#' + key + ' button');\n",
              "      quickchartButtonEl.disabled = true;  // To prevent multiple clicks.\n",
              "      quickchartButtonEl.classList.add('colab-df-spinner');\n",
              "      try {\n",
              "        const charts = await google.colab.kernel.invokeFunction(\n",
              "            'suggestCharts', [key], {});\n",
              "      } catch (error) {\n",
              "        console.error('Error during call to suggestCharts:', error);\n",
              "      }\n",
              "      quickchartButtonEl.classList.remove('colab-df-spinner');\n",
              "      quickchartButtonEl.classList.add('colab-df-quickchart-complete');\n",
              "    }\n",
              "    (() => {\n",
              "      let quickchartButtonEl =\n",
              "        document.querySelector('#df-76005c1a-7ef3-4a2c-a77c-2f725cd459dc button');\n",
              "      quickchartButtonEl.style.display =\n",
              "        google.colab.kernel.accessAllowed ? 'block' : 'none';\n",
              "    })();\n",
              "  </script>\n",
              "</div>\n",
              "\n",
              "  <div id=\"id_64a53b84-d4a0-447b-a905-d98ba32fe1ed\">\n",
              "    <style>\n",
              "      .colab-df-generate {\n",
              "        background-color: #E8F0FE;\n",
              "        border: none;\n",
              "        border-radius: 50%;\n",
              "        cursor: pointer;\n",
              "        display: none;\n",
              "        fill: #1967D2;\n",
              "        height: 32px;\n",
              "        padding: 0 0 0 0;\n",
              "        width: 32px;\n",
              "      }\n",
              "\n",
              "      .colab-df-generate:hover {\n",
              "        background-color: #E2EBFA;\n",
              "        box-shadow: 0px 1px 2px rgba(60, 64, 67, 0.3), 0px 1px 3px 1px rgba(60, 64, 67, 0.15);\n",
              "        fill: #174EA6;\n",
              "      }\n",
              "\n",
              "      [theme=dark] .colab-df-generate {\n",
              "        background-color: #3B4455;\n",
              "        fill: #D2E3FC;\n",
              "      }\n",
              "\n",
              "      [theme=dark] .colab-df-generate:hover {\n",
              "        background-color: #434B5C;\n",
              "        box-shadow: 0px 1px 3px 1px rgba(0, 0, 0, 0.15);\n",
              "        filter: drop-shadow(0px 1px 2px rgba(0, 0, 0, 0.3));\n",
              "        fill: #FFFFFF;\n",
              "      }\n",
              "    </style>\n",
              "    <button class=\"colab-df-generate\" onclick=\"generateWithVariable('df')\"\n",
              "            title=\"Generate code using this dataframe.\"\n",
              "            style=\"display:none;\">\n",
              "\n",
              "  <svg xmlns=\"http://www.w3.org/2000/svg\" height=\"24px\"viewBox=\"0 0 24 24\"\n",
              "       width=\"24px\">\n",
              "    <path d=\"M7,19H8.4L18.45,9,17,7.55,7,17.6ZM5,21V16.75L18.45,3.32a2,2,0,0,1,2.83,0l1.4,1.43a1.91,1.91,0,0,1,.58,1.4,1.91,1.91,0,0,1-.58,1.4L9.25,21ZM18.45,9,17,7.55Zm-12,3A5.31,5.31,0,0,0,4.9,8.1,5.31,5.31,0,0,0,1,6.5,5.31,5.31,0,0,0,4.9,4.9,5.31,5.31,0,0,0,6.5,1,5.31,5.31,0,0,0,8.1,4.9,5.31,5.31,0,0,0,12,6.5,5.46,5.46,0,0,0,6.5,12Z\"/>\n",
              "  </svg>\n",
              "    </button>\n",
              "    <script>\n",
              "      (() => {\n",
              "      const buttonEl =\n",
              "        document.querySelector('#id_64a53b84-d4a0-447b-a905-d98ba32fe1ed button.colab-df-generate');\n",
              "      buttonEl.style.display =\n",
              "        google.colab.kernel.accessAllowed ? 'block' : 'none';\n",
              "\n",
              "      buttonEl.onclick = () => {\n",
              "        google.colab.notebook.generateWithVariable('df');\n",
              "      }\n",
              "      })();\n",
              "    </script>\n",
              "  </div>\n",
              "\n",
              "    </div>\n",
              "  </div>\n"
            ],
            "application/vnd.google.colaboratory.intrinsic+json": {
              "type": "dataframe",
              "variable_name": "df"
            }
          },
          "metadata": {},
          "execution_count": 33
        }
      ],
      "source": [
        "# Set display options to show all columns\n",
        "pd.set_option('display.max_columns', None)\n",
        "\n",
        "# When you type the object name, the object gets printed.\n",
        "df"
      ]
    },
    {
      "cell_type": "markdown",
      "metadata": {
        "id": "tx98lQoCoDkO"
      },
      "source": [
        "# **INSTRUCTIONS**\n",
        "\n",
        "* Use Python to analyze the data set and complete each of the following.\n",
        "* Replace ellipsis (...) with the relavent names or code.  \n",
        "* For problems that require a written response, replace the ellipsis (...) by double clicking the text box to start typing.\n",
        "* Reference the tutorial from activity for assistance.\n",
        "* Attend office hours if you still need help."
      ]
    },
    {
      "cell_type": "markdown",
      "metadata": {
        "id": "VEm2KmlyzJGY"
      },
      "source": [
        "This assignment is intended to explore the univariate linear relationships between quantitative variables in the data. Choose the dependent and independent variables based on your last name.\n",
        "\n",
        "| Last Name | Dependent Variable (y) | Independent Variable (x) |\n",
        "|-----------|------------------------|--------------------------|\n",
        "| A-L       | Grad_median            | Grad_unemployment_rate   |\n",
        "| M-Z       | Nongrad_median         | Nongrad_unemployment_rate|\n",
        "\n",
        "\n"
      ]
    },
    {
      "cell_type": "markdown",
      "source": [
        "Based on your last name, which variable is explanatory and which is the response?\n",
        "\n",
        "Explanatory: ...\n",
        "\n",
        "Response: ..."
      ],
      "metadata": {
        "id": "7IJT3XU95gcE"
      }
    },
    {
      "cell_type": "markdown",
      "source": [
        "What do you think the direction (positive/negative) and strength (weak/moderate/strong) will be?"
      ],
      "metadata": {
        "id": "mPrSROvP5gMr"
      }
    },
    {
      "cell_type": "markdown",
      "source": [
        "# ..."
      ],
      "metadata": {
        "id": "VhMDCYnqhUOq"
      }
    },
    {
      "cell_type": "markdown",
      "metadata": {
        "id": "xkEtDHs70CzZ"
      },
      "source": [
        "# **QUESTION 1**\n",
        "\n",
        "## **Scatterplot**\n",
        "\n",
        "**1.1)** Construct a scatterplot that could be used to show the relationship between the variables stated above."
      ]
    },
    {
      "cell_type": "code",
      "execution_count": 34,
      "metadata": {
        "id": "_YFf23s4JZlN",
        "outputId": "94920556-e9a4-4db6-d68d-f30d3512687b",
        "colab": {
          "base_uri": "https://localhost:8080/",
          "height": 417
        }
      },
      "outputs": [
        {
          "output_type": "display_data",
          "data": {
            "text/html": [
              "<html>\n",
              "<head><meta charset=\"utf-8\" /></head>\n",
              "<body>\n",
              "    <div>            <script src=\"https://cdnjs.cloudflare.com/ajax/libs/mathjax/2.7.5/MathJax.js?config=TeX-AMS-MML_SVG\"></script><script type=\"text/javascript\">if (window.MathJax && window.MathJax.Hub && window.MathJax.Hub.Config) {window.MathJax.Hub.Config({SVG: {font: \"STIX-Web\"}});}</script>                <script type=\"text/javascript\">window.PlotlyConfig = {MathJaxConfig: 'local'};</script>\n",
              "        <script charset=\"utf-8\" src=\"https://cdn.plot.ly/plotly-2.35.2.min.js\"></script>                <div id=\"6707354c-623e-4a4f-98ee-1eeb1c6467ca\" class=\"plotly-graph-div\" style=\"height:400px; width:700px;\"></div>            <script type=\"text/javascript\">                                    window.PLOTLYENV=window.PLOTLYENV || {};                                    if (document.getElementById(\"6707354c-623e-4a4f-98ee-1eeb1c6467ca\")) {                    Plotly.newPlot(                        \"6707354c-623e-4a4f-98ee-1eeb1c6467ca\",                        [{\"hovertemplate\":\"Graduate Unemployment Rate=%{x}\\u003cbr\\u003eGraduate Median Salary=%{y}\\u003cextra\\u003e\\u003c\\u002fextra\\u003e\",\"legendgroup\":\"\",\"marker\":{\"color\":\"#636efa\",\"symbol\":\"circle\"},\"mode\":\"markers\",\"name\":\"\",\"orientation\":\"v\",\"showlegend\":false,\"x\":[0.087543386,0.057755852,0.073866788,0.080901178,0.058410629,0.0,0.052059489,0.03483833,0.024612203,0.030561599,0.096472931,0.13851498,0.06523569,0.051641334,0.046633357,0.081605691,0.04661565,0.031697819,0.039270596,0.038461538,0.041004871,0.049032311,0.045299817,0.038714642,0.059586631,0.022848321,0.040894931,0.025552736,0.040049214,0.048657665,0.074243813,0.054460646,0.042023298,0.025342834,0.045358331,0.041857347,0.06100455,0.021266734,0.049995759,0.058903313,0.020124913,0.00886918,0.029324923,0.041296423,0.042111271,0.060061499,0.038421666,0.029495955,0.050362239,0.037142695,0.025317882,0.044092513,0.019471488,0.031253986,0.064715966,0.054889566,0.038852808,0.067667237,0.051253413,0.094637671,0.036198118,0.051940026,0.019985196,0.035276229,0.031130244,0.034601202,0.036654034,0.059671887,0.070332221,0.014667817,0.038918793,0.035998475,0.0281065,0.034229499,0.021300793,0.056908862,0.027165944,0.041878308,0.058474838,0.012326529,0.017415354,0.086452468,0.035449332,0.059329069,0.032956266,0.038624622,0.028706395,0.061080658,0.03189197,0.102890173,0.053657509,0.027305449,0.022057897,0.063924979,0.024018146,0.043768425,0.027885303,0.030152487,0.036230513,0.032938452,0.022218272,0.034637345,0.039702942,0.058849492,0.020362893,0.04530453,0.054545455,0.033349858,0.041472011,0.028403487,0.05083188,0.051283916,0.049701157,0.037570891,0.040584103,0.018759683,0.027408238,0.024823638,0.043523065,0.03755603,0.044817237,0.037818182,0.026647178,0.03857466,0.027931687,0.038975831,0.048050929,0.02863239,0.042357586,0.038578048,0.031756946,0.037644956,0.038808906,0.045280779,0.045745654,0.025860949,0.030555665,0.022906378,0.022291055,0.0176851,0.02606824,0.028967718,0.04534244,0.031074409,0.011538018,0.031226486,0.014248162,0.022187594,0.032159086,0.038890238,0.022464859,0.033210059,0.021104706,0.020028612,0.029981368,0.020920664,0.018447581,0.029936779,0.028207488,0.024229927,0.020927973,0.035411851,0.017611146,0.025600246,0.024211872,0.019423853,0.021777281,0.0142862,0.035599679,0.044958032,0.021686868,0.051400302,0.016760742],\"xaxis\":\"x\",\"y\":[75000.0,60000.0,65000.0,47000.0,57000.0,75000.0,80000.0,67000.0,85000.0,60000.0,57000.0,62000.0,78000.0,57000.0,90000.0,80000.0,75000.0,80000.0,84500.0,55000.0,68000.0,77000.0,65000.0,89000.0,81000.0,94000.0,85000.0,76000.0,80000.0,65000.0,110000.0,85000.0,70000.0,80000.0,74000.0,88000.0,58000.0,84000.0,84000.0,78000.0,55000.0,80000.0,68000.0,78000.0,70000.0,50100.0,53000.0,70000.0,50750.0,58000.0,60000.0,95000.0,124000.0,67000.0,70000.0,72000.0,58000.0,58600.0,94000.0,107000.0,95000.0,79000.0,80000.0,68000.0,73000.0,90000.0,62000.0,66000.0,72000.0,65000.0,76000.0,100000.0,86000.0,98000.0,97000.0,100000.0,50000.0,64000.0,69000.0,70300.0,70000.0,54000.0,100000.0,65000.0,72000.0,98000.0,105000.0,71000.0,102000.0,98000.0,65000.0,60000.0,70000.0,70000.0,65000.0,100000.0,65000.0,68500.0,106000.0,48000.0,90000.0,61000.0,80000.0,75000.0,55000.0,75000.0,74000.0,58000.0,60000.0,59000.0,65000.0,92000.0,65000.0,53000.0,67000.0,55000.0,84000.0,111000.0,68000.0,64000.0,75000.0,80000.0,82000.0,102000.0,107000.0,80000.0,73000.0,100000.0,92000.0,67000.0,60000.0,89000.0,92000.0,86000.0,81000.0,65000.0,68000.0,100000.0,61000.0,90000.0,82000.0,100000.0,95000.0,58000.0,110000.0,89000.0,60000.0,62000.0,85000.0,65000.0,58000.0,70000.0,95000.0,96000.0,100000.0,90000.0,90000.0,52000.0,85000.0,105000.0,110000.0,100000.0,58000.0,61000.0,96000.0,78000.0,95000.0,65000.0,50000.0,70000.0,135000.0,56000.0,65000.0],\"yaxis\":\"y\",\"type\":\"scatter\"}],                        {\"template\":{\"data\":{\"histogram2dcontour\":[{\"type\":\"histogram2dcontour\",\"colorbar\":{\"outlinewidth\":0,\"ticks\":\"\"},\"colorscale\":[[0.0,\"#0d0887\"],[0.1111111111111111,\"#46039f\"],[0.2222222222222222,\"#7201a8\"],[0.3333333333333333,\"#9c179e\"],[0.4444444444444444,\"#bd3786\"],[0.5555555555555556,\"#d8576b\"],[0.6666666666666666,\"#ed7953\"],[0.7777777777777778,\"#fb9f3a\"],[0.8888888888888888,\"#fdca26\"],[1.0,\"#f0f921\"]]}],\"choropleth\":[{\"type\":\"choropleth\",\"colorbar\":{\"outlinewidth\":0,\"ticks\":\"\"}}],\"histogram2d\":[{\"type\":\"histogram2d\",\"colorbar\":{\"outlinewidth\":0,\"ticks\":\"\"},\"colorscale\":[[0.0,\"#0d0887\"],[0.1111111111111111,\"#46039f\"],[0.2222222222222222,\"#7201a8\"],[0.3333333333333333,\"#9c179e\"],[0.4444444444444444,\"#bd3786\"],[0.5555555555555556,\"#d8576b\"],[0.6666666666666666,\"#ed7953\"],[0.7777777777777778,\"#fb9f3a\"],[0.8888888888888888,\"#fdca26\"],[1.0,\"#f0f921\"]]}],\"heatmap\":[{\"type\":\"heatmap\",\"colorbar\":{\"outlinewidth\":0,\"ticks\":\"\"},\"colorscale\":[[0.0,\"#0d0887\"],[0.1111111111111111,\"#46039f\"],[0.2222222222222222,\"#7201a8\"],[0.3333333333333333,\"#9c179e\"],[0.4444444444444444,\"#bd3786\"],[0.5555555555555556,\"#d8576b\"],[0.6666666666666666,\"#ed7953\"],[0.7777777777777778,\"#fb9f3a\"],[0.8888888888888888,\"#fdca26\"],[1.0,\"#f0f921\"]]}],\"heatmapgl\":[{\"type\":\"heatmapgl\",\"colorbar\":{\"outlinewidth\":0,\"ticks\":\"\"},\"colorscale\":[[0.0,\"#0d0887\"],[0.1111111111111111,\"#46039f\"],[0.2222222222222222,\"#7201a8\"],[0.3333333333333333,\"#9c179e\"],[0.4444444444444444,\"#bd3786\"],[0.5555555555555556,\"#d8576b\"],[0.6666666666666666,\"#ed7953\"],[0.7777777777777778,\"#fb9f3a\"],[0.8888888888888888,\"#fdca26\"],[1.0,\"#f0f921\"]]}],\"contourcarpet\":[{\"type\":\"contourcarpet\",\"colorbar\":{\"outlinewidth\":0,\"ticks\":\"\"}}],\"contour\":[{\"type\":\"contour\",\"colorbar\":{\"outlinewidth\":0,\"ticks\":\"\"},\"colorscale\":[[0.0,\"#0d0887\"],[0.1111111111111111,\"#46039f\"],[0.2222222222222222,\"#7201a8\"],[0.3333333333333333,\"#9c179e\"],[0.4444444444444444,\"#bd3786\"],[0.5555555555555556,\"#d8576b\"],[0.6666666666666666,\"#ed7953\"],[0.7777777777777778,\"#fb9f3a\"],[0.8888888888888888,\"#fdca26\"],[1.0,\"#f0f921\"]]}],\"surface\":[{\"type\":\"surface\",\"colorbar\":{\"outlinewidth\":0,\"ticks\":\"\"},\"colorscale\":[[0.0,\"#0d0887\"],[0.1111111111111111,\"#46039f\"],[0.2222222222222222,\"#7201a8\"],[0.3333333333333333,\"#9c179e\"],[0.4444444444444444,\"#bd3786\"],[0.5555555555555556,\"#d8576b\"],[0.6666666666666666,\"#ed7953\"],[0.7777777777777778,\"#fb9f3a\"],[0.8888888888888888,\"#fdca26\"],[1.0,\"#f0f921\"]]}],\"mesh3d\":[{\"type\":\"mesh3d\",\"colorbar\":{\"outlinewidth\":0,\"ticks\":\"\"}}],\"scatter\":[{\"fillpattern\":{\"fillmode\":\"overlay\",\"size\":10,\"solidity\":0.2},\"type\":\"scatter\"}],\"parcoords\":[{\"type\":\"parcoords\",\"line\":{\"colorbar\":{\"outlinewidth\":0,\"ticks\":\"\"}}}],\"scatterpolargl\":[{\"type\":\"scatterpolargl\",\"marker\":{\"colorbar\":{\"outlinewidth\":0,\"ticks\":\"\"}}}],\"bar\":[{\"error_x\":{\"color\":\"#2a3f5f\"},\"error_y\":{\"color\":\"#2a3f5f\"},\"marker\":{\"line\":{\"color\":\"#E5ECF6\",\"width\":0.5},\"pattern\":{\"fillmode\":\"overlay\",\"size\":10,\"solidity\":0.2}},\"type\":\"bar\"}],\"scattergeo\":[{\"type\":\"scattergeo\",\"marker\":{\"colorbar\":{\"outlinewidth\":0,\"ticks\":\"\"}}}],\"scatterpolar\":[{\"type\":\"scatterpolar\",\"marker\":{\"colorbar\":{\"outlinewidth\":0,\"ticks\":\"\"}}}],\"histogram\":[{\"marker\":{\"pattern\":{\"fillmode\":\"overlay\",\"size\":10,\"solidity\":0.2}},\"type\":\"histogram\"}],\"scattergl\":[{\"type\":\"scattergl\",\"marker\":{\"colorbar\":{\"outlinewidth\":0,\"ticks\":\"\"}}}],\"scatter3d\":[{\"type\":\"scatter3d\",\"line\":{\"colorbar\":{\"outlinewidth\":0,\"ticks\":\"\"}},\"marker\":{\"colorbar\":{\"outlinewidth\":0,\"ticks\":\"\"}}}],\"scattermapbox\":[{\"type\":\"scattermapbox\",\"marker\":{\"colorbar\":{\"outlinewidth\":0,\"ticks\":\"\"}}}],\"scatterternary\":[{\"type\":\"scatterternary\",\"marker\":{\"colorbar\":{\"outlinewidth\":0,\"ticks\":\"\"}}}],\"scattercarpet\":[{\"type\":\"scattercarpet\",\"marker\":{\"colorbar\":{\"outlinewidth\":0,\"ticks\":\"\"}}}],\"carpet\":[{\"aaxis\":{\"endlinecolor\":\"#2a3f5f\",\"gridcolor\":\"white\",\"linecolor\":\"white\",\"minorgridcolor\":\"white\",\"startlinecolor\":\"#2a3f5f\"},\"baxis\":{\"endlinecolor\":\"#2a3f5f\",\"gridcolor\":\"white\",\"linecolor\":\"white\",\"minorgridcolor\":\"white\",\"startlinecolor\":\"#2a3f5f\"},\"type\":\"carpet\"}],\"table\":[{\"cells\":{\"fill\":{\"color\":\"#EBF0F8\"},\"line\":{\"color\":\"white\"}},\"header\":{\"fill\":{\"color\":\"#C8D4E3\"},\"line\":{\"color\":\"white\"}},\"type\":\"table\"}],\"barpolar\":[{\"marker\":{\"line\":{\"color\":\"#E5ECF6\",\"width\":0.5},\"pattern\":{\"fillmode\":\"overlay\",\"size\":10,\"solidity\":0.2}},\"type\":\"barpolar\"}],\"pie\":[{\"automargin\":true,\"type\":\"pie\"}]},\"layout\":{\"autotypenumbers\":\"strict\",\"colorway\":[\"#636efa\",\"#EF553B\",\"#00cc96\",\"#ab63fa\",\"#FFA15A\",\"#19d3f3\",\"#FF6692\",\"#B6E880\",\"#FF97FF\",\"#FECB52\"],\"font\":{\"color\":\"#2a3f5f\"},\"hovermode\":\"closest\",\"hoverlabel\":{\"align\":\"left\"},\"paper_bgcolor\":\"white\",\"plot_bgcolor\":\"#E5ECF6\",\"polar\":{\"bgcolor\":\"#E5ECF6\",\"angularaxis\":{\"gridcolor\":\"white\",\"linecolor\":\"white\",\"ticks\":\"\"},\"radialaxis\":{\"gridcolor\":\"white\",\"linecolor\":\"white\",\"ticks\":\"\"}},\"ternary\":{\"bgcolor\":\"#E5ECF6\",\"aaxis\":{\"gridcolor\":\"white\",\"linecolor\":\"white\",\"ticks\":\"\"},\"baxis\":{\"gridcolor\":\"white\",\"linecolor\":\"white\",\"ticks\":\"\"},\"caxis\":{\"gridcolor\":\"white\",\"linecolor\":\"white\",\"ticks\":\"\"}},\"coloraxis\":{\"colorbar\":{\"outlinewidth\":0,\"ticks\":\"\"}},\"colorscale\":{\"sequential\":[[0.0,\"#0d0887\"],[0.1111111111111111,\"#46039f\"],[0.2222222222222222,\"#7201a8\"],[0.3333333333333333,\"#9c179e\"],[0.4444444444444444,\"#bd3786\"],[0.5555555555555556,\"#d8576b\"],[0.6666666666666666,\"#ed7953\"],[0.7777777777777778,\"#fb9f3a\"],[0.8888888888888888,\"#fdca26\"],[1.0,\"#f0f921\"]],\"sequentialminus\":[[0.0,\"#0d0887\"],[0.1111111111111111,\"#46039f\"],[0.2222222222222222,\"#7201a8\"],[0.3333333333333333,\"#9c179e\"],[0.4444444444444444,\"#bd3786\"],[0.5555555555555556,\"#d8576b\"],[0.6666666666666666,\"#ed7953\"],[0.7777777777777778,\"#fb9f3a\"],[0.8888888888888888,\"#fdca26\"],[1.0,\"#f0f921\"]],\"diverging\":[[0,\"#8e0152\"],[0.1,\"#c51b7d\"],[0.2,\"#de77ae\"],[0.3,\"#f1b6da\"],[0.4,\"#fde0ef\"],[0.5,\"#f7f7f7\"],[0.6,\"#e6f5d0\"],[0.7,\"#b8e186\"],[0.8,\"#7fbc41\"],[0.9,\"#4d9221\"],[1,\"#276419\"]]},\"xaxis\":{\"gridcolor\":\"white\",\"linecolor\":\"white\",\"ticks\":\"\",\"title\":{\"standoff\":15},\"zerolinecolor\":\"white\",\"automargin\":true,\"zerolinewidth\":2},\"yaxis\":{\"gridcolor\":\"white\",\"linecolor\":\"white\",\"ticks\":\"\",\"title\":{\"standoff\":15},\"zerolinecolor\":\"white\",\"automargin\":true,\"zerolinewidth\":2},\"scene\":{\"xaxis\":{\"backgroundcolor\":\"#E5ECF6\",\"gridcolor\":\"white\",\"linecolor\":\"white\",\"showbackground\":true,\"ticks\":\"\",\"zerolinecolor\":\"white\",\"gridwidth\":2},\"yaxis\":{\"backgroundcolor\":\"#E5ECF6\",\"gridcolor\":\"white\",\"linecolor\":\"white\",\"showbackground\":true,\"ticks\":\"\",\"zerolinecolor\":\"white\",\"gridwidth\":2},\"zaxis\":{\"backgroundcolor\":\"#E5ECF6\",\"gridcolor\":\"white\",\"linecolor\":\"white\",\"showbackground\":true,\"ticks\":\"\",\"zerolinecolor\":\"white\",\"gridwidth\":2}},\"shapedefaults\":{\"line\":{\"color\":\"#2a3f5f\"}},\"annotationdefaults\":{\"arrowcolor\":\"#2a3f5f\",\"arrowhead\":0,\"arrowwidth\":1},\"geo\":{\"bgcolor\":\"white\",\"landcolor\":\"#E5ECF6\",\"subunitcolor\":\"white\",\"showland\":true,\"showlakes\":true,\"lakecolor\":\"white\"},\"title\":{\"x\":0.05},\"mapbox\":{\"style\":\"light\"}}},\"xaxis\":{\"anchor\":\"y\",\"domain\":[0.0,1.0],\"title\":{\"text\":\"Graduate Unemployment Rate\"},\"showline\":true,\"showgrid\":false,\"linecolor\":\"black\"},\"yaxis\":{\"anchor\":\"x\",\"domain\":[0.0,1.0],\"title\":{\"text\":\"Graduate Median Salary\"},\"showline\":true,\"showgrid\":false,\"linecolor\":\"black\"},\"legend\":{\"tracegroupgap\":0},\"margin\":{\"t\":60},\"title\":{\"font\":{\"size\":16},\"text\":\"Scatter Plot\",\"y\":0.9,\"x\":0.5,\"xanchor\":\"center\",\"yanchor\":\"top\"},\"plot_bgcolor\":\"rgba(255,255,255,1)\",\"width\":700,\"height\":400},                        {\"responsive\": true}                    ).then(function(){\n",
              "                            \n",
              "var gd = document.getElementById('6707354c-623e-4a4f-98ee-1eeb1c6467ca');\n",
              "var x = new MutationObserver(function (mutations, observer) {{\n",
              "        var display = window.getComputedStyle(gd).display;\n",
              "        if (!display || display === 'none') {{\n",
              "            console.log([gd, 'removed!']);\n",
              "            Plotly.purge(gd);\n",
              "            observer.disconnect();\n",
              "        }}\n",
              "}});\n",
              "\n",
              "// Listen for the removal of the full notebook cells\n",
              "var notebookContainer = gd.closest('#notebook-container');\n",
              "if (notebookContainer) {{\n",
              "    x.observe(notebookContainer, {childList: true});\n",
              "}}\n",
              "\n",
              "// Listen for the clearing of the current output cell\n",
              "var outputEl = gd.closest('.output');\n",
              "if (outputEl) {{\n",
              "    x.observe(outputEl, {childList: true});\n",
              "}}\n",
              "\n",
              "                        })                };                            </script>        </div>\n",
              "</body>\n",
              "</html>"
            ]
          },
          "metadata": {}
        }
      ],
      "source": [
        "# Create a scatter plot using Plotly Express\n",
        "# STUDENTS: replace ... as stated\n",
        "scatter_plot = px.scatter(df,\n",
        "                 # Replace ... with the explanatory variable name\n",
        "                 x='Grad_unemployment_rate',\n",
        "                 # Replace ... with the response variable name\n",
        "                 y='Grad_median',\n",
        "                          # Replace ... with a better x-axis label\n",
        "                 labels={'Grad_unemployment_rate': 'Graduate Unemployment Rate',\n",
        "                          # Replace ... with a better y-axis label\n",
        "                         'Grad_median': 'Graduate Median Salary'})\n",
        "\n",
        "# Updating layout:\n",
        "# STUDENTS: do not change anything in this block of code.\n",
        "scatter_plot.update_layout(\n",
        "    plot_bgcolor='rgba(255,255,255,1)',        # Sets the background color of the plot area to white with full opacity.\n",
        "    xaxis=dict(\n",
        "        showline=True,                         # Displays a line on the x-axis.\n",
        "        showgrid=False,                        # Hides the grid lines on the x-axis.\n",
        "        linecolor='black'                      # Sets the color of the x-axis line to black.\n",
        "    ),\n",
        "    yaxis=dict(\n",
        "        showline=True,                         # Displays a line on the y-axis.\n",
        "        showgrid=False,                        # Hides the grid lines on the y-axis.\n",
        "        linecolor='black'                      # Sets the color of the y-axis line to black.\n",
        "    ),\n",
        "    title={\n",
        "        'text': 'Scatter Plot',                # Sets the title text.\n",
        "        'y': 0.9,                              # Positions the title 90% of the way up the plot.\n",
        "        'x': 0.5,                              # Centers the title horizontally.\n",
        "        'xanchor': 'center',                   # Anchors the title at its center on the x-axis.\n",
        "        'yanchor': 'top',                      # Anchors the title at the top on the y-axis.\n",
        "        'font': dict(\n",
        "            size=16                            # Sets the title font size to 16 (smaller than default).\n",
        "        ),\n",
        "    },\n",
        "    width=700,                                 # Sets the width of the plot.\n",
        "    height=400                                 # Sets the height of the plot for portrait mode.\n",
        ")\n",
        "\n",
        "# Show the plot: Replace ... with the name of the scatterplot object (above)\n",
        "scatter_plot.show()"
      ]
    },
    {
      "cell_type": "markdown",
      "source": [
        "**1.2)** Describe the relationship between the two variables and include context, and identify the direction, strength, and form.\n",
        "\n",
        "#...\n",
        "\n",
        "Is this what you expected?\n",
        "\n",
        "#..."
      ],
      "metadata": {
        "id": "J6CcvV0H4iZC"
      }
    },
    {
      "cell_type": "markdown",
      "metadata": {
        "id": "Hjz7Oc8N0acy"
      },
      "source": [
        "# **Question 2**\n",
        "## Correlation Coefficient\n",
        "\n",
        "**2.1)** Calculate the value of the correlation coefficient."
      ]
    },
    {
      "cell_type": "code",
      "execution_count": 35,
      "metadata": {
        "id": "jzxH_zSaJZlN",
        "outputId": "dfd9dddc-5555-4b23-86ec-fb1869beb694",
        "colab": {
          "base_uri": "https://localhost:8080/"
        }
      },
      "outputs": [
        {
          "output_type": "stream",
          "name": "stdout",
          "text": [
            "Correlation coefficient between your two variables is: r = -0.1388560326065584\n"
          ]
        }
      ],
      "source": [
        "# Calculate the correlation coefficient\n",
        "# STUDENTS: Replace ... as stated\n",
        "# Replace the 1st ... with the response variable name.\n",
        "# Replace the 2nd ... with the explanatory variable name\n",
        "correlation = df['Grad_median'].corr(df['Grad_unemployment_rate'])\n",
        "\n",
        "\n",
        "# Print the correlation coefficient\n",
        "print(f\"Correlation coefficient between your two variables is: r = {correlation}\")"
      ]
    },
    {
      "cell_type": "markdown",
      "source": [
        "**2.2)** Interpret the correlation coefficient.\n",
        "\n",
        "# ..."
      ],
      "metadata": {
        "id": "G94sREeexV_s"
      }
    },
    {
      "cell_type": "markdown",
      "metadata": {
        "id": "ad-a9eAuJZlN"
      },
      "source": [
        "# **Question 3**\n",
        "\n",
        "## Least Squares Regression\n",
        "\n",
        "**3.1)** Calculate the linear model and add the regression line to the scatterplot.\n"
      ]
    },
    {
      "cell_type": "code",
      "execution_count": 36,
      "metadata": {
        "id": "5Cejhxq9JZlN",
        "outputId": "258c9352-e1a1-4881-9a09-2df06930608d",
        "colab": {
          "base_uri": "https://localhost:8080/",
          "height": 417
        }
      },
      "outputs": [
        {
          "output_type": "display_data",
          "data": {
            "text/html": [
              "<html>\n",
              "<head><meta charset=\"utf-8\" /></head>\n",
              "<body>\n",
              "    <div>            <script src=\"https://cdnjs.cloudflare.com/ajax/libs/mathjax/2.7.5/MathJax.js?config=TeX-AMS-MML_SVG\"></script><script type=\"text/javascript\">if (window.MathJax && window.MathJax.Hub && window.MathJax.Hub.Config) {window.MathJax.Hub.Config({SVG: {font: \"STIX-Web\"}});}</script>                <script type=\"text/javascript\">window.PlotlyConfig = {MathJaxConfig: 'local'};</script>\n",
              "        <script charset=\"utf-8\" src=\"https://cdn.plot.ly/plotly-2.35.2.min.js\"></script>                <div id=\"86120bd8-aed2-4108-9e04-97ff70649e7b\" class=\"plotly-graph-div\" style=\"height:400px; width:600px;\"></div>            <script type=\"text/javascript\">                                    window.PLOTLYENV=window.PLOTLYENV || {};                                    if (document.getElementById(\"86120bd8-aed2-4108-9e04-97ff70649e7b\")) {                    Plotly.newPlot(                        \"86120bd8-aed2-4108-9e04-97ff70649e7b\",                        [{\"hovertemplate\":\"Graduate Unemployment Rate=%{x}\\u003cbr\\u003eGraduate Median Salary=%{y}\\u003cextra\\u003e\\u003c\\u002fextra\\u003e\",\"legendgroup\":\"\",\"marker\":{\"color\":\"#636efa\",\"symbol\":\"circle\"},\"mode\":\"markers\",\"name\":\"\",\"orientation\":\"v\",\"showlegend\":false,\"x\":[0.087543386,0.057755852,0.073866788,0.080901178,0.058410629,0.0,0.052059489,0.03483833,0.024612203,0.030561599,0.096472931,0.13851498,0.06523569,0.051641334,0.046633357,0.081605691,0.04661565,0.031697819,0.039270596,0.038461538,0.041004871,0.049032311,0.045299817,0.038714642,0.059586631,0.022848321,0.040894931,0.025552736,0.040049214,0.048657665,0.074243813,0.054460646,0.042023298,0.025342834,0.045358331,0.041857347,0.06100455,0.021266734,0.049995759,0.058903313,0.020124913,0.00886918,0.029324923,0.041296423,0.042111271,0.060061499,0.038421666,0.029495955,0.050362239,0.037142695,0.025317882,0.044092513,0.019471488,0.031253986,0.064715966,0.054889566,0.038852808,0.067667237,0.051253413,0.094637671,0.036198118,0.051940026,0.019985196,0.035276229,0.031130244,0.034601202,0.036654034,0.059671887,0.070332221,0.014667817,0.038918793,0.035998475,0.0281065,0.034229499,0.021300793,0.056908862,0.027165944,0.041878308,0.058474838,0.012326529,0.017415354,0.086452468,0.035449332,0.059329069,0.032956266,0.038624622,0.028706395,0.061080658,0.03189197,0.102890173,0.053657509,0.027305449,0.022057897,0.063924979,0.024018146,0.043768425,0.027885303,0.030152487,0.036230513,0.032938452,0.022218272,0.034637345,0.039702942,0.058849492,0.020362893,0.04530453,0.054545455,0.033349858,0.041472011,0.028403487,0.05083188,0.051283916,0.049701157,0.037570891,0.040584103,0.018759683,0.027408238,0.024823638,0.043523065,0.03755603,0.044817237,0.037818182,0.026647178,0.03857466,0.027931687,0.038975831,0.048050929,0.02863239,0.042357586,0.038578048,0.031756946,0.037644956,0.038808906,0.045280779,0.045745654,0.025860949,0.030555665,0.022906378,0.022291055,0.0176851,0.02606824,0.028967718,0.04534244,0.031074409,0.011538018,0.031226486,0.014248162,0.022187594,0.032159086,0.038890238,0.022464859,0.033210059,0.021104706,0.020028612,0.029981368,0.020920664,0.018447581,0.029936779,0.028207488,0.024229927,0.020927973,0.035411851,0.017611146,0.025600246,0.024211872,0.019423853,0.021777281,0.0142862,0.035599679,0.044958032,0.021686868,0.051400302,0.016760742],\"xaxis\":\"x\",\"y\":[75000.0,60000.0,65000.0,47000.0,57000.0,75000.0,80000.0,67000.0,85000.0,60000.0,57000.0,62000.0,78000.0,57000.0,90000.0,80000.0,75000.0,80000.0,84500.0,55000.0,68000.0,77000.0,65000.0,89000.0,81000.0,94000.0,85000.0,76000.0,80000.0,65000.0,110000.0,85000.0,70000.0,80000.0,74000.0,88000.0,58000.0,84000.0,84000.0,78000.0,55000.0,80000.0,68000.0,78000.0,70000.0,50100.0,53000.0,70000.0,50750.0,58000.0,60000.0,95000.0,124000.0,67000.0,70000.0,72000.0,58000.0,58600.0,94000.0,107000.0,95000.0,79000.0,80000.0,68000.0,73000.0,90000.0,62000.0,66000.0,72000.0,65000.0,76000.0,100000.0,86000.0,98000.0,97000.0,100000.0,50000.0,64000.0,69000.0,70300.0,70000.0,54000.0,100000.0,65000.0,72000.0,98000.0,105000.0,71000.0,102000.0,98000.0,65000.0,60000.0,70000.0,70000.0,65000.0,100000.0,65000.0,68500.0,106000.0,48000.0,90000.0,61000.0,80000.0,75000.0,55000.0,75000.0,74000.0,58000.0,60000.0,59000.0,65000.0,92000.0,65000.0,53000.0,67000.0,55000.0,84000.0,111000.0,68000.0,64000.0,75000.0,80000.0,82000.0,102000.0,107000.0,80000.0,73000.0,100000.0,92000.0,67000.0,60000.0,89000.0,92000.0,86000.0,81000.0,65000.0,68000.0,100000.0,61000.0,90000.0,82000.0,100000.0,95000.0,58000.0,110000.0,89000.0,60000.0,62000.0,85000.0,65000.0,58000.0,70000.0,95000.0,96000.0,100000.0,90000.0,90000.0,52000.0,85000.0,105000.0,110000.0,100000.0,58000.0,61000.0,96000.0,78000.0,95000.0,65000.0,50000.0,70000.0,135000.0,56000.0,65000.0],\"yaxis\":\"y\",\"type\":\"scatter\"},{\"mode\":\"lines\",\"name\":\"Regression Line\",\"x\":[0.087543386,0.057755852,0.073866788,0.080901178,0.058410629,0.0,0.052059489,0.03483833,0.024612203,0.030561599,0.096472931,0.13851498,0.06523569,0.051641334,0.046633357,0.081605691,0.04661565,0.031697819,0.039270596,0.038461538,0.041004871,0.049032311,0.045299817,0.038714642,0.059586631,0.022848321,0.040894931,0.025552736,0.040049214,0.048657665,0.074243813,0.054460646,0.042023298,0.025342834,0.045358331,0.041857347,0.06100455,0.021266734,0.049995759,0.058903313,0.020124913,0.00886918,0.029324923,0.041296423,0.042111271,0.060061499,0.038421666,0.029495955,0.050362239,0.037142695,0.025317882,0.044092513,0.019471488,0.031253986,0.064715966,0.054889566,0.038852808,0.067667237,0.051253413,0.094637671,0.036198118,0.051940026,0.019985196,0.035276229,0.031130244,0.034601202,0.036654034,0.059671887,0.070332221,0.014667817,0.038918793,0.035998475,0.0281065,0.034229499,0.021300793,0.056908862,0.027165944,0.041878308,0.058474838,0.012326529,0.017415354,0.086452468,0.035449332,0.059329069,0.032956266,0.038624622,0.028706395,0.061080658,0.03189197,0.102890173,0.053657509,0.027305449,0.022057897,0.063924979,0.024018146,0.043768425,0.027885303,0.030152487,0.036230513,0.032938452,0.022218272,0.034637345,0.039702942,0.058849492,0.020362893,0.04530453,0.054545455,0.033349858,0.041472011,0.028403487,0.05083188,0.051283916,0.049701157,0.037570891,0.040584103,0.018759683,0.027408238,0.024823638,0.043523065,0.03755603,0.044817237,0.037818182,0.026647178,0.03857466,0.027931687,0.038975831,0.048050929,0.02863239,0.042357586,0.038578048,0.031756946,0.037644956,0.038808906,0.045280779,0.045745654,0.025860949,0.030555665,0.022906378,0.022291055,0.0176851,0.02606824,0.028967718,0.04534244,0.031074409,0.011538018,0.031226486,0.014248162,0.022187594,0.032159086,0.038890238,0.022464859,0.033210059,0.021104706,0.020028612,0.029981368,0.020920664,0.018447581,0.029936779,0.028207488,0.024229927,0.020927973,0.035411851,0.017611146,0.025600246,0.024211872,0.019423853,0.021777281,0.0142862,0.035599679,0.044958032,0.021686868,0.051400302,0.016760742],\"y\":[70822.1409746222,74489.10209722986,72505.78330485114,71639.8225760691,74408.49650554248,81599.0717874728,75190.34650575527,77310.3380612578,78569.21401063477,77836.82025709352,69722.87930504004,64547.339792512226,73568.30498964105,75241.82301026296,75858.32442867219,71553.09428961974,75860.50422914168,77696.94716230396,76764.70890286371,76864.30708483925,76551.2129148806,75563.00387434487,76022.48838180247,76833.14899944767,74263.72609204975,78786.35473530393,76564.7469558596,78453.43074554375,76668.85800310939,75609.12425197466,72459.37006308191,74894.75475357205,76425.8405958691,78479.27049694974,76015.28508114896,76446.26980848059,74089.1747563129,78981.05423748567,75444.39968375782,74347.84519168311,79121.6168371281,80507.24128383295,77989.05987562865,76515.32173136677,76415.01077790433,74205.2679969832,76869.21548289196,77968.00517218384,75399.28457244269,77026.6617801901,78482.34218505697,76171.1121930642,79202.05599236464,77751.58472833848,73632.28503251691,74841.95303575584,76816.14022824606,73268.9721104308,75289.57759194949,69948.80693872321,77142.94287738699,75205.05286501918,79138.8165424534,77256.43099366945,77766.81784912094,77339.52943900267,77086.81784712517,74253.23074733713,72940.9022299106,79793.40654870131,76808.0172184771,77167.51970604963,78139.05247897375,77385.2875219026,78976.86144230918,74593.36985572365,78254.8385754541,76443.6894279734,74400.59212827106,80081.62819446856,79455.17407326626,70956.43721727032,77235.1213420814,74295.43297455506,77542.02744911582,76844.23081106247,78065.20307463412,74079.8055659288,77673.04642017085,68932.8918919039,74993.62403745194,78237.66496815215,78883.65899950976,73729.65860420928,78642.3447345011,76211.00868453959,78166.28268874665,77887.1835331805,77138.95492707305,77544.22042170085,78863.91621415404,77335.08009533244,76711.48543114179,74354.47076581018,79092.32057487429,76021.90819319837,74884.31443629546,77493.57474530456,76493.70616662763,78102.49222585176,75341.46994137648,75285.82255418359,75480.66633411708,76973.94918958572,76603.01108983652,79289.68195233426,78225.01124304581,78543.18554097498,76241.21345345544,76975.77863640207,76081.89585402048,76943.50670707037,78318.70068480933,76850.38132730217,78160.572638203,76800.99561915602,75683.815809983,78074.31337755072,76384.68844477952,76849.96425134403,77689.66839896973,76964.83150043609,76821.54473495026,76024.83203354121,75967.60411558492,78415.48852822284,77837.55075553968,78779.20769312531,78854.95634418337,79421.9672930414,78389.9702010573,78033.03319842204,76017.24132496557,77773.69135446988,80178.69696094478,77754.97008514148,79845.06770903463,78867.69279509959,77640.16340316023,76811.53244987746,78833.56039677284,77510.78454514833,79001.00051356123,79133.4718642367,77908.24894666318,79023.65679853356,79328.10292065906,77913.73802573553,78126.62046396204,78616.27367089754,79022.75703224726,77239.73539874807,79431.07131765992,78447.582080027,78618.49631151857,79207.92004586686,78918.20391895095,79840.3850835047,77216.61304247189,76064.56344270849,78929.33411039205,75271.49498556997,79535.7593528128],\"type\":\"scatter\"}],                        {\"template\":{\"data\":{\"histogram2dcontour\":[{\"type\":\"histogram2dcontour\",\"colorbar\":{\"outlinewidth\":0,\"ticks\":\"\"},\"colorscale\":[[0.0,\"#0d0887\"],[0.1111111111111111,\"#46039f\"],[0.2222222222222222,\"#7201a8\"],[0.3333333333333333,\"#9c179e\"],[0.4444444444444444,\"#bd3786\"],[0.5555555555555556,\"#d8576b\"],[0.6666666666666666,\"#ed7953\"],[0.7777777777777778,\"#fb9f3a\"],[0.8888888888888888,\"#fdca26\"],[1.0,\"#f0f921\"]]}],\"choropleth\":[{\"type\":\"choropleth\",\"colorbar\":{\"outlinewidth\":0,\"ticks\":\"\"}}],\"histogram2d\":[{\"type\":\"histogram2d\",\"colorbar\":{\"outlinewidth\":0,\"ticks\":\"\"},\"colorscale\":[[0.0,\"#0d0887\"],[0.1111111111111111,\"#46039f\"],[0.2222222222222222,\"#7201a8\"],[0.3333333333333333,\"#9c179e\"],[0.4444444444444444,\"#bd3786\"],[0.5555555555555556,\"#d8576b\"],[0.6666666666666666,\"#ed7953\"],[0.7777777777777778,\"#fb9f3a\"],[0.8888888888888888,\"#fdca26\"],[1.0,\"#f0f921\"]]}],\"heatmap\":[{\"type\":\"heatmap\",\"colorbar\":{\"outlinewidth\":0,\"ticks\":\"\"},\"colorscale\":[[0.0,\"#0d0887\"],[0.1111111111111111,\"#46039f\"],[0.2222222222222222,\"#7201a8\"],[0.3333333333333333,\"#9c179e\"],[0.4444444444444444,\"#bd3786\"],[0.5555555555555556,\"#d8576b\"],[0.6666666666666666,\"#ed7953\"],[0.7777777777777778,\"#fb9f3a\"],[0.8888888888888888,\"#fdca26\"],[1.0,\"#f0f921\"]]}],\"heatmapgl\":[{\"type\":\"heatmapgl\",\"colorbar\":{\"outlinewidth\":0,\"ticks\":\"\"},\"colorscale\":[[0.0,\"#0d0887\"],[0.1111111111111111,\"#46039f\"],[0.2222222222222222,\"#7201a8\"],[0.3333333333333333,\"#9c179e\"],[0.4444444444444444,\"#bd3786\"],[0.5555555555555556,\"#d8576b\"],[0.6666666666666666,\"#ed7953\"],[0.7777777777777778,\"#fb9f3a\"],[0.8888888888888888,\"#fdca26\"],[1.0,\"#f0f921\"]]}],\"contourcarpet\":[{\"type\":\"contourcarpet\",\"colorbar\":{\"outlinewidth\":0,\"ticks\":\"\"}}],\"contour\":[{\"type\":\"contour\",\"colorbar\":{\"outlinewidth\":0,\"ticks\":\"\"},\"colorscale\":[[0.0,\"#0d0887\"],[0.1111111111111111,\"#46039f\"],[0.2222222222222222,\"#7201a8\"],[0.3333333333333333,\"#9c179e\"],[0.4444444444444444,\"#bd3786\"],[0.5555555555555556,\"#d8576b\"],[0.6666666666666666,\"#ed7953\"],[0.7777777777777778,\"#fb9f3a\"],[0.8888888888888888,\"#fdca26\"],[1.0,\"#f0f921\"]]}],\"surface\":[{\"type\":\"surface\",\"colorbar\":{\"outlinewidth\":0,\"ticks\":\"\"},\"colorscale\":[[0.0,\"#0d0887\"],[0.1111111111111111,\"#46039f\"],[0.2222222222222222,\"#7201a8\"],[0.3333333333333333,\"#9c179e\"],[0.4444444444444444,\"#bd3786\"],[0.5555555555555556,\"#d8576b\"],[0.6666666666666666,\"#ed7953\"],[0.7777777777777778,\"#fb9f3a\"],[0.8888888888888888,\"#fdca26\"],[1.0,\"#f0f921\"]]}],\"mesh3d\":[{\"type\":\"mesh3d\",\"colorbar\":{\"outlinewidth\":0,\"ticks\":\"\"}}],\"scatter\":[{\"fillpattern\":{\"fillmode\":\"overlay\",\"size\":10,\"solidity\":0.2},\"type\":\"scatter\"}],\"parcoords\":[{\"type\":\"parcoords\",\"line\":{\"colorbar\":{\"outlinewidth\":0,\"ticks\":\"\"}}}],\"scatterpolargl\":[{\"type\":\"scatterpolargl\",\"marker\":{\"colorbar\":{\"outlinewidth\":0,\"ticks\":\"\"}}}],\"bar\":[{\"error_x\":{\"color\":\"#2a3f5f\"},\"error_y\":{\"color\":\"#2a3f5f\"},\"marker\":{\"line\":{\"color\":\"#E5ECF6\",\"width\":0.5},\"pattern\":{\"fillmode\":\"overlay\",\"size\":10,\"solidity\":0.2}},\"type\":\"bar\"}],\"scattergeo\":[{\"type\":\"scattergeo\",\"marker\":{\"colorbar\":{\"outlinewidth\":0,\"ticks\":\"\"}}}],\"scatterpolar\":[{\"type\":\"scatterpolar\",\"marker\":{\"colorbar\":{\"outlinewidth\":0,\"ticks\":\"\"}}}],\"histogram\":[{\"marker\":{\"pattern\":{\"fillmode\":\"overlay\",\"size\":10,\"solidity\":0.2}},\"type\":\"histogram\"}],\"scattergl\":[{\"type\":\"scattergl\",\"marker\":{\"colorbar\":{\"outlinewidth\":0,\"ticks\":\"\"}}}],\"scatter3d\":[{\"type\":\"scatter3d\",\"line\":{\"colorbar\":{\"outlinewidth\":0,\"ticks\":\"\"}},\"marker\":{\"colorbar\":{\"outlinewidth\":0,\"ticks\":\"\"}}}],\"scattermapbox\":[{\"type\":\"scattermapbox\",\"marker\":{\"colorbar\":{\"outlinewidth\":0,\"ticks\":\"\"}}}],\"scatterternary\":[{\"type\":\"scatterternary\",\"marker\":{\"colorbar\":{\"outlinewidth\":0,\"ticks\":\"\"}}}],\"scattercarpet\":[{\"type\":\"scattercarpet\",\"marker\":{\"colorbar\":{\"outlinewidth\":0,\"ticks\":\"\"}}}],\"carpet\":[{\"aaxis\":{\"endlinecolor\":\"#2a3f5f\",\"gridcolor\":\"white\",\"linecolor\":\"white\",\"minorgridcolor\":\"white\",\"startlinecolor\":\"#2a3f5f\"},\"baxis\":{\"endlinecolor\":\"#2a3f5f\",\"gridcolor\":\"white\",\"linecolor\":\"white\",\"minorgridcolor\":\"white\",\"startlinecolor\":\"#2a3f5f\"},\"type\":\"carpet\"}],\"table\":[{\"cells\":{\"fill\":{\"color\":\"#EBF0F8\"},\"line\":{\"color\":\"white\"}},\"header\":{\"fill\":{\"color\":\"#C8D4E3\"},\"line\":{\"color\":\"white\"}},\"type\":\"table\"}],\"barpolar\":[{\"marker\":{\"line\":{\"color\":\"#E5ECF6\",\"width\":0.5},\"pattern\":{\"fillmode\":\"overlay\",\"size\":10,\"solidity\":0.2}},\"type\":\"barpolar\"}],\"pie\":[{\"automargin\":true,\"type\":\"pie\"}]},\"layout\":{\"autotypenumbers\":\"strict\",\"colorway\":[\"#636efa\",\"#EF553B\",\"#00cc96\",\"#ab63fa\",\"#FFA15A\",\"#19d3f3\",\"#FF6692\",\"#B6E880\",\"#FF97FF\",\"#FECB52\"],\"font\":{\"color\":\"#2a3f5f\"},\"hovermode\":\"closest\",\"hoverlabel\":{\"align\":\"left\"},\"paper_bgcolor\":\"white\",\"plot_bgcolor\":\"#E5ECF6\",\"polar\":{\"bgcolor\":\"#E5ECF6\",\"angularaxis\":{\"gridcolor\":\"white\",\"linecolor\":\"white\",\"ticks\":\"\"},\"radialaxis\":{\"gridcolor\":\"white\",\"linecolor\":\"white\",\"ticks\":\"\"}},\"ternary\":{\"bgcolor\":\"#E5ECF6\",\"aaxis\":{\"gridcolor\":\"white\",\"linecolor\":\"white\",\"ticks\":\"\"},\"baxis\":{\"gridcolor\":\"white\",\"linecolor\":\"white\",\"ticks\":\"\"},\"caxis\":{\"gridcolor\":\"white\",\"linecolor\":\"white\",\"ticks\":\"\"}},\"coloraxis\":{\"colorbar\":{\"outlinewidth\":0,\"ticks\":\"\"}},\"colorscale\":{\"sequential\":[[0.0,\"#0d0887\"],[0.1111111111111111,\"#46039f\"],[0.2222222222222222,\"#7201a8\"],[0.3333333333333333,\"#9c179e\"],[0.4444444444444444,\"#bd3786\"],[0.5555555555555556,\"#d8576b\"],[0.6666666666666666,\"#ed7953\"],[0.7777777777777778,\"#fb9f3a\"],[0.8888888888888888,\"#fdca26\"],[1.0,\"#f0f921\"]],\"sequentialminus\":[[0.0,\"#0d0887\"],[0.1111111111111111,\"#46039f\"],[0.2222222222222222,\"#7201a8\"],[0.3333333333333333,\"#9c179e\"],[0.4444444444444444,\"#bd3786\"],[0.5555555555555556,\"#d8576b\"],[0.6666666666666666,\"#ed7953\"],[0.7777777777777778,\"#fb9f3a\"],[0.8888888888888888,\"#fdca26\"],[1.0,\"#f0f921\"]],\"diverging\":[[0,\"#8e0152\"],[0.1,\"#c51b7d\"],[0.2,\"#de77ae\"],[0.3,\"#f1b6da\"],[0.4,\"#fde0ef\"],[0.5,\"#f7f7f7\"],[0.6,\"#e6f5d0\"],[0.7,\"#b8e186\"],[0.8,\"#7fbc41\"],[0.9,\"#4d9221\"],[1,\"#276419\"]]},\"xaxis\":{\"gridcolor\":\"white\",\"linecolor\":\"white\",\"ticks\":\"\",\"title\":{\"standoff\":15},\"zerolinecolor\":\"white\",\"automargin\":true,\"zerolinewidth\":2},\"yaxis\":{\"gridcolor\":\"white\",\"linecolor\":\"white\",\"ticks\":\"\",\"title\":{\"standoff\":15},\"zerolinecolor\":\"white\",\"automargin\":true,\"zerolinewidth\":2},\"scene\":{\"xaxis\":{\"backgroundcolor\":\"#E5ECF6\",\"gridcolor\":\"white\",\"linecolor\":\"white\",\"showbackground\":true,\"ticks\":\"\",\"zerolinecolor\":\"white\",\"gridwidth\":2},\"yaxis\":{\"backgroundcolor\":\"#E5ECF6\",\"gridcolor\":\"white\",\"linecolor\":\"white\",\"showbackground\":true,\"ticks\":\"\",\"zerolinecolor\":\"white\",\"gridwidth\":2},\"zaxis\":{\"backgroundcolor\":\"#E5ECF6\",\"gridcolor\":\"white\",\"linecolor\":\"white\",\"showbackground\":true,\"ticks\":\"\",\"zerolinecolor\":\"white\",\"gridwidth\":2}},\"shapedefaults\":{\"line\":{\"color\":\"#2a3f5f\"}},\"annotationdefaults\":{\"arrowcolor\":\"#2a3f5f\",\"arrowhead\":0,\"arrowwidth\":1},\"geo\":{\"bgcolor\":\"white\",\"landcolor\":\"#E5ECF6\",\"subunitcolor\":\"white\",\"showland\":true,\"showlakes\":true,\"lakecolor\":\"white\"},\"title\":{\"x\":0.05},\"mapbox\":{\"style\":\"light\"}}},\"xaxis\":{\"anchor\":\"y\",\"domain\":[0.0,1.0],\"title\":{\"text\":\"Graduate Unemployment Rate\"},\"showline\":true,\"showgrid\":false,\"linecolor\":\"black\"},\"yaxis\":{\"anchor\":\"x\",\"domain\":[0.0,1.0],\"title\":{\"text\":\"Graduate Median Salary\"},\"showline\":true,\"showgrid\":false,\"linecolor\":\"black\"},\"legend\":{\"tracegroupgap\":0},\"margin\":{\"t\":60},\"title\":{\"font\":{\"size\":16},\"text\":\"Scatter Plot\",\"y\":0.9,\"x\":0.5,\"xanchor\":\"center\",\"yanchor\":\"top\"},\"plot_bgcolor\":\"rgba(255,255,255,1)\",\"width\":600,\"height\":400,\"showlegend\":false},                        {\"responsive\": true}                    ).then(function(){\n",
              "                            \n",
              "var gd = document.getElementById('86120bd8-aed2-4108-9e04-97ff70649e7b');\n",
              "var x = new MutationObserver(function (mutations, observer) {{\n",
              "        var display = window.getComputedStyle(gd).display;\n",
              "        if (!display || display === 'none') {{\n",
              "            console.log([gd, 'removed!']);\n",
              "            Plotly.purge(gd);\n",
              "            observer.disconnect();\n",
              "        }}\n",
              "}});\n",
              "\n",
              "// Listen for the removal of the full notebook cells\n",
              "var notebookContainer = gd.closest('#notebook-container');\n",
              "if (notebookContainer) {{\n",
              "    x.observe(notebookContainer, {childList: true});\n",
              "}}\n",
              "\n",
              "// Listen for the clearing of the current output cell\n",
              "var outputEl = gd.closest('.output');\n",
              "if (outputEl) {{\n",
              "    x.observe(outputEl, {childList: true});\n",
              "}}\n",
              "\n",
              "                        })                };                            </script>        </div>\n",
              "</body>\n",
              "</html>"
            ]
          },
          "metadata": {}
        }
      ],
      "source": [
        "# Calculate the LSRL and add the regression line to the scatterplot.\n",
        "# Extract the variables from the dataframe\n",
        "# STUDENTS:\n",
        "# Replace ... with the explantory variable name\n",
        "X = df['Grad_unemployment_rate']\n",
        "# Replace ... with the response variable name\n",
        "Y = df['Grad_median']\n",
        "\n",
        "# Add a constant to the explanatory variable for the regression model.\n",
        "# This forces Statsmodels to calculate the y-intercept.\n",
        "# STUDENTS: No Changes\n",
        "X_with_const = sm.add_constant(X)\n",
        "\n",
        "# Fit the linear regression model (calculate slope and y-intercept)\n",
        "# STUDENTS: do not change anything in this block of code.\n",
        "model = sm.OLS(Y, X_with_const).fit()\n",
        "\n",
        "# If we repeatedly run this section of code then a new regression line is\n",
        "# added each run, unless we recreate the scatterplot each iteration.\n",
        "# STUDENTS: do not change anything in this block of code.\n",
        "scatter_plot = px.scatter(df,\n",
        "                 x='Grad_unemployment_rate', #explanatory variable name\n",
        "                 y='Grad_median', #response variable name\n",
        "                 labels={'Grad_unemployment_rate': 'Graduate Unemployment Rate', #updates axis labels\n",
        "                         'Grad_median': 'Graduate Median Salary'})\n",
        "\n",
        "# Updating layout\n",
        "# STUDENTS: do not change anything in this block of code.\n",
        "scatter_plot.update_layout(\n",
        "    plot_bgcolor='rgba(255,255,255,1)',        # Sets the background color of the plot area to white with full opacity.\n",
        "    xaxis=dict(\n",
        "        showline=True,                         # Displays a line on the x-axis.\n",
        "        showgrid=False,                        # Hides the grid lines on the x-axis.\n",
        "        linecolor='black'                      # Sets the color of the x-axis line to black.\n",
        "    ),\n",
        "    yaxis=dict(\n",
        "        showline=True,                         # Displays a line on the y-axis.\n",
        "        showgrid=False,                        # Hides the grid lines on the y-axis.\n",
        "        linecolor='black'                      # Sets the color of the y-axis line to black.\n",
        "    ),\n",
        "    title={\n",
        "        'text': 'Scatter Plot',   # Sets the title text.\n",
        "        'y': 0.9,                              # Positions the title 90% of the way up the plot.\n",
        "        'x': 0.5,                              # Centers the title horizontally.\n",
        "        'xanchor': 'center',                   # Anchors the title at its center on the x-axis.\n",
        "        'yanchor': 'top',                      # Anchors the title at the top on the y-axis.\n",
        "        'font': dict(\n",
        "            size=16                            # Sets the title font size to 16 (smaller than default).\n",
        "        ),\n",
        "    },\n",
        "    width=600,                                 # Sets the width of the plot.\n",
        "    height=400,                                # Sets the height of the plot for portrait mode.\n",
        "    showlegend=False                           # Disables the legend (key) display\n",
        ")\n",
        "\n",
        "# Add the regression line to the scatterplot\n",
        "scatter_plot.add_scatter(x=X, y=model.predict(X_with_const),\n",
        "                         mode='lines', name='Regression Line')\n",
        "\n",
        "# Show the plot\n",
        "scatter_plot.show()"
      ]
    },
    {
      "cell_type": "markdown",
      "source": [
        "**3.2)** Print the coefficients (Intercept and Slope)\n",
        "\n"
      ],
      "metadata": {
        "id": "nax0a4z8XMnM"
      }
    },
    {
      "cell_type": "code",
      "execution_count": 37,
      "metadata": {
        "id": "R32idO3eJZlO",
        "outputId": "b1068f3d-c49b-45e1-9436-58fd4ba0e1a9",
        "colab": {
          "base_uri": "https://localhost:8080/",
          "height": 147
        }
      },
      "outputs": [
        {
          "output_type": "execute_result",
          "data": {
            "text/plain": [
              "const                      81599.071787\n",
              "Grad_unemployment_rate   -123103.883746\n",
              "Name: Coefficients, dtype: float64"
            ],
            "text/html": [
              "<div>\n",
              "<style scoped>\n",
              "    .dataframe tbody tr th:only-of-type {\n",
              "        vertical-align: middle;\n",
              "    }\n",
              "\n",
              "    .dataframe tbody tr th {\n",
              "        vertical-align: top;\n",
              "    }\n",
              "\n",
              "    .dataframe thead th {\n",
              "        text-align: right;\n",
              "    }\n",
              "</style>\n",
              "<table border=\"1\" class=\"dataframe\">\n",
              "  <thead>\n",
              "    <tr style=\"text-align: right;\">\n",
              "      <th></th>\n",
              "      <th>Coefficients</th>\n",
              "    </tr>\n",
              "  </thead>\n",
              "  <tbody>\n",
              "    <tr>\n",
              "      <th>const</th>\n",
              "      <td>81599.071787</td>\n",
              "    </tr>\n",
              "    <tr>\n",
              "      <th>Grad_unemployment_rate</th>\n",
              "      <td>-123103.883746</td>\n",
              "    </tr>\n",
              "  </tbody>\n",
              "</table>\n",
              "</div><br><label><b>dtype:</b> float64</label>"
            ]
          },
          "metadata": {},
          "execution_count": 37
        }
      ],
      "source": [
        "# Print the coefficients (Intercept and Slope)\n",
        "\n",
        "# The coefficients were calculated when the regression line was added to the\n",
        "# scatterplot and stored in 'model'. This assigns the values of the y-intercept\n",
        "# and slope to 'coefficients', then prints the values.\n",
        "coefficients = model.params\n",
        "coefficients.name='Coefficients'\n",
        "coefficients\n"
      ]
    },
    {
      "cell_type": "markdown",
      "source": [
        "**3.3)** Write the equation of the line that predicts waist circumference from BMI. To type 𝑦̂ you can type “y-hat” or “predicted y”. Do NOT round.\n",
        "\n"
      ],
      "metadata": {
        "id": "vUqyqdVkpWXh"
      }
    },
    {
      "cell_type": "markdown",
      "source": [
        "# ..."
      ],
      "metadata": {
        "id": "xB3Zd_wgpeCT"
      }
    },
    {
      "cell_type": "markdown",
      "metadata": {
        "id": "BdkQcF691E74"
      },
      "source": [
        "# **Question 4**\n",
        "### Slope\n",
        "Interpret the slope\n"
      ]
    },
    {
      "cell_type": "markdown",
      "source": [
        "# ..."
      ],
      "metadata": {
        "id": "Fe3k06NdqCck"
      }
    },
    {
      "cell_type": "markdown",
      "metadata": {
        "id": "A2uHwoKa0a1Y"
      },
      "source": [
        "##**QUESTION 5**\n",
        "\n",
        "Interpret the y-intercept of the least squares regression line in the context of this study. State whether the interpretation is reasonable."
      ]
    },
    {
      "cell_type": "markdown",
      "source": [
        "# ..."
      ],
      "metadata": {
        "id": "8DudqX253sIt"
      }
    },
    {
      "cell_type": "markdown",
      "metadata": {
        "id": "rCJ442hvJZlO"
      },
      "source": [
        "# **Question 6**\n",
        "### Prediction\n",
        "\n",
        "The values in the table below show the median salary for graduates (A-L) and non-graduates (M-Z) for Criminology majors.\n",
        "\n",
        "Show work to predict the value of your dependent variable for Criminology majors using the actual value of the independent variable shown in the table below. Round to two (2) decimal places.\n",
        "\n",
        "| Last Name      | Independent Variable (x)                |\n",
        "|----------------|----------------------------------------|\n",
        "| **A-L**        | `Grad_unemployment_rate` = 0.045299817 |\n",
        "| **M-Z**        | `Nongrad_unemployment_rate` = 0.056334794 |\n"
      ]
    },
    {
      "cell_type": "markdown",
      "source": [
        "# ..."
      ],
      "metadata": {
        "id": "aRdqToAPr2h1"
      }
    },
    {
      "cell_type": "markdown",
      "source": [
        "# **Question 7**\n",
        "### Residual\n",
        "**7.1)** Look up the actual value of your dependent variable for the value of the independent variable above. We know it is for Criminology majors, but be sure to type in the value of the independent variable listed in Question 6 in the code below."
      ],
      "metadata": {
        "id": "iimd7jPr6o_G"
      }
    },
    {
      "cell_type": "code",
      "execution_count": 41,
      "metadata": {
        "id": "D9yVbei2JZlO",
        "colab": {
          "base_uri": "https://localhost:8080/"
        },
        "outputId": "c889ce31-a568-4108-a8f9-5cc7593ddf5d"
      },
      "outputs": [
        {
          "output_type": "stream",
          "name": "stdout",
          "text": [
            "The actual value of the dependent variable is: $65000\n"
          ]
        }
      ],
      "source": [
        "# Filter the datafram to find the row where your independent variable\n",
        "#   equals the value from the table in Question 6.\n",
        "\n",
        "# STUDENTS:\n",
        "# Replace the 1st ... with the explantory variable name\n",
        "# Replace the 2nd ... with the value from the table in Question 6\n",
        "# Replace the 3rd ... with the response variable name\n",
        "actual_dependent = df[df['Grad_unemployment_rate']== 0.045299817]['Grad_median']\n",
        "actual = int(actual_dependent.values[0])\n",
        "print(f\"The actual value of the dependent variable is: ${actual}\")\n"
      ]
    },
    {
      "cell_type": "markdown",
      "source": [
        "**7.2)** Compare the predicted value of your dependent variable from Question 6 to the actual value from 7.1. Use the actual name of your dependent variable, as modeled in activity.\n"
      ],
      "metadata": {
        "id": "kkZ4dF--99LC"
      }
    },
    {
      "cell_type": "markdown",
      "source": [
        "# ..."
      ],
      "metadata": {
        "id": "i7tnZsWwCHul"
      }
    },
    {
      "cell_type": "markdown",
      "source": [
        "## **QUESTION 8**\n",
        "\n",
        "Generate a paragraph of at least 100 words to address one of the following questions. That is, answer only 8a or 8b, but not both.\n",
        "\n",
        "**8a)** Discuss how analyzing your chosen data set using statistical methods could help you become better prepared for future courses in your major?\n",
        "\n",
        "# ...\n",
        "\n",
        "--OR--\n",
        "\n",
        "**8b)** Discuss how analyzing your chosen data set using statistical methods could be instrumental in becoming better prepared for your future career?\n",
        "\n",
        "# ...\n"
      ],
      "metadata": {
        "id": "A4rsfgbp6r6H"
      }
    },
    {
      "cell_type": "markdown",
      "source": [
        "<br><br>\n",
        "### Once you are done and ready to submit, follow the instructions below to save as a PDF and submit to GradeScope.\n",
        "\n",
        "### Save as PDF\n",
        "1. Run all code one last time and make sure your graphs can be seen.\n",
        "Note: You do not have to select Print Preview. From the notebook,\n",
        "2. File -> Print (or ctrl-p/cmnd-p)\n",
        "3. Set the layout to Landscape and change destination to PDF (don't save, yet)\n",
        "4. Scroll through preview to make sure you can see your graphs entirely. If not, click Cancel. Make the browser window narrower. Go back to step 2.\n",
        "6. Repeat steps 2-4 until you can see your graphs completely. But do not make them too narrow.\n",
        "8. Save the PDF, taking note of where it is saved.\n",
        "\n",
        "### Submit to GradeScope\n",
        "**Watch the \"GradeScope Submission\" video for help.**\n",
        "1. Login to the Canvas course\n",
        "2. Click on GradeScope in the course navigation.\n",
        "3. If you see multiple courses in GradeScope, click on the STAT 108 course\n",
        "4. Click on the name of the assignment that matches your data set\n",
        "5. Click on \"Submit Work\", select PDF\n",
        "6. Select the PDF you just created\n",
        "7. You need to tell GradeScope which page each problem answer/output is on. You should see a list of problems on the left, and a display of pages (thumbnails) on the right. Assign pages to questions by clicking on the question number on the left, then clicking on all pages that question is on.\n",
        "8. After ALL questions have been assigned to their respective page(s), click \"Submit\"\n",
        "\n",
        "#### **Still need help? Your STAT 108 team is here to help. Take your laptop to office hours.**\n"
      ],
      "metadata": {
        "id": "KHSYrvqh66V6"
      }
    }
  ],
  "metadata": {
    "colab": {
      "provenance": []
    },
    "kernelspec": {
      "display_name": "Python 3",
      "name": "python3"
    },
    "language_info": {
      "codemirror_mode": {
        "name": "ipython",
        "version": 3
      },
      "file_extension": ".py",
      "mimetype": "text/x-python",
      "name": "python",
      "nbconvert_exporter": "python",
      "pygments_lexer": "ipython3",
      "version": "3.11.4"
    }
  },
  "nbformat": 4,
  "nbformat_minor": 0
}